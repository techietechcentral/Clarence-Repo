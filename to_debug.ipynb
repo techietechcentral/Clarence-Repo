{
 "cells": [
  {
   "cell_type": "code",
   "execution_count": 1,
   "metadata": {},
   "outputs": [
    {
     "name": "stdout",
     "output_type": "stream",
     "text": [
      "This is just an example\n",
      "1\n",
      "This is just an example\n",
      "2\n",
      "This is just an example\n",
      "3\n",
      "This is just an example\n",
      "4\n",
      "This is just an example\n",
      "5\n"
     ]
    }
   ],
   "source": [
    "def dummy_fun(x):\n",
    "    print('This is just an example')\n",
    "    x = x + 1\n",
    "    return x\n",
    "\n",
    "x = 0\n",
    "for i in range(5):\n",
    "    x = dummy_fun(x)\n",
    "    print(x)"
   ]
  }
 ],
 "metadata": {
  "kernelspec": {
   "display_name": "secondtest_env",
   "language": "python",
   "name": "python3"
  },
  "language_info": {
   "codemirror_mode": {
    "name": "ipython",
    "version": 3
   },
   "file_extension": ".py",
   "mimetype": "text/x-python",
   "name": "python",
   "nbconvert_exporter": "python",
   "pygments_lexer": "ipython3",
   "version": "3.10.6"
  },
  "orig_nbformat": 4
 },
 "nbformat": 4,
 "nbformat_minor": 2
}
