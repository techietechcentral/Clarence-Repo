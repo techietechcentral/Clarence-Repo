{
 "cells": [
  {
   "cell_type": "code",
   "execution_count": 1,
   "metadata": {},
   "outputs": [],
   "source": [
    "while True:\n",
    "    guess = input('Please, enter a single alphabetical character :')\n",
    "    if guess.isalpha() == True and len(guess) == 1 and guess != int:\n",
    "        break\n",
    "    else:\n",
    "        print(\"Invalid letter. Please, enter a single alphabetical character.\")"
   ]
  }
 ],
 "metadata": {
  "kernelspec": {
   "display_name": "secondtest_env",
   "language": "python",
   "name": "python3"
  },
  "language_info": {
   "codemirror_mode": {
    "name": "ipython",
    "version": 3
   },
   "file_extension": ".py",
   "mimetype": "text/x-python",
   "name": "python",
   "nbconvert_exporter": "python",
   "pygments_lexer": "ipython3",
   "version": "3.10.6"
  },
  "orig_nbformat": 4,
  "vscode": {
   "interpreter": {
    "hash": "f7e737508e320864f9730b912236e997794d80e5da8833e77c0e26b9118fc4e5"
   }
  }
 },
 "nbformat": 4,
 "nbformat_minor": 2
}
