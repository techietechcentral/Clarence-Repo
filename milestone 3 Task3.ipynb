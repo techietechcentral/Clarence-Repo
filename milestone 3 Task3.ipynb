{
 "cells": [
  {
   "attachments": {},
   "cell_type": "markdown",
   "metadata": {},
   "source": [
    "This should take you 6 hours\n",
    "##### Good job so far! But your code probably doesn't look great. It's hard to tell which lines do what.\n",
    "\n",
    "##### Create 2 functions, check_guess and ask_for_input functions which contain the code for those two things.\n",
    "\n",
    "##### The check_guess function will take the guessed letter as an argument and check if the letter is in the word.\n",
    "\n",
    "-Step 1: Define a function called check_guess. pass in the guess as a parameter for the function. Write the code for the following steps in the body of this function.\n",
    "\n",
    "-Step 2: Convert the guess into lower case.\n",
    "\n",
    "-Step 3. Move the code that you wrote to check if the guess is in the word into this function block.\n",
    "\n",
    "The ask_for_input.\n",
    "\n",
    "-Step 1. Define a function called ask_for_input.\n",
    "\n",
    "-Step 2. Move the code that you wrote in the Iteratively check if the input is a valid guess task into this function block.\n",
    "\n",
    "-Step 3. Outside the while loop, but within this function, call the check_guess function to check if the guess is in the word. Don't forget to pass in the guess as an argument to the method.\n",
    "\n",
    "-Step 4. Outside the function, call the ask_for_input function to test your code."
   ]
  },
  {
   "cell_type": "code",
   "execution_count": 20,
   "metadata": {},
   "outputs": [
    {
     "name": "stdout",
     "output_type": "stream",
     "text": [
      "horse is the radom word in question\n",
      "Sorry, i is not in horse. Try again.\n"
     ]
    }
   ],
   "source": [
    "'''Rev 3.4 - this function Checks whether the letter guessed by the user is in the secret word that was \n",
    "randomly chosen by the computer (Milestone 3 task 2). \n",
    "Capital Letters have now been introduced as valid inputs in this version'''\n",
    "\n",
    "mylist = [\"blue\", \"car\", 'horse', 'titanium', 'composite']\n",
    "\n",
    "def check_guess(): \n",
    "    import random\n",
    "    random.choice(mylist)\n",
    "    word = random.choice(mylist)\n",
    "    print(f'{word} is the radom word in question')\n",
    "\n",
    "    guess = (input('Please, enter a single alphabetical character: ')).lower()\n",
    "    while guess == guess in word:\n",
    "        if len(guess) == 0:\n",
    "            guess = input('Please, enter a single alphabetical character: ').lower()\n",
    "        elif (len(guess) == 1) and guess.isalpha() == True:\n",
    "            print(f'Good guess! {guess} is in {word}.')\n",
    "            break    # this controls the loop depending on indent\n",
    "    else:\n",
    "        print(f'Sorry, {guess} is not in {word}. Try again.')\n",
    "check_guess()"
   ]
  },
  {
   "attachments": {},
   "cell_type": "markdown",
   "metadata": {},
   "source": [
    "### milestone 3 task 3"
   ]
  },
  {
   "cell_type": "code",
   "execution_count": 52,
   "metadata": {},
   "outputs": [
    {
     "name": "stdout",
     "output_type": "stream",
     "text": [
      "composite is the radom word in question\n",
      "Good guess! o is in composite.\n",
      "correct! valid input\n"
     ]
    }
   ],
   "source": [
    "\n",
    "'''Rev 3.5 - this function Checks whether the letter guessed by the user is in the secret word that was \n",
    "randomly chosen by the computer (Milestone 3 task 2). \n",
    "Capital Letters have now been introduced as valid inputs in this version'''\n",
    "\n",
    "\n",
    "mylist = [\"blue\", \"car\", 'horse', 'titanium', 'composite']\n",
    "\n",
    "def ask_for_input():\n",
    "    while True:\n",
    "        guess = (input('Please, enter a single alphabetical character :')).lower()\n",
    "        if guess.isalpha() == True and len(guess) == 1 and guess != int:\n",
    "            print(\"correct! valid input\")   \n",
    "            break\n",
    "        else:\n",
    "            print(\"Invalid letter. Please, enter a single alphabetical character.\")\n",
    "check_guess()\n",
    "ask_for_input()\n"
   ]
  },
  {
   "cell_type": "code",
   "execution_count": 51,
   "metadata": {},
   "outputs": [
    {
     "name": "stdout",
     "output_type": "stream",
     "text": [
      "correct! valid input\n"
     ]
    }
   ],
   "source": [
    "ask_for_input()\n"
   ]
  }
 ],
 "metadata": {
  "kernelspec": {
   "display_name": "secondtest_env",
   "language": "python",
   "name": "python3"
  },
  "language_info": {
   "codemirror_mode": {
    "name": "ipython",
    "version": 3
   },
   "file_extension": ".py",
   "mimetype": "text/x-python",
   "name": "python",
   "nbconvert_exporter": "python",
   "pygments_lexer": "ipython3",
   "version": "3.10.6"
  },
  "orig_nbformat": 4,
  "vscode": {
   "interpreter": {
    "hash": "f7e737508e320864f9730b912236e997794d80e5da8833e77c0e26b9118fc4e5"
   }
  }
 },
 "nbformat": 4,
 "nbformat_minor": 2
}
