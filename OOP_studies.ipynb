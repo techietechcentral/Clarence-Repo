{
 "cells": [
  {
   "cell_type": "code",
   "execution_count": 1,
   "metadata": {},
   "outputs": [
    {
     "name": "stdout",
     "output_type": "stream",
     "text": [
      "pat 1234\n"
     ]
    }
   ],
   "source": [
    "user = input(\"Username:\")\n",
    "password = input (\"Password: \")\n",
    "print(user, password)"
   ]
  },
  {
   "cell_type": "code",
   "execution_count": 3,
   "metadata": {},
   "outputs": [
    {
     "name": "stdout",
     "output_type": "stream",
     "text": [
      "pat 1234\n"
     ]
    }
   ],
   "source": [
    "from getpass import getpass\n",
    "user = input(\"Username:\")\n",
    "password = getpass (\"Password: \")\n",
    "print(user, password)"
   ]
  },
  {
   "attachments": {},
   "cell_type": "markdown",
   "metadata": {},
   "source": [
    "> - **Object-oriented programming (OOP)** is a programming paradigm that is based on the concept of objects. \n",
    "> - In OOP, data and the functions that manipulate that data are organized into objects, which are instances of classes. \n",
    "> - **A class** is a blueprint or template for creating objects that defines their ***attributes (data)*** and ***methods (functions)***.\n",
    "\n",
    "- Let's consider an example to better understand the concept of OOP. \n",
    "- Let's say we are building a program for a **car** rental company. We can represent each car in the system as an object, which has ***properties*** like **make, model, year, color, and rental status.** \n",
    "- We can create a class called \"Car\" that defines these properties and methods that allow us to interact with the car objects. Here is an example class definition:"
   ]
  },
  {
   "cell_type": "code",
   "execution_count": 6,
   "metadata": {},
   "outputs": [],
   "source": [
    "class Car:\n",
    "    def __init__(self, make, model, year, color):\n",
    "        self.make = make\n",
    "        self.model = model\n",
    "        self.year = year\n",
    "        self.color = color\n",
    "        self.is_rented = False\n",
    "    \n",
    "    def rent(self):\n",
    "        if self.is_rented:\n",
    "            print(\"Sorry, this car is already rented.\")\n",
    "        else:\n",
    "            self.is_rented = True\n",
    "            print(\"You have rented the\", self.make, self.model)\n",
    "    \n",
    "    def return_car(self):\n",
    "        if not self.is_rented:\n",
    "            print(\"This car is not rented.\")\n",
    "        else:\n",
    "            self.is_rented = False\n",
    "            print(\"You have returned the\", self.make, self.model)"
   ]
  },
  {
   "attachments": {},
   "cell_type": "markdown",
   "metadata": {},
   "source": [
    "In this class definition, the **__init__** method is the **constructor**, which is called when a new car object is created. It sets the initial values for the car's properties, including the rental status, which is initially set to False.\n",
    "\n",
    "The rent method allows a customer to rent the car. It checks the rental status to make sure the car is available for rent, and if it is, it sets the rental status to True.\n",
    "\n",
    "The return_car method allows a customer to return the car. It checks the rental status to make sure the car is rented, and if it is, it sets the rental status back to False.\n",
    "\n",
    "Now, let's create some car objects using the Car class:"
   ]
  },
  {
   "cell_type": "code",
   "execution_count": 8,
   "metadata": {},
   "outputs": [],
   "source": [
    "car1 = Car(\"Toyota\", \"Camry\", 2019, \"blue\")\n",
    "car2 = Car(\"Honda\", \"Civic\", 2018, \"red\")"
   ]
  },
  {
   "attachments": {},
   "cell_type": "markdown",
   "metadata": {},
   "source": [
    "- We can interact with these car objects by calling their methods:"
   ]
  },
  {
   "cell_type": "code",
   "execution_count": 9,
   "metadata": {},
   "outputs": [
    {
     "name": "stdout",
     "output_type": "stream",
     "text": [
      "You have rented the Toyota Camry\n",
      "You have returned the Toyota Camry\n",
      "You have rented the Honda Civic\n",
      "You have rented the Toyota Camry\n"
     ]
    }
   ],
   "source": [
    "car1.rent()  # You have rented the Toyota Camry\n",
    "car1.return_car()  # You have returned the Toyota Camry\n",
    "car2.rent()  # You have rented the Honda Civic\n",
    "car1.rent()  # Sorry, this car is already rented."
   ]
  },
  {
   "attachments": {},
   "cell_type": "markdown",
   "metadata": {},
   "source": [
    "- In this way, we can create and manipulate car objects using the Car class, which encapsulates the car data and the functions that operate on that data. This is the essence of object-oriented programming: creating objects that represent real-world entities and defining classes that provide a blueprint for those objects."
   ]
  },
  {
   "attachments": {},
   "cell_type": "markdown",
   "metadata": {},
   "source": [
    "##### Example 2\n"
   ]
  },
  {
   "cell_type": "code",
   "execution_count": null,
   "metadata": {},
   "outputs": [],
   "source": [
    "class Person:\n",
    "    def __init__(self, name, age):\n",
    "        self.name = name            # instance variables self.name and self.age\n",
    "        self.age = age              # instance variables self.age\n",
    "        \n",
    "    def introduce(self):\n",
    "        print(f\"My name is {self.name} and I'm {self.age} years old.\")\n",
    "\n",
    "# Create an instance of the Person class\n",
    "person1 = Person()\n",
    "person1 = Person(\"John\", 30)\n",
    "\n",
    "# Call the introduce method on the person1 instance\n",
    "person1.introduce()"
   ]
  },
  {
   "attachments": {},
   "cell_type": "markdown",
   "metadata": {},
   "source": [
    "> - In this example, the Person class has a constructor method __init__ that takes two parameters, name and age, and assigns them as instance variables self.name and self.age. The Person class also has a method introduce that prints out the name and age of the person.\n",
    "\n",
    "> - An instance of the Person class is created by calling the class with the parameters for the constructor method, in this case person1 = Person(\"John\", 30). This creates a new Person object with name set to \"John\" and age set to 30.\n",
    "\n",
    "> - Finally, the introduce method is called on the person1 instance with person1.introduce(), which prints out \"My name is John and I'm 30 years old.\""
   ]
  }
 ],
 "metadata": {
  "kernelspec": {
   "display_name": "secondtest_env",
   "language": "python",
   "name": "python3"
  },
  "language_info": {
   "codemirror_mode": {
    "name": "ipython",
    "version": 3
   },
   "file_extension": ".py",
   "mimetype": "text/x-python",
   "name": "python",
   "nbconvert_exporter": "python",
   "pygments_lexer": "ipython3",
   "version": "3.10.6"
  },
  "orig_nbformat": 4
 },
 "nbformat": 4,
 "nbformat_minor": 2
}
