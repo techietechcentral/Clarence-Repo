{
 "cells": [
  {
   "attachments": {},
   "cell_type": "markdown",
   "metadata": {},
   "source": [
    "### Functions can be used in various way\n",
    "### 1. Functions as a collection of code\n",
    "### . Functions as a mapping tool"
   ]
  },
  {
   "cell_type": "code",
   "execution_count": 134,
   "metadata": {},
   "outputs": [],
   "source": [
    "# function definition\n",
    "def function_name (param1, param2 = 1):\n",
    "    '''\n",
    "    DOCSTRING: explains function\n",
    "    INPUT: Name (str)\n",
    "    OUTPUT: Hello Name (str)\n",
    "    '''\n",
    "    # add code to run\n",
    "    return(\"Hello \" + param1)\n",
    "    "
   ]
  },
  {
   "cell_type": "code",
   "execution_count": 135,
   "metadata": {},
   "outputs": [
    {
     "data": {
      "text/plain": [
       "'Hello zian'"
      ]
     },
     "execution_count": 135,
     "metadata": {},
     "output_type": "execute_result"
    }
   ],
   "source": [
    "function_name(\"zian\")"
   ]
  },
  {
   "cell_type": "code",
   "execution_count": 136,
   "metadata": {},
   "outputs": [
    {
     "name": "stdout",
     "output_type": "stream",
     "text": [
      "Help on function function_name in module __main__:\n",
      "\n",
      "function_name(param1, param2=1)\n",
      "    DOCSTRING: explains function\n",
      "    INPUT: Name (str)\n",
      "    OUTPUT: Hello Name (str)\n",
      "\n"
     ]
    }
   ],
   "source": [
    "help(function_name)"
   ]
  },
  {
   "cell_type": "code",
   "execution_count": 137,
   "metadata": {},
   "outputs": [],
   "source": [
    "def say_hello():\n",
    "    print('Hello')\n",
    "    print('World')\n",
    "    return 'Good Bye'"
   ]
  },
  {
   "cell_type": "markdown",
   "metadata": {},
   "source": [
    "- Example: Calling the Function Above without parenthesis"
   ]
  },
  {
   "cell_type": "code",
   "execution_count": 138,
   "metadata": {},
   "outputs": [
    {
     "data": {
      "text/plain": [
       "<function __main__.say_hello()>"
      ]
     },
     "execution_count": 138,
     "metadata": {},
     "output_type": "execute_result"
    }
   ],
   "source": [
    "say_hello ## the is a function ##"
   ]
  },
  {
   "cell_type": "markdown",
   "metadata": {},
   "source": [
    "- Example: Calling the Function Above with parenthesis.\n",
    "### Function Call"
   ]
  },
  {
   "cell_type": "code",
   "execution_count": 139,
   "metadata": {},
   "outputs": [
    {
     "name": "stdout",
     "output_type": "stream",
     "text": [
      "Hello\n",
      "World\n"
     ]
    },
    {
     "data": {
      "text/plain": [
       "'Good Bye'"
      ]
     },
     "execution_count": 139,
     "metadata": {},
     "output_type": "execute_result"
    }
   ],
   "source": [
    "say_hello() ## function call##"
   ]
  },
  {
   "cell_type": "code",
   "execution_count": 140,
   "metadata": {},
   "outputs": [],
   "source": [
    "def up_arrows():\n",
    "    print(\"         *        \"*3)\n",
    "    print(\"        * *       \"*2)\n",
    "    print(\"       *   *      \"*3)\n",
    "    print(\"      *     *     \"*2)\n",
    "    print(\"     *       *    \"*3)\n",
    "    print(\"    *         *   \"*2)\n",
    "    print(\"   *           *  \"*3)\n",
    "    print(\"  *             * \"*2)\n",
    "    print(\" *****       *****\"*3)\n",
    "    print(\"     *       *    \"*2)  \n",
    "    print(\"     *       *    \"*3)\n",
    "    print(\"     *       *    \"*2)\n",
    "    print(\"     *       *    \"*3)\n",
    "    print(\"     *       *    \"*2)\n",
    "    print(\"     *       *    \"*3)\n",
    "    print(\"     *********    \"*3)\n",
    "    return 'Good job'"
   ]
  },
  {
   "cell_type": "markdown",
   "metadata": {},
   "source": [
    "- function call"
   ]
  },
  {
   "cell_type": "code",
   "execution_count": 141,
   "metadata": {},
   "outputs": [
    {
     "name": "stdout",
     "output_type": "stream",
     "text": [
      "         *                 *                 *        \n",
      "        * *               * *       \n",
      "       *   *             *   *             *   *      \n",
      "      *     *           *     *     \n",
      "     *       *         *       *         *       *    \n",
      "    *         *       *         *   \n",
      "   *           *     *           *     *           *  \n",
      "  *             *   *             * \n",
      " *****       ***** *****       ***** *****       *****\n",
      "     *       *         *       *    \n",
      "     *       *         *       *         *       *    \n",
      "     *       *         *       *    \n",
      "     *       *         *       *         *       *    \n",
      "     *       *         *       *    \n",
      "     *       *         *       *         *       *    \n",
      "     *********         *********         *********    \n"
     ]
    },
    {
     "data": {
      "text/plain": [
       "'Good job'"
      ]
     },
     "execution_count": 141,
     "metadata": {},
     "output_type": "execute_result"
    }
   ],
   "source": [
    "up_arrows()\n"
   ]
  },
  {
   "cell_type": "code",
   "execution_count": 142,
   "metadata": {},
   "outputs": [
    {
     "name": "stdout",
     "output_type": "stream",
     "text": [
      "\"learning python is increasingly in demanding\" contains 44 characters\n",
      "\"python was realeased in 1991\" contains 44 characters\n"
     ]
    }
   ],
   "source": [
    "def get_lenght(sentence):\n",
    "    lenght = len(sentence) ## formula ##\n",
    "    return lenght\n",
    "\n",
    "sentence_1 = 'learning python is increasingly in demanding'\n",
    "sentence_2 = 'python was realeased in 1991'\n",
    "\n",
    "len_1 = get_lenght(sentence_1)\n",
    "len_2 = get_lenght(sentence_2)\n",
    "\n",
    "print(f'\"{sentence_1}\" contains {len_1} characters') \n",
    "print(f'\"{sentence_2}\" contains {len_1} characters') "
   ]
  },
  {
   "cell_type": "code",
   "execution_count": 143,
   "metadata": {},
   "outputs": [
    {
     "name": "stdout",
     "output_type": "stream",
     "text": [
      "\"learning python is increasingly in demanding\" contains 44 characters\n",
      "\"python was realeased in 1991\" contains 44 characters\n"
     ]
    }
   ],
   "source": [
    "def get_lenght(sentence):\n",
    "    return len(sentence) ## formula ##\n",
    "     \n",
    "\n",
    "sentence_1 = 'learning python is increasingly in demanding'\n",
    "sentence_2 = 'python was realeased in 1991'\n",
    "\n",
    "len_1 = get_lenght(sentence_1)\n",
    "len_2 = get_lenght(sentence_2)\n",
    "\n",
    "print(f'\"{sentence_1}\" contains {len_1} characters') \n",
    "print(f'\"{sentence_2}\" contains {len_1} characters') "
   ]
  },
  {
   "cell_type": "code",
   "execution_count": 144,
   "metadata": {},
   "outputs": [],
   "source": [
    "def get_short(sentence):\n",
    "    lenght = len(sentence)\n",
    "    if lenght <= 30:\n",
    "        return lenght  # once the return statement is reached the code exists the function\n",
    "    print('The sentence is to long')\n",
    "\n",
    "len_2 = get_short(sentence_2)"
   ]
  },
  {
   "cell_type": "code",
   "execution_count": 145,
   "metadata": {},
   "outputs": [
    {
     "name": "stdout",
     "output_type": "stream",
     "text": [
      "28\n"
     ]
    }
   ],
   "source": [
    "len_2 = get_short(sentence_2)\n",
    "print(len_2)"
   ]
  },
  {
   "cell_type": "code",
   "execution_count": 146,
   "metadata": {},
   "outputs": [
    {
     "name": "stdout",
     "output_type": "stream",
     "text": [
      "The sentence is to long\n",
      "None\n"
     ]
    }
   ],
   "source": [
    "len_1 = get_short(sentence_1) \n",
    "print(len_1)  "
   ]
  },
  {
   "cell_type": "markdown",
   "metadata": {},
   "source": [
    "- Global and Local Scope Variable"
   ]
  },
  {
   "cell_type": "code",
   "execution_count": 147,
   "metadata": {},
   "outputs": [
    {
     "name": "stdout",
     "output_type": "stream",
     "text": [
      "printing inside the function\n",
      "I am in the global scope\n",
      "printing inside the local scope\n",
      "I am in the local scope\n",
      "-----------------------------\n",
      "printing outside the function\n",
      "I am in the global scope\n",
      "printing outside the function\n"
     ]
    },
    {
     "ename": "NameError",
     "evalue": "name 'y' is not defined",
     "output_type": "error",
     "traceback": [
      "\u001b[1;31m---------------------------------------------------------------------------\u001b[0m",
      "\u001b[1;31mNameError\u001b[0m                                 Traceback (most recent call last)",
      "\u001b[1;32mc:\\Users\\User_Central\\Desktop\\AICORE_PROJECTS\\defining_function.ipynb Cell 18\u001b[0m in \u001b[0;36m<cell line: 15>\u001b[1;34m()\u001b[0m\n\u001b[0;32m     <a href='vscode-notebook-cell:/c%3A/Users/User_Central/Desktop/AICORE_PROJECTS/defining_function.ipynb#X23sZmlsZQ%3D%3D?line=12'>13</a>\u001b[0m \u001b[39mprint\u001b[39m(x)\n\u001b[0;32m     <a href='vscode-notebook-cell:/c%3A/Users/User_Central/Desktop/AICORE_PROJECTS/defining_function.ipynb#X23sZmlsZQ%3D%3D?line=13'>14</a>\u001b[0m \u001b[39mprint\u001b[39m(\u001b[39m'\u001b[39m\u001b[39mprinting outside the function\u001b[39m\u001b[39m'\u001b[39m)\n\u001b[1;32m---> <a href='vscode-notebook-cell:/c%3A/Users/User_Central/Desktop/AICORE_PROJECTS/defining_function.ipynb#X23sZmlsZQ%3D%3D?line=14'>15</a>\u001b[0m \u001b[39mprint\u001b[39m(y)\n",
      "\u001b[1;31mNameError\u001b[0m: name 'y' is not defined"
     ]
    }
   ],
   "source": [
    "x = 'I am in the global scope'\n",
    "def scope_test():\n",
    "    print('printing inside the function')\n",
    "    print(x)\n",
    "    \n",
    "    y = 'I am in the local scope'\n",
    "    print('printing inside the local scope')\n",
    "    print(y)\n",
    "scope_test()\n",
    "\n",
    "print('-----------------------------')\n",
    "print('printing outside the function')\n",
    "print(x)\n",
    "print('printing outside the function')\n",
    "print(y)\n"
   ]
  },
  {
   "cell_type": "markdown",
   "metadata": {},
   "source": [
    "- Example of Scope Useage"
   ]
  },
  {
   "cell_type": "code",
   "execution_count": null,
   "metadata": {},
   "outputs": [
    {
     "name": "stdout",
     "output_type": "stream",
     "text": [
      "Inside the function, and after assigning a new value, x is equal to 20\n",
      "Before calling the function x is equal to 20\n",
      "After calling the function x is equal to 10\n"
     ]
    }
   ],
   "source": [
    "x = 10\n",
    "def test_function():\n",
    "    x = 20\n",
    "    print(f'Inside the function, and after assigning a new value, x is equal to {x}')\n",
    "\n",
    "    print(f'Before calling the function x is equal to {x}')\n",
    "test_function()\n",
    "print(f'After calling the function x is equal to {x}')"
   ]
  },
  {
   "cell_type": "markdown",
   "metadata": {},
   "source": [
    "### *args Function\n",
    "### **args functioning as positional Arguments - tuple"
   ]
  },
  {
   "cell_type": "code",
   "execution_count": null,
   "metadata": {},
   "outputs": [
    {
     "name": "stdout",
     "output_type": "stream",
     "text": [
      "(1, 2, 3, 4, 5, 6, 7)\n",
      "<class 'tuple'>\n",
      "(78, 'atlas')\n",
      "<class 'tuple'>\n",
      "('poist', 'bishop')\n",
      "<class 'tuple'>\n"
     ]
    }
   ],
   "source": [
    "def test_args(*args):\n",
    "    print(args)\n",
    "    print(type(args))\n",
    "test_args(1, 2, 3, 4, 5, 6, 7)\n",
    "\n",
    "test_args(78, 'atlas')\n",
    "\n",
    "test_args('poist', 'bishop')"
   ]
  },
  {
   "cell_type": "code",
   "execution_count": null,
   "metadata": {},
   "outputs": [
    {
     "name": "stdout",
     "output_type": "stream",
     "text": [
      "7.5\n"
     ]
    }
   ],
   "source": [
    "def get_mean(*args):\n",
    "    total = sum(args)\n",
    "    return total/len(args)\n",
    "    \n",
    "print(get_mean(3, 6, 9, 12))"
   ]
  },
  {
   "cell_type": "code",
   "execution_count": null,
   "metadata": {},
   "outputs": [
    {
     "name": "stdout",
     "output_type": "stream",
     "text": [
      "7.5\n"
     ]
    }
   ],
   "source": [
    "def get_mean(*args):\n",
    "    return sum(args)/len(args)\n",
    "    \n",
    "print(get_mean(3, 6, 9, 12))"
   ]
  },
  {
   "cell_type": "code",
   "execution_count": null,
   "metadata": {},
   "outputs": [
    {
     "name": "stdout",
     "output_type": "stream",
     "text": [
      "args is a tuple (1, 42, 4.2)\n",
      "47.2\n",
      "args is a tuple (1, 1, 1, 1, 1, 1, 1, 1, 1, 1, 1, 1, 1, 1, 1, 1)\n",
      "16\n"
     ]
    }
   ],
   "source": [
    "def sum_args(*args):\n",
    "    print(f'args is a tuple {args}')\n",
    "    return sum(args)\n",
    "\n",
    "\n",
    "print(sum_args(1, 42, 4.2))  # You can add as many arguments as you want.\n",
    "print(sum_args(1, 1, 1, 1, 1, 1, 1, 1, 1, 1, 1, 1, 1, 1, 1, 1))\n"
   ]
  },
  {
   "cell_type": "markdown",
   "metadata": {},
   "source": [
    "### **kwargs function for Keyword Arguments - Dictionary"
   ]
  },
  {
   "cell_type": "code",
   "execution_count": 176,
   "metadata": {},
   "outputs": [
    {
     "name": "stdout",
     "output_type": "stream",
     "text": [
      "{'a': 1, 'b': 2, 'c': 3}\n",
      "<class 'dict'>\n",
      "{'b': 2, 'a': 1, 'c': 3}\n",
      "<class 'dict'>\n"
     ]
    },
    {
     "ename": "TypeError",
     "evalue": "test_kwargs() takes 0 positional arguments but 1 was given",
     "output_type": "error",
     "traceback": [
      "\u001b[1;31m---------------------------------------------------------------------------\u001b[0m",
      "\u001b[1;31mTypeError\u001b[0m                                 Traceback (most recent call last)",
      "\u001b[1;32mc:\\Users\\User_Central\\Desktop\\AICORE_PROJECTS\\defining_function.ipynb Cell 27\u001b[0m in \u001b[0;36m<cell line: 6>\u001b[1;34m()\u001b[0m\n\u001b[0;32m      <a href='vscode-notebook-cell:/c%3A/Users/User_Central/Desktop/AICORE_PROJECTS/defining_function.ipynb#X35sZmlsZQ%3D%3D?line=3'>4</a>\u001b[0m test_kwargs(a\u001b[39m=\u001b[39m\u001b[39m1\u001b[39m, b\u001b[39m=\u001b[39m\u001b[39m2\u001b[39m, c\u001b[39m=\u001b[39m\u001b[39m3\u001b[39m)\n\u001b[0;32m      <a href='vscode-notebook-cell:/c%3A/Users/User_Central/Desktop/AICORE_PROJECTS/defining_function.ipynb#X35sZmlsZQ%3D%3D?line=4'>5</a>\u001b[0m test_kwargs(b\u001b[39m=\u001b[39m\u001b[39m2\u001b[39m, a\u001b[39m=\u001b[39m\u001b[39m1\u001b[39m, c\u001b[39m=\u001b[39m\u001b[39m3\u001b[39m)\n\u001b[1;32m----> <a href='vscode-notebook-cell:/c%3A/Users/User_Central/Desktop/AICORE_PROJECTS/defining_function.ipynb#X35sZmlsZQ%3D%3D?line=5'>6</a>\u001b[0m test_kwargs(\u001b[39m'\u001b[39;49m\u001b[39mhi\u001b[39;49m\u001b[39m'\u001b[39;49m,a\u001b[39m=\u001b[39;49m\u001b[39m1\u001b[39;49m, b\u001b[39m=\u001b[39;49m\u001b[39m2\u001b[39;49m, c\u001b[39m=\u001b[39;49m\u001b[39m3\u001b[39;49m)\n",
      "\u001b[1;31mTypeError\u001b[0m: test_kwargs() takes 0 positional arguments but 1 was given"
     ]
    }
   ],
   "source": [
    "def test_kwargs(**kwargs):\n",
    "    print(kwargs)\n",
    "    print(type(kwargs))\n",
    "test_kwargs(a=1, b=2, c=3)\n",
    "test_kwargs(b=2, a=1, c=3)\n",
    "test_kwargs('hi',a=1, b=2, c=3) ## positional arg 'hi' introduced has caused an error ##"
   ]
  },
  {
   "cell_type": "code",
   "execution_count": null,
   "metadata": {},
   "outputs": [
    {
     "name": "stdout",
     "output_type": "stream",
     "text": [
      "Adding tomatoes to the list\n",
      "Adding portatoes to the list\n",
      "Adding chocolate to the list\n",
      "5.67\n"
     ]
    }
   ],
   "source": [
    "def calc_price(*args, **kwargs):\n",
    "    fee = args[0]\n",
    "    total = 0\n",
    "    for items, price in kwargs.items():\n",
    "        print(f'Adding {items} to the list')\n",
    "        total += price\n",
    "    \n",
    "    return fee * total\n",
    "cost = calc_price(1.1, tomatoes = 1.2, portatoes = 0.75, chocolate = 3.2)\n",
    "print(round(cost,2))\n"
   ]
  },
  {
   "cell_type": "code",
   "execution_count": null,
   "metadata": {},
   "outputs": [
    {
     "name": "stdout",
     "output_type": "stream",
     "text": [
      "(1, 2, 3, 5, 6, 2, 1)\n",
      "{'a': 4, 'b': 5, 'c': 6}\n"
     ]
    }
   ],
   "source": [
    "def fun_dummy(*args, **kwargs): # args = arguments, kwargs = key word arguments\n",
    "    print(args) # args is now a tuple\n",
    "    print(kwargs) # kwargs now is a dictionary\n",
    "\n",
    "fun_dummy(1, 2, 3, 5, 6, 2, 1, a=4, b=5, c=6)\n",
    "# anything without a keyword argument (by keyword, we mean a, b, c) will be a tuple in the function.\n",
    "# Anything with a keyword argument will be included in a dictionary in the function."
   ]
  },
  {
   "cell_type": "markdown",
   "metadata": {},
   "source": [
    "- Void Functions\n",
    "- A function that doesn't return anything is called a void function. In Python, you can define a void function by simply not including a return statement.\n",
    "\n",
    "Create a function called void_function that doesn't return anything\n",
    "Inside the function, print the string \"This is a void function.\"\n",
    "Call the function and assign the result to a variable called void_result\n",
    "Print the value of void_result\n",
    "What is the value of void_result? Why?\n",
    "\n",
    "Notice that even though the function doesn't return anything, it still prints the string \"This is a void function.\" to the console. This is because the print function still runs inside the function, even though the function doesn't return anything.\n",
    "\n",
    "This is important to remember, sometimes you want your functions to perform actions without returning anything."
   ]
  },
  {
   "cell_type": "code",
   "execution_count": null,
   "metadata": {},
   "outputs": [
    {
     "name": "stdout",
     "output_type": "stream",
     "text": [
      "This ia a void function\n",
      "None\n"
     ]
    }
   ],
   "source": [
    "def void_function():\n",
    "    print('This ia a void function')\n",
    "\n",
    "void_result = void_function()\n",
    "print(void_result)"
   ]
  },
  {
   "cell_type": "markdown",
   "metadata": {},
   "source": [
    "- Range Checker\n",
    "- Write a function called in_range which takes in three arguments: lower_bound, upper_bound, and number\n",
    "- If number is between lower_bound and upper_bound, print \"{number} is between {lower_bound} and {upper_bound}.\"\n",
    "- If it isn't, print \"{number} is NOT between {lower_bound} and {upper_bound}.\"\n",
    "- Call your function to test it"
   ]
  },
  {
   "cell_type": "code",
   "execution_count": null,
   "metadata": {},
   "outputs": [
    {
     "name": "stdout",
     "output_type": "stream",
     "text": [
      "-78 is not between 56 and 80\n"
     ]
    }
   ],
   "source": [
    "upper_bound = 80\n",
    "lower_bound = 56\n",
    "number = int(input('Enter number : '))\n",
    "def in_range(lower_bound, upper_bound, number):\n",
    "    if  upper_bound > number > lower_bound:\n",
    "        print (f'{number} is between {lower_bound} and {upper_bound}')\n",
    "    else:\n",
    "        print(f'{number} is not between {lower_bound} and {upper_bound}')\n",
    "\n",
    "in_range(lower_bound, upper_bound, number)\n",
    "\n"
   ]
  },
  {
   "cell_type": "code",
   "execution_count": null,
   "metadata": {},
   "outputs": [
    {
     "name": "stdout",
     "output_type": "stream",
     "text": [
      "77 is between 56 and 80\n"
     ]
    }
   ],
   "source": [
    "upper_bound = 80\n",
    "lower_bound = 56\n",
    "number = int(input('Enter number : '))\n",
    "def in_range(lower_bound, upper_bound, number):\n",
    "    if  upper_bound > number > lower_bound:\n",
    "        print (f'{number} is between {lower_bound} and {upper_bound}') \n",
    "    else:\n",
    "        print(f'{number} is not between {lower_bound} and {upper_bound}')\n",
    "\n",
    "in_range(lower_bound, upper_bound, number)\n",
    "\n"
   ]
  },
  {
   "cell_type": "code",
   "execution_count": null,
   "metadata": {},
   "outputs": [
    {
     "name": "stdout",
     "output_type": "stream",
     "text": [
      "79 is between 10 and 90\n"
     ]
    }
   ],
   "source": [
    "def my_range(number = 0, lower_bound = 0, upper_bound = 0):\n",
    "\n",
    "    if  upper_bound > number > lower_bound:\n",
    "        print (f'{number} is between {lower_bound} and {upper_bound}')\n",
    "    else:\n",
    "        print(f'{number} is not between {lower_bound} and {upper_bound}')\n",
    "\n",
    "my_range(lower_bound = 10, upper_bound = 90, number = 79 )\n"
   ]
  },
  {
   "cell_type": "code",
   "execution_count": null,
   "metadata": {},
   "outputs": [
    {
     "name": "stdout",
     "output_type": "stream",
     "text": [
      "-5 is between -8 and -3\n"
     ]
    }
   ],
   "source": [
    "upper_bound = int(input('set upper_bound : '))\n",
    "lower_bound =int(input('set lower_bound : '))\n",
    "number = int(input('Enter number : '))\n",
    "\n",
    "def my_range(lower_bound, upper_bound, number):\n",
    "        if  upper_bound > number > lower_bound:\n",
    "            print (f'{number} is between {lower_bound} and {upper_bound}')\n",
    "        else:\n",
    "            print(f'{number} is not between {lower_bound} and {upper_bound}')\n",
    "            number = int(input('Enter number : '))\n",
    "\n",
    "my_range(lower_bound, upper_bound, number)\n"
   ]
  },
  {
   "cell_type": "code",
   "execution_count": null,
   "metadata": {},
   "outputs": [
    {
     "name": "stdout",
     "output_type": "stream",
     "text": [
      "790 is not between 56 and 80\n"
     ]
    }
   ],
   "source": [
    "upper_bound = 80\n",
    "lower_bound = 56\n",
    "number = 790\n",
    "def in_range(lower_bound, upper_bound, number):\n",
    "\n",
    "    if  upper_bound > number > lower_bound:\n",
    "        print (f'{number} is between {lower_bound} and {upper_bound}')\n",
    "    else:\n",
    "        print(f'{number} is not between {lower_bound} and {upper_bound}')\n",
    "\n",
    "in_range(lower_bound, upper_bound, number)"
   ]
  },
  {
   "cell_type": "code",
   "execution_count": null,
   "metadata": {},
   "outputs": [
    {
     "name": "stdout",
     "output_type": "stream",
     "text": [
      "59420.08\n"
     ]
    }
   ],
   "source": [
    "import math\n",
    "def volume(D, d, h, p):\n",
    "    \"\"\"Returns the volume of a hollow cylinder\"\"\"\n",
    "    v = (0.25 * math.pi * (D**2 - d**2) * h) * p\n",
    "    return v\n",
    "volume(15, 13, 70, 19.3)\n",
    "x = volume(15, 13, 70, 19.3)\n",
    "print(round(x, 2))\n"
   ]
  },
  {
   "cell_type": "code",
   "execution_count": null,
   "metadata": {},
   "outputs": [
    {
     "name": "stdout",
     "output_type": "stream",
     "text": [
      "314.16\n"
     ]
    }
   ],
   "source": [
    "def volume(r, h):\n",
    "    \"\"\"Returns the volume of a cone\"\"\"\n",
    "    v = (1.0/3.0) * math.pi * r**2 * h\n",
    "    return v\n",
    "volume(5, 12)\n",
    "y = volume(5, 12)\n",
    "print(round(y, 2))"
   ]
  },
  {
   "cell_type": "code",
   "execution_count": null,
   "metadata": {},
   "outputs": [
    {
     "name": "stdout",
     "output_type": "stream",
     "text": [
      "308.86\n"
     ]
    }
   ],
   "source": [
    "def volume(D, h):\n",
    "    \"\"\"Returns the volume of a cylinder\"\"\"\n",
    "    v = 0.25 * math.pi * D**2 * h\n",
    "    return v\n",
    "volume(5.5, 13)\n",
    "x = volume(5.5, 13)\n",
    "print(round(x), 2)"
   ]
  },
  {
   "cell_type": "code",
   "execution_count": null,
   "metadata": {},
   "outputs": [
    {
     "name": "stdout",
     "output_type": "stream",
     "text": [
      "17 2\n"
     ]
    }
   ],
   "source": [
    "def volume(D, h):\n",
    "    \"\"\"Returns the volume of the segment of a sphere\"\"\"\n",
    "    v = math.pi * h * ((0.75*D**2) + h**2)/6\n",
    "    return v\n",
    "volume(1.2, 3.1)\n",
    "x = volume(1.2, 3.1)\n",
    "print(round(x), 2)"
   ]
  },
  {
   "cell_type": "code",
   "execution_count": null,
   "metadata": {},
   "outputs": [
    {
     "name": "stdout",
     "output_type": "stream",
     "text": [
      "8 2\n"
     ]
    }
   ],
   "source": [
    "def volume(D, h):\n",
    "    \"\"\"Returns the volume of a sphere\"\"\"\n",
    "    v = (1/6) * (math.pi * (D**3))\n",
    "    return v\n",
    "volume(2.5, 0 )\n",
    "x = volume(2.5, 0)\n",
    "print(round(x), 2)"
   ]
  },
  {
   "cell_type": "code",
   "execution_count": null,
   "metadata": {},
   "outputs": [
    {
     "name": "stdout",
     "output_type": "stream",
     "text": [
      "8 2\n"
     ]
    }
   ],
   "source": [
    "def volume(r):\n",
    "    \"\"\"Returns the volume of a sphere\"\"\"\n",
    "    v =  (4/3) * math.pi * (r**3)\n",
    "    return v\n",
    "volume(1.25)\n",
    "x = volume(1.25)\n",
    "print(round(x), 2)"
   ]
  },
  {
   "attachments": {},
   "cell_type": "markdown",
   "metadata": {},
   "source": []
  },
  {
   "cell_type": "code",
   "execution_count": null,
   "metadata": {},
   "outputs": [
    {
     "name": "stdout",
     "output_type": "stream",
     "text": [
      "15867.71 grams\n"
     ]
    }
   ],
   "source": []
  },
  {
   "cell_type": "markdown",
   "metadata": {},
   "source": [
    "\n",
    "- Create a function which takes in a dictionary of attributes about a piece of clothing and prints each of the key-value pairs on a line.\n",
    "- Define a function parameter called attributes_to_print with a default argument of 'all'\n",
    "- If a list is passed into the function as the attributes_to_print, print only the key-value pairs of the dictionary where the key exists in attributes_to_print. Otherwise, print them all.\n",
    "- Print a message to tell the user if a key doesn't exist\n",
    "- Call your function to test it"
   ]
  },
  {
   "cell_type": "code",
   "execution_count": null,
   "metadata": {},
   "outputs": [
    {
     "name": "stdout",
     "output_type": "stream",
     "text": [
      "chpcplate\n"
     ]
    }
   ],
   "source": [
    "\"\"\" just testing replace\"\"\"\n",
    "\n",
    "s = 'chocolate'\n",
    "print(s.replace('o','p'))"
   ]
  },
  {
   "attachments": {},
   "cell_type": "markdown",
   "metadata": {},
   "source": [
    "-- Boolean Range Checker\n",
    "- Write a function called in_range which takes in three arguments: lower_bound, upper_bound, and number\n",
    "- If number is between lower_bound and upper_bound, return True\n",
    "- If it isn't, return False\n",
    "- Call your function to test it"
   ]
  },
  {
   "cell_type": "code",
   "execution_count": null,
   "metadata": {},
   "outputs": [
    {
     "data": {
      "text/plain": [
       "True"
      ]
     },
     "execution_count": 106,
     "metadata": {},
     "output_type": "execute_result"
    }
   ],
   "source": [
    "upper_bound = int(input('set upper_bound : '))\n",
    "lower_bound =int(input('set lower_bound : '))\n",
    "number = int(input('Enter number : '))\n",
    "\n",
    "def my_range(lower_bound, upper_bound, number):\n",
    "        if  upper_bound > number > lower_bound:\n",
    "            return True\n",
    "        else:\n",
    "            return False\n",
    "\n",
    "my_range(lower_bound, upper_bound, number)"
   ]
  },
  {
   "attachments": {},
   "cell_type": "markdown",
   "metadata": {},
   "source": [
    "Write a function called unique_list that takes in a list and returns a list with only the unique elements of the input.\n",
    "my_list = [1, 3, 5, 6, 4, 3, 2, 3, 3, 4, 3, 4, 5, 6, 6, 4, 3, 2, 12, 3, 5, 63, 4, 5, 3, 3, 2]"
   ]
  },
  {
   "cell_type": "code",
   "execution_count": 167,
   "metadata": {},
   "outputs": [
    {
     "data": {
      "text/plain": [
       "[1, 2, 3, 4, 5, 6, 12, 63]"
      ]
     },
     "execution_count": 167,
     "metadata": {},
     "output_type": "execute_result"
    }
   ],
   "source": [
    "\n",
    "def unique_list(*arg):\n",
    "    my_list = [1, 3, 5, 6, 4, 3, 2, 3, 3, 4, 3, 4, 5, 6, 6, 4, 3, 2, 12, 3, 5, 63, 4, 5, 3, 3, 2]\n",
    "    list_to_set = set(my_list)      # converts list to set\n",
    "    set_to_list = list(list_to_set)  #converts set back list\n",
    "    return set_to_list\n",
    "unique_list()"
   ]
  },
  {
   "cell_type": "code",
   "execution_count": 169,
   "metadata": {},
   "outputs": [
    {
     "data": {
      "text/plain": [
       "[1, 2, 3, 4, 5, 6, 12, 63]"
      ]
     },
     "execution_count": 169,
     "metadata": {},
     "output_type": "execute_result"
    }
   ],
   "source": [
    "my_list = [1, 3, 5, 6, 4, 3, 2, 3, 3, 4, 3, 4, 5, 6, 6, 4, 3, 2, 12, 3, 5, 63, 4, 5, 3, 3, 2]\n",
    "def unique_list(*arg):\n",
    "    list_set_list = list(set(my_list))\n",
    "    return list_set_list\n",
    "unique_list()"
   ]
  },
  {
   "attachments": {},
   "cell_type": "markdown",
   "metadata": {},
   "source": [
    "Find another way of performing the same operation above without defining a function"
   ]
  },
  {
   "cell_type": "code",
   "execution_count": 168,
   "metadata": {},
   "outputs": [
    {
     "name": "stdout",
     "output_type": "stream",
     "text": [
      "[1, 2, 3, 4, 5, 6, 12, 63]\n"
     ]
    }
   ],
   "source": [
    "my_list = [1, 3, 5, 6, 4, 3, 2, 3, 3, 4, 3, 4, 5, 6, 6, 4, 3, 2, 12, 3, 5, 63, 4, 5, 3, 3, 2]\n",
    "unique_list = list(set(my_list))\n",
    "print(unique_list)"
   ]
  },
  {
   "attachments": {},
   "cell_type": "markdown",
   "metadata": {},
   "source": [
    "Volume of a sphere"
   ]
  },
  {
   "cell_type": "code",
   "execution_count": null,
   "metadata": {},
   "outputs": [],
   "source": [
    "import math\n",
    "\n",
    "\n",
    "def volume(r):\n",
    "    \"\"\"Returns the volume of a sphere\"\"\"\n",
    "    v =  (4.0/3.0) * math.pi * (r**3)\n",
    "    return v\n",
    "volume(1.25)\n",
    "x = volume(1.25)\n",
    "print(round(x), 2)\n",
    "\n",
    "dir(math)"
   ]
  },
  {
   "attachments": {},
   "cell_type": "markdown",
   "metadata": {},
   "source": [
    "- Come up with Your Own Functions Practical\n",
    "- Write a challenge for your team, send it into slack in the #practicals channel, and then do one of the challenges you find there."
   ]
  },
  {
   "attachments": {},
   "cell_type": "markdown",
   "metadata": {},
   "source": [
    "- Calculate the weight(g) of pure Gold required to cast  a hollow pipe pendant with internal diameter(d) 7.5cm, external diametr(D) 14.2cm, and thickness(t) 1.8; Where density of pure Gold is 19.3g/cm3 "
   ]
  },
  {
   "cell_type": "code",
   "execution_count": 175,
   "metadata": {},
   "outputs": [
    {
     "name": "stdout",
     "output_type": "stream",
     "text": [
      "15867.71 grams\n"
     ]
    }
   ],
   "source": [
    "import math\n",
    "def wt_of_gold_needed(r, R, h, p):\n",
    "    wt_gold = (math.pi * h * (R**2 - r**2)) * p\n",
    "    return wt_gold \n",
    "round(wt_of_gold_needed(7.5, 14.2, 1.8, 19.3), 2)\n",
    "a = round(wt_of_gold_needed(7.5, 14.2, 1.8, 19.3), 2)\n",
    "print(a,'grams')"
   ]
  },
  {
   "attachments": {},
   "cell_type": "markdown",
   "metadata": {},
   "source": [
    "- Default Arguments\n",
    "- Create a function which takes in a dictionary of attributes about a piece of clothing and prints each of the key-value pairs on a line\n",
    "- Define a function parameter called attributes_to_print with a default argument of 'all'\n",
    "- If a list is passed into the function as the attributes_to_print, print only the key-value pairs of the dictionary where the key exists in attributes_to_print. Otherwise, print them all.\n",
    "- Print a message to tell the user if a key doesn't exist\n",
    "- Call your function to test it"
   ]
  },
  {
   "cell_type": "code",
   "execution_count": 1,
   "metadata": {},
   "outputs": [
    {
     "data": {
      "text/plain": [
       "{'lenght': 120, 'colour': 'green', 'design': 'flora', 'serial_numb': 390070023}"
      ]
     },
     "execution_count": 1,
     "metadata": {},
     "output_type": "execute_result"
    }
   ],
   "source": [
    "def dict_of_attributes(**kwargs):\n",
    "    return kwargs\n",
    "dict_of_attributes(lenght= 120, colour='green', design= 'flora', serial_numb= 390070023)\n",
    "    "
   ]
  },
  {
   "cell_type": "code",
   "execution_count": 11,
   "metadata": {},
   "outputs": [
    {
     "data": {
      "text/plain": [
       "('wax', '99987', 'green', 'flora', '345')"
      ]
     },
     "execution_count": 11,
     "metadata": {},
     "output_type": "execute_result"
    }
   ],
   "source": [
    "mat_texture = input('cloth texture : ')\n",
    "design = input('design pattern : ')\n",
    "colour = input('cloth colour: ')\n",
    "serial_numb = input('cloth serial number : ')\n",
    "batch_numb = input('cloth batch number : ')\n",
    "def dict_of_attributes(*args):\n",
    "    return args\n",
    "dict_of_attributes(mat_texture, batch_numb, colour, design, serial_numb)"
   ]
  },
  {
   "cell_type": "code",
   "execution_count": 124,
   "metadata": {},
   "outputs": [
    {
     "name": "stdout",
     "output_type": "stream",
     "text": [
      "all is a dictionary\n",
      "key is f_name and its value is jon\n",
      "key is s_name and its value is mino\n",
      "key is age and its value is 37\n",
      "key is id and its value is 8765\n",
      "key is course and its value is maths\n"
     ]
    }
   ],
   "source": [
    "\n",
    "def attributes_to_print(**all):\n",
    "    print(f'all is a dictionary')\n",
    "    for key, value in all.items():\n",
    "        print(f'key is {key} and its value is {value}')\n",
    "attributes_to_print(f_name = 'jon', s_name = 'mino', age =37, id = 8765, course = 'maths')\n"
   ]
  },
  {
   "cell_type": "code",
   "execution_count": 128,
   "metadata": {},
   "outputs": [
    {
     "name": "stdout",
     "output_type": "stream",
     "text": [
      "invalid key\n"
     ]
    }
   ],
   "source": [
    "def attributes_to_print(**all):\n",
    "    print(all.get('phone', 'invalid key'))\n",
    "attributes_to_print(f_name = 'jon', s_name = 'mino', age =37, id = 8765, course = 'maths')"
   ]
  },
  {
   "cell_type": "code",
   "execution_count": 107,
   "metadata": {},
   "outputs": [
    {
     "name": "stdout",
     "output_type": "stream",
     "text": [
      "{'name': 'John', 'Age': 25, 'courses': ['Maths', 'History']}\n",
      "John\n",
      "John\n",
      "None\n",
      "invalid key\n",
      "dict_keys(['name', 'Age', 'courses'])\n",
      "dict_values(['John', 25, ['Maths', 'History']])\n",
      "dict_items([('name', 'John'), ('Age', 25), ('courses', ['Maths', 'History'])])\n",
      "name\n",
      "Age\n",
      "courses\n",
      "name John\n",
      "Age 25\n",
      "courses ['Maths', 'History']\n"
     ]
    }
   ],
   "source": [
    "student = {'name': 'John', 'Age': 25, 'courses': ['Maths', 'History']}\n",
    "print(student)\n",
    "print(student['name'])\n",
    "print(student.get('name'))\n",
    "print(student.get('phone'))\n",
    "print(student.get('phone','invalid key'))\n",
    "print(student.keys())\n",
    "print(student.values()) #why values? and not value?\n",
    "print(student.items())\n",
    "\n",
    "for key in student:\n",
    "    print(key)\n",
    "for key, values in student.items():\n",
    "    print(key,values)\n",
    "    \n"
   ]
  },
  {
   "attachments": {},
   "cell_type": "markdown",
   "metadata": {},
   "source": [
    "- Profile Validation\n",
    "- Create a function which takes in the name, age, and email of a user trying to create a new profile on our application\n",
    "- Check the name does not contain any of the following characters \"!@£$%^&*()\"\n",
    "- Check the email is valid by making sure it contains \"@\"\n",
    "- Check the age > 12\n",
    "- Turn each step above into a function, so that you have one function, whiich calls 3 - other functions inside\n",
    "- Print a friendly error to explain the issue to the user if any of these checks does not pass"
   ]
  },
  {
   "attachments": {},
   "cell_type": "markdown",
   "metadata": {},
   "source": [
    "### Important NOTE: \n",
    "#### Notice in the instruction :- Check the name does not contain any of the following characters \"!@£$%^&*()\"; the characters are in quote but when assigning the characters to a variable [] MUST be introcduced or else the 'If Statements' will give a wrong response and the code will not work as intended.\n",
    "#### special_xter=re.compile(\"[!@£$%^&*()]\")"
   ]
  },
  {
   "cell_type": "code",
   "execution_count": 18,
   "metadata": {},
   "outputs": [
    {
     "name": "stdout",
     "output_type": "stream",
     "text": [
      "num does not contain special characters\n"
     ]
    }
   ],
   "source": [
    "import re\n",
    "special_xter=re.compile(\"[!@£$%^&*()]\")\n",
    "\n",
    "\n",
    "name=input(\"Enter Name:\")\n",
    "#Age=int(input('Enter Age:'))\n",
    "#Email=input('Enter Email:')\n",
    "\n",
    "def profile_validation(**args):\n",
    "    profile =(name)\n",
    "    return(profile)\n",
    "if (special_xter.search(name) == None):\n",
    "    print(f'{name} does not contain special characters')\n",
    "else:\n",
    "    print(f'{name} contains special characters')\n",
    "profile_validation()\n"
   ]
  },
  {
   "cell_type": "code",
   "execution_count": 34,
   "metadata": {},
   "outputs": [
    {
     "name": "stdout",
     "output_type": "stream",
     "text": [
      "nom does not contain special characters\n"
     ]
    }
   ],
   "source": [
    "#name=input(\"Enter Name:\")\n",
    "#Age=int(input('Enter Age:'))\n",
    "#Email=input('Enter Email:')\n",
    "\n",
    "def profile_validation(**args):\n",
    "    #profile =(name)\n",
    "    #return(profile)\n",
    "    name=input(\"Enter Name:\")\n",
    "    if (special_xter.search(name) == None):\n",
    "        print(f'{name} Valid input..(No special characters dectected)')\n",
    "    else:\n",
    "        print(f'{name} Invalid Inpy (special characters dectected')\n",
    "profile_validation()"
   ]
  },
  {
   "cell_type": "code",
   "execution_count": null,
   "metadata": {},
   "outputs": [],
   "source": [
    "#name=input(\"Enter Name:\")\n",
    "Age=int(input('Enter Age:'))\n",
    "#Email=input('Enter Email:')\n",
    "\n",
    "def profile_validation(*args):\n",
    "    profile =(Age)\n",
    "    return(profile)\n",
    "if 12 < Age:\n",
    "    print(f'{Age} is a valid Age')\n",
    "else:\n",
    "    print(f'{Age} is Under-Age (invalid input)')\n",
    "profile_validation()"
   ]
  },
  {
   "cell_type": "code",
   "execution_count": 33,
   "metadata": {},
   "outputs": [
    {
     "name": "stdout",
     "output_type": "stream",
     "text": [
      "45 is a valid Age\n"
     ]
    }
   ],
   "source": [
    "\n",
    "#name=input(\"Enter Name:\")\n",
    "#Age=int(input('Enter Age:'))\n",
    "#Email=input('Enter Email:')\n",
    "\n",
    "def profile_validation(*args):\n",
    "    #profile =(Age)\n",
    "    #return(profile)\n",
    "    Age=int(input('Enter Age:'))\n",
    "    if 12 < Age:\n",
    "        print(f'{Age} is a valid Age')\n",
    "    else:\n",
    "        print(f'{Age} is Under-Age (invalid input)')\n",
    "profile_validation()"
   ]
  },
  {
   "cell_type": "code",
   "execution_count": 24,
   "metadata": {},
   "outputs": [
    {
     "name": "stdout",
     "output_type": "stream",
     "text": [
      "Try missing characters (invalid input)\n"
     ]
    },
    {
     "data": {
      "text/plain": [
       "'Try'"
      ]
     },
     "execution_count": 24,
     "metadata": {},
     "output_type": "execute_result"
    }
   ],
   "source": [
    "import re\n",
    "spec_xter=re.compile(\"[@]\")\n",
    "\n",
    "\n",
    "#name=input(\"Enter Name:\")\n",
    "#Age=int(input('Enter Age:'))\n",
    "Email=input('Enter Email:')\n",
    "\n",
    "def profile_validation(*args):\n",
    "    profile =(Email)\n",
    "    return(profile)\n",
    "if (spec_xter.search(Email) != None):\n",
    "    print(f'{Email} contains valid characters')\n",
    "else:\n",
    "    print(f'{Email} missing \"@\"character (invalid input)')\n",
    "profile_validation()\n"
   ]
  },
  {
   "cell_type": "code",
   "execution_count": 32,
   "metadata": {},
   "outputs": [],
   "source": [
    "#name=input(\"Enter Name:\")\n",
    "#Age=int(input('Enter Age:'))\n",
    "#Email=input('Enter Email:')\n",
    "\n",
    "def profile_validation(*args):\n",
    "    #profile =(Email)\n",
    "    #return(profile)\n",
    "    Email=input('Enter Email:')\n",
    "    if (spec_xter.search(Email) != None):\n",
    "        print(f'{Email} contains valid characters')\n",
    "    else:\n",
    "        print(f'{Email} is missing \"@\" character (invalid input)')\n",
    "profile_validation()"
   ]
  },
  {
   "cell_type": "code",
   "execution_count": 215,
   "metadata": {},
   "outputs": [
    {
     "name": "stdout",
     "output_type": "stream",
     "text": [
      "('t@', 5, 'tpy')Error!..invalid inputs..Try Again\n"
     ]
    }
   ],
   "source": [
    "import re\n",
    "\n",
    "special_xter=re.compile(\"[!@£$%^&*()]\")\n",
    "spec_xter=re.compile(\"[@]\")\n",
    "\n",
    "\n",
    "name=input(\"Enter Name:\")\n",
    "Age=int(input('Enter Age:'))\n",
    "Email=input('Enter Email:')\n",
    "\n",
    "def profile_validation(*args):\n",
    "    profile =(name, Age, Email)\n",
    "    #return(profile)\n",
    "    if (special_xter.search(name) == None) and (Age > 12) and  (spec_xter.search(Email) != None):\n",
    "        print('profile validation complete')\n",
    "    elif (special_xter.search(name) != None) and (Age > 12) and (spec_xter.search(Email) != None):\n",
    "        print(f'{name} invalid input contains special characters')\n",
    "    elif (special_xter.search(name) == None) and (Age < 12) and (spec_xter.search(Email) != None):\n",
    "        print(f'{Age} is Under-Age (invalid input)')\n",
    "    elif (special_xter.search(name) == None) and (Age > 12) and (spec_xter.search(Email) == None):\n",
    "        print(f'{Email} missing characters (invalid input)')    \n",
    "    else:\n",
    "        print('Error!..invalid inputs..Try Again')\n",
    "profile_validation()"
   ]
  },
  {
   "cell_type": "code",
   "execution_count": 212,
   "metadata": {},
   "outputs": [
    {
     "name": "stdout",
     "output_type": "stream",
     "text": [
      "Toy missing characters (invalid input)\n"
     ]
    }
   ],
   "source": [
    "import re\n",
    "\n",
    "special_xter=re.compile(\"[!@£$%^&*()]\")\n",
    "spec_xter=re.compile(\"[@]\")\n",
    "\n",
    "\n",
    "name=input(\"Enter Name:\")\n",
    "Age=int(input('Enter Age:'))\n",
    "Email=input('Enter Email:')\n",
    "\n",
    "def profile_validation(*args):\n",
    "    profile =(name, Age, Email)\n",
    "    #return(profile)\n",
    "    if (special_xter.search(name) == None) and (Age > 12) and  (spec_xter.search(Email) != None):\n",
    "        print('profile validation complete')\n",
    "    elif (special_xter.search(name) != None) and (Age > 12) and (spec_xter.search(Email) != None):\n",
    "        print(f'{name} invalid input contains special characters')\n",
    "    elif (special_xter.search(name) == None) and (Age < 12) and (spec_xter.search(Email) != None):\n",
    "        print(f'{Age} is Under-Age (invalid input)')\n",
    "    elif (special_xter.search(name) == None) and (Age > 12) and (spec_xter.search(Email) == None):\n",
    "        print(f'{Email} missing email characters (invalid input)')    \n",
    "    else:\n",
    "        print('Error!..invalid inputs..Try Again')\n",
    "profile_validation()"
   ]
  },
  {
   "cell_type": "code",
   "execution_count": 227,
   "metadata": {},
   "outputs": [
    {
     "name": "stdout",
     "output_type": "stream",
     "text": [
      "toy does not contain special characters\n",
      "45 is a valid Age\n",
      "t@y contains valid characters\n"
     ]
    },
    {
     "data": {
      "text/plain": [
       "'t@y'"
      ]
     },
     "execution_count": 227,
     "metadata": {},
     "output_type": "execute_result"
    }
   ],
   "source": [
    "import re\n",
    "\n",
    "special_xter=re.compile(\"[!@£$%^&*()]\")\n",
    "spec_xter=re.compile(\"[@]\")\n",
    "\n",
    "name=input(\"Enter Name:\")\n",
    "def profile1(*args):\n",
    "    pro1 =(name)\n",
    "    return(pro1)\n",
    "if (special_xter.search(name) == None):\n",
    "    print(f'{name} does not contain special characters')\n",
    "else:\n",
    "    print(f'{name} contains special characters')\n",
    "profile1()\n",
    "\n",
    "Age=int(input('Enter Age:'))\n",
    "def profile2(*args):\n",
    "    pro2 =(Age)\n",
    "    return(pro2)\n",
    "if 12 < Age:\n",
    "    print(f'{Age} is a valid Age')\n",
    "else:\n",
    "    print(f'{Age} is Under-Age (invalid input)')\n",
    "profile2()\n",
    "\n",
    "Email=input('Enter Email:')\n",
    "def profile3(*args):\n",
    "    pro3 =(Email)\n",
    "    return(pro3)\n",
    "if (spec_xter.search(Email) != None):\n",
    "    print(f'{Email} contains valid characters')\n",
    "else:\n",
    "    print(f'{Email} missing characters (invalid input)')\n",
    "profile3()\n",
    "\n"
   ]
  },
  {
   "cell_type": "code",
   "execution_count": 15,
   "metadata": {},
   "outputs": [
    {
     "data": {
      "text/plain": [
       "'mani'"
      ]
     },
     "execution_count": 15,
     "metadata": {},
     "output_type": "execute_result"
    }
   ],
   "source": [
    "profile1()"
   ]
  },
  {
   "cell_type": "code",
   "execution_count": 9,
   "metadata": {},
   "outputs": [
    {
     "name": "stdout",
     "output_type": "stream",
     "text": [
      " mani is a Valid input\n",
      "45 is a valid Age\n",
      "t@y valid characters\n"
     ]
    }
   ],
   "source": [
    "import re\n",
    "\n",
    "special_xter=re.compile(\"[!@£$%^&*()]\")\n",
    "spec_xter=re.compile(\"[@]\")\n",
    "\n",
    "name=input(\"Enter Name:\")\n",
    " \n",
    "def profile1(*args):\n",
    "    pro1 =(name)\n",
    "    return(pro1)\n",
    "if (special_xter.search(name) == None):\n",
    "    print(f' {name} is a Valid input')\n",
    "else:\n",
    "    print('Error!...name contains special characters')\n",
    "profile1\n",
    "Age=int(input('Enter Age:'))\n",
    "def profile2(*args):\n",
    "    pro2 =(Age)\n",
    "    return(pro2)\n",
    "if 12 < Age:\n",
    "    print(f'{Age} is a valid Age')\n",
    "else:\n",
    "    print(f'{Age} is Under-Age (invalid input)')\n",
    "\n",
    "Email=input('Enter Email:')\n",
    "def profile3(*args):\n",
    "    pro3 =(Email)\n",
    "    return(pro3)\n",
    "if (spec_xter.search(Email) != None):\n",
    "    print(f'{Email} valid characters')\n",
    "else:\n",
    "    print('Error!...Email missing characters (invalid input)')\n",
    "\n"
   ]
  },
  {
   "cell_type": "code",
   "execution_count": 37,
   "metadata": {},
   "outputs": [
    {
     "name": "stdout",
     "output_type": "stream",
     "text": [
      "N@y Invalid Inpy (special characters dectected\n",
      "5 is Under-Age (invalid input)\n",
      "yot is missing \"@\" character (invalid input)\n"
     ]
    }
   ],
   "source": [
    "''' REVISED function practice CODE # 1.0 '''\n",
    "\n",
    "def profile_validation(*args):\n",
    "    #profile =(name)\n",
    "    #return(profile)\n",
    "    name=input(\"Enter Name:\")\n",
    "    if (special_xter.search(name) == None):\n",
    "        print(f'{name} Valid input..(No special characters dectected)')\n",
    "    else:\n",
    "        print(f'{name} Invalid Input (special characters dectected)')\n",
    "profile_validation()\n",
    "\n",
    "def profile_validation(*args):\n",
    "    #profile =(Age)\n",
    "    #return(profile)\n",
    "    Age=int(input('Enter Age:'))\n",
    "    if 12 < Age:\n",
    "        print(f'{Age} Age Validation Passed')\n",
    "    else:\n",
    "        print(f'{Age} Error!..Age Validation Failed!')\n",
    "profile_validation()\n",
    "\n",
    "def profile_validation(*args):\n",
    "    #profile =(Email)\n",
    "    #return(profile)\n",
    "    Email=input('Enter Email:')\n",
    "    if (spec_xter.search(Email) != None):\n",
    "        print(f'{Email} contains valid characters')\n",
    "    else:\n",
    "        print(f'{Email} is missing \"@\" character (invalid input)')\n",
    "profile_validation()"
   ]
  },
  {
   "cell_type": "code",
   "execution_count": 32,
   "metadata": {},
   "outputs": [
    {
     "name": "stdout",
     "output_type": "stream",
     "text": [
      "ben Valid input..(No special characters dectected)\n",
      "23 Age Validation Passed\n",
      "Sam@ncr.com valid Input\n"
     ]
    }
   ],
   "source": [
    "''' REVISED function practice CODE # 1.1 '''\n",
    "\n",
    "import re\n",
    "\n",
    "special_xter=re.compile(\"[!@£$%^&*()]\")     # compile \"LIST\" of special characters\n",
    "spec_xter=re.compile(\"[@]\")                 # compile \"LIST\" of special characters\n",
    "\n",
    "def profile_validation1(*args):             # 1st function checks input for unwanted special xters\n",
    "    name=input(\"Enter Name:\")\n",
    "    if (special_xter.search(name) == None):\n",
    "        print(f'{name} Valid input..(No special characters dectected)')\n",
    "    else:\n",
    "        print(f'{name} Invalid Input (special characters dectected)')\n",
    "profile_validation1()\n",
    "\n",
    "def profile_validation2(*args):             # 2nd function checks input for correct Age\n",
    "    Age=int(input('Enter Age:'))\n",
    "    if 12 < Age:\n",
    "        print(f'{Age} Age Validation Passed')\n",
    "    else:\n",
    "        print(f'{Age} Error!..Age Validation Failed!')\n",
    "profile_validation2()\n",
    "\n",
    "def profile_validation3(*args):             # 3rd function checks input contains '@' xter\n",
    "    Email=input('Enter Email:')\n",
    "    if (spec_xter.search(Email) != None):\n",
    "        print(f'{Email} valid Input')\n",
    "    else:\n",
    "        print(f'{Email} is missing \"@\" character (invalid input)')\n",
    "profile_validation3()"
   ]
  },
  {
   "cell_type": "code",
   "execution_count": 33,
   "metadata": {},
   "outputs": [
    {
     "name": "stdout",
     "output_type": "stream",
     "text": [
      "sam Valid input..(No special characters dectected)\n",
      "23 Age Validation Passed\n",
      "f@y valid Input\n"
     ]
    }
   ],
   "source": [
    "''' REVISED function practice CODE # 1.2 '''\n",
    "# code calls 3 functions in one\n",
    "\n",
    "def Gen_profile(**arg):\n",
    "    profile = (profile_validation1() , profile_validation2(), profile_validation3())\n",
    "    #return(profile)\n",
    "\n",
    "Gen_profile()"
   ]
  },
  {
   "cell_type": "code",
   "execution_count": 34,
   "metadata": {},
   "outputs": [
    {
     "name": "stdout",
     "output_type": "stream",
     "text": [
      "0 78 Valid input..(No special characters dectected)\n",
      "24 Age Validation Passed\n",
      "t@y valid Input\n"
     ]
    }
   ],
   "source": [
    "def Gen_profile(**arg):\n",
    "    p1 = profile_validation1()\n",
    "    p2 = profile_validation2()\n",
    "    p3 = profile_validation3()\n",
    "    profile = ( p1, p2, p3)\n",
    "    #return(profile)\n",
    "\n",
    "Gen_profile()"
   ]
  },
  {
   "attachments": {},
   "cell_type": "markdown",
   "metadata": {},
   "source": [
    "### Factorial Function\n",
    "- A recursive function is a function that calls itself. This is useful when you want to perform an operation on a number and all the numbers below it.\n",
    "- Define a recursive function called factorial that returns the factorial of a given number.\n",
    "- Define a function called factorial that takes in a number\n",
    "- If the number is 0, return 1\n",
    "- Otherwise, return the number multiplied by the factorial of the number minus 1. In this case, you have to call the function again inside itself.\n",
    "- Call your function to test it. Use the number 5 as an input, you should get 120 as an output."
   ]
  },
  {
   "cell_type": "code",
   "execution_count": 27,
   "metadata": {},
   "outputs": [
    {
     "name": "stdout",
     "output_type": "stream",
     "text": [
      "2\n"
     ]
    }
   ],
   "source": [
    "import math\n",
    "math.factorial\n",
    "\n",
    "def factorial(*args):\n",
    "    x = int(input('Enter a number :'))\n",
    "    if (x == 0) == True:\n",
    "        print(1-x)\n",
    "    else:\n",
    "        print(math.factorial(x))\n",
    "factorial()"
   ]
  },
  {
   "attachments": {},
   "cell_type": "markdown",
   "metadata": {},
   "source": [
    "\n",
    "-  Recursive Fibonnaci Function\n",
    "- Create a function which takes in an integer n, and when called, returns a list of the first n Fibonnaci numbers.\n",
    "\n",
    "- It should be a recursive function which calls itself inside the function body.\n",
    "- Fibonnaci numbers: 1, 1, 2, 3, 5, 8, 13, 21 ..."
   ]
  },
  {
   "cell_type": "code",
   "execution_count": 4,
   "metadata": {},
   "outputs": [
    {
     "name": "stdout",
     "output_type": "stream",
     "text": [
      "1 : 1\n",
      "2 : 1\n",
      "3 : 2\n",
      "4 : 3\n"
     ]
    }
   ],
   "source": [
    "'''Recursive Fibonnaci Function which takes in an integer n, and when called, \n",
    "returns a list of the first n Fibonnaci numbers\n",
    "Rev_2.0'''\n",
    "\n",
    "def fibonacci(n):\n",
    "    if n == 0:\n",
    "        return(0)\n",
    "    elif n == 1:\n",
    "        return(1)\n",
    "    elif n == 2:\n",
    "        return(1)\n",
    "    elif n > 2:\n",
    "       return fibonacci(n-1) + fibonacci(n-2)\n",
    "for n in range((int(input('Enter fisrt Range :' ))),(int(input('Enter second Range :' )))):\n",
    "    print(n, \":\", fibonacci(n))    \n",
    "    \n",
    "\n",
    "\n"
   ]
  },
  {
   "cell_type": "code",
   "execution_count": null,
   "metadata": {},
   "outputs": [],
   "source": [
    "'''Recursive Fibonnaci Function which takes in an integer n, and when called, \n",
    "returns a list of the first n Fibonnaci numbers\n",
    "Rev_2.1'''\n",
    "\n",
    "def fibonacci(n):\n",
    "    if n == 0:\n",
    "        return(0)\n",
    "    elif n == 1:\n",
    "        return(1)\n",
    "    elif n == 2:\n",
    "        return(1)\n",
    "    elif n > 2:\n",
    "       return fibonacci(n-1) + fibonacci(n-2) # becos this function is calling its self it is Recursive\n",
    "A = int(input('Enter fisrt Range :' ))\n",
    "B = int(input('Enter second Range :' ))\n",
    "for n in range(A, B):\n",
    "    print(n, \":\", fibonacci(n))  "
   ]
  },
  {
   "attachments": {},
   "cell_type": "markdown",
   "metadata": {},
   "source": [
    "\n",
    "Fibonnaci Loop\n",
    "Write a for loop that prints the first 100 Fibonnaci numbers\n",
    "Create a function which returns True if the number is a multiple of 7 and False otherwise\n",
    "Call this function on each number inside your loop\n",
    "Add an elif condition to the loop to call another new function which checks if the number is greater than or equal to 100 OR is less than 50. In the case that it is True, format a string that prints the number and either \"is larger than 100\" or \"is less than 50\"."
   ]
  },
  {
   "cell_type": "code",
   "execution_count": 3,
   "metadata": {},
   "outputs": [
    {
     "name": "stdout",
     "output_type": "stream",
     "text": [
      "0 : 0\n",
      "1 : 1\n",
      "2 : 1\n",
      "3 : 2\n",
      "4 : 3\n"
     ]
    }
   ],
   "source": [
    "def fibonacci(n):\n",
    "    if n == 0:\n",
    "        return(0)\n",
    "    elif n == 1:\n",
    "        return(1)\n",
    "    elif n == 2:\n",
    "        return(1)\n",
    "    elif n > 2:\n",
    "       return fibonacci(n-1) + fibonacci(n-2) # becos this function is calling its self it is Recursive\n",
    "A = int(input('Enter fisrt Range :' ))\n",
    "B = int(input('Enter fisrt Range :' ))\n",
    "for n in range(A, B):\n",
    "    print(n, \":\", fibonacci(n)) "
   ]
  },
  {
   "attachments": {},
   "cell_type": "markdown",
   "metadata": {},
   "source": [
    "\n",
    "### Fibonnaci Loop\n",
    "- Write a for loop that prints the first 100 Fibonnaci numbers\n",
    "- Create a function which returns True if the number is a multiple of 7 and False otherwise\n",
    "- Call this function on each number inside your loop\n",
    "- Add an elif condition to the loop to call another new function which checks if the number is greater than or equal to 100 OR is less than 50. In the case that it is True, format a string that prints the number and either \"is larger than 100\" or \"is less than 50\"."
   ]
  },
  {
   "attachments": {},
   "cell_type": "markdown",
   "metadata": {},
   "source": [
    "### IMPORTANT: To make the code fast we I need to introduce MEMOIZATION before defining a function."
   ]
  },
  {
   "cell_type": "code",
   "execution_count": null,
   "metadata": {},
   "outputs": [],
   "source": [
    "# Write a for loop that prints the first 100 Fibonnaci numbers \n",
    "\n",
    "for n in range (0,100):\n",
    "    print(n, \":\", fibonacci(n))\n",
    "     \n",
    "   \n"
   ]
  },
  {
   "cell_type": "code",
   "execution_count": null,
   "metadata": {},
   "outputs": [],
   "source": [
    "# Create a function which returns True if the number is a multiple of 7 and False otherwise\n",
    "\n",
    "for n in range (0,100):\n",
    "   if fibonacci(n) % 7 == 0:\n",
    "      print(n, \":\", fibonacci(n))\n",
    "      \n",
    "   \n"
   ]
  },
  {
   "cell_type": "code",
   "execution_count": null,
   "metadata": {},
   "outputs": [],
   "source": [
    "for n in range (0,100):\n",
    "   if fibonacci(n) % 7 == 0:\n",
    "      print(n, \":\", fibonacci(n)) \n",
    "   else:\n",
    "      print('False')"
   ]
  },
  {
   "cell_type": "code",
   "execution_count": 68,
   "metadata": {},
   "outputs": [
    {
     "name": "stdout",
     "output_type": "stream",
     "text": [
      "0 : 0\n",
      "8 : 21\n",
      "16 : 987\n",
      "24 : 46368\n",
      "32 : 2178309\n",
      "40 : 102334155\n",
      "48 : 4807526976\n",
      "56 : 225851433717\n",
      "64 : 10610209857723\n",
      "72 : 498454011879264\n",
      "80 : 23416728348467685\n",
      "88 : 1100087778366101931\n",
      "96 : 51680708854858323072\n"
     ]
    }
   ],
   "source": [
    "# Create a function which returns True if the number is a multiple of 7 and False otherwise\n",
    "\n",
    "def fibonacci_7(n):\n",
    "    for n in range (0,100):\n",
    "        if fibonacci(n) % 7 == 0:\n",
    "            print(n, \":\", fibonacci(n)) \n",
    "fibonacci_7(n)"
   ]
  },
  {
   "cell_type": "code",
   "execution_count": 49,
   "metadata": {},
   "outputs": [
    {
     "name": "stdout",
     "output_type": "stream",
     "text": [
      "0 : 0\n",
      "8 : 21\n",
      "16 : 987\n",
      "24 : 46368\n",
      "32 : 2178309\n",
      "40 : 102334155\n",
      "48 : 4807526976\n",
      "56 : 225851433717\n",
      "64 : 10610209857723\n",
      "72 : 498454011879264\n",
      "80 : 23416728348467685\n",
      "88 : 1100087778366101931\n",
      "96 : 51680708854858323072\n"
     ]
    }
   ],
   "source": [
    "fibonacci_7(n)"
   ]
  },
  {
   "cell_type": "code",
   "execution_count": 21,
   "metadata": {},
   "outputs": [
    {
     "name": "stdout",
     "output_type": "stream",
     "text": [
      "0 : 0\n",
      "False\n",
      "False\n",
      "False\n",
      "False\n",
      "False\n",
      "False\n",
      "False\n",
      "8 : 21\n",
      "False\n",
      "False\n",
      "False\n",
      "False\n",
      "False\n",
      "False\n",
      "False\n",
      "16 : 987\n",
      "False\n",
      "False\n",
      "False\n",
      "False\n",
      "False\n",
      "False\n",
      "False\n",
      "24 : 46368\n",
      "False\n",
      "False\n",
      "False\n",
      "False\n",
      "False\n",
      "False\n",
      "False\n",
      "32 : 2178309\n",
      "False\n",
      "False\n",
      "False\n",
      "False\n",
      "False\n",
      "False\n",
      "False\n",
      "40 : 102334155\n",
      "False\n",
      "False\n",
      "False\n",
      "False\n",
      "False\n",
      "False\n",
      "False\n",
      "48 : 4807526976\n",
      "False\n",
      "False\n",
      "False\n",
      "False\n",
      "False\n",
      "False\n",
      "False\n",
      "56 : 225851433717\n",
      "False\n",
      "False\n",
      "False\n",
      "False\n",
      "False\n",
      "False\n",
      "False\n",
      "64 : 10610209857723\n",
      "False\n",
      "False\n",
      "False\n",
      "False\n",
      "False\n",
      "False\n",
      "False\n",
      "72 : 498454011879264\n",
      "False\n",
      "False\n",
      "False\n",
      "False\n",
      "False\n",
      "False\n",
      "False\n",
      "80 : 23416728348467685\n",
      "False\n",
      "False\n",
      "False\n",
      "False\n",
      "False\n",
      "False\n",
      "False\n",
      "88 : 1100087778366101931\n",
      "False\n",
      "False\n",
      "False\n",
      "False\n",
      "False\n",
      "False\n",
      "False\n",
      "96 : 51680708854858323072\n",
      "False\n",
      "False\n",
      "False\n"
     ]
    }
   ],
   "source": [
    "def fibo_7(n):\n",
    "    for n in range (0,100):\n",
    "        if fibonacci(n) % 7 == 0:\n",
    "            print(n, \":\", fibonacci(n)) \n",
    "        else:\n",
    "            print('False')\n",
    "fibo_7(n)\n"
   ]
  },
  {
   "cell_type": "code",
   "execution_count": 78,
   "metadata": {},
   "outputs": [
    {
     "name": "stdout",
     "output_type": "stream",
     "text": [
      "0 : 0\n",
      "8 : 21\n",
      "16 : 987\n",
      "24 : 46368\n",
      "32 : 2178309\n",
      "40 : 102334155\n",
      "48 : 4807526976\n",
      "56 : 225851433717\n",
      "64 : 10610209857723\n",
      "72 : 498454011879264\n",
      "80 : 23416728348467685\n",
      "88 : 1100087778366101931\n",
      "96 : 51680708854858323072\n"
     ]
    }
   ],
   "source": [
    "fibo_7(n)"
   ]
  },
  {
   "cell_type": "code",
   "execution_count": null,
   "metadata": {},
   "outputs": [],
   "source": [
    "# Add an elif condition to the loop to call another new function which checks if the number is \n",
    "# greater than or equal to 100 OR is less than 50. In the case that it is True, \n",
    "# format a string that prints the number and either \"is larger than 100\" or \"is less than 50\".\n",
    "\n",
    "def fibo_new(n):\n",
    "    for n in range (0,100):\n",
    "        if fibonacci(n) >= 10 or fibonacci(n) < 50:\n",
    "            print(n, \":\", fibonacci(n)) \n",
    "fibo_new(n)"
   ]
  },
  {
   "cell_type": "code",
   "execution_count": null,
   "metadata": {},
   "outputs": [],
   "source": [
    "\n",
    "def fibo_new(n):\n",
    "    for n in range (0,100):\n",
    "        if fibonacci(n) % 7 == 0:\n",
    "            print(n, \":\", fibonacci(n))\n",
    "        elif (fibonacci(n) < 50):\n",
    "            print(f' {fibonacci(n)} is less than 50')\n",
    "        elif (fibonacci(n) >= 100):\n",
    "             print(f' {fibonacci(n)} is more than 100')\n",
    "fibo_new(n)"
   ]
  },
  {
   "cell_type": "code",
   "execution_count": null,
   "metadata": {},
   "outputs": [],
   "source": [
    "def fibonacci_7(n):\n",
    "    for n in range (0,100):\n",
    "        if fibonacci(n) % 7 == 0:\n",
    "            print(n, \":\", fibonacci(n))\n",
    "        elif fibonacci(n) % 7 != 0:\n",
    "            return fibo_new(n) \n",
    "fibonacci_7(n)"
   ]
  },
  {
   "attachments": {},
   "cell_type": "markdown",
   "metadata": {},
   "source": [
    "## Memoization\n",
    "###  The idea is to cache values to prevent unneccessay repetition.\n",
    "### Memoization should be introduced before defining or creating a function\n"
   ]
  },
  {
   "cell_type": "code",
   "execution_count": null,
   "metadata": {},
   "outputs": [],
   "source": [
    "\n",
    "for n in range (0,100):\n",
    "    print(fibonacci(n))"
   ]
  },
  {
   "cell_type": "code",
   "execution_count": null,
   "metadata": {},
   "outputs": [],
   "source": [
    "# Explicite implementation of Memiozation\n",
    " \n",
    "fibonacci_cache = {}\n",
    "def fibonacci(n):\n",
    "    # If we have cached the value, then return it \n",
    "    if n in fibonacci_cache:\n",
    "        return fibonacci_cache[n]\n",
    "    \n",
    "    # compute the nth term\n",
    "    if n == 0:\n",
    "        value = 0\n",
    "    elif n == 1:\n",
    "        value = 1\n",
    "    elif n == 2:\n",
    "        value = 1\n",
    "    elif n > 2:\n",
    "       value =  fibonacci(n-1) + fibonacci(n-2)\n",
    "    \n",
    "    # cache the value and return it \n",
    "    fibonacci_cache[n] = value\n",
    "    return value\n",
    "A = int(input('Enter fisrt Range :' ))\n",
    "B = int(input('Enter second Range :' ))\n",
    "for n in range(A, B):\n",
    "    print(n, \":\", fibonacci(n)) \n"
   ]
  },
  {
   "attachments": {},
   "cell_type": "markdown",
   "metadata": {},
   "source": [
    "### Memoization using python built-in Functool \n",
    "### lru_cache (Least Recently Used Cache)"
   ]
  },
  {
   "cell_type": "code",
   "execution_count": null,
   "metadata": {},
   "outputs": [],
   "source": [
    "from functools import lru_cache\n",
    "\n",
    "@lru_cache(maxsize = 1000) # by default python will cache  128 used values if nothing is secified \n",
    "def fibonacci(n):\n",
    "# If we have cached the value, then return it \n",
    "    #if n in fibonacci_cache:\n",
    "        #return fibonacci_cache[n]\n",
    "    \n",
    "# compute the nth term\n",
    "    if n == 0:\n",
    "         return 0\n",
    "    elif n == 1:\n",
    "         return 1\n",
    "    elif n == 2:\n",
    "        return 1\n",
    "    elif n > 2:\n",
    "        return  fibonacci(n-1) + fibonacci(n-2)\n",
    "    \n",
    "# cache the value and return it \n",
    "    #fibonacci_cache[n] = value\n",
    "    #return value\n",
    "A = int(input('Enter fisrt Range :' ))\n",
    "B = int(input('Enter second Range :' ))\n",
    "for n in range(A, B):\n",
    "    print(n, \":\", fibonacci(n)) \n"
   ]
  },
  {
   "cell_type": "code",
   "execution_count": 41,
   "metadata": {},
   "outputs": [
    {
     "name": "stdout",
     "output_type": "stream",
     "text": [
      "0 : 0\n",
      "1 : 1\n",
      "2 : 1\n",
      "3 : 2\n",
      "4 : 3\n"
     ]
    }
   ],
   "source": [
    "from functools import lru_cache\n",
    "\n",
    "@lru_cache(maxsize = 1000) # by default python will cache  128 used values if nothing is secified \n",
    "\n",
    "def fibonacci(n):\n",
    "    if n == 0:\n",
    "        return 0\n",
    "    elif n == 1:\n",
    "         return 1\n",
    "    elif n == 2:\n",
    "         return 1\n",
    "    elif n > 2:\n",
    "        return fibonacci(n-1) + fibonacci(n-2)\n",
    "A = int(input('Enter fisrt Range :' ))\n",
    "B = int(input('Enter second Range :' ))\n",
    "for n in range(A, B):\n",
    "    print(n, \":\", fibonacci(n))\n",
    "    fibonacci(n)"
   ]
  },
  {
   "cell_type": "code",
   "execution_count": 42,
   "metadata": {},
   "outputs": [
    {
     "data": {
      "text/plain": [
       "3"
      ]
     },
     "execution_count": 42,
     "metadata": {},
     "output_type": "execute_result"
    }
   ],
   "source": [
    "fibonacci(n)\n"
   ]
  },
  {
   "attachments": {},
   "cell_type": "markdown",
   "metadata": {},
   "source": [
    "### Code review with TypeError and ValueError exception message included"
   ]
  },
  {
   "cell_type": "code",
   "execution_count": null,
   "metadata": {},
   "outputs": [],
   "source": [
    "# code review to process negative number input, float input or string input\n",
    "from functools import lru_cache\n",
    "\n",
    "@lru_cache(maxsize = 1000) # by default python will cache  128 used values if nothing is secified \n",
    "\n",
    "def fibonacci(n):\n",
    "    # Check that the input is an integer\n",
    "    #if A < 0 and B > 0:\n",
    "        #raise TypeError(\"n must be a positive integer\")\n",
    "    #if A > 0 and B < 0:\n",
    "        #raise TypeError(\"n must be a positive integer\")\n",
    "    #if (type(A) != int) or (type(B) != int):\n",
    "        #raise ValueError(\"n must be a +tive integer\")\n",
    "    # Compute the nth term\n",
    "    if n == 0:\n",
    "        return 0\n",
    "    elif n == 1:\n",
    "         return 1\n",
    "    elif n == 2:\n",
    "        return 1\n",
    "    elif n > 2:\n",
    "        return fibonacci(n-1) + fibonacci(n-2)\n",
    "A = int(input('Enter fisrt Range :' ))\n",
    "B = int(input('Enter second Range :' ))\n",
    "for n in range(A, B):\n",
    "    print(n, \":\", fibonacci(n)) "
   ]
  },
  {
   "attachments": {},
   "cell_type": "markdown",
   "metadata": {},
   "source": [
    "### code with MEMOIZATION"
   ]
  },
  {
   "cell_type": "code",
   "execution_count": null,
   "metadata": {},
   "outputs": [],
   "source": [
    "# Add an elif condition to the loop to call another new function which checks if the number is \n",
    "# greater than or equal to 100 OR is less than 50. In the case that it is True, \n",
    "# format a string that prints the number and either \"is larger than 100\" or \"is less than 50\".\n",
    "# with MEMOIZATION\n",
    "\n",
    "from functools import lru_cache\n",
    "\n",
    "@lru_cache(maxsize = 1000)\n",
    "\n",
    "def fibonacci_7(n):\n",
    "    for n in range (0,100):\n",
    "        if fibonacci(n) % 7 == 0:\n",
    "            print(n, \":\", fibonacci(n))\n",
    "        elif fibonacci(n) % 7 != 0:\n",
    "            return fibo_new(n) \n",
    "fibonacci_7(n)"
   ]
  },
  {
   "cell_type": "code",
   "execution_count": null,
   "metadata": {},
   "outputs": [],
   "source": [
    "from functools import lru_cache\n",
    "\n",
    "@lru_cache(maxsize = 1000)\n",
    "\n",
    "def fibo_7(n):\n",
    "    for n in range (0,100):\n",
    "        if fibonacci(n) % 7 == 0:\n",
    "            print(n, \":\", fibonacci(n)) \n",
    "        else:\n",
    "            print(n, \":\",'False')\n",
    "fibo_7(n)"
   ]
  },
  {
   "attachments": {},
   "cell_type": "markdown",
   "metadata": {},
   "source": [
    "### Inverse\n",
    "- Define a recursive function called inverse that returns the inverse of a string,\n",
    "- where the start and end characters appear at the middle of the word"
   ]
  },
  {
   "cell_type": "code",
   "execution_count": 8,
   "metadata": {},
   "outputs": [
    {
     "name": "stdout",
     "output_type": "stream",
     "text": [
      "opot"
     ]
    }
   ],
   "source": [
    "\n",
    "def inverse(s):\n",
    "    if len(s) > 0:\n",
    "        print(s[len(s)-1], end = \"\")\n",
    "        inverse(s[:len(s)-1])\n",
    "inverse(\"topo\")"
   ]
  },
  {
   "cell_type": "code",
   "execution_count": 1,
   "metadata": {},
   "outputs": [
    {
     "name": "stdout",
     "output_type": "stream",
     "text": [
      "PRET\n"
     ]
    }
   ],
   "source": [
    "def inverse(x):\n",
    "    if len(x) == 1:\n",
    "        return x\n",
    "    else:\n",
    "        return inverse(x[1:]) + x[0]\n",
    "x = input('Enter a String Value: ')\n",
    "y = inverse(x)\n",
    "print(y)\n",
    "\n"
   ]
  },
  {
   "cell_type": "code",
   "execution_count": 5,
   "metadata": {},
   "outputs": [
    {
     "name": "stdout",
     "output_type": "stream",
     "text": [
      "['P', 'R', 'E', 'T']\n"
     ]
    }
   ],
   "source": [
    "a = ['T','E','R','P']\n",
    "a.reverse()\n",
    "print(a)"
   ]
  },
  {
   "cell_type": "code",
   "execution_count": 70,
   "metadata": {},
   "outputs": [
    {
     "name": "stdout",
     "output_type": "stream",
     "text": [
      "[8, 6, 4, 2]\n"
     ]
    }
   ],
   "source": [
    "b = [2, 4, 6, 8 ]\n",
    "b.reverse()\n",
    "print(b)"
   ]
  },
  {
   "cell_type": "code",
   "execution_count": 2,
   "metadata": {},
   "outputs": [
    {
     "name": "stdout",
     "output_type": "stream",
     "text": [
      "pot\n"
     ]
    }
   ],
   "source": [
    "''' REV 3.0 - This code returns the inverse of a string, where the start and \n",
    "end characters appear at the middle of the word. Achieved by \n",
    "applying conditional statement, splicing and concatenation'''\n",
    "\n",
    "import re\n",
    "nox = re.compile(\"[!@£$%^&*()1234567890]\")\n",
    "wordx = input('Enter a String Value: ')\n",
    "if (nox.search(wordx) != None):\n",
    "    print(f' Input Error...Ensure Input is a String')\n",
    "elif len(wordx) == 1:\n",
    "    print(wordx)\n",
    "elif len(wordx) == 2:\n",
    "    print(wordx[::-1])\n",
    "elif len(wordx) == 3:\n",
    "    print(wordx[::-1])\n",
    "elif len(wordx) == 4:\n",
    "    print(wordx[1::-1] + wordx[:1:-1])\n",
    "elif len(wordx) == 5:\n",
    "    print(wordx[1::-1] + wordx[:1:-1])\n",
    "elif len(wordx) == 6:\n",
    "    print(wordx[2::-1] + wordx[:2:-1])\n",
    "elif len(wordx) == 7:\n",
    "    print(wordx[2::-1] + wordx[:2:-1])\n",
    "elif len(wordx) == 8:\n",
    "    print(wordx[3::-1] + wordx[:3:-1])\n",
    "elif len(wordx) == 9:\n",
    "    print(wordx[3::-1] + wordx[:3:-1])\n",
    "elif len(wordx) == 9:\n",
    "    print(wordx[3::-1] + wordx[:3:-1])\n",
    "elif len(wordx) == 10:\n",
    "    print(wordx[4::-1] + wordx[:4:-1])\n",
    "elif len(wordx) == 11:\n",
    "    print(wordx[4::-1] + wordx[:4:-1])\n",
    "elif len(wordx) == 12:\n",
    "    print(wordx[5::-1] + wordx[:5:-1])\n",
    "elif len(wordx) == 13:\n",
    "    print(wordx[5::-1] + wordx[:5:-1])\n",
    "else:\n",
    "    print(wordx[(len(wordx)//2)-1::-1] + wordx[:(len(wordx)//2)-1:-1])"
   ]
  },
  {
   "cell_type": "code",
   "execution_count": 73,
   "metadata": {},
   "outputs": [
    {
     "name": "stdout",
     "output_type": "stream",
     "text": [
      "pocsorcimartluonomuenpsesoinoconaclovocilisci\n"
     ]
    }
   ],
   "source": [
    "''' REV 3.1 - UPDATE\n",
    "Revised code returns the inverse of a string, where the start and \n",
    "end characters appear at the middle of the word. Achieved by \n",
    "applying conditional statement, splicing and concatenation.\n",
    "Code has been shortened by introducing formulars to the \n",
    "pattern observed in the previous code'''\n",
    "\n",
    "\n",
    "import re\n",
    "nox = re.compile(\"[!@£$%^&*()1234567890]\")\n",
    "wordx = input('Enter a String Value: ')\n",
    "if (nox.search(wordx) != None):\n",
    "    print(f' Input Error...Ensure Input is a String')\n",
    "elif len(wordx) == 1:\n",
    "    print(wordx)\n",
    "elif len(wordx) == 2:\n",
    "    print(wordx[::-1])\n",
    "elif len(wordx) == 3:\n",
    "    print(wordx[::-1])\n",
    "else:\n",
    "    print(wordx[(len(wordx)//2)-1::-1] + wordx[:(len(wordx)//2)-1:-1])"
   ]
  },
  {
   "cell_type": "code",
   "execution_count": 162,
   "metadata": {},
   "outputs": [
    {
     "name": "stdout",
     "output_type": "stream",
     "text": [
      "grg\n"
     ]
    }
   ],
   "source": [
    "''' REV 3.2 - UPDATE\n",
    "Revised code now acts as a function that returns the inverse of a string, where the start and \n",
    "end characters appear at the middle of the word. Achieved by \n",
    "applying conditional statement, splicing and concatenation.\n",
    "Code has been shortened by introducing formulars to the \n",
    "pattern observed in the initial code.\n",
    "'''\n",
    "\n",
    "import re\n",
    "nox = re.compile(\"[!@£$%^&*()1234567890]\")\n",
    "\n",
    "def inverse(*args):\n",
    "    wordx = input('Enter a String Value: ')\n",
    "    if (nox.search(wordx) != None):\n",
    "        print(f' Input Error...Ensure Input is a String')\n",
    "    elif len(wordx) == 1:\n",
    "        print(wordx)\n",
    "    elif len(wordx) == 2:\n",
    "        print(wordx[::-1])\n",
    "    elif len(wordx) == 3:\n",
    "        print(wordx[::-1])\n",
    "    else:\n",
    "        print(wordx[(len(wordx)//2)-1::-1] + wordx[:(len(wordx)//2)-1:-1])\n",
    "inverse()\n",
    "  "
   ]
  },
  {
   "cell_type": "code",
   "execution_count": 163,
   "metadata": {},
   "outputs": [
    {
     "name": "stdout",
     "output_type": "stream",
     "text": [
      "grg\n"
     ]
    }
   ],
   "source": [
    "''' REV 3.3 - UPDATE\n",
    "This function returns the inverse of a string, where the start and \n",
    "end characters appear at the middle of the word. \n",
    "'''\n",
    "inverse()"
   ]
  },
  {
   "attachments": {},
   "cell_type": "markdown",
   "metadata": {},
   "source": [
    "\n",
    "### Palindrome?\n",
    "- A palindrome is a word, phrase, number, or other sequence of characters which reads the same backward or forward. This includes capital letters, punctuation, and other special characters.\n",
    "- Write a function that takes in a string and returns True if it is a palindrome and False otherwise\n",
    "- Write a function that takes in a string and returns True if it is a palindrome and False otherwise. This time, ignore capitalisation and punctuation.\n",
    "- There are several ways to implement this. Some require less code, but some are more efficient; which is yours, and can you think of how to implement the other way?"
   ]
  },
  {
   "cell_type": "code",
   "execution_count": 113,
   "metadata": {},
   "outputs": [
    {
     "name": "stdout",
     "output_type": "stream",
     "text": [
      " A,sa is not a palindrome\n",
      "A,sa\n",
      "as,A\n"
     ]
    }
   ],
   "source": [
    "''' REV 4.0.0 - This is a code that takes in a string and returns True if it is a \n",
    "palindrome and False otherwise (DO NOT IGNORE capital letters and punctuations) i.e. \n",
    "if a string contains capital letters they should be considered as different element.\n",
    "for example A and a should be considered different and punctions should be taken into \n",
    "consideration while assessing if string is a palindrome or not'''\n",
    "import re\n",
    "s_char = re.compile(\"[!@£$%^&*(),.<>?;:'#~+=_-¬`1234567890ABCDEFGHIJKLMNOPQRSTUVWXYZ]\")\n",
    "wordy = input('Enter a String Value: ')\n",
    "while len(wordy) == 0:\n",
    "    wordy = input('Enter a String Value: ') \n",
    "if (len(wordy) >= 1 and s_char.search(wordy) != None) and wordy == wordy[::-1] :\n",
    "    print(f' {wordy} is a palindrome')\n",
    "else:\n",
    "    print(f' {wordy} is not a palindrome') \n",
    "    \n",
    "print(wordy)\n",
    "print(wordy[::-1])"
   ]
  },
  {
   "attachments": {},
   "cell_type": "markdown",
   "metadata": {},
   "source": [
    "- Creating a function to check if string is a palindrome (capitals and punctuations included)"
   ]
  },
  {
   "cell_type": "code",
   "execution_count": 146,
   "metadata": {},
   "outputs": [
    {
     "name": "stdout",
     "output_type": "stream",
     "text": [
      " Asa is not a palindrome Asa is not = asA\n"
     ]
    }
   ],
   "source": [
    "'''Function of Rev 4.0.0'''\n",
    "def palindrome_1(*args):\n",
    "    import re\n",
    "    s_char = re.compile(\"[!@£$%^&*(),.<>?;:'#~+=_-¬`1234567890ABCDEFGHIJKLMNOPQRSTUVWXYZ]\")\n",
    "    wordy = input('Enter a String Value: ')\n",
    "    while len(wordy) == 0:\n",
    "        wordy = input('Enter a String Value: ') \n",
    "    if (len(wordy) >= 1 and s_char.search(wordy) != None) and wordy == wordy[::-1] :\n",
    "        print(f' {wordy} is a palindrome as {wordy} <=> {wordy[::-1]}')\n",
    "    else:\n",
    "        print(f' {wordy} is not a palindrome {wordy} is not = {wordy[::-1]}') \n",
    "    \n",
    "palindrome_1()"
   ]
  },
  {
   "cell_type": "code",
   "execution_count": 147,
   "metadata": {},
   "outputs": [
    {
     "name": "stdout",
     "output_type": "stream",
     "text": [
      " AsA is a palindrome as AsA <=> AsA\n"
     ]
    }
   ],
   "source": [
    "palindrome_1()\n"
   ]
  },
  {
   "cell_type": "code",
   "execution_count": null,
   "metadata": {},
   "outputs": [],
   "source": [
    "''' This code tralates punctuation to space'''\n",
    "wordy = input('Enter a String Value: ')\n",
    "wordy_1 = (wordy.lower()).translate({33:32,34:32,39:32,40:32,41:32,44:32,45:32,46:32,58:32,59:32,63:32,91:32,93:32})\n",
    "print(wordy_1)\n",
    "\n",
    "''' This code closes up spaces created in a string '''\n",
    "print((wordy_1.replace(\" \",\"\")))      \n",
    "print(((wordy_1[::-1]).replace(\" \",\"\")))\n",
    "\n",
    "''' Example of translation of character using ASCII code. \n",
    "This translates a (ascii 44)comma \",\" to a (ascii32)space \" \"'''\n",
    "mydict = {44: 32 }\n",
    "txt = \"H,e,l,l,o Sam\"\n",
    "print(txt.translate(mydict))"
   ]
  },
  {
   "cell_type": "code",
   "execution_count": 136,
   "metadata": {},
   "outputs": [
    {
     "name": "stdout",
     "output_type": "stream",
     "text": [
      " as a is a palindrome\n",
      "as a\n",
      "a sa\n"
     ]
    }
   ],
   "source": [
    "''' REV 4.1.0 - This is a code that takes in a string and returns True if it is a \n",
    "palindrome and False otherwise (IGNORE capital letters and punctuations) i.e. \n",
    "if a string contains capital letters they should be considered as different element.\n",
    "for example A and a not should be considered different and punctions should not be taken into \n",
    "consideration while assessing if string is a palindrome or not'''\n",
    "\n",
    "import re\n",
    "s_char = re.compile(\"[ !@£$%^&*<>(),.?;:'#~+=_-¬`1234567890ABCDEFGHIJKLMNOPQRSTUVWXYZ]\")\n",
    "excl_punct = {32:32,33:32,34:32,39:32,40:32,41:32,44:32,45:32,46:32,58:32,59:32,63:32,91:32,93:32}\n",
    "wordy = input('Enter a String Value: ')\n",
    "word_1 = (wordy.lower()).translate(excl_punct)\n",
    "\n",
    "while len(wordy) == 0:\n",
    "    wordy = input('Enter a String Value: ')\n",
    "if (len(wordy)) >= 1 and (s_char.search(wordy) != None) and (word_1 == word_1[::-1]):\n",
    "    print(f' {(wordy)} is a palindrome')\n",
    "elif(len(wordy)) >= 1 and (s_char.search(wordy) != None) and (word_1 != word_1[::-1]):\n",
    "    print(f' {(word_1)} is a palindrome')\n",
    "else:\n",
    "    print(f' {(wordy)} is not a palindrome')\n",
    "\n",
    "print(word_1)\n",
    "print(word_1[::-1])\n"
   ]
  },
  {
   "cell_type": "code",
   "execution_count": 156,
   "metadata": {},
   "outputs": [
    {
     "name": "stdout",
     "output_type": "stream",
     "text": [
      " a sa is a palindrome\n",
      "a sa\n",
      "as a\n"
     ]
    }
   ],
   "source": [
    "'''Function of Rev 4.1.0'''\n",
    "def palindrome_2(*args):\n",
    "    import re\n",
    "    s_char = re.compile(\"[ !@£$%^&*<>(),.?;:'#~+=_-¬`1234567890ABCDEFGHIJKLMNOPQRSTUVWXYZ]\")\n",
    "    excl_punct = {32:32,33:32,34:32,39:32,40:32,41:32,44:32,45:32,46:32,58:32,59:32,63:32,91:32,93:32}\n",
    "    wordy = input('Enter a String Value: ')\n",
    "    word_1 = (wordy.lower()).translate(excl_punct)\n",
    "    while len(wordy) == 0:\n",
    "        wordy = input('Enter a String Value: ')\n",
    "    if (len(wordy)) >= 1 and (s_char.search(wordy) != None) and (word_1 == word_1[::-1]):\n",
    "        print(f' {(wordy)} is a palindrome')\n",
    "    elif(len(wordy)) >= 1 and (s_char.search(wordy) != None) and (word_1 != word_1[::-1]):\n",
    "        print(f' {(word_1)} is a palindrome')\n",
    "    else:\n",
    "        print(f' {(wordy)} is not a palindrome')\n",
    "    print(word_1)\n",
    "    print(word_1[::-1])\n",
    "\n",
    "palindrome_2()"
   ]
  },
  {
   "cell_type": "code",
   "execution_count": 157,
   "metadata": {},
   "outputs": [
    {
     "name": "stdout",
     "output_type": "stream",
     "text": [
      " as s is a palindrome\n",
      "as s\n",
      "s sa\n"
     ]
    }
   ],
   "source": [
    "palindrome_2()"
   ]
  },
  {
   "cell_type": "code",
   "execution_count": 134,
   "metadata": {},
   "outputs": [
    {
     "name": "stdout",
     "output_type": "stream",
     "text": [
      " As))a is a palindrome\n",
      "asa\n",
      "asa\n"
     ]
    }
   ],
   "source": [
    "''' REV 4.1.1 - This is a Revised from previous Rev 4.1.0 code that takes in a string and returns True if it is a \n",
    "palindrome and False otherwise (IGNORE capital letters and punctuations) i.e. \n",
    "if a string contains capital letters they should be considered as different element.\n",
    "for example A and a should not be considered different and punctions should not be taken into \n",
    "consideration while assessing if string is a palindrome or not'''\n",
    "\n",
    "import re\n",
    "s_char = re.compile(\"[ !@£$%^&*<>(),.?;:'#~+=_-¬`1234567890ABCDEFGHIJKLMNOPQRSTUVWXYZ]\")\n",
    "excl_punct = {32:32,33:32,34:32,39:32,40:32,41:32,44:32,45:32,46:32,58:32,59:32,63:32,91:32,93:32}\n",
    "wordy = input('Enter a String Value: ')\n",
    "word_1 = (wordy.lower()).translate(excl_punct)\n",
    "\n",
    "while len(wordy) == 0:\n",
    "    wordy = input('Enter a String Value: ')\n",
    "if (len(wordy)) >= 1 and (s_char.search(wordy) != None) and ((word_1.replace(\" \",\"\")) == (word_1[::-1]).replace(\" \",\"\")):\n",
    "    print(f' {(wordy)} is a palindrome')\n",
    "else:\n",
    "    print(f' {(wordy)} is not a palindrome')\n",
    "\n",
    "print((word_1.replace(\" \",\"\")))\n",
    "print(((word_1[::-1]).replace(\" \",\"\")))"
   ]
  },
  {
   "cell_type": "code",
   "execution_count": 2,
   "metadata": {},
   "outputs": [
    {
     "name": "stdout",
     "output_type": "stream",
     "text": [
      " Ese is a palindrome ==> ese\n"
     ]
    }
   ],
   "source": [
    "'''Function of Rev 4.1.1'''\n",
    "def palindrome_3(*args):\n",
    "    import re\n",
    "    s_char = re.compile(\"[ !@£$%^&*<>(),.?;:'#~+=_-¬`1234567890ABCDEFGHIJKLMNOPQRSTUVWXYZ]\")\n",
    "    excl_punct = {32:32,33:32,34:32,39:32,40:32,41:32,44:32,45:32,46:32,58:32,59:32,63:32,91:32,93:32}\n",
    "    wordy = input('Enter a String Value: ')\n",
    "    word_1 = (wordy.lower()).translate(excl_punct)\n",
    "\n",
    "    while len(wordy) == 0:\n",
    "        wordy = input('Enter a String Value: ')\n",
    "    if (len(wordy)) >= 1 and (s_char.search(wordy) != None) and ((word_1.replace(\" \",\"\")) == (word_1[::-1]).replace(\" \",\"\")):\n",
    "        print(f' {(wordy)} is a palindrome ==> {(word_1.replace(\" \",\"\"))}')\n",
    "    else:\n",
    "        print(f' {(wordy)} is not a palindrome')\n",
    "    \n",
    "palindrome_3()"
   ]
  },
  {
   "cell_type": "code",
   "execution_count": null,
   "metadata": {},
   "outputs": [],
   "source": []
  },
  {
   "cell_type": "code",
   "execution_count": 160,
   "metadata": {},
   "outputs": [
    {
     "name": "stdout",
     "output_type": "stream",
     "text": [
      " a sa is a palindrome as asa <=> asa\n"
     ]
    }
   ],
   "source": [
    "palindrome_3()"
   ]
  },
  {
   "cell_type": "code",
   "execution_count": null,
   "metadata": {},
   "outputs": [],
   "source": [
    "def count_characters(words: list) -> int:\n",
    "    total = 0\n",
    "    for word in words:\n",
    "        total += len(word)\n",
    "    return total"
   ]
  },
  {
   "attachments": {},
   "cell_type": "markdown",
   "metadata": {},
   "source": [
    "### Milestone 3 Task 3\n",
    "- Create 2 functions, check_guess and ask_for_input functions which contain the code for those two things.The check_guess function will take the guessed letter as an argument and check if the letter is in the word.\n",
    "- Step 1: Define a function called check_guess. pass in the guess as a parameter for the function. Write the code for the following steps in the body of this function.\n",
    "- Step 2: Convert the guess into lower case.\n",
    "- Step 3. Move the code that you wrote to check if the guess is in the word into this function block.\n",
    "\n",
    "##### The ask_for_input.\n",
    "\n",
    "- Step 1. Define a function called ask_for_input.\n",
    "-Step 2. Move the code that you wrote in the Iteratively check if the input is a valid guess task into this function block.\n",
    "- Step 3. Outside the while loop, but within this function, call the check_guess function to check if the guess is in the word. Don't forget to pass in the guess as an argument to the method.\n",
    "- Step 4. Outside the function, call the ask_for_input function to test your code."
   ]
  },
  {
   "cell_type": "code",
   "execution_count": 34,
   "metadata": {},
   "outputs": [
    {
     "name": "stdout",
     "output_type": "stream",
     "text": [
      "blue is the radom word in question\n",
      "Sorry, L is not in blue. Try again.\n"
     ]
    }
   ],
   "source": [
    "'''Rev 3.2 - Check whether the letter guessed by the user is in the secret word that was \n",
    "randomly chosen by the computer (Milestone 3 task 2). \n",
    "Capital Letters appear not yet to be valid inputs in thid version'''\n",
    "mylist = [\"blue\", \"car\", 'horse', 'titanium', 'composite']\n",
    "import random\n",
    "random.choice(mylist)\n",
    "word = random.choice(mylist)\n",
    "print(f'{word} is the radom word in question')\n",
    "\n",
    "guess = input('Please, enter a single alphabetical character: ')\n",
    "while guess == guess in word:\n",
    "    if len(guess) == 0:\n",
    "        guess = input('Please, enter a single alphabetical character: ')\n",
    "    elif (len(guess) == 1) and guess.isalpha() == True:\n",
    "        print(f'Good guess! {guess} is in {word}.')\n",
    "        break    \n",
    "else:\n",
    "    print(f'Sorry, {guess} is not in {word}. Try again.')"
   ]
  },
  {
   "cell_type": "code",
   "execution_count": 26,
   "metadata": {},
   "outputs": [
    {
     "name": "stdout",
     "output_type": "stream",
     "text": [
      "Sorry, y is not in titanium. Try again.\n"
     ]
    }
   ],
   "source": [
    "'''Rev 3.3 - this function Checks whether the letter guessed by the user is in the secret word that was \n",
    "randomly chosen by the computer (Milestone 3 task 2). \n",
    "Capital Letters appear not yet to be valid inputs in thid version'''\n",
    "mylist = [\"blue\", \"car\", 'horse', 'titanium', 'composite']\n",
    "\n",
    "def check_guess(*args): \n",
    "    import random\n",
    "    random.choice(mylist)\n",
    "    word = random.choice(mylist)\n",
    "    print(f'{word} is the radom word in question')\n",
    "\n",
    "    guess = input('Please, enter a single alphabetical character: ')\n",
    "    while guess == guess in word:\n",
    "        if len(guess) == 0:\n",
    "            guess = input('Please, enter a single alphabetical character: ')\n",
    "        elif (len(guess) == 1) and guess.isalpha() == True:\n",
    "            print(f'Good guess! {guess} is in {word}.')\n",
    "            break    # this controls the loop depending on indent\n",
    "    else:\n",
    "        print(f'Sorry, {guess} is not in {word}. Try again.')\n",
    "check_guess()"
   ]
  },
  {
   "cell_type": "code",
   "execution_count": 25,
   "metadata": {},
   "outputs": [
    {
     "name": "stdout",
     "output_type": "stream",
     "text": [
      "horse is the radom word in question\n",
      "Good guess! r is in horse.\n"
     ]
    }
   ],
   "source": [
    "check_guess()"
   ]
  },
  {
   "cell_type": "code",
   "execution_count": 35,
   "metadata": {},
   "outputs": [
    {
     "name": "stdout",
     "output_type": "stream",
     "text": [
      "blue is the radom word in question\n",
      "Good guess! u is in blue.\n"
     ]
    }
   ],
   "source": [
    "'''Rev 3.4 - this function Checks whether the letter guessed by the user is in the secret word that was \n",
    "randomly chosen by the computer (Milestone 3 task 2). \n",
    "Capital Letters have now been introduced as valid inputs in this version'''\n",
    "\n",
    "mylist = [\"blue\", \"car\", 'horse', 'titanium', 'composite']\n",
    "\n",
    "def check_guess(): \n",
    "    import random\n",
    "    random.choice(mylist)\n",
    "    word = random.choice(mylist)\n",
    "    print(f'{word} is the radom word in question')\n",
    "\n",
    "    guess = (input('Please, enter a single alphabetical character: ')).lower()\n",
    "    while guess == guess in word:\n",
    "        if len(guess) == 0:\n",
    "            guess = input('Please, enter a single alphabetical character: ').lower()\n",
    "        elif (len(guess) == 1) and guess.isalpha() == True:\n",
    "            print(f'Good guess! {guess} is in {word}.')\n",
    "            break    # this controls the loop depending on indent\n",
    "    else:\n",
    "        print(f'Sorry, {guess} is not in {word}. Try again.')\n",
    "check_guess()"
   ]
  },
  {
   "attachments": {},
   "cell_type": "markdown",
   "metadata": {},
   "source": [
    "### Milestone 4 Task 1"
   ]
  },
  {
   "cell_type": "code",
   "execution_count": 13,
   "metadata": {},
   "outputs": [
    {
     "name": "stdout",
     "output_type": "stream",
     "text": [
      "key_1\n",
      "1\n",
      "key_3\n",
      "3\n",
      "dictionary key name key_3 value is 3\n",
      "dictionary key name key_3 value is 3\n"
     ]
    }
   ],
   "source": [
    "my_dictionary = {       # Dictionaries are ordered and mutable\n",
    "    \"key_1\": 1,         # key value pair\n",
    "    \"key_2\": 2,         # key value pair\n",
    "    \"key_3\": 3          # key value pair\n",
    "    }\n",
    "a = \"key_1\"\n",
    "b = \"key_2\"\n",
    "c = \"key_3\"\n",
    "my_dictionary[a]\n",
    "print(a)                # Key can be assigned to a variable\n",
    "print(my_dictionary[a]) # indexing a dictionary key name returns the value of that key\n",
    "\n",
    "my_dict = my_dictionary[c]  # the indexed data can be assigned to a variable\n",
    "print(c)\n",
    "print(my_dict)\n",
    "\n",
    "print(f'dictionary key name {c} value is {my_dictionary[c]}')\n",
    "print(f'dictionary key name {c} value is {my_dict}')\n"
   ]
  },
  {
   "cell_type": "code",
   "execution_count": 17,
   "metadata": {},
   "outputs": [
    {
     "name": "stdout",
     "output_type": "stream",
     "text": [
      "{'insidekey': [100, 200]}\n",
      "[100, 200]\n",
      "200\n"
     ]
    }
   ],
   "source": [
    "# access a value in a nested dictionary\n",
    "\n",
    "d = {'k1': 50, 'k2': 123, 'k3': [0,1,2], 'k4': {'insidekey': [100, 200]}}\n",
    "print(d['k4']) # This will access the inner dictionary.\n",
    "print(d['k4']['insidekey']) # This will acess the list within the inner dictionary.\n",
    "print(d['k4']['insidekey'][1]) # This will access the second element in the list within the inner dictionary."
   ]
  },
  {
   "cell_type": "code",
   "execution_count": 15,
   "metadata": {},
   "outputs": [
    {
     "name": "stdout",
     "output_type": "stream",
     "text": [
      "C\n",
      "C\n"
     ]
    }
   ],
   "source": [
    "# can stack calls\n",
    "d1 = {'k1':[\"a\", \"b\", \"c\"]}\n",
    "print(d1['k1'][2].upper())\n",
    "\n",
    "x = d1['k1'][2] # introducing a variable x\n",
    "print(x.upper())"
   ]
  },
  {
   "attachments": {},
   "cell_type": "markdown",
   "metadata": {},
   "source": [
    "###  On many occasions, you will need to retrieve the keys, values or a combination of both. The following methods enable you to achieve these:\n",
    "\n",
    "#### .keys() returns a list of the keys in a dictionary.\n",
    "#### .values() returns a list of the values in a dictionary.\n",
    "#### .items() returns both in the form of a list of tuples, where the first item in the tuple is the key, and the second item is the corresponding value."
   ]
  },
  {
   "cell_type": "code",
   "execution_count": 19,
   "metadata": {},
   "outputs": [
    {
     "name": "stdout",
     "output_type": "stream",
     "text": [
      "The keys method returns: \n",
      "dict_keys(['k1', 'k2', 'k3', 'k4'])\n",
      "--------------------------\n",
      "The values method returns: \n",
      "dict_values([50, 123, [0, 1, 2], {'insidekey': [100, 200]}])\n",
      "--------------------------\n",
      "The items method returns: \n",
      "dict_items([('k1', 50), ('k2', 123), ('k3', [0, 1, 2]), ('k4', {'insidekey': [100, 200]})])\n"
     ]
    }
   ],
   "source": [
    "print('The keys method returns: ')\n",
    "print(d.keys())\n",
    "print(\"--------------------------\")\n",
    "print('The values method returns: ')\n",
    "print(d.values())\n",
    "print(\"--------------------------\")\n",
    "print('The items method returns: ')\n",
    "print(d.items())"
   ]
  },
  {
   "attachments": {},
   "cell_type": "markdown",
   "metadata": {},
   "source": [
    "#### The in Operator\n",
    "- The in operator determines if an element is in a collection of items. It returns True if present and False if absent."
   ]
  },
  {
   "cell_type": "code",
   "execution_count": 30,
   "metadata": {},
   "outputs": [
    {
     "data": {
      "text/plain": [
       "True"
      ]
     },
     "execution_count": 30,
     "metadata": {},
     "output_type": "execute_result"
    }
   ],
   "source": [
    "my_list = ['a', 'b', 'c']\n",
    "'c' in my_list"
   ]
  },
  {
   "cell_type": "code",
   "execution_count": 29,
   "metadata": {},
   "outputs": [
    {
     "data": {
      "text/plain": [
       "False"
      ]
     },
     "execution_count": 29,
     "metadata": {},
     "output_type": "execute_result"
    }
   ],
   "source": [
    "\n",
    "my_list = ['a', 'b', 'c']\n",
    "'d' in my_list"
   ]
  },
  {
   "attachments": {},
   "cell_type": "markdown",
   "metadata": {},
   "source": [
    "### If 'in' is applied directly to a dictionary, it will inspect only the keys."
   ]
  },
  {
   "cell_type": "code",
   "execution_count": 32,
   "metadata": {},
   "outputs": [
    {
     "name": "stdout",
     "output_type": "stream",
     "text": [
      "Is \"k2\" in d1? True\n",
      "Is 345 in d1? False\n"
     ]
    }
   ],
   "source": [
    "# use in to check if item in iterable\n",
    "d1 = {\"k1\": 10, \"k2\": [1,2,3], \"k3\": 345}\n",
    "\n",
    "print(f'Is \"k2\" in d1? {\"k2\" in d1}')\n",
    "\n",
    "print(f'Is 345 in d1? {345 in d1}')\n"
   ]
  },
  {
   "cell_type": "code",
   "execution_count": 33,
   "metadata": {},
   "outputs": [
    {
     "name": "stdout",
     "output_type": "stream",
     "text": [
      "Is 345 in the values of d1? True\n"
     ]
    }
   ],
   "source": [
    "# The .values() method determines if a value is present in a dictionary.\n",
    "\n",
    "print(f'Is 345 in the values of d1? {345 in d1.values()}')"
   ]
  },
  {
   "attachments": {},
   "cell_type": "markdown",
   "metadata": {},
   "source": [
    "#### Addition and Modification of Keys\n",
    "- New keys can be added to a dictionary by indexing a non-existing key (e.g. k7), and assigning a value to it (e.g. VALUE)."
   ]
  },
  {
   "cell_type": "code",
   "execution_count": 34,
   "metadata": {},
   "outputs": [],
   "source": [
    "my_dictionary = {       # Dictionaries are ordered and mutable\n",
    "    \"key_1\": 1,         # key value pair\n",
    "    \"key_2\": 2,         # key value pair\n",
    "    \"key_3\": 3          # key value pair\n",
    "    }"
   ]
  },
  {
   "cell_type": "code",
   "execution_count": 42,
   "metadata": {},
   "outputs": [
    {
     "name": "stdout",
     "output_type": "stream",
     "text": [
      "{'key_1': 1, 'key_2': 2, 'key_3': 3, 'new_key': 4}\n",
      "--------------------------\n",
      "Is 345 in the values of d1? False\n"
     ]
    }
   ],
   "source": [
    "my_dictionary[\"new_key\"] = 4            # How to add a value to the dictionary\n",
    "print(my_dictionary)\n",
    "print(\"--------------------------\")\n",
    "val = my_dictionary.values()\n",
    "print(f'Is 345 in the values of d1? {345 in my_dictionary.values()}')"
   ]
  },
  {
   "cell_type": "code",
   "execution_count": 41,
   "metadata": {},
   "outputs": [
    {
     "name": "stdout",
     "output_type": "stream",
     "text": [
      "Is 345 in the values of d1? False\n"
     ]
    }
   ],
   "source": [
    "print(f'Is 345 in the values of d1? {345 in val}')"
   ]
  },
  {
   "cell_type": "code",
   "execution_count": 43,
   "metadata": {},
   "outputs": [
    {
     "name": "stdout",
     "output_type": "stream",
     "text": [
      "Before adding key_5: {'key_1': 1, 'key_2': 2, 'key_3': 3, 'new_key': 4}\n",
      "After adding key_5: {'key_1': 1, 'key_2': 2, 'key_3': 3, 'new_key': 4, 'key_5': 419}\n"
     ]
    }
   ],
   "source": [
    "print(f'Before adding key_5: {my_dictionary}')\n",
    "my_dictionary[\"key_5\"] = 419\n",
    "print(f'After adding key_5: {my_dictionary}')"
   ]
  },
  {
   "cell_type": "markdown",
   "metadata": {},
   "source": [
    "#### How to Overwrite a value\n",
    "#### If the key already exists, the original is retained, whereas the original value is replaced by the new value (e.g. NEW VALUE)."
   ]
  },
  {
   "cell_type": "code",
   "execution_count": 45,
   "metadata": {},
   "outputs": [
    {
     "name": "stdout",
     "output_type": "stream",
     "text": [
      "After adding key_5: {'key_1': 1, 'key_2': 2, 'key_3': 3, 'new_key': 4, 'key_5': 419}\n"
     ]
    }
   ],
   "source": [
    "my_dictionary[\"key_5\"] = 419\n",
    "print(f'After adding key_5: {my_dictionary}')"
   ]
  },
  {
   "cell_type": "code",
   "execution_count": 46,
   "metadata": {},
   "outputs": [
    {
     "name": "stdout",
     "output_type": "stream",
     "text": [
      "After adding key_5: {'key_1': 1, 'key_2': 2, 'key_3': 3, 'new_key': 4, 'key_5': 222}\n"
     ]
    }
   ],
   "source": [
    "my_dictionary[\"key_5\"] = 222\n",
    "print(f'After adding key_5: {my_dictionary}')"
   ]
  },
  {
   "cell_type": "code",
   "execution_count": 49,
   "metadata": {},
   "outputs": [
    {
     "name": "stdout",
     "output_type": "stream",
     "text": [
      "{'key_1': 1, 'key_2': 2, 'key_3': 3, 'new_key': 466, 'key_5': 222}\n"
     ]
    }
   ],
   "source": [
    "# Key can be what ever you want as long as that is not a mutable data type and they are most commonly strings\n",
    "# on the other hand values can be or can take up any data type\n",
    "\n",
    "my_dictionary[\"new_key\"] = 466            # How to overwrite a value to the dictionary\n",
    "print(my_dictionary)"
   ]
  },
  {
   "cell_type": "code",
   "execution_count": 48,
   "metadata": {},
   "outputs": [
    {
     "name": "stdout",
     "output_type": "stream",
     "text": [
      "{'key_1': 1, 'key_2': 2, 'key_3': 3, 'new_key': 989, 'key_5': 222}\n"
     ]
    }
   ],
   "source": [
    "my_dictionary[\"new_key\"] = 989           # How to overwrite a value to the dictionary\n",
    "print(my_dictionary)"
   ]
  },
  {
   "cell_type": "code",
   "execution_count": 50,
   "metadata": {},
   "outputs": [
    {
     "name": "stdout",
     "output_type": "stream",
     "text": [
      "{'key_1': 1, 'key_2': 2, 'key_3': 3, 'new_key': 466, 'key_5': 222, 'key_6': 50, 'key_7': 42}\n"
     ]
    }
   ],
   "source": [
    "x1 = my_dictionary\n",
    "x2 = {'key_6': 50, 'key_7': 42}\n",
    "x1.update(x2)\n",
    "print(x1)"
   ]
  },
  {
   "attachments": {},
   "cell_type": "markdown",
   "metadata": {},
   "source": [
    "#### Removal of Elements\n",
    "- The .pop() method enables the removal of a key from a dictionary.\n",
    "- For this, the name of the key to be removed is passed as an argument. If the key does not exist, Python will throw an error."
   ]
  },
  {
   "cell_type": "code",
   "execution_count": null,
   "metadata": {},
   "outputs": [],
   "source": [
    "d1 = {\"k1\": 10, \"k2\": [1, 2, 3], \"k3\": 345}\n",
    "print(d1.pop('k1'))\n",
    "print(d1)"
   ]
  },
  {
   "attachments": {},
   "cell_type": "markdown",
   "metadata": {},
   "source": [
    "### Task 3 prerequisite (continued)"
   ]
  },
  {
   "attachments": {},
   "cell_type": "markdown",
   "metadata": {},
   "source": [
    "#### Initialising a Dictionary\n",
    "Create a variable called my_dict and assign it the value {}\n",
    "Print the type of my_dict\n",
    "Is it a dictionary or a set?\n",
    "Now, create a variable called my_var and assign it the value {4}\n",
    "Print the type of my_var\n",
    "Is it a dictionary or a set?\n",
    "Finally, create a variable called my_var_2 and assign it the value {4: 5}\n",
    "Print the type of my_var_2\n",
    "Is it a dictionary or a set?"
   ]
  },
  {
   "cell_type": "code",
   "execution_count": 54,
   "metadata": {},
   "outputs": [
    {
     "data": {
      "text/plain": [
       "dict"
      ]
     },
     "execution_count": 54,
     "metadata": {},
     "output_type": "execute_result"
    }
   ],
   "source": [
    "my_dict ={}\n",
    "type(my_dict)"
   ]
  },
  {
   "cell_type": "code",
   "execution_count": 55,
   "metadata": {},
   "outputs": [
    {
     "data": {
      "text/plain": [
       "set"
      ]
     },
     "execution_count": 55,
     "metadata": {},
     "output_type": "execute_result"
    }
   ],
   "source": [
    "my_var = {4}\n",
    "type(my_var)"
   ]
  },
  {
   "attachments": {},
   "cell_type": "markdown",
   "metadata": {},
   "source": [
    "####  Accessing Items in a Dictionary\n",
    "- Create a variable called my_dict and assign it the value {\"key_1\": 1, \"key_2\": 2}\n",
    "- Print the value of key_1\n",
    "- Print the value of key_2\n",
    "- What happens if you try to print the value of key_3?\n",
    "- Print the keys of my_dict. Tip: Use the keys() method\n",
    "- Print the values of my_dict. Tip: Use the values() method\n",
    "- Print the items of my_dict and assign it to a variable called my_items. Tip: Use the items() method\n",
    "- Print the type of my_items. What is it? A list or a tuple?"
   ]
  },
  {
   "cell_type": "code",
   "execution_count": null,
   "metadata": {},
   "outputs": [],
   "source": [
    "\n",
    "my_dict = {\"key_1\": 1, \"key_2\": 2}\n",
    "print(my_dict[\"key_1\"])\n",
    "print(my_dict[\"key_2\"])\n",
    "#print(my_dict[\"key_3\"]) # trying to print a non existent key generates a error\n",
    "print(my_dict.keys())\n",
    "print(my_dict.values())\n",
    "print(my_dict.items())\n",
    "print(\"______________________\")\n",
    "my_items = my_dict.items()\n",
    "print((my_items))"
   ]
  },
  {
   "attachments": {},
   "cell_type": "markdown",
   "metadata": {},
   "source": [
    "#### 3. Adding Items to a Dictionary"
   ]
  },
  {
   "attachments": {},
   "cell_type": "markdown",
   "metadata": {},
   "source": [
    "- Create a variable called my_dict and assign it the value {\"key_1\": 1, \"key_2\": 2}\n",
    "- Add a new key called key_3 with the value 3"
   ]
  },
  {
   "cell_type": "code",
   "execution_count": 62,
   "metadata": {},
   "outputs": [
    {
     "name": "stdout",
     "output_type": "stream",
     "text": [
      "{'key_1': 1, 'key_2': 2, 'key_3': 3}\n"
     ]
    }
   ],
   "source": [
    "my_dict = {\"key_1\": 1, \"key_2\": 2}\n",
    "my_dict[\"key_3\"] = 3\n",
    "print(my_dict)"
   ]
  },
  {
   "attachments": {},
   "cell_type": "markdown",
   "metadata": {},
   "source": [
    "- Create a variable called x and assign it the value my_dict{\"key_1\": 1, \"key_2\": 2}\n",
    "- Update the value of to key_1 to 3\n",
    "- Update the value of to key_2 to 4\n",
    "- Print the value of my_dict"
   ]
  },
  {
   "cell_type": "code",
   "execution_count": 60,
   "metadata": {},
   "outputs": [
    {
     "name": "stdout",
     "output_type": "stream",
     "text": [
      "{'key_1': 1, 'key_2': 2}\n"
     ]
    }
   ],
   "source": [
    "my_dict = {\"key_1\": 1, \"key_2\": 2}\n",
    "print(my_dict)"
   ]
  },
  {
   "cell_type": "code",
   "execution_count": 64,
   "metadata": {},
   "outputs": [
    {
     "name": "stdout",
     "output_type": "stream",
     "text": [
      "{'key_1': 3, 'key_2': 2, 'key_3': 3}\n"
     ]
    }
   ],
   "source": [
    "my_dict[\"key_1\"] = 3\n",
    "print(my_dict)"
   ]
  },
  {
   "cell_type": "code",
   "execution_count": 65,
   "metadata": {},
   "outputs": [
    {
     "name": "stdout",
     "output_type": "stream",
     "text": [
      "{'key_1': 3, 'key_2': 4, 'key_3': 3}\n"
     ]
    }
   ],
   "source": [
    "my_dict[\"key_2\"] = 4\n",
    "print(my_dict)"
   ]
  },
  {
   "attachments": {},
   "cell_type": "markdown",
   "metadata": {},
   "source": [
    "#### Removing Items from a Dictionary\n",
    "- Create a variable called my_dict and assign it the value {\"key_1\": 1, \"key_2\": 2}\n",
    "- Remove key_1 from my_dict\n",
    "- Print the value of my_dict'"
   ]
  },
  {
   "cell_type": "code",
   "execution_count": 66,
   "metadata": {},
   "outputs": [
    {
     "name": "stdout",
     "output_type": "stream",
     "text": [
      "{'key_2': 2}\n"
     ]
    }
   ],
   "source": [
    "my_dict = {\"key_1\": 1, \"key_2\": 2}\n",
    "my_dict.pop(\"key_1\")\n",
    "print(my_dict)"
   ]
  }
 ],
 "metadata": {
  "kernelspec": {
   "display_name": "Python 3.10.6 ('secondtest_env')",
   "language": "python",
   "name": "python3"
  },
  "language_info": {
   "codemirror_mode": {
    "name": "ipython",
    "version": 3
   },
   "file_extension": ".py",
   "mimetype": "text/x-python",
   "name": "python",
   "nbconvert_exporter": "python",
   "pygments_lexer": "ipython3",
   "version": "3.10.6"
  },
  "orig_nbformat": 4,
  "vscode": {
   "interpreter": {
    "hash": "f7e737508e320864f9730b912236e997794d80e5da8833e77c0e26b9118fc4e5"
   }
  }
 },
 "nbformat": 4,
 "nbformat_minor": 2
}
