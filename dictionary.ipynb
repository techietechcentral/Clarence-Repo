{
 "cells": [
  {
   "cell_type": "markdown",
   "metadata": {},
   "source": []
  },
  {
   "cell_type": "code",
   "execution_count": null,
   "metadata": {},
   "outputs": [],
   "source": [
    "'''In this example, we start by defining a list of valid Options:-\n",
    " \n",
    "=> options: \"rock\", \"paper\", and \"scissors\". \n",
    "                                            We also create two variables, \n",
    "=> num_player_one_wins \n",
    "=> num_player_two_wins\n",
    "to keep track of the number of wins each player has.\n",
    "\n",
    "We then use a while loop to repeatedly ask the user for inputs from player1 and player2. \n",
    "We check whether each input is valid using an if statement. \n",
    "If either input is not a valid option, we print \"Invalid input\". \n",
    "If both inputs are the same, we print \"It's a tie\". \n",
    "Otherwise, we check which player wins by comparing the inputs. \n",
    "We increment the number of wins for the winning player accordingly.\n",
    "The while loop continues until one of the players has won three rounds. \n",
    "We then print the winner of the game based on the number of wins. \n",
    "In this example, if num_player_one_wins == 3 means that \"Player 1 wins the game!\",\n",
    "and num_player_two_wins == 3 means that \"Player 2 wins the game!\".'''\n",
    "\n",
    "options = [\"rock\", \"paper\", \"scissors\"]\n",
    "num_player_one_wins = 0\n",
    "num_player_two_wins = 0\n",
    "\n",
    "while num_player_one_wins < 3 and num_player_two_wins < 3:\n",
    "    player1 = input(\"Player 1: \")\n",
    "    player2 = input(\"Player 2: \")\n",
    "\n",
    "    if player1 not in options or player2 not in options:\n",
    "        print(\"Invalid input\")\n",
    "    elif player1 == player2:\n",
    "        print(\"It's a tie\")\n",
    "    elif player1 == \"rock\" and player2 == \"scissors\" or player1 == \"paper\" and player2 == \"rock\" or player1 == \"scissors\" and player2 == \"paper\":\n",
    "        print(\"Player 1 wins\")\n",
    "        num_player_one_wins += 1\n",
    "    else:\n",
    "        print(\"Player 2 wins\")\n",
    "        num_player_two_wins += 1\n",
    "\n",
    "print(\"Game over!\")\n",
    "if num_player_one_wins == 3:\n",
    "    print(\"Player 1 wins the game!\")\n",
    "else:\n",
    "    print(\"Player 2 wins the game!\")\n"
   ]
  },
  {
   "attachments": {},
   "cell_type": "markdown",
   "metadata": {},
   "source": [
    "\n",
    "##### 8. Budget Calculator\n",
    "- Write a program that calculates the total cost of a shopping trip.\n",
    "- Download this [file]](https://aicoreassessments.s3.amazonaws.com/budget_calculator.py).\n",
    "- The file contains five variables:\n",
    "\n",
    ">- order_list:- A list with tuples, where each tuple contains the code, the individual \n",
    "price and the quantity of each item in the order\n",
    ">- names:- A dictionary with the names of the items, where the key is the code of the item\n",
    ">- budget:- The budget of the customer\n",
    ">- running_total:- The total cost of the order so far\n",
    ">- receipt:- A list with the items in the order\n",
    "- 1. Use a for loop to iterate through the order_list\n",
    "- 2. At each iteration:\n",
    "- Add the items to the receipt list\n",
    "- Add the total cost of the item to the running_total variable\n",
    "- Subtract the total cost of the item from the budget variable\n",
    "- 3. If at some point the budget variable is less than 0, print \n",
    "the message \"You have exceeded your budget by {budget}.\" and break the loop"
   ]
  },
  {
   "cell_type": "code",
   "execution_count": null,
   "metadata": {},
   "outputs": [],
   "source": [
    "# Each element is the product code, the individual price, and the quantity.\n",
    "order_list = [(\"tom\", 0.87, 4),\n",
    "              (\"sug\", 1.09, 3),\n",
    "              (\"ws\", 0.29, 4),\n",
    "              (\"juc\", 1.89, 1),\n",
    "              (\"fo\", 1.29, 2)]\n",
    "\n",
    "# This dictionary gives the full name of each product code.\n",
    "names = {\"tom\": \"Tomatoes\",\n",
    "         \"sug\": \"Sugar\",\n",
    "         \"ws\": \"Washing Sponges\",\n",
    "         \"juc\": \"Juice\",\n",
    "         \"fo\": \"Foil\"}\n",
    "\n",
    "budget = 10.00\n",
    "running_total = 0\n",
    "receipt = []\n"
   ]
  },
  {
   "cell_type": "code",
   "execution_count": 182,
   "metadata": {},
   "outputs": [
    {
     "name": "stdout",
     "output_type": "stream",
     "text": [
      "[('tom', 0.87, 4), ('sug', 1.09, 3), ('ws', 0.29, 4), ('juc', 1.89, 1), ('fo', 1.29, 2)]\n",
      "[3.48, 3.2700000000000005, 1.16, 1.89, 2.58]\n"
     ]
    }
   ],
   "source": [
    "# Each element is the product code, the individual price, and the quantity.\n",
    "order_list = [(\"tom\", 0.87, 4),\n",
    "              (\"sug\", 1.09, 3),\n",
    "              (\"ws\", 0.29, 4),\n",
    "              (\"juc\", 1.89, 1),\n",
    "              (\"fo\", 1.29, 2)]\n",
    "\n",
    "# This dictionary gives the full name of each product code.\n",
    "names = {\"tom\": \"Tomatoes\",\n",
    "         \"sug\": \"Sugar\",\n",
    "         \"ws\": \"Washing Sponges\",\n",
    "         \"juc\": \"Juice\",\n",
    "         \"fo\": \"Foil\"}\n",
    "\n",
    "budget = 10.00\n",
    "running_total = []\n",
    "receipt = []\n",
    "\n",
    "for a in order_list:\n",
    "    #print(a)\n",
    "    receipt.append(a)\n",
    "print(receipt) # Add the items to the receipt list\n",
    "for b, c, d in receipt:\n",
    "    if e := c * d:\n",
    "        #print(e)\n",
    "        running_total.append(e)\n",
    "print(running_total)\n",
    "#x = len(running_total)\n",
    "#print(x)\n",
    "#sum_total=0\n",
    "#for i in range(x):\n",
    "    #print(i)\n",
    "#if sum_total == sum_total + running_total[i]:\n",
    "    #print(sum_total+running_total[i])\n",
    "            #print (\"You have exceeded your budget by {sum_total}.\")\n",
    "            \n",
    "\n",
    "#print(\"Sum of all the elements in the list is:\", sum_total)\n",
    "#if running_total > budget: \n",
    "    #print (\"You have exceeded your budget by {budget}.\")"
   ]
  },
  {
   "cell_type": "code",
   "execution_count": 183,
   "metadata": {},
   "outputs": [
    {
     "name": "stdout",
     "output_type": "stream",
     "text": [
      "The given list is:\n",
      "[3.48, 3.2700000000000005, 1.16, 1.89, 2.58]\n",
      "Sum of all the elements in the list is: 12.38\n"
     ]
    }
   ],
   "source": [
    "running_total = [3.48, 3.2700000000000005, 1.16, 1.89, 2.58]\n",
    "print(\"The given list is:\")\n",
    "print(running_total)\n",
    "list_len = len(running_total)\n",
    "sum_total=0\n",
    "for i in range(list_len):\n",
    "    sum_total = sum_total + running_total[i]\n",
    "print(\"Sum of all the elements in the list is:\", sum_total)"
   ]
  },
  {
   "cell_type": "code",
   "execution_count": 202,
   "metadata": {},
   "outputs": [
    {
     "name": "stdout",
     "output_type": "stream",
     "text": [
      "[('tom', 0.87, 4), ('sug', 1.09, 3), ('ws', 0.29, 4), ('juc', 1.89, 1), ('fo', 1.29, 2)]\n",
      "The given list is: [3.48, 3.2700000000000005, 1.16, 1.89, 2.58]\n",
      "3.48\n",
      "6.75\n",
      "7.91\n",
      "9.8\n",
      "You have exceeded your budget by {budget}.\n"
     ]
    }
   ],
   "source": [
    "# Each element is the product code, the individual price, and the quantity.\n",
    "order_list = [(\"tom\", 0.87, 4),\n",
    "              (\"sug\", 1.09, 3),\n",
    "              (\"ws\", 0.29, 4),\n",
    "              (\"juc\", 1.89, 1),\n",
    "              (\"fo\", 1.29, 2)]\n",
    "\n",
    "# This dictionary gives the full name of each product code.\n",
    "names = {\"tom\": \"Tomatoes\",\n",
    "         \"sug\": \"Sugar\",\n",
    "         \"ws\": \"Washing Sponges\",\n",
    "         \"juc\": \"Juice\",\n",
    "         \"fo\": \"Foil\"}\n",
    "\n",
    "budget = 10.00\n",
    "running_total = []\n",
    "receipt = []\n",
    "\n",
    "for a in order_list:\n",
    "    #print(a)\n",
    "    receipt.append(a)\n",
    "print(receipt) # Add the items to the receipt list\n",
    "for b, c, d in receipt:\n",
    "    if e := c * d:\n",
    "        #print(e)\n",
    "        running_total.append(e)\n",
    "#print(running_total)\n",
    "#running_total = [3.48, 3.2700000000000005, 1.16, 1.89, 2.58]\n",
    "print(f\"The given list is: {running_total}\")\n",
    "list_len = len(running_total)\n",
    "sum_total=0\n",
    "for i in range(list_len):\n",
    "    sum_total = sum_total + running_total[i]\n",
    "    #print(sum_total)\n",
    "    if sum_total <= budget:\n",
    "        print(sum_total)\n",
    "    else:\n",
    "        print (\"You have exceeded your budget by {budget}.\")"
   ]
  },
  {
   "attachments": {},
   "cell_type": "markdown",
   "metadata": {},
   "source": [
    "##### 9. Odd and even List Comprehension\n",
    "- Create a list comprehension that squares even arguments, and squares odd arguments after adding one to them\n",
    "- Test it on the following list my_list = [1, 5, 8, 6, 21] The output should be: [4, 36, 64, 36, 484]"
   ]
  },
  {
   "cell_type": "code",
   "execution_count": 259,
   "metadata": {},
   "outputs": [
    {
     "name": "stdout",
     "output_type": "stream",
     "text": [
      "[2, 6, 9, 7, 22]\n"
     ]
    }
   ],
   "source": [
    "#FOR LOOP METHOD for first part\n",
    "my_list = [1, 5, 8, 6, 21]\n",
    "for i in range(len(my_list)):\n",
    "    my_list[i] += 1\n",
    "print(my_list)"
   ]
  },
  {
   "cell_type": "code",
   "execution_count": 264,
   "metadata": {},
   "outputs": [
    {
     "name": "stdout",
     "output_type": "stream",
     "text": [
      "[2, 6, 8, 6, 22]\n",
      "[4, 36, 64, 36, 484]\n"
     ]
    }
   ],
   "source": [
    "# FOR LOOP + FOR LOOP for complete code\n",
    "m_list = [1, 5, 8, 6, 21]\n",
    "for i in range(len(m_list)):\n",
    "    if m_list[i] % 2 == 1:\n",
    "        m_list[i] += 1\n",
    "print(m_list)\n",
    "sq_list = []\n",
    "for x in m_list:\n",
    "        sq_list.append(x**2)\n",
    "print(sq_list)"
   ]
  },
  {
   "cell_type": "code",
   "execution_count": 263,
   "metadata": {},
   "outputs": [
    {
     "name": "stdout",
     "output_type": "stream",
     "text": [
      "[2, 6, 8, 6, 22]\n",
      "[4, 36, 64, 36, 484]\n"
     ]
    }
   ],
   "source": [
    "#FOR LOOP + LIST COMPREHENSION for complete code\n",
    "m_list = [1, 5, 8, 6, 21]\n",
    "for i in range(len(m_list)):\n",
    "    if m_list[i] % 2 == 1:\n",
    "        m_list[i] += 1\n",
    "print(m_list) \n",
    "my = [x**2 for x in m_list]\n",
    "print(my)"
   ]
  },
  {
   "cell_type": "code",
   "execution_count": 262,
   "metadata": {},
   "outputs": [
    {
     "name": "stdout",
     "output_type": "stream",
     "text": [
      "[2, 6, 22]\n",
      "[4, 36, 484]\n"
     ]
    }
   ],
   "source": [
    "# LIST COMP + LIST COMP - testing\n",
    "my_list = [1, 5, 6, 8, 21]\n",
    "my_list = [x + 1 for x in my_list if x % 2 == 1]\n",
    "print(my_list)\n",
    "my_list = [x**2 for x in my_list]\n",
    "print(my_list)\n"
   ]
  },
  {
   "cell_type": "code",
   "execution_count": 261,
   "metadata": {},
   "outputs": [
    {
     "name": "stdout",
     "output_type": "stream",
     "text": [
      "[2, 6, 8, 6, 22]\n",
      "[4, 36, 64, 36, 484]\n"
     ]
    }
   ],
   "source": [
    "# LIST COMP + LIST COMP for complete code\n",
    "my = [1, 5, 8, 6, 21]\n",
    "my = [x + 1 if x % 2 == 1 else x for x in my]\n",
    "print(my)\n",
    "my = [x**2 for x in my]\n",
    "print(my)\n"
   ]
  },
  {
   "cell_type": "code",
   "execution_count": 260,
   "metadata": {},
   "outputs": [
    {
     "name": "stdout",
     "output_type": "stream",
     "text": [
      "[2, 6, 8, 6, 22]\n",
      "[4, 36, 64, 36, 484]\n"
     ]
    }
   ],
   "source": [
    "#LIST COMP + FOR LOOP\n",
    "my = [1, 5, 8, 6, 21]\n",
    "my = [x + 1 if x % 2 == 1 else x for x in my]\n",
    "print(my)\n",
    "sq_list = []\n",
    "for x in my:\n",
    "        sq_list.append(x**2)\n",
    "print(sq_list)"
   ]
  },
  {
   "attachments": {},
   "cell_type": "markdown",
   "metadata": {},
   "source": [
    "##### 10. Dictionaries and List Comprehensions\n",
    "\n",
    "- 1. Create two dictionaries, each one with 2 keys\n",
    "    - name: a string of your name\n",
    "    - skills: a list of strings\n",
    "- 2. Put both of them in a list\n",
    "- 3. Now index that list of dictionaries to find the last letter of the first skill of the last dictionary\n",
    "- 4. Create a list comprehension which maps that list to a list of the length of names\n",
    "- 5. Add that list together to get the total number of characters in all of the names"
   ]
  },
  {
   "cell_type": "code",
   "execution_count": 311,
   "metadata": {},
   "outputs": [
    {
     "name": "stdout",
     "output_type": "stream",
     "text": [
      "Clarence\n",
      "Nnadi\n",
      "['Python', 'Java']\n",
      "Nnadi ['Python', 'Java']\n"
     ]
    }
   ],
   "source": [
    "dict1 = {'name': 'Clarence', 'skills': ['Python', 'Java']}\n",
    "dict2 = {'name': 'Nnadi', 'skills': ['Azure', 'Sql']}\n",
    "list_of_dicts = [dict1, dict2]\n",
    "print(dict1['name'])\n",
    "print(dict2['name'])\n",
    "print(dict1['skills'])\n",
    "print(dict2['name'], dict1['skills'])"
   ]
  },
  {
   "cell_type": "code",
   "execution_count": 314,
   "metadata": {},
   "outputs": [
    {
     "name": "stdout",
     "output_type": "stream",
     "text": [
      "s\n",
      "[14, 10]\n",
      "24\n"
     ]
    }
   ],
   "source": [
    "'''In this example, dict1 has two keys 'name' and 'skills', with their corresponding values \n",
    "'Clarence Nnadi' and ['Python', 'Java'], respectively. \n",
    "Similarly, dict2 has two keys 'name' and 'skills', with their corresponding values \n",
    "'John Bosco' and ['Azure Fundermentals', 'Sql'], respectively. \n",
    "We put both of these dictionaries in a list called list_of_dicts.\n",
    "We then index the list to find the last letter of the first skill of the last dictionary, \n",
    "which is 'C'.\n",
    "Finally, we create a list comprehension which maps that list to a list of the length of names. \n",
    "The length_of_names list contains the length of the names of each dictionary in the list_of_dicts.\n",
    "In this example, the length of 'Clarence Nnadi' is 14 and the length of 'John Bosco' is 10.'''\n",
    "\n",
    "# Create the dictionaries\n",
    "dict1 = {'name': 'Clarence Nnadi', 'skills': ['Python', 'Java']}\n",
    "dict2 = {'name': 'John Bosco', 'skills': ['Azure Fundermentals', 'Sql']}\n",
    "# Put them in a list\n",
    "list_of_dicts = [dict1, dict2]\n",
    "# Index the list to find the last letter of the first skill of the last dictionary\n",
    "list_of_dicts[1]                                   # this index locates last dict \n",
    "list_of_dicts[-1]                                  # This does the same\n",
    "list_of_dicts[-1]['skills']                        # locates skills dict Key\n",
    "list_of_dicts[-1]['skills'][0]                     # locates the first skill\n",
    "list_of_dicts[-1]['skills'][0][-1]                 # locates the last letter of the first skill\n",
    "last_letter = list_of_dicts[-1]['skills'][0][-1]\n",
    "print(last_letter)\n",
    "# Create a list comprehension to map the list to a list of the length of names\n",
    "'''len(d['name']) is a call to the built-in Python function len(), which takes a single argument\n",
    "and returns the length of that argument. \n",
    "In this case, the argument is d['name'], which is the value associated with the key 'name' \n",
    "in the dictionary d.\n",
    "So len(d['name']) returns the length of the string associated with the key 'name' \n",
    "in each dictionary d in the list list_of_dicts. \n",
    "The list comprehension iterates over each dictionary in the list list_of_dicts \n",
    "and applies len(d['name']) to each one, resulting in a new list length_of_names \n",
    "that contains the lengths of the names associated with the key 'name' in each dictionary.\n",
    "For example, if list_of_dicts contains the following two dictionaries:\n",
    "\n",
    "dict1 = {'name': 'Clarence Nnadi', 'skills': ['Python', 'Java']}\n",
    "dict2 = {'name': 'John Bosco', 'skills': ['Azure Fundermentals', 'Sql']}\n",
    "\n",
    "then the list comprehension [len(d['name']) for d in list_of_dicts] will result in \n",
    "the list [14, 10], since the length of the string 'Clarence Nnadi' is 14 and the length \n",
    "of the string 'John Bosco' is 10.'''\n",
    "\n",
    "length_of_names = [len(d['name']) for d in list_of_dicts]\n",
    "print(length_of_names)\n",
    "# Add that list together to get the total number of characters in all of the names\n",
    "total_characters = sum(length_of_names)\n",
    "print(total_characters)"
   ]
  },
  {
   "attachments": {},
   "cell_type": "markdown",
   "metadata": {},
   "source": [
    "##### 11. Shop Item Filter\n",
    "- 1. Filter shop_dict using list comprehension to find only items with values that are over 1.00\n",
    "- 2. Assign them to a list called filtered_shop by their full names, not their codes, using names_dict.\n",
    "- shop_dict = {\"tom\":0.87, \"sug\":1.09, \"ws\":0.29, \"cc\":1.89, \"ccz\":1.29}\n",
    "\n",
    "- names_dict = {\"tom\":\"Tomatoes\", \"sug\":\"Sugar\", \"ws\":\"Washing Sponges\", \"cc\":\"Coca-Cola\", \"ccz\":\"Coca-Cola Zero\"}"
   ]
  },
  {
   "cell_type": "code",
   "execution_count": 316,
   "metadata": {},
   "outputs": [
    {
     "name": "stdout",
     "output_type": "stream",
     "text": [
      "['Sugar', 'Coca-Cola', 'Coca-Cola Zero']\n"
     ]
    }
   ],
   "source": [
    "'''In this example, we create two dictionaries, \n",
    "shop_dict and names_dict, \n",
    "that associate codes with their respective item names and prices.\n",
    "We then use a list comprehension to filter the items in shop_dict that have \n",
    "a value (price) over 1.00. \n",
    "This list comprehension first loops over the keys in shop_dict using for key \n",
    "in shop_dict. We then use an if statement to only include items whose values are over 1.00. \n",
    "Finally, we use names_dict[key] to get the name of the item associated with the current key key.\n",
    "We assign this filtered list of items to the variable filtered_items, which in this case is\n",
    "['Sugar', 'Coca-Cola', 'Coca-Cola Zero']. \n",
    "This list contains the names of the items in shop_dict that have prices over 1.00.'''\n",
    "\n",
    "shop_dict = {\"tom\":0.87, \"sug\":1.09, \"ws\":0.29, \"cc\":1.89, \"ccz\":1.29}\n",
    "names_dict = {\"tom\":\"Tomatoes\", \"sug\":\"Sugar\", \"ws\":\"Washing Sponges\",\n",
    "              \"cc\":\"Coca-Cola\", \"ccz\":\"Coca-Cola Zero\"}\n",
    "# Use a list comprehension to filter items in shop_dict with values over 1.00\n",
    "filtered_items = [names_dict[key] for key in shop_dict if shop_dict[key] > 1.00]\n",
    "print(filtered_items)\n"
   ]
  },
  {
   "attachments": {},
   "cell_type": "markdown",
   "metadata": {},
   "source": [
    "##### 12. Shape maker\n",
    "- 1. Write a program to produce the following pattern.\n",
    "- Here's a clue: Use nested for loops, using one nested loop to increase in size and another to decrease.*\n",
    "\n",
    "- Start with n=5\n",
    "Example:\n",
    "\n",
    "?\n",
    "\n",
    "? ?\n",
    "\n",
    "? ? ?\n",
    "\n",
    "? ? ? ?\n",
    "\n",
    "? ? ? ? ?\n",
    "\n",
    "? ? ? ?\n",
    "\n",
    "? ? ?\n",
    "\n",
    "? ?\n",
    "\n",
    "?"
   ]
  },
  {
   "cell_type": "code",
   "execution_count": 329,
   "metadata": {},
   "outputs": [
    {
     "name": "stdout",
     "output_type": "stream",
     "text": [
      "? \n",
      "? ? \n",
      "? ? ? \n",
      "? ? ? ? \n",
      "? ? ? ? ? \n",
      "? ? ? ? \n",
      "? ? ? \n",
      "? ? \n",
      "? \n"
     ]
    }
   ],
   "source": [
    "'''In this example, we start by defining n as 5. We then use two nested for loops to create \n",
    "the pattern.\n",
    "The first loop (the \"increasing\" part) uses i to keep track of the number of rows, and j to\n",
    "keep track of the number of \"?\" in each row. The inner loop prints out j + 1 \"?\" characters, \n",
    "and then prints a new line to move to the next row.\n",
    "\n",
    "The second loop (the \"decreasing\" part) uses i to keep track of the number of rows again, \n",
    "but this time we need to count downwards from n - 1. We use j again to keep track of the \n",
    "number of \"?\" in each row. The inner loop prints out n - i - 1 - j \"?\" characters, \n",
    "and then prints a new line to move to the next row.\n",
    "\n",
    "Note that we use end=\"\" in the print statements to avoid printing a newline character \n",
    "after each \"?\" character. This allows us to print multiple \"?\" characters on the same line.'''\n",
    "\n",
    "n = 5\n",
    "\n",
    "# Increasing part\n",
    "for i in range(n):\n",
    "    #print(x)\n",
    "    for j in range(i + 1):\n",
    "        print(\"? \", end=\"\")\n",
    "    print()\n",
    "# Decreasing part\n",
    "for i in range(n - 1):\n",
    "    for j in range(n - i - 1):\n",
    "        print(\"? \", end=\"\")\n",
    "    print()"
   ]
  },
  {
   "attachments": {},
   "cell_type": "markdown",
   "metadata": {},
   "source": [
    "##### Milestone 3 practicals. Defing functions\n",
    "- 13. Simple Typed function"
   ]
  },
  {
   "attachments": {},
   "cell_type": "markdown",
   "metadata": {},
   "source": [
    "- Typing is a way of defining the type of data that a function should take in and returns. This is useful for ensuring that the function is used correctly, and for making sure that the function returns the correct type of data.\n",
    "\n",
    "- 1. Create a function that takes in a list of words and returns the total number of characters in the list, then define the type the function's inputs and outputs"
   ]
  },
  {
   "cell_type": "code",
   "execution_count": null,
   "metadata": {},
   "outputs": [],
   "source": [
    "'''In this example, we define a function called my_function that takes in a single argument, \n",
    "words. The argument does not have any type annotations, so it can be any type of object, \n",
    "including a list of words.\n",
    "\n",
    "You can replace the comment in the body of the function with your own code to process the \n",
    "list of words in whatever way you need.'''\n",
    "\n",
    "def my_function(words):\n",
    "    # Do something with the list of words\n",
    "    pass"
   ]
  },
  {
   "cell_type": "code",
   "execution_count": null,
   "metadata": {},
   "outputs": [],
   "source": [
    "'''In this implementation, we initialize a variable count to 0, then iterate over \n",
    "each word in the input list. For each word, we add its length to count. \n",
    "Finally, we return the total count of characters.\n",
    "You can call this function with a list of words as an argument, like this:'''\n",
    "def count_characters(words):\n",
    "    count = 0\n",
    "    for word in words:\n",
    "        count += len(word)\n",
    "    return count"
   ]
  },
  {
   "cell_type": "code",
   "execution_count": null,
   "metadata": {},
   "outputs": [],
   "source": [
    "'''In this example, the count_characters function is called with the \n",
    "list [\"hello\", \"world\", \"python\"] as the argument, \n",
    "and the total number of characters in the list is returned and assigned \n",
    "to the variable total_chars. The print statement outputs the value of \n",
    "total_chars, which is 17 in this case.'''\n",
    "\n",
    "words_list = [\"hello\", \"world\", \"python\"]\n",
    "total_chars = count_characters(words_list)\n",
    "print(total_chars)  # Output: 17"
   ]
  },
  {
   "cell_type": "code",
   "execution_count": 9,
   "metadata": {},
   "outputs": [
    {
     "name": "stdout",
     "output_type": "stream",
     "text": [
      "3\n"
     ]
    }
   ],
   "source": [
    "'''In this implementation, we define a function called count_characters that does not \n",
    "take any arguments. Inside the function, we prompt the user to enter a list of words \n",
    "separated by spaces using the input function. \n",
    "We then split the user's input into a list of individual words using the split method. \n",
    "The for loop and the rest of the logic for calculating the total number of characters \n",
    "in the list'''\n",
    "\n",
    "def count_characters():\n",
    "    words_list = input(\"Enter a list of words separated by spaces: \").split()\n",
    "    total_chars = 0\n",
    "    for word in words_list:\n",
    "        total_chars += len(word)\n",
    "    return total_chars\n",
    "total_chars = count_characters()\n",
    "print(total_chars)"
   ]
  }
 ],
 "metadata": {
  "kernelspec": {
   "display_name": "secondtest_env",
   "language": "python",
   "name": "python3"
  },
  "language_info": {
   "codemirror_mode": {
    "name": "ipython",
    "version": 3
   },
   "file_extension": ".py",
   "mimetype": "text/x-python",
   "name": "python",
   "nbconvert_exporter": "python",
   "pygments_lexer": "ipython3",
   "version": "3.10.6"
  },
  "orig_nbformat": 4,
  "vscode": {
   "interpreter": {
    "hash": "f7e737508e320864f9730b912236e997794d80e5da8833e77c0e26b9118fc4e5"
   }
  }
 },
 "nbformat": 4,
 "nbformat_minor": 2
}
