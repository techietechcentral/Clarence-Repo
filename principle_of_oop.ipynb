{
  "cells": [
    {
      "cell_type": "markdown",
      "metadata": {
        "id": "hBUWypcxn1wm"
      },
      "source": [
        "# Principles of OOP Design"
      ]
    },
    {
      "cell_type": "markdown",
      "metadata": {
        "id": "raavzHscn1wr"
      },
      "source": [
        "## Introduction\n",
        ">Effective software design is based on the concept of __Intentional Design__. Code creation often involves the repeated use of the same algorithms. Thus, it is important to organise your code for the following reasons:\n",
        "\n",
        "1. To save time when you or your team members have to revisit the code.\n",
        "2. To reuse the same algorithm, but with different parameters.\n",
        "3. To avoid the common pitfalls caused by extensive lines of code.\n",
        "4. To increase code flexibility by incorporating placeholders in functions or methods."
      ]
    },
    {
      "cell_type": "markdown",
      "metadata": {
        "id": "lm_6M21Tn1ws"
      },
      "source": [
        "In this notebook, you will learn the hierarchical structure of a project, which is the foundation of clean code. We will learn how to use Python's features to organise code and what level of granularity to consider for separation."
      ]
    },
    {
      "cell_type": "markdown",
      "metadata": {
        "id": "60QRcnLmn1wt"
      },
      "source": [
        "Before proceeding, run the following code to download a few necessary scripts for the lesson."
      ]
    },
    {
      "cell_type": "code",
      "execution_count": null,
      "metadata": {
        "id": "qpn8xAMpn1wt"
      },
      "outputs": [],
      "source": [
        "!wget \"https://aicore-files.s3.amazonaws.com/Foundations/Software_Engineering/bar.py\" \"https://aicore-files.s3.amazonaws.com/Foundations/Software_Engineering/foo.py\" "
      ]
    },
    {
      "cell_type": "markdown",
      "metadata": {
        "id": "avz8X4Hrn1wv"
      },
      "source": [
        "## Concerns, Scope and Namespaces\n",
        "\n",
        "Before we explore classes, let us define the three concepts: __concerns__, __scope__ and __Namespace__"
      ]
    },
    {
      "cell_type": "markdown",
      "metadata": {
        "id": "FOEf0WEnn1wv"
      },
      "source": [
        "### Concerns\n",
        "\n",
        "In programming, a __concern__ is a unique behaviour presented by your code. \n",
        "\n",
        "For example, if you are extracting cat images from a website, the concerns can be\n",
        "- connecting to the webpage.\n",
        "- downloading the image.\n",
        "- confirming the legitimacy of the used URL."
      ]
    },
    {
      "cell_type": "markdown",
      "metadata": {
        "id": "3DQhqv15n1ww"
      },
      "source": [
        "### Scope\n",
        "The scope of an object defines the area of a program in which one can unambiguously access a name."
      ]
    },
    {
      "cell_type": "markdown",
      "metadata": {
        "id": "AA0zsPqcn1ww"
      },
      "source": [
        "You may already be familiar with this concept, as well as the two general scopes: global and local.\n",
        "\n",
        "1. __Global scope__: names are available throughout the __code__, even within functions.\n",
        "2. __Local scope__: names are only available within this scope. For example, variables within a function are not accessible outside the function."
      ]
    },
    {
      "cell_type": "code",
      "execution_count": null,
      "metadata": {
        "id": "GAcMVtg5n1wx"
      },
      "outputs": [],
      "source": [
        "outside_variable = 'I am global!'\n",
        "\n",
        "def awesome_function():\n",
        "    print('The outside variable says: ' + outside_variable)\n",
        "    awesomeness = 9001\n",
        "\n",
        "# When running the function, it will run everything inside\n",
        "# Notice that awesome_function does not return anything (Void function).\n",
        "# Thus, it will only print out anything if there is a print statement INSIDE the function.\n",
        "awesome_function()\n",
        "\n",
        "print(awesomeness)"
      ]
    },
    {
      "cell_type": "markdown",
      "metadata": {
        "id": "lxNkezw_n1wx"
      },
      "source": [
        "#### Local, enclosing, global and built-in scopes (LEGB)\n",
        "An important concept associated with scopes in software engineering is LEGB:\n",
        "\n",
        "- Local scope: contains the names that are defined within a function.\n",
        "- Enclosing scope: only exists for nested functions. If the local scope is an inner or nested function, then the enclosing scope is the scope of the outer or enclosing function.\n",
        "- Global scope: contains all the names that are defined at the top level of a program or a module.\n",
        "- Built-in Scope: created whenever you run a script or open an interactive session. \n",
        "\n",
        "The LEGB rule determines the order in which Python searches for variables.\n"
      ]
    },
    {
      "cell_type": "code",
      "execution_count": null,
      "metadata": {
        "id": "EL_-yMTan1wy"
      },
      "outputs": [],
      "source": [
        "outside_variable = 'I am global!'\n",
        "\n",
        "def awesome_function():\n",
        "    print('I am in awesome function, the global variable says: ' + outside_variable)\n",
        "    enclosing_variable = 'I am an enclosed variable!'\n",
        "    def incredible_function():\n",
        "        print('I am in incredible function, the global variable says: ' + outside_variable)\n",
        "        print('I am in incredible function, the enclosed variable says: ' + enclosing_variable)\n",
        "        local_variable = 'I am incredible, but since I am local I can\\'t be used outside here :('\n",
        "        return local_variable\n",
        "    incredible_function()\n",
        "    print('I am in awesome function, the global variable says: ' + local_variable)\n",
        "\n",
        "awesome_function()"
      ]
    },
    {
      "cell_type": "markdown",
      "metadata": {
        "id": "EkIJoOWin1wy"
      },
      "source": [
        "You may have observed that we employed `print` in all scopes for the above examples. This is because `print` is in the Built-in scope; therefore, it can be accessed anywhere. "
      ]
    },
    {
      "cell_type": "markdown",
      "metadata": {
        "id": "opMsdU6Jn1wz"
      },
      "source": [
        "### Namespace\n",
        "\n",
        "A namespace is a collection of currently defined symbolic names, along with information about the object that each name references.\n",
        "\n",
        "In other words, namespaces are sets of names contained in a scope. To improve your understanding, check out [The Zen of Python](https://www.python.org/dev/peps/pep-0020/#id2).\n",
        "\n",
        "The concepts of _Namespaces_ and _Scopes_ are similar; however, they are not the same. Python scopes are implemented as dictionaries that map names to objects, and the dictionaries are the namespaces.\n",
        "\n",
        "Namespaces are useful for the following:\n",
        "\n",
        "1. Minimising collision between identical names in different scripts.\n",
        "2. Making educated guesses regarding the location of code.\n",
        "3. Making educated guesses regarding the location for introducing new code."
      ]
    },
    {
      "cell_type": "markdown",
      "metadata": {
        "id": "Js4KWgy7n1wz"
      },
      "source": [
        "When you open a Python interpreter, the `built-in` scope is populated with the objects built in Python, e.g. `print()` or `__name__`. The `__name__` attribute indicates the name of the file we are running; thus, when importing a module, the value `__name__` of that module will be its name. Let us import `foo.py` and view its `__name__`."
      ]
    },
    {
      "cell_type": "code",
      "execution_count": null,
      "metadata": {
        "id": "8ADw12aYn1wz"
      },
      "outputs": [],
      "source": [
        "import foo\n",
        "import bar\n",
        "foo.__dict__"
      ]
    },
    {
      "cell_type": "code",
      "execution_count": null,
      "metadata": {
        "id": "hL27SVTVn1w0"
      },
      "outputs": [],
      "source": [
        "import foo\n",
        "foo.__name__"
      ]
    },
    {
      "cell_type": "markdown",
      "metadata": {
        "id": "JU96wc-fn1w0"
      },
      "source": [
        "Although it appears obvious, what do you think the value of `__name__` will be in this notebook (`Principles of OOP`)?"
      ]
    },
    {
      "cell_type": "code",
      "execution_count": null,
      "metadata": {
        "id": "znrCeyKAn1w0"
      },
      "outputs": [],
      "source": [
        "print(__name__)"
      ]
    },
    {
      "cell_type": "markdown",
      "metadata": {
        "id": "_Ab3Gbxon1w0"
      },
      "source": [
        "The name of the file that opened the interpreter will be `__main__` (Now, the `if __name__ == '__main__'` statement appears practical).\n"
      ]
    },
    {
      "cell_type": "markdown",
      "metadata": {
        "id": "5eill9tpn1w0"
      },
      "source": [
        "## Namespaces and Imports"
      ]
    },
    {
      "cell_type": "markdown",
      "metadata": {
        "id": "g1d002ZWn1w1"
      },
      "source": [
        "\n",
        "When a module is imported, Python creates an additional namespace for the module by creating a new dictionary. In this directory, there is another module named `foo.py`. Thus, when we import the module into our main script, the variables in `foo.py` are present in the `__main__` script; however, it will have a 'first name' corresponding to the name of the module."
      ]
    },
    {
      "cell_type": "code",
      "execution_count": null,
      "metadata": {
        "id": "1P6lrLfFn1w1"
      },
      "outputs": [],
      "source": [
        "import foo\n",
        "x = 'I am \"x\" in this notebook'\n",
        "print('Printing x: ' + x)\n",
        "print('Printing foo.x: ' + foo.x)"
      ]
    },
    {
      "cell_type": "markdown",
      "metadata": {
        "id": "zGfXZRJvn1w1"
      },
      "source": [
        "Observe that `foo` is in the global scope; thus, we can call for it within a function:"
      ]
    },
    {
      "cell_type": "code",
      "execution_count": null,
      "metadata": {
        "id": "RyEonUM3n1w1"
      },
      "outputs": [],
      "source": [
        "def print_foo():\n",
        "    print('I am in the outer function, and foo.x says: ' + foo.x)\n",
        "    def nested_foo():\n",
        "        print('I am in the inner function, and foo.x says: ' + foo.x)\n",
        "    nested_foo()\n",
        "\n",
        "print_foo()\n"
      ]
    },
    {
      "cell_type": "markdown",
      "metadata": {
        "id": "_nwKaJcun1w1"
      },
      "source": [
        "The following image shows the levels of scope and how the namespace can be accessed from each level:\n",
        "<p align=center><img src=https://github.com/AI-Core/Content-Public/blob/main/Content/units/Software-Engineering/2.%20Software%20Design/2.%20Principles%20of%20OOP%20Design/images/namespaces.png?raw=1 width=600></p>\n"
      ]
    },
    {
      "cell_type": "markdown",
      "metadata": {
        "id": "xfOA5RE_n1w1"
      },
      "source": [
        ">__Notably__, in Python, if the namespace already contains a module, the import statement will not work again. For example, if we import `foo` and subsequently make changes to `foo`, the changes will not be reflected if we import `foo` again. This is because Python will already have a `foo` module in its namespace."
      ]
    },
    {
      "cell_type": "code",
      "execution_count": null,
      "metadata": {
        "id": "J9CqAGl5n1w2"
      },
      "outputs": [],
      "source": [
        "import foo\n",
        "print(foo.x)"
      ]
    },
    {
      "cell_type": "markdown",
      "metadata": {
        "id": "_qXWp4l4n1w2"
      },
      "source": [
        "We can see that `foo.x` is the same as `foo.py`. Now, we change the value in the main namespace."
      ]
    },
    {
      "cell_type": "code",
      "execution_count": null,
      "metadata": {
        "id": "RZPOMT6qn1w2"
      },
      "outputs": [],
      "source": [
        "foo.x = 'I changed...'\n",
        "print(foo.x)"
      ]
    },
    {
      "cell_type": "markdown",
      "metadata": {
        "id": "qoNrncMln1w2"
      },
      "source": [
        "If we attempt to re-import `foo`, Python will search its namespace and confirm that a module named `foo` had already been imported. Hence, it will do anything."
      ]
    },
    {
      "cell_type": "code",
      "execution_count": null,
      "metadata": {
        "id": "JSHDNJutn1w2"
      },
      "outputs": [],
      "source": [
        "import foo\n",
        "print(foo.x)"
      ]
    },
    {
      "cell_type": "markdown",
      "metadata": {
        "id": "2QU8drHxn1w2"
      },
      "source": [
        "### Handling methods with the same name\n",
        "__One final note about namespaces and scopes:__ Python has many libraries, and some methods will unavoidably have the same name. For example, the `time` method appears in both the `time` and `datetime` modules."
      ]
    },
    {
      "cell_type": "code",
      "execution_count": null,
      "metadata": {
        "id": "QZcNkgt0n1w3"
      },
      "outputs": [],
      "source": [
        "from time import time\n",
        "from datetime import time\n",
        "\n",
        "print(time())"
      ]
    },
    {
      "cell_type": "markdown",
      "metadata": {
        "id": "MzYLWy9Hn1w3"
      },
      "source": [
        "To decide which to use, consider that we are not importing the module, but only the methods. Python will overwrite previous names in the namespace; thus, it only takes the last import statement. To store both methods, you would have to apply the alternative approaches:\n",
        "\n",
        "1. Import the module, and add the name of the module to the namespace.\n",
        "2. Give an alias to the methods."
      ]
    },
    {
      "cell_type": "code",
      "execution_count": null,
      "metadata": {
        "id": "yU8gan7Wn1w3"
      },
      "outputs": [],
      "source": [
        "import datetime\n",
        "import time\n",
        "\n",
        "print(datetime.time())\n",
        "print(time.time())"
      ]
    },
    {
      "cell_type": "code",
      "execution_count": null,
      "metadata": {
        "id": "QjDiLy4Rn1w3"
      },
      "outputs": [],
      "source": [
        "from datetime import time as dttime\n",
        "from time import time as ttime\n",
        "\n",
        "print(dttime())\n",
        "print(ttime())"
      ]
    },
    {
      "cell_type": "markdown",
      "metadata": {
        "id": "OkwCJxyVn1w3"
      },
      "source": [
        "## Separation Rules in Python"
      ]
    },
    {
      "cell_type": "markdown",
      "metadata": {
        "id": "I-bctKqQn1w3"
      },
      "source": [
        "> Do one thing and do it well\n",
        "\n",
        "This is the Unix philosophy for separating concerns. Each part of your code should be __concerned__ with one behaviour, and each __CONCERN__ should be covered by only one piece of code."
      ]
    },
    {
      "cell_type": "markdown",
      "metadata": {
        "id": "j9KonmCwn1w4"
      },
      "source": [
        "\n",
        "### Functions for separating concerns\n"
      ]
    },
    {
      "cell_type": "markdown",
      "metadata": {
        "id": "RyKixCm8n1w4"
      },
      "source": [
        "1. __Do not create two pieces of code that perform similar tasks__. For example, the concern of one part is used for extracting images of cats, while the concern of the other piece is used for extracting images of dogs. Instead, create a function that accepts an argument. \n",
        "\n",
        "Consider the following example of what you should not do (This code should work unless the XPath has been changed; nevertheless, the task is to download dog images):\n"
      ]
    },
    {
      "cell_type": "code",
      "execution_count": null,
      "metadata": {
        "id": "Z3YJ5sq2n1w4"
      },
      "outputs": [],
      "source": [
        "from selenium import webdriver\n",
        "import urllib.request\n",
        "import time\n",
        "\n",
        "driver = webdriver.Chrome()\n",
        "# Get links for dogs\n",
        "URL = 'https://unsplash.com/s/photos/dog'\n",
        "driver.get(URL)\n",
        "dog_list = driver.find_elements_by_xpath('//figure[@itemprop=\"image\"]')\n",
        "links = []\n",
        "for dog in dog_list:\n",
        "    links.append(dog.find_element_by_xpath('.//a').get_attribute('href'))\n",
        "# Go to the link containing the image\n",
        "for i, link in enumerate(links):\n",
        "    driver.get(link)\n",
        "    time.sleep(0.5)\n",
        "    src = driver.find_element_by_xpath('//img[@class=\"oCCRx\"]').get_attribute('src')\n",
        "    urllib.request.urlretrieve(src, f\"dog_{i}.jpg\")\n",
        "    \n",
        "# Get links for cats\n",
        "URL = 'https://unsplash.com/s/photos/cat'\n",
        "driver.get(URL)\n",
        "cat_list = driver.find_elements_by_xpath('//figure[@itemprop=\"image\"]')\n",
        "links = []\n",
        "for cat in cat_list:\n",
        "    links.append(cat.find_element_by_xpath('.//a').get_attribute('href'))\n",
        "# Go to the link containing the image\n",
        "for i, link in enumerate(links):\n",
        "    driver.get(link)\n",
        "    time.sleep(0.5)\n",
        "    src = driver.find_element_by_xpath('//img[@class=\"oCCRx\"]').get_attribute('src')\n",
        "    urllib.request.urlretrieve(src, f\"cat_{i}.jpg\")"
      ]
    },
    {
      "cell_type": "markdown",
      "metadata": {
        "id": "71vu8xAmn1w4"
      },
      "source": [
        "The preferred solution:"
      ]
    },
    {
      "cell_type": "code",
      "execution_count": null,
      "metadata": {
        "id": "8LHfIlrfn1w4"
      },
      "outputs": [],
      "source": [
        "from selenium import webdriver\n",
        "\n",
        "def get_animal_pictures(driver: webdriver, animal: str, root: str) -> None:\n",
        "    URL = root + animal\n",
        "    driver.get(URL)\n",
        "    animal_list = driver.find_elements_by_xpath('//figure[@itemprop=\"image\"]')\n",
        "    links = []\n",
        "    for item in animal_list:\n",
        "        links.append(item.find_element_by_xpath('.//a').get_attribute('href'))\n",
        "    # go to the link containing the image\n",
        "    for i, link in enumerate(links):\n",
        "        driver.get(link)\n",
        "        time.sleep(0.5)\n",
        "        src = driver.find_element_by_xpath('//img[@class=\"oCCRx\"]').get_attribute('src')\n",
        "        urllib.request.urlretrieve(src, f\"{animal}_{i}.jpg\") # <- We are also using the variable animal here.\n",
        "\n",
        "driver = webdriver.Chrome()\n",
        "root = 'https://unsplash.com/s/photos/'\n",
        "animal = 'cat'\n",
        "get_animal_pictures(driver, animal, root)"
      ]
    },
    {
      "cell_type": "markdown",
      "metadata": {
        "id": "oBMuzciRn1w4"
      },
      "source": [
        "\n",
        "2. __Do not have the same piece of code with two concerns__. For example, a piece of code goes to the webpage to extract the links __and__ iterates through the links __and__ download the images. Instead, create a function for each concern.\n",
        "\n",
        "Thus, instead of the code above, do the following:"
      ]
    },
    {
      "cell_type": "code",
      "execution_count": null,
      "metadata": {
        "id": "E59PVVjsn1w5"
      },
      "outputs": [],
      "source": [
        "from selenium import webdriver\n",
        "\n",
        "def extract_links(driver: webdriver, animal: str, root: str) -> list:\n",
        "    URL = root + animal\n",
        "    driver.get(URL)\n",
        "    animal_list = driver.find_elements_by_xpath('//figure[@itemprop=\"image\"]')\n",
        "    links = []\n",
        "    for item in animal_list:\n",
        "        links.append(item.find_element_by_xpath('.//a').get_attribute('href'))\n",
        "    return links\n",
        "\n",
        "def get_image_source(driver: webdriver, link: str) -> str:\n",
        "    driver.get(link)\n",
        "    time.sleep(0.5)\n",
        "    src = driver.find_element_by_xpath('//img[@class=\"oCCRx\"]').get_attribute('src')\n",
        "    return src\n",
        "\n",
        "def download_images(src: str, animal: str, i: int) -> None:\n",
        "    urllib.request.urlretrieve(src, f\"{animal}_{i}.jpg\")\n",
        "\n",
        "\n",
        "animal = 'cat'\n",
        "root = 'https://unsplash.com/s/photos/'\n",
        "driver = webdriver.Chrome()\n",
        "links = extract_links(driver, animal, root)\n",
        "for i, link in enumerate(links):\n",
        "    src = get_image_source(driver, link)\n",
        "    download_images(src, animal, i)"
      ]
    },
    {
      "cell_type": "markdown",
      "metadata": {
        "id": "FtkLzCe3n1w5"
      },
      "source": [
        "Although this approach of separating individual concerns into functions appears to involve more work, including writing more code, it will eventually pay off. When adding features, debugging, or testing code, it would be easy to identify the root cause because the events are __detached__.\n",
        "\n",
        "> The higher the granularity, the more convenient the debugging process."
      ]
    },
    {
      "cell_type": "markdown",
      "metadata": {
        "id": "hgpB0Gj-n1w5"
      },
      "source": [
        "For example, using this approach, we can easily change the animal (flexibility). You will be able to separate scopes and namespaces (robustness), as well as increase readability, which is extremely important.\n",
        "\n",
        "Although the code appears to be cramped into a single cell, the following is usually incorporated in the main code:"
      ]
    },
    {
      "cell_type": "code",
      "execution_count": null,
      "metadata": {
        "id": "EBOu4STgn1w5"
      },
      "outputs": [],
      "source": [
        "animal = 'cat'\n",
        "root = 'https://unsplash.com/s/photos/'\n",
        "driver = webdriver.Chrome()\n",
        "links = extract_links(driver, animal, root)\n",
        "for i, link in enumerate(links):\n",
        "    src = get_image_source(driver, link)\n",
        "    download_images(src, animal, i)"
      ]
    },
    {
      "cell_type": "markdown",
      "metadata": {
        "id": "sRCIFhWBn1w6"
      },
      "source": [
        "3. __Things to note on function names__\n",
        "\n",
        "Before we proceed, note the following:\n",
        "\n",
        "- __Be concise__: Name your function with a descriptive name; get_info() and do_this() are not very informative. However, do not overembellish, e.g. get_information_about_the_weather_by_scraping_multiple_pages().\n",
        "- __Functions are actions__: Do not name your function with a name or subject. Functions are actions, and as such, they should contain a verb. For example, consider the function names: image_scraper(), rock_paper_scissor() and music_player(). These functions provide information, but they are not specific. Is the image_scraper retrieving something?\n",
        "- __Use the name convention__: You can use any form of writing; however, you are encouraged to adhere to the convention. For example, GetImage() can be confused with a class. Functions should employ the snake_case style."
      ]
    },
    {
      "cell_type": "markdown",
      "metadata": {
        "id": "gD_Pab1Gn1w6"
      },
      "source": [
        "### Classes for connecting concerns"
      ]
    },
    {
      "cell_type": "markdown",
      "metadata": {
        "id": "srTDUwnQn1w6"
      },
      "source": [
        "As you keep adding code to your project, an increasing number of concerns will be added. Over time, you will observe that functions frequently work in tandem. If you frequently pass the result of one function to another or if several functions require the same input, you should define a class. \n",
        "\n",
        "We can simply insert the functions in a class (this approach is not very efficient):"
      ]
    },
    {
      "cell_type": "code",
      "execution_count": null,
      "metadata": {
        "id": "CmUGQBWFn1w6"
      },
      "outputs": [],
      "source": [
        "from selenium import webdriver\n",
        "\n",
        "# Let us define our class\n",
        "class AnimalScraper:\n",
        "    def extract_links(driver: webdriver, animal: str, root: str) -> list:\n",
        "        URL = root + animal\n",
        "        driver.get(URL)\n",
        "        animal_list = driver.find_elements_by_xpath('//figure[@itemprop=\"image\"]')\n",
        "        links = []\n",
        "        for item in animal_list:\n",
        "            links.append(item.find_element_by_xpath('.//a').get_attribute('href'))\n",
        "        return links\n",
        "\n",
        "    def get_image_source(driver: webdriver, link: str) -> str:\n",
        "        driver.get(link)\n",
        "        time.sleep(0.5)\n",
        "        src = driver.find_element_by_xpath('//img[@class=\"_2UpQX\"]').get_attribute('src')\n",
        "        return src\n",
        "\n",
        "    def download_images(src: str, animal: str, i: int) -> None:\n",
        "        urllib.request.urlretrieve(src, f\"{animal}_{i}.jpg\")"
      ]
    },
    {
      "cell_type": "code",
      "execution_count": null,
      "metadata": {
        "id": "dQTi5cczn1w6"
      },
      "outputs": [],
      "source": [
        "scraper = AnimalScraper()\n",
        "root = 'https://unsplash.com/s/photos/'\n",
        "driver = webdriver.Chrome()\n",
        "animal = 'cat'\n",
        "links = scraper.extract_links(driver=driver, animal=animal, root='https://unsplash.com/s/photos/')\n",
        "for i, link in enumerate(links):\n",
        "    src = scraper.get_image_source(driver=driver, link=link)\n",
        "    scraper.download_images(src=src, animal=animal, i=i)"
      ]
    },
    {
      "cell_type": "markdown",
      "metadata": {
        "id": "kJo5mCsqn1w6"
      },
      "source": [
        "The above appears to have made no difference. This is because we are not exploiting the full potential of classes. In the cell above, observe the variables for each method: they are repeated and/or depend on other methods to be run. Instances created from classes can store values in attributes. When a class is constructed, the `__init__` method is used, and values are assigned to `self`."
      ]
    },
    {
      "cell_type": "code",
      "execution_count": null,
      "metadata": {
        "id": "OusLhGm0n1w6"
      },
      "outputs": [],
      "source": [
        "from selenium import webdriver\n",
        "import time\n",
        "# Let's define our class\n",
        "class AnimalScraper:\n",
        "    def __init__(self, animal, homepage):\n",
        "        self.animal = animal\n",
        "        self.homepage = homepage\n",
        "        self.driver = webdriver.Chrome()\n",
        "        #self.links = [] # Initialise links, so that if the user calls for get_image_source, it does not throw an error.\n",
        "    \n",
        "    def extract_links(self) -> None:\n",
        "        self.driver.get(self.homepage + self.animal)\n",
        "        animal_list = self.driver.find_elements_by_xpath('//figure[@itemprop=\"image\"]')\n",
        "        self.links = []\n",
        "        for item in animal_list:\n",
        "            self.links.append(item.find_element_by_xpath('.//a').get_attribute('href'))\n",
        "        return self.links\n",
        "\n",
        "    def get_image_source(self, link: str) -> None:\n",
        "        self.driver.get(link)\n",
        "        time.sleep(0.5)\n",
        "        self.src = self.driver.find_element_by_xpath('//img[@class=\"oCCRx\"]').get_attribute('src')\n",
        "\n",
        "    def download_images(self, i) -> None:\n",
        "        urllib.request.urlretrieve(self.src, f\"./animals/{self.animal}_{i}.jpg\")\n",
        "    \n",
        "    def get_animal_images(self):\n",
        "        all_links = self.extract_links()\n",
        "        for i, link in enumerate(all_links):\n",
        "            self.get_image_source(link)\n",
        "            self.download_images(i)\n",
        "        self.links = []"
      ]
    },
    {
      "cell_type": "markdown",
      "metadata": {
        "id": "UM3PfAXmn1w7"
      },
      "source": [
        "Now, the main code will have the following appearance:"
      ]
    },
    {
      "cell_type": "code",
      "execution_count": null,
      "metadata": {
        "id": "Q5S9TpUkn1w7"
      },
      "outputs": [],
      "source": [
        "cat_scraper = AnimalScraper('cat', 'https://unsplash.com/s/photos/')\n",
        "cat_scraper.get_animal_images()"
      ]
    },
    {
      "cell_type": "markdown",
      "metadata": {
        "id": "cgg_kXkyn1w7"
      },
      "source": [
        "This is a considerable improvement over the previous code, and as a bonus, the user cannot easily access some restricted variables (for example, extract_links does not return anything)."
      ]
    },
    {
      "cell_type": "markdown",
      "metadata": {
        "id": "ICaWX9ZUn1w7"
      },
      "source": [
        "> It is worth noting that the process of defining classes and refactoring code is an art, and as such, mastering it requires time and consistency."
      ]
    },
    {
      "cell_type": "markdown",
      "metadata": {
        "id": "liDJ-euPn1w7"
      },
      "source": [
        "## Conclusion\n",
        "At this point, you should have a good understanding of\n",
        "\n",
        "- namespaces, scopes, and concerns.\n",
        "- how to separate concerns and the importance of this.\n",
        "- how to exploit functions and classes to improve your code."
      ]
    }
  ],
  "metadata": {
    "kernelspec": {
      "display_name": "Python 3.9.12 ('base')",
      "language": "python",
      "name": "python3"
    },
    "language_info": {
      "codemirror_mode": {
        "name": "ipython",
        "version": 3
      },
      "file_extension": ".py",
      "mimetype": "text/x-python",
      "name": "python",
      "nbconvert_exporter": "python",
      "pygments_lexer": "ipython3",
      "version": "3.9.12"
    },
    "vscode": {
      "interpreter": {
        "hash": "a2592652612463181e69ac003232387e3e9a99279aa6b168e76f5df16d5110f4"
      }
    },
    "colab": {
      "provenance": []
    }
  },
  "nbformat": 4,
  "nbformat_minor": 0
}