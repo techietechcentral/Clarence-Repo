{
 "cells": [
  {
   "cell_type": "code",
   "execution_count": 33,
   "metadata": {},
   "outputs": [
    {
     "name": "stdout",
     "output_type": "stream",
     "text": [
      "File Not Found\n",
      "[Errno 2] No such file or directory: 'test.txt'\n",
      "<class 'FileNotFoundError'>\n"
     ]
    }
   ],
   "source": [
    "try:\n",
    "    with open(\"test.txt\") as file:\n",
    "        contents = file.read()\n",
    "        print(contents)\n",
    "except Exception as e:\n",
    "    print(\"File Not Found\")\n",
    "    with open(\"test.txt\", \"w\") as file:\n",
    "        file.write(\"Hello, I am a file!\")\n",
    "        print(e)\n",
    "        print(type(e))\n"
   ]
  },
  {
   "cell_type": "code",
   "execution_count": 34,
   "metadata": {},
   "outputs": [
    {
     "name": "stdout",
     "output_type": "stream",
     "text": [
      "File Not Found\n",
      "[Errno 2] No such file or directory: 'test.txt'\n"
     ]
    }
   ],
   "source": [
    "try:\n",
    "    with open(\"test.txt\") as file:\n",
    "        contents = file.read()\n",
    "        print(contents)\n",
    "except FileNotFoundError as error:\n",
    "    print(\"File Not Found\")\n",
    "    with open(\"test.txt\", \"w\") as file:\n",
    "        file.write(\"Hello, I am a file!\")\n",
    "        print(error)"
   ]
  },
  {
   "attachments": {},
   "cell_type": "markdown",
   "metadata": {},
   "source": [
    "> ITS NOT POSSIBLE TO USE THE continue function with the raise statement in a wile loop "
   ]
  },
  {
   "cell_type": "code",
   "execution_count": 57,
   "metadata": {},
   "outputs": [
    {
     "ename": "ValueError",
     "evalue": "You must enter a number",
     "output_type": "error",
     "traceback": [
      "\u001b[1;31m---------------------------------------------------------------------------\u001b[0m",
      "\u001b[1;31mValueError\u001b[0m                                Traceback (most recent call last)",
      "\u001b[1;32mc:\\Users\\User_Central\\Desktop\\AICORE_PROJECTS\\try_excerpt.ipynb Cell 4\u001b[0m in \u001b[0;36m<cell line: 1>\u001b[1;34m()\u001b[0m\n\u001b[0;32m      <a href='vscode-notebook-cell:/c%3A/Users/User_Central/Desktop/AICORE_PROJECTS/try_excerpt.ipynb#W5sZmlsZQ%3D%3D?line=3'>4</a>\u001b[0m input_2 \u001b[39m=\u001b[39m \u001b[39minput\u001b[39m(\u001b[39m'\u001b[39m\u001b[39mEnter another number: \u001b[39m\u001b[39m'\u001b[39m)\n\u001b[1;32m----> <a href='vscode-notebook-cell:/c%3A/Users/User_Central/Desktop/AICORE_PROJECTS/try_excerpt.ipynb#W5sZmlsZQ%3D%3D?line=4'>5</a>\u001b[0m int_1 \u001b[39m=\u001b[39m \u001b[39mint\u001b[39;49m(input_1)\n\u001b[0;32m      <a href='vscode-notebook-cell:/c%3A/Users/User_Central/Desktop/AICORE_PROJECTS/try_excerpt.ipynb#W5sZmlsZQ%3D%3D?line=5'>6</a>\u001b[0m int_2 \u001b[39m=\u001b[39m \u001b[39mint\u001b[39m(input_2)\n",
      "\u001b[1;31mValueError\u001b[0m: invalid literal for int() with base 10: 'c'",
      "\nDuring handling of the above exception, another exception occurred:\n",
      "\u001b[1;31mValueError\u001b[0m                                Traceback (most recent call last)",
      "\u001b[1;32mc:\\Users\\User_Central\\Desktop\\AICORE_PROJECTS\\try_excerpt.ipynb Cell 4\u001b[0m in \u001b[0;36m<cell line: 1>\u001b[1;34m()\u001b[0m\n\u001b[0;32m      <a href='vscode-notebook-cell:/c%3A/Users/User_Central/Desktop/AICORE_PROJECTS/try_excerpt.ipynb#W5sZmlsZQ%3D%3D?line=8'>9</a>\u001b[0m \u001b[39m# Add an exception for ValueError so when the user enters a string instead of a number,\u001b[39;00m\n\u001b[0;32m     <a href='vscode-notebook-cell:/c%3A/Users/User_Central/Desktop/AICORE_PROJECTS/try_excerpt.ipynb#W5sZmlsZQ%3D%3D?line=9'>10</a>\u001b[0m \u001b[39m# the program will not crash.\u001b[39;00m\n\u001b[0;32m     <a href='vscode-notebook-cell:/c%3A/Users/User_Central/Desktop/AICORE_PROJECTS/try_excerpt.ipynb#W5sZmlsZQ%3D%3D?line=10'>11</a>\u001b[0m \u001b[39m# Add an exception for ZeroDivisionError so when the user enters 0 as the second number, \u001b[39;00m\n\u001b[0;32m     <a href='vscode-notebook-cell:/c%3A/Users/User_Central/Desktop/AICORE_PROJECTS/try_excerpt.ipynb#W5sZmlsZQ%3D%3D?line=11'>12</a>\u001b[0m \u001b[39m# the program will not crash.\u001b[39;00m\n\u001b[0;32m     <a href='vscode-notebook-cell:/c%3A/Users/User_Central/Desktop/AICORE_PROJECTS/try_excerpt.ipynb#W5sZmlsZQ%3D%3D?line=12'>13</a>\u001b[0m \u001b[39m# Add an exception for KeyboardInterrupt so when the user presses Ctrl+C, \u001b[39;00m\n\u001b[0;32m     <a href='vscode-notebook-cell:/c%3A/Users/User_Central/Desktop/AICORE_PROJECTS/try_excerpt.ipynb#W5sZmlsZQ%3D%3D?line=13'>14</a>\u001b[0m \u001b[39m# the program will not crash.\u001b[39;00m\n\u001b[0;32m     <a href='vscode-notebook-cell:/c%3A/Users/User_Central/Desktop/AICORE_PROJECTS/try_excerpt.ipynb#W5sZmlsZQ%3D%3D?line=14'>15</a>\u001b[0m \u001b[39mexcept\u001b[39;00m \u001b[39mValueError\u001b[39;00m:\n\u001b[1;32m---> <a href='vscode-notebook-cell:/c%3A/Users/User_Central/Desktop/AICORE_PROJECTS/try_excerpt.ipynb#W5sZmlsZQ%3D%3D?line=15'>16</a>\u001b[0m     \u001b[39mraise\u001b[39;00m \u001b[39mValueError\u001b[39;00m(\u001b[39m'\u001b[39m\u001b[39mYou must enter a number\u001b[39m\u001b[39m'\u001b[39m)\n\u001b[0;32m     <a href='vscode-notebook-cell:/c%3A/Users/User_Central/Desktop/AICORE_PROJECTS/try_excerpt.ipynb#W5sZmlsZQ%3D%3D?line=16'>17</a>\u001b[0m     \u001b[39mcontinue\u001b[39;00m\n\u001b[0;32m     <a href='vscode-notebook-cell:/c%3A/Users/User_Central/Desktop/AICORE_PROJECTS/try_excerpt.ipynb#W5sZmlsZQ%3D%3D?line=17'>18</a>\u001b[0m \u001b[39mexcept\u001b[39;00m \u001b[39mZeroDivisionError\u001b[39;00m:\n",
      "\u001b[1;31mValueError\u001b[0m: You must enter a number"
     ]
    }
   ],
   "source": [
    "while True:\n",
    "    try:\n",
    "        input_1 = input('Enter a number: ')\n",
    "        input_2 = input('Enter another number: ')\n",
    "        int_1 = int(input_1)\n",
    "        int_2 = int(input_2)\n",
    "        print(int_1 / int_2)\n",
    "        break\n",
    "    # Add an exception for ValueError so when the user enters a string instead of a number,\n",
    "    # the program will not crash.\n",
    "    # Add an exception for ZeroDivisionError so when the user enters 0 as the second number, \n",
    "    # the program will not crash.\n",
    "    # Add an exception for KeyboardInterrupt so when the user presses Ctrl+C, \n",
    "    # the program will not crash.\n",
    "    except ValueError:\n",
    "        raise ValueError('You must enter a number')\n",
    "        continue\n",
    "    except ZeroDivisionError:\n",
    "        raise ZeroDivisionError('You cannot divide by zero')\n",
    "        continue\n",
    "    except KeyboardInterrupt:\n",
    "        raise KeyboardInterrupt('You pressed Ctrl+C')\n",
    "        continue\n",
    "    except Exception as e:\n",
    "        raise Exception(f'Error: {e}. Please check your input.')"
   ]
  },
  {
   "cell_type": "code",
   "execution_count": 1,
   "metadata": {},
   "outputs": [
    {
     "name": "stdout",
     "output_type": "stream",
     "text": [
      "1.0\n",
      "No errors were raised\n"
     ]
    }
   ],
   "source": [
    "\n",
    "while True:\n",
    "    \n",
    "    try:\n",
    "        input_1 = input('Enter a number: ')\n",
    "        input_2 = input('Enter another number: ')\n",
    "        int_1 = int(input_1)\n",
    "        int_2 = int(input_2)\n",
    "        print(int_1 / int_2)\n",
    "    # Add an exception for ValueError so when the user enters a string instead of a number,\n",
    "    # the program will not crash.\n",
    "    # Add an exception for ZeroDivisionError so when the user enters 0 as the second number, \n",
    "    # the program will not crash.\n",
    "    # Add an exception for KeyboardInterrupt so when the user presses Ctrl+C, \n",
    "    # the program will not crash.\n",
    "    except ValueError:\n",
    "        print('Error: You must enter a number')\n",
    "        continue\n",
    "    except ZeroDivisionError:\n",
    "        print('Error: You cannot divide by zero')\n",
    "        continue\n",
    "    except KeyboardInterrupt:\n",
    "        print('Error: You pressed Ctrl+C')\n",
    "        continue\n",
    "    else:\n",
    "        print('No errors were raised')\n",
    "        break"
   ]
  }
 ],
 "metadata": {
  "kernelspec": {
   "display_name": "secondtest_env",
   "language": "python",
   "name": "python3"
  },
  "language_info": {
   "codemirror_mode": {
    "name": "ipython",
    "version": 3
   },
   "file_extension": ".py",
   "mimetype": "text/x-python",
   "name": "python",
   "nbconvert_exporter": "python",
   "pygments_lexer": "ipython3",
   "version": "3.10.6"
  },
  "orig_nbformat": 4
 },
 "nbformat": 4,
 "nbformat_minor": 2
}
