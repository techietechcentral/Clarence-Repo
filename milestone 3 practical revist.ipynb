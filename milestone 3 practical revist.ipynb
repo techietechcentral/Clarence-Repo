{
 "cells": [
  {
   "attachments": {},
   "cell_type": "markdown",
   "metadata": {},
   "source": [
    "##### 1. Counting numbers\n",
    "- Print all the numbers from 1 to 50\n",
    "- Using a while loop to do so\n",
    "- Using a for loop to do so What differences do you notice between the two ways?"
   ]
  },
  {
   "cell_type": "code",
   "execution_count": null,
   "metadata": {},
   "outputs": [],
   "source": [
    "a = int()\n",
    "while a <= 50: # correct condition\n",
    "    print(a)\n",
    "    a += 1\n",
    "    "
   ]
  },
  {
   "cell_type": "code",
   "execution_count": null,
   "metadata": {},
   "outputs": [],
   "source": [
    "a = int()\n",
    "while a < 50: # deficit condition\n",
    "    print(a)\n",
    "    a += 1"
   ]
  },
  {
   "cell_type": "code",
   "execution_count": null,
   "metadata": {},
   "outputs": [],
   "source": [
    "a = int()\n",
    "while 50 >= a: # correct condition \n",
    "    print(a)\n",
    "    a += 1 "
   ]
  },
  {
   "cell_type": "code",
   "execution_count": null,
   "metadata": {},
   "outputs": [],
   "source": [
    "a = int()\n",
    "while 50 > a: # deficit condition\n",
    "    print(a)\n",
    "    a += 1 "
   ]
  },
  {
   "cell_type": "code",
   "execution_count": null,
   "metadata": {},
   "outputs": [],
   "source": [
    "for a in range(0,51):\n",
    "    print(a)\n",
    "  \n",
    "    "
   ]
  },
  {
   "cell_type": "code",
   "execution_count": null,
   "metadata": {},
   "outputs": [],
   "source": [
    "for a in range(51):\n",
    "    print(a)"
   ]
  },
  {
   "attachments": {},
   "cell_type": "markdown",
   "metadata": {},
   "source": [
    "##### 2. Counting even numbers\n",
    "- Print all the numbers from 1 to 50 only if the number is even\n",
    "- Using a while loop to do so.\n",
    "- Using a for loop to do so."
   ]
  },
  {
   "cell_type": "code",
   "execution_count": null,
   "metadata": {},
   "outputs": [],
   "source": [
    "b = int(0)     # first describe the variable\n",
    "while b <= 50:\n",
    "    if b % 2 == 0: # while statement is followed by If statement\n",
    "        print(b)\n",
    "    b += 1"
   ]
  },
  {
   "cell_type": "code",
   "execution_count": null,
   "metadata": {},
   "outputs": [],
   "source": [
    "for b in range(0,51,2):\n",
    "    print(b)"
   ]
  },
  {
   "attachments": {},
   "cell_type": "markdown",
   "metadata": {},
   "source": [
    "##### 2. Prime Numbers\n",
    "- Write a program to check whether each number from 10 to 50 is prime\n",
    "- Your answer should take the following format:\n",
    "- \"x is a prime number.\" for primes\n",
    "- \"x is not a prime number because y is a factor of x.\" for non-primes\n",
    "- Here's a clue: This is possible using a while loop nested in a for loop or using a nested for loop; if you can, try to find both.*"
   ]
  },
  {
   "cell_type": "code",
   "execution_count": null,
   "metadata": {},
   "outputs": [],
   "source": [
    "# This code gets the prime numbers\n",
    "for x in range(10,50):\n",
    "    if (x == 2 or x == 3 or x == 5 or x == 7) or (x % 2 != 0\n",
    "        ) and (x % 3 != 0) and (x % 5 != 0) and (x % 7 != 0):\n",
    "        print(f\"{x} is a prime number.\")\n",
    "    \n",
    "        "
   ]
  },
  {
   "cell_type": "code",
   "execution_count": null,
   "metadata": {},
   "outputs": [],
   "source": [
    "# This get the Non prime numbers. \n",
    "# Condition are reverse of the condition used to get prime numbers\n",
    "for x in range(10, 50):\n",
    "    if (x != 2 and x != 3 and x != 5 and x != 7) and (x % 2 == 0\n",
    "        ) or (x % 3 == 0) or (x % 5 == 0) or (x % 7 == 0):\n",
    "        print(f\"{x} is not a prime number.\")"
   ]
  },
  {
   "cell_type": "code",
   "execution_count": null,
   "metadata": {},
   "outputs": [],
   "source": [
    "# Joining both statements. Note the second conition is a reverse of the first\n",
    "for x in range(10,50):\n",
    "    if (x == 2 or x == 3 or x == 5 or x == 7) or (x % 2 != 0\n",
    "        ) and (x % 3 != 0) and (x % 5 != 0) and (x % 7 != 0):\n",
    "        print(f\"{x} is a prime number.\")\n",
    "    if  (x != 2 and x != 3 and x != 5 and x != 7) and (x % 2 == 0\n",
    "        ) or (x % 3 == 0) or (x % 5 == 0) or (x % 7 == 0):\n",
    "        print(f\"{x} is not a prime number\")"
   ]
  },
  {
   "cell_type": "code",
   "execution_count": null,
   "metadata": {},
   "outputs": [],
   "source": [
    "# Since the 2nd condition is a reverse I introduce the else statement\n",
    "for x in range(10,50):\n",
    "    if (x == 2 or x == 3 or x == 5 or x == 7) or (x % 2 != 0\n",
    "        ) and (x % 3 != 0) and (x % 5 != 0) and (x % 7 != 0):\n",
    "        print(f\"{x} is a prime number.\")\n",
    "    else:  \n",
    "        print(f\"{x} is not a prime number\")\n",
    "        "
   ]
  },
  {
   "attachments": {},
   "cell_type": "markdown",
   "metadata": {},
   "source": [
    "\n",
    "##### 2.1 Prime Numbers\n",
    "- Coding to request input for min and max ranges "
   ]
  },
  {
   "cell_type": "code",
   "execution_count": null,
   "metadata": {},
   "outputs": [],
   "source": [
    "# Changing the code to request for input\n",
    "start = int(input(\"Enter first number to start:\"))\n",
    "end =  int(input(\"Enter first number to start:\"))\n",
    "for x in range(start, end + 1):\n",
    "    if (x == 2 or x == 3 or x == 5 or x == 7) or (x % 2 != 0\n",
    "        ) and (x % 3 != 0) and (x % 5 != 0) and (x % 7 != 0):\n",
    "        print(f\"{x} is a prime number.\")\n",
    "    else:  \n",
    "        print(f\"{x} is not a prime number\")\n",
    "        "
   ]
  },
  {
   "attachments": {},
   "cell_type": "markdown",
   "metadata": {},
   "source": [
    "- Requesting for input and Introducing a variable y representing multiples of non prime numbers"
   ]
  },
  {
   "cell_type": "code",
   "execution_count": null,
   "metadata": {},
   "outputs": [],
   "source": [
    "start = int(input(\"Enter first number to start:\"))\n",
    "end =  int(input(\"Enter Second number to end:\"))\n",
    "for x in range(start, end + 1):\n",
    "    if (x == 2 or x == 3 or x == 5 or x == 7) or (x % 2 != 0\n",
    "        ) and (x % 3 != 0) and (x % 5 != 0) and (x % 7 != 0):\n",
    "        print(f\"{x} is a prime number.\")\n",
    "    else:   \n",
    "        for y in range(2, x + 1):\n",
    "            if x % y == 0:\n",
    "                print(f\"{x} is not a prime number because {y} is a factor\")\n",
    "                break   #stop code running once the first multiple of the non prime number is printed"
   ]
  },
  {
   "cell_type": "code",
   "execution_count": null,
   "metadata": {},
   "outputs": [],
   "source": [
    "# This result displays all multiple of a non prime number because it is missing the \"break\" sytax\n",
    "# After the introduction of a second variable y\n",
    "for x in range(10,50):\n",
    "    if (x == 2 or x == 3 or x == 5 or x == 7) or (x % 2 != 0\n",
    "        ) and (x % 3 != 0) and (x % 5 != 0) and (x % 7 != 0):\n",
    "        print(f\"{x} is a prime number.\")\n",
    "    else:\n",
    "        for y in range(2, 8):\n",
    "            if x % y == 0: \n",
    "                print(f\"{x} is not a prime number because {y} is a factor\")\n",
    "          \n",
    "       "
   ]
  },
  {
   "cell_type": "code",
   "execution_count": null,
   "metadata": {},
   "outputs": [],
   "source": [
    "# Break synax introduced \n",
    "for x in range(10,50):\n",
    "    if (x == 2 or x == 3 or x == 5 or x == 7) or (x % 2 != 0\n",
    "        ) and (x % 3 != 0) and (x % 5 != 0) and (x % 7 != 0):\n",
    "        print(f\"{x} is a prime number.\")\n",
    "    else:\n",
    "       for y in range(2, 8):\n",
    "                if x % y == 0 and y == 2:\n",
    "                    print(f\"{x} is not a prime number because {y} is a factor\")\n",
    "                    break\n",
    "                if x % y == 0 and y == 3:\n",
    "                    print(f\"{x} is not a prime number because {y} is a factor\")\n",
    "                    break\n",
    "                if x % y == 0 and y == 5:\n",
    "                    print(f\"{x} is not a prime number because {y} is a factor\")\n",
    "                    break\n",
    "                if x % y == 0 and y == 7:\n",
    "                    print(f\"{x} is not a prime number because {y} is a factor\")\n",
    "                    break    "
   ]
  },
  {
   "cell_type": "code",
   "execution_count": null,
   "metadata": {},
   "outputs": [],
   "source": [
    "# Trying to work with \"min\" sytax\n",
    "for x in range(10,50):\n",
    "    if (x == 2 or x == 3 or x == 5 or x == 7) or (x % 2 != 0\n",
    "        ) and (x % 3 != 0) and (x % 5 != 0) and (x % 7 != 0):\n",
    "        print(f\"{x} is a prime number.\")\n",
    "    else:\n",
    "       for y in range(2, 8):\n",
    "            if x % y == 0 and min(set(range(2, 8))):\n",
    "                print(f\"{x} is not a prime number because {y} is a factor\")\n",
    "                break\n",
    "            elif x % y == 0 and y == min(set(range(3, 8))):\n",
    "                print(f\"{x} is not a prime number because {y} is a factor\")\n",
    "                break\n",
    "            elif x % y == 0 and y == min(set(range(5, 8))):\n",
    "                print(f\"{x} is not a prime number because {y} is a factor\")\n",
    "                break\n",
    "            elif x % y == 0 and y == min(set(range(7, 8))):\n",
    "                print(f\"{x} is not a prime number because {y} is a factor\")\n",
    "                break\n",
    "               "
   ]
  },
  {
   "cell_type": "code",
   "execution_count": null,
   "metadata": {},
   "outputs": [],
   "source": [
    "for x in range(10,50):\n",
    "    if (x == 2 or x == 3 or x == 5 or x == 7) or (x % 2 != 0\n",
    "        ) and (x % 3 != 0) and (x % 5 != 0) and (x % 7 != 0):\n",
    "        print(f\"{x} is a prime number.\")\n",
    "    else:\n",
    "        for y in range(2, 8):\n",
    "            if x % y == 0:  \n",
    "                print(f\"{x} is not a prime number because {y} is a factor\")\n",
    "                break"
   ]
  },
  {
   "cell_type": "code",
   "execution_count": 1,
   "metadata": {},
   "outputs": [
    {
     "name": "stdout",
     "output_type": "stream",
     "text": [
      "23 is a prime number.\n",
      "24 is not a prime number because 2 is a factor\n",
      "25 is not a prime number because 5 is a factor\n",
      "26 is not a prime number because 2 is a factor\n",
      "27 is not a prime number because 3 is a factor\n",
      "28 is not a prime number because 2 is a factor\n",
      "29 is a prime number.\n",
      "30 is not a prime number because 2 is a factor\n",
      "31 is a prime number.\n",
      "32 is not a prime number because 2 is a factor\n",
      "33 is not a prime number because 3 is a factor\n",
      "34 is not a prime number because 2 is a factor\n",
      "35 is not a prime number because 5 is a factor\n",
      "36 is not a prime number because 2 is a factor\n",
      "37 is a prime number.\n",
      "38 is not a prime number because 2 is a factor\n",
      "39 is not a prime number because 3 is a factor\n",
      "40 is not a prime number because 2 is a factor\n",
      "41 is a prime number.\n",
      "42 is not a prime number because 2 is a factor\n",
      "43 is a prime number.\n",
      "44 is not a prime number because 2 is a factor\n",
      "45 is not a prime number because 3 is a factor\n",
      "46 is not a prime number because 2 is a factor\n",
      "47 is a prime number.\n",
      "48 is not a prime number because 2 is a factor\n",
      "49 is not a prime number because 7 is a factor\n",
      "50 is not a prime number because 2 is a factor\n",
      "51 is not a prime number because 3 is a factor\n",
      "52 is not a prime number because 2 is a factor\n",
      "53 is a prime number.\n",
      "54 is not a prime number because 2 is a factor\n",
      "55 is not a prime number because 5 is a factor\n",
      "56 is not a prime number because 2 is a factor\n",
      "57 is not a prime number because 3 is a factor\n",
      "58 is not a prime number because 2 is a factor\n",
      "59 is a prime number.\n",
      "60 is not a prime number because 2 is a factor\n",
      "61 is a prime number.\n",
      "62 is not a prime number because 2 is a factor\n",
      "63 is not a prime number because 3 is a factor\n",
      "64 is not a prime number because 2 is a factor\n",
      "65 is not a prime number because 5 is a factor\n",
      "66 is not a prime number because 2 is a factor\n",
      "67 is a prime number.\n",
      "68 is not a prime number because 2 is a factor\n",
      "69 is not a prime number because 3 is a factor\n",
      "70 is not a prime number because 2 is a factor\n",
      "71 is a prime number.\n",
      "72 is not a prime number because 2 is a factor\n",
      "73 is a prime number.\n",
      "74 is not a prime number because 2 is a factor\n",
      "75 is not a prime number because 3 is a factor\n",
      "76 is not a prime number because 2 is a factor\n",
      "77 is not a prime number because 7 is a factor\n",
      "78 is not a prime number because 2 is a factor\n",
      "79 is a prime number.\n",
      "80 is not a prime number because 2 is a factor\n",
      "81 is not a prime number because 3 is a factor\n",
      "82 is not a prime number because 2 is a factor\n",
      "83 is a prime number.\n",
      "84 is not a prime number because 2 is a factor\n",
      "85 is not a prime number because 5 is a factor\n",
      "86 is not a prime number because 2 is a factor\n",
      "87 is not a prime number because 3 is a factor\n"
     ]
    }
   ],
   "source": [
    "start = int(input(\"Enter first number to start:\"))\n",
    "end =  int(input(\"Enter Second number to end:\"))\n",
    "for x in range(start, end):\n",
    "    if (x == 2 or x == 3 or x == 5 or x == 7) or (x % 2 != 0\n",
    "        ) and (x % 3 != 0) and (x % 5 != 0) and (x % 7 != 0):\n",
    "        print(f\"{x} is a prime number.\")\n",
    "    else:   \n",
    "        for y in range(2, 8):\n",
    "            if x % y == 0:\n",
    "                print(f\"{x} is not a prime number because {y} is a factor\")\n",
    "                break"
   ]
  },
  {
   "attachments": {},
   "cell_type": "markdown",
   "metadata": {},
   "source": [
    "- ##### 3. counting even and Odd numbers\n",
    "- Write a for loop to count the sum of all even numbers between 1 and 100\n",
    "- Write another for loop to count the sum of all odd numbers between 1 and 100"
   ]
  },
  {
   "cell_type": "code",
   "execution_count": null,
   "metadata": {},
   "outputs": [],
   "source": [
    "for f in range(0, 100, 2):\n",
    "    print(f) "
   ]
  },
  {
   "attachments": {},
   "cell_type": "markdown",
   "metadata": {},
   "source": [
    "##### Calculating the sum of all even numbers b/w 1 and 100 Mathematically\n",
    "##### using fomula : S_n=n2[a+l]\n",
    "- S = Sum of n (number of elements) between a(first element) and l(second element)\n",
    "- l = a + (n - 1)d\n",
    "- d = difference between two consecutive elements (sequence)\n",
    "- n = ((L - a)/d) + 1"
   ]
  },
  {
   "cell_type": "code",
   "execution_count": 163,
   "metadata": {},
   "outputs": [
    {
     "name": "stdout",
     "output_type": "stream",
     "text": [
      "2450\n"
     ]
    }
   ],
   "source": [
    "# Write a for loop to count the sum of all even numbers between 1 and 100\n",
    "for f in range(0, 100, 2):\n",
    "    f = sum(range(0, 100, 2)) \n",
    "    print(f)\n",
    "    break"
   ]
  },
  {
   "cell_type": "code",
   "execution_count": 164,
   "metadata": {},
   "outputs": [
    {
     "name": "stdout",
     "output_type": "stream",
     "text": [
      "2450\n"
     ]
    }
   ],
   "source": [
    "# Write a for loop to count the sum of all even numbers between 1 and 100\n",
    "for f in range(0, 100, 2):\n",
    "    print(sum(range(0, 100, 2)))\n",
    "    break      "
   ]
  },
  {
   "cell_type": "code",
   "execution_count": null,
   "metadata": {},
   "outputs": [],
   "source": [
    "##### While Loop cal of sum of even numb from b/w 1 -100\n",
    " \n",
    "a = int(input(\"Enter First element of Number series: \"))\n",
    "l = int(input(\"Enter Second element of Number series: \"))\n",
    "d = int(input(\"Enter Sequence / frequency\"))\n",
    "while s > 0:\n",
    "    if n == ((l - a)/d) + 1 and s == (n/2)*(a + l):\n",
    "        print(s)\n",
    "        break\n",
    "        "
   ]
  },
  {
   "cell_type": "code",
   "execution_count": null,
   "metadata": {},
   "outputs": [],
   "source": [
    "# solution: first determine n\n",
    "a = 2\n",
    "l = 98\n",
    "n = int(((98 - 2)/2) + 1)\n",
    "print(n)\n",
    "# Then use n to calculate s\n",
    "s = int((n/2)*(a + l))\n",
    "print(s)"
   ]
  },
  {
   "attachments": {},
   "cell_type": "markdown",
   "metadata": {},
   "source": [
    "##### Write another for loop to count the sum of all odd numbers between 1 and 100"
   ]
  },
  {
   "cell_type": "code",
   "execution_count": null,
   "metadata": {},
   "outputs": [],
   "source": [
    "# Write another for loop to count the sum of all odd numbers between 1 and 100\n",
    "for e in range(1, 100):\n",
    "    if e % 2 == 1:\n",
    "        print(e) # sample run"
   ]
  },
  {
   "cell_type": "code",
   "execution_count": null,
   "metadata": {},
   "outputs": [],
   "source": [
    "for e in range(1, 100):\n",
    "    if e % 2 == 1:\n",
    "        print(e) # sample run"
   ]
  },
  {
   "cell_type": "code",
   "execution_count": 206,
   "metadata": {},
   "outputs": [
    {
     "name": "stdout",
     "output_type": "stream",
     "text": [
      "2500\n"
     ]
    }
   ],
   "source": [
    "# Write another for loop to count the sum of all odd numbers between 1 and 100\n",
    "for f in range(1, 100, 2):\n",
    "    print(sum(range(1, 100, 2)))\n",
    "    break  \n",
    "        \n",
    "    "
   ]
  },
  {
   "cell_type": "code",
   "execution_count": 210,
   "metadata": {},
   "outputs": [
    {
     "name": "stdout",
     "output_type": "stream",
     "text": [
      "2500\n"
     ]
    }
   ],
   "source": [
    "for f in range(1, 100, 2):\n",
    "    f = sum(range(1, 100, 2))\n",
    "    print(f)\n",
    "    break "
   ]
  },
  {
   "cell_type": "code",
   "execution_count": 178,
   "metadata": {},
   "outputs": [
    {
     "name": "stdout",
     "output_type": "stream",
     "text": [
      "50\n",
      "2500\n"
     ]
    }
   ],
   "source": [
    "# solution: first determine n\n",
    "a = 1\n",
    "l = 99\n",
    "n = int(((99 - 1)/2) + 1)\n",
    "print(n)\n",
    "# Then use n to calculate s\n",
    "s = int((n/2)*(a + l))\n",
    "print(s)"
   ]
  },
  {
   "cell_type": "code",
   "execution_count": 211,
   "metadata": {},
   "outputs": [
    {
     "name": "stdout",
     "output_type": "stream",
     "text": [
      "50.0\n",
      "2500.0\n"
     ]
    }
   ],
   "source": [
    "# USING MATHEME\n",
    "a = int(input(\"Enter First element of Number series: \"))\n",
    "l = int(input(\"Enter Second element of Number series: \"))\n",
    "d = int(input(\"Enter Sequence / frequency\"))\n",
    "k = (n/2)*(a + l)\n",
    "n = ((l - a)/d) + 1\n",
    "while k > 0:\n",
    "    n == ((l - a)/d) + 1 and k == (n/2)*(a + l)\n",
    "    print(n)\n",
    "    print(k)\n",
    "    break\n",
    "    \n",
    "   \n",
    "        "
   ]
  },
  {
   "cell_type": "code",
   "execution_count": 172,
   "metadata": {},
   "outputs": [
    {
     "name": "stdout",
     "output_type": "stream",
     "text": [
      "50\n",
      "2500\n"
     ]
    }
   ],
   "source": [
    "# solution: first determine n\n",
    "a = 1\n",
    "l = 99\n",
    "n = int(((99 - 1)/2) + 1)\n",
    "print(n)\n",
    "# Then use n to calculate s\n",
    "s = int((n/2)*(a + l))\n",
    "print(s)"
   ]
  },
  {
   "attachments": {},
   "cell_type": "markdown",
   "metadata": {},
   "source": [
    "##### 4. FizzBuzz\n",
    "- Use a loop to print the numbers from 1 to 100 using the following rules:\n",
    "- For multiples of three print \"Fizz\" instead of the number\n",
    "- For multiples of five print \"Buzz\"\n",
    "- For numbers which are multiples of both three and five print \"FizzBuzz\"\n",
    "- Be careful with the order of the conditions. Remember that the \n",
    "- condition that is first met will be the one that will run, and the rest will be ignored."
   ]
  },
  {
   "cell_type": "code",
   "execution_count": null,
   "metadata": {},
   "outputs": [],
   "source": [
    "# For multiples of three print \"Fizz\" instead of the number\n",
    "for f in range(1, 100):\n",
    "    if f % 3 == 0:\n",
    "        print(\"Fizz\")\n",
    "    else:\n",
    "        print(f)"
   ]
  },
  {
   "cell_type": "code",
   "execution_count": null,
   "metadata": {},
   "outputs": [],
   "source": [
    "# For multiples of five print \"Buzz\"\n",
    "for f in range(1, 100):\n",
    "    if f % 3 == 0:\n",
    "        print(\"Fizz\")\n",
    "    if f % 5 == 0:\n",
    "        print(\"Buzz\")    \n",
    "    else:\n",
    "        print(f)"
   ]
  },
  {
   "cell_type": "code",
   "execution_count": null,
   "metadata": {},
   "outputs": [],
   "source": [
    "# For numbers which are multiples of both three and five print \"FizzBuzz\"\n",
    "for f in range(1, 100):\n",
    "    if f % 3 == 0:\n",
    "        print(\"Fizz\")\n",
    "    if f % 5 == 0:\n",
    "        print(\"Buzz\")\n",
    "    if f % 3 == 0 and f % 5 == 0:\n",
    "        print(\"FizzBuzz\")       \n",
    "    else:\n",
    "        print(f)"
   ]
  },
  {
   "cell_type": "code",
   "execution_count": null,
   "metadata": {},
   "outputs": [],
   "source": [
    "f_list = []\n",
    "for f in range(1, 100):\n",
    "    if f % 3 == 0:\n",
    "        f_list.append(\"Buzz\") \n",
    "    if f % 5 == 0:\n",
    "        f_list.append(\"Fizz\")  \n",
    "    if f % 3 == 0 and f % 5 == 0:\n",
    "       f_list.append(\"FizzBuzz\")     \n",
    "    else:\n",
    "        f_list.append(f)\n",
    "print(f_list)\n",
    "        \n"
   ]
  },
  {
   "cell_type": "code",
   "execution_count": 21,
   "metadata": {},
   "outputs": [
    {
     "name": "stdout",
     "output_type": "stream",
     "text": [
      "1\n"
     ]
    }
   ],
   "source": [
    "\n",
    "for f in range(1, 100):\n",
    "    if f % 3 == 0 and f % 5 == 0:\n",
    "        print(\"FizzBuzz\")\n",
    "    if f % 5 == 0:\n",
    "        print(\"Fizz\") \n",
    "    if f % 3 == 0:\n",
    "        print(\"Buzz\")          \n",
    "    else:\n",
    "        print(f)\n",
    "        \n"
   ]
  },
  {
   "cell_type": "code",
   "execution_count": null,
   "metadata": {},
   "outputs": [],
   "source": [
    "f_list = []\n",
    "for f in range(1, 100):\n",
    "    if f % 3 == 0 and f % 5 == 0:\n",
    "       f_list.append(\"FizzBuzz\")\n",
    "    if f % 5 == 0:\n",
    "        f_list.append(\"Fizz\")\n",
    "    if f % 3 == 0:\n",
    "        f_list.append(\"Buzz\")         \n",
    "    else:\n",
    "        f_list.append(f)\n",
    "print(f_list)"
   ]
  },
  {
   "attachments": {},
   "cell_type": "markdown",
   "metadata": {},
   "source": [
    "##### Rock - Paper - Scissors\n",
    "- Write a program that checks which player wins three rounds of Rock Paper Scissors. Download the next file \n",
    "\n",
    "The program asks two inputs from the user: player1 and player2. The inputs can be either \"rock\", \"paper\" or \"scissors\".\n",
    "\n",
    "- Code the logic of the game to see who wins. Print the result in the format: \"Player 1 wins\" or \"Player 2 wins\"\n",
    "- If one of the inputs is not \"rock\", \"paper\" or \"scissors\", print \"Invalid input\"\n",
    "- If both inputs are the same, print \"It''s a tie\"\n",
    "- Create two new variables, num_player_one_wins and num_player_two_wins, and use them to keep track of the number of wins each player has\n",
    "Put the code inside a while loop that runs until one of the players has won three rounds\n",
    "\n",
    "list_1 = [1, 2, 3]\n",
    "list_2 = [1, 2, 3]\n",
    "if list_1 == list_2:\n",
    "    print('The lists are the same.')\n",
    "else:\n",
    "    print('The lists are different.')"
   ]
  },
  {
   "cell_type": "code",
   "execution_count": 9,
   "metadata": {},
   "outputs": [
    {
     "name": "stdout",
     "output_type": "stream",
     "text": [
      "The lists are the same.\n"
     ]
    }
   ],
   "source": [
    "list_1 = [1, 2, 3]\n",
    "list_2 = [1, 2, 3]\n",
    "if list_1 == list_2:\n",
    "    print('The lists are the same.')\n",
    "else:\n",
    "    print('The lists are different.')"
   ]
  },
  {
   "cell_type": "code",
   "execution_count": 24,
   "metadata": {},
   "outputs": [
    {
     "name": "stdout",
     "output_type": "stream",
     "text": [
      "player1 wins\n",
      "['scissors']\n"
     ]
    }
   ],
   "source": [
    "listx = ['rock','paper','scissors']\n",
    "\n",
    "player1_wins = []\n",
    "player2_wins = []\n",
    "\n",
    "player1 = input('player1 enter rock, paper or scissors: ')\n",
    "player2 = input('player2 enter rock, paper or scissors: ')\n",
    "\n",
    "player1 = input('player1 enter rock, paper or scissors: ')\n",
    "player2 = input('player2 enter rock, paper or scissors: ')\n",
    "\n",
    "player1 = input('player1 enter rock, paper or scissors: ')\n",
    "player2 = input('player2 enter rock, paper or scissors: ')\n",
    "\n",
    "for items in listx:\n",
    "        if player1 == listx[0] and player2 == listx[2]:\n",
    "            player1_wins.append(player1)\n",
    "            print(\"player1 wins\")\n",
    "        elif player1 == listx[2] and player2 == listx[0]:\n",
    "            player2_wins.append(player2)\n",
    "            print(\"player2 wins\")\n",
    "            \n",
    "        elif player1 == listx[1] and player2 == listx[0]:\n",
    "            player1_wins.append(player1)\n",
    "            print(\"player1 wins\")\n",
    "        elif player1 == listx[0] and player2 == listx[1]:\n",
    "            player2_wins.append(player2)\n",
    "            print(\"player2 wins\")\n",
    "            \n",
    "        elif player1 == listx[2] and player2 == listx[1]:\n",
    "            player1_wins.append(player1)\n",
    "            print(\"player1 wins\")\n",
    "        elif player1 == listx[1] and player1 == listx[2]:\n",
    "            player2_wins.append(player2)\n",
    "            print(\"player2 wins\")\n",
    "            \n",
    "        elif player1 == player2:\n",
    "            print(\"it's a tie\")\n",
    "        else:\n",
    "            print(\"invalid Entry!. Try Again\")    \n",
    "        break\n",
    "print(player1_wins)\n",
    "print(player1_wins)"
   ]
  },
  {
   "attachments": {},
   "cell_type": "markdown",
   "metadata": {},
   "source": [
    "##### 5. Extracting Data from List\n",
    "- Create two dictionaries as follows: dict_1 = {'London': [51.509865,-0.118092]} and dict_2 = {'Paris': [48.864716, 2.349014]}\n",
    "- Put them into a list as follows: my_list = [dict_1, dict_2]\n",
    "- You now have a list, where each element is a dictionary containing a city name and a lat/long co-ordinate pair.\n",
    "- Write a script that loops through the list and prints out the lattitude of each city like this: \"Paris: 48.864716\""
   ]
  },
  {
   "cell_type": "code",
   "execution_count": 23,
   "metadata": {},
   "outputs": [],
   "source": [
    "dict_1 = {'London': [51.509865,-0.118092]}\n",
    "dict_2 = {'Paris': [48.864716, 2.349014]}\n",
    "my_list = [dict_1, dict_2]"
   ]
  },
  {
   "cell_type": "code",
   "execution_count": 24,
   "metadata": {},
   "outputs": [
    {
     "name": "stdout",
     "output_type": "stream",
     "text": [
      "London\n",
      "London\n",
      "('London', [51.509865, -0.118092])\n",
      "<class 'tuple'>\n",
      "{'London': [51.509865, -0.118092]}\n"
     ]
    }
   ],
   "source": [
    "for key in dict_1: \n",
    "    print(key)\n",
    "for x in dict_1:            # gerates a key \n",
    "    print(x)                # same as key\n",
    "for x in dict_1.items():\n",
    "    print(x)                # generates a tuple\n",
    "    print(type(x))          # Tuple(ilerable but unchangable)\n",
    "    print(dict_1)"
   ]
  },
  {
   "cell_type": "code",
   "execution_count": 25,
   "metadata": {},
   "outputs": [
    {
     "name": "stdout",
     "output_type": "stream",
     "text": [
      "('London', [51.509865, -0.118092])\n",
      "London [51.509865, -0.118092]\n",
      "Paris [48.864716, 2.349014]\n"
     ]
    }
   ],
   "source": [
    "for x in dict_1.items():    # generates a Tuple\n",
    "    print(x)                 \n",
    "for x, y in dict_1.items():  #unpacking Tuple\n",
    "    print(x, y) # key and value\n",
    "for (x, y) in dict_2.items():\n",
    "    print(x, y)\n",
    "   "
   ]
  },
  {
   "cell_type": "code",
   "execution_count": 343,
   "metadata": {},
   "outputs": [
    {
     "name": "stdout",
     "output_type": "stream",
     "text": [
      "London : 51.509865\n",
      "Paris : 48.864716\n"
     ]
    }
   ],
   "source": [
    "dict_1 = {'London': [51.509865,-0.118092]}\n",
    "dict_2 = {'Paris': [48.864716, 2.349014]}\n",
    "my_list = [dict_1, dict_2]\n",
    "\n",
    "for x, y in my_list[0].items():\n",
    "    print(f\"{x} : {y[0]}\")\n",
    "    for x, y in my_list[1].items():\n",
    "        print(f\"{x} : {y[0]}\")"
   ]
  },
  {
   "cell_type": "code",
   "execution_count": 354,
   "metadata": {},
   "outputs": [
    {
     "name": "stdout",
     "output_type": "stream",
     "text": [
      "London : 51.509865\n",
      "Paris : 48.864716\n"
     ]
    }
   ],
   "source": [
    "location =[]\n",
    "for x in my_list:\n",
    "    #print(x)\n",
    "    location.append(x)\n",
    "#print(location)\n",
    "#print(location[0])     # same as dict_1\n",
    "#print(location[1])     # same as dict_2\n",
    "for c, b in (location[0]).items():\n",
    "    print(f\"{c} : {b[0]}\")\n",
    "    for c, b in (location[1]).items():\n",
    "        print(f\"{c} : {b[0]}\")"
   ]
  },
  {
   "attachments": {},
   "cell_type": "markdown",
   "metadata": {},
   "source": [
    "##### 6. Nested Data Structures\n",
    "- Create a list of 3 dictionaries, where each dictionary contains the \n",
    "keys \"name\", \"age\" and \"favourite_colour\".\n",
    "- Assign appropriate values to each key in each dictionary.\n",
    "- Using nested for loops or list comprehension, create a new dictionary where \n",
    "the value of each \"name\" key is a key. \n",
    "- The values in the new dictionary should be a dictionary of the other two key-value pairs from each original dictionary. \n",
    "- As an example, the new dictionary should key-values pairs like this: \"Sarah\" : {\"age\": 25, \"favourite_colour\", \"blue\"}"
   ]
  },
  {
   "cell_type": "code",
   "execution_count": null,
   "metadata": {},
   "outputs": [],
   "source": [
    "# Example to help understand the working of the for loop\n",
    "for x in range(3):\n",
    "    for y in range(3):\n",
    "        print(f'x = {x}, and y = {y}')"
   ]
  },
  {
   "cell_type": "code",
   "execution_count": null,
   "metadata": {},
   "outputs": [],
   "source": [
    "dict_1 = [{'name':'Bob','age':45,'fav_colour':'blue'}, \n",
    "             {'name':'Sarah','age': 23,'fav_colour':'pink'},\n",
    "             {'name':'Obi','age': 44,'fav_colour':'green'}]\n",
    "for g, h, i in dict_1:\n",
    "    print(g, h, i)"
   ]
  },
  {
   "cell_type": "code",
   "execution_count": null,
   "metadata": {},
   "outputs": [],
   "source": [
    "dict_1 = [{'name':'Bob','age':45,'fav_colour':'blue'}, \n",
    "             {'name':'Sarah','age': 23,'fav_colour':'pink'},\n",
    "             {'name':'Obi','age': 44,'fav_colour':'green'}]\n",
    "for g in dict_1:\n",
    "    #print(g)\n",
    "    for h, i in g.items():\n",
    "        print(h, i)\n",
    "        #for i in h:\n",
    "            #print(i)"
   ]
  },
  {
   "cell_type": "code",
   "execution_count": 2,
   "metadata": {},
   "outputs": [
    {
     "name": "stdout",
     "output_type": "stream",
     "text": [
      "{\"Bob : ('age', 45), ('fav_colour', 'blue')\"}\n"
     ]
    }
   ],
   "source": [
    "# TEST RUN\n",
    "i_dict = {'name':'Bob','age':45,'fav_colour':'blue'}\n",
    "for a in list(i_dict.values()):\n",
    "    #print(a)\n",
    "    break\n",
    "for b in (list(i_dict.items()))[1:2]:\n",
    "    #print(a,\":\", b)    \n",
    "    for c in (list(i_dict.items()))[2:]:\n",
    "    #print(a, \":\", c)\n",
    "        print({f\"{a} : {b}, {c}\"})"
   ]
  },
  {
   "cell_type": "code",
   "execution_count": 5,
   "metadata": {},
   "outputs": [
    {
     "name": "stdout",
     "output_type": "stream",
     "text": [
      "Bob\n",
      "{'age': 45}\n",
      "{'fav_colour': 'blue'}\n",
      "{\"Bob : ('age', 45), ('fav_colour', 'blue')\"}\n"
     ]
    }
   ],
   "source": [
    "i_dict = {'name':'Bob','age':45,'fav_colour':'blue'}\n",
    "for a in list(i_dict.values()):\n",
    "    print(a)\n",
    "    break\n",
    "for y, z in (list(i_dict.items()))[1:2]:\n",
    "    print({y : z})    \n",
    "    for y, z in (list(i_dict.items()))[2:]:\n",
    "        print({y : z})\n",
    "    print({f\"{a} : {b}, {c}\"})\n",
    "        "
   ]
  },
  {
   "cell_type": "code",
   "execution_count": 8,
   "metadata": {},
   "outputs": [
    {
     "name": "stdout",
     "output_type": "stream",
     "text": [
      "Bob: {'age': 45}, {'fav_colour': 'blue'}\n",
      "Sarah: {'age': 23}, {'fav_colour': 'blue'}\n",
      "Obi: {'age': 44}, {'fav_colour': 'blue'}\n"
     ]
    }
   ],
   "source": [
    "dict_1 = [{'name':'Bob','age':45,'fav_colour':'blue'}, \n",
    "             {'name':'Sarah','age': 23,'fav_colour':'pink'},\n",
    "             {'name':'Obi','age': 44,'fav_colour':'green'}]\n",
    "for i in dict_1:\n",
    "    #print(i)\n",
    "    for e in list(i.values()):\n",
    "        #print(e)\n",
    "        break\n",
    "    for w, x in (list(i.items()))[1:2]:\n",
    "        if f := {w : x}:\n",
    "            #print(f)\n",
    "            #print({w : x})\n",
    "            type\n",
    "            for y, z in (list(i_dict.items()))[2:3]:\n",
    "            #print({y : z})\n",
    "                if g := {y : z}:\n",
    "                    #print(g)\n",
    "                    print(f\"{e}: {f}, {g}\")\n",
    "            "
   ]
  },
  {
   "cell_type": "code",
   "execution_count": 9,
   "metadata": {},
   "outputs": [
    {
     "name": "stdout",
     "output_type": "stream",
     "text": [
      "Bob {'age': 45} {'fav_colour': 'blue'}\n",
      "Sarah {'age': 23} {'fav_colour': 'blue'}\n",
      "Obi {'age': 44} {'fav_colour': 'blue'}\n"
     ]
    }
   ],
   "source": [
    "dict_1 = [{'name':'Bob','age':45,'fav_colour':'blue'}, \n",
    "             {'name':'Sarah','age': 23,'fav_colour':'pink'},\n",
    "             {'name':'Obi','age': 44,'fav_colour':'green'}]\n",
    "for i in dict_1:\n",
    "    for e in list(i.values()):\n",
    "        break\n",
    "    for w, x in (list(i.items()))[1:2]:\n",
    "        if f := {w : x}:\n",
    "            for y, z in (list(i_dict.items()))[2:3]:\n",
    "                if g := {y : z}:\n",
    "                    print((e), (f),(g))"
   ]
  },
  {
   "cell_type": "code",
   "execution_count": 10,
   "metadata": {},
   "outputs": [
    {
     "name": "stdout",
     "output_type": "stream",
     "text": [
      "Bob: {'age': 45, 'fav_colour': 'blue'})\n",
      "Sarah: {'age': 23, 'fav_colour': 'blue'})\n",
      "Obi: {'age': 44, 'fav_colour': 'blue'})\n"
     ]
    }
   ],
   "source": [
    "dict_1 = [{'name':'Bob','age':45,'fav_colour':'blue'}, \n",
    "             {'name':'Sarah','age': 23,'fav_colour':'pink'},\n",
    "             {'name':'Obi','age': 44,'fav_colour':'green'}]\n",
    "for i in dict_1:\n",
    "    for e in list(i.values()):\n",
    "        break\n",
    "    for w, x in (list(i.items()))[1:2]:\n",
    "        if f := (w , x):\n",
    "            for y, z in (list(i_dict.items()))[2:3]:\n",
    "                if g := (y , z):\n",
    "                    #print((e), (f), (g))\n",
    "                    p = [(w, x), (y, z)]\n",
    "                    #print(dict(p))\n",
    "                    q = dict(p)\n",
    "                    #print(q)\n",
    "                    print(f\"{e}: {q})\")"
   ]
  },
  {
   "cell_type": "code",
   "execution_count": 11,
   "metadata": {},
   "outputs": [
    {
     "name": "stdout",
     "output_type": "stream",
     "text": [
      "Bob: {'age': 45, 'fav_colour': 'blue'})\n",
      "Sarah: {'age': 23, 'fav_colour': 'blue'})\n",
      "Obi: {'age': 44, 'fav_colour': 'blue'})\n"
     ]
    }
   ],
   "source": [
    "dict_1 = [{'name':'Bob','age':45,'fav_colour':'blue'}, \n",
    "             {'name':'Sarah','age': 23,'fav_colour':'pink'},\n",
    "             {'name':'Obi','age': 44,'fav_colour':'green'}]\n",
    "for i in dict_1:\n",
    "    #print(i)\n",
    "    for e in list(i.values()):\n",
    "        break\n",
    "    for w, x in (list(i.items()))[1:2]:\n",
    "        if f := (w , x):\n",
    "            for y, z in (list(i_dict.items()))[2:3]:\n",
    "                if g := (y , z):\n",
    "                    #print((e),(f),(g))\n",
    "                    p = ((w, x), (y, z))\n",
    "                    #print(dict(p))\n",
    "                    q = dict(p)\n",
    "                    #print(q)\n",
    "                    print(f\"{e}: {q})\")"
   ]
  },
  {
   "cell_type": "code",
   "execution_count": 12,
   "metadata": {},
   "outputs": [
    {
     "name": "stdout",
     "output_type": "stream",
     "text": [
      "{'Bob': {'age': 45, 'fav_colour': 'blue'}}\n",
      "{'Bob': {'age': 45, 'fav_colour': 'blue'}, 'Sarah': {'age': 23, 'fav_colour': 'blue'}}\n",
      "{'Bob': {'age': 45, 'fav_colour': 'blue'}, 'Sarah': {'age': 23, 'fav_colour': 'blue'}, 'Obi': {'age': 44, 'fav_colour': 'blue'}}\n"
     ]
    }
   ],
   "source": [
    "d = {}\n",
    "\n",
    "dict_1 = [{'name':'Bob','age':45,'fav_colour':'blue'}, \n",
    "             {'name':'Sarah','age': 23,'fav_colour':'pink'},\n",
    "             {'name':'Obi','age': 44,'fav_colour':'green'}]\n",
    "for i in dict_1:\n",
    "    for e in list(i.values()):\n",
    "        break\n",
    "    for w, x in (list(i.items()))[1:2]:\n",
    "        #if f := (w , x):\n",
    "            for y, z in (list(i_dict.items()))[2:3]:\n",
    "                #if g := (y , z):\n",
    "                    #print((e),(f),(g))\n",
    "                    p = ((w, x), (y, z))\n",
    "                    #print(dict(p))\n",
    "                    q = dict(p)\n",
    "                    #print(q)\n",
    "                    #print(f\"{e}: {q})\")\n",
    "                    key = e\n",
    "                    value = q\n",
    "                    d[key] = value\n",
    "                    print(d)\n",
    "                    "
   ]
  },
  {
   "cell_type": "code",
   "execution_count": 1,
   "metadata": {},
   "outputs": [
    {
     "name": "stdout",
     "output_type": "stream",
     "text": [
      "{'Bob': {'age': 45, 'fav_colour': 'blue'}, 'Sarah': {'age': 23, 'fav_colour': 'pink'}, 'Obi': {'age': 44, 'fav_colour': 'green'}}\n"
     ]
    }
   ],
   "source": [
    "## REFINED CODE\n",
    "\n",
    "d = {}\n",
    "\n",
    "dict_1 = [{'name':'Bob','age':45,'fav_colour':'blue'}, \n",
    "             {'name':'Sarah','age': 23,'fav_colour':'pink'},\n",
    "             {'name':'Obi','age': 44,'fav_colour':'green'}]\n",
    "for i in dict_1:\n",
    "    for e in list(i.values()):\n",
    "        break\n",
    "    for w, x in (list(i.items()))[1:2]:\n",
    "        for y, z in (list(i.items()))[2:3]:\n",
    "            p = ((w, x), (y, z))\n",
    "            d[e] = dict(p)\n",
    "print(d)\n"
   ]
  },
  {
   "attachments": {},
   "cell_type": "markdown",
   "metadata": {},
   "source": [
    "#### show working"
   ]
  },
  {
   "cell_type": "code",
   "execution_count": null,
   "metadata": {},
   "outputs": [],
   "source": [
    "d = {}\n",
    "\n",
    "dict_1 = [{'name':'Bob','age':45,'fav_colour':'blue'}, \n",
    "            {'name':'Sarah','age': 23,'fav_colour':'pink'},\n",
    "            {'name':'Obi','age': 44,'fav_colour':'green'}]\n",
    "for i in dict_1:\n",
    "    print(i)\n",
    "    #print(dict_1)\n",
    "    for e in list(i.values()):\n",
    "        #print(e)\n",
    "        #print(i.values())\n",
    "        break\n",
    "    for w, x in (list(i.items()))[1:2]:\n",
    "        #print(w, x)\n",
    "        #print(list(i.items()))\n",
    "        #print(list(i.items())[1:2])\n",
    "        for y, z in (list(i.items()))[2:3]:\n",
    "            #print(y, z)\n",
    "            p = ((w, x), (y, z))\n",
    "            #print(p)\n",
    "            #print(dict(p))\n",
    "            d[e] = dict(p)\n",
    "#print(d[e])\n",
    "#print([e])\n",
    "print(d)"
   ]
  }
 ],
 "metadata": {
  "kernelspec": {
   "display_name": "secondtest_env",
   "language": "python",
   "name": "python3"
  },
  "language_info": {
   "codemirror_mode": {
    "name": "ipython",
    "version": 3
   },
   "file_extension": ".py",
   "mimetype": "text/x-python",
   "name": "python",
   "nbconvert_exporter": "python",
   "pygments_lexer": "ipython3",
   "version": "3.10.6"
  },
  "orig_nbformat": 4,
  "vscode": {
   "interpreter": {
    "hash": "f7e737508e320864f9730b912236e997794d80e5da8833e77c0e26b9118fc4e5"
   }
  }
 },
 "nbformat": 4,
 "nbformat_minor": 2
}
