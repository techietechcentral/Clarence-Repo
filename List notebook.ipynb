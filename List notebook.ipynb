{
  "cells": [
    {
      "cell_type": "markdown",
      "metadata": {
        "id": "hklPLN1Lmq1z"
      },
      "source": [
        "# Lists"
      ]
    },
    {
      "cell_type": "markdown",
      "metadata": {
        "id": "bn2NR7jkmq10"
      },
      "source": [
        "## Learning objectives\n",
        "- Understand the nature of a list.\n",
        "- Know how to index and slice a list.\n",
        "- Know some ways to add items to a list.\n",
        "- Know some methods associated with a list.\n",
        "<br>"
      ]
    },
    {
      "cell_type": "markdown",
      "metadata": {
        "id": "h80aJc9hmq11"
      },
      "source": [
        "- A powerful data type in Python.\n",
        "- It is denoted by square brackets [].\n",
        "- Lists store items as a mutable ordered sequence of elements.\n",
        "- Each element in a list is an item.\n",
        "- Indexing and slicing operations apply to lists.\n",
        "- Lists can be nested several levels deep.\n",
        "\n",
        "![Lists](https://github.com/AI-Core/Content-Public/blob/main/Content/units/Essentials/7.%20Python%20programming/8.%20Lists/images/lists.png?raw=1)"
      ]
    },
    {
      "cell_type": "markdown",
      "metadata": {
        "id": "r1DltYqwmq11"
      },
      "source": [
        "### Term Definitions\n",
        "- Mutable: indicates that the item can be changed after creation (supports addition/removal/reassignment of items).\n",
        "- Ordered: indicates a fixed order (the order of elements provided at the time of assignment); thus, indexing can occur using numbers. For example, the list, \\[2,1,3,4\\], will remain unchanged; 2 will remain the first element, 1 will remain the second, ..., etc.\n",
        "- Sequence of elements: fairly self explanatory."
      ]
    },
    {
      "cell_type": "code",
      "execution_count": 1,
      "metadata": {
        "id": "TEBt2yGPmq11"
      },
      "outputs": [],
      "source": [
        "# can handle multiple object types.\n",
        "my_list = [3, \"three\", 3.0, True]"
      ]
    },
    {
      "cell_type": "code",
      "execution_count": 2,
      "metadata": {
        "colab": {
          "base_uri": "https://localhost:8080/"
        },
        "id": "XnFXzs_Cmq12",
        "outputId": "c8e075ae-2d03-489e-8ae8-4a6801836292"
      },
      "outputs": [
        {
          "data": {
            "text/plain": [
              "3"
            ]
          },
          "execution_count": 2,
          "metadata": {},
          "output_type": "execute_result"
        }
      ],
      "source": [
        "my_list[0]"
      ]
    },
    {
      "cell_type": "code",
      "execution_count": 3,
      "metadata": {
        "colab": {
          "base_uri": "https://localhost:8080/"
        },
        "id": "fqzIV7yKmq12",
        "outputId": "c51e0849-059d-49e2-ae17-4d16f21c7876"
      },
      "outputs": [
        {
          "data": {
            "text/plain": [
              "['Thi', ' i', ' ju', 't a ', 'entence']"
            ]
          },
          "execution_count": 3,
          "metadata": {},
          "output_type": "execute_result"
        }
      ],
      "source": [
        "sentence = 'This is just a sentence'\n",
        "sentence.split('s')"
      ]
    },
    {
      "cell_type": "code",
      "execution_count": 4,
      "metadata": {
        "colab": {
          "base_uri": "https://localhost:8080/"
        },
        "id": "pDRvsehtmq12",
        "outputId": "c507f9eb-415b-4c6a-89f0-f8c9bb3b9025"
      },
      "outputs": [
        {
          "data": {
            "text/plain": [
              "int"
            ]
          },
          "execution_count": 4,
          "metadata": {},
          "output_type": "execute_result"
        }
      ],
      "source": [
        "# can use the type() method to determine the data type of an object.\n",
        "type(3)"
      ]
    },
    {
      "cell_type": "code",
      "execution_count": 5,
      "metadata": {
        "colab": {
          "base_uri": "https://localhost:8080/"
        },
        "id": "10qoG6rWmq12",
        "outputId": "13b0bde2-e877-473d-b099-6a2b2354e918"
      },
      "outputs": [
        {
          "data": {
            "text/plain": [
              "str"
            ]
          },
          "execution_count": 5,
          "metadata": {},
          "output_type": "execute_result"
        }
      ],
      "source": [
        "type(\"three\")"
      ]
    },
    {
      "cell_type": "code",
      "execution_count": 6,
      "metadata": {
        "colab": {
          "base_uri": "https://localhost:8080/"
        },
        "id": "28w2j1ftmq13",
        "outputId": "1ee73c88-2788-438c-936f-82fb5d2cb1a1"
      },
      "outputs": [
        {
          "data": {
            "text/plain": [
              "float"
            ]
          },
          "execution_count": 6,
          "metadata": {},
          "output_type": "execute_result"
        }
      ],
      "source": [
        "type(3.0)"
      ]
    },
    {
      "cell_type": "code",
      "execution_count": 7,
      "metadata": {
        "colab": {
          "base_uri": "https://localhost:8080/"
        },
        "id": "Jj4gxPMomq13",
        "outputId": "2fcdfa2a-8363-4953-f9ea-8b77c1d372b9"
      },
      "outputs": [
        {
          "data": {
            "text/plain": [
              "bool"
            ]
          },
          "execution_count": 7,
          "metadata": {},
          "output_type": "execute_result"
        }
      ],
      "source": [
        "type(True)"
      ]
    },
    {
      "cell_type": "code",
      "execution_count": 8,
      "metadata": {
        "colab": {
          "base_uri": "https://localhost:8080/"
        },
        "id": "g_-UvKXemq13",
        "outputId": "b39e04dd-6d1e-4d30-8945-005a5362776d"
      },
      "outputs": [
        {
          "data": {
            "text/plain": [
              "list"
            ]
          },
          "execution_count": 8,
          "metadata": {},
          "output_type": "execute_result"
        }
      ],
      "source": [
        "type(my_list)"
      ]
    },
    {
      "cell_type": "markdown",
      "metadata": {
        "id": "5p8MFwHBmq13"
      },
      "source": [
        "## Indexing and Slicing"
      ]
    },
    {
      "cell_type": "markdown",
      "metadata": {
        "id": "ZcfIYG5bmq13"
      },
      "source": [
        "In Python, slicing\n",
        "\n",
        "- begins at index 0 (zero).\n",
        "- is inclusive of the lower bound (including).\n",
        "- is exclusive of the upper bound (up to, but not including)."
      ]
    },
    {
      "cell_type": "code",
      "execution_count": 9,
      "metadata": {
        "colab": {
          "base_uri": "https://localhost:8080/"
        },
        "id": "Viityczkmq14",
        "outputId": "ea9595d6-3251-4e98-affa-8a82014f034b"
      },
      "outputs": [
        {
          "data": {
            "text/plain": [
              "['John', 'Paul', 'George', 'Ringo']"
            ]
          },
          "execution_count": 9,
          "metadata": {},
          "output_type": "execute_result"
        }
      ],
      "source": [
        "my_list = ['John', 'Paul', 'George', 'Ringo']\n",
        "my_list"
      ]
    },
    {
      "cell_type": "code",
      "execution_count": 10,
      "metadata": {
        "colab": {
          "base_uri": "https://localhost:8080/",
          "height": 35
        },
        "id": "E3wIuznamq14",
        "outputId": "edabd16d-576f-42b2-9533-299c0c383987"
      },
      "outputs": [
        {
          "data": {
            "application/vnd.google.colaboratory.intrinsic+json": {
              "type": "string"
            },
            "text/plain": [
              "'John'"
            ]
          },
          "execution_count": 10,
          "metadata": {},
          "output_type": "execute_result"
        }
      ],
      "source": [
        "# Index 0 outputs the first element.\n",
        "my_list[0]"
      ]
    },
    {
      "cell_type": "code",
      "execution_count": 11,
      "metadata": {
        "colab": {
          "base_uri": "https://localhost:8080/"
        },
        "id": "QVXfQSEsmq15",
        "outputId": "13cfc7cd-fe29-4c16-c088-f29b9ac5ac4e"
      },
      "outputs": [
        {
          "data": {
            "text/plain": [
              "['John', 'Paul', 'George']"
            ]
          },
          "execution_count": 11,
          "metadata": {},
          "output_type": "execute_result"
        }
      ],
      "source": [
        "# Use a colon to indicate a slice; 1:3 returns the 2nd and 3rd items, but not the 4th.\n",
        "my_list[0:3]"
      ]
    },
    {
      "cell_type": "code",
      "execution_count": 12,
      "metadata": {
        "colab": {
          "base_uri": "https://localhost:8080/"
        },
        "id": "gu5YFXy2mq15",
        "outputId": "43e707bf-f717-42e4-aed3-7fc0cf9eb6ed"
      },
      "outputs": [
        {
          "data": {
            "text/plain": [
              "['Paul', 'George', 'Ringo']"
            ]
          },
          "execution_count": 12,
          "metadata": {},
          "output_type": "execute_result"
        }
      ],
      "source": [
        "# In the absence of an upper bound, the slicing operation begins with the 1st index indicated and outputs everything beyond.\n",
        "my_list[1:]"
      ]
    },
    {
      "cell_type": "code",
      "execution_count": 13,
      "metadata": {
        "colab": {
          "base_uri": "https://localhost:8080/"
        },
        "id": "paI-DxS5mq15",
        "outputId": "b2272c77-2b52-4fd1-a800-0b4b3fc11178"
      },
      "outputs": [
        {
          "data": {
            "text/plain": [
              "['John', 'Paul', 'George']"
            ]
          },
          "execution_count": 13,
          "metadata": {},
          "output_type": "execute_result"
        }
      ],
      "source": [
        "# In the absence of a lower bound, the slicing begins from index 0 up to, but not including, the upper bound.\n",
        "my_list[:3]"
      ]
    },
    {
      "cell_type": "code",
      "execution_count": 14,
      "metadata": {
        "colab": {
          "base_uri": "https://localhost:8080/"
        },
        "id": "SFMGeWKvmq15",
        "outputId": "4e056901-dec2-4156-9833-8a23207a78d1"
      },
      "outputs": [
        {
          "data": {
            "text/plain": [
              "['John', 'George']"
            ]
          },
          "execution_count": 14,
          "metadata": {},
          "output_type": "execute_result"
        }
      ],
      "source": [
        "# The third argument defines the step size.\n",
        "my_list[::2]"
      ]
    },
    {
      "cell_type": "code",
      "execution_count": 15,
      "metadata": {
        "colab": {
          "base_uri": "https://localhost:8080/"
        },
        "id": "SJavoxRAmq15",
        "outputId": "89bfa31b-8bea-4762-c89b-818d13b17861"
      },
      "outputs": [
        {
          "name": "stdout",
          "output_type": "stream",
          "text": [
            "Ringo\n",
            "George\n",
            "['Ringo', 'George', 'Paul', 'John']\n"
          ]
        }
      ],
      "source": [
        "# When a negative index is applied, the slicing starts from the end.\n",
        "print(my_list[-1])\n",
        "print(my_list[-2])\n",
        "# You can define the step size as negative, which will go backwards.\n",
        "print(my_list[::-1])"
      ]
    },
    {
      "cell_type": "code",
      "execution_count": 16,
      "metadata": {
        "colab": {
          "base_uri": "https://localhost:8080/"
        },
        "id": "A4CyyTZ4mq16",
        "outputId": "5b783c6d-8955-48c0-e436-7cd8ff9f475c"
      },
      "outputs": [
        {
          "data": {
            "text/plain": [
              "['John', 'PAUL', 'George', 'Ringo']"
            ]
          },
          "execution_count": 16,
          "metadata": {},
          "output_type": "execute_result"
        }
      ],
      "source": [
        "# Elements in a list can be reassigned to new values.\n",
        "my_list[1] = my_list[1].upper()\n",
        "my_list"
      ]
    },
    {
      "cell_type": "code",
      "execution_count": 17,
      "metadata": {
        "colab": {
          "base_uri": "https://localhost:8080/"
        },
        "id": "nxjpHgQgmq16",
        "outputId": "224300fe-c826-4321-8804-4d20f819953c"
      },
      "outputs": [
        {
          "name": "stdout",
          "output_type": "stream",
          "text": [
            "['John', 'PAUL', 'George', 'Ringo']\n"
          ]
        }
      ],
      "source": [
        "# Elements can be added to lists; however, this does not change the original list.\n",
        "my_list + ['Yoko']\n",
        "print(my_list)"
      ]
    },
    {
      "cell_type": "code",
      "execution_count": 18,
      "metadata": {
        "colab": {
          "base_uri": "https://localhost:8080/"
        },
        "id": "YD4Se409mq16",
        "outputId": "9ca5798e-3111-4734-d2c7-7774a24c3c7d"
      },
      "outputs": [
        {
          "data": {
            "text/plain": [
              "['John', 'PAUL', 'George', 'Ringo', 'Yoko']"
            ]
          },
          "execution_count": 18,
          "metadata": {},
          "output_type": "execute_result"
        }
      ],
      "source": [
        "# To change the original list, you must reassign it.\n",
        "my_list = my_list + ['Yoko']\n",
        "\n",
        "my_list"
      ]
    },
    {
      "cell_type": "code",
      "execution_count": 19,
      "metadata": {
        "colab": {
          "base_uri": "https://localhost:8080/"
        },
        "id": "UYvYo8oUmq16",
        "outputId": "5b2ba4cb-b5c0-404a-ec06-b3b3b070fb38"
      },
      "outputs": [
        {
          "data": {
            "text/plain": [
              "['John', 'PAUL', 'George', 'Ringo']"
            ]
          },
          "execution_count": 19,
          "metadata": {},
          "output_type": "execute_result"
        }
      ],
      "source": [
        "# The list can be reassigned to a slice of the original list.\n",
        "\n",
        "my_list = my_list[:4]\n",
        "\n",
        "my_list"
      ]
    },
    {
      "cell_type": "code",
      "execution_count": 20,
      "metadata": {
        "colab": {
          "base_uri": "https://localhost:8080/"
        },
        "id": "eD7icT00mq16",
        "outputId": "fe369ced-452b-4c1a-bad5-d0587e6e8a0b"
      },
      "outputs": [
        {
          "name": "stdout",
          "output_type": "stream",
          "text": [
            "['John', 'PAUL', 'George', 'Ringo', 'John', 'PAUL', 'George', 'Ringo']\n"
          ]
        },
        {
          "data": {
            "text/plain": [
              "['John', 'PAUL', 'George', 'Ringo']"
            ]
          },
          "execution_count": 20,
          "metadata": {},
          "output_type": "execute_result"
        }
      ],
      "source": [
        "# The list can be multiplied by integer x to replicate the original list x times.\n",
        "print(my_list * 2)\n",
        "# As mentioned previously, to make changes to the original list, it must be reassigned.\n",
        "my_list"
      ]
    },
    {
      "cell_type": "code",
      "execution_count": 21,
      "metadata": {
        "colab": {
          "base_uri": "https://localhost:8080/"
        },
        "id": "qeYwj1sqmq17",
        "outputId": "3c7636ca-ce1a-4bd5-a8df-fdb2f9c088d0"
      },
      "outputs": [
        {
          "data": {
            "text/plain": [
              "[[1, 2, 3], [4, 5, 6], [7, 8, 9]]"
            ]
          },
          "execution_count": 21,
          "metadata": {},
          "output_type": "execute_result"
        }
      ],
      "source": [
        "# A list can be contained within another list.\n",
        "# The concept of inserting a list into another is called nesting.\n",
        "lst_1=[1,2,3]\n",
        "lst_2=[4,5,6]\n",
        "lst_3=[7,8,9]\n",
        "\n",
        "# A nested list is formed by making a list of lists.\n",
        "nest_list = [lst_1,lst_2,lst_3]\n",
        "nest_list"
      ]
    },
    {
      "cell_type": "markdown",
      "metadata": {
        "id": "C3CyUKwomq17"
      },
      "source": [
        ">Note that it is possible to nest lists several levels deep."
      ]
    },
    {
      "cell_type": "code",
      "execution_count": 22,
      "metadata": {
        "colab": {
          "base_uri": "https://localhost:8080/"
        },
        "id": "-IhWFNMJmq17",
        "outputId": "7c2028ba-27c6-4fbd-a53a-adc3bbf9b4c5"
      },
      "outputs": [
        {
          "name": "stdout",
          "output_type": "stream",
          "text": [
            "Accessing second item [4, 5, 6]\n",
            "Accessing second item of the second item 5\n"
          ]
        }
      ],
      "source": [
        "print('Accessing second item', nest_list[1])\n",
        "print('Accessing second item of the second item', nest_list[1][1])"
      ]
    },
    {
      "cell_type": "markdown",
      "metadata": {
        "id": "h1oeZHW3mq17"
      },
      "source": [
        "## List Functions and Methods"
      ]
    },
    {
      "cell_type": "markdown",
      "metadata": {
        "id": "47cPM_r-mq17"
      },
      "source": [
        "Here, we review some of the most common functions and methods that apply to lists.\n",
        "\n",
        "The difference between functions and methods is that functions are not bound to a specific data type, whereas methods are. In other words, a method is a function that is specific to a data type.\n",
        "\n",
        "Therefore, all methods are functions, but not all functions are methods."
      ]
    },
    {
      "cell_type": "markdown",
      "metadata": {
        "id": "6XCQQmEkmq17"
      },
      "source": [
        "Here, we examine the most common methods and functions in Python for lists. We encourage you to explore the official Python documentation [here](https://docs.python.org/3/tutorial/datastructures.html) for an exhaustive list."
      ]
    },
    {
      "cell_type": "markdown",
      "metadata": {
        "id": "WbKXyk4rmq18"
      },
      "source": [
        "### `len`"
      ]
    },
    {
      "cell_type": "markdown",
      "metadata": {
        "id": "X1bmuI8Lmq18"
      },
      "source": [
        "The `.len()` function counts the number of items in a data type containing multiple elements."
      ]
    },
    {
      "cell_type": "code",
      "execution_count": null,
      "metadata": {
        "id": "pfMVp75dmq18"
      },
      "outputs": [],
      "source": [
        "# We redefine my_list in order not to lose track of its contents.\n",
        "my_list = ['John', 'Paul', 'George', 'Ringo']\n",
        "len(my_list)"
      ]
    },
    {
      "cell_type": "markdown",
      "metadata": {
        "id": "DdGa4VI8mq18"
      },
      "source": [
        "Note that the `len` function does not work for numbers or floats. It works for data types that are collections, such as lists or strings."
      ]
    },
    {
      "cell_type": "code",
      "execution_count": null,
      "metadata": {
        "id": "ondcJoHDmq18"
      },
      "outputs": [],
      "source": [
        "len(3)"
      ]
    },
    {
      "cell_type": "markdown",
      "metadata": {
        "id": "YXYoV_70mq18"
      },
      "source": [
        "### `min` and `max`"
      ]
    },
    {
      "cell_type": "markdown",
      "metadata": {
        "id": "KDfpMYkBmq18"
      },
      "source": [
        "Apply min() and max() to find the highest and lowest items in a list, respectively."
      ]
    },
    {
      "cell_type": "code",
      "execution_count": null,
      "metadata": {
        "id": "vdmZj9EOmq18"
      },
      "outputs": [],
      "source": [
        "num_list = [3, 7, 1, 9, 42]\n",
        "print(min(num_list))\n",
        "print(max(num_list))"
      ]
    },
    {
      "cell_type": "markdown",
      "metadata": {
        "id": "TtXwmlHzmq19"
      },
      "source": [
        "\n",
        "When used in lists with strings, they work in alphabetical order."
      ]
    },
    {
      "cell_type": "code",
      "execution_count": null,
      "metadata": {
        "id": "D1wx33Ngmq19",
        "outputId": "89ea1023-7094-4356-b001-7274753e9a43"
      },
      "outputs": [
        {
          "name": "stdout",
          "output_type": "stream",
          "text": [
            "George\n",
            "Ringo\n"
          ]
        }
      ],
      "source": [
        "print(min(my_list))\n",
        "print(max(my_list))"
      ]
    },
    {
      "cell_type": "markdown",
      "metadata": {
        "id": "Kh8eJyczmq19"
      },
      "source": [
        "### `.append()` and `.extend()`\n",
        "- The .append() method adds items to the end of a list.\n",
        "- The .extend() method adds the items in a list (or other iterables) itemwise to the end of the list.\n",
        "- The difference between the two is shown below."
      ]
    },
    {
      "cell_type": "code",
      "execution_count": null,
      "metadata": {
        "id": "lxykMDgemq19"
      },
      "outputs": [],
      "source": [
        "# add items by the .append() method\n",
        "my_list = ['John', 'Paul', 'George', 'Ringo']\n",
        "my_list.append(['Lennon','McCartney','Harrison', 'Starr'])\n",
        "\n",
        "print(my_list)"
      ]
    },
    {
      "cell_type": "markdown",
      "metadata": {
        "id": "qYreCkermq19"
      },
      "source": [
        "Notice that with the `append` method, we did not have to reassign the list to a new variable. Rather, the original value of the variable was changed. \n",
        "\n",
        "This same principle applies to the `extend` method."
      ]
    },
    {
      "cell_type": "code",
      "execution_count": null,
      "metadata": {
        "id": "7aMXLshXmq19"
      },
      "outputs": [],
      "source": [
        "# add items in iterable itemwise by the .extend() method.\n",
        "my_list = ['John', 'Paul', 'George', 'Ringo']\n",
        "my_list.extend(['Lennon','McCartney','Harrison', 'Starr'])\n",
        "\n",
        "my_list"
      ]
    },
    {
      "cell_type": "markdown",
      "metadata": {
        "id": "0tNFGLcJmq1-"
      },
      "source": [
        "### `.insert()`"
      ]
    },
    {
      "cell_type": "markdown",
      "metadata": {
        "id": "QYxlurWkmq1-"
      },
      "source": [
        "The `.insert()` method adds an item to a specific index. Note that lists are 0 indexed."
      ]
    },
    {
      "cell_type": "code",
      "execution_count": null,
      "metadata": {
        "id": "XEkyoN0rmq1-",
        "outputId": "6e3fa451-9673-47fb-d9ca-6cd85490c985"
      },
      "outputs": [
        {
          "data": {
            "text/plain": [
              "['John', 'Lennon', 'Paul', 'George', 'Ringo']"
            ]
          },
          "execution_count": 12,
          "metadata": {},
          "output_type": "execute_result"
        }
      ],
      "source": [
        "my_list = ['John', 'Paul', 'George', 'Ringo']\n",
        "my_list.insert(1, 'Lennon')\n",
        "my_list"
      ]
    },
    {
      "cell_type": "markdown",
      "metadata": {
        "id": "u-0N7LG1mq1-"
      },
      "source": [
        "#### <font size=+2> `.pop()` </font>"
      ]
    },
    {
      "cell_type": "markdown",
      "metadata": {
        "id": "pNp4mDKBmq1-"
      },
      "source": [
        "`pop` removes, by default, the last item. Similar to `append`, `extend` and `insert`, it changes the original state of the variable. However, this method returns the removed item."
      ]
    },
    {
      "cell_type": "code",
      "execution_count": null,
      "metadata": {
        "id": "A_SPz-sPmq1-"
      },
      "outputs": [],
      "source": [
        "# last_item will be assigned the value of the last element.\n",
        "last_item = my_list.pop()\n",
        "last_item"
      ]
    },
    {
      "cell_type": "markdown",
      "metadata": {
        "id": "yhKffC2Wmq1-"
      },
      "source": [
        "Consequently, `my_list` will contain one element less."
      ]
    },
    {
      "cell_type": "code",
      "execution_count": null,
      "metadata": {
        "id": "xFEwrWA_mq1-"
      },
      "outputs": [],
      "source": [
        "my_list"
      ]
    },
    {
      "cell_type": "markdown",
      "metadata": {
        "id": "hhEBB081mq1_"
      },
      "source": [
        "The index to be removed can be specified."
      ]
    },
    {
      "cell_type": "code",
      "execution_count": null,
      "metadata": {
        "id": "2zNlP-4zmq2A"
      },
      "outputs": [],
      "source": [
        "# can index, default index -1\n",
        "my_list.pop(0)\n",
        "my_list"
      ]
    },
    {
      "cell_type": "markdown",
      "metadata": {
        "id": "QnZjf-Y7mq2A"
      },
      "source": [
        "#### <font size=+2> `.remove()` </font>"
      ]
    },
    {
      "cell_type": "markdown",
      "metadata": {
        "id": "yzm0zLtLmq2A"
      },
      "source": [
        "Another method for removing elements in a list is the `.remove()` method. This method finds and removes a specified item from a list."
      ]
    },
    {
      "cell_type": "code",
      "execution_count": null,
      "metadata": {
        "id": "gecfGvGumq2A",
        "outputId": "916c054d-6dce-4433-ca30-840593fe399c"
      },
      "outputs": [
        {
          "name": "stdout",
          "output_type": "stream",
          "text": [
            "['Lennon', 'Paul', 'George']\n"
          ]
        }
      ],
      "source": [
        "my_list = ['John', 'Lennon', 'Paul', 'George']\n",
        "my_list.remove('John')\n",
        "print(my_list)"
      ]
    },
    {
      "cell_type": "markdown",
      "metadata": {
        "id": "M7S0o3iqmq2B"
      },
      "source": [
        "Please exercise caution! If the specified item does not exist in the list, Python will throw an error."
      ]
    },
    {
      "cell_type": "code",
      "execution_count": null,
      "metadata": {
        "id": "yhXe7pqbmq2B"
      },
      "outputs": [],
      "source": [
        "my_list = ['John', 'Lennon', 'Paul', 'George']\n",
        "my_list.remove('Yoko')"
      ]
    },
    {
      "cell_type": "markdown",
      "metadata": {
        "id": "GJMkRC4qmq2B"
      },
      "source": [
        "### `.sort()` and `.reverse()`"
      ]
    },
    {
      "cell_type": "markdown",
      "metadata": {
        "id": "_bjrteuJmq2B"
      },
      "source": [
        "`sort` orders a list based on the value of its elements."
      ]
    },
    {
      "cell_type": "code",
      "execution_count": null,
      "metadata": {
        "id": "1vpC-mzwmq2B"
      },
      "outputs": [],
      "source": [
        "# using the .sort() method to sort a list changes the original list, and no value is returned.\n",
        "\n",
        "let_list = [\"a\", \"d\", \"v\", \"x\", \"g\"]\n",
        "\n",
        "num_list = [13,42,4,24,2,46,3,7]"
      ]
    },
    {
      "cell_type": "code",
      "execution_count": null,
      "metadata": {
        "id": "o6n-hMvSmq2B"
      },
      "outputs": [],
      "source": [
        "let_list.sort()\n",
        "num_list.sort()"
      ]
    },
    {
      "cell_type": "code",
      "execution_count": null,
      "metadata": {
        "id": "E_ybWCjzmq2B",
        "outputId": "48f00836-3a3a-415d-8658-54f16aedb243"
      },
      "outputs": [
        {
          "name": "stdout",
          "output_type": "stream",
          "text": [
            "['a', 'd', 'g', 'v', 'x']\n",
            "[2, 3, 4, 7, 13, 24, 42, 46]\n"
          ]
        }
      ],
      "source": [
        "print(let_list)\n",
        "print(num_list)"
      ]
    },
    {
      "cell_type": "code",
      "execution_count": null,
      "metadata": {
        "id": "xMCTz437mq2C",
        "outputId": "e1e8061e-0841-42d3-f23d-0e0270279cde"
      },
      "outputs": [
        {
          "name": "stdout",
          "output_type": "stream",
          "text": [
            "None\n"
          ]
        }
      ],
      "source": [
        "A = [\"G06 WTR\", \"WL11 WFL\", \"QW68 PQR\"]\n",
        "print(A.sort())"
      ]
    },
    {
      "cell_type": "markdown",
      "metadata": {
        "id": "P6btzh-Zmq2C"
      },
      "source": [
        "The `.reverse()` method is employed to order a list in the reverse order."
      ]
    },
    {
      "cell_type": "code",
      "execution_count": null,
      "metadata": {
        "id": "q7a9Yjvqmq2C"
      },
      "outputs": [],
      "source": [
        "# use the .reverse() method to reverse a list order.\n",
        "num_list.reverse()\n",
        "\n",
        "print(num_list)"
      ]
    },
    {
      "cell_type": "markdown",
      "metadata": {
        "id": "juO9AcRZmq2C"
      },
      "source": [
        "### `.join()` "
      ]
    },
    {
      "cell_type": "markdown",
      "metadata": {
        "id": "V5OK33Qemq2C"
      },
      "source": [
        "`join` is actually a string method, although it accepts lists as arguments. It combines every item in the list, separated by the string to which the method was applied."
      ]
    },
    {
      "cell_type": "code",
      "execution_count": null,
      "metadata": {
        "id": "PeuPhwPJmq2C"
      },
      "outputs": [],
      "source": [
        "list_of_strings = [\"This\", \"is\", \"a\", \"sentence.\"]\n",
        "\n",
        "print(\"    Random String    \".join(list_of_strings))"
      ]
    },
    {
      "cell_type": "markdown",
      "metadata": {
        "id": "2arislrLmq2D"
      },
      "source": [
        "### `.index()` "
      ]
    },
    {
      "cell_type": "markdown",
      "metadata": {
        "id": "QjF2Hysvmq2D"
      },
      "source": [
        "The `.index()` method is employed to determine the index of a certain element in a list."
      ]
    },
    {
      "cell_type": "code",
      "execution_count": 3,
      "metadata": {
        "id": "eh-8kD5vmq2D",
        "outputId": "1a6a8933-e0ab-4da0-8617-3bb6a166d5d6"
      },
      "outputs": [
        {
          "name": "stdout",
          "output_type": "stream",
          "text": [
            "1\n"
          ]
        }
      ],
      "source": [
        "# my_list.remove('PAUL')\n",
        "my_list = ['John', 'Lennon', 'Paul', 'George']\n",
        "idx = my_list.index('Lennon')\n",
        "print(idx)"
      ]
    },
    {
      "cell_type": "markdown",
      "metadata": {
        "id": "TwH2Th6amq2D"
      },
      "source": [
        "Please exercise caution! If the specified item is not in the list, Python will throw an error."
      ]
    },
    {
      "cell_type": "code",
      "execution_count": 2,
      "metadata": {
        "id": "NqODCURAmq2D"
      },
      "outputs": [
        {
          "ename": "ValueError",
          "evalue": "'Yoko' is not in list",
          "output_type": "error",
          "traceback": [
            "\u001b[1;31m---------------------------------------------------------------------------\u001b[0m",
            "\u001b[1;31mValueError\u001b[0m                                Traceback (most recent call last)",
            "\u001b[1;32mc:\\Users\\User_Central\\Desktop\\AICORE_PROJECTS\\List notebook.ipynb Cell 77\u001b[0m in \u001b[0;36m<cell line: 2>\u001b[1;34m()\u001b[0m\n\u001b[0;32m      <a href='vscode-notebook-cell:/c%3A/Users/User_Central/Desktop/AICORE_PROJECTS/List%20notebook.ipynb#Y136sZmlsZQ%3D%3D?line=0'>1</a>\u001b[0m my_list \u001b[39m=\u001b[39m [\u001b[39m'\u001b[39m\u001b[39mJohn\u001b[39m\u001b[39m'\u001b[39m, \u001b[39m'\u001b[39m\u001b[39mLennon\u001b[39m\u001b[39m'\u001b[39m, \u001b[39m'\u001b[39m\u001b[39mPaul\u001b[39m\u001b[39m'\u001b[39m, \u001b[39m'\u001b[39m\u001b[39mGeorge\u001b[39m\u001b[39m'\u001b[39m]\n\u001b[1;32m----> <a href='vscode-notebook-cell:/c%3A/Users/User_Central/Desktop/AICORE_PROJECTS/List%20notebook.ipynb#Y136sZmlsZQ%3D%3D?line=1'>2</a>\u001b[0m idx \u001b[39m=\u001b[39m my_list\u001b[39m.\u001b[39;49mindex(\u001b[39m'\u001b[39;49m\u001b[39mYoko\u001b[39;49m\u001b[39m'\u001b[39;49m)\n\u001b[0;32m      <a href='vscode-notebook-cell:/c%3A/Users/User_Central/Desktop/AICORE_PROJECTS/List%20notebook.ipynb#Y136sZmlsZQ%3D%3D?line=2'>3</a>\u001b[0m \u001b[39mprint\u001b[39m(idx)\n",
            "\u001b[1;31mValueError\u001b[0m: 'Yoko' is not in list"
          ]
        }
      ],
      "source": [
        "my_list = ['John', 'Lennon', 'Paul', 'George']\n",
        "idx = my_list.index('Yoko')\n",
        "print(idx)"
      ]
    }
  ],
  "metadata": {
    "colab": {
      "provenance": []
    },
    "interpreter": {
      "hash": "3d597f4c481aa0f25dceb95d2a0067e73c0966dcbd003d741d821a7208527ecf"
    },
    "kernelspec": {
      "display_name": "Python 3.9.1 64-bit ('base': conda)",
      "name": "python3"
    },
    "language_info": {
      "codemirror_mode": {
        "name": "ipython",
        "version": 3
      },
      "file_extension": ".py",
      "mimetype": "text/x-python",
      "name": "python",
      "nbconvert_exporter": "python",
      "pygments_lexer": "ipython3",
      "version": "3.10.6"
    }
  },
  "nbformat": 4,
  "nbformat_minor": 0
}
