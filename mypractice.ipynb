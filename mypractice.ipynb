{
 "cells": [
  {
   "cell_type": "code",
   "execution_count": 37,
   "metadata": {},
   "outputs": [
    {
     "name": "stdout",
     "output_type": "stream",
     "text": [
      "{'name': 'Bob', 'age': 45, 'fav_colour': 'blue'}\n",
      "{'name': 'Sarah', 'age': 23, 'fav_colour': 'pink'}\n",
      "{'name': 'Obi', 'age': 44, 'fav_colour': 'green'}\n",
      "{'Bob': {'age': 45, 'fav_colour': 'blue'}, 'Sarah': {'age': 23, 'fav_colour': 'pink'}, 'Obi': {'age': 44, 'fav_colour': 'green'}}\n"
     ]
    }
   ],
   "source": [
    "d = {}\n",
    "\n",
    "dict_1 = [{'name':'Bob','age':45,'fav_colour':'blue'}, \n",
    "            {'name':'Sarah','age': 23,'fav_colour':'pink'},\n",
    "            {'name':'Obi','age': 44,'fav_colour':'green'}]\n",
    "for i in dict_1:\n",
    "    print(i)\n",
    "    #print(dict_1)\n",
    "    for e in list(i.values()):\n",
    "        #print(e)\n",
    "        #print(i.values())\n",
    "        break\n",
    "    for w, x in (list(i.items()))[1:2]:\n",
    "        #print(w, x)\n",
    "        #print(list(i.items()))\n",
    "        #print(list(i.items())[1:2])\n",
    "        for y, z in (list(i.items()))[2:3]:\n",
    "            #print(y, z)\n",
    "            p = ((w, x), (y, z))\n",
    "            #print(p)\n",
    "            #print(dict(p))\n",
    "            d[e] = dict(p)\n",
    "#print(d[e])\n",
    "#print([e])\n",
    "print(d)\n"
   ]
  }
 ],
 "metadata": {
  "kernelspec": {
   "display_name": "secondtest_env",
   "language": "python",
   "name": "python3"
  },
  "language_info": {
   "name": "python",
   "version": "3.10.6"
  },
  "orig_nbformat": 4
 },
 "nbformat": 4,
 "nbformat_minor": 2
}
