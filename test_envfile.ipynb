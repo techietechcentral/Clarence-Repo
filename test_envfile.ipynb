{
 "cells": [
  {
   "cell_type": "markdown",
   "metadata": {},
   "source": [
    "#### Import pandas as pd in a virtual Enviroment"
   ]
  },
  {
   "cell_type": "code",
   "execution_count": 14,
   "metadata": {},
   "outputs": [
    {
     "data": {
      "text/plain": [
       "'1.4.4'"
      ]
     },
     "execution_count": 14,
     "metadata": {},
     "output_type": "execute_result"
    }
   ],
   "source": [
    "import pandas as pd\n",
    "pd. __version__"
   ]
  },
  {
   "cell_type": "markdown",
   "metadata": {},
   "source": [
    "#### Creating a DataFrame From Lists"
   ]
  },
  {
   "cell_type": "code",
   "execution_count": 23,
   "metadata": {},
   "outputs": [
    {
     "name": "stdout",
     "output_type": "stream",
     "text": [
      "        0                   1                             2\n",
      "0      50         Bell pepper                Not even spicy\n",
      "1    5000    Espelette pepper                 Uncomfortable\n",
      "2  500000  Chocolate habanero  Practically ate pepper spray\n"
     ]
    }
   ],
   "source": [
    "\n",
    "listPepper = [ \n",
    "            [50, \"Bell pepper\", \"Not even spicy\"], \n",
    "            [5000, \"Espelette pepper\", \"Uncomfortable\"], \n",
    "            [500000, \"Chocolate habanero\", \"Practically ate pepper spray\"]\n",
    "            ]\n",
    "\n",
    "dataFrame1 = pd.DataFrame(listPepper)\n",
    "print(dataFrame1)\n"
   ]
  },
  {
   "cell_type": "code",
   "execution_count": 17,
   "metadata": {},
   "outputs": [
    {
     "name": "stdout",
     "output_type": "stream",
     "text": [
      "   Romeo  Harry  Blake  Maya  Hubert  Jane\n",
      "0     95     42     11    40      91    74\n",
      "1     28     35     22    50      91    11\n",
      "2     32     56     39    65      93    61\n"
     ]
    }
   ],
   "source": [
    "ds = pd.DataFrame({\"Romeo\": [95, 28, 32], \"Harry\": [42, 35,56],\n",
    "\"Blake\": [11, 22, 39], \"Maya\": [40, 50, 65],\"Hubert\": [91, 91, 93], \n",
    "\"Jane\": [74, 11, 61]})\n",
    "print(ds)"
   ]
  },
  {
   "cell_type": "code",
   "execution_count": 15,
   "metadata": {},
   "outputs": [
    {
     "name": "stdout",
     "output_type": "stream",
     "text": [
      "          Romeo  Harry  Blake  Maya  Hubert  Jane\n",
      "1st_mark     95     42     11    40      91    74\n",
      "2nd_mark     28     35     22    50      91    11\n",
      "3rd_mark     32     56     39    65      93    61\n"
     ]
    }
   ],
   "source": [
    "ds = pd.DataFrame({\"Romeo\": [95, 28, 32], \"Harry\": [42, 35,56],\n",
    "\"Blake\": [11, 22, 39], \"Maya\": [40, 50, 65],\"Hubert\": [91, 91, 93], \n",
    "\"Jane\": [74, 11, 61]},index=['1st_mark', '2nd_mark', '3rd_mark'])\n",
    "print(ds)"
   ]
  },
  {
   "cell_type": "code",
   "execution_count": 5,
   "metadata": {},
   "outputs": [
    {
     "name": "stdout",
     "output_type": "stream",
     "text": [
      "        num_legs  num_wings  num_specimen_seen\n",
      "falcon         2          2                 10\n",
      "dog            4          0                  2\n",
      "spider         8          0                  1\n",
      "fish           0          0                  8\n"
     ]
    }
   ],
   "source": [
    "df = pd.DataFrame({'num_legs': [2, 4, 8, 0],'num_wings': [2, 0, 0, 0],\n",
    "'num_specimen_seen': [10, 2, 1, 8]},\n",
    "index=['falcon', 'dog', 'spider', 'fish'])\n",
    "print(df)"
   ]
  },
  {
   "cell_type": "markdown",
   "metadata": {},
   "source": [
    "#### Another data representation you can use here is to provide the data as a list of dictionaries\n"
   ]
  },
  {
   "cell_type": "code",
   "execution_count": 22,
   "metadata": {},
   "outputs": [
    {
     "name": "stdout",
     "output_type": "stream",
     "text": [
      "    Scoville                Name                       Feeling\n",
      "1#        50         Bell pepper                Not even spicy\n",
      "2#      5000    Espelette pepper                 Uncomfortable\n",
      "3#    500000  Chocolate habanero  Practically ate pepper spray\n"
     ]
    }
   ],
   "source": [
    "import pandas as pd\n",
    "listPepper = [\n",
    "  {'Scoville' : 50, 'Name' : 'Bell pepper', 'Feeling' : 'Not even spicy'},\n",
    "  {'Scoville' : 5000, 'Name' : 'Espelette pepper', 'Feeling' : 'Uncomfortable'},\n",
    "  {'Scoville' : 500000, 'Name' : 'Chocolate habanero', 'Feeling' : 'Practically ate pepper spray'},\n",
    "]\n",
    "dx = pd.DataFrame(listPepper, index=['1#', '2#', '3#'])\n",
    "print(dx)"
   ]
  },
  {
   "cell_type": "code",
   "execution_count": 5,
   "metadata": {},
   "outputs": [
    {
     "name": "stdout",
     "output_type": "stream",
     "text": [
      "weather\n"
     ]
    }
   ],
   "source": [
    "\"\"\"TASK 2\"\"\"\n",
    "\n",
    "mylist = [\"yellow\", \"blue\", \"car\", \"green\", \"wine\", \"goods\", \"weather\", \"safety\"]\n",
    "#print(dir(random))\n",
    "\n",
    "import random\n",
    "random.choice(mylist)\n",
    "word = random.choice(mylist)\n",
    "print(word)\n"
   ]
  },
  {
   "cell_type": "markdown",
   "metadata": {},
   "source": [
    "#### input() function always returns its value as a string "
   ]
  },
  {
   "cell_type": "code",
   "execution_count": 27,
   "metadata": {},
   "outputs": [
    {
     "name": "stdout",
     "output_type": "stream",
     "text": [
      "invalid input... try again\n"
     ]
    }
   ],
   "source": [
    "#type(input())\n",
    "#print(var1.upper())\n",
    "#len(my_list)\n",
    "#[A or B or C or D or E or F or G or H or I or J or K or L \n",
    "# or M or N or O or P or Q or R or S or T or U or V or W or X or Y or Z ]:\n",
    "#a = 'ABCDEFGHIJKLMNOPQRSTUVWXYZ'\n",
    "#a = [\"A\",\"B\", \"C\", \"D\", \"E\", \"F\", \"G\", \"H\", \"I\", \"J\", \"K\", \"L\", \"M\", \"N\", \"O\", \"P\", \"Q\", \"R\", \"S\", \"T\", \"U\", \"V\", \"W\", \"X\", \"Y\", \"Z\"]\n",
    "\n",
    "\n",
    "\n",
    "\n",
    "\n",
    "\n",
    "\n",
    "#a = [\"A\",\"B\", \"C\", \"D\", \"E\", \"F\", \"G\", \"H\", \"I\", \"J\", \"K\", \"L\", \"M\", \"N\", \"O\", \"P\", \"Q\", \"R\", \"S\", \"T\", \"U\", \"V\", \"W\", \"X\", \"Y\", \"Z\"]\n",
    "#print(a[0] or a[1] or a[2] or a[3] or a[4] or a[5] or a[6] or a[7] or a[8] or a[9] or a[10] or a[11] or a[12] or a[13] or a[14] or a[15] or a[16] or a[17] or a[18] or a[19] or a[20] or a[21] or a[22] or a[23] or a[24] or (a[-1]))\n",
    "#x = guess.isalpha\n",
    "#y = len(guess)\n",
    "#b = [1]\n",
    "#n = b[0]\n",
    "\n",
    "\n",
    "guess = input(\"Please enter a singleLetter: \")\n",
    "#if guess := 1 or 2 or 3 or 4 or 5 or 6 or 7 or 8 or 9 or 0:\n",
    "    #print(\"invalid input... try again\")\n",
    "#elif guess == str(guess) and len(guess) == 1 :\n",
    "    #print(\"Good guess!\")\n",
    "#else:\n",
    "    #print(\"Oops! That is not a valid input.\")\n",
    "\n",
    "\n",
    "\n",
    "#if (len(guess) <= 1) and (guess !=  and (guess == a[0] or a[1] or a[2] or a[3] or a[4] or a[5] or a[6] or a[7] or a[8] or a[9] or a[10] or a[11] or a[12] or a[13] or a[14] or a[15] or a[16] or a[17] or a[18] or a[19] or a[20] or a[21] or a[22] or a[23] or a[24] or a[-1]):\n",
    " #print(guess)\n",
    "#else:\n",
    " #print('error')\n",
    "#len(guess)\n"
   ]
  },
  {
   "cell_type": "code",
   "execution_count": 79,
   "metadata": {},
   "outputs": [
    {
     "name": "stdout",
     "output_type": "stream",
     "text": [
      "Oops! That is not a valid input.\n"
     ]
    }
   ],
   "source": [
    "#TASK 4\n",
    "\n",
    "\n",
    "\"\"\"Usually, when taking input from users, it is best to validate that the input makes sense. For example, we may want to ensure that only a single letter is entered and that only alphabetical characters are provided by the user. To do this, create conditional checks that must be passed before the input can be accepted.\n",
    "\n",
    "Step 1. Create an if statement that checks if the length of the input is equal to 1 and the input is an alphabet.\n",
    "\n",
    "Step 2: In the body of the if statement, print a message that says \"Good guess!\".\n",
    "\n",
    "Step 3: Create an else block that prints \"Oops! That is not a valid input.\" if the preceeding conditions are not met.\"\"\"\n",
    "\n",
    "\n",
    "guess = input(\"Please enter a single Character: \")\n",
    "\n",
    "if  guess.isalpha() == True and len(guess) == 1:\n",
    "    print(\"Good guess!\")\n",
    "elif  guess.isalpha() == False and len(guess) == 1:\n",
    "    print(\"invalid input... Please Enter a single Character\")         \n",
    "else:\n",
    "    print(\"Oops! That is not a valid input.\")"
   ]
  },
  {
   "cell_type": "markdown",
   "metadata": {},
   "source": [
    "### Sets (data type used for uniqueness) i.e they do not contain any duplicate items\n",
    "### Sets are defined with {}\n",
    "### Sets cannot not be indexed i.e they are not subcriptable because they are not ordered i.e not sequenced\n",
    "### Sets can be created by casting a list in a set by using the set set([xxxxxxxxx]) constructor\n",
    "#### a.intersection(b)\n",
    "#### a.union(b)\n",
    "#### a.difference(b) i.e whats in 'a' thats not in 'b'\n",
    "#### b.difference(c) i.e whats in 'b' thats not in 'a'\n",
    "#### a.add(whatever)\n",
    "#### a.remove(whatever)\n",
    "#### a.discard(whatevre) will not throw an error if the item does not exist unlike the remove"
   ]
  },
  {
   "cell_type": "code",
   "execution_count": 273,
   "metadata": {},
   "outputs": [
    {
     "name": "stdout",
     "output_type": "stream",
     "text": [
      "1\n",
      "2\n",
      "4\n",
      "6\n",
      "9\n",
      "<class 'set'>\n",
      "<class 'set'>\n"
     ]
    }
   ],
   "source": [
    "#Create an empty set without Python's built-in function\n",
    "#Create an empty set with Python's built-in function\n",
    "#Iterate over one of the sets and print out the values\n",
    "\n",
    "my_set = {1, 2, 4 ,6 , 9}\n",
    "her_set = set([]) # pythons built in function set([]) converts a list to a set\n",
    "for elements in my_set:\n",
    "    print(elements)\n",
    "for elements in her_set:\n",
    "    print(her_set)\n",
    "    \n",
    "print(type(my_set))\n",
    "print(type(her_set))"
   ]
  },
  {
   "cell_type": "code",
   "execution_count": 88,
   "metadata": {},
   "outputs": [
    {
     "name": "stdout",
     "output_type": "stream",
     "text": [
      "65\n",
      "w\n",
      "4\n",
      "b\n"
     ]
    }
   ],
   "source": [
    "# Find the maximum value in the following sets: \n",
    "set_int = {8, 16, 24, 1, 25, 3, 10, 65, 55} \n",
    "set_str = {'f', 'l', 'k', 'a', 'w'}\n",
    "# Find the minimum value in the following sets: \n",
    "set2_int = {4, 12, 10, 9, 4, 13} \n",
    "set2_str = {'b', 'z', 't', 'm', 'y', 'c'}\n",
    "\n",
    "print(max(set_int))\n",
    "print(max(set_str))\n",
    "\n",
    "print(min(set2_int))\n",
    "print(min(set2_str))"
   ]
  },
  {
   "cell_type": "markdown",
   "metadata": {},
   "source": [
    "### add() Method"
   ]
  },
  {
   "cell_type": "code",
   "execution_count": 93,
   "metadata": {},
   "outputs": [
    {
     "name": "stdout",
     "output_type": "stream",
     "text": [
      "{17, 3, 5, 7, 11, 13}\n"
     ]
    }
   ],
   "source": [
    "#Given the set prime_numbers = {3, 5, 7, 11, 13}, add:\n",
    "#1. a prime number to this set\n",
    "#2. a set of prime numbers (hint: use update method)\n",
    "\n",
    "prime_numbers = {3, 5, 7, 11, 13}\n",
    "prime_numbers.add(17)\n",
    "print(prime_numbers)\n",
    "\n"
   ]
  },
  {
   "cell_type": "markdown",
   "metadata": {},
   "source": [
    "### update() Method"
   ]
  },
  {
   "cell_type": "code",
   "execution_count": 97,
   "metadata": {},
   "outputs": [
    {
     "name": "stdout",
     "output_type": "stream",
     "text": [
      "{3, 5, 37, 7, 41, 11, 13, 47, 19, 23, 29, 31}\n"
     ]
    }
   ],
   "source": [
    "prime_numbers = {3, 5, 7, 11, 13}\n",
    "prime_numbers.update({19, 23, 29, 31, 37, 41, 47}) # update(iterable) Method \n",
    "print(prime_numbers)"
   ]
  },
  {
   "cell_type": "markdown",
   "metadata": {},
   "source": [
    "### Set() operations"
   ]
  },
  {
   "cell_type": "code",
   "execution_count": 102,
   "metadata": {},
   "outputs": [
    {
     "name": "stdout",
     "output_type": "stream",
     "text": [
      "{35, 45, 55}\n",
      "{65, 35, 75, 45, 15, 55, 25}\n",
      "{65, 75, 25, 15}\n"
     ]
    }
   ],
   "source": [
    "#Given the following two sets: set1 = {15, 25, 35, 45, 55} set2 = {35, 45, 55, 65, 75}\n",
    "#Return a set with the common items\n",
    "#Return a set with the unique items\n",
    "#Return a set that contains items in set1 or set 2 but not in both\n",
    "\n",
    "set1 = {15, 25, 35, 45, 55} \n",
    "set2 = {35, 45, 55, 65, 75}\n",
    "\n",
    "print(set1.intersection(set2))\n",
    "print(set1.union(set2))\n",
    "print((set1.union(set2)).difference(set1.intersection(set2)))"
   ]
  },
  {
   "cell_type": "code",
   "execution_count": 142,
   "metadata": {},
   "outputs": [
    {
     "name": "stdout",
     "output_type": "stream",
     "text": [
      "{1, 2, 3, 4, 5, 6, 7, 8}\n",
      "{5, 6, 7, 8, 9, 10, 11, 12}\n",
      "{1, 2, 3, 4, 5, 6, 7, 8, 9, 10, 11, 12}\n",
      "[1, 2, 3, 4, 5, 6, 7, 8, 9, 10, 11, 12]\n",
      "<class 'set'>\n",
      "<class 'list'>\n",
      "----------------------------------------\n",
      "<class 'list'>\n",
      "<class 'list'>\n",
      "[1, 2, 3, 4, 5, 6, 7, 8, 5, 6, 7, 8, 9, 10, 11, 12]\n"
     ]
    }
   ],
   "source": [
    "#Print the missing & additional items in list1 (hint: convert list to a set)\n",
    "#Print the missing & additional items in list2\n",
    "\n",
    "list1 = [1, 2, 3, 4, 5, 6, 7, 8] \n",
    "list2 = [5, 6, 7, 8, 9, 10, 11, 12]\n",
    "\n",
    "list1 = set([1, 2, 3, 4, 5, 6, 7, 8]) \n",
    "print(list1)\n",
    "list2 = set([5, 6, 7, 8, 9, 10, 11, 12])\n",
    "print(list2)\n",
    "\n",
    "# missing items\n",
    "print((list1.union(list2)))  # still a Set\n",
    "print(list(list1.union(list2))) # converted back to a list\n",
    "\n",
    "print(type(list1.union(list2)))\n",
    "print(type(list(list1.union(list2)))) \n",
    "\n",
    "# additional items\n",
    "print (\"----------------------------------------\")\n",
    "list1 = list([1, 2, 3, 4, 5, 6, 7, 8])      # convert back to list becausee duplicates are not allowed in Sets\n",
    "print(type(list1))                          #Check\n",
    "list2 = list([5, 6, 7, 8, 9, 10, 11, 12])   # convert back to list becausee duplicates are not allowed in Sets\n",
    "print(type(list2))                          #check\n",
    "list1.extend(list2) \n",
    "print(list1)                                #  extend list contains duplicates"
   ]
  },
  {
   "cell_type": "code",
   "execution_count": 143,
   "metadata": {},
   "outputs": [
    {
     "name": "stdout",
     "output_type": "stream",
     "text": [
      "{1, 2, 3, 4, 5, 6, 7, 8}\n",
      "{5, 6, 7, 8, 9, 10, 11, 12}\n",
      "{1, 2, 3, 4, 5, 6, 7, 8, 9, 10, 11, 12}\n",
      "[1, 2, 3, 4, 5, 6, 7, 8, 9, 10, 11, 12]\n",
      "----------------------------------------\n",
      "<class 'list'>\n",
      "<class 'list'>\n",
      "[5, 6, 7, 8, 9, 10, 11, 12, 1, 2, 3, 4, 5, 6, 7, 8]\n"
     ]
    }
   ],
   "source": [
    "#list1 = list([1, 2, 3, 4, 5, 6, 7, 8])      \n",
    "#print(type(list1))                          \n",
    "#list2 = list([5, 6, 7, 8, 9, 10, 11, 12])\n",
    "list1 = set([1, 2, 3, 4, 5, 6, 7, 8]) \n",
    "print(list1)\n",
    "list2 = set([5, 6, 7, 8, 9, 10, 11, 12])\n",
    "print(list2)\n",
    "\n",
    "print((list2.union(list1)))  # still a Set\n",
    "print(list(list2.union(list1))) # converted back to a list\n",
    "\n",
    "# additional items\n",
    "print (\"----------------------------------------\")\n",
    "list1 = list([1, 2, 3, 4, 5, 6, 7, 8])      # convert back to list becausee duplicates are not allowed in Sets\n",
    "print(type(list1))                          #Check\n",
    "list2 = list([5, 6, 7, 8, 9, 10, 11, 12])   # convert back to list becausee duplicates are not allowed in Sets\n",
    "print(type(list2))                          #check\n",
    "list2.extend(list1) \n",
    "print(list2)                                #  extend list contains duplicates"
   ]
  },
  {
   "cell_type": "code",
   "execution_count": 145,
   "metadata": {},
   "outputs": [
    {
     "name": "stdout",
     "output_type": "stream",
     "text": [
      "{80, 20}\n"
     ]
    }
   ],
   "source": [
    "#Find the common elements of three lists using sets. \n",
    "list1 = [1, 5, 10, 20, 40, 80] \n",
    "list2 = [6, 7, 20, 80, 100] \n",
    "list3 = [3, 4, 15, 20, 30, 70, 80, 120]\n",
    "\n",
    "list1 = set([1, 5, 10, 20, 40, 80]) \n",
    "list2 = set([6, 7, 20, 80, 100]) \n",
    "list3 = set([3, 4, 15, 20, 30, 70, 80, 120])\n",
    "\n",
    "print((list1.intersection(list2)).intersection(list3)) "
   ]
  },
  {
   "cell_type": "markdown",
   "metadata": {},
   "source": [
    "## Dictionaries\n",
    "##### my_dict = {\n",
    "#####   \"key_1\": 1,\n",
    "#####   \"key_2\": 42,\n",
    "#####   \"key_3\":\"Hello\"\n",
    "##### }\n",
    "\n",
    "##### my_dict = {\"key_1\": 1,  \"key_2\": 42,  \"key_3\":\"Hello\"}\n",
    "#### Key can be whatever you want as long as they are not Mutable data type e.g Strings\n",
    "#### while values can take up any data type. \n",
    "\n"
   ]
  },
  {
   "cell_type": "code",
   "execution_count": 122,
   "metadata": {},
   "outputs": [
    {
     "name": "stdout",
     "output_type": "stream",
     "text": [
      "1\n",
      "{'key_1': 1, 'key_2': 42, 'key_3': 'Hello', 'new_key': 55}\n",
      "{'key_1': 1, 'key_2': 42, 'key_3': 'Hello', 'new_key': 66}\n",
      "-----------------------------------------------------\n",
      "Harry\n",
      "['P', 'y', 't', 'h', 'o', 'n']\n"
     ]
    }
   ],
   "source": [
    "my_dict = {\"key_1\": 1,\"key_2\": 42,\"key_3\":\"Hello\"}\n",
    "\n",
    "# indexing\n",
    "my_dict['key_1']\n",
    "var = my_dict['key_1']\n",
    "print (var)\n",
    "\n",
    "# add a new key (mutability of dictionary)\n",
    "my_dict[\"new_key\"] = 55\n",
    "print(my_dict)\n",
    "\n",
    "# change a value to a key (mutability)\n",
    "my_dict[\"new_key\"] = 66\n",
    "print(my_dict)\n",
    "print(\"-----------------------------------------------------\")\n",
    "\n",
    "# NESTED DICTIONARIES \n",
    "my_dict = {\n",
    "    \"key_1\": 1,\n",
    "    \"key_2\": 42,\n",
    "    \"key_3\":\"Hello\",\n",
    "    \"anotherkey\": [1,2,3],\n",
    "    \"dictionary_value\": {\"name\": \"Harry\",\"fav_number\":2},\n",
    "    \"another_nested_dict\": {\"dict_key\": { \"hello\": \"hola\"}, \"list_key\": [1,True, 'Goodbye']}\n",
    "    }\n",
    "print(my_dict[\"dictionary_value\"][\"name\"])\n",
    "\n",
    "#Going deep\n",
    "#Use indexing to get the string \"Python\" from the following dictionary: \n",
    "one_deep_dictionary = {\n",
    "    'start here':1,\n",
    "    'k1':[1,2,3,{'k2':[1,2,{'k3':['keep going',{'further':[1,2,3,4,[{'k4':'Python'}]]}]}]}]\n",
    "    }\n",
    "print(list(one_deep_dictionary['k1'][3]['k2'][2]['k3'][1]['further'][4][0]['k4']))\n",
    "#one_deep_dictionary['k4']"
   ]
  },
  {
   "cell_type": "markdown",
   "metadata": {},
   "source": [
    "##### Comparing different data types"
   ]
  },
  {
   "cell_type": "code",
   "execution_count": 133,
   "metadata": {},
   "outputs": [
    {
     "name": "stdout",
     "output_type": "stream",
     "text": [
      "True\n",
      "True\n",
      "True\n",
      "True\n",
      "True\n",
      "True\n",
      "<class 'bool'>\n",
      "<class 'bool'>\n",
      "<class 'bool'>\n",
      "<class 'bool'>\n",
      "<class 'bool'>\n",
      "<class 'bool'>\n"
     ]
    }
   ],
   "source": [
    "print((99 > 5))\n",
    "print((0 == False))\n",
    "print((1 == True))\n",
    "print((6.2 < 7))\n",
    "print((9 >= 9))\n",
    "print((False < True))\n",
    "\n",
    "print(type(99 > 5))\n",
    "print(type(0 == False))\n",
    "print(type(1 == True))\n",
    "print(type(6.2 < 7))\n",
    "print(type(9 >= 9))\n",
    "print(type(False < True))"
   ]
  },
  {
   "cell_type": "markdown",
   "metadata": {},
   "source": [
    "### XOR Gate"
   ]
  },
  {
   "cell_type": "code",
   "execution_count": 146,
   "metadata": {},
   "outputs": [
    {
     "name": "stdout",
     "output_type": "stream",
     "text": [
      "True\n",
      "False\n",
      "True\n",
      "None\n",
      "None\n"
     ]
    }
   ],
   "source": [
    "A = True\n",
    "B = False\n",
    "C = print(A or B)\n",
    "D = print(A and B)\n",
    "D_NOT = print(not(A and B))\n",
    "XOR = print(C and D_NOT)\n",
    "\n",
    "XOR = C and (not D)\n",
    "print(XOR)"
   ]
  },
  {
   "cell_type": "markdown",
   "metadata": {},
   "source": [
    "#### Comparing Strings"
   ]
  },
  {
   "cell_type": "code",
   "execution_count": 147,
   "metadata": {},
   "outputs": [
    {
     "name": "stdout",
     "output_type": "stream",
     "text": [
      "False\n",
      "True\n",
      "True\n"
     ]
    }
   ],
   "source": [
    "#Comparing Strings\n",
    "#Test the result of these comparisons 'AAA' > 'BBB' 'AAB' > 'AAA' 'aaa' > 'AAA'\n",
    "#Can you give an explanation of the last comparison?\n",
    "print('AAA' > 'BBB') \n",
    "print('AAB' > 'AAA')\n",
    "print('aaa' > 'AAA')\n"
   ]
  },
  {
   "cell_type": "markdown",
   "metadata": {},
   "source": [
    "#### comparing integers"
   ]
  },
  {
   "cell_type": "code",
   "execution_count": 151,
   "metadata": {},
   "outputs": [
    {
     "name": "stdout",
     "output_type": "stream",
     "text": [
      "{n} is greater than {x}\n"
     ]
    }
   ],
   "source": [
    "#You have one variable x = 10.\n",
    "#Use the function input() to ask the user to introduce a number and store it into n\n",
    "#Print \"{n} is greater than {x}\" if the introduced number is greater than x\n",
    "\n",
    "x = 10\n",
    "n = int(input(\"Enter a number: \"))\n",
    "if n > x:\n",
    "    print(\"{n} is greater than {x}\")\n",
    " "
   ]
  },
  {
   "cell_type": "markdown",
   "metadata": {},
   "source": [
    "\n",
    "### Calculating shopping cost using indexing"
   ]
  },
  {
   "cell_type": "code",
   "execution_count": 253,
   "metadata": {},
   "outputs": [
    {
     "name": "stdout",
     "output_type": "stream",
     "text": [
      "--------------------------------------------------------------------\n",
      "                prices  pack_size\n",
      "tomatoes          0.87        6.0\n",
      "washing sponge    0.29       10.0\n",
      "litre of juice    1.89        1.5\n",
      "roll of foil      1.29       30.0\n",
      "sugar             1.09      500.0\n",
      "2.61\n",
      "0.057999999999999996\n",
      "5.67\n",
      "0.17200000000000001\n",
      "4.36\n",
      "--------------------------------------------------------------------\n",
      "12.87\n",
      "15.44\n",
      "=====================================================================\n"
     ]
    }
   ],
   "source": [
    "\n",
    "print(\"--------------------------------------------------------------------\")\n",
    "\n",
    "shop = {\n",
    "     #\"pack_size\" : {\"tomatoes\": 18,\"washing sponge\": 2,\"litre of juice\": 4.5,\"roll of foil\": 4,\"sugar\": 2000},\n",
    "\n",
    "     \"prices\": {\"tomatoes\": 0.87, \"washing sponge\": 0.29, \"litre of juice\": 1.89, \"roll of foil\": 1.29,\"sugar\": 1.09},\n",
    "     \n",
    "     \"pack_size\" : {\"tomatoes\": 6,\"washing sponge\": 10,\"litre of juice\": 1.5,\"roll of foil\": 30,\"sugar\": 500}\n",
    "\n",
    "    }\n",
    "dx = pd.DataFrame(shop)\n",
    "print(dx)\n",
    "\n",
    "print((18/shop['pack_size']['tomatoes']) * (shop['prices']['tomatoes']))\n",
    "print((2/shop['pack_size'][\"washing sponge\"]) * (shop['prices'][\"washing sponge\"]))\n",
    "print((4.5/shop['pack_size'][\"litre of juice\"]) * (shop['prices'][\"litre of juice\"]))\n",
    "print((4/shop['pack_size'][\"roll of foil\"]) * (shop['prices'][\"roll of foil\"]))\n",
    "print((2000/shop['pack_size'][\"sugar\"]) * (shop['prices'][\"sugar\"]))\n",
    "print(\"--------------------------------------------------------------------\")\n",
    "a = ((18/shop['pack_size']['tomatoes']) * (shop['prices']['tomatoes']))\n",
    "b = ((2/shop['pack_size'][\"washing sponge\"]) * (shop['prices'][\"washing sponge\"]))\n",
    "c = ((4.5/shop['pack_size'][\"litre of juice\"]) * (shop['prices'][\"litre of juice\"]))\n",
    "d = ((4/shop['pack_size'][\"roll of foil\"]) * (shop['prices'][\"roll of foil\"]))\n",
    "e = ((2000/shop['pack_size'][\"sugar\"]) * (shop['prices'][\"sugar\"]))\n",
    "\n",
    "order_subtotal = (a + b + c + d + e)\n",
    "print(round(order_subtotal, 2))\n",
    "order_total = round((order_subtotal* 0.20) + (order_subtotal) ,2)\n",
    "print(order_total)\n",
    "print(\"=====================================================================\")\n"
   ]
  },
  {
   "cell_type": "code",
   "execution_count": 255,
   "metadata": {},
   "outputs": [
    {
     "name": "stdout",
     "output_type": "stream",
     "text": [
      "12.87\n",
      "15.44\n"
     ]
    }
   ],
   "source": [
    "order_subtotal = (round((((18/shop['pack_size']['tomatoes']) * (shop['prices']['tomatoes'])) +\n",
    "((2/shop['pack_size'][\"washing sponge\"]) * (shop['prices'][\"washing sponge\"])) +\n",
    "((4.5/shop['pack_size'][\"litre of juice\"]) * (shop['prices'][\"litre of juice\"])) +\n",
    "((4/shop['pack_size'][\"roll of foil\"]) * (shop['prices'][\"roll of foil\"])) +\n",
    "((2000/shop['pack_size'][\"sugar\"]) * (shop['prices'][\"sugar\"]))),2))\n",
    "\n",
    "print(order_subtotal)\n",
    "order_total = round((order_subtotal* 0.20) + (order_subtotal) ,2)\n",
    "print(order_total)\n"
   ]
  },
  {
   "cell_type": "markdown",
   "metadata": {},
   "source": [
    "### Tuple"
   ]
  },
  {
   "cell_type": "code",
   "execution_count": 276,
   "metadata": {},
   "outputs": [
    {
     "name": "stdout",
     "output_type": "stream",
     "text": [
      "()\n",
      "()\n",
      "weed\n",
      "3.4\n",
      "True\n",
      "weed\n",
      "3.4\n",
      "True\n"
     ]
    }
   ],
   "source": [
    "#Create an empty tuple without Python's built-in function\n",
    "#Create an empty tuple with Python's built-in function\n",
    "#Create a tuple that contains three different data types\n",
    "#Merge the two of the tuples you created using the + operator\n",
    "#Iterate over one of the tuples and print out tuples\n",
    "\n",
    "my_tuple = ()\n",
    "print(my_tuple)\n",
    "\n",
    "him_tuple = tuple([])\n",
    "print(him_tuple)\n",
    "\n",
    "a_tuple = ('weed', 3.4, True)\n",
    "for elements in a_tuple:\n",
    "    print(elements)\n",
    "type(a_tuple)\n",
    "\n",
    "A = (him_tuple + a_tuple)\n",
    "for elements in A:\n",
    "    print(elements)\n",
    "\n"
   ]
  },
  {
   "cell_type": "markdown",
   "metadata": {},
   "source": [
    "### Counting Number of Occurences in a Tuple\n"
   ]
  },
  {
   "cell_type": "code",
   "execution_count": 1,
   "metadata": {},
   "outputs": [
    {
     "name": "stdout",
     "output_type": "stream",
     "text": [
      "1\n",
      "0\n",
      "1\n",
      "1\n",
      "f\n",
      "[1, 2, 3]\n",
      "[4, 5]\n",
      "('f', 'd')\n",
      "('f', 'd', 'e')\n",
      "[1, 2, 3]\n",
      "a\n",
      "2\n"
     ]
    }
   ],
   "source": [
    "#Count the number of i's in the tuple vowels = ('a', 'e', 'i', 'o', 'i', 'u')\n",
    "#Count the number of 7's in the tuple numbers = (1, 7, 2, 7, 3, 7, 4, 7, 5, 7, 6, 7, 7, 7)\n",
    "#Count the number of [1, 2, 3] lists and ('f', 'd') tuples in the tuple tuple = (1, 'f', [1, 2, 3], [4, 5], ('f', 'd'), ('f', 'd', 'e'), [1, 2, 3], 'a')\n",
    "\n",
    "tuple_vowels = ('a', 'e', 'i', 'o', 'i', 'u')\n",
    "tuple_vowels.count('i')\n",
    "\n",
    "tuple_numbers = (1, 7, 2, 7, 3, 7, 4, 7, 5, 7, 6, 7, 7, 7)\n",
    "tuple_numbers.count(7,)\n",
    "\n",
    "tuple = (1, 'f', [1, 2, 3], [4, 5], ('f', 'd'), ('f', 'd', 'e'), [1, 2, 3], 'a')\n",
    "tuple.count([1,2,3])\n",
    "\n",
    "print(tuple.count('f'))\n",
    "print(tuple.count('d'))\n",
    "print(tuple.count(('f', 'd')))\n",
    "\n",
    "for elements in tuple:\n",
    "    print(elements)  # iteration\n",
    "\n",
    " # indexing individual elements\n",
    "print(tuple[2][1])\n",
    "\n"
   ]
  },
  {
   "cell_type": "markdown",
   "metadata": {},
   "source": [
    "### Indexing tuples\n"
   ]
  },
  {
   "cell_type": "code",
   "execution_count": 319,
   "metadata": {},
   "outputs": [
    {
     "name": "stdout",
     "output_type": "stream",
     "text": [
      "a\n",
      "e\n",
      "i\n",
      "o\n",
      "i\n",
      "u\n",
      "---------------------------------------------------\n",
      "1\n",
      "2\n",
      "---------------------------------------------------\n",
      "('u', 'g', 'l', 'i', 'u')\n",
      "3\n",
      "===================================================\n",
      "3\n"
     ]
    }
   ],
   "source": [
    "#You have a tuple vowels = ('a', 'e', 'i', 'o', 'i', 'u')\n",
    "#Find the first occurence of 'e' element\n",
    "#Find the first occurence of 'i' element\n",
    "#Find the first occurence of 'b' element. What does this return? What is the meaning of this error?\n",
    "#The index() method can take one to three parameters. We used one of them so far: element, the item to scan. The two other paramaters this method can take are:\n",
    "#- start_index - scanning of the element will start from the start_index\n",
    "#- end_index - scanning of the element will stop at the end_index\n",
    "#Find the first occurence of 'i' elemnts from index 4 to 8 in the following tuple alphabet = ('a', 'e', 'i', 'o', 'u', 'g', 'l', 'i', 'u')\n",
    "\n",
    "tuple_vowels = ('a', 'e', 'i', 'o', 'i', 'u')\n",
    "for elements in tuple_vowels:\n",
    "    print(elements)           \n",
    "    #print(elements.index)    # Ask question about the memory location here being different from the below\n",
    "    #print(tuple_vowels.index) # Ask question about the memory location here being different from the above\n",
    "print ('---------------------------------------------------')\n",
    "print(tuple_vowels.index('e'))\n",
    "print(tuple_vowels.index('i'))\n",
    "#print(tuple_vowels.index('b'))\n",
    "print ('---------------------------------------------------')\n",
    "\n",
    "tuple_alpha = ('a', 'e', 'i', 'o', 'u', 'g', 'l', 'i', 'u')\n",
    "print(tuple_alpha[4:9])\n",
    "print(tuple_alpha[4:9].index('i'))\n",
    "print ('===================================================')\n",
    "\n",
    "tuple_alpha = ('a', 'e', 'i', 'o', 'u', 'g', 'l', 'i', 'u')\n",
    "A = tuple_alpha[4:9]\n",
    "print(A.index('i'))\n"
   ]
  },
  {
   "cell_type": "markdown",
   "metadata": {},
   "source": [
    "### simple program to check first occurence of an item."
   ]
  },
  {
   "cell_type": "code",
   "execution_count": 315,
   "metadata": {},
   "outputs": [
    {
     "name": "stdout",
     "output_type": "stream",
     "text": [
      "1st occurence of e is at index 1\n"
     ]
    }
   ],
   "source": [
    "item = input('Enter item: ' )\n",
    "x = tuple_vowels.index(item)\n",
    "print('1st occurence of', item, 'is at index', x)"
   ]
  },
  {
   "cell_type": "markdown",
   "metadata": {},
   "source": [
    "### Unpacking Tuples"
   ]
  },
  {
   "cell_type": "code",
   "execution_count": 321,
   "metadata": {},
   "outputs": [
    {
     "name": "stdout",
     "output_type": "stream",
     "text": [
      "45\n",
      "True\n",
      "help\n",
      "3.7\n"
     ]
    }
   ],
   "source": [
    "\n",
    "#Initialise a tuple that contains four different data types. Unpack the tuple and print out each variable.\n",
    "#Given a tuple = (70, \"AiCore\", 10, \"Programming\", 70) and x, *y, z = tuple. What do you think the output of the following print statements will be?\n",
    "#print(x)\n",
    "#print(y)\n",
    "#print(z)\n",
    "#Given a tuple = (70, \"AiCore\", 10, \"Programming\", 70) and x, y, *z = tuple. What do you think the output of the following print statements will be?\n",
    "#print(x)\n",
    "#print(y)\n",
    "#print(z)\n",
    "\n",
    "tuple_types = (45, True, 'help', 3.7)\n",
    "#w, x, y, z = (45, True, 'help', 3.7)\n",
    "w, x, y, z = tuple_types\n",
    "print(w)\n",
    "print(x)\n",
    "print(y)\n",
    "print(z)"
   ]
  },
  {
   "cell_type": "code",
   "execution_count": 333,
   "metadata": {},
   "outputs": [
    {
     "name": "stdout",
     "output_type": "stream",
     "text": [
      "70\n",
      "['AiCore', 10, 'Programming']\n",
      "70\n",
      "===================================================\n",
      "70\n",
      "AiCore\n",
      "[10, 'Programming', 70]\n",
      "===================================================\n",
      "[70, 'AiCore', 10]\n",
      "Programming\n",
      "70\n"
     ]
    }
   ],
   "source": [
    "tuple = (70, \"AiCore\", 10, \"Programming\", 70)\n",
    "x, *y, z = tuple\n",
    "print(x)\n",
    "print(y)\n",
    "print(z)\n",
    "print ('===================================================')\n",
    "\n",
    "x, y, *z = tuple\n",
    "print(x)\n",
    "print(y)\n",
    "print(z)\n",
    "print ('===================================================')\n",
    "*x, y, z = tuple\n",
    "print(x)\n",
    "print(y)\n",
    "print(z)"
   ]
  },
  {
   "cell_type": "markdown",
   "metadata": {},
   "source": [
    "### assertion"
   ]
  },
  {
   "cell_type": "code",
   "execution_count": 343,
   "metadata": {},
   "outputs": [
    {
     "ename": "AssertionError",
     "evalue": "you cant purcahse alcohol",
     "output_type": "error",
     "traceback": [
      "\u001b[1;31m---------------------------------------------------------------------------\u001b[0m",
      "\u001b[1;31mAssertionError\u001b[0m                            Traceback (most recent call last)",
      "\u001b[1;32mc:\\Users\\User_Central\\Desktop\\AICORE_PROJECTS\\test_envfile.ipynb Cell 51\u001b[0m in \u001b[0;36m<cell line: 2>\u001b[1;34m()\u001b[0m\n\u001b[0;32m      <a href='vscode-notebook-cell:/c%3A/Users/User_Central/Desktop/AICORE_PROJECTS/test_envfile.ipynb#Y106sZmlsZQ%3D%3D?line=0'>1</a>\u001b[0m age \u001b[39m=\u001b[39m \u001b[39mint\u001b[39m(\u001b[39minput\u001b[39m(\u001b[39m'\u001b[39m\u001b[39mEnter Age :\u001b[39m\u001b[39m'\u001b[39m ))\n\u001b[1;32m----> <a href='vscode-notebook-cell:/c%3A/Users/User_Central/Desktop/AICORE_PROJECTS/test_envfile.ipynb#Y106sZmlsZQ%3D%3D?line=1'>2</a>\u001b[0m \u001b[39massert\u001b[39;00m age \u001b[39m>\u001b[39m\u001b[39m=\u001b[39m \u001b[39m25\u001b[39m , \u001b[39m'\u001b[39m\u001b[39myou cant purcahse alcohol\u001b[39m\u001b[39m'\u001b[39m\n\u001b[0;32m      <a href='vscode-notebook-cell:/c%3A/Users/User_Central/Desktop/AICORE_PROJECTS/test_envfile.ipynb#Y106sZmlsZQ%3D%3D?line=2'>3</a>\u001b[0m \u001b[39mprint\u001b[39m(\u001b[39m'\u001b[39m\u001b[39m You can purchase alcohol\u001b[39m\u001b[39m'\u001b[39m)\n",
      "\u001b[1;31mAssertionError\u001b[0m: you cant purcahse alcohol"
     ]
    }
   ],
   "source": [
    "age = int(input('Enter Age :' ))\n",
    "assert age >= 25 , 'you cant purcahse alcohol'\n",
    "print(' You can purchase alcohol')\n",
    "\n",
    "\n"
   ]
  },
  {
   "cell_type": "markdown",
   "metadata": {},
   "source": [
    "### Tuple packing and unpacking\n",
    "### Tuple unpacking is one of the most powerful features of tuples.\n",
    "### Using the comma syntax below, Python automatically selects elements from a tuple and assigns them to variables.\n",
    "### This feature can be applied to For loops, particularly when iterating over dictionaries."
   ]
  }
 ],
 "metadata": {
  "kernelspec": {
   "display_name": "Python 3.10.6 ('secondtest_env')",
   "language": "python",
   "name": "python3"
  },
  "language_info": {
   "codemirror_mode": {
    "name": "ipython",
    "version": 3
   },
   "file_extension": ".py",
   "mimetype": "text/x-python",
   "name": "python",
   "nbconvert_exporter": "python",
   "pygments_lexer": "ipython3",
   "version": "3.10.6"
  },
  "orig_nbformat": 4,
  "vscode": {
   "interpreter": {
    "hash": "f7e737508e320864f9730b912236e997794d80e5da8833e77c0e26b9118fc4e5"
   }
  }
 },
 "nbformat": 4,
 "nbformat_minor": 2
}
