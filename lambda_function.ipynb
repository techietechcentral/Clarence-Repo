{
 "cells": [
  {
   "attachments": {},
   "cell_type": "markdown",
   "metadata": {},
   "source": [
    "### Simple Lambda function\n",
    "#### Lambda square function"
   ]
  },
  {
   "cell_type": "code",
   "execution_count": null,
   "metadata": {},
   "outputs": [],
   "source": [
    "# SYNTAX for a lambda function that takes in a number and returns that number squared\n",
    "func_lambda = lambda y: y ** 2\n",
    "x = func_lambda(3)\n",
    "print(x)"
   ]
  },
  {
   "cell_type": "code",
   "execution_count": 6,
   "metadata": {},
   "outputs": [
    {
     "name": "stdout",
     "output_type": "stream",
     "text": [
      "The square of 6 is 36\n"
     ]
    }
   ],
   "source": [
    "x = int(input(\"Enter Number: \"))\n",
    "num_square = lambda y: y ** 2 # usage\n",
    "output = num_square(x)\n",
    "print(f\"The square of\", x ,\"is\", output)"
   ]
  },
  {
   "cell_type": "code",
   "execution_count": 47,
   "metadata": {},
   "outputs": [],
   "source": [
    "def numb_square():\n",
    "    \"\"\"\n",
    "    Get the square of the number provided by the user.\n",
    "    \"\"\"\n",
    "    try:    \n",
    "        x = int(input(\"Enter Number: \"))\n",
    "        num_square = lambda y: y ** 2 # usage\n",
    "        output = num_square(x)\n",
    "        print(f\"The square of\", x ,\"is\", output)\n",
    "    except ValueError:\n",
    "        print(\"Invalid input. Please enter an integer.\")"
   ]
  },
  {
   "cell_type": "code",
   "execution_count": 48,
   "metadata": {},
   "outputs": [
    {
     "name": "stdout",
     "output_type": "stream",
     "text": [
      "The square of 4 is 16\n"
     ]
    }
   ],
   "source": [
    "numb_square()"
   ]
  },
  {
   "attachments": {},
   "cell_type": "markdown",
   "metadata": {},
   "source": [
    "#### lambda cube function"
   ]
  },
  {
   "cell_type": "code",
   "execution_count": null,
   "metadata": {},
   "outputs": [],
   "source": [
    "# A lambda function that takes in a number and returns that number cubed\n",
    "x = int(input(\"Enter Number: \"))\n",
    "num_cube = lambda y: y ** 3 # usage\n",
    "output = num_cube(x)\n",
    "print(f\"The cube of\", x ,\"is\", output)"
   ]
  },
  {
   "cell_type": "code",
   "execution_count": 3,
   "metadata": {},
   "outputs": [
    {
     "name": "stdout",
     "output_type": "stream",
     "text": [
      "Invalid input. Please enter an integer.\n"
     ]
    }
   ],
   "source": [
    "# A lambda function that takes in a number and returns that number cubed with Try except block\n",
    "try:\n",
    "    x = int(input(\"Enter Number: \"))\n",
    "    num_cube = lambda y: y ** 3\n",
    "    output = num_cube(x)\n",
    "    print(f\"The cube of {x} is {output}\")\n",
    "except ValueError:\n",
    "    print(\"Invalid input. Please enter an integer.\")"
   ]
  },
  {
   "cell_type": "code",
   "execution_count": 42,
   "metadata": {},
   "outputs": [],
   "source": [
    "def numb_cube():\n",
    "    \"\"\"\n",
    "    Get the cube of the number provided by the user.\n",
    "    \"\"\"\n",
    "    try:\n",
    "        x = int(input(\"Enter Number: \"))\n",
    "        num_cube = lambda y: y ** 3\n",
    "        output = num_cube(x)\n",
    "        print(f\"The cube of {x} is {output}\")\n",
    "    except ValueError:\n",
    "        print(\"Invalid input. Please enter an integer.\")"
   ]
  },
  {
   "cell_type": "code",
   "execution_count": 43,
   "metadata": {},
   "outputs": [
    {
     "name": "stdout",
     "output_type": "stream",
     "text": [
      "The cube of 5 is 125\n"
     ]
    }
   ],
   "source": [
    "numb_cube()"
   ]
  },
  {
   "attachments": {},
   "cell_type": "markdown",
   "metadata": {},
   "source": [
    "#### Lambda sum function"
   ]
  },
  {
   "cell_type": "code",
   "execution_count": 8,
   "metadata": {},
   "outputs": [
    {
     "name": "stdout",
     "output_type": "stream",
     "text": [
      "The sum of 2 and 4 is 6\n"
     ]
    }
   ],
   "source": [
    "# A lambda function that takes two numbers and returns the sum of those numbers\n",
    "a = int(input(\"Enter first Number: \"))\n",
    "b = int(input(\"Enter SecondNumber: \"))\n",
    "num_sum = lambda a , b: a + b # usage\n",
    "output = num_sum( a , b)\n",
    "print(f\"The sum of\", a ,\"and\", b ,\"is\", output)\n"
   ]
  },
  {
   "cell_type": "code",
   "execution_count": null,
   "metadata": {},
   "outputs": [],
   "source": [
    "try:\n",
    "    a = int(input(\"Enter first Number: \"))\n",
    "    b = int(input(\"Enter Second Number: \"))\n",
    "    num_sum = lambda a, b: a + b\n",
    "    output = num_sum(a, b)\n",
    "    print(f\"The sum of {a} and {b} is {output}\")\n",
    "except ValueError:\n",
    "    print(\"Invalid input! Please enter integers.\")"
   ]
  },
  {
   "cell_type": "code",
   "execution_count": 5,
   "metadata": {},
   "outputs": [
    {
     "name": "stdout",
     "output_type": "stream",
     "text": [
      "The sum of 2 and 3 is 5\n"
     ]
    }
   ],
   "source": [
    "def get_sum():\n",
    "    \"\"\"\n",
    "    Get the sum of two numbers provided by the user.\n",
    "    \"\"\"\n",
    "    try:\n",
    "        a = int(input(\"Enter the first number: \"))\n",
    "        b = int(input(\"Enter the second number: \"))\n",
    "        num_sum = lambda a, b: a + b\n",
    "        output = num_sum(a, b)\n",
    "        print(\"The sum of\", a, \"and\", b, \"is\", output)\n",
    "    except ValueError:\n",
    "        print(\"Invalid input. Please enter integers.\")\n",
    "# Usage\n",
    "get_sum()"
   ]
  },
  {
   "cell_type": "code",
   "execution_count": 6,
   "metadata": {},
   "outputs": [
    {
     "name": "stdout",
     "output_type": "stream",
     "text": [
      "The sum of 2 and 6 is 8\n"
     ]
    }
   ],
   "source": [
    "get_sum()"
   ]
  },
  {
   "attachments": {},
   "cell_type": "markdown",
   "metadata": {},
   "source": [
    "#### lamda product function"
   ]
  },
  {
   "cell_type": "code",
   "execution_count": 9,
   "metadata": {},
   "outputs": [
    {
     "name": "stdout",
     "output_type": "stream",
     "text": [
      "The product of 3 and 6 is 18\n"
     ]
    }
   ],
   "source": [
    "# A lambda function that takes two numbers and returns the product of those numbers\n",
    "\n",
    "c = int(input(\"Enter first Number: \"))\n",
    "d = int(input(\"Enter SecondNumber: \"))\n",
    "num_product = lambda c , d: c * d # usage\n",
    "output = num_product( c , d)\n",
    "print(f\"The product of\", c ,\"and\", d ,\"is\", output)"
   ]
  },
  {
   "cell_type": "code",
   "execution_count": null,
   "metadata": {},
   "outputs": [],
   "source": [
    "try:\n",
    "    c = int(input(\"Enter first Number: \"))\n",
    "    d = int(input(\"Enter Second Number: \"))\n",
    "    product = lambda c, d: c * d\n",
    "    output = product(c, d)\n",
    "    print(f\"The product of {c} and {d} is {output}\")\n",
    "except ValueError:\n",
    "    print(\"Error: Please enter valid integer inputs.\")"
   ]
  },
  {
   "cell_type": "code",
   "execution_count": 40,
   "metadata": {},
   "outputs": [],
   "source": [
    "def num_prod():\n",
    "    \"\"\"\n",
    "    Get the product of two numbers provided by the user.\n",
    "    \"\"\"\n",
    "    try:\n",
    "        c = int(input(\"Enter first Number: \"))\n",
    "        d = int(input(\"Enter Second Number: \"))\n",
    "        product = lambda c, d: c * d\n",
    "        output = product(c, d)\n",
    "        print(f\"The product of {c} and {d} is {output}\")\n",
    "    except ValueError:\n",
    "        print(\"Error: Please enter valid integer inputs.\")"
   ]
  },
  {
   "cell_type": "code",
   "execution_count": 41,
   "metadata": {},
   "outputs": [
    {
     "name": "stdout",
     "output_type": "stream",
     "text": [
      "The product of 3 and 4 is 12\n"
     ]
    }
   ],
   "source": [
    "num_prod()"
   ]
  },
  {
   "cell_type": "code",
   "execution_count": 12,
   "metadata": {},
   "outputs": [
    {
     "data": {
      "text/plain": [
       "[16, 67, 70, 99, 273, 309, 500, 504, 711, 711, 798]"
      ]
     },
     "execution_count": 12,
     "metadata": {},
     "output_type": "execute_result"
    }
   ],
   "source": [
    "[309, 798, 500, 711, 504, 70, 99, 273, 711, 16, 67]\n",
    "\n",
    "sorted([309, 798, 500, 711, 504, 70, 99, 273, 711, 16, 67])"
   ]
  },
  {
   "cell_type": "code",
   "execution_count": 13,
   "metadata": {},
   "outputs": [
    {
     "data": {
      "text/plain": [
       "[[309, 798, 500, 711, 504, 70, 99, 273, 711, 16, 67]]"
      ]
     },
     "execution_count": 13,
     "metadata": {},
     "output_type": "execute_result"
    }
   ],
   "source": [
    "[309, 798, 500, 711, 504, 70, 99, 273, 711, 16, 67]\n",
    "\n",
    "sorted([[309, 798, 500, 711, 504, 70, 99, 273, 711, 16, 67]])"
   ]
  },
  {
   "cell_type": "code",
   "execution_count": 10,
   "metadata": {},
   "outputs": [
    {
     "data": {
      "text/plain": [
       "[3, 5, 6, 7, 7, 9, 23, 54, 71, 71, 78]"
      ]
     },
     "execution_count": 10,
     "metadata": {},
     "output_type": "execute_result"
    }
   ],
   "source": [
    "ref_numbers = [3, 78, 5, 71, 54, 7, 9, 23, 71, 6, 7]\n",
    "\n",
    "sorted(ref_numbers)"
   ]
  },
  {
   "attachments": {},
   "cell_type": "markdown",
   "metadata": {},
   "source": [
    "### Sorting with Lanmda\n",
    "#### sort() function"
   ]
  },
  {
   "cell_type": "code",
   "execution_count": 35,
   "metadata": {},
   "outputs": [
    {
     "name": "stdout",
     "output_type": "stream",
     "text": [
      "[('Zob', 22), ('Sharlie', 39), ('Plice', 57), ('Navid', 98), ('Evie', 510)]\n",
      "[('Evie', 510), ('Navid', 98), ('Plice', 57), ('Sharlie', 39), ('Zob', 22)]\n",
      "[('Zob', 22), ('Evie', 510), ('Navid', 98), ('Plice', 57), ('Sharlie', 39)]\n",
      "[('Sharlie', 39), ('Navid', 98), ('Plice', 57), ('Evie', 510), ('Zob', 22)]\n"
     ]
    }
   ],
   "source": [
    "# Create a list with 5 tuples, where each tuple contains a name and a number.\n",
    "\n",
    "my_list = [('Plice', 57), ('Zob', 22), ('Sharlie', 39), ('Navid', 98), ('Evie', 510)]\n",
    "\n",
    "# Then, using the sort function, create a lambda function for each of the following bullet points:\n",
    "# Sort the list by the number in each tuple\n",
    "my_list.sort(key=lambda x: x[1])\n",
    "print (my_list)\n",
    "\n",
    "# Sort the list by the name in each tuple\n",
    "my_list.sort(key=lambda x: x[0])\n",
    "print (my_list)\n",
    " \n",
    "# Sort the list by the length of the name in each tuple\n",
    "my_list.sort(key=lambda x: len(x[0]))\n",
    "print (my_list)\n",
    "\n",
    "# Sort the list by the length of the name in each tuple, but in reverse order\n",
    "my_list.sort(key=lambda x: len(x[0]), reverse=True)\n",
    "print (my_list)"
   ]
  },
  {
   "attachments": {},
   "cell_type": "markdown",
   "metadata": {},
   "source": [
    "#### Sorted()"
   ]
  },
  {
   "cell_type": "code",
   "execution_count": 66,
   "metadata": {},
   "outputs": [
    {
     "data": {
      "text/plain": [
       "[('Evie', 510), ('Navid', 98), ('Plice', 57), ('Sharlie', 39), ('Zob', 22)]"
      ]
     },
     "execution_count": 66,
     "metadata": {},
     "output_type": "execute_result"
    }
   ],
   "source": [
    "the_list = [('Plice', 57), ('Zob', 22), ('Sharlie', 39), ('Navid', 98), ('Evie', 510)]\n",
    "sorted(the_list)\n",
    "\n",
    " "
   ]
  },
  {
   "cell_type": "code",
   "execution_count": 67,
   "metadata": {},
   "outputs": [
    {
     "data": {
      "text/plain": [
       "[('Zob', 22), ('Sharlie', 39), ('Plice', 57), ('Navid', 98), ('Evie', 510)]"
      ]
     },
     "execution_count": 67,
     "metadata": {},
     "output_type": "execute_result"
    }
   ],
   "source": [
    "# Then, using the sort function, create a lambda function for each of the following bullet points:\n",
    "# Sort the list by the number in each tuple\n",
    "sorted(the_list, key = lambda x: x[1])"
   ]
  },
  {
   "cell_type": "code",
   "execution_count": 68,
   "metadata": {},
   "outputs": [
    {
     "data": {
      "text/plain": [
       "[('Evie', 510), ('Navid', 98), ('Plice', 57), ('Sharlie', 39), ('Zob', 22)]"
      ]
     },
     "execution_count": 68,
     "metadata": {},
     "output_type": "execute_result"
    }
   ],
   "source": [
    "# Sort the list by the name in each tuple\n",
    "sorted(the_list, key = lambda x: x[0])"
   ]
  },
  {
   "cell_type": "code",
   "execution_count": 69,
   "metadata": {},
   "outputs": [
    {
     "data": {
      "text/plain": [
       "[('Zob', 22), ('Evie', 510), ('Plice', 57), ('Navid', 98), ('Sharlie', 39)]"
      ]
     },
     "execution_count": 69,
     "metadata": {},
     "output_type": "execute_result"
    }
   ],
   "source": [
    "# Sort the list by the lenght of the name in each tuple\n",
    "sorted(the_list, key = lambda x: len(x[0]))"
   ]
  },
  {
   "cell_type": "code",
   "execution_count": 72,
   "metadata": {},
   "outputs": [
    {
     "data": {
      "text/plain": [
       "[('Sharlie', 39), ('Plice', 57), ('Navid', 98), ('Evie', 510), ('Zob', 22)]"
      ]
     },
     "execution_count": 72,
     "metadata": {},
     "output_type": "execute_result"
    }
   ],
   "source": [
    "# Sort the list by the length of the name in each tuple, but in reverse order\n",
    "sorted(the_list, key = lambda x: len(x[0]), reverse=True)"
   ]
  },
  {
   "cell_type": "code",
   "execution_count": 80,
   "metadata": {},
   "outputs": [
    {
     "name": "stdout",
     "output_type": "stream",
     "text": [
      "[('Zob', 22), ('Sharlie', 39), ('Plice', 57), ('Navid', 98), ('Evie', 510)]\n",
      "[('Evie', 510), ('Navid', 98), ('Plice', 57), ('Sharlie', 39), ('Zob', 22)]\n",
      "[('Zob', 22), ('Evie', 510), ('Plice', 57), ('Navid', 98), ('Sharlie', 39)]\n",
      "[('Sharlie', 39), ('Plice', 57), ('Navid', 98), ('Evie', 510), ('Zob', 22)]\n"
     ]
    }
   ],
   "source": [
    "print(sorted(the_list, key = lambda x: x[1]))\n",
    "print(sorted(the_list, key = lambda x: x[0]))\n",
    "print(sorted(the_list, key = lambda x: len(x[0])))\n",
    "print(sorted(the_list, key = lambda x: len(x[0]), reverse=True))"
   ]
  },
  {
   "attachments": {},
   "cell_type": "markdown",
   "metadata": {},
   "source": [
    "### Lambda function with Map"
   ]
  },
  {
   "cell_type": "code",
   "execution_count": 113,
   "metadata": {},
   "outputs": [
    {
     "name": "stdout",
     "output_type": "stream",
     "text": [
      "numb_list1 square now becomes: [144, 225, 36, 81, 169]\n",
      "numb_list2 square now becomes: [4, 25, 256, 64, 100]\n",
      "numb_list1 cube now becomes: [1728, 3375, 216, 729, 2197]\n",
      "numb_list2 cube now becomes: [8, 125, 4096, 512, 1000]\n",
      "numb_list1 now becomes: [144, 3375, 36, 729, 2197]\n",
      "numb_list2 now becomes: [4, 125, 256, 64, 100]\n"
     ]
    }
   ],
   "source": [
    "# Create a list of 5 numbers\n",
    "numb_list1 = [12, 15, 6, 9, 13]\n",
    "numb_list2 = [2, 5, 16, 8, 10]\n",
    "\n",
    "# Create a lambda function that squares a number. Then use map to square each number in the list\n",
    "num_sqr = lambda x: x ** 2\n",
    "\n",
    "num_square = map(lambda x: x ** 2,numb_list1)\n",
    "print(f\"numb_list1 square now becomes: {list(num_square)}\")\n",
    "\n",
    "num_square = map(lambda x: x ** 2,numb_list2)\n",
    "print(f\"numb_list2 square now becomes: {list(num_square)}\")\n",
    "\n",
    "# Create a lambda function that cubes a number. Then use map to cube each number in the list\n",
    "num_cube = lambda x: x ** 3\n",
    "\n",
    "numb_cube = map(num_cube, numb_list1)\n",
    "print(f\"numb_list1 cube now becomes: {list(numb_cube)}\")\n",
    "\n",
    "\n",
    "numb_cube = map(num_cube, numb_list2)\n",
    "print(f\"numb_list2 cube now becomes: {list(numb_cube)}\")\n",
    "\n",
    "# Create a lambda function that takes in a number and returns that number squared if it is even, and cubed if it is odd. \n",
    "# Then use map to apply the function to each number in the list\n",
    "\n",
    "sqr_or_cube = lambda x: x ** 2 if x % 2 == 0 else x ** 3\n",
    "\n",
    "square_or_cube = map(sqr_or_cube, numb_list1)\n",
    "print(f\"numb_list1 now becomes: {list(square_or_cube)}\")\n",
    "\n",
    "\n",
    "square_or_cube = map(sqr_or_cube, numb_list2)\n",
    "print(f\"numb_list2 now becomes: {list(square_or_cube)}\")"
   ]
  },
  {
   "attachments": {},
   "cell_type": "markdown",
   "metadata": {},
   "source": [
    "### Lambda function with Filter"
   ]
  },
  {
   "cell_type": "code",
   "execution_count": 142,
   "metadata": {},
   "outputs": [
    {
     "name": "stdout",
     "output_type": "stream",
     "text": [
      "['banana', 'carrot', 'elephant', 'jacket', 'uttoxeter']\n",
      "['circle', 'triangle', 'rectangle', 'square', 'pentagon', 'hexagon', 'octagon', 'ellipse', 'diamond', 'octahedron']\n",
      "['elephant', 'uttoxeter']\n",
      "['octagon', 'ellipse', 'octahedron']\n"
     ]
    }
   ],
   "source": [
    "# Create a list of 10 strings\n",
    "\n",
    "string_list = [\"apple\", \"banana\", \"carrot\", \"dog\", \"elephant\", \"fish\", \"grape\", \"horse\", \"igloo\", \"jacket\", \"uttoxeter\"]\n",
    "shape_list = [\"circle\", \"triangle\", \"rectangle\", \"square\", \"pentagon\", \"hexagon\", \"octagon\", \"ellipse\", \"star\", \"diamond\", \"octahedron\"]\n",
    "\n",
    "\n",
    "# Create a lambda function that takes in a string and returns True if the string is longer than 5 characters and False if it is not.\n",
    "# Then use filter and the lambda function to filter out all strings that are longer than 5 characters\n",
    "str_funct = lambda x: True if len(x) > 5 else False\n",
    "\n",
    "string_1 = filter(str_funct, string_list)\n",
    "print(list(string_1))\n",
    "\n",
    "string_1 = filter(str_funct, shape_list)\n",
    "print(list(string_1))\n",
    " \n",
    "# starts with a vowel, and False if it is not. Then use filter and the lambda function to filter out all strings\n",
    "# that are longer than 5 characters and start with a vowel.\n",
    "starts_with_vowel = lambda x: x[0].lower() in ['a', 'e', 'i', 'o', 'u'] and len(x) > 5 \n",
    "\n",
    "string_1 = filter(starts_with_vowel, string_list)\n",
    "print(list(string_1))\n",
    "\n",
    "string_1 = filter(starts_with_vowel, shape_list)\n",
    "print(list(string_1))\n",
    "\n"
   ]
  },
  {
   "attachments": {},
   "cell_type": "markdown",
   "metadata": {},
   "source": [
    "### Generators"
   ]
  },
  {
   "cell_type": "code",
   "execution_count": null,
   "metadata": {},
   "outputs": [],
   "source": [
    "# 1. Generator that Cycles Through a List\n",
    "# Create a generator that infinitely cycles through a list of items in order\n",
    "def cycle_gen(elements):\n",
    "    while True:\n",
    "        for element in elements:\n",
    "            yield element"
   ]
  },
  {
   "cell_type": "code",
   "execution_count": 144,
   "metadata": {},
   "outputs": [],
   "source": [
    "def cycle_gen(x):\n",
    "    while True:\n",
    "        for items in x:\n",
    "            yield items"
   ]
  },
  {
   "cell_type": "code",
   "execution_count": null,
   "metadata": {},
   "outputs": [],
   "source": [
    "new_list = [1, 2, 3, 4, 5]\n",
    "\n",
    "for items in cycle_gen(new_list):\n",
    "    print(items)"
   ]
  },
  {
   "cell_type": "code",
   "execution_count": null,
   "metadata": {},
   "outputs": [],
   "source": [
    "def cycle_gen(x):\n",
    "    \"\"\"\n",
    "    Generator function that cycles through the elements of a given list indefinitely.\n",
    "    \n",
    "    Args:\n",
    "        x: A list of elements.\n",
    "        \n",
    "    Yields:\n",
    "        The elements of the list in a cyclical manner.\n",
    "    \"\"\"\n",
    "    while True:\n",
    "        for item in x:\n",
    "            yield item\n",
    "\n",
    "\n",
    "# Example usage\n",
    "new_list = [1, 2, 3, 4, 5 ]\n",
    "\n",
    "# Iterate through the elements of the list in a cyclical manner\n",
    "for item in cycle_gen(new_list):\n",
    "    print(item)"
   ]
  },
  {
   "attachments": {},
   "cell_type": "markdown",
   "metadata": {},
   "source": [
    "#### random.random()"
   ]
  },
  {
   "cell_type": "code",
   "execution_count": 326,
   "metadata": {},
   "outputs": [
    {
     "name": "stdout",
     "output_type": "stream",
     "text": [
      "0.1396830022187341\n",
      "0.08536147874579214\n",
      "0.07725367870522248\n",
      "0.6921235883685617\n"
     ]
    }
   ],
   "source": [
    "# 2. Random Number Generator\n",
    "# Create a generator that yields random numbers\n",
    "\n",
    "import random\n",
    "\n",
    "def random_num_gen(x):\n",
    "    while True:\n",
    "        yield random.random()\n",
    "# usage with a list\n",
    "new_list = [1, 5, 10, 15]\n",
    "for items in new_list:\n",
    "    print(next(random_num_gen(new_list)))"
   ]
  },
  {
   "cell_type": "code",
   "execution_count": 566,
   "metadata": {},
   "outputs": [
    {
     "name": "stdout",
     "output_type": "stream",
     "text": [
      "0\n"
     ]
    }
   ],
   "source": [
    "import random\n",
    "\n",
    "def random_num_gen():\n",
    "    while True:\n",
    "        # usage with random integer number from 0 to 3\n",
    "        yield random.randint(0, 3)\n",
    "print(next(random_num_gen()))"
   ]
  },
  {
   "cell_type": "code",
   "execution_count": null,
   "metadata": {},
   "outputs": [],
   "source": [
    "import random\n",
    "\n",
    "def random_num_gen():\n",
    "    while True:\n",
    "        yield random.randint(0, 3)\n",
    "        # the introduction of a while loop makes it continous (click the stop button or ctrl + C to stop the process)\n",
    "while True:\n",
    "    print(next(random_num_gen()))"
   ]
  },
  {
   "cell_type": "code",
   "execution_count": 289,
   "metadata": {},
   "outputs": [
    {
     "name": "stdout",
     "output_type": "stream",
     "text": [
      "8771090900775947485322583643704016323874362536433843611298178318554258886404022042301073403999847778\n"
     ]
    }
   ],
   "source": [
    "import random\n",
    "\n",
    "def random_num_gen():\n",
    "    \"\"\"\n",
    "    Generate random integers indefinitely.\n",
    "    \n",
    "    Yields:\n",
    "        int: Random integers.\n",
    "    \"\"\"\n",
    "    while True:\n",
    "        yield random.randint(0, 100 ** 50) # a googol\n",
    "\n",
    "# Create an instance of random_num_gen\n",
    "random_num_gen()\n",
    "\n",
    "# Iterate in a continuous loop and print random integers\n",
    "#while True:\n",
    "print(next(random_num_gen()))"
   ]
  },
  {
   "cell_type": "code",
   "execution_count": null,
   "metadata": {},
   "outputs": [],
   "source": [
    "import random\n",
    "\n",
    "def random_num_gen():\n",
    "    \"\"\"\n",
    "    Generate random integers indefinitely.\n",
    "    \n",
    "    Yields:\n",
    "        int: Random integers.\n",
    "    \"\"\"\n",
    "    while True:\n",
    "        yield random.randint(0, 1000)\n",
    "\n",
    "# Create an instance of random_num_gen\n",
    "random_num_gen()\n",
    "\n",
    "# Iterate in a continuous loop and print random integers\n",
    "while True:                                                # introduction of a while loop mamkes it continious\n",
    "    print(next(random_num_gen()))"
   ]
  },
  {
   "attachments": {},
   "cell_type": "markdown",
   "metadata": {},
   "source": [
    "#### random.choice(positional arg)"
   ]
  },
  {
   "cell_type": "code",
   "execution_count": 396,
   "metadata": {},
   "outputs": [
    {
     "name": "stdout",
     "output_type": "stream",
     "text": [
      "1\n",
      "3\n",
      "2\n",
      "4\n",
      "1\n",
      "1\n",
      "1\n",
      "3\n",
      "1\n"
     ]
    }
   ],
   "source": [
    "import random\n",
    "\n",
    "def random_num_gen():\n",
    "    while True:\n",
    "        yield random.choice(x)\n",
    "new_list = [1, 2, 3, 4, 5, 6, 7, 11, 45 ]\n",
    "for items in new_list:\n",
    "    print(next(random_num_gen()))"
   ]
  },
  {
   "attachments": {},
   "cell_type": "markdown",
   "metadata": {},
   "source": [
    "##### question to ask: why does the x in random_num_gen(x) and new_list arg in random_num_gen(new_list) matter as\n",
    "##### they yeild the same output"
   ]
  },
  {
   "cell_type": "code",
   "execution_count": 393,
   "metadata": {},
   "outputs": [
    {
     "name": "stdout",
     "output_type": "stream",
     "text": [
      "11\n",
      "2\n",
      "11\n",
      "2\n",
      "3\n",
      "6\n",
      "3\n",
      "4\n",
      "3\n"
     ]
    }
   ],
   "source": [
    "import random\n",
    "\n",
    "def random_num_gen(x):\n",
    "    while True:\n",
    "        yield random.choice(x)\n",
    "new_list = [1, 2, 3, 4, 5, 6, 7, 11, 45 ]\n",
    "for items in new_list:\n",
    "    print(next(random_num_gen(new_list)))"
   ]
  },
  {
   "cell_type": "code",
   "execution_count": 397,
   "metadata": {},
   "outputs": [
    {
     "name": "stdout",
     "output_type": "stream",
     "text": [
      "5\n",
      "1\n",
      "2\n",
      "5\n",
      "1\n",
      "3\n",
      "2\n",
      "1\n",
      "4\n"
     ]
    }
   ],
   "source": [
    "import random\n",
    "\n",
    "def random_num_gen(y):\n",
    "    \"\"\"\n",
    "    Generate random numbers from 0 to 1 indefinitely.\n",
    "    \n",
    "    Parameters:\n",
    "        input_list (list): The list to be utilized.\n",
    "        \n",
    "    Yields:\n",
    "        float: Random numbers between 0 and 1.\n",
    "    \"\"\"\n",
    "    while True:\n",
    "        yield random.choice(x)\n",
    "\n",
    "# Example usage of random_num_gen with the input list\n",
    "new_list = [1, 2, 3, 4, 5, 6, 7, 11, 45]\n",
    "\n",
    "# Create an instance of random_num_gen with new_list as the input\n",
    "random_num_gen(new_list)\n",
    "\n",
    "# Iterate over the generator and print random numbers for each item in new_list\n",
    "for item in new_list:\n",
    "    print(next(random_num_gen(new_list)))"
   ]
  },
  {
   "cell_type": "code",
   "execution_count": 398,
   "metadata": {},
   "outputs": [
    {
     "name": "stdout",
     "output_type": "stream",
     "text": [
      "Random number from new_list is 4\n",
      "Random number from new_list is 5\n",
      "Random number from new_list is 3\n",
      "Random number from new_list is 4\n",
      "Random number from new_list is 3\n",
      "Random number from new_list is 3\n",
      "Random number from new_list is 5\n",
      "Random number from new_list is 1\n",
      "Random number from new_list is 4\n"
     ]
    }
   ],
   "source": [
    "import random\n",
    "\n",
    "def random_num_gen(f):\n",
    "    \"\"\"\n",
    "    Generate random numbers from 0 to 1 indefinitely.\n",
    "    \n",
    "    Parameters:\n",
    "        input_list (list): The list to be utilized.\n",
    "        \n",
    "    Yields:\n",
    "        float: Random numbers between 0 and 1.\n",
    "    \"\"\"\n",
    "    while True:\n",
    "        yield random.choice(x)\n",
    "\n",
    "# Example usage of random_num_gen with the input list\n",
    "new_list = [1, 2, 3, 4, 5, 6, 7, 11, 45]\n",
    "\n",
    "# Create an instance of random_num_gen with new_list as the input\n",
    "random_generator = random_num_gen(new_list)\n",
    "\n",
    "# Iterate over the generator and print random numbers for each item in new_list\n",
    "for item in new_list:\n",
    "    random_number = next(random_generator)\n",
    "    print(f\"Random number from new_list is {random_number}\")"
   ]
  },
  {
   "cell_type": "code",
   "execution_count": 399,
   "metadata": {},
   "outputs": [
    {
     "name": "stdout",
     "output_type": "stream",
     "text": [
      "Random number 1: 3\n",
      "Random number 2: 3\n",
      "Random number 3: 5\n",
      "Random number 4: 2\n",
      "Random number 5: 2\n",
      "Random number 6: 5\n",
      "Random number 7: 3\n",
      "Random number 8: 4\n",
      "Random number 9: 3\n"
     ]
    }
   ],
   "source": [
    "import random\n",
    "\n",
    "def random_num_gen(z):\n",
    "    \"\"\"\n",
    "    Generate random numbers from 0 to 1 indefinitely.\n",
    "    \n",
    "    Parameters:\n",
    "        input_list (list): The list to be utilized.\n",
    "        \n",
    "    Yields:\n",
    "        float: Random numbers between 0 and 1.\n",
    "    \"\"\"\n",
    "    while True:\n",
    "        yield random.choice(x)\n",
    "\n",
    "# Example usage of random_num_gen with the input list\n",
    "new_list = [1, 2, 3, 4, 5, 6, 7, 11, 45]\n",
    "\n",
    "# Create an instance of random_num_gen with new_list as the input\n",
    "random_num_gen(new_list)\n",
    "\n",
    "# Iterate over the generator and print random numbers for each item in new_list\n",
    "for i, item in enumerate(new_list, 1):\n",
    "    next(random_num_gen(new_list))\n",
    "    print(f\"Random number {i}: {next(random_num_gen(new_list))}\")"
   ]
  },
  {
   "cell_type": "code",
   "execution_count": null,
   "metadata": {},
   "outputs": [],
   "source": [
    "import random\n",
    "\n",
    "def random_num_gen(x):\n",
    "    \"\"\"\n",
    "    Generate random numbers from 0 to 1 indefinitely.\n",
    "    \n",
    "    Parameters:\n",
    "        input_list (list): The list to be utilized.\n",
    "        \n",
    "    Yields:\n",
    "        float: Random numbers between 0 and 1.\n",
    "    \"\"\"\n",
    "    while True:\n",
    "        yield random.random()\n",
    "\n",
    "# Example usage of random_num_gen with the input list\n",
    "new_list = [1, 2, 3, 4, 5, 6, 7, 11, 45]\n",
    "\n",
    "# Create an instance of random_num_gen with new_list as the input\n",
    "# a variable random_generator has been introduced\n",
    "random_generator = random_num_gen(new_list)\n",
    "\n",
    "# Iterate over the generator and print random numbers for each item in new_list\n",
    "# a variable random_number has been introduced\n",
    "for i, item in enumerate(new_list, 1):\n",
    "    random_number = next(random_generator)\n",
    "    print(f\"Random number for item {i}: {random_number}\")"
   ]
  },
  {
   "cell_type": "code",
   "execution_count": 483,
   "metadata": {},
   "outputs": [
    {
     "name": "stdout",
     "output_type": "stream",
     "text": [
      "0\n",
      "3\n",
      "6\n",
      "9\n"
     ]
    }
   ],
   "source": [
    "# 3. Multiples of Three\n",
    "# Create a generator that takes in two numbers and yields all multiples of 3 between the two of them\n",
    "\n",
    "\n",
    "def multi_of_3gen(x, y):\n",
    "    for num in range(x, y):\n",
    "        if num % 3 == 0:\n",
    "            yield num\n",
    "for multi_of_3 in multi_of_3gen(0, 10):\n",
    "    print(multi_of_3)"
   ]
  },
  {
   "cell_type": "code",
   "execution_count": 530,
   "metadata": {},
   "outputs": [
    {
     "name": "stdout",
     "output_type": "stream",
     "text": [
      "21\n",
      "------------\n",
      "21\n",
      "24\n",
      "------------\n",
      "24\n",
      "27\n",
      "------------\n",
      "27\n"
     ]
    }
   ],
   "source": [
    "def multiples_of_three(x, y):\n",
    "    for num in range(20, 30):\n",
    "        if num % 3 == 0:\n",
    "            yield num\n",
    "gen_3 = multiples_of_three(20, 30)\n",
    "for i in multiples_of_three(20, 30):\n",
    "    ''' The for key way makes it possible to iterate over the item and print the consecutive output\n",
    "    as long as a variable i.e gen_3 is introduced the use of the next function is then made possible \n",
    "    else the print function can be used to print i to acieve similar output without using next'''\n",
    "    # print(i)\n",
    "    print(\"------------\")\n",
    "    print(next(gen_3))\n",
    "    \n",
    "   "
   ]
  },
  {
   "cell_type": "code",
   "execution_count": 528,
   "metadata": {},
   "outputs": [
    {
     "name": "stdout",
     "output_type": "stream",
     "text": [
      "12\n"
     ]
    }
   ],
   "source": [
    "def multiples_of_three(start, end):\n",
    "    for num in range(start, end):\n",
    "        if num % 3 == 0:\n",
    "            yield num\n",
    "\n",
    "generator = multiples_of_three(10, 25) # this variable serves a storage for outputs. If multiples_of_three(10, 25)is call directly output will be the same.\n",
    "\n",
    "# Retrieve the multiples using next()\n",
    "print(next(generator))  # Output: 12\n",
    "#print(next(generator))  # Output: 15\n",
    "#print(next(generator))  # Output: 18\n",
    "#print(next(generator))  # Output: 21\n",
    "#print(next(generator))  # Output: 24\n",
    "\n"
   ]
  },
  {
   "cell_type": "code",
   "execution_count": 512,
   "metadata": {},
   "outputs": [
    {
     "name": "stdout",
     "output_type": "stream",
     "text": [
      "12\n",
      "12\n",
      "12\n",
      "12\n",
      "12\n"
     ]
    }
   ],
   "source": [
    "def multiples_of_3gen(start, end):\n",
    "    for num in range(start, end):\n",
    "        if num % 3 == 0:\n",
    "            yield num\n",
    "\n",
    "generator = multiples_of_3gen(10, 25) # this variable serves a storage for outputs. If multiples_of_three(10, 25)is call directly output will be the same.\n",
    "\n",
    "# Retrieve the multiples using next()\n",
    "print(next(multiples_of_3gen(10, 25)))  # Output: 12\n",
    "print(next(multiples_of_3gen(10, 25)))  # Output: 15\n",
    "print(next(multiples_of_3gen(10, 25)))  # Output: 18\n",
    "print(next(multiples_of_3gen(10, 25)))  # Output: 21\n",
    "print(next(multiples_of_3gen(10, 25)))  # Output: 24\n"
   ]
  },
  {
   "cell_type": "code",
   "execution_count": 513,
   "metadata": {},
   "outputs": [
    {
     "name": "stdout",
     "output_type": "stream",
     "text": [
      "12\n",
      "15\n",
      "18\n",
      "21\n",
      "24\n"
     ]
    }
   ],
   "source": [
    "# Alternatively, iterate over the generator\n",
    "for multiple in multiples_of_3gen(10, 25):\n",
    "    print(multiple)"
   ]
  },
  {
   "cell_type": "code",
   "execution_count": null,
   "metadata": {},
   "outputs": [],
   "source": [
    "# 4. Generator that Squares Numbers by yield method\n",
    "def num_square_gen():\n",
    "    \"\"\"\n",
    "    Generator that yields the square of every even number or multiple of 3 up to 100.\n",
    "    \"\"\"\n",
    "    for i in range(101):\n",
    "        if i % 2 == 0 or i % 3 == 0:\n",
    "            yield i ** 2\n",
    "for x in num_square_gen():\n",
    "    print(x)"
   ]
  },
  {
   "cell_type": "code",
   "execution_count": 533,
   "metadata": {},
   "outputs": [
    {
     "name": "stdout",
     "output_type": "stream",
     "text": [
      "[0, 4, 9, 16, 36, 64, 81, 100, 144, 196, 225, 256, 324, 400, 441, 484, 576, 676, 729, 784, 900, 1024, 1089, 1156, 1296, 1444, 1521, 1600, 1764, 1936, 2025, 2116, 2304, 2500, 2601, 2704, 2916, 3136, 3249, 3364, 3600, 3844, 3969, 4096, 4356, 4624, 4761, 4900, 5184, 5476, 5625, 5776, 6084, 6400, 6561, 6724, 7056, 7396, 7569, 7744, 8100, 8464, 8649, 8836, 9216, 9604, 9801]\n"
     ]
    }
   ],
   "source": [
    "# 4. Generator that Squares Numbers by generator comprehension\n",
    "numb_square = [x ** 2 for x in range(101) if x % 2 == 0 or x % 3 == 0] # generator comprehension\n",
    "print(numb_square)\n",
    "    "
   ]
  },
  {
   "cell_type": "code",
   "execution_count": null,
   "metadata": {},
   "outputs": [],
   "source": [
    "# 5. Yes/No\n",
    "# Using 2 yield statements, create a generator which alternatively yields yes and no\n",
    "def alt_ans():\n",
    "    while True:\n",
    "        print('yes')\n",
    "        yield \"statement 1\"\n",
    "        print('No')\n",
    "        yield \"statement 2\"\n",
    "answers = alt_ans()\n",
    "for i in answers:\n",
    "    print(i)"
   ]
  },
  {
   "cell_type": "code",
   "execution_count": null,
   "metadata": {},
   "outputs": [],
   "source": [
    "def alt_yes_no():\n",
    "    while True:\n",
    "        yield 'yes'\n",
    "        yield 'no'\n",
    "ans = alt_yes_no()\n",
    "for i in ans:\n",
    "    print(i)        "
   ]
  },
  {
   "cell_type": "code",
   "execution_count": 555,
   "metadata": {},
   "outputs": [
    {
     "name": "stdout",
     "output_type": "stream",
     "text": [
      "yes\n",
      "no\n",
      "yes\n",
      "no\n",
      "yes\n",
      "no\n",
      "yes\n",
      "no\n",
      "yes\n",
      "no\n"
     ]
    }
   ],
   "source": [
    "def alt_yes_no():\n",
    "    while True:\n",
    "        yield 'yes'\n",
    "        yield 'no'\n",
    "ans = alt_yes_no()\n",
    "for i in range(10):\n",
    "    print(next(ans))"
   ]
  },
  {
   "cell_type": "code",
   "execution_count": 610,
   "metadata": {},
   "outputs": [
    {
     "name": "stdout",
     "output_type": "stream",
     "text": [
      "0\n",
      "1\n",
      "10\n",
      "11\n",
      "100\n",
      "101\n",
      "110\n",
      "111\n",
      "1000\n",
      "1001\n",
      "1010\n",
      "1011\n",
      "1100\n",
      "1101\n",
      "1110\n",
      "1111\n",
      "10000\n",
      "10001\n",
      "10010\n",
      "10011\n",
      "10100\n",
      "10101\n",
      "10110\n",
      "10111\n",
      "11000\n",
      "11001\n",
      "11010\n",
      "11011\n",
      "11100\n",
      "11101\n",
      "11110\n",
      "11111\n",
      "100000\n",
      "100001\n",
      "100010\n",
      "100011\n",
      "100100\n",
      "100101\n",
      "100110\n",
      "100111\n",
      "101000\n",
      "101001\n",
      "101010\n",
      "101011\n",
      "101100\n",
      "101101\n",
      "101110\n",
      "101111\n",
      "110000\n",
      "110001\n",
      "110010\n",
      "110011\n",
      "110100\n",
      "110101\n",
      "110110\n",
      "110111\n",
      "111000\n",
      "111001\n",
      "111010\n",
      "111011\n",
      "111100\n",
      "111101\n",
      "111110\n",
      "111111\n",
      "1000000\n",
      "1000001\n",
      "1000010\n",
      "1000011\n",
      "1000100\n",
      "1000101\n",
      "1000110\n",
      "1000111\n",
      "1001000\n",
      "1001001\n",
      "1001010\n",
      "1001011\n",
      "1001100\n",
      "1001101\n",
      "1001110\n",
      "1001111\n",
      "1010000\n",
      "1010001\n",
      "1010010\n",
      "1010011\n",
      "1010100\n",
      "1010101\n",
      "1010110\n",
      "1010111\n",
      "1011000\n",
      "1011001\n",
      "1011010\n",
      "1011011\n",
      "1011100\n",
      "1011101\n",
      "1011110\n",
      "1011111\n",
      "1100000\n",
      "1100001\n",
      "1100010\n",
      "1100011\n",
      "1100100\n",
      "1100101\n",
      "1100110\n",
      "1100111\n",
      "1101000\n",
      "1101001\n",
      "1101010\n",
      "1101011\n",
      "1101100\n",
      "1101101\n",
      "1101110\n",
      "1101111\n",
      "1110000\n",
      "1110001\n",
      "1110010\n",
      "1110011\n",
      "1110100\n",
      "1110101\n",
      "1110110\n",
      "1110111\n",
      "1111000\n",
      "1111001\n",
      "1111010\n",
      "1111011\n",
      "1111100\n",
      "1111101\n",
      "1111110\n",
      "1111111\n",
      "10000000\n",
      "10000001\n",
      "10000010\n",
      "10000011\n",
      "10000100\n",
      "10000101\n",
      "10000110\n",
      "10000111\n",
      "10001000\n",
      "10001001\n",
      "10001010\n",
      "10001011\n",
      "10001100\n",
      "10001101\n",
      "10001110\n",
      "10001111\n",
      "10010000\n",
      "10010001\n",
      "10010010\n",
      "10010011\n",
      "10010100\n",
      "10010101\n",
      "10010110\n",
      "10010111\n",
      "10011000\n",
      "10011001\n",
      "10011010\n",
      "10011011\n",
      "10011100\n",
      "10011101\n",
      "10011110\n",
      "10011111\n",
      "10100000\n",
      "10100001\n",
      "10100010\n",
      "10100011\n",
      "10100100\n",
      "10100101\n",
      "10100110\n",
      "10100111\n",
      "10101000\n",
      "10101001\n",
      "10101010\n",
      "10101011\n",
      "10101100\n",
      "10101101\n",
      "10101110\n",
      "10101111\n",
      "10110000\n",
      "10110001\n",
      "10110010\n",
      "10110011\n",
      "10110100\n",
      "10110101\n",
      "10110110\n",
      "10110111\n",
      "10111000\n",
      "10111001\n",
      "10111010\n",
      "10111011\n",
      "10111100\n",
      "10111101\n",
      "10111110\n",
      "10111111\n",
      "11000000\n",
      "11000001\n",
      "11000010\n",
      "11000011\n",
      "11000100\n",
      "11000101\n",
      "11000110\n",
      "11000111\n",
      "11001000\n",
      "11001001\n",
      "11001010\n",
      "11001011\n",
      "11001100\n",
      "11001101\n",
      "11001110\n",
      "11001111\n",
      "11010000\n",
      "11010001\n",
      "11010010\n",
      "11010011\n",
      "11010100\n",
      "11010101\n",
      "11010110\n",
      "11010111\n",
      "11011000\n",
      "11011001\n",
      "11011010\n",
      "11011011\n",
      "11011100\n",
      "11011101\n",
      "11011110\n",
      "11011111\n",
      "11100000\n",
      "11100001\n",
      "11100010\n",
      "11100011\n",
      "11100100\n",
      "11100101\n",
      "11100110\n",
      "11100111\n",
      "11101000\n",
      "11101001\n",
      "11101010\n",
      "11101011\n",
      "11101100\n",
      "11101101\n",
      "11101110\n",
      "11101111\n",
      "11110000\n",
      "11110001\n",
      "11110010\n",
      "11110011\n",
      "11110100\n",
      "11110101\n",
      "11110110\n",
      "11110111\n",
      "11111000\n",
      "11111001\n",
      "11111010\n",
      "11111011\n",
      "11111100\n",
      "11111101\n",
      "11111110\n",
      "11111111\n"
     ]
    }
   ],
   "source": [
    "def base_10():\n",
    "    for i in range(256):\n",
    "        yield (bin(i)[2:])\n",
    "dec = base_10()            \n",
    "for x in base_10():\n",
    "    print(next(dec))"
   ]
  },
  {
   "attachments": {},
   "cell_type": "markdown",
   "metadata": {},
   "source": [
    "### zfill"
   ]
  },
  {
   "cell_type": "code",
   "execution_count": null,
   "metadata": {},
   "outputs": [],
   "source": [
    "def base_10():\n",
    "    for i in range(256):\n",
    "        yield (bin(i)[2:].zfill(8))\n",
    "dec = base_10()            \n",
    "for x in base_10():\n",
    "    print(next(dec))"
   ]
  },
  {
   "cell_type": "code",
   "execution_count": 656,
   "metadata": {},
   "outputs": [
    {
     "name": "stdout",
     "output_type": "stream",
     "text": [
      "(0, '00000000')\n",
      "(1, '00000001')\n",
      "(2, '00000010')\n",
      "(3, '00000011')\n",
      "(4, '00000100')\n",
      "(5, '00000101')\n",
      "(6, '00000110')\n",
      "(7, '00000111')\n",
      "(8, '00001000')\n",
      "(9, '00001001')\n",
      "(10, '00001010')\n",
      "(11, '00001011')\n",
      "(12, '00001100')\n",
      "(13, '00001101')\n",
      "(14, '00001110')\n",
      "(15, '00001111')\n",
      "(16, '00010000')\n",
      "(17, '00010001')\n",
      "(18, '00010010')\n",
      "(19, '00010011')\n",
      "(20, '00010100')\n",
      "(21, '00010101')\n",
      "(22, '00010110')\n",
      "(23, '00010111')\n",
      "(24, '00011000')\n",
      "(25, '00011001')\n",
      "(26, '00011010')\n",
      "(27, '00011011')\n",
      "(28, '00011100')\n",
      "(29, '00011101')\n",
      "(30, '00011110')\n",
      "(31, '00011111')\n",
      "(32, '00100000')\n",
      "(33, '00100001')\n",
      "(34, '00100010')\n",
      "(35, '00100011')\n",
      "(36, '00100100')\n",
      "(37, '00100101')\n",
      "(38, '00100110')\n",
      "(39, '00100111')\n",
      "(40, '00101000')\n",
      "(41, '00101001')\n",
      "(42, '00101010')\n",
      "(43, '00101011')\n",
      "(44, '00101100')\n",
      "(45, '00101101')\n",
      "(46, '00101110')\n",
      "(47, '00101111')\n",
      "(48, '00110000')\n",
      "(49, '00110001')\n",
      "(50, '00110010')\n",
      "(51, '00110011')\n",
      "(52, '00110100')\n",
      "(53, '00110101')\n",
      "(54, '00110110')\n",
      "(55, '00110111')\n",
      "(56, '00111000')\n",
      "(57, '00111001')\n",
      "(58, '00111010')\n",
      "(59, '00111011')\n",
      "(60, '00111100')\n",
      "(61, '00111101')\n",
      "(62, '00111110')\n",
      "(63, '00111111')\n",
      "(64, '01000000')\n",
      "(65, '01000001')\n",
      "(66, '01000010')\n",
      "(67, '01000011')\n",
      "(68, '01000100')\n",
      "(69, '01000101')\n",
      "(70, '01000110')\n",
      "(71, '01000111')\n",
      "(72, '01001000')\n",
      "(73, '01001001')\n",
      "(74, '01001010')\n",
      "(75, '01001011')\n",
      "(76, '01001100')\n",
      "(77, '01001101')\n",
      "(78, '01001110')\n",
      "(79, '01001111')\n",
      "(80, '01010000')\n",
      "(81, '01010001')\n",
      "(82, '01010010')\n",
      "(83, '01010011')\n",
      "(84, '01010100')\n",
      "(85, '01010101')\n",
      "(86, '01010110')\n",
      "(87, '01010111')\n",
      "(88, '01011000')\n",
      "(89, '01011001')\n",
      "(90, '01011010')\n",
      "(91, '01011011')\n",
      "(92, '01011100')\n",
      "(93, '01011101')\n",
      "(94, '01011110')\n",
      "(95, '01011111')\n",
      "(96, '01100000')\n",
      "(97, '01100001')\n",
      "(98, '01100010')\n",
      "(99, '01100011')\n",
      "(100, '01100100')\n",
      "(101, '01100101')\n",
      "(102, '01100110')\n",
      "(103, '01100111')\n",
      "(104, '01101000')\n",
      "(105, '01101001')\n",
      "(106, '01101010')\n",
      "(107, '01101011')\n",
      "(108, '01101100')\n",
      "(109, '01101101')\n",
      "(110, '01101110')\n",
      "(111, '01101111')\n",
      "(112, '01110000')\n",
      "(113, '01110001')\n",
      "(114, '01110010')\n",
      "(115, '01110011')\n",
      "(116, '01110100')\n",
      "(117, '01110101')\n",
      "(118, '01110110')\n",
      "(119, '01110111')\n",
      "(120, '01111000')\n",
      "(121, '01111001')\n",
      "(122, '01111010')\n",
      "(123, '01111011')\n",
      "(124, '01111100')\n",
      "(125, '01111101')\n",
      "(126, '01111110')\n",
      "(127, '01111111')\n",
      "(128, '10000000')\n",
      "(129, '10000001')\n",
      "(130, '10000010')\n",
      "(131, '10000011')\n",
      "(132, '10000100')\n",
      "(133, '10000101')\n",
      "(134, '10000110')\n",
      "(135, '10000111')\n",
      "(136, '10001000')\n",
      "(137, '10001001')\n",
      "(138, '10001010')\n",
      "(139, '10001011')\n",
      "(140, '10001100')\n",
      "(141, '10001101')\n",
      "(142, '10001110')\n",
      "(143, '10001111')\n",
      "(144, '10010000')\n",
      "(145, '10010001')\n",
      "(146, '10010010')\n",
      "(147, '10010011')\n",
      "(148, '10010100')\n",
      "(149, '10010101')\n",
      "(150, '10010110')\n",
      "(151, '10010111')\n",
      "(152, '10011000')\n",
      "(153, '10011001')\n",
      "(154, '10011010')\n",
      "(155, '10011011')\n",
      "(156, '10011100')\n",
      "(157, '10011101')\n",
      "(158, '10011110')\n",
      "(159, '10011111')\n",
      "(160, '10100000')\n",
      "(161, '10100001')\n",
      "(162, '10100010')\n",
      "(163, '10100011')\n",
      "(164, '10100100')\n",
      "(165, '10100101')\n",
      "(166, '10100110')\n",
      "(167, '10100111')\n",
      "(168, '10101000')\n",
      "(169, '10101001')\n",
      "(170, '10101010')\n",
      "(171, '10101011')\n",
      "(172, '10101100')\n",
      "(173, '10101101')\n",
      "(174, '10101110')\n",
      "(175, '10101111')\n",
      "(176, '10110000')\n",
      "(177, '10110001')\n",
      "(178, '10110010')\n",
      "(179, '10110011')\n",
      "(180, '10110100')\n",
      "(181, '10110101')\n",
      "(182, '10110110')\n",
      "(183, '10110111')\n",
      "(184, '10111000')\n",
      "(185, '10111001')\n",
      "(186, '10111010')\n",
      "(187, '10111011')\n",
      "(188, '10111100')\n",
      "(189, '10111101')\n",
      "(190, '10111110')\n",
      "(191, '10111111')\n",
      "(192, '11000000')\n",
      "(193, '11000001')\n",
      "(194, '11000010')\n",
      "(195, '11000011')\n",
      "(196, '11000100')\n",
      "(197, '11000101')\n",
      "(198, '11000110')\n",
      "(199, '11000111')\n",
      "(200, '11001000')\n",
      "(201, '11001001')\n",
      "(202, '11001010')\n",
      "(203, '11001011')\n",
      "(204, '11001100')\n",
      "(205, '11001101')\n",
      "(206, '11001110')\n",
      "(207, '11001111')\n",
      "(208, '11010000')\n",
      "(209, '11010001')\n",
      "(210, '11010010')\n",
      "(211, '11010011')\n",
      "(212, '11010100')\n",
      "(213, '11010101')\n",
      "(214, '11010110')\n",
      "(215, '11010111')\n",
      "(216, '11011000')\n",
      "(217, '11011001')\n",
      "(218, '11011010')\n",
      "(219, '11011011')\n",
      "(220, '11011100')\n",
      "(221, '11011101')\n",
      "(222, '11011110')\n",
      "(223, '11011111')\n",
      "(224, '11100000')\n",
      "(225, '11100001')\n",
      "(226, '11100010')\n",
      "(227, '11100011')\n",
      "(228, '11100100')\n",
      "(229, '11100101')\n",
      "(230, '11100110')\n",
      "(231, '11100111')\n",
      "(232, '11101000')\n",
      "(233, '11101001')\n",
      "(234, '11101010')\n",
      "(235, '11101011')\n",
      "(236, '11101100')\n",
      "(237, '11101101')\n",
      "(238, '11101110')\n",
      "(239, '11101111')\n",
      "(240, '11110000')\n",
      "(241, '11110001')\n",
      "(242, '11110010')\n",
      "(243, '11110011')\n",
      "(244, '11110100')\n",
      "(245, '11110101')\n",
      "(246, '11110110')\n",
      "(247, '11110111')\n",
      "(248, '11111000')\n",
      "(249, '11111001')\n",
      "(250, '11111010')\n",
      "(251, '11111011')\n",
      "(252, '11111100')\n",
      "(253, '11111101')\n",
      "(254, '11111110')\n",
      "(255, '11111111')\n"
     ]
    }
   ],
   "source": [
    "# 6. Byte Generator\n",
    "# Create a loop which iterates through a generator you define that generates incrementing binary bytes \n",
    "# (8 digit numbers containing only ones and zeros) up to 256\n",
    "\n",
    "def base_10():\n",
    "    for i in range(500):\n",
    "        if len((bin(i)[2:]).zfill(8)) == 8: # the if statement limits the output to 8 xters respective of the range being > 256\n",
    "            yield (bin(i)[2:]).zfill(8)\n",
    "dec = (base_10())            \n",
    "for x in enumerate (dec):\n",
    "    print(x) \n",
    "    # why do the answers appear as a string?\n",
    "    # the answers appear as strings because the binary numbers generated by base_10() are represented as strings. \n",
    "    # This is because the bin() function in Python returns the binary representation of a number as a string."
   ]
  },
  {
   "cell_type": "code",
   "execution_count": 657,
   "metadata": {},
   "outputs": [
    {
     "name": "stdout",
     "output_type": "stream",
     "text": [
      "0 00000000\n",
      "1 00000001\n",
      "2 00000010\n",
      "3 00000011\n",
      "4 00000100\n",
      "5 00000101\n",
      "6 00000110\n",
      "7 00000111\n",
      "8 00001000\n",
      "9 00001001\n",
      "10 00001010\n",
      "11 00001011\n",
      "12 00001100\n",
      "13 00001101\n",
      "14 00001110\n",
      "15 00001111\n",
      "16 00010000\n",
      "17 00010001\n",
      "18 00010010\n",
      "19 00010011\n",
      "20 00010100\n",
      "21 00010101\n",
      "22 00010110\n",
      "23 00010111\n",
      "24 00011000\n",
      "25 00011001\n",
      "26 00011010\n",
      "27 00011011\n",
      "28 00011100\n",
      "29 00011101\n",
      "30 00011110\n",
      "31 00011111\n",
      "32 00100000\n",
      "33 00100001\n",
      "34 00100010\n",
      "35 00100011\n",
      "36 00100100\n",
      "37 00100101\n",
      "38 00100110\n",
      "39 00100111\n",
      "40 00101000\n",
      "41 00101001\n",
      "42 00101010\n",
      "43 00101011\n",
      "44 00101100\n",
      "45 00101101\n",
      "46 00101110\n",
      "47 00101111\n",
      "48 00110000\n",
      "49 00110001\n",
      "50 00110010\n",
      "51 00110011\n",
      "52 00110100\n",
      "53 00110101\n",
      "54 00110110\n",
      "55 00110111\n",
      "56 00111000\n",
      "57 00111001\n",
      "58 00111010\n",
      "59 00111011\n",
      "60 00111100\n",
      "61 00111101\n",
      "62 00111110\n",
      "63 00111111\n",
      "64 01000000\n",
      "65 01000001\n",
      "66 01000010\n",
      "67 01000011\n",
      "68 01000100\n",
      "69 01000101\n",
      "70 01000110\n",
      "71 01000111\n",
      "72 01001000\n",
      "73 01001001\n",
      "74 01001010\n",
      "75 01001011\n",
      "76 01001100\n",
      "77 01001101\n",
      "78 01001110\n",
      "79 01001111\n",
      "80 01010000\n",
      "81 01010001\n",
      "82 01010010\n",
      "83 01010011\n",
      "84 01010100\n",
      "85 01010101\n",
      "86 01010110\n",
      "87 01010111\n",
      "88 01011000\n",
      "89 01011001\n",
      "90 01011010\n",
      "91 01011011\n",
      "92 01011100\n",
      "93 01011101\n",
      "94 01011110\n",
      "95 01011111\n",
      "96 01100000\n",
      "97 01100001\n",
      "98 01100010\n",
      "99 01100011\n",
      "100 01100100\n",
      "101 01100101\n",
      "102 01100110\n",
      "103 01100111\n",
      "104 01101000\n",
      "105 01101001\n",
      "106 01101010\n",
      "107 01101011\n",
      "108 01101100\n",
      "109 01101101\n",
      "110 01101110\n",
      "111 01101111\n",
      "112 01110000\n",
      "113 01110001\n",
      "114 01110010\n",
      "115 01110011\n",
      "116 01110100\n",
      "117 01110101\n",
      "118 01110110\n",
      "119 01110111\n",
      "120 01111000\n",
      "121 01111001\n",
      "122 01111010\n",
      "123 01111011\n",
      "124 01111100\n",
      "125 01111101\n",
      "126 01111110\n",
      "127 01111111\n",
      "128 10000000\n",
      "129 10000001\n",
      "130 10000010\n",
      "131 10000011\n",
      "132 10000100\n",
      "133 10000101\n",
      "134 10000110\n",
      "135 10000111\n",
      "136 10001000\n",
      "137 10001001\n",
      "138 10001010\n",
      "139 10001011\n",
      "140 10001100\n",
      "141 10001101\n",
      "142 10001110\n",
      "143 10001111\n",
      "144 10010000\n",
      "145 10010001\n",
      "146 10010010\n",
      "147 10010011\n",
      "148 10010100\n",
      "149 10010101\n",
      "150 10010110\n",
      "151 10010111\n",
      "152 10011000\n",
      "153 10011001\n",
      "154 10011010\n",
      "155 10011011\n",
      "156 10011100\n",
      "157 10011101\n",
      "158 10011110\n",
      "159 10011111\n",
      "160 10100000\n",
      "161 10100001\n",
      "162 10100010\n",
      "163 10100011\n",
      "164 10100100\n",
      "165 10100101\n",
      "166 10100110\n",
      "167 10100111\n",
      "168 10101000\n",
      "169 10101001\n",
      "170 10101010\n",
      "171 10101011\n",
      "172 10101100\n",
      "173 10101101\n",
      "174 10101110\n",
      "175 10101111\n",
      "176 10110000\n",
      "177 10110001\n",
      "178 10110010\n",
      "179 10110011\n",
      "180 10110100\n",
      "181 10110101\n",
      "182 10110110\n",
      "183 10110111\n",
      "184 10111000\n",
      "185 10111001\n",
      "186 10111010\n",
      "187 10111011\n",
      "188 10111100\n",
      "189 10111101\n",
      "190 10111110\n",
      "191 10111111\n",
      "192 11000000\n",
      "193 11000001\n",
      "194 11000010\n",
      "195 11000011\n",
      "196 11000100\n",
      "197 11000101\n",
      "198 11000110\n",
      "199 11000111\n",
      "200 11001000\n",
      "201 11001001\n",
      "202 11001010\n",
      "203 11001011\n",
      "204 11001100\n",
      "205 11001101\n",
      "206 11001110\n",
      "207 11001111\n",
      "208 11010000\n",
      "209 11010001\n",
      "210 11010010\n",
      "211 11010011\n",
      "212 11010100\n",
      "213 11010101\n",
      "214 11010110\n",
      "215 11010111\n",
      "216 11011000\n",
      "217 11011001\n",
      "218 11011010\n",
      "219 11011011\n",
      "220 11011100\n",
      "221 11011101\n",
      "222 11011110\n",
      "223 11011111\n",
      "224 11100000\n",
      "225 11100001\n",
      "226 11100010\n",
      "227 11100011\n",
      "228 11100100\n",
      "229 11100101\n",
      "230 11100110\n",
      "231 11100111\n",
      "232 11101000\n",
      "233 11101001\n",
      "234 11101010\n",
      "235 11101011\n",
      "236 11101100\n",
      "237 11101101\n",
      "238 11101110\n",
      "239 11101111\n",
      "240 11110000\n",
      "241 11110001\n",
      "242 11110010\n",
      "243 11110011\n",
      "244 11110100\n",
      "245 11110101\n",
      "246 11110110\n",
      "247 11110111\n",
      "248 11111000\n",
      "249 11111001\n",
      "250 11111010\n",
      "251 11111011\n",
      "252 11111100\n",
      "253 11111101\n",
      "254 11111110\n",
      "255 11111111\n"
     ]
    }
   ],
   "source": [
    "def base_10():\n",
    "    \"\"\"\n",
    "    Generator that yields 8-digit binary numbers for decimal values from 0 to 499.\n",
    "\n",
    "    Yields:\n",
    "        str: 8-digit binary numbers represented as strings.\n",
    "    \"\"\"\n",
    "    for i in range(500):\n",
    "        # Check if the binary number has a width of 8 characters\n",
    "        if len((bin(i)[2:]).zfill(8)) == 8:\n",
    "            # Yield the 8-digit binary number\n",
    "            yield (bin(i)[2:]).zfill(8)\n",
    "\n",
    "# Create an instance of the base_10 generator\n",
    "bin_gen = base_10()\n",
    "\n",
    "# Iterate over the generator using enumerate\n",
    "for i, bin_num in enumerate(bin_gen):\n",
    "    print(i, bin_num)"
   ]
  },
  {
   "cell_type": "code",
   "execution_count": null,
   "metadata": {},
   "outputs": [],
   "source": [
    "# 7. Binary Generator Comprehension\n",
    "# Create an generator comprehension that infinitely generates ones or zeros randomly\n",
    "import random\n",
    "\n",
    "def random_binary_gen():\n",
    "    while True:\n",
    "        # usage with random integer number from 0 to 1\n",
    "        yield random.randint(0, 1)\n",
    "binary_gen = random_binary_gen()\n",
    "for i in binary_gen:\n",
    "    print(next(binary_gen))\n",
    "    #print(i)\n",
    "# what is the difference between  print(i) and print(next(binary_gen)) as both print the same result?"
   ]
  },
  {
   "cell_type": "code",
   "execution_count": 778,
   "metadata": {},
   "outputs": [
    {
     "name": "stdout",
     "output_type": "stream",
     "text": [
      "[0]\n"
     ]
    }
   ],
   "source": [
    "# This code works by clicking but does not contintiously output 0 and one on its own.\n",
    "import random\n",
    "\n",
    "rand_bin_gen = [random.randint(0, 1) for _ in range(0, 1)] \n",
    "print(rand_bin_gen)"
   ]
  },
  {
   "attachments": {},
   "cell_type": "markdown",
   "metadata": {},
   "source": [
    "### iter(int, 1)"
   ]
  },
  {
   "cell_type": "code",
   "execution_count": null,
   "metadata": {},
   "outputs": [],
   "source": [
    "# iter(int, 1) creates an infinite iterator by repeatedly calling the int() function (which always returns 0) \n",
    "# until it encounters the sentinel value 1\n",
    "rand_bin_gen = (random.randint(0, 1) for _ in iter(int, 1))\n",
    "while True:\n",
    "    print(next(rand_bin_gen))"
   ]
  },
  {
   "cell_type": "code",
   "execution_count": 803,
   "metadata": {},
   "outputs": [
    {
     "name": "stdout",
     "output_type": "stream",
     "text": [
      "0\n",
      "1\n",
      "0\n",
      "1\n",
      "1\n",
      "0\n",
      "0\n",
      "1\n",
      "0\n",
      "1\n"
     ]
    }
   ],
   "source": [
    "random_binary_gen = (random.randint(0, 1) for _ in iter(int, 1))\n",
    "for x in range(10): # The for loop iterates 10 times and prints each randomly generated value from the generator.\n",
    "    print(next(random_binary_gen))"
   ]
  },
  {
   "attachments": {},
   "cell_type": "markdown",
   "metadata": {},
   "source": [
    "> Password generator\n",
    "- Create a generator that takes in an integer as an input and returns random passwords with a length equal to the passed integer.\n",
    "- To make the password more robust, the characters should include uppercase letters, numbers and special characters.\n"
   ]
  },
  {
   "cell_type": "code",
   "execution_count": 92,
   "metadata": {},
   "outputs": [
    {
     "name": "stdout",
     "output_type": "stream",
     "text": [
      "/jnasKt{\n"
     ]
    }
   ],
   "source": [
    "import random\n",
    "\n",
    "char_1 = list(range(10))\n",
    "char_2 = [chr(x) for x in range(65, 91)]\n",
    "char_3 = [chr(x) for x in range(97, 123)]\n",
    "char_4 = list('!@#$%^&*()_-+=~`[]{}\\\\|;:\\'\",.<>/?')\n",
    "reference_list = char_1 + char_2 + char_3 + char_4\n",
    "\n",
    "\n",
    "def password_gen(length):\n",
    "    while True:\n",
    "        password = ''.join(random.choice(reference_list) for _ in range(length))   \n",
    "        yield password\n",
    "length = int(input(\"Enter the length of the password: \"))\n",
    "gen = password_gen(length)\n",
    "print(next(gen))\n",
    "\n"
   ]
  },
  {
   "cell_type": "code",
   "execution_count": 89,
   "metadata": {},
   "outputs": [
    {
     "ename": "TypeError",
     "evalue": "sequence item 2: expected str instance, int found",
     "output_type": "error",
     "traceback": [
      "\u001b[1;31m---------------------------------------------------------------------------\u001b[0m",
      "\u001b[1;31mTypeError\u001b[0m                                 Traceback (most recent call last)",
      "\u001b[1;32mc:\\Users\\User_Central\\Desktop\\AICORE_PROJECTS\\lambda_function.ipynb Cell 78\u001b[0m in \u001b[0;36m<cell line: 31>\u001b[1;34m()\u001b[0m\n\u001b[0;32m     <a href='vscode-notebook-cell:/c%3A/Users/User_Central/Desktop/AICORE_PROJECTS/lambda_function.ipynb#Y205sZmlsZQ%3D%3D?line=27'>28</a>\u001b[0m gen \u001b[39m=\u001b[39m password_gen(length)\n\u001b[0;32m     <a href='vscode-notebook-cell:/c%3A/Users/User_Central/Desktop/AICORE_PROJECTS/lambda_function.ipynb#Y205sZmlsZQ%3D%3D?line=29'>30</a>\u001b[0m \u001b[39m# Generate and print the next password from the generator\u001b[39;00m\n\u001b[1;32m---> <a href='vscode-notebook-cell:/c%3A/Users/User_Central/Desktop/AICORE_PROJECTS/lambda_function.ipynb#Y205sZmlsZQ%3D%3D?line=30'>31</a>\u001b[0m \u001b[39mprint\u001b[39m(\u001b[39mnext\u001b[39;49m(gen))\n",
      "\u001b[1;32mc:\\Users\\User_Central\\Desktop\\AICORE_PROJECTS\\lambda_function.ipynb Cell 78\u001b[0m in \u001b[0;36mpassword_gen\u001b[1;34m(length)\u001b[0m\n\u001b[0;32m     <a href='vscode-notebook-cell:/c%3A/Users/User_Central/Desktop/AICORE_PROJECTS/lambda_function.ipynb#Y205sZmlsZQ%3D%3D?line=10'>11</a>\u001b[0m \u001b[39m\"\"\"\u001b[39;00m\n\u001b[0;32m     <a href='vscode-notebook-cell:/c%3A/Users/User_Central/Desktop/AICORE_PROJECTS/lambda_function.ipynb#Y205sZmlsZQ%3D%3D?line=11'>12</a>\u001b[0m \u001b[39mGenerator function to generate random passwords.\u001b[39;00m\n\u001b[0;32m     <a href='vscode-notebook-cell:/c%3A/Users/User_Central/Desktop/AICORE_PROJECTS/lambda_function.ipynb#Y205sZmlsZQ%3D%3D?line=12'>13</a>\u001b[0m \n\u001b[1;32m   (...)\u001b[0m\n\u001b[0;32m     <a href='vscode-notebook-cell:/c%3A/Users/User_Central/Desktop/AICORE_PROJECTS/lambda_function.ipynb#Y205sZmlsZQ%3D%3D?line=17'>18</a>\u001b[0m \u001b[39m    str: Random password of the specified length.\u001b[39;00m\n\u001b[0;32m     <a href='vscode-notebook-cell:/c%3A/Users/User_Central/Desktop/AICORE_PROJECTS/lambda_function.ipynb#Y205sZmlsZQ%3D%3D?line=18'>19</a>\u001b[0m \u001b[39m\"\"\"\u001b[39;00m\n\u001b[0;32m     <a href='vscode-notebook-cell:/c%3A/Users/User_Central/Desktop/AICORE_PROJECTS/lambda_function.ipynb#Y205sZmlsZQ%3D%3D?line=19'>20</a>\u001b[0m \u001b[39mwhile\u001b[39;00m \u001b[39mTrue\u001b[39;00m:\n\u001b[1;32m---> <a href='vscode-notebook-cell:/c%3A/Users/User_Central/Desktop/AICORE_PROJECTS/lambda_function.ipynb#Y205sZmlsZQ%3D%3D?line=20'>21</a>\u001b[0m     password \u001b[39m=\u001b[39m \u001b[39m'\u001b[39;49m\u001b[39m'\u001b[39;49m\u001b[39m.\u001b[39;49mjoin(random\u001b[39m.\u001b[39;49mchoice(reference_list) \u001b[39mfor\u001b[39;49;00m _ \u001b[39min\u001b[39;49;00m \u001b[39mrange\u001b[39;49m(length))\n\u001b[0;32m     <a href='vscode-notebook-cell:/c%3A/Users/User_Central/Desktop/AICORE_PROJECTS/lambda_function.ipynb#Y205sZmlsZQ%3D%3D?line=21'>22</a>\u001b[0m     \u001b[39myield\u001b[39;00m password\n",
      "\u001b[1;31mTypeError\u001b[0m: sequence item 2: expected str instance, int found"
     ]
    }
   ],
   "source": [
    "import random\n",
    "\n",
    "# Define character sets for password generation\n",
    "char_1 = list(range(10))  # Digits 0-9\n",
    "char_2 = [chr(x) for x in range(65, 91)]  # Uppercase letters A-Z\n",
    "char_3 = [chr(x) for x in range(97, 123)]  # Lowercase letters a-z\n",
    "char_4 = list('!@#$%^&*()_-+=~`[]{}\\\\|;:\\'\",.<>/?')  # Special characters\n",
    "reference_list = char_1 + char_2 + char_3 + char_4    # concatenation of the list\n",
    "\n",
    "def password_gen(length):\n",
    "    \"\"\"\n",
    "    Generator function to generate random passwords.\n",
    "\n",
    "    Parameters:\n",
    "        length (int): The length of the password to generate.\n",
    "\n",
    "    Yields:\n",
    "        str: Random password of the specified length.\n",
    "    \"\"\"\n",
    "    while True:\n",
    "        password = ''.join(random.choice(reference_list) for _ in range(length))\n",
    "        yield password\n",
    "\n",
    "# Prompt user for password length\n",
    "length = int(input(\"Enter the length of the password: \"))\n",
    "\n",
    "# Create an instance of the password generator\n",
    "gen = password_gen(length)\n",
    "\n",
    "# Generate and print the next password from the generator\n",
    "print(next(gen))"
   ]
  },
  {
   "cell_type": "code",
   "execution_count": null,
   "metadata": {},
   "outputs": [],
   "source": [
    "import random\n",
    "\n",
    "# Define character sets for password generation\n",
    "char_1 = list(range(10))  # Digits 0-9\n",
    "char_2 = [chr(x) for x in range(65, 91)]  # Uppercase letters A-Z\n",
    "char_3 = [chr(x) for x in range(97, 123)]  # Lowercase letters a-z\n",
    "char_4 = list('!@#$%^&*()_-+=~`[]{}\\\\|;:\\'\",.<>/?')  # Special characters\n",
    "reference_list = char_1 + char_2 + char_3 + char_4    # concatenation of the list\n",
    "\n",
    "def password_gen(length):\n",
    "    \"\"\"\n",
    "    Generator function to generate random passwords.\n",
    "\n",
    "    Parameters:\n",
    "        length (int): The length of the password to generate.\n",
    "\n",
    "    Yields:\n",
    "        str: Random password of the specified length.\n",
    "    \"\"\"\n",
    "    while True:\n",
    "        password = ''.join(random.choice(reference_list) for _ in range(length))\n",
    "        yield password\n",
    "\n",
    "# Prompt user for password length\n",
    "while True:\n",
    "    length = int(input(\"Enter the length of the password (6 or more): \"))\n",
    "    if length >= 6:\n",
    "        break\n",
    "    else:\n",
    "        print(\"Invalid password length. Please enter a value of 6 or more.\")\n",
    "        break\n",
    "# Create an instance of the password generator\n",
    "gen = password_gen(length)\n",
    "\n",
    "# Generate and print the next password from the generator\n",
    "print(next(gen))\n",
    "'''\n",
    "The error encountered is due to the fact that the reference_list contains a \n",
    "mixture of integer and string values. In the line \n",
    "password = ''.join(random.choice(reference_list) for _ in range(length)), \n",
    "the random.choice function selects a random element from reference_list, \n",
    "which can be either an integer or a string. The error was probably triggered \n",
    "when an integer was to be included in the password as the error is intermittent.\n",
    "\n",
    "To resolve this issue, I had to convert the integer values in reference_list \n",
    "to strings so that they can be concatenated with other string elements. \n",
    "Here's an updated version of the code that converts the integer values to strings:\n",
    "'''\n",
    "\n"
   ]
  },
  {
   "cell_type": "code",
   "execution_count": 87,
   "metadata": {},
   "outputs": [
    {
     "name": "stdout",
     "output_type": "stream",
     "text": [
      "Invalid password length. Please enter a value of 6 or more.\n",
      "fW0\"l^7\n"
     ]
    }
   ],
   "source": [
    "'''\n",
    "In this modified code, I've added a list comprehension [str(x) for x in range(10)] \n",
    "to convert the integer values in char_1 to strings. This ensures that all elements in \n",
    "reference_list are strings, allowing them to be joined together to form a password.\n",
    "\n",
    "Now, you should be able to generate passwords without encountering the \n",
    "\"TypeError\" that occurred due to the mixture of integer and string values.\n",
    "'''\n",
    "import random\n",
    "\n",
    "# Define character sets for password generation\n",
    "char_1 = [str(x) for x in range(10)]  # Digits 0-9\n",
    "char_2 = [chr(x) for x in range(65, 91)]  # Uppercase letters A-Z\n",
    "char_3 = [chr(x) for x in range(97, 123)]  # Lowercase letters a-z\n",
    "char_4 = list('!@#$%^&*()_-+=~`[]{}\\\\|;:\\'\",.<>/?')  # Special characters\n",
    "reference_list = char_1 + char_2 + char_3 + char_4    # concatenation of the list\n",
    "\n",
    "def password_gen(length):\n",
    "    \"\"\"\n",
    "    Generator function to generate random passwords.\n",
    "\n",
    "    Parameters:\n",
    "        length (int): The length of the password to generate.\n",
    "\n",
    "    Yields:\n",
    "        str: Random password of the specified length.\n",
    "    \"\"\"\n",
    "    while True:\n",
    "        password = ''.join(random.choice(reference_list) for _ in range(length))\n",
    "        yield password\n",
    "\n",
    "# Prompt user for password length\n",
    "while True:\n",
    "    length = int(input(\"Enter the length of the password (6 or more): \"))\n",
    "    if length >= 6:\n",
    "        break\n",
    "    else:\n",
    "        print(\"Invalid password length. Please enter a value of 6 or more.\")\n",
    "\n",
    "# Create an instance of the password generator\n",
    "gen = password_gen(length)\n",
    "\n",
    "# Generate and print the next password from the generator\n",
    "print(next(gen))"
   ]
  },
  {
   "cell_type": "code",
   "execution_count": 94,
   "metadata": {},
   "outputs": [
    {
     "name": "stdout",
     "output_type": "stream",
     "text": [
      "5.>OptvGr[AnX\"'jw'2\\I@j\n"
     ]
    }
   ],
   "source": [
    "import random\n",
    "\n",
    "# Define character sets for password generation\n",
    "char_1 = [str(x) for x in range(10)]  # Digits 0-9\n",
    "char_2 = [chr(x) for x in range(65, 91)]  # Uppercase letters A-Z\n",
    "char_3 = [chr(x) for x in range(97, 123)]  # Lowercase letters a-z\n",
    "char_4 = list('!@#$%^&*()_-+=~`[]{}\\\\|;:\\'\",.<>/?')  # Special characters\n",
    "reference_list = char_1 + char_2 + char_3 + char_4    # concatenation of the list\n",
    "\n",
    "def password_gen(length):\n",
    "    \"\"\"\n",
    "    Generator function to generate random passwords.\n",
    "\n",
    "    Parameters:\n",
    "        length (int): The length of the password to generate.\n",
    "\n",
    "    Yields:\n",
    "        str: Random password of the specified length.\n",
    "    \"\"\"\n",
    "    while True:\n",
    "        password = ''.join(random.choice(reference_list) for _ in range(length))\n",
    "        yield password\n",
    "\n",
    "# Prompt user for password length\n",
    "while True:\n",
    "    try:\n",
    "        length = int(input(\"Enter the length of the password (6 or more): \"))\n",
    "        if length >= 6:\n",
    "            break\n",
    "        else:\n",
    "            print(\"Invalid password length. Please enter a value of 6 or more.\")\n",
    "    except ValueError:\n",
    "        print(\"Invalid input. Please enter a valid integer.\")\n",
    "\n",
    "# Create an instance of the password generator\n",
    "gen = password_gen(length)\n",
    "\n",
    "# Generate and print the next password from the generator\n",
    "try:\n",
    "    print(next(gen))\n",
    "except StopIteration:\n",
    "    print(\"An error occurred while generating the password.\")"
   ]
  },
  {
   "cell_type": "code",
   "execution_count": 8,
   "metadata": {},
   "outputs": [
    {
     "name": "stdout",
     "output_type": "stream",
     "text": [
      "G`Us^2\n"
     ]
    }
   ],
   "source": [
    "import random\n",
    "\n",
    "char_1 = [str(x) for x in range(10)]\n",
    "char_2 = [chr(x) for x in range(65, 91)]\n",
    "char_3 = [chr(x) for x in range(97, 123)]\n",
    "char_4 = list('!@#$%^&*()_-+=~`[]{}\\\\|;:\\'\",.<>/?')\n",
    "reference_list = char_1 + char_2 + char_3 + char_4\n",
    "\n",
    "\n",
    "def password_gen(length):\n",
    "    while True:\n",
    "        password = ''.join(random.choice(reference_list) for _ in range(length))\n",
    "        if (any(char.isdigit() for char in password) and\n",
    "            any(char.isupper() for char in password) and\n",
    "            any(char.islower() for char in password) and\n",
    "            any(char in char_4 for char in password) and\n",
    "            len(password) >= 6):  \n",
    "            yield password\n",
    "\n",
    "length = int(input(\"Enter the length of the password: \"))\n",
    "gen = password_gen(length)\n",
    "print(next(gen))"
   ]
  },
  {
   "cell_type": "code",
   "execution_count": 7,
   "metadata": {},
   "outputs": [
    {
     "name": "stdout",
     "output_type": "stream",
     "text": [
      "Invalid input. Please enter a valid integer.\n",
      "Invalid input. Please enter a valid integer.\n",
      "p4=~[}Br9\n"
     ]
    }
   ],
   "source": [
    "import random\n",
    "\n",
    "# Define character sets for password generation\n",
    "char_1 = [str(x) for x in range(10)]  # Digits 0-9\n",
    "char_2 = [chr(x) for x in range(65, 91)]  # Uppercase letters A-Z\n",
    "char_3 = [chr(x) for x in range(97, 123)]  # Lowercase letters a-z\n",
    "char_4 = list('!@#$%^&*()_-+=~`[]{}\\\\|;:\\'\",.<>/?')  # Special characters\n",
    "reference_list = char_1 + char_2 + char_3 + char_4    # concatenation of the list\n",
    "\n",
    "def password_gen(length):\n",
    "    \"\"\"\n",
    "    Generator function to generate random passwords.\n",
    "\n",
    "    Parameters:\n",
    "        length (int): The length of the password to generate.\n",
    "\n",
    "    Yields:\n",
    "        str: Random password of the specified length.\n",
    "    \"\"\"\n",
    "    while True:\n",
    "        password = ''.join(random.choice(reference_list) for _ in range(length))\n",
    "        yield password\n",
    "\n",
    "# Prompt user for password length\n",
    "while True:\n",
    "    try:\n",
    "        length = int(input(\"Enter the length of the password (6 or more): \"))\n",
    "        \n",
    "        if length >= 6:\n",
    "            break\n",
    "        else:\n",
    "            print(\"Invalid password length. Please enter a value of 6 or more.\")\n",
    "    except ValueError:\n",
    "        print(\"Invalid input. Please enter a valid integer.\")\n",
    "\n",
    "# Create an instance of the password generator\n",
    "gen = password_gen(length)\n",
    "\n",
    "# Generate and print the next password from the generator\n",
    "try:\n",
    "    password = next(gen)\n",
    "    while not (any(char.isdigit() for char in password) and\n",
    "               any(char.isupper() for char in password) and\n",
    "               any(char.islower() for char in password) and\n",
    "               any(char in char_4 for char in password)):\n",
    "        password = next(gen)\n",
    "    print(password)\n",
    "except StopIteration:\n",
    "    print(\"An error occurred while generating the password.\")"
   ]
  },
  {
   "cell_type": "code",
   "execution_count": null,
   "metadata": {},
   "outputs": [],
   "source": []
  }
 ],
 "metadata": {
  "kernelspec": {
   "display_name": "secondtest_env",
   "language": "python",
   "name": "python3"
  },
  "language_info": {
   "codemirror_mode": {
    "name": "ipython",
    "version": 3
   },
   "file_extension": ".py",
   "mimetype": "text/x-python",
   "name": "python",
   "nbconvert_exporter": "python",
   "pygments_lexer": "ipython3",
   "version": "3.10.6"
  },
  "orig_nbformat": 4
 },
 "nbformat": 4,
 "nbformat_minor": 2
}
