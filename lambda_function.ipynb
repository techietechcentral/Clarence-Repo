{
 "cells": [
  {
   "cell_type": "code",
   "execution_count": null,
   "metadata": {},
   "outputs": [],
   "source": [
    "# SYNTAX for a lambda function that takes in a number and returns that number squared\n",
    "func_lambda = lambda y: y ** 2\n",
    "x = func_lambda(3)\n",
    "print(x)"
   ]
  },
  {
   "cell_type": "code",
   "execution_count": 6,
   "metadata": {},
   "outputs": [
    {
     "name": "stdout",
     "output_type": "stream",
     "text": [
      "The square of 6 is 36\n"
     ]
    }
   ],
   "source": [
    "x = int(input(\"Enter Number: \"))\n",
    "num_square = lambda y: y ** 2 # usage\n",
    "output = num_square(x)\n",
    "print(f\"The square of\", x ,\"is\", output)"
   ]
  },
  {
   "cell_type": "code",
   "execution_count": 7,
   "metadata": {},
   "outputs": [
    {
     "name": "stdout",
     "output_type": "stream",
     "text": [
      "The cube of 3 is 27\n"
     ]
    }
   ],
   "source": [
    "# A lambda function that takes in a number and returns that number cubed\n",
    "x = int(input(\"Enter Number: \"))\n",
    "num_cube = lambda y: y ** 3 # usage\n",
    "output = num_cube(x)\n",
    "print(f\"The cube of\", x ,\"is\", output)"
   ]
  },
  {
   "cell_type": "code",
   "execution_count": 8,
   "metadata": {},
   "outputs": [
    {
     "name": "stdout",
     "output_type": "stream",
     "text": [
      "The sum of 2 and 4 is 6\n"
     ]
    }
   ],
   "source": [
    "# A lambda function that takes two numbers and returns the sum of those numbers\n",
    "a = int(input(\"Enter first Number: \"))\n",
    "b = int(input(\"Enter SecondNumber: \"))\n",
    "num_sum = lambda a , b: a + b # usage\n",
    "output = num_sum( a , b)\n",
    "print(f\"The sum of\", a ,\"and\", b ,\"is\", output)\n"
   ]
  },
  {
   "cell_type": "code",
   "execution_count": 9,
   "metadata": {},
   "outputs": [
    {
     "name": "stdout",
     "output_type": "stream",
     "text": [
      "The product of 3 and 6 is 18\n"
     ]
    }
   ],
   "source": [
    "# A lambda function that takes two numbers and returns the product of those numbers\n",
    "\n",
    "c = int(input(\"Enter first Number: \"))\n",
    "d = int(input(\"Enter SecondNumber: \"))\n",
    "num_product = lambda c , d: c * d # usage\n",
    "output = num_product( c , d)\n",
    "print(f\"The product of\", c ,\"and\", d ,\"is\", output)"
   ]
  },
  {
   "cell_type": "code",
   "execution_count": 14,
   "metadata": {},
   "outputs": [
    {
     "data": {
      "text/plain": [
       "[3, 5, 6, 7, 7, 9, 23, 54, 71, 71, 78]"
      ]
     },
     "execution_count": 14,
     "metadata": {},
     "output_type": "execute_result"
    }
   ],
   "source": [
    "[3, 78, 5, 71, 54, 7, 9, 23, 71, 6, 7]\n",
    "sorted([3, 78, 5, 71, 54, 7, 9, 23, 71, 6, 7])"
   ]
  },
  {
   "cell_type": "code",
   "execution_count": 10,
   "metadata": {},
   "outputs": [
    {
     "data": {
      "text/plain": [
       "[('Alice', 10), ('Bob', 20), ('Charlie', 30), ('David', 40), ('Eve', 50)]"
      ]
     },
     "execution_count": 10,
     "metadata": {},
     "output_type": "execute_result"
    }
   ],
   "source": [
    "# Create a list with 5 tuples, where each tuple contains a name and a number.\n",
    "\n",
    "my_list = [('Alice', 10), ('Bob', 20), ('Charlie', 30), ('David', 40), ('Eve', 50)]\n",
    "\n",
    "# Then, using the sort function, create a lambda function for each of the following bullet points:\n",
    "# Sort the list by the number in each tuple\n",
    "sorted(my_list, key=lambda x: x[1])\n",
    "\n",
    "\n",
    "# Sort the list by the name in each tuple\n",
    "# Sort the list by the length of the name in each tuple\n",
    "# Sort the list by the length of the name in each tuple, but in reverse order"
   ]
  }
 ],
 "metadata": {
  "kernelspec": {
   "display_name": "secondtest_env",
   "language": "python",
   "name": "python3"
  },
  "language_info": {
   "codemirror_mode": {
    "name": "ipython",
    "version": 3
   },
   "file_extension": ".py",
   "mimetype": "text/x-python",
   "name": "python",
   "nbconvert_exporter": "python",
   "pygments_lexer": "ipython3",
   "version": "3.10.6"
  },
  "orig_nbformat": 4
 },
 "nbformat": 4,
 "nbformat_minor": 2
}
