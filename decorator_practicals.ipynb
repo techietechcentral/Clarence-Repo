{
 "cells": [
  {
   "attachments": {},
   "cell_type": "markdown",
   "metadata": {},
   "source": [
    "#### 1. Start-End Decorator\n",
    "> Create a decorator that prints start and end at the start and end of a function call"
   ]
  },
  {
   "cell_type": "code",
   "execution_count": 1,
   "metadata": {},
   "outputs": [],
   "source": [
    "def print_start_end(func):\n",
    "    def wrapper(*args, **kwargs):\n",
    "        print(\"Start\")\n",
    "        result = func(*args, **kwargs)\n",
    "        print(\"End\")\n",
    "        return result\n",
    "    return wrapper"
   ]
  },
  {
   "cell_type": "code",
   "execution_count": 2,
   "metadata": {},
   "outputs": [],
   "source": [
    "def print_start_end(func):\n",
    "    \"\"\"\n",
    "    A decorator that prints \"Start\" before a function call and \"End\" after the function call.\n",
    "\n",
    "    Args:\n",
    "        func: The function being decorated.\n",
    "\n",
    "    Returns:\n",
    "        The decorated function.\n",
    "\n",
    "    Notes:\n",
    "        - This decorator can be applied to any function.\n",
    "        - It prints \"Start\" before executing the function and \"End\" after executing the function.\n",
    "    \"\"\"\n",
    "    def wrapper(*args, **kwargs):\n",
    "        print(\"Start\")\n",
    "        result = func(*args, **kwargs)\n",
    "        print(\"End\")\n",
    "        return result\n",
    "    return wrapper"
   ]
  },
  {
   "cell_type": "code",
   "execution_count": 3,
   "metadata": {},
   "outputs": [
    {
     "name": "stdout",
     "output_type": "stream",
     "text": [
      "Start\n",
      "Hello, Harry\n",
      "End\n"
     ]
    }
   ],
   "source": [
    "# usage\n",
    "@print_start_end   # @ decorator function employed\n",
    "def greet(name):\n",
    "    print(\"Hello, \" + name)\n",
    "\n",
    "greet(\"Harry\")\n",
    "# When greet function is called, it will automatically \n",
    "# print \"Start\" before executing the function and \"End\" after executing the function."
   ]
  },
  {
   "attachments": {},
   "cell_type": "markdown",
   "metadata": {},
   "source": [
    "#### 2. Timer Decorator\n",
    "> Create a decorator to time how long a function takes to run and print the duration\n"
   ]
  },
  {
   "cell_type": "code",
   "execution_count": 71,
   "metadata": {},
   "outputs": [
    {
     "name": "stdout",
     "output_type": "stream",
     "text": [
      "A B C D E F G H I J K L M N O P Q R S T U V W X Y Z  is our result and\n",
      "the Function 'print_ascii_alphabets' took 0.0 seconds to run.\n"
     ]
    }
   ],
   "source": [
    "import time\n",
    "\n",
    "def timer(func):\n",
    "    \"\"\"\n",
    "    A decorator that measures and prints the duration of a function call.\n",
    "\n",
    "    Args:\n",
    "        func: The function being decorated.\n",
    "\n",
    "    Returns:\n",
    "        The decorated function.\n",
    "    \"\"\"\n",
    "    def wrapper(*args, **kwargs):\n",
    "        start_time = time.time()  # Record the starting time\n",
    "        result = func(*args, **kwargs)  # Execute the function\n",
    "        end_time = time.time()  # Record the ending time\n",
    "        duration = end_time - start_time  # Calculate the duration\n",
    "        print(f\" is our result and\\nthe Function '{func.__name__}' took {round(duration, 8)} seconds to run.\")\n",
    "        return result\n",
    "    return wrapper\n",
    "# useage\n",
    "@timer\n",
    "def print_ascii_alphabets():\n",
    "    for i in range(65, 91):\n",
    "        print(chr(i), end=\" \")\n",
    "\n",
    "print_ascii_alphabets()"
   ]
  },
  {
   "cell_type": "code",
   "execution_count": 30,
   "metadata": {},
   "outputs": [
    {
     "name": "stdout",
     "output_type": "stream",
     "text": [
      "The function 'factorial' took 0.000000 seconds to run.\n",
      "The function 'factorial' took 0.000000 seconds to run.\n",
      "The function 'factorial' took 0.000000 seconds to run.\n",
      "The function 'factorial' took 0.000000 seconds to run.\n",
      "The function 'factorial' took 0.000000 seconds to run.\n",
      "The function 'factorial' took 0.000000 seconds to run.\n"
     ]
    },
    {
     "data": {
      "text/plain": [
       "120"
      ]
     },
     "execution_count": 30,
     "metadata": {},
     "output_type": "execute_result"
    }
   ],
   "source": [
    "import time\n",
    "\n",
    "def timer(func):\n",
    "    def wrapper(*args, **kwargs):\n",
    "        start_time = time.time()\n",
    "        result = func(*args, **kwargs)\n",
    "        end_time = time.time()\n",
    "        duration = end_time - start_time\n",
    "        print(f\"The function '{func.__name__}' took {duration:.6f} seconds to run.\")\n",
    "        return result\n",
    "    return wrapper\n",
    "\n",
    "@timer\n",
    "def factorial(n):\n",
    "    return 1 if n == 0 else n * factorial(n - 1)\n",
    "\n",
    "factorial(5)\n"
   ]
  },
  {
   "attachments": {},
   "cell_type": "markdown",
   "metadata": {},
   "source": [
    "- 1. The decorator is defined with the name timer, and it takes the \n",
    "function to be decorated, func, as an argument.\n",
    "- 2. Inside the timer decorator, a new function named wrapper is defined. \n",
    "This function will act as the wrapper around the original function.\n",
    "- 3. Within the wrapper function, the start_time is recorded using time.time(). \n",
    "This function returns the current time in seconds since the epoch\n",
    "(January 1, 1970, 00:00:00 UTC).\n",
    "- 4. The original function, func, is called using func(*args, **kwargs). \n",
    "This ensures that the original function is executed with any provided arguments \n",
    "and keyword arguments.\n",
    "- 5. After the function call, the end_time is recorded using time.time().\n",
    "The duration of the function call is calculated by subtracting start_time from end_time.\n",
    "- 6. The duration is then printed in seconds using the print statement. The func.__name__ \n",
    "attribute is used to get the name of the original function.\n",
    "- 7. Finally, the result of the original function call is returned."
   ]
  },
  {
   "cell_type": "code",
   "execution_count": 67,
   "metadata": {},
   "outputs": [
    {
     "name": "stdout",
     "output_type": "stream",
     "text": [
      "The function 'factorial' took 0.0 seconds to run.\n"
     ]
    },
    {
     "data": {
      "text/plain": [
       "40320"
      ]
     },
     "execution_count": 67,
     "metadata": {},
     "output_type": "execute_result"
    }
   ],
   "source": [
    "import time\n",
    "\n",
    "def timer(func):\n",
    "    def wrapper(*args, **kwargs):\n",
    "        if not wrapper.has_run:  # Check if the function has already been called\n",
    "            wrapper.has_run = True  # introduced to stop multiple lines of same message\n",
    "            start_time = time.time()\n",
    "            result = func(*args, **kwargs)\n",
    "            end_time = time.time()\n",
    "            duration = end_time - start_time\n",
    "            print(f\"The function '{func.__name__}' took {round(duration, 9)} seconds to run.\")\n",
    "        else:\n",
    "            result = func(*args, **kwargs)\n",
    "        return result\n",
    "\n",
    "    wrapper.has_run = False  # Initialize the flag\n",
    "    return wrapper\n",
    "\n",
    "@timer\n",
    "def factorial(n):\n",
    "    return 1 if n == 0 else n * factorial(n - 1)\n",
    "\n",
    "factorial(8)"
   ]
  },
  {
   "cell_type": "code",
   "execution_count": 3,
   "metadata": {},
   "outputs": [
    {
     "name": "stdout",
     "output_type": "stream",
     "text": [
      "The function 'factorial' took 0.00000000000000000000 seconds to run.\n"
     ]
    },
    {
     "data": {
      "text/plain": [
       "13763753091226345046315979581580902400000000"
      ]
     },
     "execution_count": 3,
     "metadata": {},
     "output_type": "execute_result"
    }
   ],
   "source": [
    "import time\n",
    "\n",
    "def timer(func):\n",
    "    def wrapper(*args, **kwargs):\n",
    "        if not wrapper.has_run:  # Check if the function has already been called\n",
    "            wrapper.has_run = True  # introduced to stop multiple lines of same message\n",
    "            start_time = time.time()\n",
    "            result = func(*args, **kwargs)\n",
    "            end_time = time.time()\n",
    "            duration = end_time - start_time\n",
    "            print(f\"The function '{func.__name__}' took {duration:.20f} seconds to run.\")\n",
    "        else:\n",
    "            result = func(*args, **kwargs)\n",
    "        return result\n",
    "\n",
    "    wrapper.has_run = False  # Initialize the flag\n",
    "    return wrapper\n",
    "\n",
    "@timer\n",
    "def factorial(n):\n",
    "    return 1 if n == 0 else n * factorial(n - 1)\n",
    "\n",
    "factorial(37)"
   ]
  },
  {
   "attachments": {},
   "cell_type": "markdown",
   "metadata": {},
   "source": [
    "#### 3. Printing a Word Before and After Every Function Call"
   ]
  },
  {
   "cell_type": "code",
   "execution_count": null,
   "metadata": {},
   "outputs": [],
   "source": [
    "# Create a decorator that takes in a word as an argument, and prints this word before running\n",
    "# Now make it take in a second argument word, which it prints after running the decorated function"
   ]
  },
  {
   "cell_type": "code",
   "execution_count": 4,
   "metadata": {},
   "outputs": [
    {
     "name": "stdout",
     "output_type": "stream",
     "text": [
      "Start\n",
      "Hello, Alice\n"
     ]
    }
   ],
   "source": [
    "def print_word(word):\n",
    "    def decorator(func):\n",
    "        def wrapper(*args, **kwargs):\n",
    "            print(word)\n",
    "            result = func(*args, **kwargs)\n",
    "            return result\n",
    "        return wrapper\n",
    "    return decorator\n",
    "\n",
    "#useage\n",
    "@print_word(\"Start\")\n",
    "def greet(name):\n",
    "    print(\"Hello, \" + name)\n",
    "\n",
    "greet(\"Alice\")"
   ]
  },
  {
   "cell_type": "code",
   "execution_count": null,
   "metadata": {},
   "outputs": [],
   "source": [
    "def print_word(word):\n",
    "    # Define the outer decorator function that takes the word as an argument\n",
    "    def decorator(func):\n",
    "        # Define the wrapper function that wraps the original function\n",
    "        def wrapper(*args, **kwargs):\n",
    "            # Print the provided word before running the function\n",
    "            print(word)\n",
    "            # Call the original function with the given arguments\n",
    "            result = func(*args, **kwargs)\n",
    "            # Return the result of the original function call\n",
    "            return result\n",
    "        # Return the wrapper function\n",
    "        return wrapper\n",
    "    # Return the decorator function\n",
    "    return decorator\n",
    "\n",
    "# Usage:\n",
    "@print_word(\"Start\")\n",
    "def greet(name):\n",
    "    # Print a greeting with the given name\n",
    "    print(\"Hello, \" + name)\n",
    "\n",
    "# Call the decorated function\n",
    "greet(\"Alice\")\n",
    "\n",
    "#The print_word function defines the outer decorator function. It takes the word as an argument.\n",
    "#Inside print_word, the decorator function is defined. It takes the function to be decorated (func) as an argument.\n",
    "#Inside the decorator, the wrapper function is defined. This function acts as the wrapper around the original function.\n",
    "#In the wrapper function, the provided word is printed before running the function.\n",
    "#The original function, func, is called with the given arguments using func(*args, **kwargs).\n",
    "#The result of the original function call is stored in the result variable.\n",
    "#Finally, the result is returned from the wrapper function.\n",
    "#The decorator function returns the wrapper function.\n",
    "#The print_word function returns the decorator function.\n",
    "#The decorator @print_word(\"Start\") is applied to the greet function.\n",
    "#When the greet function is called, it will print the word \"Start\" before executing the function."
   ]
  },
  {
   "cell_type": "code",
   "execution_count": 5,
   "metadata": {},
   "outputs": [
    {
     "name": "stdout",
     "output_type": "stream",
     "text": [
      "Start\n",
      "Hello, Alice\n",
      "End\n"
     ]
    }
   ],
   "source": [
    "def print_words(before_word, after_word):\n",
    "    # Define the outer decorator function that takes two words as arguments\n",
    "    def decorator(func):\n",
    "        # Define the wrapper function that wraps the original function\n",
    "        def wrapper(*args, **kwargs):\n",
    "            # Print the 'before_word' before running the function\n",
    "            print(before_word)\n",
    "            # Call the original function with the given arguments\n",
    "            result = func(*args, **kwargs)\n",
    "            # Print the 'after_word' after running the function\n",
    "            print(after_word)\n",
    "            # Return the result of the original function call\n",
    "            return result\n",
    "        # Return the wrapper function\n",
    "        return wrapper\n",
    "    # Return the decorator function\n",
    "    return decorator\n",
    "\n",
    "# Usage:\n",
    "@print_words(\"Start\", \"End\")\n",
    "def greet(name):\n",
    "    # Print a greeting with the given name\n",
    "    print(\"Hello, \" + name)\n",
    "\n",
    "# Call the decorated function\n",
    "greet(\"Alice\")\n",
    "\n",
    "#The print_words function defines the outer decorator function. It takes two words, before_word and after_word, as arguments.\n",
    "#Inside print_words, the decorator function is defined. It takes the function to be decorated (func) as an argument.\n",
    "#Inside the decorator, the wrapper function is defined. This function acts as the wrapper around the original function.\n",
    "#In the wrapper function, the before_word is printed before running the function.\n",
    "#The original function, func, is called with the given arguments using func(*args, **kwargs).\n",
    "#The result of the original function call is stored in the result variable.\n",
    "#The after_word is printed after running the function.\n",
    "#Finally, the result is returned from the wrapper function.\n",
    "#The decorator function returns the wrapper function.\n",
    "#The print_words function returns the decorator function.\n",
    "#The decorator @print_words(\"Start\", \"End\") is applied to the greet function.\n",
    "#When the greet function is called, it will print \"Start\" before executing the function and \"End\" after executing the function.\n"
   ]
  },
  {
   "attachments": {},
   "cell_type": "markdown",
   "metadata": {},
   "source": [
    "#### 4. Printing a Chain of Characters Before and After Every Function Call"
   ]
  },
  {
   "cell_type": "code",
   "execution_count": 6,
   "metadata": {},
   "outputs": [
    {
     "name": "stdout",
     "output_type": "stream",
     "text": [
      "Before calling the function\n",
      "Hello, Alice\n",
      "After calling the function\n"
     ]
    }
   ],
   "source": [
    "# Create a decorator that prints before and after calling the function\n",
    "def print_before_after(func):\n",
    "    # Define the wrapper function that wraps the original function\n",
    "    def wrapper(*args, **kwargs):\n",
    "        print(\"Before calling the function\")  # Print before calling the function\n",
    "        result = func(*args, **kwargs)  # Call the original function\n",
    "        print(\"After calling the function\")  # Print after calling the function\n",
    "        return result\n",
    "    return wrapper  # Return the wrapper function as the decorated function\n",
    "\n",
    "#The print_before_after function defines the outer decorator function. It takes the function to be decorated (func) as an argument.\n",
    "#Inside print_before_after, the wrapper function is defined. This function acts as the wrapper around the original function.\n",
    "#In the wrapper function, the message \"Before calling the function\" is printed before calling the original function.\n",
    "#The original function, func, is called with the given arguments using func(*args, **kwargs).\n",
    "#The result of the original function call is stored in the result variable.\n",
    "#The message \"After calling the function\" is printed after the original function is called.\n",
    "#Finally, the result is returned from the wrapper function.\n",
    "#The wrapper function is returned as the decorated function.\n",
    "#The decorator @print_before_after is applied to the target function.\n",
    "\n",
    "@print_before_after\n",
    "def greet(name):\n",
    "    print(\"Hello, \" + name)\n",
    "\n",
    "greet(\"Alice\")\n",
    "\n"
   ]
  },
  {
   "cell_type": "code",
   "execution_count": 7,
   "metadata": {},
   "outputs": [
    {
     "name": "stdout",
     "output_type": "stream",
     "text": [
      "%%%%%%%%%%\n",
      "Hello, Alice\n",
      "%%%%%%%%%%\n"
     ]
    }
   ],
   "source": [
    "# Create a decorator that prints %%%%%%%%%% before and after calling the function\n",
    "\n",
    "def print_before_after(func):\n",
    "    # Define the wrapper function that wraps the original function\n",
    "    def wrapper(*args, **kwargs):\n",
    "        print(\"%%%%%%%%%%\")  # Print before calling the function\n",
    "        result = func(*args, **kwargs)  # Call the original function\n",
    "        print(\"%%%%%%%%%%\")  # Print after calling the function\n",
    "        return result\n",
    "    return wrapper  # Return the wrapper function as the decorated function\n",
    "\n",
    "\n",
    "#the print_before_after function defines the outer decorator function. It takes the function to be decorated (func) as an argument.\n",
    "#Inside print_before_after, the wrapper function is defined. This function acts as the wrapper around the original function.\n",
    "#In the wrapper function, the string \"%%%%%%%%%%\" is printed before calling the original function.\n",
    "#The original function, func, is called with the given arguments using func(*args, **kwargs).\n",
    "#The result of the original function call is stored in the result variable.\n",
    "#The string \"%%%%%%%%%%\" is printed after calling the original function.\n",
    "#Finally, the result is returned from the wrapper function.\n",
    "#The wrapper function is returned as the decorated function.\n",
    "#The decorator @print_before_after is applied to the target function.\n",
    "\n",
    "# USEAGE\n",
    "@print_before_after\n",
    "def greet(name):\n",
    "    print(\"Hello, \" + name)\n",
    "\n",
    "greet(\"Alice\")"
   ]
  },
  {
   "cell_type": "code",
   "execution_count": 8,
   "metadata": {},
   "outputs": [
    {
     "name": "stdout",
     "output_type": "stream",
     "text": [
      "%%%%%%%%%%\n",
      "Start\n",
      "Hello, Alice\n",
      "%%%%%%%%%%\n"
     ]
    }
   ],
   "source": [
    "# Chain both decorators, so when calling for a function, it should print this before:\n",
    "\n",
    "def print_before_after(func):\n",
    "    \"\"\"\n",
    "    A decorator that prints '%%%%%%%%%%' before and after calling the function.\n",
    "\n",
    "    Args:\n",
    "        func: The function being decorated.\n",
    "\n",
    "    Returns:\n",
    "        The decorated function.\n",
    "    \"\"\"\n",
    "    def wrapper(*args, **kwargs):\n",
    "        print(\"%%%%%%%%%%\")  # Print before calling the function\n",
    "        result = func(*args, **kwargs)  # Call the original function\n",
    "        print(\"%%%%%%%%%%\")  # Print after calling the function\n",
    "        return result\n",
    "    return wrapper\n",
    "# The print_before_after function defines the outer decorator function. It takes the function to be decorated (func) as an argument.\n",
    "# Inside print_before_after, the wrapper function is defined. This function acts as the wrapper around the original function.\n",
    "# In the wrapper function, the string \"%%%%%%%%%%\" is printed before calling the original function.\n",
    "# The original function, func, is called with the given arguments using func(*args, **kwargs).\n",
    "# The result of the original function call is stored in the result variable.\n",
    "# The string \"%%%%%%%%%%\" is printed after calling the original function.\n",
    "# Finally, the result is returned from the wrapper function.\n",
    "# The wrapper function is returned as the decorated function.\n",
    "\n",
    "def print_word(word):\n",
    "    \"\"\"\n",
    "    A decorator that prints a word before running the function.\n",
    "\n",
    "    Args:\n",
    "        word: The word to be printed.\n",
    "\n",
    "    Returns:\n",
    "        The decorator function.\n",
    "    \"\"\"\n",
    "    def decorator(func):\n",
    "        def wrapper(*args, **kwargs):\n",
    "            print(word)  # Print the provided word\n",
    "            result = func(*args, **kwargs)  # Call the original function\n",
    "            return result\n",
    "        return wrapper\n",
    "    return decorator\n",
    "#The print_word function defines the outer decorator function. It takes the word to be printed (word) as an argument.\n",
    "#Inside print_word, the decorator function is defined. It takes the function to be decorated (func) as an argument.\n",
    "#Inside the decorator, the wrapper function is defined. This function acts as the wrapper around the original function.\n",
    "#In the wrapper function, the provided word is printed.\n",
    "#The original function, func, is called with the given arguments using func(*args, **kwargs).\n",
    "#The result of the original function call is stored in the result variable.\n",
    "#Finally, the result is returned from the wrapper function.\n",
    "#The wrapper function is returned as the decorated function.\n",
    "\n",
    "@print_before_after\n",
    "@print_word(\"Start\")\n",
    "def greet(name):\n",
    "    \"\"\"\n",
    "    A function that prints a greeting with the given name.\n",
    "\n",
    "    Args:\n",
    "        name: The name to greet.\n",
    "\n",
    "    \"\"\"\n",
    "    print(\"Hello, \" + name)\n",
    "\n",
    "\n",
    "greet(\"Alice\")\n",
    "\n",
    "#The @print_word(\"Start\") decorator is applied first, which means the print_word decorator is called with the argument \"Start\".\n",
    "#The print_word(\"Start\") decorator returns the decorator function.\n",
    "#The @print_before_after decorator is applied next, which means the print_before_after decorator is called with the argument as the decorated function (print_word(\"Start\") decorator's result).\n",
    "#The print_before_after decorator returns the wrapper function, which acts as the decorated function.\n",
    "#The resulting decorated function is assigned to the greet function.\n",
    "#The greet function is called with the argument \"Alice\".\n",
    "#When you run the code, it will print \"%%%%%%%%%%\" before executing the greet function, followed by the word \"Start\", then the greeting \"Hello, Alice\", and finally, \"%%%%%%%%%%\" after executing the greet function."
   ]
  },
  {
   "attachments": {},
   "cell_type": "markdown",
   "metadata": {},
   "source": [
    "5. Decorator to Save Function Output with Context"
   ]
  },
  {
   "cell_type": "code",
   "execution_count": null,
   "metadata": {},
   "outputs": [],
   "source": [
    "#Create a decorator that saves the string output from a simple function to a file using a context manager\n",
    "\n",
    "def save_output_to_file(filename):\n",
    "    \"\"\"\n",
    "    A decorator that saves the string output from a function to a file using a context manager.\n",
    "\n",
    "    Args:\n",
    "        filename: The name of the file to save the output.\n",
    "\n",
    "    Returns:\n",
    "        The decorator function.\n",
    "    \"\"\"\n",
    "    def decorator(func):\n",
    "        def wrapper(*args, **kwargs):\n",
    "            # Call the original function and get the output\n",
    "            output = func(*args, **kwargs)\n",
    "\n",
    "            # Save the output to a file using a context manager\n",
    "            with open(filename, 'w') as file:\n",
    "                file.write(output)\n",
    "\n",
    "            return output\n",
    "        return wrapper\n",
    "    return decorator\n",
    "#The save_output_to_file function defines the outer decorator function. It takes the filename as an argument, which is the name of the file to save the output.\n",
    "#Inside save_output_to_file, the decorator function is defined. It takes the function to be decorated (func) as an argument.\n",
    "#Inside the decorator, the wrapper function is defined. This function acts as the wrapper around the original function.\n",
    "#In the wrapper function, the original function func is called with the given arguments using func(*args, **kwargs).\n",
    "#The output of the original function call is stored in the output variable.\n",
    "#The output is saved to the specified file using a context manager. The file is opened in write mode ('w'), and the output is written to the file using the write method.\n",
    "#The file is automatically closed when the context manager exits, ensuring proper resource management.\n",
    "#Finally, the output is returned from the wrapper function.\n",
    "#The wrapper function is returned as the decorated function.\n",
    "#The decorator function is returned as the decorator.\n",
    "#The decorator @save_output_to_file(filename) can be applied to any function by providing the desired filename.\n",
    "#You can use this decorator by applying it to a target function using the @ symbol and providing the desired filename. For example:\n",
    "\n",
    "@save_output_to_file(\"output.txt\")\n",
    "def get_greeting(name):\n",
    "    return \"Hello, \" + name\n",
    "\n",
    "get_greeting(\"Alice\")\n",
    "\n",
    "#When you run the code, it will call the get_greeting function with the argument \"Alice\". The output string, \"Hello, Alice\", will be saved to the output.txt file using a context manager.\n",
    "#The provided explanations should help you understand the purpose and functionality of each line in the code."
   ]
  },
  {
   "cell_type": "code",
   "execution_count": 11,
   "metadata": {},
   "outputs": [
    {
     "name": "stdout",
     "output_type": "stream",
     "text": [
      "Job Title: x\n",
      "Start Date: x\n",
      "Finish Date: x\n"
     ]
    }
   ],
   "source": [
    "#Create a function which takes in 3 arguments: job_title, start_date, finish_date\n",
    "def job_details(job_title, start_date, finish_date):\n",
    "    \"\"\"\n",
    "    A function that prints the job details including the job title, start date, and finish date.\n",
    "\n",
    "    Args:\n",
    "        job_title: The title of the job.\n",
    "        start_date: The start date of the job.\n",
    "        finish_date: The finish date of the job.\n",
    "    \"\"\"\n",
    "    print(f\"Job Title: {job_title}\")\n",
    "    print(f\"Start Date: {start_date}\")\n",
    "    print(f\"Finish Date: {finish_date}\")\n",
    "\n",
    "job_details(\"x\", \"x\", \"x\")\n"
   ]
  },
  {
   "cell_type": "code",
   "execution_count": 12,
   "metadata": {},
   "outputs": [
    {
     "name": "stdout",
     "output_type": "stream",
     "text": [
      "Job Title: Software Engineer\n",
      "Start Date: 2022-01-01\n",
      "Finish Date: 2022-12-31\n"
     ]
    }
   ],
   "source": [
    "# create a list with these 3 arguments in order and call the function by UNPACKING the list into it as arguments\n",
    "\n",
    "details = [\"Software Engineer\", \"2022-01-01\", \"2022-12-31\"]\n",
    "job_details(*details)\n",
    "\n",
    "##In this example, a list named details is created with the three arguments in order: \n",
    "# \"Software Engineer\", \"2022-01-01\", and \"2022-12-31\". Then, the job_details function is called by \n",
    "# unpacking the list details using the * operator. This means that each element of the list is passed\n",
    "# as a separate argument to the function.\n",
    "##When you run this code, the job_details function will be called with the three arguments \n",
    "# \"Software Engineer\", \"2022-01-01\", and \"2022-12-31\", which will be unpacked from the details list. \n",
    "# The function will print the job details accordingly."
   ]
  },
  {
   "cell_type": "code",
   "execution_count": 13,
   "metadata": {},
   "outputs": [
    {
     "name": "stdout",
     "output_type": "stream",
     "text": [
      "Job Title: Software Engineer\n",
      "Start Date: 2022-01-01\n",
      "Finish Date: 2022-12-31\n"
     ]
    }
   ],
   "source": [
    "#Create a dictionary with these 3 arguments in and call the function by UNPACKING the dictionary into it as arguments\n",
    "details = {\"job_title\": \"Software Engineer\",\"start_date\": \"2022-01-01\",\"finish_date\": \"2022-12-31\"}\n",
    "job_details(**details)\n",
    "\n",
    "##In this example, a dictionary named details is created with keys \"job_title\", \"start_date\", and \"finish_date\", \n",
    "# and their corresponding values. Then, the job_details function is called by unpacking the dictionary \n",
    "# details using the ** operator. This means that each key-value pair in the dictionary is passed as a \n",
    "# separate keyword argument to the function."
   ]
  },
  {
   "cell_type": "code",
   "execution_count": 15,
   "metadata": {},
   "outputs": [],
   "source": [
    "#Create a decorator called with_job_title which always passes in some fixed job title to the function above\n",
    "\n",
    "def with_job_title(job_title):\n",
    "    \"\"\"\n",
    "    A decorator that always passes a fixed job title to the job_details function.\n",
    "\n",
    "    Args:\n",
    "        job_title: The fixed job title to be passed.\n",
    "\n",
    "    Returns:\n",
    "        The decorator function.\n",
    "    \"\"\"\n",
    "    def decorator(func):\n",
    "        def wrapper(*args, **kwargs):\n",
    "            # Call the job_details function with the fixed job title\n",
    "            return func(job_title, *args, **kwargs)\n",
    "        return wrapper\n",
    "    return decorator\n"
   ]
  },
  {
   "attachments": {},
   "cell_type": "markdown",
   "metadata": {},
   "source": [
    "1. The with_job_title function defines the outer decorator function. It takes the fixed job_title as an argument.\n",
    "2. Inside with_job_title, the decorator function is defined. It takes the function to be decorated (func) as an argument.\n",
    "3. Inside the decorator, the wrapper function is defined. This function acts as the wrapper around the original function.\n",
    "4. In the wrapper function, the original function func is called with the fixed job_title as the first argument, followed by *args and **kwargs. This ensures that the fixed job title is always passed to the function when it is called.\n",
    "5. The result of the function call is returned from the wrapper function.\n",
    "6. The wrapper function is returned as the decorated function.\n",
    "7. The decorator function is returned as the decorator."
   ]
  },
  {
   "cell_type": "code",
   "execution_count": 18,
   "metadata": {},
   "outputs": [
    {
     "name": "stdout",
     "output_type": "stream",
     "text": [
      "Job Title: Software Engineer\n",
      "Start Date: 2022-01-01\n",
      "Finish Date: 2022-12-31\n"
     ]
    }
   ],
   "source": [
    "#useage\n",
    "@with_job_title(\"Software Engineer\")\n",
    "def job_details(job_title, start_date, finish_date):\n",
    "    print(f\"Job Title: {job_title}\")\n",
    "    print(f\"Start Date: {start_date}\")\n",
    "    print(f\"Finish Date: {finish_date}\")\n",
    "job_details(\"2022-01-01\", \"2022-12-31\")\n",
    "\n",
    "# In this example, the job_details function is decorated with @with_job_title(\"Software Engineer\"), \n",
    "# which means the with_job_title decorator is called with the fixed job title as \"Software Engineer\". \n",
    "# The decorator modifies the behavior of the job_details function to always pass in the fixed job title to the function.\n",
    "\n",
    "#Now, when you call the job_details function, it will always receive the fixed job title along with \n",
    "# the provided start date and finish date."
   ]
  },
  {
   "cell_type": "code",
   "execution_count": 19,
   "metadata": {},
   "outputs": [
    {
     "name": "stdout",
     "output_type": "stream",
     "text": [
      "Job Title: Software Engineer\n",
      "Start Date: 2022-01-01\n",
      "Finish Date: 2022-12-31\n",
      "Job Title: Data Analyst\n",
      "Start Date: 2023-01-01\n",
      "Finish Date: 2023-12-31\n",
      "Job Title: Python Developer\n",
      "Start Date: 2024-01-01\n",
      "Finish Date: 2024-12-31\n"
     ]
    }
   ],
   "source": [
    "#Wrap the function in using the decorator and call it, passing in the arguments excluding job_title\n",
    "\n",
    "def job_details(job_title, start_date, finish_date):\n",
    "    \"\"\"\n",
    "    A function that prints the job details including the job title, start date, and finish date.\n",
    "\n",
    "    Args:\n",
    "        job_title: The title of the job.\n",
    "        start_date: The start date of the job.\n",
    "        finish_date: The finish date of the job.\n",
    "    \"\"\"\n",
    "    print(f\"Job Title: {job_title}\")\n",
    "    print(f\"Start Date: {start_date}\")\n",
    "    print(f\"Finish Date: {finish_date}\")\n",
    "\n",
    "# Create a list with the arguments in order and call the function by unpacking the list\n",
    "details_list = [\"Software Engineer\", \"2022-01-01\", \"2022-12-31\"]\n",
    "job_details(*details_list)\n",
    "\n",
    "# Create a dictionary with the arguments and call the function by unpacking the dictionary\n",
    "details_dict = {\n",
    "    \"job_title\": \"Data Analyst\",\n",
    "    \"start_date\": \"2023-01-01\",\n",
    "    \"finish_date\": \"2023-12-31\"\n",
    "}\n",
    "job_details(**details_dict)\n",
    "\n",
    "# Define the decorator\n",
    "def with_job_title(func):\n",
    "    def wrapper(*args, **kwargs):\n",
    "        # Add a fixed job title to the arguments\n",
    "        job_title = \"Python Developer\"\n",
    "        return func(job_title, *args, **kwargs)\n",
    "    return wrapper\n",
    "\n",
    "# Wrap the function using the decorator\n",
    "@with_job_title\n",
    "def job_details_with_fixed_title(job_title, start_date, finish_date):\n",
    "    \"\"\"\n",
    "    A function that prints the job details with a fixed job title.\n",
    "\n",
    "    Args:\n",
    "        job_title: The fixed job title.\n",
    "        start_date: The start date of the job.\n",
    "        finish_date: The finish date of the job.\n",
    "    \"\"\"\n",
    "    print(f\"Job Title: {job_title}\")\n",
    "    print(f\"Start Date: {start_date}\")\n",
    "    print(f\"Finish Date: {finish_date}\")\n",
    "\n",
    "# Call the wrapped function, excluding the job_title argument\n",
    "job_details_with_fixed_title(\"2024-01-01\", \"2024-12-31\")"
   ]
  },
  {
   "attachments": {},
   "cell_type": "markdown",
   "metadata": {},
   "source": [
    "1. The job_details function is defined to print the job details given the job title, start date, and finish date.\n",
    "2. The function is first called by unpacking a list (details_list) into its arguments.\n",
    "3. Then, the function is called by unpacking a dictionary (details_dict) into its arguments.\n",
    "4. A decorator named with_job_title is defined. It wraps a function and adds a fixed job title to the arguments before calling the function.\n",
    "5. The job_details_with_fixed_title function is defined with the additional job_title argument. It prints the job details with the fixed job title.\n",
    "6. The job_details_with_fixed_title function is decorated using the with_job_title decorator.\n",
    "7. The wrapped function is called, excluding the job_title argument.\n",
    "8. When you run this code, it will execute the function calls and print the job details accordingly, demonstrating the unpacking of a list, a dictionary, and the usage of a decorator."
   ]
  }
 ],
 "metadata": {
  "kernelspec": {
   "display_name": "secondtest_env",
   "language": "python",
   "name": "python3"
  },
  "language_info": {
   "codemirror_mode": {
    "name": "ipython",
    "version": 3
   },
   "file_extension": ".py",
   "mimetype": "text/x-python",
   "name": "python",
   "nbconvert_exporter": "python",
   "pygments_lexer": "ipython3",
   "version": "3.10.6"
  },
  "orig_nbformat": 4
 },
 "nbformat": 4,
 "nbformat_minor": 2
}
