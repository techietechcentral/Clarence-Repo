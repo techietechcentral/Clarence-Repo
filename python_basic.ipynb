{
 "cells": [
  {
   "attachments": {},
   "cell_type": "markdown",
   "metadata": {},
   "source": [
    "- 5. #### Variable - practice\n",
    "1. ***Variable Naming***\n",
    "- 1. Define a variable called my_variable and assign it the value 23\n",
    "- 2. Print the value of my_variable\n",
    "- 3. Write a new line of code that reassigns my_variable to have the value 98\n",
    "- 4. Print the value of my_variable again\n",
    "- 5. Notice that the value of my_variable has changed."
   ]
  },
  {
   "cell_type": "code",
   "execution_count": 1,
   "metadata": {},
   "outputs": [
    {
     "name": "stdout",
     "output_type": "stream",
     "text": [
      "23\n",
      "98\n"
     ]
    }
   ],
   "source": [
    "my_variable = 23\n",
    "print(my_variable)\n",
    "my_variable = 98\n",
    "print(my_variable)"
   ]
  },
  {
   "attachments": {},
   "cell_type": "markdown",
   "metadata": {},
   "source": [
    "2. ***Different Variable Types***\n",
    "- 1. Define the the following variables num = 23, text_num = “57” and decimal_num = 98.3\n",
    "- 2. Print the types of each variable (hint: use the type() function)\n",
    "- 3. What happens when you add num and decimal_num? What about num and text_num?\n",
    "- 4. You can change the type of the string text_num to an integer by using the int() function. Try it out!\n",
    "- 5. What happens when you change text_num to an integer and add it to num?"
   ]
  },
  {
   "cell_type": "code",
   "execution_count": 6,
   "metadata": {},
   "outputs": [
    {
     "data": {
      "text/plain": [
       "float"
      ]
     },
     "execution_count": 6,
     "metadata": {},
     "output_type": "execute_result"
    }
   ],
   "source": [
    "num = 23\n",
    "type(num)\n",
    "\n",
    "text_num = \"57\"\n",
    "type(text_num)\n",
    "\n",
    "decimal_num = 98.3\n",
    "type(decimal_num)"
   ]
  },
  {
   "cell_type": "code",
   "execution_count": 8,
   "metadata": {},
   "outputs": [
    {
     "data": {
      "text/plain": [
       "121.3"
      ]
     },
     "execution_count": 8,
     "metadata": {},
     "output_type": "execute_result"
    }
   ],
   "source": [
    "num + decimal_num"
   ]
  },
  {
   "cell_type": "code",
   "execution_count": 19,
   "metadata": {},
   "outputs": [
    {
     "data": {
      "text/plain": [
       "int"
      ]
     },
     "execution_count": 19,
     "metadata": {},
     "output_type": "execute_result"
    }
   ],
   "source": [
    "\n",
    "text_num = \"57\"\n",
    "text_num =int(\"57\")\n",
    "type(text_num)"
   ]
  },
  {
   "cell_type": "code",
   "execution_count": 20,
   "metadata": {},
   "outputs": [
    {
     "data": {
      "text/plain": [
       "80"
      ]
     },
     "execution_count": 20,
     "metadata": {},
     "output_type": "execute_result"
    }
   ],
   "source": [
    "int(\"57\") + num"
   ]
  },
  {
   "attachments": {},
   "cell_type": "markdown",
   "metadata": {},
   "source": [
    "3. ***Variable Assignment & Re-assignment*** \n",
    "- 1. Define two variables num1, and num2 with the values 37 and 52 respectively\n",
    "- 2. What is the sum of num1 and num2? What about the product?\n",
    "- 3. Now reassign num1 and num2 to have the values 8 and 3 respectively\n",
    "- 4. Reuse the code to determine their sum and product"
   ]
  },
  {
   "cell_type": "code",
   "execution_count": 26,
   "metadata": {},
   "outputs": [
    {
     "name": "stdout",
     "output_type": "stream",
     "text": [
      "89\n",
      "1196\n",
      "11\n",
      "24\n"
     ]
    }
   ],
   "source": [
    "num1 = 37\n",
    "num2 = 52\n",
    "print(num1 + num2)\n",
    "print(num * num2)\n",
    "num1 = 8\n",
    "num2 = 3\n",
    "print(num1 + num2)\n",
    "print(num1 * num2)"
   ]
  },
  {
   "attachments": {},
   "cell_type": "markdown",
   "metadata": {},
   "source": [
    "##### 6. Numbers -practicals"
   ]
  },
  {
   "attachments": {},
   "cell_type": "markdown",
   "metadata": {},
   "source": [
    "1. ***Run Arithmetic Operations***\n",
    "- 1. Define a variable called a and assign it the value 5\n",
    "- 2. Define a variable called b and assign it the value 2\n",
    "- 3. Print the result of a + b\n",
    "- 4. Print the result of a - b\n",
    "- 5. Print the result of a * b\n",
    "- 6. rint the result of a / b"
   ]
  },
  {
   "cell_type": "code",
   "execution_count": 27,
   "metadata": {},
   "outputs": [
    {
     "name": "stdout",
     "output_type": "stream",
     "text": [
      "7\n",
      "3\n",
      "10\n",
      "2.5\n"
     ]
    }
   ],
   "source": [
    "a= 5\n",
    "b = 2\n",
    "print(a + b)\n",
    "print(a - b)\n",
    "print(a * b)\n",
    "print(a / b)"
   ]
  },
  {
   "attachments": {},
   "cell_type": "markdown",
   "metadata": {},
   "source": [
    "2. ***Run More Complex Arithmetic Operations***\n",
    "- 1. Define a variable called a and assign it the value 10\n",
    "- 2. Define a variable called b and assign it the value 7\n",
    "- 3. What is the modulus of a and b?\n",
    "- 4. What is the floor division of a and b?\n",
    "- 5. What is the exponent of a and b?"
   ]
  },
  {
   "cell_type": "code",
   "execution_count": 28,
   "metadata": {},
   "outputs": [
    {
     "name": "stdout",
     "output_type": "stream",
     "text": [
      "3\n",
      "1\n",
      "10000000\n"
     ]
    }
   ],
   "source": [
    "a = 10\n",
    "b = 7\n",
    "print(a % b)\n",
    "print(a // b)\n",
    "print(a ** b)"
   ]
  },
  {
   "attachments": {},
   "cell_type": "markdown",
   "metadata": {},
   "source": [
    "- 1. Define a variable called a and assign it the value 5\n",
    "- 2. Define a variable called b and assign it the value 2\n",
    "- 3. Print the type of a\n",
    "- 4. Print the type of b\n",
    "- 5. Define a variable called c and assign it the value of a / b\n",
    "- 6. Print the type of c\n",
    "- 7. What happened?\n",
    "- 8. Define a variable called d and assign it the value of a // b\n",
    "- 9. Print the type of d\n",
    "- 10. What happened?"
   ]
  },
  {
   "cell_type": "code",
   "execution_count": 33,
   "metadata": {},
   "outputs": [
    {
     "name": "stdout",
     "output_type": "stream",
     "text": [
      "<class 'int'>\n",
      "<class 'int'>\n",
      "<class 'float'>\n",
      "<class 'int'>\n"
     ]
    }
   ],
   "source": [
    "a = 5\n",
    "b = 2\n",
    "print(type(a))\n",
    "print(type(b))\n",
    "c = a / b\n",
    "print(type(c))\n",
    "d = a // b\n",
    "print(type(d))"
   ]
  },
  {
   "attachments": {},
   "cell_type": "markdown",
   "metadata": {},
   "source": [
    "7. ***Strings - Practicals***"
   ]
  },
  {
   "attachments": {},
   "cell_type": "markdown",
   "metadata": {},
   "source": [
    "- 1. Basics of Strings\n",
    "- Create a variable called my_string and assign it the value \"Hello World\"\n",
    "- Print the value of my_string\n",
    "- Print the type of my_string.\n",
    "- Create a variable called my_string and assign it the value \"Hello \\nWorld\".\n",
    "- Print the value of my_string.\n",
    "- Create a variable called my_string and assign it the value \"Hello \\tWorld\".\n",
    "- Print the value of my_string."
   ]
  },
  {
   "cell_type": "code",
   "execution_count": 36,
   "metadata": {},
   "outputs": [
    {
     "name": "stdout",
     "output_type": "stream",
     "text": [
      "Hello World\n",
      "<class 'str'>\n"
     ]
    }
   ],
   "source": [
    "my_string = \"Hello World\"\n",
    "print(my_string)\n",
    "print(type(my_string))\n",
    "\n"
   ]
  },
  {
   "cell_type": "code",
   "execution_count": 38,
   "metadata": {},
   "outputs": [
    {
     "name": "stdout",
     "output_type": "stream",
     "text": [
      "Hello \n",
      "World\n"
     ]
    }
   ],
   "source": [
    "my_string = \"Hello \\nWorld\"\n",
    "print(my_string)"
   ]
  },
  {
   "cell_type": "code",
   "execution_count": 39,
   "metadata": {},
   "outputs": [
    {
     "name": "stdout",
     "output_type": "stream",
     "text": [
      "Hello \tWorld\n"
     ]
    }
   ],
   "source": [
    "my_string = \"Hello \\tWorld\"\n",
    "print(my_string)"
   ]
  },
  {
   "attachments": {},
   "cell_type": "markdown",
   "metadata": {},
   "source": [
    "2. ***Printing a String with Quotes***\n",
    "\n",
    "- Create a variable called my_string and assign it the value \"Hello \"World\"\n",
    "- Did it work?\n",
    "- Create a variable called my_string and assign it the value \"Hello ''World''\"\n",
    "- Create a variable called my_string and assign it the value \"Hello \"World\"\""
   ]
  },
  {
   "cell_type": "code",
   "execution_count": 40,
   "metadata": {},
   "outputs": [
    {
     "ename": "SyntaxError",
     "evalue": "unterminated string literal (detected at line 1) (2502718667.py, line 1)",
     "output_type": "error",
     "traceback": [
      "\u001b[1;36m  Input \u001b[1;32mIn [40]\u001b[1;36m\u001b[0m\n\u001b[1;33m    my_string = \"Hello \"World\"\u001b[0m\n\u001b[1;37m                             ^\u001b[0m\n\u001b[1;31mSyntaxError\u001b[0m\u001b[1;31m:\u001b[0m unterminated string literal (detected at line 1)\n"
     ]
    }
   ],
   "source": [
    "my_string = \"Hello \"World\"\n"
   ]
  },
  {
   "cell_type": "code",
   "execution_count": 41,
   "metadata": {},
   "outputs": [],
   "source": [
    "my_string = \"Hello ''World''\""
   ]
  },
  {
   "cell_type": "code",
   "execution_count": null,
   "metadata": {},
   "outputs": [],
   "source": [
    "my_string = \"Hello \"World\"\""
   ]
  },
  {
   "attachments": {},
   "cell_type": "markdown",
   "metadata": {},
   "source": [
    "3. ***Working with Strings***\n",
    "\n",
    "- Create a variable called test_string and assign it the value \"hello\".\n",
    "- Select the 2nd character of the string\n",
    "- Find the index of the letter e in test_string\n",
    "- Use the appropriate method to replace all occurrences of \"o\" with \"*\"\n",
    "- Write a sentence and assign it to the variable my_sentence.\n",
    "- Find the length of my_sentence"
   ]
  },
  {
   "cell_type": "code",
   "execution_count": 42,
   "metadata": {},
   "outputs": [
    {
     "data": {
      "text/plain": [
       "'e'"
      ]
     },
     "execution_count": 42,
     "metadata": {},
     "output_type": "execute_result"
    }
   ],
   "source": [
    "test_string = \"hello\"\n",
    "test_string[1]"
   ]
  },
  {
   "attachments": {},
   "cell_type": "markdown",
   "metadata": {},
   "source": [
    "#### replace() function"
   ]
  },
  {
   "cell_type": "code",
   "execution_count": 47,
   "metadata": {},
   "outputs": [
    {
     "data": {
      "text/plain": [
       "'h*llo'"
      ]
     },
     "execution_count": 47,
     "metadata": {},
     "output_type": "execute_result"
    }
   ],
   "source": [
    "test_string.replace(\"e\",\"*\")"
   ]
  },
  {
   "cell_type": "code",
   "execution_count": 56,
   "metadata": {},
   "outputs": [
    {
     "data": {
      "text/plain": [
       "'lello'"
      ]
     },
     "execution_count": 56,
     "metadata": {},
     "output_type": "execute_result"
    }
   ],
   "source": [
    "test_string.replace(\"h\", \"l\")"
   ]
  },
  {
   "attachments": {},
   "cell_type": "markdown",
   "metadata": {},
   "source": [
    "##### len() function"
   ]
  },
  {
   "cell_type": "code",
   "execution_count": 58,
   "metadata": {},
   "outputs": [
    {
     "data": {
      "text/plain": [
       "17"
      ]
     },
     "execution_count": 58,
     "metadata": {},
     "output_type": "execute_result"
    }
   ],
   "source": [
    "my_sentence = \"Karl is a big man\"\n",
    "len(my_sentence)"
   ]
  },
  {
   "attachments": {},
   "cell_type": "markdown",
   "metadata": {},
   "source": [
    "\n",
    "4. ***String Operations***\n",
    "- Create a variable called string_1 - assign it a value of \"Hello \"\n",
    "- Create a variable called string_2 - assign it a value of \"World!\"\n",
    "- Add string_1 and string_2 and assign the output to a variable called string_3.\n",
    "- Print string_3\n",
    "- Print the 4th to 7th characters of the string.\n",
    "- Replace \"large\" with \"small\" in the sentence in the sentence: 'Wow, what a large horse!'\n",
    "- Using my_filepath = \"C:/Images/cow.jpg\", call my_filepath's .split method and assign the - - output to a variable called my_file_structure.\n",
    "- Print my_file_structure.\n",
    "- Print just the filename."
   ]
  },
  {
   "cell_type": "code",
   "execution_count": 67,
   "metadata": {},
   "outputs": [
    {
     "name": "stdout",
     "output_type": "stream",
     "text": [
      "Hello World!\n",
      "lo \n"
     ]
    }
   ],
   "source": [
    "string_1 = \"Hello \"\n",
    "string_2 = \"World!\"\n",
    "string_3 = string_1 + string_2 \n",
    "print(string_3)\n",
    "print(string_3[3:6])\n"
   ]
  },
  {
   "cell_type": "code",
   "execution_count": 71,
   "metadata": {},
   "outputs": [
    {
     "name": "stdout",
     "output_type": "stream",
     "text": [
      "Wow, what a small horse!\n"
     ]
    }
   ],
   "source": [
    "sentence1 = 'Wow, what a large horse!'\n",
    "sentence2 = sentence1.replace(\"large\", \"small\")\n",
    "print(sentence2)\n"
   ]
  },
  {
   "cell_type": "code",
   "execution_count": 74,
   "metadata": {},
   "outputs": [
    {
     "name": "stdout",
     "output_type": "stream",
     "text": [
      "['C:/Image', '/cow.jpg']\n",
      "C:/Image\n"
     ]
    }
   ],
   "source": [
    "my_filepath = \"C:/Images/cow.jpg\"\n",
    "my_file_structure = my_filepath.split(\"s\")\n",
    "print(my_file_structure)\n",
    "print(my_file_structure [0])"
   ]
  },
  {
   "attachments": {},
   "cell_type": "markdown",
   "metadata": {},
   "source": [
    "#### 8. Boolean- practicals\n",
    "\n",
    "1. ***Boolean Basics***\n",
    "- Create a variable called my_boolean and assign it the value True\n",
    "- Print the value of my_boolean\n",
    "- Print the type of my_boolean\n",
    "- Create a variable called my_boolean and assign it the value False\n",
    "- Print the value of my_boolean"
   ]
  },
  {
   "cell_type": "code",
   "execution_count": 76,
   "metadata": {},
   "outputs": [
    {
     "name": "stdout",
     "output_type": "stream",
     "text": [
      "True\n"
     ]
    },
    {
     "data": {
      "text/plain": [
       "bool"
      ]
     },
     "execution_count": 76,
     "metadata": {},
     "output_type": "execute_result"
    }
   ],
   "source": [
    "my_boolean = True\n",
    "print(my_boolean)\n",
    "type(my_boolean)"
   ]
  },
  {
   "cell_type": "code",
   "execution_count": 78,
   "metadata": {},
   "outputs": [
    {
     "name": "stdout",
     "output_type": "stream",
     "text": [
      "<class 'bool'>\n"
     ]
    }
   ],
   "source": [
    "print(type(my_boolean))\n"
   ]
  },
  {
   "cell_type": "code",
   "execution_count": 79,
   "metadata": {},
   "outputs": [
    {
     "name": "stdout",
     "output_type": "stream",
     "text": [
      "False\n"
     ]
    }
   ],
   "source": [
    "my_boolean = False\n",
    "print(my_boolean)"
   ]
  },
  {
   "attachments": {},
   "cell_type": "markdown",
   "metadata": {},
   "source": [
    "2. ***Boolean Comparisons and Operators***\n",
    "- Create a variable called a and assign it the value 5\n",
    "- Create a variable called b and assign it the value 2\n",
    "- Create a variable called c and assign it the value a > b\n",
    "- Print the value and type of c\n",
    "- Create a variable called d and assign it the value a < b\n",
    "- Print the value and type of d"
   ]
  },
  {
   "cell_type": "code",
   "execution_count": 82,
   "metadata": {},
   "outputs": [
    {
     "name": "stdout",
     "output_type": "stream",
     "text": [
      "True\n",
      "False\n"
     ]
    }
   ],
   "source": [
    "a = 5\n",
    "b = 2\n",
    "c = a > b\n",
    "print(c)\n",
    "\n",
    "d = a < c \n",
    "print(d)"
   ]
  },
  {
   "attachments": {},
   "cell_type": "markdown",
   "metadata": {},
   "source": [
    "> 9. **Functions and Function Calls**\n",
    "***Learning Objectives:***\n",
    "- To understand the difference between a function and a function call.\n",
    "- To understand how to call a function in Python.\n",
    "- To understand how to define a function in python.\n",
    "- Function parameters.\n",
    "- The difference between parameters and arguments.\n",
    "- The return statement.\n",
    "\n",
    "> What are Functions?\n",
    "- A function is a self-contained block of code that performs a specific task or operation. Functions are used to organize code and make it more reusable, efficient, and easier to read and understand. Functions can be called or invoked from other parts of the program, and they can be reused multiple times with different inputs or arguments.\n",
    "\n",
    "> Function Calls\n",
    "- A function call refers to the action of invoking or executing a function. When a function is called, the program control is transferred to the function, and the code inside the function is executed. A function call typically consists of the function name, followed by a set of parentheses that may contain arguments or parameters.\n",
    "\n",
    "The fundamental idea here is that a function is defined once, and then can be re-used many times in your code.\n",
    "\n",
    "> Function Definitions\n",
    "- So far we have learned that the main idea behind functions is that we can write some instructions once, and then re-use them many times elsewhere in our code. The function call handles the re-use part, and its counterpart is the function defnition, which is the block of code which tells us what the function does and how it behaves.\n",
    "\n",
    "Let's look at an example:"
   ]
  },
  {
   "cell_type": "code",
   "execution_count": 2,
   "metadata": {},
   "outputs": [],
   "source": [
    "def call_me_taxi():\n",
    "    print(\"you're a taxi\")"
   ]
  },
  {
   "cell_type": "code",
   "execution_count": 3,
   "metadata": {},
   "outputs": [
    {
     "name": "stdout",
     "output_type": "stream",
     "text": [
      "you're a taxi\n"
     ]
    }
   ],
   "source": [
    "call_me_taxi()\n",
    "type(call_me_taxi())\n"
   ]
  },
  {
   "attachments": {},
   "cell_type": "markdown",
   "metadata": {},
   "source": [
    "- The **def** statement is how we begin a function definition in Python. It contains the following things:\n",
    "\n",
    "- the **def** keyword\n",
    "- the name of the function. This should always be in **camel_case**, and as ever, name it clearly. Long and clear is better than short and confusing, every single time!\n",
    "a pair of parentheses **()**, which can contain the names of the functions parameters, or be empty.\n",
    "a colon **:**\n",
    "an optional **return** statement at the end of the definition, which returns some of the variables from the function as **outputs**.\n",
    "The function code is whatever is insider the indented block immediately below the def statement.\n",
    "\n",
    "Mini-practical: write your first python function\n",
    "In the code block below, define a function called hello_world. It should print the string Hello World! when called."
   ]
  },
  {
   "cell_type": "code",
   "execution_count": 2,
   "metadata": {},
   "outputs": [
    {
     "name": "stdout",
     "output_type": "stream",
     "text": [
      "Hello World\n"
     ]
    }
   ],
   "source": [
    "# TODO - write a function called `hello_world`\n",
    "def hello_world():\n",
    "    print(\"Hello World\")\n",
    "# TODO - Call your function!    \n",
    "hello_world()\n",
    "    \n",
    "    "
   ]
  },
  {
   "attachments": {},
   "cell_type": "markdown",
   "metadata": {},
   "source": [
    "> ***Function Parameters***\n",
    "- A parameter is a kind of temporary variable that is used inside a function to represent some value you might want to pass to the function. For example, look at the function below, which is a simple function to calculate the sum of two inputs:"
   ]
  },
  {
   "cell_type": "code",
   "execution_count": 3,
   "metadata": {},
   "outputs": [
    {
     "data": {
      "text/plain": [
       "5"
      ]
     },
     "execution_count": 3,
     "metadata": {},
     "output_type": "execute_result"
    }
   ],
   "source": [
    "def add_two_variables(a,b):\n",
    "    return a + b\n",
    "\n",
    "add_two_variables(2,3)"
   ]
  },
  {
   "attachments": {},
   "cell_type": "markdown",
   "metadata": {},
   "source": [
    "- Obviously this is not a particularly useful function, but it does illustrate the role of parameters very clearly. Because we want to be able to add any pair of numbers together, we need to use two temporary variables to specify the operation we want to perform, rather than having to pick any specific numbers to use.\n",
    "\n",
    "- Another use of parameters is as flags or options, which specify some choice about the behaviour of the function. For exmaple, we can modify our function to desribe what it's doing if we pass it a flag that tells it to do so:"
   ]
  },
  {
   "cell_type": "code",
   "execution_count": 4,
   "metadata": {},
   "outputs": [
    {
     "name": "stdout",
     "output_type": "stream",
     "text": [
      "I am now adding your two numbers together, and will return their sum to you as an output, so that you can assign them to a variable.\n"
     ]
    },
    {
     "data": {
      "text/plain": [
       "5"
      ]
     },
     "execution_count": 4,
     "metadata": {},
     "output_type": "execute_result"
    }
   ],
   "source": [
    "def add_two_variables(a: int , b: int, annoyingly_verbose=True):\n",
    "    if annoyingly_verbose == True:\n",
    "        print(\"I am now adding your 2 numbs 2geda, and will return their + to you as an output, so that you can assign them to a variable.\")\n",
    "    return a + b\n",
    "\n",
    "\n",
    "add_two_variables(a=2, b=3)"
   ]
  },
  {
   "cell_type": "code",
   "execution_count": 7,
   "metadata": {},
   "outputs": [
    {
     "data": {
      "text/plain": [
       "5"
      ]
     },
     "execution_count": 7,
     "metadata": {},
     "output_type": "execute_result"
    }
   ],
   "source": [
    "def add_two_variables(a: int , b: int, annoyingly_verbose=False):\n",
    "    if annoyingly_verbose == True:\n",
    "        print(\"I am now adding your 2 numbs 2geda, and will return their + to you as an output, so that you can assign them to a variable.\")\n",
    "    return a + b\n",
    "\n",
    "\n",
    "add_two_variables(a=2, b=3)"
   ]
  },
  {
   "attachments": {},
   "cell_type": "markdown",
   "metadata": {},
   "source": [
    "> ***Arguments vs. Parameters***\n",
    "- You will hear these terms getting mixed up quite a lot, even by quite experienced coders, but it's actually very easy to get it sorted in your head, so you don't have to be one of those people.\n",
    "\n",
    "In simple terms, **a parameter is a placeholder or a variable that is used in a function definition**, while ***an argument is a value that is passed to a function when it is called***. \n",
    "- Parameters are used to define the type, name, and number of inputs that a function requires, while arguments are used to supply the actual values for these inputs when the function is called.\n",
    "\n",
    "So in the case of our call to the add_two_variables function above, the parameters are a, b, and needlessly_verbose are the parameters of the function, whereas 2, 3 and True are the arguments we provide. **Arguments map to parameters**. You can either specify the arguments in the order in which the parameters are listed, which will map them automatically, or you can specify them explicitly by assigning them directly with the = operator."
   ]
  },
  {
   "attachments": {},
   "cell_type": "markdown",
   "metadata": {},
   "source": [
    "> ***The Return statement***\n",
    "- In the example above, we called our add_two_numbers function on our input arguments of 2 and 3, and we got the output of 5. That is fine if we just want to know the answer. But what if we wanted to do someting with the answer afterwards? The return statement of a function lists the variables of the function that will be returned in the function's output. To use those variables outside the function, we can return them to one or more output variables.\n",
    "\n",
    "It is important to note that the code inside the function is isolated from the rest of the script. Variables defined inside the fucntion are only visible when the program control is inside the function. You cannot use them outside. This concept is known as the function's scope. You don't need to worry about this too much right now, as we will cover it in much more detail later, but for now, just remember that if we want to use something we have generated inside a function, we need to return it as an output, and assign it to a variable outside of the function.\n",
    "\n",
    "The function in the code block below takes in an integer, and returns two Boolean variables, letting us know whether the number is even, and whether it is a perfect square. We can assign both of these to output variables when we call the function, by listing two output variables, separated by commas, and then assigning the function's outputs with an = sign."
   ]
  },
  {
   "cell_type": "code",
   "execution_count": 13,
   "metadata": {},
   "outputs": [
    {
     "ename": "TypeError",
     "evalue": "object of type 'int' has no len()",
     "output_type": "error",
     "traceback": [
      "\u001b[1;31m---------------------------------------------------------------------------\u001b[0m",
      "\u001b[1;31mTypeError\u001b[0m                                 Traceback (most recent call last)",
      "\u001b[1;32mc:\\Users\\User_Central\\Desktop\\AICORE_PROJECTS\\python_basic.ipynb Cell 54\u001b[0m in \u001b[0;36m<cell line: 2>\u001b[1;34m()\u001b[0m\n\u001b[0;32m      <a href='vscode-notebook-cell:/c%3A/Users/User_Central/Desktop/AICORE_PROJECTS/python_basic.ipynb#Y106sZmlsZQ%3D%3D?line=0'>1</a>\u001b[0m my_number \u001b[39m=\u001b[39m \u001b[39m5\u001b[39m\n\u001b[1;32m----> <a href='vscode-notebook-cell:/c%3A/Users/User_Central/Desktop/AICORE_PROJECTS/python_basic.ipynb#Y106sZmlsZQ%3D%3D?line=1'>2</a>\u001b[0m ans \u001b[39m=\u001b[39m \u001b[39mlen\u001b[39;49m(my_number )\n\u001b[0;32m      <a href='vscode-notebook-cell:/c%3A/Users/User_Central/Desktop/AICORE_PROJECTS/python_basic.ipynb#Y106sZmlsZQ%3D%3D?line=2'>3</a>\u001b[0m \u001b[39mprint\u001b[39m(ans)\n",
      "\u001b[1;31mTypeError\u001b[0m: object of type 'int' has no len()"
     ]
    }
   ],
   "source": [
    "my_number = 5\n",
    "ans = len(my_number )\n",
    "print(ans)"
   ]
  },
  {
   "attachments": {},
   "cell_type": "markdown",
   "metadata": {},
   "source": [
    "> 10. **Getting User Input - Practicals**\n",
    "\n"
   ]
  },
  {
   "cell_type": "code",
   "execution_count": 4,
   "metadata": {},
   "outputs": [
    {
     "data": {
      "text/plain": [
       "'2'"
      ]
     },
     "execution_count": 4,
     "metadata": {},
     "output_type": "execute_result"
    }
   ],
   "source": [
    "# 1. Ask the User for Input\n",
    "\n",
    "# - Ask the user for their name\n",
    "# - Ask the user for their age\n",
    "input(\"Enter your name: \")\n",
    "input(\"Enter your age: \")\n"
   ]
  },
  {
   "cell_type": "code",
   "execution_count": null,
   "metadata": {},
   "outputs": [],
   "source": [
    "# 2. Ask the User for Input and Store It in a Variable\n",
    "# - Ask the user for their name and store it in a variable called name\n",
    "# - Ask the user for their age and store it in a variable called age\n",
    "# - Print out the message \"Hello, my name is {name} and I am {age} years old\"\n",
    "\n",
    "name = input(\"Enter your name: \")\n",
    "age = input(\"Enter your age: \")\n",
    "print(f\"Hello, my name is {name} and I am {age} years old\")"
   ]
  },
  {
   "cell_type": "code",
   "execution_count": 7,
   "metadata": {},
   "outputs": [
    {
     "name": "stdout",
     "output_type": "stream",
     "text": [
      "<class 'str'>\n",
      "<class 'str'>\n",
      "<class 'int'>\n"
     ]
    }
   ],
   "source": [
    "# 3. Input Type\n",
    "# - Ask the user for their name and store it in a variable called name\n",
    "# - What type is name?\n",
    "# - Ask the user for their age and store it in a variable called age\n",
    "# - What type is age? Is it a string or a number?\n",
    "# - You can convert a string to a number using the int(string) function. Try it out.\n",
    "\n",
    "print(type(name))\n",
    "print(type(age))\n",
    "print(type(int(age)))"
   ]
  },
  {
   "cell_type": "code",
   "execution_count": 13,
   "metadata": {},
   "outputs": [
    {
     "name": "stdout",
     "output_type": "stream",
     "text": [
      "The temperature in Celsius is -4.33\n"
     ]
    }
   ],
   "source": [
    "# 4. From Fahrenheit to Celsius\n",
    "# - Ask the user for the temperature in Fahrenheit and store it in a variable called fahrenheit\n",
    "# - Convert the temperature to Celsius and store it in a variable called celsius\n",
    "# - Print out the message \"The temperature in Celsius is {celsius}\"\n",
    "# - What is the formula for converting from Fahrenheit to Celsius?'\n",
    "\n",
    "Fahrenheit = float(input(\"Temperature(Fahrenheit): \"))\n",
    "celsius = (Fahrenheit / -17.77778)\n",
    "print(f\"The temperature in Celsius is {round(celsius, 2) }degree celsius\")\n",
    "\n",
    "import math\n"
   ]
  },
  {
   "attachments": {},
   "cell_type": "markdown",
   "metadata": {},
   "source": [
    "> 11. Lists - Practicals"
   ]
  },
  {
   "cell_type": "code",
   "execution_count": 29,
   "metadata": {},
   "outputs": [
    {
     "name": "stdout",
     "output_type": "stream",
     "text": [
      "<class 'list'>\n",
      "4\n",
      "<class 'str'>\n",
      "['Roy', 'Mary', 'Don', 'Ivy']\n",
      "['Roy', 'Mary', 'Don', 'Ivy']\n",
      "['Don', 'Ivy', 'Mary', 'Roy']\n",
      "IVY\n",
      "0\n",
      "DON\n"
     ]
    }
   ],
   "source": [
    "## Username List\n",
    "# Open the notebook and run the code block to create the list called usernames.\n",
    "#Print the type of usernames\n",
    "#Print the length of usernames\n",
    "#Print the type of the first item in usernames\n",
    "#Create a new list called usernames_2, consisting of the last 5 elements of usernames.\n",
    "#Remove the 2nd element of usernames_2 from the list and assign it to a variable called user_example.\n",
    "#Use the .sort() method to sort the elements of usernames alphabetically.\n",
    "#Using the .index() method, make the list entry corresponding to user_example uppercase.\n",
    "\n",
    "usernames = [\"Toby\", \"Max\", \"Dave\", \"Pete\"]\n",
    "print(type(usernames))  #Print the type of usernames\n",
    "print(len(usernames))   #Print the length of usernames\n",
    "print(type(usernames[0]))   #Print the type of usernames element\n",
    "\n",
    "#Create a new list called usernames_2, consisting of the last 5 elements of usernames.\n",
    "usernames_2 = [\"Roy\", \"Teem\", \"Mary\", \"Don\", \"Ivy\"] \n",
    "#Remove the 2nd element of usernames_2 from the list and assign it to a variable called user_example.\n",
    "usernames_2.remove(usernames_2[1])\n",
    "print(usernames_2)\n",
    "user_example = usernames_2\n",
    "print(user_example)\n",
    "user_example.sort()\n",
    "print(user_example)\n",
    "print(user_example[1].upper()) # finding element when index is given\n",
    "\n",
    "user_ex_index = user_example.index(\"Don\") # finding the index when element/value is given\n",
    "print(user_ex_index)\n",
    "user_example[user_ex_index].upper() \n",
    "print(user_example[user_ex_index].upper())\n"
   ]
  },
  {
   "cell_type": "code",
   "execution_count": null,
   "metadata": {},
   "outputs": [],
   "source": [
    "print(user_example[user_ex_index].upper())"
   ]
  },
  {
   "cell_type": "code",
   "execution_count": 4,
   "metadata": {},
   "outputs": [
    {
     "name": "stdout",
     "output_type": "stream",
     "text": [
      "usernames: ['w', 'w', 'w', 'w']\n"
     ]
    }
   ],
   "source": [
    "# me just practicing\n",
    "usernames = []\n",
    "for i in range(4):\n",
    "    username = input(\"Enter a username: \")\n",
    "    usernames.append(username)\n",
    "\n",
    "print(\"usernames:\", usernames)"
   ]
  },
  {
   "cell_type": "code",
   "execution_count": 32,
   "metadata": {},
   "outputs": [
    {
     "name": "stdout",
     "output_type": "stream",
     "text": [
      "[[1, 'hello', 3.14, True, None], [0, 0, 0, 0, 0, 0, 0, 0, 0, 0]]\n",
      "[True, 0]\n"
     ]
    }
   ],
   "source": [
    "## List Elements\n",
    "# 1. Create a list of five elements with a different data type. Name it list_1\n",
    "# 2. Now create a list with ten zeros, do it using the ''*'' operator. Name it list_2\n",
    "# 3. Nest list_1 and list_2 into a new list and name it list_3. So list_3 should look \n",
    "#    like this [list_1, list2]\n",
    "# 4. Access the fourth element of each list_1 and list_2 and store the elements in list_4. \n",
    "#    So list_4 should look like this [fourth element of list_1, fourth element of list_2]\n",
    "\n",
    "list_1 = [1, \"hello\", 3.14, True, None]\n",
    "list_2 = [0] * 10\n",
    "list_3 = [list_1, list_2]\n",
    "print(list_3)\n",
    "list_1[3] # 4th element of list_1\n",
    "list_2[3] # 4th element of list_2\n",
    "list_4 = [list_1[3], list_2[3]]\n",
    "print(list_4)"
   ]
  },
  {
   "cell_type": "code",
   "execution_count": 43,
   "metadata": {},
   "outputs": [
    {
     "name": "stdout",
     "output_type": "stream",
     "text": [
      "('06 ', '11 ', '68 ')\n"
     ]
    }
   ],
   "source": [
    "# Given the following list of number plates: [\"G06 WTR\", \"WL11 WFL\", \"QW68 PQR\"]\n",
    "## Car Number plate\n",
    "# 1. Extract the last two characters of the first word, which represent the year of the car\n",
    "# 2. So, for example, the first number plate is from \"06\"\n",
    "# 3. Print the type of each of them\n",
    "# 4. Convert each of these years to an integer type\n",
    "\n",
    "number_plates = [\"G06 WTR\", \"WL11 WFL\", \"QW68 PQR\"]\n",
    "\n",
    "# observe that the lenght of the 1st part of the number plates varies\n",
    "# so we slice from behind since the charater lenghts are the same\n",
    "number_plates[0][1:-3],number_plates[1][2:-3],number_plates[2][2:-3]\n",
    "number_plate_yr = number_plates[0][1:-3],number_plates[1][2:-3],number_plates[2][2:-3] \n",
    "print(number_plate_yr)"
   ]
  },
  {
   "cell_type": "code",
   "execution_count": 59,
   "metadata": {},
   "outputs": [
    {
     "name": "stdout",
     "output_type": "stream",
     "text": [
      "[1, 2, 3, 4, [5, 6, 7, 8]]\n",
      "[5, 6, 7, 8]\n"
     ]
    }
   ],
   "source": [
    "# Given the following lists my_list_1 = [1, 2, 3, 4] and my_list_2 = [5, 6, 7, 8], write a program that:\n",
    "\n",
    "# 1. Appends my_list_2 to my_list_1. Use the append() method.\n",
    "# 2. Print my_list_1 and my_list_2 to see what changed.\n",
    "# 3. Extend my_list_1 with my_list_2. Use the extend() method.\n",
    "# 4. Print my_list_1 and my_list_2 to see what changed.\n",
    "\n",
    "my_list_1 = [1, 2, 3, 4]\n",
    "my_list_2 = [5, 6, 7, 8]\n",
    "\n",
    "my_list_1.append(my_list_2)\n",
    "print(my_list_1)\n",
    "print(my_list_2)\n",
    "\n"
   ]
  },
  {
   "cell_type": "code",
   "execution_count": 60,
   "metadata": {},
   "outputs": [
    {
     "name": "stdout",
     "output_type": "stream",
     "text": [
      "[1, 2, 3, 4, 5, 6, 7, 8]\n",
      "[5, 6, 7, 8]\n"
     ]
    }
   ],
   "source": [
    "my_list_1 = [1, 2, 3, 4]\n",
    "my_list_2 = [5, 6, 7, 8]\n",
    "\n",
    "my_list_1.extend(my_list_2)\n",
    "print(my_list_1)\n",
    "print(my_list_2)"
   ]
  },
  {
   "attachments": {},
   "cell_type": "markdown",
   "metadata": {},
   "source": [
    "> Operators that return a boolean \n",
    "- 1. COMPARISON operator: = , ==, <, >, <=, >=, !=\n",
    "- 2. IDENTITY operators: is, is not\n",
    "- 3. LOGICAL operators: and, or, not used in conjunction with a comparison statement\n",
    "- 4. MEMBERSHIP operators: in, not in"
   ]
  },
  {
   "cell_type": "code",
   "execution_count": 65,
   "metadata": {},
   "outputs": [
    {
     "name": "stdout",
     "output_type": "stream",
     "text": [
      "1 is in my_list: True\n",
      "6 is in my_list: False\n",
      "7 is not in my_list: True\n"
     ]
    }
   ],
   "source": [
    "## 15. Operators - Practicals\n",
    "# 1. Check if an Element Is in a List\n",
    "# Create a list called my_list and add the following elements to it: 1, 2, 3, 4, 5\n",
    "# Check if 1 is in my_list. The result should be a boolean.\n",
    "# Check if 6 is in my_list\n",
    "# Check if 7 is NOT in my_list\n",
    "\n",
    "my_list = [1, 2, 3, 4, 5]\n",
    "print(f\"1 is in my_list: {1 in my_list}\")\n",
    "print(f\"6 is in my_list: {6 in my_list}\")\n",
    "print(f\"7 is not in my_list: {7 not in my_list}\")"
   ]
  },
  {
   "cell_type": "code",
   "execution_count": 67,
   "metadata": {},
   "outputs": [
    {
     "name": "stdout",
     "output_type": "stream",
     "text": [
      "my_number_1 is equal to my_number_2 : False\n",
      "my_number_1 and my_number_2 are the same object : False\n"
     ]
    }
   ],
   "source": [
    "# 2. Check if Two Numbers and Two Strings Are Equal\n",
    "#Create two variables called my_number_1 and my_number_2 and assign them the values 1 and 2 respectively\n",
    "#Check if my_number_1 is equal to my_number_2 using the == operator. The result should be a boolean.\n",
    "#Check if my_number_1 and my_number_2 are the same object using the is operator\n",
    "#Are they the same? Why or why not?\n",
    "#Create two lists called my_list_1 and my_list_2 and add the following elements to them: 1, 2, 3, 4, 5\n",
    "#Check if my_list_1 is equal to my_list_2 using the == operator. The result should be a boolean.\n",
    "#Check if my_list_1 and my_list_2 are the same object using the is operator\n",
    "#re they the same? Why or why not?\n",
    "\n",
    "my_number_1 = 1\n",
    "my_number_2 = 2\n",
    "\n",
    "print(f\"my_number_1 is equal to my_number_2 : {my_number_1 == my_number_2}\")\n",
    "print(f\"my_number_1 and my_number_2 are the same object : {my_number_1 is my_number_2}\")\n",
    "\n"
   ]
  },
  {
   "cell_type": "code",
   "execution_count": 75,
   "metadata": {},
   "outputs": [
    {
     "name": "stdout",
     "output_type": "stream",
     "text": [
      "my_list_1 is equal to my_list_2 : True\n",
      "my_list_1 and my_list_2 are the same object : False\n"
     ]
    },
    {
     "data": {
      "text/plain": [
       "False"
      ]
     },
     "execution_count": 75,
     "metadata": {},
     "output_type": "execute_result"
    }
   ],
   "source": [
    "my_list_1 = [1, 2, 3, 4, 5]\n",
    "my_list_2 = [1, 2, 3, 4, 5]\n",
    "print(f\"my_list_1 is equal to my_list_2 : {my_list_1 == my_list_2}\")\n",
    "\n",
    "print(f\"my_list_1 and my_list_2 are the same object : {my_list_1 is my_list_2}\") \n",
    "# the result is false becos list are stored at different memory locations\n",
    "\n",
    "my_list_3 = my_list_1 + my_list_2\n",
    "my_list_3 is (my_list_1 + my_list_2)"
   ]
  },
  {
   "cell_type": "code",
   "execution_count": 8,
   "metadata": {},
   "outputs": [
    {
     "name": "stdout",
     "output_type": "stream",
     "text": [
      "False\n",
      "The dictionary check result is empty: so its False\n"
     ]
    }
   ],
   "source": [
    "## 3. Check if a Dictionary Is Empty\n",
    "#Create a variable called my_dict and assign it the value {}\n",
    "#Check if my_dict is empty. The result should be a boolean.\n",
    "#Create a variable called my_dict_2 and assign it the value {\"key_1\": 1, \"key_2\": 2}\n",
    "#Check if my_dict_2 is empty\n",
    "\n",
    "my_dict = {}\n",
    "# to check if a dict is empty we use bool()function\n",
    "print(bool(my_dict))\n",
    "is_empty = bool(my_dict)\n",
    "print(f\"The dictionary check result is empty: so its {bool(my_dict)}\")"
   ]
  },
  {
   "attachments": {},
   "cell_type": "markdown",
   "metadata": {},
   "source": [
    "> In Python, the bool() function is used to convert a value to a boolean value (True or False). Here are some key points to keep in mind about the bool() function:\n",
    "\n",
    "- The bool() function takes a single argument and returns either True or False.\n",
    "- The argument can be of any data type, not just Boolean values. The function returns \n",
    "- False for some specific values such as None, 0, 0.0, '', [], (), {}, and any other empty sequence or collection.\n",
    "- For non-empty sequences or collections, the function returns True.\n",
    "- For numeric types (e.g., int, float, complex), bool() returns False if the value is zero, and True otherwise.\n",
    "- For strings, bool() returns False if the string is empty (''), and True otherwise.\n",
    "- For objects of user-defined classes, bool() returns True by default, unless the class defines a __bool__() method that returns False.\n"
   ]
  },
  {
   "attachments": {},
   "cell_type": "markdown",
   "metadata": {},
   "source": [
    "> **In Python, bool(0) returns False because the integer value 0 is considered \"falsy\" in a boolean context.**\n",
    "\n",
    "> **In Python, any non-zero numeric value is considered \"truthy\" in a boolean context, meaning it evaluates to True. Conversely, any numeric value that is zero, such as 0, 0.0, or 0j (for a complex number with a zero real part and a zero imaginary part), is considered \"falsy\", meaning it evaluates to False.**\n",
    "\n",
    "> This behavior is consistent with other programming languages, such as C and Java, where zero is also considered \"falsy\" in boolean expressions.\n",
    "\n",
    "- So, bool(0) evaluates to False because the value 0 is considered \"falsy\" in Python's boolean context."
   ]
  },
  {
   "cell_type": "code",
   "execution_count": null,
   "metadata": {},
   "outputs": [],
   "source": [
    "## Here are some examples of using the bool() function:\n",
    "# bool() with different data types\n",
    "print(bool(True))   # True\n",
    "print(bool(False))  # False\n",
    "print(bool(0))      # False\n",
    "print(bool(1))      # True\n",
    "print(bool(0.0))    # False\n",
    "print(bool(0.1))    # True\n",
    "print(bool(''))     # False\n",
    "print(bool('abc'))  # True\n",
    "print(bool([]))     # False\n",
    "print(bool([1]))    # True\n",
    "print(bool(()))     # False\n",
    "print(bool((1,)))   # True\n",
    "print(bool({}))     # False\n",
    "print(bool({1:2}))  # True\n",
    "\n",
    "# bool() with a user-defined class\n",
    "class MyClass:\n",
    "    pass\n",
    "\n",
    "obj = MyClass()\n",
    "print(bool(obj))    # True\n",
    "\n",
    "class MyOtherClass:\n",
    "    def __bool__(self):\n",
    "        return False\n",
    "\n",
    "obj2 = MyOtherClass()\n",
    "print(bool(obj2))   # False\n"
   ]
  },
  {
   "cell_type": "code",
   "execution_count": 7,
   "metadata": {},
   "outputs": [
    {
     "name": "stdout",
     "output_type": "stream",
     "text": [
      "True\n",
      "The dictionary check result is not empty:  so its True\n"
     ]
    }
   ],
   "source": [
    "# 3. Create a variable called my_dict_2 and assign it the value {\"key_1\": 1, \"key_2\": 2}\n",
    "# Check if my_dict_2 is empty\n",
    "\n",
    "my_dict_2 = {\"key_1\": 1, \"key_2\": 2}\n",
    "print(bool(my_dict_2))\n",
    "print(f\"The dictionary check result is not empty:  so its {bool(my_dict_2)}\")"
   ]
  },
  {
   "attachments": {},
   "cell_type": "markdown",
   "metadata": {},
   "source": [
    "> 16. *** Assertions***\n",
    "- Ask the user for their name and store it in a variable called name\n",
    "- Add an assertion that checks if the name is \"John\". If it is, print out the message \n",
    "- \"Hello, - John\". If it isn't, raise an AssertionError with the message \"You are not John\"\n",
    "- Test your code by entering \"John\", and test it again by entering \"Jane\""
   ]
  },
  {
   "cell_type": "code",
   "execution_count": 12,
   "metadata": {},
   "outputs": [
    {
     "ename": "AssertionError",
     "evalue": "You are not John",
     "output_type": "error",
     "traceback": [
      "\u001b[1;31m---------------------------------------------------------------------------\u001b[0m",
      "\u001b[1;31mAssertionError\u001b[0m                            Traceback (most recent call last)",
      "\u001b[1;32mc:\\Users\\User_Central\\Desktop\\AICORE_PROJECTS\\python_basic.ipynb Cell 79\u001b[0m in \u001b[0;36m<cell line: 2>\u001b[1;34m()\u001b[0m\n\u001b[0;32m      <a href='vscode-notebook-cell:/c%3A/Users/User_Central/Desktop/AICORE_PROJECTS/python_basic.ipynb#Y142sZmlsZQ%3D%3D?line=0'>1</a>\u001b[0m name \u001b[39m=\u001b[39m \u001b[39minput\u001b[39m(\u001b[39m\"\u001b[39m\u001b[39mWhat is your name? \u001b[39m\u001b[39m\"\u001b[39m)\n\u001b[1;32m----> <a href='vscode-notebook-cell:/c%3A/Users/User_Central/Desktop/AICORE_PROJECTS/python_basic.ipynb#Y142sZmlsZQ%3D%3D?line=1'>2</a>\u001b[0m \u001b[39massert\u001b[39;00m name \u001b[39m==\u001b[39m \u001b[39m\"\u001b[39m\u001b[39mJohn\u001b[39m\u001b[39m\"\u001b[39m, \u001b[39m\"\u001b[39m\u001b[39mYou are not John\u001b[39m\u001b[39m\"\u001b[39m\n\u001b[0;32m      <a href='vscode-notebook-cell:/c%3A/Users/User_Central/Desktop/AICORE_PROJECTS/python_basic.ipynb#Y142sZmlsZQ%3D%3D?line=2'>3</a>\u001b[0m \u001b[39mprint\u001b[39m(\u001b[39mf\u001b[39m\u001b[39m\"\u001b[39m\u001b[39mHello, \u001b[39m\u001b[39m{\u001b[39;00mname\u001b[39m}\u001b[39;00m\u001b[39m\"\u001b[39m)\n",
      "\u001b[1;31mAssertionError\u001b[0m: You are not John"
     ]
    }
   ],
   "source": [
    "\n",
    "\n",
    "name = input(\"What is your name? \")\n",
    "assert name == \"John\", \"You are not John\"\n",
    "print(f\"Hello, {name}\")\n"
   ]
  },
  {
   "cell_type": "code",
   "execution_count": 20,
   "metadata": {},
   "outputs": [
    {
     "ename": "AssertionError",
     "evalue": "You are not John",
     "output_type": "error",
     "traceback": [
      "\u001b[1;31m---------------------------------------------------------------------------\u001b[0m",
      "\u001b[1;31mAssertionError\u001b[0m                            Traceback (most recent call last)",
      "\u001b[1;32mc:\\Users\\User_Central\\Desktop\\AICORE_PROJECTS\\python_basic.ipynb Cell 80\u001b[0m in \u001b[0;36m<cell line: 3>\u001b[1;34m()\u001b[0m\n\u001b[0;32m      <a href='vscode-notebook-cell:/c%3A/Users/User_Central/Desktop/AICORE_PROJECTS/python_basic.ipynb#Y144sZmlsZQ%3D%3D?line=0'>1</a>\u001b[0m name \u001b[39m=\u001b[39m \u001b[39minput\u001b[39m(\u001b[39m\"\u001b[39m\u001b[39mEnter your name? \u001b[39m\u001b[39m\"\u001b[39m)\n\u001b[0;32m      <a href='vscode-notebook-cell:/c%3A/Users/User_Central/Desktop/AICORE_PROJECTS/python_basic.ipynb#Y144sZmlsZQ%3D%3D?line=1'>2</a>\u001b[0m age \u001b[39m=\u001b[39m \u001b[39mint\u001b[39m(\u001b[39minput\u001b[39m(\u001b[39m\"\u001b[39m\u001b[39mEnter your age? \u001b[39m\u001b[39m\"\u001b[39m))\n\u001b[1;32m----> <a href='vscode-notebook-cell:/c%3A/Users/User_Central/Desktop/AICORE_PROJECTS/python_basic.ipynb#Y144sZmlsZQ%3D%3D?line=2'>3</a>\u001b[0m \u001b[39massert\u001b[39;00m name \u001b[39m==\u001b[39m \u001b[39m'\u001b[39m\u001b[39mJohn\u001b[39m\u001b[39m'\u001b[39m \u001b[39mand\u001b[39;00m age \u001b[39m==\u001b[39m \u001b[39m20\u001b[39m, \u001b[39m\"\u001b[39m\u001b[39mYou are not John\u001b[39m\u001b[39m\"\u001b[39m\n\u001b[0;32m      <a href='vscode-notebook-cell:/c%3A/Users/User_Central/Desktop/AICORE_PROJECTS/python_basic.ipynb#Y144sZmlsZQ%3D%3D?line=3'>4</a>\u001b[0m \u001b[39mprint\u001b[39m(\u001b[39mf\u001b[39m\u001b[39m\"\u001b[39m\u001b[39mHello John\u001b[39m\u001b[39m\"\u001b[39m)\n",
      "\u001b[1;31mAssertionError\u001b[0m: You are not John"
     ]
    }
   ],
   "source": [
    "name = input(\"Enter your name? \")\n",
    "age = int(input(\"Enter your age? \"))\n",
    "assert name == 'John' and age == 20, \"You are not John\"\n",
    "print(f\"Hello John\")\n"
   ]
  },
  {
   "cell_type": "code",
   "execution_count": 32,
   "metadata": {},
   "outputs": [
    {
     "ename": "AssertionError",
     "evalue": "You are not John",
     "output_type": "error",
     "traceback": [
      "\u001b[1;31m---------------------------------------------------------------------------\u001b[0m",
      "\u001b[1;31mAssertionError\u001b[0m                            Traceback (most recent call last)",
      "\u001b[1;32mc:\\Users\\User_Central\\Desktop\\AICORE_PROJECTS\\python_basic.ipynb Cell 81\u001b[0m in \u001b[0;36m<cell line: 4>\u001b[1;34m()\u001b[0m\n\u001b[0;32m      <a href='vscode-notebook-cell:/c%3A/Users/User_Central/Desktop/AICORE_PROJECTS/python_basic.ipynb#Y145sZmlsZQ%3D%3D?line=0'>1</a>\u001b[0m name \u001b[39m=\u001b[39m \u001b[39minput\u001b[39m(\u001b[39m\"\u001b[39m\u001b[39mWhat is your name? \u001b[39m\u001b[39m\"\u001b[39m)\n\u001b[0;32m      <a href='vscode-notebook-cell:/c%3A/Users/User_Central/Desktop/AICORE_PROJECTS/python_basic.ipynb#Y145sZmlsZQ%3D%3D?line=1'>2</a>\u001b[0m age \u001b[39m=\u001b[39m \u001b[39mint\u001b[39m(\u001b[39minput\u001b[39m(\u001b[39m\"\u001b[39m\u001b[39mWhat is your age? \u001b[39m\u001b[39m\"\u001b[39m))\n\u001b[1;32m----> <a href='vscode-notebook-cell:/c%3A/Users/User_Central/Desktop/AICORE_PROJECTS/python_basic.ipynb#Y145sZmlsZQ%3D%3D?line=3'>4</a>\u001b[0m \u001b[39massert\u001b[39;00m name \u001b[39m==\u001b[39m \u001b[39m\"\u001b[39m\u001b[39mJohn\u001b[39m\u001b[39m\"\u001b[39m, \u001b[39m\"\u001b[39m\u001b[39mYou are not John\u001b[39m\u001b[39m\"\u001b[39m\n\u001b[0;32m      <a href='vscode-notebook-cell:/c%3A/Users/User_Central/Desktop/AICORE_PROJECTS/python_basic.ipynb#Y145sZmlsZQ%3D%3D?line=4'>5</a>\u001b[0m \u001b[39mprint\u001b[39m(\u001b[39m\"\u001b[39m\u001b[39mHello John\u001b[39m\u001b[39m\"\u001b[39m)\n\u001b[0;32m      <a href='vscode-notebook-cell:/c%3A/Users/User_Central/Desktop/AICORE_PROJECTS/python_basic.ipynb#Y145sZmlsZQ%3D%3D?line=5'>6</a>\u001b[0m \u001b[39mif\u001b[39;00m age \u001b[39m>\u001b[39m\u001b[39m=\u001b[39m \u001b[39m18\u001b[39m:\n",
      "\u001b[1;31mAssertionError\u001b[0m: You are not John"
     ]
    }
   ],
   "source": [
    "name = input(\"What is your name? \")\n",
    "age = int(input(\"What is your age? \"))\n",
    "\n",
    "assert name == \"John\", \"You are not John\"\n",
    "print(\"Hello John\")\n",
    "if age >= 18:\n",
    "    print(\"You are old enough to vote\")\n",
    "else:\n",
    "    raise AssertionError(\"You are not old enough to vote\")\n",
    "\n"
   ]
  },
  {
   "cell_type": "code",
   "execution_count": 54,
   "metadata": {},
   "outputs": [
    {
     "name": "stdout",
     "output_type": "stream",
     "text": [
      "['Hello', 'WORLD']\n"
     ]
    }
   ],
   "source": [
    "# 1. Use a list comprehension to capitalise every element in the list ['Hello', 'world']\n",
    "my_list = ['Hello', 'world']\n",
    "for i in range(len(my_list)):\n",
    "    my_list[i].upper()   \n",
    "    my_list[i] = my_list[i].upper()\n",
    "\n",
    "print(my_list)"
   ]
  },
  {
   "attachments": {},
   "cell_type": "markdown",
   "metadata": {},
   "source": [
    "> ***List comprehension***"
   ]
  },
  {
   "cell_type": "code",
   "execution_count": 50,
   "metadata": {},
   "outputs": [
    {
     "name": "stdout",
     "output_type": "stream",
     "text": [
      "['HELLO', 'WORLD']\n"
     ]
    }
   ],
   "source": [
    "# the above now bemcomes\n",
    "my_list = ['Hello', 'world']\n",
    "capitalized_my_list = [word.upper() for word in my_list]\n",
    "print(capitalized_my_list)"
   ]
  },
  {
   "cell_type": "code",
   "execution_count": 58,
   "metadata": {},
   "outputs": [
    {
     "name": "stdout",
     "output_type": "stream",
     "text": [
      "0\n",
      "5\n",
      "10\n",
      "15\n",
      "20\n",
      "25\n",
      "30\n",
      "35\n",
      "40\n",
      "45\n",
      "50\n",
      "55\n",
      "60\n",
      "65\n",
      "70\n",
      "75\n",
      "80\n",
      "85\n",
      "90\n",
      "95\n",
      "100\n"
     ]
    }
   ],
   "source": [
    "# Use a list comprehension to filter out every multiple of 5 from a range of numbers up to 100\n",
    "for i in range(0, 101, 5):\n",
    "    print(i)"
   ]
  },
  {
   "attachments": {},
   "cell_type": "markdown",
   "metadata": {},
   "source": [
    "> ***List comprehension***"
   ]
  },
  {
   "cell_type": "code",
   "execution_count": 62,
   "metadata": {},
   "outputs": [
    {
     "name": "stdout",
     "output_type": "stream",
     "text": [
      "100\n"
     ]
    }
   ],
   "source": [
    "# the above becomes\n",
    "result = [i for i in range(0, 101, 5)]\n",
    "print(result)"
   ]
  },
  {
   "cell_type": "code",
   "execution_count": 3,
   "metadata": {},
   "outputs": [
    {
     "name": "stdout",
     "output_type": "stream",
     "text": [
      "{1: 1, 2: 4, 3: 9, 4: 16, 5: 25, 6: 36, 7: 49, 8: 64, 9: 81, 10: 100, 11: 121, 12: 144, 13: 169, 14: 196, 15: 225}\n"
     ]
    }
   ],
   "source": [
    "# Use a dictionary comprehension to create a map between every integer up to 15 \n",
    "# and it's value squared\n",
    "\n",
    "result = {}\n",
    "for i in range(1, 16):\n",
    "    result[i] = i ** 2\n",
    "\n",
    "print(result)\n"
   ]
  },
  {
   "attachments": {},
   "cell_type": "markdown",
   "metadata": {},
   "source": [
    "> ***List comprehension***"
   ]
  },
  {
   "cell_type": "code",
   "execution_count": 2,
   "metadata": {},
   "outputs": [
    {
     "name": "stdout",
     "output_type": "stream",
     "text": [
      "[1, 4, 9, 16, 25, 36, 49, 64, 81, 100, 121, 144, 169, 196, 225]\n"
     ]
    }
   ],
   "source": [
    "squares = [i**2 for i in range(1, 16)]\n",
    "print(squares)"
   ]
  },
  {
   "attachments": {},
   "cell_type": "markdown",
   "metadata": {},
   "source": [
    "> ***Dictionary comprehension***"
   ]
  },
  {
   "cell_type": "code",
   "execution_count": 4,
   "metadata": {},
   "outputs": [
    {
     "name": "stdout",
     "output_type": "stream",
     "text": [
      "{0: 0, 1: 1, 2: 4, 3: 9, 4: 16, 5: 25, 6: 36, 7: 49, 8: 64, 9: 81, 10: 100, 11: 121, 12: 144, 13: 169, 14: 196, 15: 225}\n"
     ]
    }
   ],
   "source": [
    "# a square dictionary \n",
    "squares = {i: i**2 for i in range(16)}\n",
    "print(squares)"
   ]
  },
  {
   "cell_type": "code",
   "execution_count": 9,
   "metadata": {},
   "outputs": [
    {
     "name": "stdout",
     "output_type": "stream",
     "text": [
      "dict_items([(0, 0), (1, 1), (2, 4), (3, 9), (4, 16), (5, 25), (6, 36), (7, 49), (8, 64), (9, 81), (10, 100), (11, 121), (12, 144), (13, 169), (14, 196), (15, 225)])\n",
      "0 0\n",
      "1 1\n",
      "2 4\n",
      "3 9\n",
      "4 16\n",
      "5 25\n",
      "6 36\n",
      "7 49\n",
      "8 64\n",
      "9 81\n",
      "10 100\n",
      "11 121\n",
      "12 144\n",
      "13 169\n",
      "14 196\n",
      "15 225\n",
      "{0: 0, 1: 1, 4: 2, 9: 3, 16: 4, 25: 5, 36: 6, 49: 7, 64: 8, 81: 9, 100: 10, 121: 11, 144: 12, 169: 13, 196: 14, 225: 15}\n"
     ]
    }
   ],
   "source": [
    "#Now, use a dictionary comprehension to create a dictionary that does the inverse! \n",
    "# (hint: iterate over squares.items(), where squares is the name of the dict you \n",
    "# made in the above challenge)\n",
    "# Create the inverse_squares dictionary\n",
    "squares = {i: i**2 for i in range(16)}\n",
    "print(squares.items())\n",
    "for k, v in squares.items():\n",
    "    print(k,v )\n",
    "inverse_squares = {v: k for k, v in squares.items()}\n",
    "print(inverse_squares)"
   ]
  },
  {
   "cell_type": "code",
   "execution_count": null,
   "metadata": {},
   "outputs": [],
   "source": [
    "squares = {i: i**2 for i in range(16)}\n",
    "inverse_squares = {v: k for k, v in squares.items()}\n",
    "print(inverse_squares)"
   ]
  }
 ],
 "metadata": {
  "kernelspec": {
   "display_name": "secondtest_env",
   "language": "python",
   "name": "python3"
  },
  "language_info": {
   "codemirror_mode": {
    "name": "ipython",
    "version": 3
   },
   "file_extension": ".py",
   "mimetype": "text/x-python",
   "name": "python",
   "nbconvert_exporter": "python",
   "pygments_lexer": "ipython3",
   "version": "3.10.6"
  },
  "orig_nbformat": 4
 },
 "nbformat": 4,
 "nbformat_minor": 2
}
