{
 "cells": [
  {
   "attachments": {},
   "cell_type": "markdown",
   "metadata": {},
   "source": [
    "> - First, Python checks if the name specified is legal (it browses its internal data in order to find an existing function of the name; if this search fails, Python aborts the code);\n",
    "> - second, Python checks if the function's requirements for the number of arguments allows you to invoke the function in this way (e.g., if a specific function demands exactly two arguments, any invocation delivering only one argument will be considered erroneous, and will abort the code's execution);\n",
    "> - third, Python leaves your code for a moment and jumps into the function you want to invoke; of course, it takes your argument(s) too and passes it/them to the function;\n",
    "> - fourth, the function executes its code, causes the desired effect (if any), evaluates the desired result(s) (if any) and finishes its task;\n",
    "> - finally, Python returns to your code (to the place just after the invocation) and resumes its execution."
   ]
  },
  {
   "attachments": {},
   "cell_type": "markdown",
   "metadata": {},
   "source": [
    "### ***\\\\*** (escape character)\n",
    "- If you want to put just one backslash inside a string, don't forget its escaping nature - you have to double it.\n",
    "- e.g. print(\"\\\") (nothing appeares to be in between the quotes) but\n",
    "- e.g. print (\"\\\\\") (only one sing appears to be between the quotes but actually there are 2 slashes)\n",
    "### ***\\n*** (new line character)"
   ]
  },
  {
   "attachments": {},
   "cell_type": "markdown",
   "metadata": {},
   "source": [
    "#### print() function\n",
    "- can take in multiple arguments seperated by commas\n",
    "- positional arguments \n",
    "- keyword arguments\n",
    "> - In order to use it, it is necessary to know some rules:\n",
    "> - a keyword argument consists of three elements: \n",
    "1. a keyword identifying the argument (end here); \n",
    "2. an equal sign (=); \n",
    "3. and a value assigned to that argument;\n",
    "- any keyword arguments have to be put after the last positional argument (this is very important)\n"
   ]
  },
  {
   "cell_type": "code",
   "execution_count": null,
   "metadata": {},
   "outputs": [],
   "source": [
    "# Positional arg\n",
    "print(\"The itsy bitsy spider\" , \"climbed up\" , \"the waterspout.\")"
   ]
  },
  {
   "attachments": {},
   "cell_type": "markdown",
   "metadata": {},
   "source": [
    "\n",
    "> a print() function invoked with more than one argument outputs them all on one line; and excludes the commas\n",
    "> the print() function puts a space between the outputted arguments on its own initiative.\n"
   ]
  },
  {
   "cell_type": "code",
   "execution_count": null,
   "metadata": {},
   "outputs": [],
   "source": [
    "# Keyword arg\n",
    "# The print() function has two keyword arguments that you can use for your purposes. The first of them is named end and the other sep.\n",
    "print(\"My name is \", end=\"\")\n",
    "print(\"Monty Python.\")\n",
    "\n",
    "print(\"My\", \"name\", \"is\", \"Monty\", \"Python.\", sep=\"-\")\n",
    "\n",
    "print(\"My\", \"name\", \"is\", sep=\"_\", end=\"*\")\n",
    "print(\"Monty\", \"Python.\", sep=\"*\", end=\"*\\n\")\n"
   ]
  },
  {
   "attachments": {},
   "cell_type": "markdown",
   "metadata": {},
   "source": [
    "#### Key takeaways\n",
    "1. The ***print() function*** is a built-in function. It prints/outputs a specified message to the screen/console window.\n",
    "\n",
    "2. Built-in functions, contrary to user-defined functions, are always available and don't have to be imported. Python 3.8 comes with 69 built-in functions. You can find their full list provided in alphabetical order in the Python Standard Library.\n",
    "\n",
    "3. To call a function (this process is known as function invocation or function call), you need to use the function name followed by parentheses. You can pass arguments into a function by placing them inside the parentheses. You must separate arguments with a comma, e.g., print(\"Hello,\", \"world!\"). An \"empty\" print() function outputs an empty line to the screen.\n",
    "\n",
    "4. Python strings are delimited with quotes, e.g., \"I am a string\" (double quotes), or 'I am a string, too' (single quotes).\n",
    "\n",
    "5. Computer programs are collections of instructions. An instruction is a command to perform a specific task when executed, e.g., to print a certain message to the screen.\n",
    "\n",
    "6. In Python strings the backslash (\\) is a special character which announces that the next character has a different meaning, e.g., \\n (the newline character) starts a new output line.\n",
    "\n",
    "7. ***Positional arguments*** are the ones whose meaning is dictated by their position, e.g., the second argument is outputted after the first, the third is outputted after the second, etc.\n",
    "\n",
    "8. ***Keyword arguments*** are the ones whose meaning is not dictated by their location, but by a special word (keyword) used to identify them.\n",
    "\n",
    "9. The end and sep parameters can be used for formatting the output of the print() function. The sep parameter specifies the separator between the outputted arguments, e.g., print(\"H\", \"E\", \"L\", \"L\", \"O\", sep=\"-\"), whereas the end parameter specifies what to print at the end of the print statement."
   ]
  },
  {
   "cell_type": "code",
   "execution_count": 4,
   "metadata": {},
   "outputs": [
    {
     "name": "stdout",
     "output_type": "stream",
     "text": [
      "1e-22\n",
      "I like \"Monty Python\"\n",
      "I like \"Monty Python\"\n",
      "True\n",
      "False\n"
     ]
    }
   ],
   "source": [
    "print(0.0000000000000000000001)\n",
    "print(\"I like \\\"Monty Python\\\"\")\n",
    "print('I like \"Monty Python\"')\n",
    "print(True > False) # True = 1, False = 0\n",
    "print(True < False)"
   ]
  },
  {
   "attachments": {},
   "cell_type": "markdown",
   "metadata": {},
   "source": [
    "#### Key takeaways\n",
    "1. ***Literals*** are notations for representing some fixed values in code. Python has various types of literals - for example, a literal can be a number (numeric literals, e.g., 123), or a string (string literals, e.g., \"I am a literal.\").\n",
    "\n",
    "2. The binary system is a system of numbers that employs 2 as the base. Therefore, a binary number is made up of 0s and 1s only, e.g., 1010 is 10 in decimal.\n",
    "\n",
    "Octal and hexadecimal numeration systems, similarly, employ 8 and 16 as their bases respectively. The hexadecimal system uses the decimal numbers and six extra letters.\n",
    "3. Integers (or simply ints) are one of the numerical types supported by Python. They are numbers written without a fractional component, e.g., 256, or -1 (negative integers).\n",
    "\n",
    "4. Floating-point numbers (or simply floats) are another one of the numerical types supported by Python. They are numbers that contain (or are able to contain) a fractional component, e.g., 1.27.\n",
    "\n",
    "5. To encode an apostrophe or a quote inside a string you can either use the escape character, e.g., 'I\\'m happy.', or open and close the string using an opposite set of symbols to the ones you wish to encode, e.g., \"I'm happy.\" to encode an apostrophe, and 'He said \"Python\", not \"typhoon\"' to encode a (double) quote.\n",
    "\n",
    "6. Boolean values are the two constant objects True and False used to represent truth values (in numeric contexts 1 is True, while 0 is False."
   ]
  },
  {
   "attachments": {},
   "cell_type": "markdown",
   "metadata": {},
   "source": [
    "### Arithmetic operators\n",
    "\n",
    "#### Exponent and Multiplication"
   ]
  },
  {
   "attachments": {},
   "cell_type": "markdown",
   "metadata": {},
   "source": [
    "#### Remember: It's possible to formulate the following rules based on this result:\n",
    "\n",
    "- when both ** or * arguments are integers, the result is an integer, too;\n",
    "- when at least one ** or * argument is a float, the result is a float, too.\n",
    "- - This is an important distinction to remember."
   ]
  },
  {
   "cell_type": "code",
   "execution_count": 11,
   "metadata": {},
   "outputs": [
    {
     "name": "stdout",
     "output_type": "stream",
     "text": [
      "<class 'int'>\n",
      "<class 'float'>\n",
      "<class 'float'>\n",
      "<class 'float'>\n",
      "<class 'int'>\n",
      "<class 'float'>\n",
      "<class 'float'>\n",
      "<class 'float'>\n"
     ]
    }
   ],
   "source": [
    "print(type(2 ** 3)) \n",
    "print(type(2 ** 3.))\n",
    "print(type(2. ** 3))\n",
    "print(type(2. ** 3.))\n",
    "print(type(2 * 3))\n",
    "print(type(2 * 3.))\n",
    "print(type(2. * 3))\n",
    "print(type(2. * 3.))\n"
   ]
  },
  {
   "attachments": {},
   "cell_type": "markdown",
   "metadata": {},
   "source": [
    "#### Division\n",
    "- ***Always outputs a float*** "
   ]
  },
  {
   "cell_type": "code",
   "execution_count": 15,
   "metadata": {},
   "outputs": [
    {
     "name": "stdout",
     "output_type": "stream",
     "text": [
      "<class 'float'>\n",
      "<class 'float'>\n",
      "<class 'float'>\n",
      "<class 'float'>\n"
     ]
    }
   ],
   "source": [
    "print(type(6 / 3))\n",
    "print(type(6 / 3.))\n",
    "print(type(6. / 3))\n",
    "print(type(6. / 3.))"
   ]
  },
  {
   "attachments": {},
   "cell_type": "markdown",
   "metadata": {},
   "source": [
    "#### Floor division\n",
    "- its result lacks the fractional part - it's absent (for integers), or is always equal to zero (for floats); this means that the results are always rounded;\n",
    "- it conforms to the integer vs. float rule."
   ]
  },
  {
   "cell_type": "code",
   "execution_count": 18,
   "metadata": {},
   "outputs": [
    {
     "name": "stdout",
     "output_type": "stream",
     "text": [
      "2\n",
      "2.0\n",
      "2.0\n",
      "2.0\n",
      "<class 'int'>\n",
      "<class 'float'>\n",
      "<class 'float'>\n",
      "<class 'float'>\n",
      "1\n",
      "1.0\n",
      "-2\n",
      "-2.0\n"
     ]
    }
   ],
   "source": [
    "print(6 // 3)\n",
    "print(6 // 3.)\n",
    "print(6. // 3)\n",
    "print(6. // 3.)\n",
    "print(type(6 // 3))\n",
    "print(type(6 // 3.))\n",
    "print(type(6. // 3))\n",
    "print(type(6. // 3.))"
   ]
  },
  {
   "attachments": {},
   "cell_type": "markdown",
   "metadata": {},
   "source": [
    "> ***Note: some of the values are negative. This will obviously affect the result. But how?***\n",
    "\n",
    "> - The result is two negative twos. \n",
    "- The real (not rounded) result is -1.5 in both cases. However, the results are the subjects of rounding. \n",
    "- The rounding goes toward the lesser integer value, and the lesser integer value is -2, hence: -2 and -2.0."
   ]
  },
  {
   "cell_type": "code",
   "execution_count": 21,
   "metadata": {},
   "outputs": [
    {
     "name": "stdout",
     "output_type": "stream",
     "text": [
      "1\n",
      "1.0\n",
      "-2\n",
      "-2.0\n",
      "<class 'int'>\n",
      "<class 'float'>\n",
      "<class 'int'>\n",
      "<class 'float'>\n"
     ]
    }
   ],
   "source": [
    "print(6 // 4)\n",
    "print(6. // 4)\n",
    "print(-6 // 4)\n",
    "print(6. // -4)\n",
    "print(type(6 // 4))\n",
    "print(type(6. // 4))\n",
    "print(type(-6 // 4))\n",
    "print(type(6. // -4))"
   ]
  },
  {
   "attachments": {},
   "cell_type": "markdown",
   "metadata": {},
   "source": [
    "#### % Modulo\n",
    "- In other words, it's the value left over after dividing one value by another to produce an integer quotient."
   ]
  },
  {
   "cell_type": "code",
   "execution_count": 19,
   "metadata": {},
   "outputs": [
    {
     "name": "stdout",
     "output_type": "stream",
     "text": [
      "<class 'int'>\n",
      "<class 'float'>\n"
     ]
    }
   ],
   "source": [
    "print(type(14 % 4))\n",
    "print(type(12 % 4.5))"
   ]
  },
  {
   "attachments": {},
   "cell_type": "markdown",
   "metadata": {},
   "source": [
    "#### Addition abd Subtraction"
   ]
  },
  {
   "cell_type": "code",
   "execution_count": 23,
   "metadata": {},
   "outputs": [
    {
     "name": "stdout",
     "output_type": "stream",
     "text": [
      "0\n",
      "4.0\n",
      "-8\n",
      "-4.0\n",
      "-1.1\n",
      "<class 'int'>\n",
      "<class 'float'>\n",
      "<class 'int'>\n",
      "<class 'float'>\n",
      "<class 'float'>\n"
     ]
    }
   ],
   "source": [
    "print(-4 + 4)\n",
    "print(-4. + 8)\n",
    "print(-4 - 4)\n",
    "print(4. - 8)\n",
    "print(-1.1)\n",
    "print(type(-4 + 4))\n",
    "print(type(-4. + 8))\n",
    "print(type(-4 - 4))\n",
    "print(type(4. - 8))\n",
    "print(type(-1.1))"
   ]
  },
  {
   "attachments": {},
   "cell_type": "markdown",
   "metadata": {},
   "source": [
    "#### Operastor Priorities (the hierarchy of priorities.)\n",
    "> Most of Python's operators have left-sided binding, which means that the calculation of the expression is conducted from left to right.\n",
    "> Results clearly shows that the exponentiation operator uses right-sided binding."
   ]
  },
  {
   "cell_type": "code",
   "execution_count": 24,
   "metadata": {},
   "outputs": [
    {
     "name": "stdout",
     "output_type": "stream",
     "text": [
      "1\n"
     ]
    }
   ],
   "source": [
    "# ----------->>>>> left side binding\n",
    "print(9 % 6 % 2)\n",
    "# <<<<<<----------Right side binding\n",
    "print(2 ** 2 ** 3)"
   ]
  },
  {
   "attachments": {},
   "cell_type": "markdown",
   "metadata": {},
   "source": [
    "#### Key takeaways\n",
    "1. An expression is a combination of values (or variables, operators, calls to functions ‒ you will learn about them soon) which evaluates to a certain value, e.g., 1 + 2.\n",
    "\n",
    "2. Operators are special symbols or keywords which are able to operate on the values and perform (mathematical) operations, e.g., the * operator multiplies two values: x * y.\n",
    "\n",
    "3. Arithmetic operators in Python: + (addition), - (subtraction), * (multiplication), / (classic division ‒ always returns a float), % (modulus ‒ divides left operand by right operand and returns the remainder of the operation, e.g., 5 % 2 = 1), ** (exponentiation ‒ left operand raised to the power of right operand, e.g., 2 ** 3 = 2 * 2 * 2 = 8), // (floor/integer division ‒ returns a number resulting from division, but rounded down to the nearest whole number, e.g., 3 // 2.0 = 1.0)\n",
    "\n",
    "4. A unary operator is an operator with only one operand, e.g., -1, or +3.\n",
    "\n",
    "5. A binary operator is an operator with two operands, e.g., 4 + 5, or 12 % 5.\n",
    "\n",
    "6. Some operators act before others – the hierarchy of priorities:\n",
    "\n",
    "the ** operator (exponentiation) has the highest priority;\n",
    "then the unary + and - (note: a unary operator to the right of the exponentiation operator binds more strongly, for example: 4 ** -1 equals 0.25)\n",
    "then *, /, //, and %;\n",
    "and, finally, the lowest priority: the binary + and -.\n",
    "7. Subexpressions in parentheses are always calculated first, e.g., 15 - 1 * (5 * (1 + 2)) = 0.\n",
    "\n",
    "8. The exponentiation operator uses right-sided binding, e.g., 2 ** 2 ** 3 = 256."
   ]
  },
  {
   "attachments": {},
   "cell_type": "markdown",
   "metadata": {},
   "source": [
    "#### Replication (another function of *)"
   ]
  },
  {
   "cell_type": "code",
   "execution_count": 31,
   "metadata": {},
   "outputs": [
    {
     "name": "stdout",
     "output_type": "stream",
     "text": [
      "JamesJamesJames\n",
      "JamesJamesJames\n",
      "ananan\n",
      "ananan\n",
      "22222\n",
      "22222\n"
     ]
    }
   ],
   "source": [
    "print(\"James\" * 3) \n",
    "print(3 * \"James\")\n",
    "print(3 * \"an\") \n",
    "print(\"an\" * 3)\n",
    "print(5 * \"2\")\n",
    "print(\"2\" * 5) "
   ]
  },
  {
   "cell_type": "code",
   "execution_count": null,
   "metadata": {},
   "outputs": [],
   "source": [
    "# using replication to draw a rectangle\n",
    "print(\"+\" + 10 * \"-\" + \"+\")\n",
    "print((\"|\" + \" \" * 10 + \"|\\n\") * 5, end=\"\")\n",
    "print(\"+\" + 10 * \"-\" + \"+\")"
   ]
  },
  {
   "attachments": {},
   "cell_type": "markdown",
   "metadata": {},
   "source": [
    "#### Key takeaways\n",
    "\n",
    "1. The print() function sends data to the console, while the input() function gets data from the console.\n",
    "\n",
    "2. The input() function comes with an optional parameter: the prompt string. It allows you to write a message before the user input, e.g.:\n",
    "\n",
    "- name = input(\"Enter your name: \")\n",
    "- print(\"Hello, \" + name + \". Nice to meet you!\")\n",
    "\n",
    "3. When the input() function is called, the program's flow is stopped, the prompt symbol keeps blinking (it prompts the user to take action when the console is switched to input mode) until the user has entered an input and/or pressed the Enter key.\n",
    "\n",
    "> NOTE\n",
    "\n",
    "- -  You can test the functionality of the input() function in its full scope locally on your machine. For resource optimization reasons, we have limited the maximum program execution time in Edube to a few seconds. Go to the Sandbox, copy-paste the above snippet, run the program, and do nothing ‒ just wait a few seconds to see what happens. Your program should be stopped automatically after a short moment. Now open IDLE, and run the same program there ‒ can you see the difference?\n",
    "\n",
    "Tip: the above-mentioned feature of the input() function can be used to prompt the user to end a program. Look at the code below:\n",
    "\n",
    "- name = input(\"Enter your name: \")\n",
    "- print(\"Hello, \" + name + \". Nice to meet you!\")\n",
    "\n",
    "- print(\"\\nPress Enter to end the program.\")\n",
    "- input()\n",
    "- print(\"THE END.\")\n",
    "\n",
    "\n",
    "4. The result of the input() function is a string. You can add strings to each other using the concatenation (+) operator. Check out this code:\n",
    "\n",
    "- num_1 = input(\"Enter the first number: \") # Enter 12\n",
    "- num_2 = input(\"Enter the second number: \") # Enter 21\n",
    "\n",
    "- print(num_1 + num_2) # the program returns 1221\n",
    "\n",
    "\n",
    "5. You can also multiply (* ‒ replication) strings, e.g.:\n",
    "\n",
    "- my_input = input(\"Enter something: \") # Example input: hello\n",
    "- print(my_input * 3) # Expected output: hellohellohello"
   ]
  }
 ],
 "metadata": {
  "kernelspec": {
   "display_name": "secondtest_env",
   "language": "python",
   "name": "python3"
  },
  "language_info": {
   "codemirror_mode": {
    "name": "ipython",
    "version": 3
   },
   "file_extension": ".py",
   "mimetype": "text/x-python",
   "name": "python",
   "nbconvert_exporter": "python",
   "pygments_lexer": "ipython3",
   "version": "3.10.6"
  },
  "orig_nbformat": 4
 },
 "nbformat": 4,
 "nbformat_minor": 2
}
