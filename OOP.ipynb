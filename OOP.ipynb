{
 "cells": [
  {
   "attachments": {},
   "cell_type": "markdown",
   "metadata": {},
   "source": [
    "##### Object Oriented Programming\n",
    "- - Every Data types is an Objects\n",
    "\n",
    "- Python has several built-in data types, including:\n",
    "\n",
    "- 1. **Integer (int)**: represents whole numbers, e.g. 0, 1, -3, 1000, etc.\n",
    "- 2. **Float (float)**: represents decimal numbers, e.g. 0.0, 3.14, -2.5, etc.\n",
    "- 3. **Boolean (bool)**: represents either True or False.\n",
    "- 4. **String (str)**: represents a sequence of characters enclosed in quotes, e.g. 'hello', \"world\", '123', etc.\n",
    "- 5. **List (list)**: represents an ordered collection of items enclosed in square brackets, e.g. [1, 2, 3], ['apple', 'banana', 'cherry'], etc.\n",
    "- 6. **Tuple (tuple)**: represents an ordered, immutable collection of items enclosed in parentheses, e.g. (1, 2, 3), ('apple', 'banana', 'cherry'), etc.\n",
    "- 7. **Set (set)**: represents an unordered collection of unique items enclosed in curly braces, \n",
    "e.g. {1, 2, 3}, {'apple', 'banana', 'cherry'}, etc.\n",
    "- 8. **Dictionary (dict)**: represents a collection of key-value pairs enclosed in curly braces, \n",
    "e.g. {'name': 'John', 'age': 30}, {'fruit': 'apple', 'color': 'red'}, etc.\n",
    "Each of these data types has its own unique set of properties and methods. \n",
    "\n",
    "> - ***Atributes*** are propeties of an object\n",
    " \n",
    "> - ***Methods*** are things that an object can do\n",
    "\n",
    "> - ***Classes*** are new objectes that are created with new Atrributes and Methods that are not already built-in in python. They are templates for objects and various instances of such templates can be created. So each of those templates will contain attributes and methods of the object that has been defined in that class. It is a blue print for an object of a particular data type. \n",
    "- We can access methods by using the dot operator\n",
    "\n",
    "> **PascalCase** = Every word capitalized , no spaces.\n",
    "> - **All methods** are functions but not all functions are Methods\n",
    "> - Methods are things that the instances of the class can do; they are functions attached to the particular data type that we are defining.\n",
    "> - Instances are created by assigning a variable to a call of that class.\n",
    "> ***Self*** is a variable that represents This instance of a class its always passed in as the first positional argument"
   ]
  },
  {
   "attachments": {},
   "cell_type": "markdown",
   "metadata": {},
   "source": [
    "> ***Basic class syntax***"
   ]
  },
  {
   "cell_type": "code",
   "execution_count": 12,
   "metadata": {},
   "outputs": [
    {
     "ename": "TypeError",
     "evalue": "ClassName.method_1() takes 0 positional arguments but 1 was given",
     "output_type": "error",
     "traceback": [
      "\u001b[1;31m---------------------------------------------------------------------------\u001b[0m",
      "\u001b[1;31mTypeError\u001b[0m                                 Traceback (most recent call last)",
      "\u001b[1;32mc:\\Users\\User_Central\\Desktop\\AICORE_PROJECTS\\OOP.ipynb Cell 2\u001b[0m in \u001b[0;36m<cell line: 11>\u001b[1;34m()\u001b[0m\n\u001b[0;32m      <a href='vscode-notebook-cell:/c%3A/Users/User_Central/Desktop/AICORE_PROJECTS/OOP.ipynb#W6sZmlsZQ%3D%3D?line=7'>8</a>\u001b[0m my_instance \u001b[39m=\u001b[39m ClassName()                \u001b[39m# two instances of the same class just for illlustration.\u001b[39;00m\n\u001b[0;32m      <a href='vscode-notebook-cell:/c%3A/Users/User_Central/Desktop/AICORE_PROJECTS/OOP.ipynb#W6sZmlsZQ%3D%3D?line=8'>9</a>\u001b[0m my_other_instace \u001b[39m=\u001b[39m ClassName()           \n\u001b[1;32m---> <a href='vscode-notebook-cell:/c%3A/Users/User_Central/Desktop/AICORE_PROJECTS/OOP.ipynb#W6sZmlsZQ%3D%3D?line=10'>11</a>\u001b[0m my_instance\u001b[39m.\u001b[39;49mmethod_1()\n",
      "\u001b[1;31mTypeError\u001b[0m: ClassName.method_1() takes 0 positional arguments but 1 was given"
     ]
    }
   ],
   "source": [
    "class ClassName():\n",
    "    def method_1():                        # Missing self\n",
    "        print('calling the first method')\n",
    "    \n",
    "    def method_2():                        # Missing self\n",
    "        print('calling the Second method')\n",
    "        \n",
    "my_instance = ClassName()                # two instances of the same class just for illlustration.\n",
    "my_other_instance = ClassName()           \n",
    "\n",
    "my_instance.method_1()    "
   ]
  },
  {
   "attachments": {},
   "cell_type": "markdown",
   "metadata": {},
   "source": [
    "> ####  ***\"self\"***"
   ]
  },
  {
   "cell_type": "code",
   "execution_count": 14,
   "metadata": {},
   "outputs": [
    {
     "name": "stdout",
     "output_type": "stream",
     "text": [
      "calling the first method\n"
     ]
    }
   ],
   "source": [
    "class ClassName():\n",
    "    def method_1(self):                     # self added\n",
    "        print('calling the first method')\n",
    "    \n",
    "    def method_2(Self):\n",
    "        print('calling the decond method')  # self added\n",
    "        \n",
    "my_instance = ClassName()                # two instances of the same class just for illlustration.\n",
    "my_other_instace = ClassName()           \n",
    "\n",
    "my_instance.method_1()                   # We can access methods by using the dot operator"
   ]
  },
  {
   "cell_type": "code",
   "execution_count": 7,
   "metadata": {},
   "outputs": [
    {
     "name": "stdout",
     "output_type": "stream",
     "text": [
      "Ready up!\n",
      "<__main__.Player object at 0x000001E7B9E19990>\n",
      "<class '__main__.Player'>\n"
     ]
    }
   ],
   "source": [
    "class Player:\n",
    "    def play(self):\n",
    "        print(f\"Ready up!\")\n",
    "        \n",
    "player_instance = Player()\n",
    "player_instance.play()\n",
    "\n",
    "print(player_instance)\n",
    "print(type(player_instance))"
   ]
  },
  {
   "cell_type": "code",
   "execution_count": 16,
   "metadata": {},
   "outputs": [
    {
     "name": "stdout",
     "output_type": "stream",
     "text": [
      "Ready up harry!\n"
     ]
    }
   ],
   "source": [
    "class Player:\n",
    "    def play(self, name):\n",
    "        print(f\"Ready up {name}!\")\n",
    "\n",
    "player_instance = Player()\n",
    "player_instance.play('harry')\n",
    "\n"
   ]
  },
  {
   "cell_type": "code",
   "execution_count": null,
   "metadata": {},
   "outputs": [],
   "source": [
    "class Player:\n",
    "    \n",
    "    def set_name(self):\n",
    "        self.name = 'Harry' # assigned within the class\n",
    "        \n",
    "    def play(self):\n",
    "        print(f\"Ready up! My name is {self.name}\") # access within clas\n",
    "\n",
    "harry = Player()\n",
    "harry.set_name()\n",
    "harry.play()\n",
    "\n",
    "print(harry.name) # access outside of class\n",
    "harry.name = 'HARRY' # assign outside of class\n",
    "print(harry.name)"
   ]
  },
  {
   "cell_type": "code",
   "execution_count": 19,
   "metadata": {},
   "outputs": [
    {
     "name": "stdout",
     "output_type": "stream",
     "text": [
      "Ready up! My name is harry\n"
     ]
    }
   ],
   "source": [
    "class Player:\n",
    "    \n",
    "    def set_name(self, name):\n",
    "        self.name = name\n",
    "        \n",
    "    def play(self):\n",
    "        print(f\"Ready up! My name is {self.name}\")\n",
    "\n",
    "harry = Player()\n",
    "harry.set_name('harry')\n",
    "harry.play()"
   ]
  },
  {
   "cell_type": "code",
   "execution_count": 2,
   "metadata": {},
   "outputs": [
    {
     "name": "stdout",
     "output_type": "stream",
     "text": [
      "soap 64\n",
      "Artyom 53\n",
      "Artyom 64\n",
      "53 soap Artyom\n"
     ]
    }
   ],
   "source": [
    "class Player:\n",
    "    \n",
    "    def __init__(self, name, level=1):\n",
    "        self.name = name\n",
    "        self.level = level\n",
    "        \n",
    "    def play(self):\n",
    "        print(f\"Ready up! My name is {self.name}. This is level {self.level}\")\n",
    "\n",
    "soap = Player('soap', 64)\n",
    "artyom = Player('Artyom', 53)\n",
    "print(soap.name, soap.level)\n",
    "print(artyom.name, artyom.level)\n",
    "print(artyom.name, soap.level)\n",
    "print(artyom.level, soap.name, artyom.name)"
   ]
  },
  {
   "attachments": {},
   "cell_type": "markdown",
   "metadata": {},
   "source": [
    "#### Magic Method defines what a class should do when some particular python syntax is used on it."
   ]
  },
  {
   "cell_type": "code",
   "execution_count": null,
   "metadata": {},
   "outputs": [],
   "source": [
    "class Player:\n",
    "    \n",
    "    def __init__(self, name, level=1):\n",
    "        self.name = name\n",
    "        self.level = level\n",
    "        \n",
    "    def play(self):\n",
    "        print(f\"Ready up! My name is {self.name}. This is level {self.level}\")\n",
    "        \n",
    "    def __gt__(self, thing_being_added):\n",
    "        \"\"\"Compare the player with something using the greater than operator\"\"\"\n",
    "        print('adding:', thing_being_added)\n",
    "        return self.level > thing_being_added\n",
    "    \n",
    "    def __repr__(self):"
   ]
  },
  {
   "attachments": {},
   "cell_type": "markdown",
   "metadata": {},
   "source": [
    "#### ***OOP***\n",
    "> Objects in Python\n",
    "- Object-oriented programming (OOP) is a programming paradigm where everything revolves around objects. Before we proceed, what is an object?\n",
    "\n",
    "Almost everything in Python is an object. When a variable is declared and assigned an object, the variable becomes an instance of that object.\n",
    "- All data types are Objects"
   ]
  },
  {
   "cell_type": "code",
   "execution_count": 4,
   "metadata": {},
   "outputs": [
    {
     "name": "stdout",
     "output_type": "stream",
     "text": [
      "(4+5j)\n",
      "4.2\n",
      "I am a string object, but \"sentence\" is an instance of a string object\n"
     ]
    }
   ],
   "source": [
    "# integers are objects\n",
    "x = 6\n",
    "# floats are objects\n",
    "y = 4.2\n",
    "# complex numbers are objects\n",
    "z = 4 + 5j\n",
    "# Strings are objects\n",
    "sentence = 'I am a string object, but \"sentence\" is an instance of a string object'\n",
    "print(z)\n",
    "print(y)\n",
    "print(sentence)"
   ]
  },
  {
   "attachments": {},
   "cell_type": "markdown",
   "metadata": {},
   "source": [
    "Objects have attributes and methods that can be accessed using \" . \""
   ]
  },
  {
   "cell_type": "code",
   "execution_count": 24,
   "metadata": {},
   "outputs": [
    {
     "name": "stdout",
     "output_type": "stream",
     "text": [
      "4.0\n",
      "5.0\n",
      "(4-5j)\n"
     ]
    }
   ],
   "source": [
    "print(z.real) # real is an attribute that corresponds to the real part of a complex number\n",
    "print(z.imag) # imag is an attribute that corresponds to the imaginary part of a complex number\n",
    "print(z.conjugate()) # conjugate is a method that returns the conjugate of the complex number"
   ]
  },
  {
   "attachments": {},
   "cell_type": "markdown",
   "metadata": {},
   "source": [
    "> Internally, Python has the code to create all these objects. The code acts as a blueprint; therefore, every new instance that is created is consistent. The blueprint is called a class."
   ]
  },
  {
   "cell_type": "code",
   "execution_count": null,
   "metadata": {},
   "outputs": [],
   "source": [
    "help(str) # You can obtain further information on this 'blueprint' using the help function. "
   ]
  },
  {
   "attachments": {},
   "cell_type": "markdown",
   "metadata": {},
   "source": [
    "#### Introduction to OOP\n",
    "- In most cases, code can be more neatly organised on a conceptual level by grouping related functions together into a class.\n",
    "- This makes it considerably easy to handle repetitive tasks for similar data types, similar to the way that we use loops/functions."
   ]
  },
  {
   "cell_type": "code",
   "execution_count": 32,
   "metadata": {},
   "outputs": [],
   "source": [
    "# Example of unorganised code\n",
    "# Say you want to track the employees in an organisation.\n",
    "\n",
    "spongebob = ['SpongeBob SquarePants', 'Fry Cook', 'Sea Sponge', 1500]\n",
    "squidward = ['Squidward Tentacles', 'Cashier', 'Octopus', 700]\n",
    "krabs = ['Eugene Krabs', 'Owner', 'Crab', 200000]\n",
    "patrick = ['Patrick Star', 'Starfish', 0]"
   ]
  },
  {
   "attachments": {},
   "cell_type": "markdown",
   "metadata": {},
   "source": [
    "> Although this appears neat, there is still a problem. When handling large code, it might be difficult to remember the structure of each employee. There is a list here, and it might be difficult to remember the structure of the list (indices).\n",
    "\n",
    "> For instance, if you have a large piece of code and have to retrieve krabs[0] several lines away, how can you ascertain that index 0 corresponds to the name?\n",
    "\n",
    "> In the above example, observe that Patrick has no position; thus, while for the rest, index 1 corresponds to the position, for Patrick, it corresponds to the species.\n",
    "\n",
    "> Functions can be exploited to address this limitation, as shown below:"
   ]
  },
  {
   "cell_type": "code",
   "execution_count": 6,
   "metadata": {},
   "outputs": [],
   "source": [
    "def employee(name, position, species, salary):\n",
    "    return {'Name' : name, 'Position': position, 'Species': species, 'Salary': salary}\n",
    "\n",
    "spongebob = employee('SpongeBob SquarePants', 'Fry Cook', 'Sea Sponge', 1500)\n",
    "squidward = employee('Squidward Tentacles', 'Cashier', 'Octopus', 700)\n",
    "krabs = employee('Eugene Krabs', 'Owner', 'Crab', 200000)\n",
    "patrick = employee('Patrick Star', None, 'Starfish', 0)\n"
   ]
  },
  {
   "attachments": {},
   "cell_type": "markdown",
   "metadata": {},
   "source": [
    "- In the above code, we create a function called employee, which returns the **name, position, species and salary**. Subsequently, we add some actions to each employee."
   ]
  },
  {
   "cell_type": "code",
   "execution_count": 7,
   "metadata": {},
   "outputs": [],
   "source": [
    "def increase_salary(employee, amount):\n",
    "    employee[\"Salary\"] += amount"
   ]
  },
  {
   "cell_type": "code",
   "execution_count": 53,
   "metadata": {},
   "outputs": [
    {
     "name": "stdout",
     "output_type": "stream",
     "text": [
      "100\n"
     ]
    }
   ],
   "source": [
    "increase_salary(patrick, 100)\n",
    "print(patrick[\"Salary\"])"
   ]
  },
  {
   "cell_type": "code",
   "execution_count": 54,
   "metadata": {},
   "outputs": [
    {
     "name": "stdout",
     "output_type": "stream",
     "text": [
      "250000\n"
     ]
    }
   ],
   "source": [
    "increase_salary(krabs, 50000)\n",
    "print(krabs[\"Salary\"])"
   ]
  },
  {
   "attachments": {},
   "cell_type": "markdown",
   "metadata": {},
   "source": [
    "> One solution would be to use dictionaries; this way, it will be easy to remember the position of each value. However, that might leave room for errors because of the required coding for adding new keys to the employees.\n",
    "\n",
    "In this situation, objects are the most suitable, where\n",
    "\n",
    "- attributes are predefined and limited to some boundaries.\n",
    "- specific behaviours can be defined (functions limit us to the method characteristics of the objects that already exist in Python).\n",
    "- classes act as blueprints for these use cases."
   ]
  },
  {
   "attachments": {},
   "cell_type": "markdown",
   "metadata": {},
   "source": [
    "#### ***Classes***\n",
    "\n",
    "- Classes are the 'blueprints' for creating objects.\n",
    "- They have a user-defined structure so that every object created with this class is consistent.\n",
    "- Classes do not contain any data.\n",
    "- They usually contain the attributes and methods that are common to the objects built with these classes.\n",
    "- When an object is assigned to a variable, the variable becomes an instance of the object.\n",
    "\n",
    "> Basic syntax\n",
    "The basic syntax for creating a class is shown below:\n"
   ]
  },
  {
   "cell_type": "code",
   "execution_count": 58,
   "metadata": {},
   "outputs": [],
   "source": [
    "# class definition\n",
    "class ClassName:\n",
    "\n",
    "    # class constructor\n",
    "    def __init__(self, param1, param2=1):\n",
    "\n",
    "        # attributes\n",
    "        self.param1 = param1\n",
    "        self.param2 = param2\n",
    "\n",
    "        # attribute defined using other attributes\n",
    "        self.param3 = param2 * 2\n",
    "\n",
    "        # attribute defined without a parameter\n",
    "        self.param4 = 0\n",
    "\n",
    "    # methods\n",
    "    def some_method(self, ext_input):  # can add external arguments\n",
    "        return self.param1 + ext_input + ClassName.att\n",
    "\n",
    "    def some_other_method(self, ext_input1, ext_input2):  # method to modify attribute\n",
    "        self.param4 = ext_input1 + ext_input2"
   ]
  },
  {
   "attachments": {},
   "cell_type": "markdown",
   "metadata": {},
   "source": [
    "For our employee example, we can define a class following the above syntax:> "
   ]
  },
  {
   "cell_type": "code",
   "execution_count": 8,
   "metadata": {},
   "outputs": [],
   "source": [
    "class Employee:  # The name of the class has to be UpperCamelCase or PascalCase.\n",
    "    # __init__ is the constructor, and .__init__() sets the initial state of the object.\n",
    "    def __init__(self, name, position, species, total_hours, salary):\n",
    "        self.name = name  # We will discuss 'self' shortly; basically, it is a way to set an attribute to an instance.\n",
    "        self.position = position\n",
    "        self.species = species\n",
    "        self.total_hours = total_hours\n",
    "        self.salary = salary\n",
    "\n",
    "    def increase_salary(self, amount):\n",
    "        self.salary = self.salary + amount\n",
    "        self.promotion()\n",
    "\n",
    "    def work(self):\n",
    "        '''\n",
    "        Each time we call the work function, the total number of hours increases by one.\n",
    "        If the total number of hours reaches 40, 80, 120..., we will increase the employee salary.\n",
    "        '''\n",
    "        self.total_hours += 1\n",
    "        if self.total_hours % 40 == 0:\n",
    "            self.increase_salary(50)\n",
    "\n",
    "    def promotion(self):\n",
    "        if self.salary > 200000:\n",
    "            self.position = 'Co-owner'"
   ]
  },
  {
   "attachments": {},
   "cell_type": "markdown",
   "metadata": {},
   "source": [
    "> Employee is now the blueprint that guides the construction of an employee object.\n",
    "- Below, we see this in action with the Employee class.\n"
   ]
  },
  {
   "cell_type": "code",
   "execution_count": 10,
   "metadata": {},
   "outputs": [],
   "source": [
    "spongebob = Employee(name='SpongeBob SquarePants', position='Fry Cook', species='Sea Sponge', total_hours=0, salary=1500)\n",
    "\n",
    "# spongebob is the instance where the Employee object is built. Thus, when instantiating spongebob, self refers to spongebob."
   ]
  },
  {
   "attachments": {},
   "cell_type": "markdown",
   "metadata": {},
   "source": [
    "> Here, spongebob is an instance of the Employee object. It has attributes (name, position, species, salary) and methods (increase_salary and work).\n",
    "\n",
    "- **Practical application**\n",
    "\n",
    "- As a demonstration, we apply the methods practically."
   ]
  },
  {
   "cell_type": "code",
   "execution_count": null,
   "metadata": {},
   "outputs": [],
   "source": [
    "# If spongebob works 8 hours a day, 5 days a week, and 40 weeks a year,\n",
    "# what would his salary be at the end of the year?\n",
    "\n",
    "# How many hours does SpongeBob need to work to be promoted to co-owner?"
   ]
  },
  {
   "cell_type": "code",
   "execution_count": 11,
   "metadata": {},
   "outputs": [
    {
     "name": "stdout",
     "output_type": "stream",
     "text": [
      "3500\n"
     ]
    }
   ],
   "source": [
    "for _ in range(8 * 5 * 40):\n",
    "    spongebob.work() # Increase .total_hours by 1 hour\n",
    "\n",
    "print(spongebob.salary)"
   ]
  },
  {
   "cell_type": "code",
   "execution_count": 12,
   "metadata": {},
   "outputs": [
    {
     "name": "stdout",
     "output_type": "stream",
     "text": [
      "158840\n"
     ]
    }
   ],
   "source": [
    "spongebob = Employee(name='SpongeBob SquarePants', position='Fry Cook', species='Sea Sponge', total_hours=0, salary=1500)\n",
    "\n",
    "# spongebob is the instance where the Employee object is built. Thus, when instantiating Spongebob, self refers to spongebob.\n",
    "while spongebob.position != 'Co-owner':\n",
    "    spongebob.work()\n",
    "\n",
    "print(spongebob.total_hours)"
   ]
  },
  {
   "attachments": {},
   "cell_type": "markdown",
   "metadata": {},
   "source": [
    "> **Class inheritance**\n",
    "- classes can be employed as a base to create other classes; this is called INHERITANCE.\n",
    "- The class used as a base is called the BASE CLASS or Parent.\n",
    "- The new class is called the DERIVED CLASS(ES) or Child(ren).\n",
    "- The derived classes 'inherit' features from the base class.\n",
    "- Similar to 'self' above, super() can be utilised to access the elements (attributes and methods) in the parent.\n",
    "- Additionally, the inherited methods can be overwritten using the same method name.\n",
    "- New methods can be defined using novel method names."
   ]
  },
  {
   "cell_type": "code",
   "execution_count": null,
   "metadata": {},
   "outputs": [],
   "source": [
    "class Rectangle:\n",
    "    def __init__(self, length, width):\n",
    "        self.length = length\n",
    "        self.width = width\n",
    "\n",
    "    def area(self):\n",
    "        return self.length * self.width\n",
    "\n",
    "    def perimeter(self):\n",
    "        return 2 * self.length + 2 * self.width\n"
   ]
  },
  {
   "cell_type": "code",
   "execution_count": 65,
   "metadata": {},
   "outputs": [
    {
     "ename": "NameError",
     "evalue": "name 'Rectangle' is not defined",
     "output_type": "error",
     "traceback": [
      "\u001b[1;31m---------------------------------------------------------------------------\u001b[0m",
      "\u001b[1;31mNameError\u001b[0m                                 Traceback (most recent call last)",
      "\u001b[1;32mc:\\Users\\User_Central\\Desktop\\AICORE_PROJECTS\\OOP.ipynb Cell 40\u001b[0m in \u001b[0;36m<cell line: 1>\u001b[1;34m()\u001b[0m\n\u001b[1;32m----> <a href='vscode-notebook-cell:/c%3A/Users/User_Central/Desktop/AICORE_PROJECTS/OOP.ipynb#X64sZmlsZQ%3D%3D?line=0'>1</a>\u001b[0m rec_1 \u001b[39m=\u001b[39m Rectangle(\u001b[39m2\u001b[39m, \u001b[39m5\u001b[39m)\n\u001b[0;32m      <a href='vscode-notebook-cell:/c%3A/Users/User_Central/Desktop/AICORE_PROJECTS/OOP.ipynb#X64sZmlsZQ%3D%3D?line=1'>2</a>\u001b[0m \u001b[39mprint\u001b[39m(rec_1\u001b[39m.\u001b[39marea())\n\u001b[0;32m      <a href='vscode-notebook-cell:/c%3A/Users/User_Central/Desktop/AICORE_PROJECTS/OOP.ipynb#X64sZmlsZQ%3D%3D?line=2'>3</a>\u001b[0m \u001b[39mprint\u001b[39m(rec_1\u001b[39m.\u001b[39mperimeter())\n",
      "\u001b[1;31mNameError\u001b[0m: name 'Rectangle' is not defined"
     ]
    }
   ],
   "source": [
    "rec_1 = Rectangle(2, 5)\n",
    "print(rec_1.area())\n",
    "print(rec_1.perimeter())"
   ]
  },
  {
   "cell_type": "code",
   "execution_count": 64,
   "metadata": {},
   "outputs": [],
   "source": [
    "# Observe the Square class\n",
    "\n",
    "class Square:\n",
    "    def __init__(self, length):\n",
    "        self.length = length\n",
    "\n",
    "    def area(self):\n",
    "        return self.length * self.length\n",
    "\n",
    "    def perimeter(self):\n",
    "        return 4 * self.length\n"
   ]
  },
  {
   "attachments": {},
   "cell_type": "markdown",
   "metadata": {},
   "source": [
    "- Basically, the Square class is the same as the Rectangle class, i.e. both length and width are the same. In other words, both attributes are not required to create a Square object.\n",
    "\n",
    "- To inherit a base class, the super() function can be applied, which, in short, is similar to using self, but with the base class."
   ]
  },
  {
   "cell_type": "code",
   "execution_count": 66,
   "metadata": {},
   "outputs": [
    {
     "data": {
      "text/plain": [
       "16"
      ]
     },
     "execution_count": 66,
     "metadata": {},
     "output_type": "execute_result"
    }
   ],
   "source": [
    "square = Square(4)\n",
    "square.area()"
   ]
  },
  {
   "cell_type": "code",
   "execution_count": 68,
   "metadata": {},
   "outputs": [],
   "source": [
    "class Rectangle:\n",
    "    def __init__(self, length, width):\n",
    "        self.length = length\n",
    "        self.width = width\n",
    "\n",
    "    def area(self):\n",
    "        return self.length * self.width\n",
    "\n",
    "    def perimeter(self):\n",
    "        return 2 * self.length + 2 * self.width\n",
    "\n",
    "\n",
    "class Square(Rectangle):\n",
    "    def __init__(self, length):\n",
    "        super().__init__(length, length)\n",
    "        self.width\n",
    "        # super is calling the __init__ in Rectangle, which is similar to\n",
    "        # instantiating a Rectangle object with length=length and width=length.\n",
    "        # The new class will also obtain (inherit) the rectangle's methods."
   ]
  },
  {
   "cell_type": "code",
   "execution_count": 69,
   "metadata": {},
   "outputs": [
    {
     "name": "stdout",
     "output_type": "stream",
     "text": [
      "rectangle area is 16\n",
      "square area is 16\n",
      "rectangle type is <class '__main__.Rectangle'>\n",
      "square type is <class '__main__.Square'>\n"
     ]
    }
   ],
   "source": [
    "rectangle = Rectangle(4, 4)\n",
    "square = Square(4)\n",
    "print(f'rectangle area is {rectangle.area()}')\n",
    "print(f'square area is {square.area()}')\n",
    "print(f'rectangle type is {type(rectangle)}')\n",
    "print(f'square type is {type(square)}')\n"
   ]
  },
  {
   "attachments": {},
   "cell_type": "markdown",
   "metadata": {},
   "source": [
    "> The functions, issubclass and isinstance, can be utilised to examine the relation between the classes."
   ]
  },
  {
   "cell_type": "code",
   "execution_count": 70,
   "metadata": {},
   "outputs": [
    {
     "name": "stdout",
     "output_type": "stream",
     "text": [
      "Is the Square Class a subclass of the Rectangle Class?: True\n",
      "Is the Rectagle Class a subclass of the Square Class?: False\n",
      "Is square an instance of a Square object?: True\n",
      "Is \"Hello\" an instance of a String Object?: True\n",
      "Is \"Hello\" an instance of a Integer Object?: False\n",
      "Is square an instance of a Rectangle object?: True\n",
      "Is rectangle an instance of a Square object?: False\n"
     ]
    }
   ],
   "source": [
    "print(f'Is the Square Class a subclass of the Rectangle Class?: {issubclass(Square, Rectangle)}')\n",
    "print(f'Is the Rectagle Class a subclass of the Square Class?: {issubclass(Rectangle, Square)}')\n",
    "print(f'Is square an instance of a Square object?: {isinstance(square, Square)}') \n",
    "print(f'Is \"Hello\" an instance of a String Object?: {isinstance(\"Hello\", str)}')\n",
    "print(f'Is \"Hello\" an instance of a Integer Object?: {isinstance(\"Hello\", int)}')\n",
    "print(f'Is square an instance of a Rectangle object?: {isinstance(square, Rectangle)}')\n",
    "print(f'Is rectangle an instance of a Square object?: {isinstance(rectangle, Square)}')\n"
   ]
  },
  {
   "attachments": {},
   "cell_type": "markdown",
   "metadata": {},
   "source": [
    "> Although only the length was supplied to Square, Square implicitly inherits all attributes from Rectangle."
   ]
  },
  {
   "cell_type": "code",
   "execution_count": 71,
   "metadata": {},
   "outputs": [
    {
     "name": "stdout",
     "output_type": "stream",
     "text": [
      "{'length': 4, 'width': 4}\n",
      "['__class__', '__delattr__', '__dict__', '__dir__', '__doc__', '__eq__', '__format__', '__ge__', '__getattribute__', '__gt__', '__hash__', '__init__', '__init_subclass__', '__le__', '__lt__', '__module__', '__ne__', '__new__', '__reduce__', '__reduce_ex__', '__repr__', '__setattr__', '__sizeof__', '__str__', '__subclasshook__', '__weakref__', 'area', 'length', 'perimeter', 'width']\n"
     ]
    }
   ],
   "source": [
    "print(square.__dict__)\n",
    "# __dict__ is a method that returns a dictionary with the \n",
    "# attributes and values of an instance.\n",
    "print(dir(square))"
   ]
  },
  {
   "attachments": {},
   "cell_type": "markdown",
   "metadata": {},
   "source": [
    "> Principles of OOP Design\n",
    "Introduction\n",
    "Effective software design is based on the concept of Intentional Design. Code creation often involves the repeated use of the same algorithms. Thus, it is important to organise your code for the following reasons:\n",
    "\n",
    "1. To save time when you or your team members have to revisit the code.\n",
    "2. To reuse the same algorithm, but with different parameters.\n",
    "3. To avoid the common pitfalls caused by extensive lines of code.\n",
    "4. To increase code flexibility by incorporating placeholders in functions or methods.\n",
    "> In this notebook, you will learn the hierarchical structure of a project, which is the foundation of clean code. We will learn how to use Python's features to organise code and what level of granularity to consider for separation.\n",
    "\n",
    "Before proceeding, run the following code to download a few necessary scripts for the lesson.\n",
    "\n",
    "> !wget \"https://aicore-files.s3.amazonaws.com/Foundations/Software_Engineering/bar.py\" \"https://aicore-files.s3.amazonaws.com/Foundations/Software_Engineering/foo.py\" "
   ]
  },
  {
   "attachments": {},
   "cell_type": "markdown",
   "metadata": {},
   "source": [
    "> Concerns, Scope and Namespaces\n",
    "- Before we explore classes, let us define the three concepts: **concerns, scope and Namespace**\n",
    "\n",
    "> Concerns\n",
    "##### In programming, a concern is a unique behaviour presented by your code.\n",
    "\n",
    "##### For example, if you are extracting cat images from a website, the concerns can be\n",
    "\n",
    "    - connecting to the webpage.\n",
    "    - downloading the image.\n",
    "    - confirming the legitimacy of the used URL.\n",
    "> Scope\n",
    "##### The scope of an object defines the area of a program in which one can unambiguously access a name.\n",
    "##### You may already be familiar with this concept, as well as the two general scopes: global and local.\n",
    "\n",
    "1. Global scope: names are available throughout the code, even within functions.\n",
    "2. Local scope: names are only available within this scope. For example, variables within a function are not accessible outside the function."
   ]
  },
  {
   "cell_type": "code",
   "execution_count": null,
   "metadata": {},
   "outputs": [],
   "source": [
    "outside_variable = 'I am global!'\n",
    "\n",
    "def awesome_function():\n",
    "    print('The outside variable says: ' + outside_variable)\n",
    "    awesomeness = 9001\n",
    "\n",
    "# When running the function, it will run everything inside\n",
    "# Notice that awesome_function does not return anything (Void function).\n",
    "# Thus, it will only print out anything if there is a print statement INSIDE the function.\n",
    "    awesome_function()\n",
    "    print(awesomeness)"
   ]
  }
 ],
 "metadata": {
  "kernelspec": {
   "display_name": "secondtest_env",
   "language": "python",
   "name": "python3"
  },
  "language_info": {
   "codemirror_mode": {
    "name": "ipython",
    "version": 3
   },
   "file_extension": ".py",
   "mimetype": "text/x-python",
   "name": "python",
   "nbconvert_exporter": "python",
   "pygments_lexer": "ipython3",
   "version": "3.10.6"
  },
  "orig_nbformat": 4
 },
 "nbformat": 4,
 "nbformat_minor": 2
}
