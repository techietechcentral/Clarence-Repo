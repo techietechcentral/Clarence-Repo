{
  "cells": [
    {
      "cell_type": "markdown",
      "metadata": {
        "id": "IFU_EQqFXQ5z"
      },
      "source": [
        "# Debugging"
      ]
    },
    {
      "cell_type": "markdown",
      "metadata": {
        "id": "lzV6wyQZXQ52"
      },
      "source": [
        "## Learning Objectives\n",
        "- Learn how to interpret error messages thrown by Python.\n",
        "- Understand the most common bugs you might find.\n",
        "- Learn some debugging techniques.\n",
        "- Learn the most common errors in Python and their solutions.\n",
        "- Learn how to read errors in the console. \n",
        "- Learn how to use the debugger."
      ]
    },
    {
      "cell_type": "markdown",
      "metadata": {
        "id": "HoFHCWC6XQ53"
      },
      "source": [
        "## Introduction\n",
        "Understanding the errors raised by Python (or any programming language) is crucial for progress in programming. You can expend a considerable amount of time figuring out an error if your knowledge of errors and how to address them is inadequate.\n",
        "\n",
        "When handling errors, adopting the right mindset is crucial. Fortunately, Python offers a compiler that traces the error and provides information on the location of the issue to the user."
      ]
    },
    {
      "cell_type": "markdown",
      "metadata": {
        "id": "PJZsu753XQ54"
      },
      "source": [
        "## Python Standard Error"
      ]
    },
    {
      "cell_type": "markdown",
      "metadata": {
        "id": "QNSMP_tyXQ54"
      },
      "source": [
        "If Python encounters an error in code during compilation, it will print the error (or exception) directly to the console. The error message provides information on the conflicting line to the user. \n",
        "\n",
        "For example,"
      ]
    },
    {
      "cell_type": "code",
      "execution_count": null,
      "metadata": {
        "id": "q63-hX8MXQ54",
        "outputId": "0b4ebc29-dd79-4a3a-97bb-0d592b23eb20"
      },
      "outputs": [
        {
          "name": "stdout",
          "output_type": "stream",
          "text": [
            "15\n"
          ]
        },
        {
          "ename": "TypeError",
          "evalue": "unsupported operand type(s) for +: 'int' and 'str'",
          "output_type": "error",
          "traceback": [
            "\u001b[1;31m---------------------------------------------------------------------------\u001b[0m",
            "\u001b[1;31mTypeError\u001b[0m                                 Traceback (most recent call last)",
            "\u001b[1;32m<ipython-input-2-5c3285622dcc>\u001b[0m in \u001b[0;36m<module>\u001b[1;34m\u001b[0m\n\u001b[0;32m      4\u001b[0m \u001b[1;33m\u001b[0m\u001b[0m\n\u001b[0;32m      5\u001b[0m \u001b[0mprint\u001b[0m\u001b[1;33m(\u001b[0m\u001b[0mx\u001b[0m \u001b[1;33m+\u001b[0m \u001b[0my\u001b[0m\u001b[1;33m)\u001b[0m\u001b[1;33m\u001b[0m\u001b[1;33m\u001b[0m\u001b[0m\n\u001b[1;32m----> 6\u001b[1;33m \u001b[0mprint\u001b[0m\u001b[1;33m(\u001b[0m\u001b[0mx\u001b[0m \u001b[1;33m+\u001b[0m \u001b[0mz\u001b[0m\u001b[1;33m)\u001b[0m\u001b[1;33m\u001b[0m\u001b[1;33m\u001b[0m\u001b[0m\n\u001b[0m\u001b[0;32m      7\u001b[0m \u001b[0mprint\u001b[0m\u001b[1;33m(\u001b[0m\u001b[0mx\u001b[0m \u001b[1;33m*\u001b[0m \u001b[0my\u001b[0m\u001b[1;33m)\u001b[0m\u001b[1;33m\u001b[0m\u001b[1;33m\u001b[0m\u001b[0m\n",
            "\u001b[1;31mTypeError\u001b[0m: unsupported operand type(s) for +: 'int' and 'str'"
          ]
        }
      ],
      "source": [
        "x = 5\n",
        "y = 10\n",
        "z = 'Dog'\n",
        "\n",
        "print(x + y)\n",
        "print(x + z)\n",
        "print(x * y)"
      ]
    },
    {
      "cell_type": "markdown",
      "metadata": {
        "id": "Bu9tQ9LOXQ56"
      },
      "source": [
        "By inspecting the message provided by Python, we establish that it\n",
        "\n",
        "- provides information about the error (`TypeError: unsupported operand type(s) for +: 'int' and 'str'`).\n",
        "- points to the line causing the error (`----> 6 print(x + z)`).\n",
        "\n",
        "Notice that line 5 was executed (it printed out x + y `15`), but line 7 was not (it did not print x * y `50`). This is because Python halts the code execution immediately it finds an error,."
      ]
    },
    {
      "cell_type": "markdown",
      "metadata": {
        "id": "LnZ2qi7PXQ56"
      },
      "source": [
        "In most cases, this information provided will be enough to debug your code. In the above example, we know that the error is in line 6, which makes the issue easy to correct."
      ]
    },
    {
      "cell_type": "code",
      "execution_count": null,
      "metadata": {
        "id": "_7xWZS4LXQ57",
        "outputId": "05e4a11b-2cd7-48a5-e5f7-864b6b096301"
      },
      "outputs": [
        {
          "name": "stdout",
          "output_type": "stream",
          "text": [
            "15\n",
            "50\n"
          ]
        }
      ],
      "source": [
        "x = 5\n",
        "y = 10\n",
        "z = 'Dog'\n",
        "\n",
        "print(x + y)\n",
        "# print(x + z) # In this case, we cannot add an integer and a string; consequently, we remove the line.\n",
        "print(x * y)"
      ]
    },
    {
      "cell_type": "markdown",
      "metadata": {
        "id": "x5yBuRztXQ57"
      },
      "source": [
        "Alternatively, we can attempt to change the value of `z`."
      ]
    },
    {
      "cell_type": "code",
      "execution_count": null,
      "metadata": {
        "id": "f9iGkibkXQ58",
        "outputId": "c4e4d851-7015-47db-a16d-cca9419ead58"
      },
      "outputs": [
        {
          "name": "stdout",
          "output_type": "stream",
          "text": [
            "15\n",
            "47\n",
            "50\n"
          ]
        }
      ],
      "source": [
        "x = 5\n",
        "y = 10\n",
        "z = 42\n",
        "\n",
        "print(x + y)\n",
        "print(x + z)\n",
        "print(x * y)"
      ]
    },
    {
      "cell_type": "markdown",
      "metadata": {
        "id": "vIxUqaTAXQ58"
      },
      "source": [
        "If the solution does not work, simply __Google__ it.\n",
        "<p align=center><img src=https://github.com/AI-Core/Content-Public/blob/main/Content/units/Essentials/7.%20Python%20programming/19.%20Debugging/images/Google_TypeError.png?raw=1 width=500></p>\n"
      ]
    },
    {
      "cell_type": "markdown",
      "metadata": {
        "id": "CKcNAGzBXQ58"
      },
      "source": [
        "If your code contains a bug, it is very likely that someone else already had that problem. Thus, to save time and find a solution, it is preferable to search for the solution online (Stack Overflow is a good resource). \n",
        "\n",
        "Note that in programming, it is conventional to refer to online resources and documentation frequently. You are not required to know all error types and their corresponding solutions.\n",
        "\n",
        "<p align=center><img src=https://github.com/AI-Core/Content-Public/blob/main/Content/units/Essentials/7.%20Python%20programming/19.%20Debugging/images/Google_10.jpg?raw=1 width=300></p>"
      ]
    },
    {
      "cell_type": "markdown",
      "metadata": {
        "id": "QRrr2cPGXQ59"
      },
      "source": [
        "If the problem is overly complex, you might need to refine your search with more specific words. Notably, your debugging skills will improve considerably with practice, as long as you have the right mindset from the start."
      ]
    },
    {
      "cell_type": "markdown",
      "metadata": {
        "id": "dvGPUNScXQ59"
      },
      "source": [
        "## Common Errors"
      ]
    },
    {
      "cell_type": "markdown",
      "metadata": {
        "id": "dBzTeEtWXQ59"
      },
      "source": [
        "### NameError"
      ]
    },
    {
      "cell_type": "markdown",
      "metadata": {
        "id": "TWnNsrziXQ59"
      },
      "source": [
        "NameError occurs when a variable is used or a function is called without definition."
      ]
    },
    {
      "cell_type": "code",
      "execution_count": null,
      "metadata": {
        "id": "1cBtLmxeXQ59",
        "outputId": "aaf3faf0-556e-4908-b348-0c056e9d4166"
      },
      "outputs": [
        {
          "ename": "NameError",
          "evalue": "name 'y' is not defined",
          "output_type": "error",
          "traceback": [
            "\u001b[1;31m---------------------------------------------------------------------------\u001b[0m",
            "\u001b[1;31mNameError\u001b[0m                                 Traceback (most recent call last)",
            "\u001b[1;32m<ipython-input-1-87eafe7181cf>\u001b[0m in \u001b[0;36m<module>\u001b[1;34m\u001b[0m\n\u001b[1;32m----> 1\u001b[1;33m \u001b[0mx\u001b[0m \u001b[1;33m=\u001b[0m \u001b[0my\u001b[0m \u001b[1;33m+\u001b[0m \u001b[1;36m10\u001b[0m\u001b[1;33m\u001b[0m\u001b[1;33m\u001b[0m\u001b[0m\n\u001b[0m",
            "\u001b[1;31mNameError\u001b[0m: name 'y' is not defined"
          ]
        }
      ],
      "source": [
        "x = y + 10"
      ]
    },
    {
      "cell_type": "markdown",
      "metadata": {
        "id": "RKld8PjWXQ5-"
      },
      "source": [
        "#### Possible causes\n",
        "\n",
        "Spelling mistakes are a common cause of NameErrors. For example, below, we define and attempt to print a variable named `python`."
      ]
    },
    {
      "cell_type": "code",
      "execution_count": null,
      "metadata": {
        "id": "9G1BpZXFXQ5-",
        "outputId": "9703ff10-d89b-456d-e03f-a0d9f1d26015"
      },
      "outputs": [
        {
          "ename": "NameError",
          "evalue": "name 'Python' is not defined",
          "output_type": "error",
          "traceback": [
            "\u001b[1;31m---------------------------------------------------------------------------\u001b[0m",
            "\u001b[1;31mNameError\u001b[0m                                 Traceback (most recent call last)",
            "\u001b[1;32m<ipython-input-1-a8f084a3e148>\u001b[0m in \u001b[0;36m<module>\u001b[1;34m\u001b[0m\n\u001b[0;32m      1\u001b[0m \u001b[0mpython\u001b[0m \u001b[1;33m=\u001b[0m \u001b[1;34m\"I'm 30 years old!\"\u001b[0m\u001b[1;33m\u001b[0m\u001b[1;33m\u001b[0m\u001b[0m\n\u001b[1;32m----> 2\u001b[1;33m \u001b[0mprint\u001b[0m\u001b[1;33m(\u001b[0m\u001b[0mPython\u001b[0m\u001b[1;33m)\u001b[0m\u001b[1;33m\u001b[0m\u001b[1;33m\u001b[0m\u001b[0m\n\u001b[0m",
            "\u001b[1;31mNameError\u001b[0m: name 'Python' is not defined"
          ]
        }
      ],
      "source": [
        "python = \"I'm 30 years old!\"\n",
        "print(Python)"
      ]
    },
    {
      "cell_type": "markdown",
      "metadata": {
        "id": "6JjiREfVXQ5-"
      },
      "source": [
        "Observe that 'Python' was printed instead of 'python'. Since Python is case-sensitive, these words are not the same.\n",
        "\n",
        "Another common cause of NameErrors is declaring a variable out of scope. When a variable is defined within a function, it will remain in the scope of the function, i.e. the local scope."
      ]
    },
    {
      "cell_type": "code",
      "execution_count": null,
      "metadata": {
        "id": "UdW44_EEXQ5-",
        "outputId": "d0eedd57-3acb-41d4-843f-fdb9c5aa949b"
      },
      "outputs": [
        {
          "ename": "NameError",
          "evalue": "name 'x' is not defined",
          "output_type": "error",
          "traceback": [
            "\u001b[1;31m---------------------------------------------------------------------------\u001b[0m",
            "\u001b[1;31mNameError\u001b[0m                                 Traceback (most recent call last)",
            "\u001b[1;32m<ipython-input-8-66661b3b4301>\u001b[0m in \u001b[0;36m<module>\u001b[1;34m\u001b[0m\n\u001b[0;32m      2\u001b[0m     \u001b[0mx\u001b[0m \u001b[1;33m=\u001b[0m \u001b[1;34m'I am inside the function!'\u001b[0m\u001b[1;33m\u001b[0m\u001b[1;33m\u001b[0m\u001b[0m\n\u001b[0;32m      3\u001b[0m \u001b[1;33m\u001b[0m\u001b[0m\n\u001b[1;32m----> 4\u001b[1;33m \u001b[0mprint\u001b[0m\u001b[1;33m(\u001b[0m\u001b[0mx\u001b[0m\u001b[1;33m)\u001b[0m\u001b[1;33m\u001b[0m\u001b[1;33m\u001b[0m\u001b[0m\n\u001b[0m",
            "\u001b[1;31mNameError\u001b[0m: name 'x' is not defined"
          ]
        }
      ],
      "source": [
        "def dummy_func():\n",
        "    x = 'I am inside the function!'\n",
        "\n",
        "print(x)"
      ]
    },
    {
      "cell_type": "markdown",
      "metadata": {
        "id": "x5fWchMIXQ5_"
      },
      "source": [
        "#### Debugging flow\n",
        "\n",
        "1. Read the final error in the traceback. It is a NameError that reads '`name 'x' is not defined`,' and the arrow points to line 4.\n",
        "2. Examine the spelling, and ensure that the variable name is correct.\n",
        "3. If working with functions, ensure that the variable is in the correct scope level. \n",
        "4. For the example above, you could return the value of `x`, so it becomes part of the global scope."
      ]
    },
    {
      "cell_type": "code",
      "execution_count": null,
      "metadata": {
        "id": "RUVswub8XQ5_",
        "outputId": "f5e82a21-a1df-4fdb-b1ca-14a57803966f"
      },
      "outputs": [
        {
          "name": "stdout",
          "output_type": "stream",
          "text": [
            "I am inside the function!\n"
          ]
        }
      ],
      "source": [
        "def dummy_func():\n",
        "    return 'I am inside the function!'\n",
        "\n",
        "x = dummy_func()\n",
        "print(x)"
      ]
    },
    {
      "cell_type": "markdown",
      "metadata": {
        "id": "pjAIn5OKXQ5_"
      },
      "source": [
        "### TypeError"
      ]
    },
    {
      "cell_type": "markdown",
      "metadata": {
        "id": "VZutJeMXXQ5_"
      },
      "source": [
        "A TypeError is thrown when the wrong data type is used in an operation or a function."
      ]
    },
    {
      "cell_type": "markdown",
      "metadata": {
        "id": "swsdO2WdXQ5_"
      },
      "source": [
        "#### Possible causes"
      ]
    },
    {
      "cell_type": "markdown",
      "metadata": {
        "id": "RA0A3wCPXQ5_"
      },
      "source": [
        "The most common cause of a __TypeError__ is using a variable that cannot be processed in an operation. For example, in the code below, we attempt to print out the square of the number inputted by the user."
      ]
    },
    {
      "cell_type": "code",
      "execution_count": null,
      "metadata": {
        "id": "CqR3Xlu5XQ5_",
        "outputId": "5a7a7891-8d53-4af6-b9a2-1d62b2788e4f"
      },
      "outputs": [
        {
          "name": "stdout",
          "output_type": "stream",
          "text": [
            "2\n"
          ]
        },
        {
          "ename": "TypeError",
          "evalue": "unsupported operand type(s) for ** or pow(): 'str' and 'int'",
          "output_type": "error",
          "traceback": [
            "\u001b[1;31m---------------------------------------------------------------------------\u001b[0m",
            "\u001b[1;31mTypeError\u001b[0m                                 Traceback (most recent call last)",
            "\u001b[1;32m<ipython-input-2-014d58182033>\u001b[0m in \u001b[0;36m<module>\u001b[1;34m\u001b[0m\n\u001b[0;32m      1\u001b[0m \u001b[0mx\u001b[0m \u001b[1;33m=\u001b[0m \u001b[0minput\u001b[0m\u001b[1;33m(\u001b[0m\u001b[1;34m'Enter your number'\u001b[0m\u001b[1;33m)\u001b[0m\u001b[1;33m\u001b[0m\u001b[1;33m\u001b[0m\u001b[0m\n\u001b[0;32m      2\u001b[0m \u001b[0mprint\u001b[0m\u001b[1;33m(\u001b[0m\u001b[0mx\u001b[0m\u001b[1;33m)\u001b[0m\u001b[1;33m\u001b[0m\u001b[1;33m\u001b[0m\u001b[0m\n\u001b[1;32m----> 3\u001b[1;33m \u001b[0mprint\u001b[0m\u001b[1;33m(\u001b[0m\u001b[0mx\u001b[0m \u001b[1;33m**\u001b[0m \u001b[1;36m2\u001b[0m\u001b[1;33m)\u001b[0m\u001b[1;33m\u001b[0m\u001b[1;33m\u001b[0m\u001b[0m\n\u001b[0m",
            "\u001b[1;31mTypeError\u001b[0m: unsupported operand type(s) for ** or pow(): 'str' and 'int'"
          ]
        }
      ],
      "source": [
        "x = input('Enter your number')\n",
        "print(x)\n",
        "print(x ** 2)"
      ]
    },
    {
      "cell_type": "markdown",
      "metadata": {
        "id": "y0r5PpG9XQ6A"
      },
      "source": [
        "In this case, the problem arises because the input function returns a string (characters) by default. Thus, it would be equivalent to attempting to square a word.\n",
        "\n",
        "Another example is using two different data types within an operation."
      ]
    },
    {
      "cell_type": "code",
      "execution_count": null,
      "metadata": {
        "id": "MqdVBMeiXQ6A",
        "outputId": "52c8cd2e-ef8e-4d59-e35d-112467d2121a"
      },
      "outputs": [
        {
          "ename": "TypeError",
          "evalue": "can only concatenate str (not \"int\") to str",
          "output_type": "error",
          "traceback": [
            "\u001b[1;31m---------------------------------------------------------------------------\u001b[0m",
            "\u001b[1;31mTypeError\u001b[0m                                 Traceback (most recent call last)",
            "\u001b[1;32m<ipython-input-6-d052e9eff03a>\u001b[0m in \u001b[0;36m<module>\u001b[1;34m\u001b[0m\n\u001b[0;32m      1\u001b[0m \u001b[0mx\u001b[0m \u001b[1;33m=\u001b[0m \u001b[1;34m'Hello'\u001b[0m\u001b[1;33m\u001b[0m\u001b[1;33m\u001b[0m\u001b[0m\n\u001b[0;32m      2\u001b[0m \u001b[0my\u001b[0m \u001b[1;33m=\u001b[0m \u001b[1;36m5\u001b[0m\u001b[1;33m\u001b[0m\u001b[1;33m\u001b[0m\u001b[0m\n\u001b[1;32m----> 3\u001b[1;33m \u001b[0mprint\u001b[0m\u001b[1;33m(\u001b[0m\u001b[0mx\u001b[0m \u001b[1;33m+\u001b[0m \u001b[0my\u001b[0m\u001b[1;33m)\u001b[0m\u001b[1;33m\u001b[0m\u001b[1;33m\u001b[0m\u001b[0m\n\u001b[0m",
            "\u001b[1;31mTypeError\u001b[0m: can only concatenate str (not \"int\") to str"
          ]
        }
      ],
      "source": [
        "x = 'Hello'\n",
        "y = 5\n",
        "print(x + y)"
      ]
    },
    {
      "cell_type": "markdown",
      "metadata": {
        "id": "3xtl--YpXQ6A"
      },
      "source": [
        "Another common cause is accidentally replacing a Python built-in function. The `print` function is built-in; however, if replaced, `print` will assume the specified value."
      ]
    },
    {
      "cell_type": "code",
      "execution_count": null,
      "metadata": {
        "id": "aF7JuMLlXQ6A",
        "outputId": "a47174a9-f264-4547-d078-c55eeda31c4b"
      },
      "outputs": [
        {
          "ename": "TypeError",
          "evalue": "'int' object is not callable",
          "output_type": "error",
          "traceback": [
            "\u001b[1;31m---------------------------------------------------------------------------\u001b[0m",
            "\u001b[1;31mTypeError\u001b[0m                                 Traceback (most recent call last)",
            "\u001b[1;32m<ipython-input-3-e7a974980d65>\u001b[0m in \u001b[0;36m<module>\u001b[1;34m\u001b[0m\n\u001b[0;32m      1\u001b[0m \u001b[0mprint\u001b[0m \u001b[1;33m=\u001b[0m \u001b[1;36m5\u001b[0m\u001b[1;33m\u001b[0m\u001b[1;33m\u001b[0m\u001b[0m\n\u001b[1;32m----> 2\u001b[1;33m \u001b[0mprint\u001b[0m\u001b[1;33m(\u001b[0m\u001b[1;34m'Hello World'\u001b[0m\u001b[1;33m)\u001b[0m\u001b[1;33m\u001b[0m\u001b[1;33m\u001b[0m\u001b[0m\n\u001b[0m",
            "\u001b[1;31mTypeError\u001b[0m: 'int' object is not callable"
          ]
        }
      ],
      "source": [
        "print = 5\n",
        "print('Hello World')"
      ]
    },
    {
      "cell_type": "markdown",
      "metadata": {
        "id": "jQsHLiv0XQ6A"
      },
      "source": [
        "As shown, the returned error message informs us that we cannot __'call'__ for an integer, indicating that an integer is not a function."
      ]
    },
    {
      "cell_type": "markdown",
      "metadata": {
        "id": "wiD0589MXQ6B"
      },
      "source": [
        "#### Debuging flow\n",
        "\n",
        "1. Read the final error in the traceback. It is a __TypeError__ that reads `'int' object is not callable`, and the arrow points to line 2.\n",
        "2. Examine the data type you are using.\n",
        "3. Determine the variable that is causing the issue. In this case, the problem is `print`, which has become an integer.\n",
        "4. Determine where the value of `print` was changed.\n",
        "\n",
        "As the name suggests, the main problem with a __TypeError__ is the data type of the variable used. The type of each variable can be determined using the `type()` function."
      ]
    },
    {
      "cell_type": "code",
      "execution_count": null,
      "metadata": {
        "id": "2BhkwRVlXQ6B",
        "outputId": "b812d2db-7c41-4d83-bb01-204ac467133a"
      },
      "outputs": [
        {
          "name": "stdout",
          "output_type": "stream",
          "text": [
            "The type of x is <class 'str'>\n",
            "The type of y is <class 'int'>\n",
            "4\n"
          ]
        }
      ],
      "source": [
        "x = input('Enter your number')\n",
        "print(f'The type of x is {type(x)}')\n",
        "y = int(x)\n",
        "print(f'The type of y is {type(y)}')\n",
        "print(y ** 2)"
      ]
    },
    {
      "cell_type": "markdown",
      "metadata": {
        "id": "gnOvE6dJXQ6B"
      },
      "source": [
        "### ValueError"
      ]
    },
    {
      "cell_type": "markdown",
      "metadata": {
        "id": "050dnHVDXQ6B"
      },
      "source": [
        "\n",
        "ValueError occurs when an inappropriate value is used with the right data type for an operation or function. "
      ]
    },
    {
      "cell_type": "markdown",
      "metadata": {
        "id": "cWLDZtZtXQ6B"
      },
      "source": [
        "#### Possible causes\n",
        "\n",
        "One of the most common causes is casting a string to an integer, and passing a string that does not represent an integer."
      ]
    },
    {
      "cell_type": "code",
      "execution_count": null,
      "metadata": {
        "id": "FioxC2e9XQ6B",
        "outputId": "08a7be5d-1d92-4994-8b67-ee6c30d8dcad"
      },
      "outputs": [
        {
          "name": "stdout",
          "output_type": "stream",
          "text": [
            "The type of x is <class 'str'>\n",
            "The type of y is <class 'int'>\n"
          ]
        }
      ],
      "source": [
        "x = '2'\n",
        "print(f'The type of x is {type(x)}')\n",
        "y = int(x)\n",
        "print(f'The type of y is {type(y)}')"
      ]
    },
    {
      "cell_type": "markdown",
      "metadata": {
        "id": "fl1MCCwhXQ6C"
      },
      "source": [
        "The code above works; however, consider the following:"
      ]
    },
    {
      "cell_type": "code",
      "execution_count": null,
      "metadata": {
        "id": "JqoVxBVIXQ6C",
        "outputId": "0c794cd1-021b-40c0-ab9d-51a618df127f"
      },
      "outputs": [
        {
          "name": "stdout",
          "output_type": "stream",
          "text": [
            "The type of x is <class 'str'>\n"
          ]
        },
        {
          "ename": "ValueError",
          "evalue": "invalid literal for int() with base 10: 'Dog'",
          "output_type": "error",
          "traceback": [
            "\u001b[1;31m---------------------------------------------------------------------------\u001b[0m",
            "\u001b[1;31mValueError\u001b[0m                                Traceback (most recent call last)",
            "\u001b[1;32m<ipython-input-3-4d9f42a11682>\u001b[0m in \u001b[0;36m<module>\u001b[1;34m\u001b[0m\n\u001b[0;32m      1\u001b[0m \u001b[0mx\u001b[0m \u001b[1;33m=\u001b[0m \u001b[1;34m'Dog'\u001b[0m\u001b[1;33m\u001b[0m\u001b[1;33m\u001b[0m\u001b[0m\n\u001b[0;32m      2\u001b[0m \u001b[0mprint\u001b[0m\u001b[1;33m(\u001b[0m\u001b[1;34mf'The type of x is {type(x)}'\u001b[0m\u001b[1;33m)\u001b[0m\u001b[1;33m\u001b[0m\u001b[1;33m\u001b[0m\u001b[0m\n\u001b[1;32m----> 3\u001b[1;33m \u001b[0my\u001b[0m \u001b[1;33m=\u001b[0m \u001b[0mint\u001b[0m\u001b[1;33m(\u001b[0m\u001b[0mx\u001b[0m\u001b[1;33m)\u001b[0m\u001b[1;33m\u001b[0m\u001b[1;33m\u001b[0m\u001b[0m\n\u001b[0m\u001b[0;32m      4\u001b[0m \u001b[0mprint\u001b[0m\u001b[1;33m(\u001b[0m\u001b[1;34mf'The type of y is {type(y)}'\u001b[0m\u001b[1;33m)\u001b[0m\u001b[1;33m\u001b[0m\u001b[1;33m\u001b[0m\u001b[0m\n",
            "\u001b[1;31mValueError\u001b[0m: invalid literal for int() with base 10: 'Dog'"
          ]
        }
      ],
      "source": [
        "x = 'Dog'\n",
        "print(f'The type of x is {type(x)}')\n",
        "y = int(x)\n",
        "print(f'The type of y is {type(y)}')"
      ]
    },
    {
      "cell_type": "markdown",
      "metadata": {
        "id": "DSXOvT2aXQ6C"
      },
      "source": [
        "As the error message explains, the value passed to the `int` function is not valid because it does not represent a number.\n",
        "\n",
        "#### Debugging flow\n",
        "\n",
        "1. Read the final error in the traceback. It is a __ValueError__ that reads `invalid literal for int() with base 10: 'Dog'`, and the arrow points to line 3.\n",
        "2. Examine the __value__ passing to the function, in this case, `Dog`.\n",
        "3. Ensure that the appropriate function or the correct value is applied."
      ]
    },
    {
      "cell_type": "markdown",
      "metadata": {
        "id": "khvUx1OkXQ6C"
      },
      "source": [
        "\n",
        "ValueErrors are often defined by the developers when creating their applications. This way, they can prevent programmers from using values that will not work with their application.\n",
        "\n",
        "Consider another example:"
      ]
    },
    {
      "cell_type": "code",
      "execution_count": null,
      "metadata": {
        "id": "Bv5pMmpZXQ6C",
        "outputId": "532145db-b8fd-487f-effa-ecca58233d4b"
      },
      "outputs": [
        {
          "ename": "ValueError",
          "evalue": "math domain error",
          "output_type": "error",
          "traceback": [
            "\u001b[1;31m---------------------------------------------------------------------------\u001b[0m",
            "\u001b[1;31mValueError\u001b[0m                                Traceback (most recent call last)",
            "\u001b[1;32m<ipython-input-4-ed311b1c5dd9>\u001b[0m in \u001b[0;36m<module>\u001b[1;34m\u001b[0m\n\u001b[0;32m      1\u001b[0m \u001b[1;32mimport\u001b[0m \u001b[0mmath\u001b[0m\u001b[1;33m\u001b[0m\u001b[1;33m\u001b[0m\u001b[0m\n\u001b[1;32m----> 2\u001b[1;33m \u001b[0mmath\u001b[0m\u001b[1;33m.\u001b[0m\u001b[0msqrt\u001b[0m\u001b[1;33m(\u001b[0m\u001b[1;33m-\u001b[0m\u001b[1;36m1\u001b[0m\u001b[1;33m)\u001b[0m\u001b[1;33m\u001b[0m\u001b[1;33m\u001b[0m\u001b[0m\n\u001b[0m",
            "\u001b[1;31mValueError\u001b[0m: math domain error"
          ]
        }
      ],
      "source": [
        "import math\n",
        "math.sqrt(-1)"
      ]
    },
    {
      "cell_type": "markdown",
      "metadata": {
        "id": "azdJuoxjXQ6C"
      },
      "source": [
        "#### Debugging flow\n",
        "\n",
        "1. Read the final error in the traceback. It is a __ValueError__ that reads '`math domain error`', and the arrow points to line 2.\n",
        "2. Examine the __value__ passed to the function. In this case, we are attempting to calculate the square root of `-1`.\n",
        "3. You can either change the value of the variable or find another function that can calculate the square root of a negative number.\n",
        "\n",
        "For the latter option,\n",
        "Google it.\n",
        "<p align=center><img src=https://github.com/AI-Core/Content-Public/blob/main/Content/units/Essentials/7.%20Python%20programming/19.%20Debugging/images/Google_1.png?raw=1 width=500></p>\n",
        "If that does not work, explore different keywords. \n",
        "<p align=center><img src=https://github.com/AI-Core/Content-Public/blob/main/Content/units/Essentials/7.%20Python%20programming/19.%20Debugging/images/Google_2.png?raw=1 width=500></p>"
      ]
    },
    {
      "cell_type": "markdown",
      "metadata": {
        "id": "w8ryh2mdXQ6D"
      },
      "source": [
        "Afterwards, try the found solution."
      ]
    },
    {
      "cell_type": "code",
      "execution_count": null,
      "metadata": {
        "id": "jB2r30i9XQ6D",
        "outputId": "b2b23fc1-00c2-411b-92bc-d5add665fefe"
      },
      "outputs": [
        {
          "data": {
            "text/plain": [
              "1j"
            ]
          },
          "execution_count": 4,
          "metadata": {},
          "output_type": "execute_result"
        }
      ],
      "source": [
        "import cmath\n",
        "cmath.sqrt(-1)"
      ]
    },
    {
      "cell_type": "markdown",
      "metadata": {
        "id": "jjllgwR4XQ6D"
      },
      "source": [
        "Here, the solution works. However, if it does not in your case, keep refining your search until you find the right answer."
      ]
    },
    {
      "cell_type": "markdown",
      "metadata": {
        "id": "Tg0Y4CS3XQ6D"
      },
      "source": [
        "### SyntaxError"
      ]
    },
    {
      "cell_type": "markdown",
      "metadata": {
        "id": "nFS6Lkv9XQ6D"
      },
      "source": [
        "A SyntaxError is thrown when Python finds a syntax error."
      ]
    },
    {
      "cell_type": "markdown",
      "metadata": {
        "id": "cJ4-fSAeXQ6D"
      },
      "source": [
        "#### Possible causes\n",
        "One of the most common causes is omitting closing brackets or quotes."
      ]
    },
    {
      "cell_type": "code",
      "execution_count": null,
      "metadata": {
        "id": "LWFX7DSJXQ6D",
        "outputId": "a2dc4240-34ab-405c-dfa2-9b71d1906184"
      },
      "outputs": [
        {
          "ename": "SyntaxError",
          "evalue": "EOL while scanning string literal (<ipython-input-7-6e6ee195e71c>, line 1)",
          "output_type": "error",
          "traceback": [
            "\u001b[1;36m  File \u001b[1;32m\"<ipython-input-7-6e6ee195e71c>\"\u001b[1;36m, line \u001b[1;32m1\u001b[0m\n\u001b[1;33m    x = 'Hello\u001b[0m\n\u001b[1;37m              ^\u001b[0m\n\u001b[1;31mSyntaxError\u001b[0m\u001b[1;31m:\u001b[0m EOL while scanning string literal\n"
          ]
        }
      ],
      "source": [
        "x = 'Hello"
      ]
    },
    {
      "cell_type": "code",
      "execution_count": null,
      "metadata": {
        "id": "0Y9fsF9CXQ6E",
        "outputId": "f7598e9f-f657-451f-8cd0-cb954a71df15"
      },
      "outputs": [
        {
          "ename": "SyntaxError",
          "evalue": "unexpected EOF while parsing (<ipython-input-8-1a1cdaf4f567>, line 1)",
          "output_type": "error",
          "traceback": [
            "\u001b[1;36m  File \u001b[1;32m\"<ipython-input-8-1a1cdaf4f567>\"\u001b[1;36m, line \u001b[1;32m1\u001b[0m\n\u001b[1;33m    y = (5 + 3\u001b[0m\n\u001b[1;37m              ^\u001b[0m\n\u001b[1;31mSyntaxError\u001b[0m\u001b[1;31m:\u001b[0m unexpected EOF while parsing\n"
          ]
        }
      ],
      "source": [
        "y = (5 + 3"
      ]
    },
    {
      "cell_type": "markdown",
      "metadata": {
        "id": "EBorYLZ9XQ6E"
      },
      "source": [
        "#### Debugging flow"
      ]
    },
    {
      "cell_type": "markdown",
      "metadata": {
        "id": "tdHCZv1xXQ6E"
      },
      "source": [
        "1. Read the final error in the traceback. It is a __ValueError__ that reads '`unexpected EOF while parsing`', and the arrow points to line 1.\n",
        "2. If you are unsure about the meaning of the error, Google it.\n",
        "<p align=center><img src=https://github.com/AI-Core/Content-Public/blob/main/Content/units/Essentials/7.%20Python%20programming/19.%20Debugging/images/Google_EOF.png?raw=1 width=500></p>\n",
        "3. Based on the search, we can see that EOF means end of file, and it is thrown when there is a mistake in the syntax. Thus, go to line 1 and correct the mistake."
      ]
    },
    {
      "cell_type": "code",
      "execution_count": null,
      "metadata": {
        "id": "E9jERDgeXQ6E"
      },
      "outputs": [],
      "source": [
        "y = ((5 + 3) / 2)"
      ]
    },
    {
      "cell_type": "markdown",
      "metadata": {
        "id": "ppcGsn1XXQ6E"
      },
      "source": [
        "*Tip*\n",
        "\n",
        "Observe that when the cursor is next to the right bracket, the corresponding bracket (leftmost) is highlighted. Conversely, if the cursor is next to one of the inner brackets, the corresponding inner bracket is highlighted. This tip can aid you in preventing syntax errors.\n",
        "\n",
        "<p align=center><img src=https://github.com/AI-Core/Content-Public/blob/main/Content/units/Essentials/7.%20Python%20programming/19.%20Debugging/images/outer.png?raw=1 width=200> <img src=https://github.com/AI-Core/Content-Public/blob/main/Content/units/Essentials/7.%20Python%20programming/19.%20Debugging/images/inner.png?raw=1 width=200></p>"
      ]
    },
    {
      "cell_type": "markdown",
      "metadata": {
        "id": "A09zaPhUXQ6E"
      },
      "source": [
        "### IndexError and KeyError"
      ]
    },
    {
      "cell_type": "markdown",
      "metadata": {
        "id": "9ZrqDpYvXQ6E"
      },
      "source": [
        "#### Possible causes"
      ]
    },
    {
      "cell_type": "markdown",
      "metadata": {
        "id": "3BDpF7pLXQ6F"
      },
      "source": [
        "These errors occur when attempting to access an element that is out of range (`IndexError`) or when using a non-existent key in a dictionary (`KeyError`)."
      ]
    },
    {
      "cell_type": "code",
      "execution_count": null,
      "metadata": {
        "id": "2OzoIqh_XQ6F",
        "outputId": "28f40cef-1d06-43c9-b9e0-024c2f06e575"
      },
      "outputs": [
        {
          "ename": "IndexError",
          "evalue": "list index out of range",
          "output_type": "error",
          "traceback": [
            "\u001b[1;31m---------------------------------------------------------------------------\u001b[0m",
            "\u001b[1;31mIndexError\u001b[0m                                Traceback (most recent call last)",
            "\u001b[1;32m<ipython-input-14-fb13742f3dd5>\u001b[0m in \u001b[0;36m<module>\u001b[1;34m\u001b[0m\n\u001b[0;32m      1\u001b[0m \u001b[0mls\u001b[0m \u001b[1;33m=\u001b[0m \u001b[1;33m[\u001b[0m\u001b[1;36m1\u001b[0m\u001b[1;33m,\u001b[0m \u001b[1;36m2\u001b[0m\u001b[1;33m,\u001b[0m \u001b[1;36m3\u001b[0m\u001b[1;33m]\u001b[0m\u001b[1;33m\u001b[0m\u001b[1;33m\u001b[0m\u001b[0m\n\u001b[1;32m----> 2\u001b[1;33m \u001b[0mls\u001b[0m\u001b[1;33m[\u001b[0m\u001b[1;36m3\u001b[0m\u001b[1;33m]\u001b[0m\u001b[1;33m\u001b[0m\u001b[1;33m\u001b[0m\u001b[0m\n\u001b[0m",
            "\u001b[1;31mIndexError\u001b[0m: list index out of range"
          ]
        }
      ],
      "source": [
        "ls = [1, 2, 3]\n",
        "ls[3]"
      ]
    },
    {
      "cell_type": "markdown",
      "metadata": {
        "id": "ssuKiLx9XQ6F"
      },
      "source": [
        "Recall that Python is zero-indexed; therefore, this error is thrown because index 3 points to the fourth element, which is nonexistent in `ls`."
      ]
    },
    {
      "cell_type": "code",
      "execution_count": null,
      "metadata": {
        "id": "jBaU7sW_XQ6F",
        "outputId": "65878289-6088-442e-9241-43fc519c5308"
      },
      "outputs": [
        {
          "ename": "KeyError",
          "evalue": "'Age'",
          "output_type": "error",
          "traceback": [
            "\u001b[1;31m---------------------------------------------------------------------------\u001b[0m",
            "\u001b[1;31mKeyError\u001b[0m                                  Traceback (most recent call last)",
            "\u001b[1;32m<ipython-input-15-f7fae62e8e3d>\u001b[0m in \u001b[0;36m<module>\u001b[1;34m\u001b[0m\n\u001b[0;32m      1\u001b[0m \u001b[0mmy_dict\u001b[0m \u001b[1;33m=\u001b[0m \u001b[1;33m{\u001b[0m\u001b[1;34m'Name'\u001b[0m\u001b[1;33m:\u001b[0m \u001b[1;34m'Walter White'\u001b[0m\u001b[1;33m,\u001b[0m \u001b[1;34m'Occupation'\u001b[0m\u001b[1;33m:\u001b[0m \u001b[1;34m'Cook'\u001b[0m\u001b[1;33m}\u001b[0m\u001b[1;33m\u001b[0m\u001b[1;33m\u001b[0m\u001b[0m\n\u001b[1;32m----> 2\u001b[1;33m \u001b[0mmy_dict\u001b[0m\u001b[1;33m[\u001b[0m\u001b[1;34m'Age'\u001b[0m\u001b[1;33m]\u001b[0m\u001b[1;33m\u001b[0m\u001b[1;33m\u001b[0m\u001b[0m\n\u001b[0m",
            "\u001b[1;31mKeyError\u001b[0m: 'Age'"
          ]
        }
      ],
      "source": [
        "my_dict = {'Name': 'Walter White', 'Occupation': 'Cook'}\n",
        "my_dict['Age']"
      ]
    },
    {
      "cell_type": "markdown",
      "metadata": {
        "id": "UccFTJp5XQ6F"
      },
      "source": [
        "We can observe that `my_dict` does not have a key named `Age`; therefore, Python will throw an error. This should not be confused with assigning a value to a non-existent key, in which case a new key will simply be added to the dictionary:"
      ]
    },
    {
      "cell_type": "code",
      "execution_count": null,
      "metadata": {
        "id": "VYa8HWSNXQ6F",
        "outputId": "137d2f14-cafe-42e9-ddef-d31c3abdab99"
      },
      "outputs": [
        {
          "name": "stdout",
          "output_type": "stream",
          "text": [
            "{'Name': 'Walter White', 'Occupation': 'Cook', 'Age': 52}\n"
          ]
        }
      ],
      "source": [
        "my_dict = {'Name': 'Walter White', 'Occupation': 'Cook'}\n",
        "my_dict['Age'] = 52\n",
        "print(my_dict)"
      ]
    },
    {
      "cell_type": "markdown",
      "metadata": {
        "id": "LA0LKsBGXQ6G"
      },
      "source": [
        "#### Debugging flow"
      ]
    },
    {
      "cell_type": "markdown",
      "metadata": {
        "id": "CxVImO1dXQ6G"
      },
      "source": [
        "IndexErrors and KeyErrors are quite common, particularly at the beginning of a programmer's journey; however, they are simple to resolve. Consider the below IndexError message:"
      ]
    },
    {
      "cell_type": "code",
      "execution_count": null,
      "metadata": {
        "id": "U38jmMSJXQ6G",
        "outputId": "18814524-de8d-4cfb-c8f1-19f3290eb899"
      },
      "outputs": [
        {
          "ename": "IndexError",
          "evalue": "list index out of range",
          "output_type": "error",
          "traceback": [
            "\u001b[1;31m---------------------------------------------------------------------------\u001b[0m",
            "\u001b[1;31mIndexError\u001b[0m                                Traceback (most recent call last)",
            "\u001b[1;32m<ipython-input-5-fb13742f3dd5>\u001b[0m in \u001b[0;36m<module>\u001b[1;34m\u001b[0m\n\u001b[0;32m      1\u001b[0m \u001b[0mls\u001b[0m \u001b[1;33m=\u001b[0m \u001b[1;33m[\u001b[0m\u001b[1;36m1\u001b[0m\u001b[1;33m,\u001b[0m \u001b[1;36m2\u001b[0m\u001b[1;33m,\u001b[0m \u001b[1;36m3\u001b[0m\u001b[1;33m]\u001b[0m\u001b[1;33m\u001b[0m\u001b[1;33m\u001b[0m\u001b[0m\n\u001b[1;32m----> 2\u001b[1;33m \u001b[0mls\u001b[0m\u001b[1;33m[\u001b[0m\u001b[1;36m3\u001b[0m\u001b[1;33m]\u001b[0m\u001b[1;33m\u001b[0m\u001b[1;33m\u001b[0m\u001b[0m\n\u001b[0m",
            "\u001b[1;31mIndexError\u001b[0m: list index out of range"
          ]
        }
      ],
      "source": [
        "ls = [1, 2, 3]\n",
        "ls[3]"
      ]
    },
    {
      "cell_type": "markdown",
      "metadata": {
        "id": "aKQlyArKXQ6G"
      },
      "source": [
        "1. Read the final error in the traceback. It is an __IndexError__ that reads '`list index out of range`', and the arrow points to line 2.\n",
        "2. Ensure that your list (or other sequential data structure) contains the index that you are attempting to access. The number of elements in the list can be determined using the `len` function."
      ]
    },
    {
      "cell_type": "code",
      "execution_count": null,
      "metadata": {
        "id": "B09YjAsgXQ6G",
        "outputId": "fd046395-4c51-4e7a-ba85-d1d4f5122e74"
      },
      "outputs": [
        {
          "name": "stdout",
          "output_type": "stream",
          "text": [
            "3\n"
          ]
        }
      ],
      "source": [
        "ls = [1, 2, 3]\n",
        "print(len(ls))"
      ]
    },
    {
      "cell_type": "markdown",
      "metadata": {
        "id": "S1Pip4qxXQ6G"
      },
      "source": [
        "Thus, the last accessible __index__ is __2__ `(length of list - 1)`.\n",
        "\n",
        "As a dictionary example, consider the following:"
      ]
    },
    {
      "cell_type": "code",
      "execution_count": null,
      "metadata": {
        "id": "tENDWoFtXQ6G",
        "outputId": "2bf65423-0874-4dc6-9474-825a4b2eebdc"
      },
      "outputs": [
        {
          "ename": "KeyError",
          "evalue": "'Age'",
          "output_type": "error",
          "traceback": [
            "\u001b[1;31m---------------------------------------------------------------------------\u001b[0m",
            "\u001b[1;31mKeyError\u001b[0m                                  Traceback (most recent call last)",
            "\u001b[1;32m<ipython-input-6-f7fae62e8e3d>\u001b[0m in \u001b[0;36m<module>\u001b[1;34m\u001b[0m\n\u001b[0;32m      1\u001b[0m \u001b[0mmy_dict\u001b[0m \u001b[1;33m=\u001b[0m \u001b[1;33m{\u001b[0m\u001b[1;34m'Name'\u001b[0m\u001b[1;33m:\u001b[0m \u001b[1;34m'Walter White'\u001b[0m\u001b[1;33m,\u001b[0m \u001b[1;34m'Occupation'\u001b[0m\u001b[1;33m:\u001b[0m \u001b[1;34m'Cook'\u001b[0m\u001b[1;33m}\u001b[0m\u001b[1;33m\u001b[0m\u001b[1;33m\u001b[0m\u001b[0m\n\u001b[1;32m----> 2\u001b[1;33m \u001b[0mmy_dict\u001b[0m\u001b[1;33m[\u001b[0m\u001b[1;34m'Age'\u001b[0m\u001b[1;33m]\u001b[0m\u001b[1;33m\u001b[0m\u001b[1;33m\u001b[0m\u001b[0m\n\u001b[0m",
            "\u001b[1;31mKeyError\u001b[0m: 'Age'"
          ]
        }
      ],
      "source": [
        "my_dict = {'Name': 'Walter White', 'Occupation': 'Cook'}\n",
        "my_dict['Age']"
      ]
    },
    {
      "cell_type": "markdown",
      "metadata": {
        "id": "T_pOsyxgXQ6H"
      },
      "source": [
        "1. Read the final error in the traceback. It is a __KeyError__ that reads `'Age'`, and the arrow points to line 2.\n",
        "2. 'Age' is the name of the non-existent key.\n",
        "3. The keys in the dictionary can be inspected using the `keys()` method."
      ]
    },
    {
      "cell_type": "code",
      "execution_count": null,
      "metadata": {
        "id": "YIrF_zZrXQ6H",
        "outputId": "f7e996cf-25a3-44cb-b784-4564bf5e1909"
      },
      "outputs": [
        {
          "name": "stdout",
          "output_type": "stream",
          "text": [
            "dict_keys(['Name', 'Occupation'])\n"
          ]
        }
      ],
      "source": [
        "my_dict = {'Name': 'Walter White', 'Occupation': 'Cook'}\n",
        "print(my_dict.keys())"
      ]
    },
    {
      "cell_type": "markdown",
      "metadata": {
        "id": "z9vBly6TXQ6H"
      },
      "source": [
        "4. Add the key to the dictionary or ensure that it is correct."
      ]
    },
    {
      "cell_type": "markdown",
      "metadata": {
        "id": "S5RDT4RxXQ6H"
      },
      "source": [
        "### AttributeError"
      ]
    },
    {
      "cell_type": "markdown",
      "metadata": {
        "id": "hcd1NlruXQ6H"
      },
      "source": [
        "This error is thrown when attempting to access an attribute or a method in an object in which it does not exist."
      ]
    },
    {
      "cell_type": "markdown",
      "metadata": {
        "id": "678ZfLCrXQ6H"
      },
      "source": [
        "#### Possible causes\n",
        "This error occurs mostly when an inappropriate wrong method is used with a data type. For example, dictionaries have the `keys()` method, while lists do not."
      ]
    },
    {
      "cell_type": "code",
      "execution_count": null,
      "metadata": {
        "id": "3SwjqydIXQ6H",
        "outputId": "0648f12e-15e8-4371-fa1b-c1bbb030b648"
      },
      "outputs": [
        {
          "ename": "AttributeError",
          "evalue": "'list' object has no attribute 'keys'",
          "output_type": "error",
          "traceback": [
            "\u001b[1;31m---------------------------------------------------------------------------\u001b[0m",
            "\u001b[1;31mAttributeError\u001b[0m                            Traceback (most recent call last)",
            "\u001b[1;32m<ipython-input-21-cf39c5813e09>\u001b[0m in \u001b[0;36m<module>\u001b[1;34m\u001b[0m\n\u001b[0;32m      1\u001b[0m \u001b[0mls\u001b[0m \u001b[1;33m=\u001b[0m \u001b[1;33m[\u001b[0m\u001b[1;36m1\u001b[0m\u001b[1;33m,\u001b[0m \u001b[1;36m2\u001b[0m\u001b[1;33m,\u001b[0m \u001b[1;36m3\u001b[0m\u001b[1;33m]\u001b[0m\u001b[1;33m\u001b[0m\u001b[1;33m\u001b[0m\u001b[0m\n\u001b[1;32m----> 2\u001b[1;33m \u001b[0mls\u001b[0m\u001b[1;33m.\u001b[0m\u001b[0mkeys\u001b[0m\u001b[1;33m(\u001b[0m\u001b[1;33m)\u001b[0m\u001b[1;33m\u001b[0m\u001b[1;33m\u001b[0m\u001b[0m\n\u001b[0m",
            "\u001b[1;31mAttributeError\u001b[0m: 'list' object has no attribute 'keys'"
          ]
        }
      ],
      "source": [
        "ls = [1, 2, 3]\n",
        "ls.keys()"
      ]
    },
    {
      "cell_type": "markdown",
      "metadata": {
        "id": "bFN6AtbdXQ6H"
      },
      "source": [
        "#### Debugging flow"
      ]
    },
    {
      "cell_type": "markdown",
      "metadata": {
        "id": "ltVO_28vXQ6I"
      },
      "source": [
        "1. Read the final error in the traceback. It is an __AttributeError__ that reads, `'list' object has no attribute 'keys'`, and the arrow points to line 2.\n",
        "2. Check the methods associated with the data type. If working in a modern IDE, such as VSCode, you can press Ctrl + Space to see the available methods and attributes. For this to work, an internet connection might be required.\n",
        "<p align=center><img src=https://github.com/AI-Core/Content-Public/blob/main/Content/units/Essentials/7.%20Python%20programming/19.%20Debugging/images/attributeerror.png?raw=1 width=400></p>\n",
        "\n",
        "3. If you are unsure about the methods that a specific data type has, Google it.\n",
        "<p align=center><img src=https://github.com/AI-Core/Content-Public/blob/main/Content/units/Essentials/7.%20Python%20programming/19.%20Debugging/images/Google_dict_methods.png?raw=1 width=400></p>"
      ]
    },
    {
      "cell_type": "markdown",
      "metadata": {
        "id": "8mBn3m8_XQ6I"
      },
      "source": [
        "This way, you can guarantee that you use a method that the variable does have. Additionally, you can explore the Python documentation to determine the methods that these data structures have. Check out this [page](https://docs.python.org/3/tutorial/datastructures.html) for more information."
      ]
    },
    {
      "cell_type": "markdown",
      "metadata": {
        "id": "9f-laie5XQ6I"
      },
      "source": [
        "## Hidden Bugs"
      ]
    },
    {
      "cell_type": "markdown",
      "metadata": {
        "id": "LStL8sEfXQ6I"
      },
      "source": [
        "There are situations where your code does not generate the expected output and also does not throw any error. For example, in the following code, our __initial__ intention is to multiply each number by 2:"
      ]
    },
    {
      "cell_type": "code",
      "execution_count": null,
      "metadata": {
        "id": "-arni-2YXQ6I",
        "outputId": "54c836a4-6e15-48d0-ebbd-59fc4d957416"
      },
      "outputs": [
        {
          "name": "stdout",
          "output_type": "stream",
          "text": [
            "[1, 2, 3, 1, 2, 3]\n"
          ]
        }
      ],
      "source": [
        "x = [1, 2, 3]\n",
        "print(x * 2)"
      ]
    },
    {
      "cell_type": "markdown",
      "metadata": {
        "id": "ow7K68mPXQ6I"
      },
      "source": [
        "Evidently, no error is thrown; however, we do not obtain the expected output. Eventually, you will learn how to multiply each element in a list; alternatively, you can follow the same steps discussed in this notebook.\n",
        "\n",
        "<p align=center><img src=https://github.com/AI-Core/Content-Public/blob/main/Content/units/Essentials/7.%20Python%20programming/19.%20Debugging/images/Google_list.png?raw=1 width=400></p>"
      ]
    },
    {
      "cell_type": "code",
      "execution_count": null,
      "metadata": {
        "id": "QktdXASVXQ6J",
        "outputId": "056797f7-e459-493b-9f0a-976b377662e7"
      },
      "outputs": [
        {
          "name": "stdout",
          "output_type": "stream",
          "text": [
            "[2, 4, 6]\n"
          ]
        }
      ],
      "source": [
        "x = [1, 2, 3]\n",
        "multiplied_list = [element * 2 for element in x]\n",
        "print(multiplied_list)"
      ]
    },
    {
      "cell_type": "markdown",
      "metadata": {
        "id": "88PJ6MzpXQ6J"
      },
      "source": [
        "## Summary"
      ]
    },
    {
      "cell_type": "markdown",
      "metadata": {
        "id": "4y6e_dPFXQ6J"
      },
      "source": [
        "We introduced the most common errors you are likely to encounter. Eventually, you will encounter more errors, about which you can find more information [here](https://docs.python.org/3/library/exceptions.html). \n",
        "\n",
        "In a nutshell, if you have an error output, follow these steps:\n",
        "1. Read the error message, and attempt to solve it based on the error output.\n",
        "2. If you cannot solve it, Google the problem. \n",
        "3. If that does not work, refine your search keywords.\n",
        "4. Attempt the solutions you find in your searches, and keep refining your keywords. \n",
        "5. If the above does not work, ask your instructor for help.\n",
        "\n",
        "By repeating this process, you will gradually acquire the skill of writing good code with a few errors.\n",
        "\n",
        "\n",
        "Throughout this lesson, we discussed the steps to take when an error presents. However, endeavour to be flexible, and note that the steps outlined here are not a universal solution for all errors.\n",
        "\n",
        "Proactiveness is an important quality for a programmer. When faced with hindrances, endeavour to find the solution and not commit the same mistake again. As mentioned previously, your overall programming and debugging skills will improve with practice.\n",
        "\n",
        "> <font size=+1> Starting with the right mindset will save you a considerable amount of time.</font>"
      ]
    },
    {
      "cell_type": "markdown",
      "metadata": {
        "id": "TubWDm9JXQ6J"
      },
      "source": [
        "## Using the Debugger"
      ]
    },
    {
      "cell_type": "markdown",
      "metadata": {
        "id": "FPQHBBDAXQ6J"
      },
      "source": [
        "If working in an IDE, you can debug your code using the integrated debugger. This should be used for really complex problems. The debugger can be used in both notebooks and scripts. Run the next cell to download a file named `example.py`, where you can run the debugger. If using VSCode, you can go to `Run` and click `Start Debugging`. For other IDEs, check the corresponding documentation."
      ]
    },
    {
      "cell_type": "code",
      "execution_count": null,
      "metadata": {
        "id": "wd_8utgMXQ6K"
      },
      "outputs": [],
      "source": [
        "!wget https://aicore-files.s3.amazonaws.com/Foundations/Python_Programming/example.py"
      ]
    },
    {
      "cell_type": "markdown",
      "metadata": {
        "id": "n25CKKsGXQ6K"
      },
      "source": [
        "Most times, a debugger is not necessary. You can find the root cause of the problem quickly by simply adding print statements and working your way back. However, it is useful to know that it exists should you ever hit a wall."
      ]
    },
    {
      "cell_type": "markdown",
      "metadata": {
        "id": "Z66JSRIvXQ6K"
      },
      "source": [
        "In the debugger mode, you can determine what point to stop and check the status of your code. These 'stops' are called break points. They are particularly useful when the flow of the code is not linear and you are attempting to pinpoint the origin of the unexpected behaviour. "
      ]
    },
    {
      "cell_type": "markdown",
      "metadata": {
        "id": "yapB0NAUXQ6K"
      },
      "source": [
        "<p align=center><img src=https://github.com/AI-Core/Content-Public/blob/main/Content/units/Essentials/7.%20Python%20programming/19.%20Debugging/images/debugger.png?raw=1 width=500></p>"
      ]
    },
    {
      "cell_type": "markdown",
      "metadata": {
        "id": "2fVggIhbXQ6K"
      },
      "source": [
        "As shown in the figure above, the Debug Console is located at the bottom. In it, you can determine the values of variables and perform operations with the variables corresponding to the break points. "
      ]
    },
    {
      "cell_type": "markdown",
      "metadata": {
        "id": "2XQg5MtrXQ6K"
      },
      "source": [
        "## Conclusion\n",
        "At this point, you should have a good understanding of"
      ]
    },
    {
      "cell_type": "markdown",
      "metadata": {
        "id": "U-UnQLs4XQ6L"
      },
      "source": [
        "- how to read errors in the console.\n",
        "- the steps to take when addressing an error.\n",
        "- the most common errors in Python and their solutions.\n",
        "- how to use the debugger."
      ]
    }
  ],
  "metadata": {
    "colab": {
      "provenance": []
    },
    "interpreter": {
      "hash": "ad8bebc098a042dc0df4e42fc2ecc8fff0bd7b8741641ce29007c29766dadbe0"
    },
    "kernelspec": {
      "display_name": "Python 3.9.1 64-bit ('base': conda)",
      "name": "python3"
    },
    "language_info": {
      "codemirror_mode": {
        "name": "ipython",
        "version": 3
      },
      "file_extension": ".py",
      "mimetype": "text/x-python",
      "name": "python",
      "nbconvert_exporter": "python",
      "pygments_lexer": "ipython3",
      "version": "3.10.6"
    }
  },
  "nbformat": 4,
  "nbformat_minor": 0
}
