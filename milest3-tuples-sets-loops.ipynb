{
 "cells": [
  {
   "attachments": {},
   "cell_type": "markdown",
   "metadata": {},
   "source": [
    "#### Tuples\n",
    "- Tuples are like lists: flexible data input.\n",
    "- But they are immutable: cannot be changed once created. As mentioned, tuples are immutable, so you can't remove items from it\n",
    "- Therefore no append/extend/remove/pop methods and no item reassignment for tuples.\n",
    "- Useful for holding values in data that you do not want to be reassigned by accident.\n",
    "- Tuples are iterable so length can be checked with len() function\n",
    "\n",
    "\n",
    "#### Creating a Tuple\n",
    "- Tuples are represented by parentheses (). You can also create a tuple using the tuple function\n"
   ]
  },
  {
   "cell_type": "code",
   "execution_count": 16,
   "metadata": {},
   "outputs": [
    {
     "name": "stdout",
     "output_type": "stream",
     "text": [
      "(1, 2, 3)\n",
      "(9, 45, 90)\n",
      "('y', 56, 7890)\n",
      "(1, 'two', 3)\n",
      "_____________________\n",
      "<class 'tuple'>\n",
      "<class 'tuple'>\n",
      "<class 'tuple'>\n",
      "<class 'tuple'>\n"
     ]
    }
   ],
   "source": [
    "t = (1,2,3)\n",
    "x = (9, 45, 90)\n",
    "x2 = tuple([\"y\", 56, 7890])\n",
    "x3 = tuple([1, \"two\", 3])\n",
    "\n",
    "print(t)\n",
    "print(x)\n",
    "print(x2)\n",
    "print(x3)\n",
    "print(\"_____________________\")\n",
    "print(type(t))\n",
    "print(type(x))\n",
    "print(type(x2))\n",
    "print(type(x3))"
   ]
  },
  {
   "cell_type": "code",
   "execution_count": 21,
   "metadata": {},
   "outputs": [
    {
     "name": "stdout",
     "output_type": "stream",
     "text": [
      "11\n",
      "11\n",
      "The length of the tuple is 11\n",
      "The length of the tuple is 11\n"
     ]
    }
   ],
   "source": [
    "# check length with len() function\n",
    "t = (1,2,3,4,5,6,7,9,67,77,42)\n",
    "print(len(t))\n",
    "\n",
    "x = len(t)\n",
    "print(x)\n",
    "\n",
    "print(f\"The length of the tuple is {x}\")                 # the variable is created before the print statement\n",
    "print(\"The length of the tuple is {x}\".format(x=len(t))) # the variable x is builtin the print statement"
   ]
  },
  {
   "attachments": {},
   "cell_type": "markdown",
   "metadata": {},
   "source": [
    "#### Tuples' methods\n",
    "- Tuples allow you to check how many times an item is repeated in it. To do so, you can use the method .count()"
   ]
  },
  {
   "cell_type": "code",
   "execution_count": 26,
   "metadata": {},
   "outputs": [
    {
     "name": "stdout",
     "output_type": "stream",
     "text": [
      "3\n",
      "a occurs 3 times in the tuple\n",
      "a occurs 3 times in the tuple\n"
     ]
    }
   ],
   "source": [
    "# count instances using .count() method\n",
    "t2 = ('a', 'a', 'b', 'b', 'a')\n",
    "t2.count(\"a\")\n",
    "z = t2.count(\"a\")\n",
    "print(z)\n",
    "\n",
    "\n",
    "print(f\"a occurs {z} times in the tuple\")                           # the variable is created before the print statement\n",
    "print(\"a occurs {w} times in the tuple\".format(w=t2.count(\"a\")))  # the variable w is builtin the print statement"
   ]
  },
  {
   "attachments": {},
   "cell_type": "markdown",
   "metadata": {},
   "source": [
    "#### How to check the first occurrence of an element using the index() method"
   ]
  },
  {
   "cell_type": "code",
   "execution_count": 28,
   "metadata": {},
   "outputs": [
    {
     "name": "stdout",
     "output_type": "stream",
     "text": [
      "2\n",
      "b occurs first at index 2 in the tuple\n",
      "b occurs first at index 2 in the tuple\n"
     ]
    }
   ],
   "source": [
    "# find first index using .index() method\n",
    "t2.index(\"b\")\n",
    "y = t2.index(\"b\")\n",
    "print(y)\n",
    "\n",
    "print(f\"b occurs first at index {y} in the tuple\")                          # the variable is created before the print statement\n",
    "print(\"b occurs first at index {d} in the tuple\".format(d=t2.index(\"b\"))) # the variable d is builtin the print statement"
   ]
  },
  {
   "attachments": {},
   "cell_type": "markdown",
   "metadata": {},
   "source": [
    "#### Tuple Packing and Unpacking\n",
    "- One of the most powerful aspects of tuples is a technique called tuple unpacking.\n",
    "- This allows us to assign variables using commas from a single tuple in order.\n",
    "- The syntax works as below, although the brackets can be omitted, unless required to be clear.\n",
    "- Python 'unpacks' the tuple automatically and picks out the values and assigns them to the comma-separated variables:\n"
   ]
  },
  {
   "cell_type": "code",
   "execution_count": 29,
   "metadata": {},
   "outputs": [
    {
     "name": "stdout",
     "output_type": "stream",
     "text": [
      "a is equal to 1\n",
      "b is equal to 2\n",
      "c is equal to 3\n"
     ]
    }
   ],
   "source": [
    "a, b, c = (1, 2, 3)\n",
    "\n",
    "print(f'a is equal to {a}')\n",
    "print(f'b is equal to {b}')\n",
    "print(f'c is equal to {c}')"
   ]
  },
  {
   "attachments": {},
   "cell_type": "markdown",
   "metadata": {},
   "source": [
    "### milestone 3 Task 3.2 prerequisite Practice Excercise\n",
    "\n",
    "- Create an empty tuple without Python's built-in function\n",
    "- Create an empty tuple with Python's built-in function\n",
    "- Create a tuple that contains three different data types\n",
    "- Merge the two of the tuples you created using the + operator\n",
    "- Iterate over one of the tuples and print out tuples"
   ]
  },
  {
   "cell_type": "code",
   "execution_count": 30,
   "metadata": {},
   "outputs": [
    {
     "data": {
      "text/plain": [
       "tuple"
      ]
     },
     "execution_count": 30,
     "metadata": {},
     "output_type": "execute_result"
    }
   ],
   "source": [
    "# Create an empty tuple without Python's built-in function\n",
    "tuple1 = ()\n",
    "type(tuple1)"
   ]
  },
  {
   "cell_type": "code",
   "execution_count": 6,
   "metadata": {},
   "outputs": [
    {
     "data": {
      "text/plain": [
       "tuple"
      ]
     },
     "execution_count": 6,
     "metadata": {},
     "output_type": "execute_result"
    }
   ],
   "source": [
    "# Create an empty tuple with Python's built-in function\n",
    "tuple2 = tuple()\n",
    "type(tuple2)"
   ]
  },
  {
   "cell_type": "code",
   "execution_count": 37,
   "metadata": {},
   "outputs": [
    {
     "data": {
      "text/plain": [
       "tuple"
      ]
     },
     "execution_count": 37,
     "metadata": {},
     "output_type": "execute_result"
    }
   ],
   "source": [
    "tuple3 = tuple([])\n",
    "type(tuple3)"
   ]
  },
  {
   "cell_type": "code",
   "execution_count": 38,
   "metadata": {},
   "outputs": [
    {
     "data": {
      "text/plain": [
       "list"
      ]
     },
     "execution_count": 38,
     "metadata": {},
     "output_type": "execute_result"
    }
   ],
   "source": [
    "# another example of empty tuple without Python's built-in function\n",
    "tuple4 =([])\n",
    "type(tuple4)"
   ]
  },
  {
   "cell_type": "code",
   "execution_count": 9,
   "metadata": {},
   "outputs": [
    {
     "data": {
      "text/plain": [
       "tuple"
      ]
     },
     "execution_count": 9,
     "metadata": {},
     "output_type": "execute_result"
    }
   ],
   "source": [
    "# Create a tuple that contains three different data types\n",
    "\n",
    "tuple5 = (1, 'yes', 2.33)\n",
    "type(tuple5)"
   ]
  },
  {
   "cell_type": "code",
   "execution_count": 10,
   "metadata": {},
   "outputs": [
    {
     "name": "stdout",
     "output_type": "stream",
     "text": [
      "(1, 'yes', 2.33)\n"
     ]
    }
   ],
   "source": [
    "# Merge the two of the tuples you created using the + operator\n",
    "print(tuple5 + tuple2)\n"
   ]
  },
  {
   "cell_type": "code",
   "execution_count": 12,
   "metadata": {},
   "outputs": [
    {
     "name": "stdout",
     "output_type": "stream",
     "text": [
      "1\n"
     ]
    }
   ],
   "source": [
    "# Iterate over one of the tuples and print out tuples\n",
    "tuple5.count(2.33)\n"
   ]
  },
  {
   "cell_type": "code",
   "execution_count": 13,
   "metadata": {},
   "outputs": [
    {
     "name": "stdout",
     "output_type": "stream",
     "text": [
      "1\n"
     ]
    }
   ],
   "source": [
    "print(tuple5.count(2.33))"
   ]
  },
  {
   "attachments": {},
   "cell_type": "markdown",
   "metadata": {},
   "source": [
    "#### counting number of occurence in tuples\n",
    "- Count the number of i's in the tuple vowels = ('a', 'e', 'i', 'o', 'i', 'u')\n",
    "- Count the number of 7's in the tuple numbers = (1, 7, 2, 7, 3, 7, 4, 7, 5, 7, 6, 7, 7, 7)\n",
    "- Count the number of [1, 2, 3] lists and ('f', 'd') tuples in the tuple tuple = (1, 'f', [1, 2, 3], [4, 5], ('f', 'd'), ('f', 'd', 'e'), [1, 2, 3], 'a')"
   ]
  },
  {
   "cell_type": "code",
   "execution_count": 61,
   "metadata": {},
   "outputs": [
    {
     "data": {
      "text/plain": [
       "2"
      ]
     },
     "execution_count": 61,
     "metadata": {},
     "output_type": "execute_result"
    }
   ],
   "source": [
    "# Count the number of i's in the tuple vowels = ('a', 'e', 'i', 'o', 'i', 'u')\n",
    "\n",
    "tuple_vowels = ('a', 'e', 'i', 'o', 'i', 'u')\n",
    "tuple_vowels.count('i')"
   ]
  },
  {
   "cell_type": "code",
   "execution_count": 17,
   "metadata": {},
   "outputs": [
    {
     "data": {
      "text/plain": [
       "8"
      ]
     },
     "execution_count": 17,
     "metadata": {},
     "output_type": "execute_result"
    }
   ],
   "source": [
    "# Count the number of 7's in the tuple numbers = (1, 7, 2, 7, 3, 7, 4, 7, 5, 7, 6, 7, 7, 7)\n",
    "tuple_numbers = (1, 7, 2, 7, 3, 7, 4, 7, 5, 7, 6, 7, 7, 7)\n",
    "tuple_numbers.count(7)"
   ]
  },
  {
   "cell_type": "code",
   "execution_count": 27,
   "metadata": {},
   "outputs": [
    {
     "data": {
      "text/plain": [
       "(2, 1)"
      ]
     },
     "execution_count": 27,
     "metadata": {},
     "output_type": "execute_result"
    }
   ],
   "source": [
    "# Count the number of [1, 2, 3] lists and ('f', 'd') tuples in the tuple tuple = (1, 'f', [1, 2, 3], [4, 5], ('f', 'd'), ('f', 'd', 'e'), [1, 2, 3], 'a')\n",
    "tuple_tuple = (1, 'f', [1, 2, 3], [4, 5], ('f', 'd'), ('f', 'd', 'e'), [1, 2, 3], 'a')\n",
    "tuple_tuple.count([1,2,3]) , tuple_tuple. count(('f', 'd')) # This gives the result in one bracket"
   ]
  },
  {
   "cell_type": "code",
   "execution_count": 37,
   "metadata": {},
   "outputs": [
    {
     "name": "stdout",
     "output_type": "stream",
     "text": [
      "2 and 1\n"
     ]
    }
   ],
   "source": [
    "a = tuple_tuple.count([1,2,3])\n",
    "b = tuple_tuple. count(('f', 'd'))\n",
    "print(a,'and', b)\n"
   ]
  },
  {
   "attachments": {},
   "cell_type": "markdown",
   "metadata": {},
   "source": [
    "#### Indexing Tuples \n",
    "- You have a tuple vowels = ('a', 'e', 'i', 'o', 'i', 'u')\n",
    "\n",
    "- Find the first occurence of 'e' element\n",
    "- Find the first occurence of 'i' element\n",
    "- Find the first occurence of 'b' element. What does this return? What is the meaning of this error?\n",
    "- The index() method can take one to three parameters. We used one of them so far: element, the item to scan. The two other paramaters this method can take are: - start_index - scanning of the - element will start from the start_index - end_index - scanning of the element will stop at the end_index\n",
    "Find the first occurence of 'i' elemnts from index 4 to 8 in the following tuple alphabet = ('a', 'e', 'i', 'o', 'u', 'g', 'l', 'i', 'u')"
   ]
  },
  {
   "cell_type": "code",
   "execution_count": 5,
   "metadata": {},
   "outputs": [
    {
     "data": {
      "text/plain": [
       "2"
      ]
     },
     "execution_count": 5,
     "metadata": {},
     "output_type": "execute_result"
    }
   ],
   "source": [
    "# Find the first occurence of 'e' element in tuple_vowels = ('a', 'e', 'i', 'o', 'i', 'u')\n",
    "# Find the first occurence of 'i' element in tuple_vowels = ('a', 'e', 'i', 'o', 'i', 'u')\n",
    "tuple_vowels = ('a', 'e', 'i', 'o', 'i', 'u')\n",
    "\n",
    "\n",
    "tuple_vowels.index('e')\n",
    "tuple_vowels.index('i')\n",
    "\n"
   ]
  },
  {
   "cell_type": "code",
   "execution_count": 6,
   "metadata": {},
   "outputs": [
    {
     "data": {
      "text/plain": [
       "(1, 2)"
      ]
     },
     "execution_count": 6,
     "metadata": {},
     "output_type": "execute_result"
    }
   ],
   "source": [
    "# creating tuples from indexing. Just me experimenting!\n",
    "\n",
    "tuple_vowels.index('e'), tuple_vowels.index('i')"
   ]
  },
  {
   "cell_type": "code",
   "execution_count": null,
   "metadata": {},
   "outputs": [],
   "source": [
    "k = (tuple_vowels.index('e'), tuple_vowels.index('i'))\n",
    "type(k)"
   ]
  },
  {
   "cell_type": "code",
   "execution_count": 72,
   "metadata": {},
   "outputs": [
    {
     "data": {
      "text/plain": [
       "[1, 2]"
      ]
     },
     "execution_count": 72,
     "metadata": {},
     "output_type": "execute_result"
    }
   ],
   "source": [
    "# converting tuples to list. Just me experimenting!\n",
    "\n",
    "[tuple_vowels.index('e'), tuple_vowels.index('i')]\n",
    "\n"
   ]
  },
  {
   "cell_type": "code",
   "execution_count": 7,
   "metadata": {},
   "outputs": [
    {
     "data": {
      "text/plain": [
       "list"
      ]
     },
     "execution_count": 7,
     "metadata": {},
     "output_type": "execute_result"
    }
   ],
   "source": [
    "k = [tuple_vowels.index('e'), tuple_vowels.index('i')]\n",
    "type(k)"
   ]
  },
  {
   "cell_type": "code",
   "execution_count": 8,
   "metadata": {},
   "outputs": [
    {
     "name": "stdout",
     "output_type": "stream",
     "text": [
      "e first appears at position 1\n",
      "i first appears at position 2\n"
     ]
    }
   ],
   "source": [
    "print(f\"e first appears at position {tuple_vowels.index('e')}\")\n",
    "print(f\"i first appears at position {tuple_vowels.index('i')}\")"
   ]
  },
  {
   "cell_type": "code",
   "execution_count": 10,
   "metadata": {},
   "outputs": [
    {
     "ename": "ValueError",
     "evalue": "tuple.index(x): x not in tuple",
     "output_type": "error",
     "traceback": [
      "\u001b[1;31m---------------------------------------------------------------------------\u001b[0m",
      "\u001b[1;31mValueError\u001b[0m                                Traceback (most recent call last)",
      "\u001b[1;32mc:\\Users\\User_Central\\Desktop\\AICORE_PROJECTS\\milest3-tuples-sets-loops.ipynb Cell 31\u001b[0m in \u001b[0;36m<cell line: 2>\u001b[1;34m()\u001b[0m\n\u001b[0;32m      <a href='vscode-notebook-cell:/c%3A/Users/User_Central/Desktop/AICORE_PROJECTS/milest3-tuples-sets-loops.ipynb#X42sZmlsZQ%3D%3D?line=0'>1</a>\u001b[0m \u001b[39m# Find the first occurence of 'b' element. What does this return? What is the meaning of this error?\u001b[39;00m\n\u001b[1;32m----> <a href='vscode-notebook-cell:/c%3A/Users/User_Central/Desktop/AICORE_PROJECTS/milest3-tuples-sets-loops.ipynb#X42sZmlsZQ%3D%3D?line=1'>2</a>\u001b[0m tuple_vowels\u001b[39m.\u001b[39;49mindex(\u001b[39m'\u001b[39;49m\u001b[39mb\u001b[39;49m\u001b[39m'\u001b[39;49m)\n",
      "\u001b[1;31mValueError\u001b[0m: tuple.index(x): x not in tuple"
     ]
    }
   ],
   "source": [
    "# Find the first occurence of 'b' element. What does this return? What is the meaning of this error?\n",
    "tuple_vowels.index('b')"
   ]
  },
  {
   "cell_type": "code",
   "execution_count": 69,
   "metadata": {},
   "outputs": [
    {
     "name": "stdout",
     "output_type": "stream",
     "text": [
      "('u', 'g', 'l', 'i')\n",
      "i first appears from index 4 to 8 at position 3\n"
     ]
    }
   ],
   "source": [
    "# Find the first occurence of 'i' elements from index 4 to 8 in the following tuple alphabet = ('a', 'e', 'i', 'o', 'u', 'g', 'l', 'i', 'u')\n",
    "\n",
    "tuple_alpha = ('a', 'e', 'i', 'o', 'u', 'g', 'l', 'i', 'u')\n",
    "tuple_alpha[4:-1]\n",
    "y = tuple_alpha[4:-1]\n",
    "print(y)\n",
    "y.index('i')\n",
    "print(f\"i first appears from index 4 to 8 at position {y.index('i')}\")\n",
    "\n"
   ]
  },
  {
   "cell_type": "code",
   "execution_count": 70,
   "metadata": {},
   "outputs": [
    {
     "name": "stdout",
     "output_type": "stream",
     "text": [
      "the first occurence of the 'i' element from index 4 to 8 in the tuple alphabet is at position 3\n"
     ]
    }
   ],
   "source": [
    "# Find the first occurence of 'i' elements from index 4 to 8 in the following tuple alphabet = ('a', 'e', 'i', 'o', 'u', 'g', 'l', 'i', 'u')\n",
    "\n",
    "tuple_alpha[4:-1].index('i')\n",
    "print(f\"the first occurence of the 'i' element from index 4 to 8 in the tuple alphabet is at position {tuple_alpha[4:-1].index('i')}\")\n"
   ]
  },
  {
   "attachments": {},
   "cell_type": "markdown",
   "metadata": {},
   "source": [
    "#### Unpacking Tuples\n",
    "- Initialise a tuple that contains four different data types. Unpack the tuple and print out each variable.\n",
    "- Given a tuple = (70, \"AiCore\", 10, \"Programming\", 70) and x, *y, z = tuple. What do you think the output of the following print statements will be?\n",
    "- print(x)\n",
    "- print(y)\n",
    "- print(z)\n",
    "- Given a tuple = (70, \"AiCore\", 10, \"Programming\", 70) and x, y, *z = tuple. What do you think the output of the following print statements will be?"
   ]
  },
  {
   "cell_type": "code",
   "execution_count": 72,
   "metadata": {},
   "outputs": [
    {
     "name": "stdout",
     "output_type": "stream",
     "text": [
      "78 is an interger\n",
      "True is a boolean\n",
      "The is a string\n",
      "3.56 is a float\n"
     ]
    }
   ],
   "source": [
    "# Initialise a tuple that contains four different data types. Unpack the tuple and print out each variable.\n",
    "# Method 1\n",
    "tuple_datatypes = (78, True, 'The', 3.56)\n",
    "int, bool, str, float = (78, True, 'The', 3.56)\n",
    "print(f'{int} is an interger')\n",
    "print(f'{bool} is a boolean')\n",
    "print(f'{str} is a string')\n",
    "print(f'{float} is a float')"
   ]
  },
  {
   "cell_type": "code",
   "execution_count": 83,
   "metadata": {},
   "outputs": [
    {
     "name": "stdout",
     "output_type": "stream",
     "text": [
      "78 is an interger\n",
      "True is a boolean\n",
      "The is a string\n",
      "3.56 is a float\n"
     ]
    }
   ],
   "source": [
    "# Method 2\n",
    "tuple_datatypes = (78, True, 'The', 3.56)\n",
    "w, x, y, z = tuple_datatypes\n",
    "print(f'{w} is an interger')\n",
    "print(f'{x} is a boolean')\n",
    "print(f'{y} is a string')\n",
    "print(f'{z} is a float')"
   ]
  },
  {
   "cell_type": "code",
   "execution_count": 75,
   "metadata": {},
   "outputs": [
    {
     "name": "stdout",
     "output_type": "stream",
     "text": [
      "70\n"
     ]
    }
   ],
   "source": [
    "# Given a tuple = (70, \"AiCore\", 10, \"Programming\", 70) and x, *y, z = tuple. \n",
    "# What do you think the output of the following print statements will be?\n",
    "tuple = (70, \"AiCore\", 10, \"Programming\", 70)\n",
    "x, *y, z = tuple\n",
    "print(x)\n"
   ]
  },
  {
   "cell_type": "code",
   "execution_count": 76,
   "metadata": {},
   "outputs": [
    {
     "name": "stdout",
     "output_type": "stream",
     "text": [
      "['AiCore', 10, 'Programming']\n"
     ]
    }
   ],
   "source": [
    "print(y) # generates a LIST of elements excluding the first and last "
   ]
  },
  {
   "cell_type": "code",
   "execution_count": 77,
   "metadata": {},
   "outputs": [
    {
     "name": "stdout",
     "output_type": "stream",
     "text": [
      "70\n"
     ]
    }
   ],
   "source": [
    "print(z)"
   ]
  },
  {
   "attachments": {},
   "cell_type": "markdown",
   "metadata": {},
   "source": [
    "#### More unpacking practice using the * operator - Notes\n",
    "- The Operator * ensures the any tuple element excluding the first and last is printed when called\n",
    "- while *y generates all the elements b/w the 1st and last elements, y generates all the result b/w the 1st and last elements in a LIST form"
   ]
  },
  {
   "cell_type": "code",
   "execution_count": 94,
   "metadata": {},
   "outputs": [
    {
     "name": "stdout",
     "output_type": "stream",
     "text": [
      "23\n",
      "[45, 67, 2.33, 5.6, 58, 44, 79, 89, 71, 4.4, 33, 67, 33, 22]\n",
      "99\n",
      "45 67 2.33 5.6 58 44 79 89 71 4.4 33 67 33 22\n",
      "{33, 2.33, 67, 4.4, 5.6, 71, 44, 45, 79, 22, 89, 58}\n"
     ]
    }
   ],
   "source": [
    "# I am considering an Even element listed tuple_x (16 char)\n",
    "\n",
    "tuple_x = (23, 45, 67, 2.33, 5.6, 58, 44, 79, 89, 71, 4.4, 33, 67, 33, 22, 99)\n",
    "x,*y, z = tuple_x\n",
    "print(x)\n",
    "print(y)\n",
    "print(z)\n",
    "print (*y)\n",
    "print( {*y}) # SET\n"
   ]
  },
  {
   "attachments": {},
   "cell_type": "markdown",
   "metadata": {},
   "source": [
    "#### SETS - Notes\n",
    "#### Set = A List in curly brackets\n",
    "- Sets are not subscriptable (They can't be indexed)\n",
    "- Sets are not ordered (They are just a bag of variables)\n",
    "- Sets do not contain any duplicate items.\n"
   ]
  },
  {
   "cell_type": "code",
   "execution_count": 1,
   "metadata": {},
   "outputs": [
    {
     "data": {
      "text/plain": [
       "set"
      ]
     },
     "execution_count": 1,
     "metadata": {},
     "output_type": "execute_result"
    }
   ],
   "source": [
    "my_set = {1, 5, 9, 11, 17, 19}\n",
    "type(my_set)"
   ]
  },
  {
   "attachments": {},
   "cell_type": "markdown",
   "metadata": {},
   "source": [
    "#### Conversion of a Set to a List"
   ]
  },
  {
   "cell_type": "code",
   "execution_count": 3,
   "metadata": {},
   "outputs": [
    {
     "data": {
      "text/plain": [
       "list"
      ]
     },
     "execution_count": 3,
     "metadata": {},
     "output_type": "execute_result"
    }
   ],
   "source": [
    "my_list = [1, 2, 3, 11, 13, 15]\n",
    "type(my_list)"
   ]
  },
  {
   "cell_type": "code",
   "execution_count": 4,
   "metadata": {},
   "outputs": [
    {
     "data": {
      "text/plain": [
       "set"
      ]
     },
     "execution_count": 4,
     "metadata": {},
     "output_type": "execute_result"
    }
   ],
   "source": [
    "# converting to my_list to a Set\n",
    "\n",
    "my_list = set([1, 2, 3, 11, 13, 15])\n",
    "type(my_list)"
   ]
  },
  {
   "cell_type": "code",
   "execution_count": 7,
   "metadata": {},
   "outputs": [
    {
     "name": "stdout",
     "output_type": "stream",
     "text": [
      "{1, 3, 5, 9, 11, 44, 17, 19, 23}\n"
     ]
    },
    {
     "data": {
      "text/plain": [
       "9"
      ]
     },
     "execution_count": 7,
     "metadata": {},
     "output_type": "execute_result"
    }
   ],
   "source": [
    " # Sets do not contain any duplicate items.\n",
    " \n",
    "my_set1 = {1, 5, 9, 11, 17, 17, 1, 9, 9, 3, 19, 5, 23, 44, 19}\n",
    "print(my_set1)\n",
    "len(my_set1) # excludes duplicates"
   ]
  },
  {
   "attachments": {},
   "cell_type": "markdown",
   "metadata": {},
   "source": [
    "#### Set Operations"
   ]
  },
  {
   "cell_type": "code",
   "execution_count": 9,
   "metadata": {},
   "outputs": [
    {
     "data": {
      "text/plain": [
       "{3, 4}"
      ]
     },
     "execution_count": 9,
     "metadata": {},
     "output_type": "execute_result"
    }
   ],
   "source": [
    "a = {1, 2, 3, 4}\n",
    "b = {4, 66, 57, 3, 79, 88}\n",
    "\n",
    "a. intersection(b)"
   ]
  },
  {
   "cell_type": "code",
   "execution_count": 10,
   "metadata": {},
   "outputs": [
    {
     "data": {
      "text/plain": [
       "{1, 2, 3, 4, 57, 66, 79, 88}"
      ]
     },
     "execution_count": 10,
     "metadata": {},
     "output_type": "execute_result"
    }
   ],
   "source": [
    "a.union(b)\n"
   ]
  },
  {
   "cell_type": "code",
   "execution_count": 11,
   "metadata": {},
   "outputs": [
    {
     "data": {
      "text/plain": [
       "{1, 2}"
      ]
     },
     "execution_count": 11,
     "metadata": {},
     "output_type": "execute_result"
    }
   ],
   "source": [
    "a.difference(b) # what's in 'a' thats is not in 'b'"
   ]
  },
  {
   "cell_type": "code",
   "execution_count": 12,
   "metadata": {},
   "outputs": [
    {
     "data": {
      "text/plain": [
       "{57, 66, 79, 88}"
      ]
     },
     "execution_count": 12,
     "metadata": {},
     "output_type": "execute_result"
    }
   ],
   "source": [
    "b.difference(a) # what's in 'b' thats is not in 'a"
   ]
  },
  {
   "attachments": {},
   "cell_type": "markdown",
   "metadata": {},
   "source": [
    "- symmetric_difference returns a set with the items that are in set_1 and set_2, but without the items that are in BOTH"
   ]
  },
  {
   "cell_type": "code",
   "execution_count": 77,
   "metadata": {},
   "outputs": [
    {
     "data": {
      "text/plain": [
       "{1, 2, 57, 66, 79, 88}"
      ]
     },
     "execution_count": 77,
     "metadata": {},
     "output_type": "execute_result"
    }
   ],
   "source": [
    "a.symmetric_difference(b)"
   ]
  },
  {
   "cell_type": "code",
   "execution_count": 78,
   "metadata": {},
   "outputs": [
    {
     "data": {
      "text/plain": [
       "{1, 2, 57, 66, 79, 88}"
      ]
     },
     "execution_count": 78,
     "metadata": {},
     "output_type": "execute_result"
    }
   ],
   "source": [
    "b.symmetric_difference(a)"
   ]
  },
  {
   "attachments": {},
   "cell_type": "markdown",
   "metadata": {},
   "source": [
    "#### How to Remove items from Set"
   ]
  },
  {
   "cell_type": "code",
   "execution_count": 19,
   "metadata": {},
   "outputs": [
    {
     "name": "stdout",
     "output_type": "stream",
     "text": [
      "{1, 17, 19, 5, 987, 9, 11}\n"
     ]
    }
   ],
   "source": [
    "# add or Remove items from Set\n",
    "my_set.add(987)\n",
    "print(my_set)"
   ]
  },
  {
   "cell_type": "code",
   "execution_count": 20,
   "metadata": {},
   "outputs": [
    {
     "name": "stdout",
     "output_type": "stream",
     "text": [
      "{1, 17, 19, 5, 9, 11}\n"
     ]
    }
   ],
   "source": [
    "my_set.remove(987)\n",
    "print(my_set)"
   ]
  },
  {
   "attachments": {},
   "cell_type": "markdown",
   "metadata": {},
   "source": [
    "#### Discard method is used to check if an item is in the set without generating a error message"
   ]
  },
  {
   "cell_type": "code",
   "execution_count": 23,
   "metadata": {},
   "outputs": [],
   "source": [
    "my_set.discard(987)"
   ]
  },
  {
   "cell_type": "code",
   "execution_count": 24,
   "metadata": {},
   "outputs": [
    {
     "ename": "KeyError",
     "evalue": "987",
     "output_type": "error",
     "traceback": [
      "\u001b[1;31m---------------------------------------------------------------------------\u001b[0m",
      "\u001b[1;31mKeyError\u001b[0m                                  Traceback (most recent call last)",
      "\u001b[1;32mc:\\Users\\User_Central\\Desktop\\AICORE_PROJECTS\\tuples-sets.ipynb Cell 55\u001b[0m in \u001b[0;36m<cell line: 1>\u001b[1;34m()\u001b[0m\n\u001b[1;32m----> <a href='vscode-notebook-cell:/c%3A/Users/User_Central/Desktop/AICORE_PROJECTS/tuples-sets.ipynb#Y105sZmlsZQ%3D%3D?line=0'>1</a>\u001b[0m my_set\u001b[39m.\u001b[39;49mremove(\u001b[39m987\u001b[39;49m)\n",
      "\u001b[1;31mKeyError\u001b[0m: 987"
     ]
    }
   ],
   "source": [
    "my_set.remove(987)"
   ]
  },
  {
   "attachments": {},
   "cell_type": "markdown",
   "metadata": {},
   "source": [
    "#### Retrieve the minimum and maximum value in the set using the min and the max functions"
   ]
  },
  {
   "attachments": {},
   "cell_type": "markdown",
   "metadata": {},
   "source": [
    "##### Me Experimenting again"
   ]
  },
  {
   "cell_type": "code",
   "execution_count": 73,
   "metadata": {},
   "outputs": [
    {
     "data": {
      "text/plain": [
       "(1, 19, 1, 44)"
      ]
     },
     "execution_count": 73,
     "metadata": {},
     "output_type": "execute_result"
    }
   ],
   "source": [
    "# And retrieve the minimum and maximum value in the set using the min and the max functions\n",
    "\n",
    "min(my_set), max(my_set), min(my_set1), max(my_set1) # such arrangement give birth to a Tuple\n"
   ]
  },
  {
   "cell_type": "code",
   "execution_count": 31,
   "metadata": {},
   "outputs": [
    {
     "data": {
      "text/plain": [
       "tuple"
      ]
     },
     "execution_count": 31,
     "metadata": {},
     "output_type": "execute_result"
    }
   ],
   "source": [
    "x = min(my_set), max(my_set), min(my_set1), max(my_set1) \n",
    "type(x)"
   ]
  },
  {
   "cell_type": "code",
   "execution_count": 75,
   "metadata": {},
   "outputs": [
    {
     "data": {
      "text/plain": [
       "list"
      ]
     },
     "execution_count": 75,
     "metadata": {},
     "output_type": "execute_result"
    }
   ],
   "source": [
    "y = [min(my_set), max(my_set), min(my_set1), max(my_set1)] # such arrangement give birth to a Tuple\n",
    "type(y)"
   ]
  },
  {
   "cell_type": "code",
   "execution_count": 76,
   "metadata": {},
   "outputs": [
    {
     "data": {
      "text/plain": [
       "set"
      ]
     },
     "execution_count": 76,
     "metadata": {},
     "output_type": "execute_result"
    }
   ],
   "source": [
    "z = {min(my_set), max(my_set), min(my_set1), max(my_set1)} # such arrangement give birth to a Set\n",
    "type(z)"
   ]
  },
  {
   "attachments": {},
   "cell_type": "markdown",
   "metadata": {},
   "source": [
    "### milestone 3 Task 3.3 prerequisite Practice Excercise\n",
    "#### Initialising Sets\n",
    "- Create an empty set without Python's built-in function\n",
    "- Create an empty set with Python's built-in function\n",
    "- Iterate over one of the sets and print out the values"
   ]
  },
  {
   "cell_type": "code",
   "execution_count": 102,
   "metadata": {},
   "outputs": [
    {
     "data": {
      "text/plain": [
       "set"
      ]
     },
     "execution_count": 102,
     "metadata": {},
     "output_type": "execute_result"
    }
   ],
   "source": [
    "# Create an empty set without Python's built-in function\n",
    "my_set1 = {*()}\n",
    "type(my_set1)"
   ]
  },
  {
   "cell_type": "code",
   "execution_count": 104,
   "metadata": {},
   "outputs": [
    {
     "data": {
      "text/plain": [
       "set"
      ]
     },
     "execution_count": 104,
     "metadata": {},
     "output_type": "execute_result"
    }
   ],
   "source": [
    "# Create an empty set with Python's built-in function\n",
    "my_set2 = set([])\n",
    "type(my_set2)"
   ]
  },
  {
   "cell_type": "code",
   "execution_count": 105,
   "metadata": {},
   "outputs": [
    {
     "name": "stdout",
     "output_type": "stream",
     "text": [
      "set()\n"
     ]
    }
   ],
   "source": [
    "# Iterate over one of the sets and print out the values\n",
    "my_set2 = set([])\n",
    "print(my_set2)"
   ]
  },
  {
   "attachments": {},
   "cell_type": "markdown",
   "metadata": {},
   "source": [
    "#### find the min and max value in a set\n",
    "- Find the maximum value in the following sets: set_int = {8, 16, 24, 1, 25, 3, 10, 65, 55} set_str = {'f', 'l', 'k', 'a', 'w'}\n",
    "- Find the minimum value in the following sets: set_int = {4, 12, 10, 9, 4, 13} set_str = {'b', 'z', 't', 'm', 'y', 'c'}"
   ]
  },
  {
   "cell_type": "code",
   "execution_count": 106,
   "metadata": {},
   "outputs": [
    {
     "data": {
      "text/plain": [
       "65"
      ]
     },
     "execution_count": 106,
     "metadata": {},
     "output_type": "execute_result"
    }
   ],
   "source": [
    "# Find the maximum value in the following sets: set_int = {8, 16, 24, 1, 25, 3, 10, 65, 55} set_str = {'f', 'l', 'k', 'a', 'w'}\n",
    "set_int = {8, 16, 24, 1, 25, 3, 10, 65, 55}\n",
    "max(set_int)"
   ]
  },
  {
   "cell_type": "code",
   "execution_count": 107,
   "metadata": {},
   "outputs": [
    {
     "data": {
      "text/plain": [
       "'w'"
      ]
     },
     "execution_count": 107,
     "metadata": {},
     "output_type": "execute_result"
    }
   ],
   "source": [
    "set_str = {'f', 'l', 'k', 'a', 'w'}\n",
    "max(set_str)"
   ]
  },
  {
   "cell_type": "code",
   "execution_count": 109,
   "metadata": {},
   "outputs": [
    {
     "data": {
      "text/plain": [
       "4"
      ]
     },
     "execution_count": 109,
     "metadata": {},
     "output_type": "execute_result"
    }
   ],
   "source": [
    "# Find the minimum value in the following sets: set_int = {4, 12, 10, 9, 4, 13} set_str = {'b', 'z', 't', 'm', 'y', 'c'}\n",
    "set_int = {4, 12, 10, 9, 4, 13}\n",
    "min(set_int)"
   ]
  },
  {
   "cell_type": "code",
   "execution_count": 110,
   "metadata": {},
   "outputs": [
    {
     "data": {
      "text/plain": [
       "'b'"
      ]
     },
     "execution_count": 110,
     "metadata": {},
     "output_type": "execute_result"
    }
   ],
   "source": [
    "set_str = {'b', 'z', 't', 'm', 'y', 'c'}\n",
    "min(set_str)"
   ]
  },
  {
   "attachments": {},
   "cell_type": "markdown",
   "metadata": {},
   "source": [
    "#### Adding items to a set\n",
    "- Given the set prime_numbers = {3, 5, 7, 11, 13}, add:\n",
    "- a prime number to this set\n",
    "- a set of prime numbers (hint: use update method)"
   ]
  },
  {
   "cell_type": "code",
   "execution_count": 112,
   "metadata": {},
   "outputs": [
    {
     "name": "stdout",
     "output_type": "stream",
     "text": [
      "{17, 3, 5, 7, 11, 13}\n"
     ]
    }
   ],
   "source": [
    "prime_numbers = {3, 5, 7, 11, 13}\n",
    "prime_numbers.add(17)\n",
    "print(prime_numbers)"
   ]
  },
  {
   "cell_type": "code",
   "execution_count": 117,
   "metadata": {},
   "outputs": [
    {
     "name": "stdout",
     "output_type": "stream",
     "text": [
      "{3, 5, 7, 11, 13, 17, 19, 23, 29, 31}\n"
     ]
    }
   ],
   "source": [
    " # Add a set of prime numbers (hint: use update method)\n",
    " # Method 1\n",
    " \n",
    "prime_numbers.update([19, 23, 29, 31])\n",
    "print(prime_numbers)\n"
   ]
  },
  {
   "cell_type": "code",
   "execution_count": 119,
   "metadata": {},
   "outputs": [
    {
     "name": "stdout",
     "output_type": "stream",
     "text": [
      "{3, 5, 7, 11, 13, 17, 19, 23, 29, 31}\n"
     ]
    }
   ],
   "source": [
    "# Method 2\n",
    "prime_numbers.update({19, 23, 29, 31})\n",
    "print(prime_numbers)"
   ]
  },
  {
   "attachments": {},
   "cell_type": "markdown",
   "metadata": {},
   "source": [
    "#### Mathematical operation\n",
    "- Given the following two sets: set1 = {15, 25, 35, 45, 55} set2 = {35, 45, 55, 65, 75}\n",
    "- Return a set with the common items\n",
    "- Return a set with the unique items\n",
    "- Return a set that contains items in set1 or set 2 but not in both"
   ]
  },
  {
   "cell_type": "code",
   "execution_count": 120,
   "metadata": {},
   "outputs": [
    {
     "data": {
      "text/plain": [
       "{35, 45, 55}"
      ]
     },
     "execution_count": 120,
     "metadata": {},
     "output_type": "execute_result"
    }
   ],
   "source": [
    "# Return a set with the common items\n",
    "set1 = {15, 25, 35, 45, 55} \n",
    "set2 = {35, 45, 55, 65, 75}\n",
    "\n",
    "set1.intersection(set2)"
   ]
  },
  {
   "cell_type": "code",
   "execution_count": 121,
   "metadata": {},
   "outputs": [
    {
     "data": {
      "text/plain": [
       "{15, 25, 35, 45, 55, 65, 75}"
      ]
     },
     "execution_count": 121,
     "metadata": {},
     "output_type": "execute_result"
    }
   ],
   "source": [
    "# Return a set with the unique items\n",
    "set1.union(set2)"
   ]
  },
  {
   "cell_type": "code",
   "execution_count": 124,
   "metadata": {},
   "outputs": [
    {
     "data": {
      "text/plain": [
       "{15, 25}"
      ]
     },
     "execution_count": 124,
     "metadata": {},
     "output_type": "execute_result"
    }
   ],
   "source": [
    "# Return a set that contains items in set1 or set 2 but not in both\n",
    "set1.difference(set2)\n"
   ]
  },
  {
   "cell_type": "code",
   "execution_count": 123,
   "metadata": {},
   "outputs": [
    {
     "data": {
      "text/plain": [
       "{65, 75}"
      ]
     },
     "execution_count": 123,
     "metadata": {},
     "output_type": "execute_result"
    }
   ],
   "source": [
    "set2.difference(set1)"
   ]
  },
  {
   "attachments": {},
   "cell_type": "markdown",
   "metadata": {},
   "source": [
    "#### Finding the missing and Additional value in two lists\n",
    "- list1 = [1, 2, 3, 4, 5, 6, 7, 8] list2 = [5, 6, 7, 8, 9, 10, 11, 12]\n",
    "- Print the missing & additional items in list1 (hint: convert list to a set)\n",
    "- Print the missing & additional items in list2"
   ]
  },
  {
   "cell_type": "code",
   "execution_count": 130,
   "metadata": {},
   "outputs": [
    {
     "data": {
      "text/plain": [
       "{5, 6, 7, 8, 9, 10, 11, 12}"
      ]
     },
     "execution_count": 130,
     "metadata": {},
     "output_type": "execute_result"
    }
   ],
   "source": [
    "# Print the missing & additional items in list1 (hint: convert list to a set)\n",
    "\n",
    "list1 = [1, 2, 3, 4, 5, 6, 7, 8] \n",
    "list2 = [5, 6, 7, 8, 9, 10, 11, 12]\n",
    "\n",
    "list1 = set([1, 2, 3, 4, 5, 6, 7, 8])   # first convert the lists to set\n",
    "list2 = set([5, 6, 7, 8, 9, 10, 11, 12])\n",
    "(list1.intersection(list2)).union(list2.difference(list1))\n"
   ]
  },
  {
   "cell_type": "code",
   "execution_count": 131,
   "metadata": {},
   "outputs": [
    {
     "data": {
      "text/plain": [
       "{1, 2, 3, 4, 5, 6, 7, 8}"
      ]
     },
     "execution_count": 131,
     "metadata": {},
     "output_type": "execute_result"
    }
   ],
   "source": [
    "# Print the missing & additional items in list2\n",
    "(list2.intersection(list1)).union(list1.difference(list2))"
   ]
  },
  {
   "attachments": {},
   "cell_type": "markdown",
   "metadata": {},
   "source": [
    "- Find the common elements of three lists using sets. list1 = [1, 5, 10, 20, 40, 80] list2 = [6, 7, 20, 80, 100] list3 = [3, 4, 15, 20, 30, 70, 80, 120]"
   ]
  },
  {
   "cell_type": "code",
   "execution_count": 132,
   "metadata": {},
   "outputs": [
    {
     "data": {
      "text/plain": [
       "{20, 80}"
      ]
     },
     "execution_count": 132,
     "metadata": {},
     "output_type": "execute_result"
    }
   ],
   "source": [
    "# Find the common elements of three lists using sets. list1 = [1, 5, 10, 20, 40, 80] list2 = [6, 7, 20, 80, 100] list3 = [3, 4, 15, 20, 30, 70, 80, 120]\n",
    "list1 = [1, 5, 10, 20, 40, 80] \n",
    "list2 = [6, 7, 20, 80, 100] \n",
    "list3 = [3, 4, 15, 20, 30, 70, 80, 120]\n",
    "\n",
    "# Convert to sets\n",
    "list1 = set([1, 5, 10, 20, 40, 80]) \n",
    "list2 = set([6, 7, 20, 80, 100]) \n",
    "list3 = set([3, 4, 15, 20, 30, 70, 80, 120])\n",
    "(list1).intersection(list2).intersection(list3)"
   ]
  },
  {
   "attachments": {},
   "cell_type": "markdown",
   "metadata": {},
   "source": [
    "### Loops\n",
    "\n",
    "- Learning Objectives\n",
    "- Understand the concept of iterations (definite and indefinite).\n",
    "- Learn how to use while loops.\n",
    "- Learn how to use a basic for loop.\n",
    "- Learn how to use a for loop with the range() function.\n",
    "- Learn how to use range(len(iterable)) to iterate over an index.\n",
    "- Learn how to use tuple unpacking in iterables.\n",
    "- Learn how to iterate over dictionaries.\n",
    "- Learn how to use conditional statements within for loops.\n",
    "- Learn how to use the pass, break and continue keywords.\n",
    "- Learn how to create and iterate through zip and enumerate objects.\n",
    "- Learn how to write list comprehensions.\n",
    "- Learn how to use conditionals within list comprehensions.\n",
    "\n",
    "##### Iteration\n",
    "- A data structure is considered iterable when it is capable of returning its elements one at a time, e.g. lists, tuples, strings and dictionaries (d.keys() returns a list).\n",
    "- An iteration refers to the performance of the same operation repeatedly (often over each element of an iterable), e.g. multiplying each element in a list by 2 or retrieving index 0 of each item in a list of strings.\n",
    "\n",
    "##### While Loops\n",
    "- The while loop performs the same operation(s) while some boolean conditions are fulfilled.\n",
    "- This is called indefinite iteration, where the number of iterations is unknown.\n",
    "- While loops will not be explored in great detail here, as they are not highly useful in data science.\n",
    "\n",
    "##### Basic syntax\n",
    "- while some_condition:\n",
    "- - do_something\n",
    "- else:\n",
    "- - do_something_else\n",
    "\n",
    "##### The syntax comprises the following parts:\n",
    "- The while keyword: This is the key to the statement; it indicates a while loop and refers to some_condition.\n",
    "- The condition: The while keyword determines whether the condition is True and executes the dependent block of code if it is.\n",
    "- do_something: This is the block of code to be executed if the condition is True.\n",
    "- else statement: This is the block of code to be executed if the condition is False."
   ]
  },
  {
   "cell_type": "code",
   "execution_count": 1,
   "metadata": {},
   "outputs": [
    {
     "name": "stdout",
     "output_type": "stream",
     "text": [
      "The current value of x is 0\n",
      "The current value of x is 1\n",
      "The current value of x is 2\n",
      "The current value of x is 3\n",
      "The current value of x is 4\n",
      "x not less than 5\n"
     ]
    }
   ],
   "source": [
    "x = 0\n",
    "\n",
    "while x < 5:\n",
    "    print(f\"The current value of x is {x}\")\n",
    "    x += 1\n",
    "else:\n",
    "    print(\"x not less than 5\")"
   ]
  },
  {
   "attachments": {},
   "cell_type": "markdown",
   "metadata": {},
   "source": [
    "- Things to note.\n",
    "- While the condition is True, the dependent block of code will be executed, and the program will loop to the while statement, revalidate the condition, and execute again if True.\n",
    "- This continues indefinitely until the condition is false, hence the 'indefinite iteration'.\n",
    "- A common mistake is to create an infinite loop, where the condition remains False, and the code continues to execute, thereby expending the memory resources until the computer crashes.\n",
    "- Therefore, it is highly recommended to include a way of adjusting the condition inside the loop, either in the do_something statement or using the break keyword (see below).\n",
    "\n",
    "#### The break keyword\n",
    "- The break keyword is used to exit a loop. Conventionally, it is used with an if statement to exit the loop if a condition is fulfilled.\n",
    "- If the break keyword is applied, the code will not loop. It will halt its execution there and move on to the next statement.\n",
    "This can be observed in the below code where 2 is not printed. The print statement is indented, along with the latter part of the loop."
   ]
  },
  {
   "cell_type": "code",
   "execution_count": 1,
   "metadata": {},
   "outputs": [
    {
     "name": "stdout",
     "output_type": "stream",
     "text": [
      "0\n",
      "1\n"
     ]
    }
   ],
   "source": [
    "x = 0\n",
    "while x < 5:\n",
    "    if x == 2:\n",
    "        break\n",
    "    print(x)\n",
    "    x += 1"
   ]
  },
  {
   "attachments": {},
   "cell_type": "markdown",
   "metadata": {},
   "source": [
    "##### For Loops\n",
    "- For loops perform an operation on each element in an iterable (each character in a string or each item in a list) until no element is left in the iterable.\n",
    "- This form of iteration is called definite iteration, where the number of iterations is known.\n",
    "- Further, this is an example of Don't Repeat Yourself (DRY) coding, since a single For loop performs numerous operations in one pass.\n",
    "- As opposed to the while loop, the for loop is limited by the number of items in the iterable.\n",
    "\n",
    "##### Basic syntax\n",
    "[ ]\n",
    "- for i in iterable:\n",
    "-     do_something\n",
    "-     do_something_to_i\n",
    "- The syntax can be broken down, as follows:\n",
    "\n",
    "- i is the counter variable; it can be anything provided that it is consistent. For readability, the best practice is to use naming words, such as city in cities, item in items, etc, where cities or items is the name of the iterable.\n",
    "- i refers to each element in the iterable in a given iteration; thus, we can employ i in the do_something block.\n",
    "- in is the keyword, in, referencing the following iterable.\n",
    "- iterable is the data structure over which the operation is performed, e.g. the list name.\n",
    "- colon indicates control flow and signals an indentation, completing the set phrase.\n",
    "- do_something is the code block to be executed on each element; i is often used in this code block, although other alphabets are permissible."
   ]
  },
  {
   "cell_type": "code",
   "execution_count": 1,
   "metadata": {},
   "outputs": [
    {
     "name": "stdout",
     "output_type": "stream",
     "text": [
      "Hello, I have a: hat\n",
      "Hello, I have a: boots\n",
      "Hello, I have a: jacket\n",
      "Hello, I have a: gloves\n"
     ]
    }
   ],
   "source": [
    "items = [\"hat\", \"boots\", \"jacket\", \"gloves\"]\n",
    "\n",
    "for item in items:\n",
    "    print(f'Hello, I have a: {item}')"
   ]
  },
  {
   "attachments": {},
   "cell_type": "markdown",
   "metadata": {},
   "source": [
    "##### The range() function\n",
    "- for i in range(start,stop,step):\n",
    "- - do_something\n",
    "- - do_something_to_i"
   ]
  },
  {
   "attachments": {},
   "cell_type": "markdown",
   "metadata": {},
   "source": [
    "- -If one argument is specified, e.g. range(3), the range defaults to start = 0 and step = 1 and considers the argument as the ending number -1. Therefore, range(3) contains 0, 1 and 2.\n",
    "- -If two arguments are specified, e.g. range(5,20), the first is the start number, and the second is stop number-1."
   ]
  },
  {
   "cell_type": "code",
   "execution_count": 2,
   "metadata": {},
   "outputs": [
    {
     "data": {
      "text/plain": [
       "[0, 1, 2, 3, 4]"
      ]
     },
     "execution_count": 2,
     "metadata": {},
     "output_type": "execute_result"
    }
   ],
   "source": [
    "list((range(5)))"
   ]
  },
  {
   "cell_type": "code",
   "execution_count": 4,
   "metadata": {},
   "outputs": [
    {
     "data": {
      "text/plain": [
       "[0, 1, 2, 3, 4, 5, 6, 7, 8, 9]"
      ]
     },
     "execution_count": 4,
     "metadata": {},
     "output_type": "execute_result"
    }
   ],
   "source": [
    "list(range(0, 10))\n"
   ]
  },
  {
   "cell_type": "code",
   "execution_count": 5,
   "metadata": {},
   "outputs": [
    {
     "data": {
      "text/plain": [
       "[5, 7, 9, 11, 13, 15, 17, 19]"
      ]
     },
     "execution_count": 5,
     "metadata": {},
     "output_type": "execute_result"
    }
   ],
   "source": [
    "list(range(5, 20, 2))"
   ]
  },
  {
   "cell_type": "code",
   "execution_count": 10,
   "metadata": {},
   "outputs": [
    {
     "data": {
      "text/plain": [
       "(6, 6)"
      ]
     },
     "execution_count": 10,
     "metadata": {},
     "output_type": "execute_result"
    }
   ],
   "source": [
    "ls = [1, 5, 6, 7, 8, 9]\n",
    "ls[2], len(ls)"
   ]
  },
  {
   "cell_type": "code",
   "execution_count": 27,
   "metadata": {},
   "outputs": [
    {
     "name": "stdout",
     "output_type": "stream",
     "text": [
      "0\n",
      "1\n",
      "2\n",
      "3\n",
      "4\n",
      "5\n"
     ]
    }
   ],
   "source": [
    "for i in range(len(ls)):\n",
    "    print(i)"
   ]
  },
  {
   "cell_type": "code",
   "execution_count": 11,
   "metadata": {},
   "outputs": [
    {
     "data": {
      "text/plain": [
       "range(0, 6)"
      ]
     },
     "execution_count": 11,
     "metadata": {},
     "output_type": "execute_result"
    }
   ],
   "source": [
    "range(len(ls))\n"
   ]
  },
  {
   "cell_type": "code",
   "execution_count": 14,
   "metadata": {},
   "outputs": [
    {
     "name": "stdout",
     "output_type": "stream",
     "text": [
      "[0, 1, 2]\n",
      "[5, 6, 7, 8, 9, 10, 11, 12, 13, 14, 15, 16, 17, 18, 19]\n",
      "[5, 7, 9]\n"
     ]
    },
    {
     "data": {
      "text/plain": [
       "(None, None, None)"
      ]
     },
     "execution_count": 14,
     "metadata": {},
     "output_type": "execute_result"
    }
   ],
   "source": [
    "print(list(range(3))), print(list(range(5,20))), print(list(range(5,10,2)))"
   ]
  },
  {
   "attachments": {},
   "cell_type": "markdown",
   "metadata": {},
   "source": [
    "##### The range(len(iterable)) function"
   ]
  },
  {
   "cell_type": "code",
   "execution_count": 39,
   "metadata": {},
   "outputs": [
    {
     "name": "stdout",
     "output_type": "stream",
     "text": [
      "['HAT', 'BOOTS', 'JACKET', 'GLOVES']\n"
     ]
    }
   ],
   "source": [
    "items = [\"hat\", \"boots\", \"jacket\", \"gloves\"]\n",
    "\n",
    "#counter = 0\n",
    "for i in range(len(items)):\n",
    "    items[i] = items[i].upper()\n",
    "print(items)"
   ]
  },
  {
   "cell_type": "code",
   "execution_count": 42,
   "metadata": {},
   "outputs": [
    {
     "name": "stdout",
     "output_type": "stream",
     "text": [
      "0\n",
      "1\n",
      "2\n",
      "3\n"
     ]
    }
   ],
   "source": [
    "for i in range(len(items)):\n",
    "    print(i)"
   ]
  },
  {
   "attachments": {},
   "cell_type": "markdown",
   "metadata": {},
   "source": [
    "#### Tuple packing and unpacking\n",
    "- A quick revision of the lesson on tuples.\n",
    "- Tuple unpacking is one of the most powerful features of tuples.\n",
    "- Using the comma syntax below, Python automatically selects elements from a tuple and assigns them to variables.\n",
    "- his feature can be applied to For loops, particularly when iterating over dictionaries."
   ]
  },
  {
   "cell_type": "code",
   "execution_count": null,
   "metadata": {},
   "outputs": [],
   "source": [
    "# Python here 'unpacks' the tuple automatically and picks out the values and assigns them to the comma-separated\n",
    "# variables\n",
    "a, b = (1, 2)\n",
    "\n",
    "print(a)\n",
    "print(b)"
   ]
  },
  {
   "attachments": {},
   "cell_type": "markdown",
   "metadata": {},
   "source": [
    "##### For Loops with Dictionaries\n",
    "- There are two possible approaches for applying the For loop to dictionaries:\n",
    "- by iterating through d.keys(), since it returns a list.\n",
    "- by applying tuple unpacking to iterate through d.items(), since it returns a list of paired tuples.\n",
    "- The second approach enables the operation of both keys and items in a highly readable format."
   ]
  },
  {
   "cell_type": "code",
   "execution_count": 45,
   "metadata": {},
   "outputs": [
    {
     "data": {
      "text/plain": [
       "dict_values([0.87, 1.09, 0.29, 1.89, 1.29])"
      ]
     },
     "execution_count": 45,
     "metadata": {},
     "output_type": "execute_result"
    }
   ],
   "source": [
    "# Here, we see that the .keys() method returns a list.\n",
    "prices = {\"tomato\":0.87, \"sugar\":1.09, \"sponges\":0.29, \"juice\":1.89, \"foil\":1.29}\n",
    "\n",
    "prices.keys()\n",
    "# prices.values()"
   ]
  },
  {
   "cell_type": "code",
   "execution_count": 46,
   "metadata": {},
   "outputs": [
    {
     "name": "stdout",
     "output_type": "stream",
     "text": [
      "['tomato', 'sugar', 'sponges', 'juice', 'foil']\n",
      "[0.87, 1.09, 0.29, 1.89, 1.29]\n"
     ]
    }
   ],
   "source": [
    "\n",
    "# Here, the keys and items are selected from a dictionary and added to a list.\n",
    "prices = {\"tomato\":0.87, \"sugar\":1.09, \"sponges\":0.29, \"juice\":1.89, \"foil\":1.29}\n",
    "# initialise the empty lists\n",
    "\n",
    "code_list = []\n",
    "price_list = []\n",
    "\n",
    "for key in prices.keys():\n",
    "\n",
    "    # append the key itself to code_list\n",
    "    code_list.append(key)\n",
    "\n",
    "    # use the key to select the value and append that to price_list\n",
    "    price_list.append(prices[key])\n",
    "\n",
    "print(code_list)\n",
    "print(price_list)\n"
   ]
  },
  {
   "attachments": {},
   "cell_type": "markdown",
   "metadata": {},
   "source": [
    "##### Method 2"
   ]
  },
  {
   "cell_type": "code",
   "execution_count": 47,
   "metadata": {},
   "outputs": [
    {
     "data": {
      "text/plain": [
       "dict_items([('tomato', 0.87), ('sugar', 1.09), ('sponges', 0.29), ('juice', 1.89), ('foil', 1.29)])"
      ]
     },
     "execution_count": 47,
     "metadata": {},
     "output_type": "execute_result"
    }
   ],
   "source": [
    "# Here, we can see that the .items() method returns a list of paired tuples.\n",
    "prices.items()"
   ]
  },
  {
   "cell_type": "code",
   "execution_count": 50,
   "metadata": {},
   "outputs": [
    {
     "name": "stdout",
     "output_type": "stream",
     "text": [
      "['tomato', 'sugar', 'sponges', 'juice', 'foil']\n",
      "[0.87, 1.09, 0.29, 1.89, 1.29]\n"
     ]
    }
   ],
   "source": [
    "# Here, we perform the same operation; however, we apply tuple unpacking on d.keys this time.\n",
    "\n",
    "code_list = []\n",
    "price_list = []\n",
    "#key, value = ('tomato', 0.87)\n",
    "\n",
    "#key, value = ('sugar', 1.09)\n",
    "\n",
    "for key, value in prices.items():\n",
    "    \n",
    "    # This line is the same as above.\n",
    "    code_list.append(key)\n",
    "    \n",
    "    # Here, we access the value as well and directly append that to price_list.\n",
    "    price_list.append(value)\n",
    "    \n",
    "print(code_list)\n",
    "print(price_list)"
   ]
  },
  {
   "attachments": {},
   "cell_type": "markdown",
   "metadata": {},
   "source": [
    "- Other operations can also be performed using tuple unpacking."
   ]
  },
  {
   "cell_type": "code",
   "execution_count": 57,
   "metadata": {},
   "outputs": [
    {
     "name": "stdout",
     "output_type": "stream",
     "text": [
      "Item Code: tomato\n",
      "Price: £0.87\n",
      "\n",
      "Item Code: sugar\n",
      "Price: £1.09\n",
      "\n",
      "Item Code: sponges\n",
      "Price: £0.29\n",
      "\n",
      "Item Code: juice\n",
      "Price: £1.89\n",
      "\n",
      "Item Code: foil\n",
      "Price: £1.29\n",
      "\n"
     ]
    }
   ],
   "source": [
    "prices = {\"tomato\":0.87, \"sugar\":1.09, \"sponges\":0.29, \"juice\":1.89, \"foil\":1.29}\n",
    "\n",
    "for key, value in prices.items():\n",
    "   \n",
    "   print(f\"Item Code: {key}\\nPrice: £{value}\\n\")"
   ]
  },
  {
   "attachments": {},
   "cell_type": "markdown",
   "metadata": {},
   "source": [
    "##### If statements within For loops\n",
    "- Control flow can be applied within For loops to perform varying operations depending on conditions."
   ]
  },
  {
   "cell_type": "code",
   "execution_count": 81,
   "metadata": {},
   "outputs": [
    {
     "name": "stdout",
     "output_type": "stream",
     "text": [
      "This is the list of BMIs: [24.9, 25.4, 30.9, 23.9, 32.5, 18.8]\n",
      "\n",
      "You're in the healthy weight range. Your BMI is 24.9.\n",
      "You're in the overweight range. Your BMI is 25.4.\n",
      "You're in the obese range. Your BMI is 30.9.\n",
      "You're in the healthy weight range. Your BMI is 23.9.\n",
      "You're in the obese range. Your BMI is 32.5.\n",
      "You're in the healthy weight range. Your BMI is 18.8.\n"
     ]
    }
   ],
   "source": [
    "# We encode a list of heights and weights as a list of tuples.\n",
    "heights_weights = [(1.78, 79), (1.55, 61), (2.09, 135),\n",
    "                   (1.71, 70), (1.71, 95), (1.71, 55)]\n",
    "\n",
    "\n",
    "# We set bmis as an empty list to append the bmi values.\n",
    "bmis = []\n",
    "\n",
    "\n",
    "# We apply tuple unpacking to add bmi values to bmis.\n",
    "for height, weight in heights_weights:\n",
    "    bmis.append(round(weight / (height ** 2),1)) # rounding up before if statement bug fix applied or ele h = 1.78 and w = 79 will give wrong result\n",
    "\n",
    "\n",
    "# we print bmis here to show the intermediate list (ordinarily, we would not do this).\n",
    "print(f\"This is the list of BMIs: {bmis}\\n\")\n",
    "\n",
    "\n",
    "# We loop over the bmi list to assign the values to the correct message.\n",
    "for bmi in bmis:\n",
    "    if bmi < 18.5:\n",
    "        print(\n",
    "            f\"You're in the underweight range. Your BMI is {(bmi)}.\")\n",
    "    elif bmi <= 24.9:\n",
    "        print(\n",
    "            f\"You're in the healthy weight range. Your BMI is {(bmi)}.\")\n",
    "    elif bmi <= 29.9:\n",
    "        print(\n",
    "            f\"You're in the overweight range. Your BMI is {(bmi)}.\")\n",
    "    elif bmi <= 39.9:\n",
    "        print(f\"You're in the obese range. Your BMI is {(bmi)}.\")\n"
   ]
  },
  {
   "attachments": {},
   "cell_type": "markdown",
   "metadata": {},
   "source": [
    "- Here, we use the example of a BMI calculator to demonstrate the combined use of a few concepts.\n",
    "- For ease of calculation, heights are in metres and weights in kilograms.\n",
    "- Note that this can also be performed in a single For loop, as shown below:"
   ]
  },
  {
   "cell_type": "code",
   "execution_count": 83,
   "metadata": {},
   "outputs": [
    {
     "name": "stdout",
     "output_type": "stream",
     "text": [
      "You're in the overweight range. Your BMI is 24.9\n",
      "You're in the overweight range. Your BMI is 25.4\n",
      "You're in the obese range. Your BMI is 30.9\n",
      "You're in the healthy weight range. Your BMI is 23.9\n",
      "You're in the obese range. Your BMI is 32.5\n",
      "You're in the healthy weight range. Your BMI is 18.8\n"
     ]
    }
   ],
   "source": [
    "heights_weights = [(1.78, 79),(1.55, 61),(2.09, 135),(1.71, 70),(1.71, 95),(1.71, 55)]\n",
    "\n",
    "for height, weight in heights_weights:\n",
    "    \n",
    "    # Here, we calculate bmi within the For loop using the paired tuple values before passing the bmi value\n",
    "    # into the subsequent if statements.\n",
    "    bmi = weight/height**2 \n",
    "\n",
    "    if bmi < 18.5:\n",
    "        print(\"You're in the underweight range. Your BMI is {:3.1f}\".format(bmi))\n",
    "    elif bmi <= 24.9:\n",
    "        print(\"You're in the healthy weight range. Your BMI is {:3.1f}\".format(bmi))\n",
    "    elif bmi <= 29.9:\n",
    "        print(\"You're in the overweight range. Your BMI is {:3.1f}\".format(bmi))\n",
    "    elif bmi <= 39.9:\n",
    "        print(\"You're in the obese range. Your BMI is {:3.1f}\".format(bmi))"
   ]
  },
  {
   "attachments": {},
   "cell_type": "markdown",
   "metadata": {},
   "source": [
    "##### The pass, break and continue keywords\n",
    "- The pass keyword serves as a placeholder in an empty loop. It means 'do nothing'.\n",
    "- The pass keyword is applied when an empty loop (or function) is present in our code. In other words, the pass keyword ensures that the rest of the code outside the empty loop runs.\n",
    "- The break keyword terminates the loop when triggered.\n",
    "- The continue keyword moves to the top of the nearest enclosing loop and skips onto the next iteration.\n",
    "- Generally, these keywords are used within a conditional to terminate a loop or skip an iteration when a condition is met."
   ]
  },
  {
   "cell_type": "code",
   "execution_count": 84,
   "metadata": {},
   "outputs": [
    {
     "name": "stdout",
     "output_type": "stream",
     "text": [
      "10 5\n"
     ]
    }
   ],
   "source": [
    "# used for developing code. If left empty, Python throws an error.\n",
    "x, y = 10, 5\n",
    "\n",
    "for i in range(20):\n",
    "    ### To be completed\n",
    "    pass\n",
    "\n",
    "print(x,y)"
   ]
  },
  {
   "cell_type": "code",
   "execution_count": 104,
   "metadata": {},
   "outputs": [
    {
     "name": "stdout",
     "output_type": "stream",
     "text": [
      "I am not skipped because 1 is not divisible by 3\n",
      "I am not skipped because 2 is not divisible by 3\n",
      "I am not skipped because 4 is not divisible by 3\n",
      "I am not skipped because 5 is not divisible by 3\n",
      "I am not skipped because 7 is not divisible by 3\n",
      "I am not skipped because 8 is not divisible by 3\n",
      "I am not skipped because 10 is not divisible by 3\n",
      "I am not skipped because 11 is not divisible by 3\n",
      "11 is divisible by 3\n"
     ]
    }
   ],
   "source": [
    "for i in range(12):\n",
    "    if i % 3 == 0:\n",
    "        continue\n",
    "        print(f'{i} is divisible by 3')\n",
    "    print(f'I am not skipped because {i} is not divisible by 3')\n",
    "print((f'{i} is divisible by 3'))"
   ]
  },
  {
   "cell_type": "code",
   "execution_count": 119,
   "metadata": {},
   "outputs": [
    {
     "name": "stdout",
     "output_type": "stream",
     "text": [
      "1\n",
      "2\n",
      "3\n",
      "4\n",
      "5\n",
      "6\n",
      "7\n",
      "8\n",
      "9\n",
      "10\n"
     ]
    }
   ],
   "source": [
    "for x in range(1,12):\n",
    "    if x % 11 == 0:\n",
    "        break\n",
    "    else:\n",
    "        print(x)"
   ]
  },
  {
   "attachments": {},
   "cell_type": "markdown",
   "metadata": {},
   "source": [
    "##### Zip and enumerate\n",
    "- The zip() function combines iterables into tuples; however, zip is an iterator that returns a zip object, which must then be iterated over or converted into a list to be viewed.\n",
    "- If the * argument is passed, it can unzip into tuples.\n",
    "T- he enumerate() function returns an iterator of tuples, containing (index, item).\n",
    "- This is useful for operations on both indices and items, e.g. combining a For loop on an iterable with a For loop on range(len(iterable)).\n"
   ]
  },
  {
   "cell_type": "code",
   "execution_count": 120,
   "metadata": {},
   "outputs": [
    {
     "name": "stdout",
     "output_type": "stream",
     "text": [
      "[('tomato', 0.87), ('sugar', 1.09), ('sponges', 0.29), ('juice', 1.89), ('foil', 1.29)]\n"
     ]
    }
   ],
   "source": [
    "# zip() creates a zip object, which must be iterated or listed to be viewed.\n",
    "\n",
    "items = [\"tomato\", \"sugar\", \"sponges\", \"juice\", \"foil\"]\n",
    "prices = [0.87, 1.09, 0.29, 1.89, 1.29]\n",
    "\n",
    "items_and_prices = zip(items, prices) # creating a zip object \n",
    "\n",
    "print(list(items_and_prices))"
   ]
  },
  {
   "cell_type": "code",
   "execution_count": 121,
   "metadata": {},
   "outputs": [
    {
     "name": "stdout",
     "output_type": "stream",
     "text": [
      "tomato 0.87\n",
      "sugar 1.09\n",
      "sponges 0.29\n",
      "juice 1.89\n",
      "foil 1.29\n"
     ]
    }
   ],
   "source": [
    "for item, price in zip(items, prices):\n",
    "    print(item, price)"
   ]
  },
  {
   "cell_type": "code",
   "execution_count": 122,
   "metadata": {},
   "outputs": [
    {
     "name": "stdout",
     "output_type": "stream",
     "text": [
      "('tomato', 'sugar', 'sponges', 'juice', 'foil')\n",
      "(0.87, 1.09, 0.29, 1.89, 1.29)\n"
     ]
    }
   ],
   "source": [
    "# We can unzip a zip object into tuples by passing * into the zip call.\n",
    "\n",
    "items_and_prices = zip(items, prices) # creating zip object\n",
    "\n",
    "tuple_of_items, tuple_of_prices = zip(*items_and_prices) # unzipping zip object\n",
    "\n",
    "print(tuple_of_items)\n",
    "print(tuple_of_prices)"
   ]
  },
  {
   "cell_type": "code",
   "execution_count": 123,
   "metadata": {},
   "outputs": [
    {
     "name": "stdout",
     "output_type": "stream",
     "text": [
      "The price of tomato is £0.87\n",
      "The price of sugar is £1.09\n",
      "The price of sponges is £0.29\n",
      "The price of juice is £1.89\n",
      "The price of foil is £1.29\n"
     ]
    }
   ],
   "source": [
    "# can iterate over and perform operations on a zip object\n",
    "\n",
    "for item, price in zip(items, prices):\n",
    "    print(f\"The price of {item} is £{price}\")"
   ]
  },
  {
   "cell_type": "code",
   "execution_count": 125,
   "metadata": {},
   "outputs": [
    {
     "name": "stdout",
     "output_type": "stream",
     "text": [
      "0 hat\n",
      "1 scarf\n",
      "2 coat\n",
      "3 gloves\n"
     ]
    }
   ],
   "source": [
    "# enumerate() gives both the items and their indices that can be operated on\n",
    "\n",
    "items = [\"hat\", \"scarf\", \"coat\", \"gloves\"]\n",
    "\n",
    "\n",
    "for index, item in enumerate(items):\n",
    "    print(index, item)"
   ]
  },
  {
   "cell_type": "code",
   "execution_count": 130,
   "metadata": {},
   "outputs": [
    {
     "name": "stdout",
     "output_type": "stream",
     "text": [
      "((0, 'hat'), (1, 'scarf'), (2, 'coat'), (3, 'gloves'))\n"
     ]
    }
   ],
   "source": [
    "# enumerate objects can be shown in lists/tuples as well\n",
    "print(tuple(enumerate(items)))"
   ]
  },
  {
   "attachments": {},
   "cell_type": "markdown",
   "metadata": {},
   "source": [
    "##### A note on the * operator\n",
    "- Conventionally, the * operator performs multiplication. However, in this case, it is used to unzip a zip object. It is important to understand what actually occurs.\n",
    "- Think of * as a container destructor."
   ]
  },
  {
   "cell_type": "code",
   "execution_count": 133,
   "metadata": {},
   "outputs": [
    {
     "name": "stdout",
     "output_type": "stream",
     "text": [
      "(1, 2) (3, 4)\n",
      "[(1, 2), (3, 4)]\n",
      "((1, 2), (3, 4))\n"
     ]
    }
   ],
   "source": [
    "zipped = [(1, 2), (3, 4)]\n",
    "print(*zipped) # unpacks the zipped instance into its components\n",
    "zipped = [[(1, 2), (3, 4)]]\n",
    "print(*zipped)\n",
    "# think of * as an operator that removes the squared brackets\n",
    "zipped = [((1, 2), (3, 4))]\n",
    "print(*zipped)"
   ]
  },
  {
   "attachments": {},
   "cell_type": "markdown",
   "metadata": {},
   "source": [
    "###### Think of * as a container or bracket BUSTER :)."
   ]
  },
  {
   "cell_type": "code",
   "execution_count": 140,
   "metadata": {},
   "outputs": [
    {
     "data": {
      "text/plain": [
       "[1, 2, 3]"
      ]
     },
     "execution_count": 140,
     "metadata": {},
     "output_type": "execute_result"
    }
   ],
   "source": [
    "[*(1, 2, 3)] # In this case, it removes the brackets, and the result will be a list containing 1, 2 and 3.\n"
   ]
  },
  {
   "cell_type": "code",
   "execution_count": 141,
   "metadata": {},
   "outputs": [
    {
     "data": {
      "text/plain": [
       "[(1, 2), (3, 4)]"
      ]
     },
     "execution_count": 141,
     "metadata": {},
     "output_type": "execute_result"
    }
   ],
   "source": [
    "[*((1, 2), (3, 4))]"
   ]
  },
  {
   "cell_type": "code",
   "execution_count": 139,
   "metadata": {},
   "outputs": [
    {
     "data": {
      "text/plain": [
       "[1, 2, (3, 4)]"
      ]
     },
     "execution_count": 139,
     "metadata": {},
     "output_type": "execute_result"
    }
   ],
   "source": [
    "[*(*(1, 2), (3, 4))]"
   ]
  },
  {
   "cell_type": "code",
   "execution_count": 149,
   "metadata": {},
   "outputs": [
    {
     "data": {
      "text/plain": [
       "(1, 2, 3, 4)"
      ]
     },
     "execution_count": 149,
     "metadata": {},
     "output_type": "execute_result"
    }
   ],
   "source": [
    "(*(1, 2), *(3, 4))"
   ]
  },
  {
   "attachments": {},
   "cell_type": "markdown",
   "metadata": {},
   "source": [
    "- The zip function can be used with as many arguments as possible. It will create tuples with the same number of items of arguments used. \n",
    "- Thus, in this case, we have tuples of three items."
   ]
  },
  {
   "cell_type": "code",
   "execution_count": 154,
   "metadata": {},
   "outputs": [
    {
     "name": "stdout",
     "output_type": "stream",
     "text": [
      "[('tomato', 0.87, 1), ('sugar', 1.09, 2), ('sponges', 0.29, 3), ('juice', 1.89, 4), ('foil', 1.29, 5)]\n",
      "(('tomato', 0.87, 1), ('sugar', 1.09, 2), ('sponges', 0.29, 3), ('juice', 1.89, 4), ('foil', 1.29, 5))\n"
     ]
    }
   ],
   "source": [
    "items =  [\"tomato\", \"sugar\", \"sponges\", \"juice\", \"foil\"]\n",
    "prices = [0.87,      1.09,     0.29,      1.89,    1.29]\n",
    "item =   [1,            2,        3,         4,     5]\n",
    "\n",
    "print(list(zip(items, prices, item)))\n",
    "\n",
    "print(tuple(zip(items, prices, item)))"
   ]
  },
  {
   "cell_type": "code",
   "execution_count": 155,
   "metadata": {},
   "outputs": [
    {
     "name": "stdout",
     "output_type": "stream",
     "text": [
      "[('tomato', 0.87), ('sugar', 1.09), ('sponges', 0.29), ('juice', 1.89), ('foil', 1.29)]\n",
      "[('tomato', 'sugar', 'sponges', 'juice', 'foil'), (0.87, 1.09, 0.29, 1.89, 1.29)]\n"
     ]
    }
   ],
   "source": [
    "items = [\"tomato\", \"sugar\", \"sponges\", \"juice\", \"foil\"]\n",
    "prices = [0.87,      1.09,     0.29,     1.89,    1.29]\n",
    "\n",
    "items_and_prices = zip(items, prices)  # We create a list of tuples.\n",
    "print(list(items_and_prices))\n",
    "\n",
    "items_and_prices = zip(items, prices)  # We create a list of tuples.\n",
    "# We reinstantiate it because once we use the list function into the zip object,\n",
    "# it changes its status.\n",
    "# We remove the square brackets, obtaining five tuples.\n",
    "print(list(zip(*items_and_prices)))\n",
    "# Subsequently, we zip all the five tuples, yielding tuples with five items each.\n"
   ]
  },
  {
   "attachments": {},
   "cell_type": "markdown",
   "metadata": {},
   "source": [
    "- Notably, dictionaries can also be unpacked following the same approach employed for zip files or iterables; the difference is that ** is used instead."
   ]
  },
  {
   "cell_type": "code",
   "execution_count": 1,
   "metadata": {},
   "outputs": [
    {
     "name": "stdout",
     "output_type": "stream",
     "text": [
      "{'A': 1, 'B': 2}\n",
      "{'A': 1, 'B': 2, 'C': 3, 'D': 4}\n"
     ]
    }
   ],
   "source": [
    "dict_1 = {'A': 1, 'B': 2}\n",
    "dict_2 = {'C': 3, 'D': 4}\n",
    "\n",
    "print({**dict_1})# ** removes the curly brackets, affording something like 'A' = 1 and 'B' = 2.\n",
    "\n",
    "# We can also unpack two dictionaries and merge them.\n",
    "\n",
    "print({**dict_1, **dict_2}) # We obtain something like 'A' = 1, 'B' = 2, 'C' = 3, 'D' = 4."
   ]
  },
  {
   "attachments": {},
   "cell_type": "markdown",
   "metadata": {},
   "source": [
    "- These operators can also be applied to functions, as will be demonstrated in the next lesson."
   ]
  },
  {
   "cell_type": "code",
   "execution_count": 157,
   "metadata": {},
   "outputs": [
    {
     "name": "stdout",
     "output_type": "stream",
     "text": [
      "(1, 2, 3)\n",
      "{'a': 4, 'b': 5, 'c': 6}\n"
     ]
    }
   ],
   "source": [
    "# * and ** can serve as the inputs for a function.\n",
    "\n",
    "def fun_dummy(*args, **kwargs): # args = arguments; kwargs = key word arguments\n",
    "    print(args) # args is now a tuple\n",
    "    print(kwargs) # kwargs is now a dictionary\n",
    "\n",
    "fun_dummy(1, 2, 3, a=4, b=5, c=6) \n",
    "# Anything without a keyword argument (by keyword we mean a, b, c) will be a tuple in the function.\n",
    "# Anything with a keyword argument will be included in a dictionary in the function."
   ]
  },
  {
   "attachments": {},
   "cell_type": "markdown",
   "metadata": {},
   "source": [
    "##### List comprehensions\n",
    "- List comprehension is a significantly more efficient approach for writing a For loop that generates or modifies a list.\n",
    "- It is suitable in cases where .append() is applied to a list inside a For loop or where a list is iterated over to modify each index item; otherwise, a For loop is preferred.\n",
    "- Complex For loops operating on a list, such as the BMI calculator, are not suitable for list comprehensions. They would be overly complex and difficult to read.\n",
    "- List comprehensions are written on a single line, and the syntax is as follows:\n",
    "- - for item in iterable:\n",
    "- - - do_something\n",
    "- - [do_something for item in iterable]"
   ]
  },
  {
   "cell_type": "code",
   "execution_count": 161,
   "metadata": {},
   "outputs": [
    {
     "name": "stdout",
     "output_type": "stream",
     "text": [
      "[0, 1, 4, 9, 16]\n"
     ]
    }
   ],
   "source": [
    "squares = []\n",
    "\n",
    "for i in range(5):\n",
    "    squares.append(i**2)\n",
    "\n",
    "print(squares)"
   ]
  },
  {
   "attachments": {},
   "cell_type": "markdown",
   "metadata": {},
   "source": [
    "##### becomes"
   ]
  },
  {
   "cell_type": "code",
   "execution_count": null,
   "metadata": {},
   "outputs": [],
   "source": [
    "squares = [i**2 for i in range(10)]"
   ]
  },
  {
   "attachments": {},
   "cell_type": "markdown",
   "metadata": {},
   "source": [
    "##### List comprehensions using conditionals\n",
    "- Conditionals in list comprehensions are of two types.\n",
    "- When adding only an if statement, the conditional goes after the For statement.\n",
    "- When adding if/else statements, the conditional goes before the For statement."
   ]
  },
  {
   "cell_type": "code",
   "execution_count": 1,
   "metadata": {},
   "outputs": [
    {
     "name": "stdout",
     "output_type": "stream",
     "text": [
      "[0, 9, 36, 81]\n"
     ]
    }
   ],
   "source": [
    "squared_threes = []\n",
    "\n",
    "for x in range(10):\n",
    "    if x%3 == 0:\n",
    "        squared_threes.append(x**2)\n",
    "\n",
    "print(squared_threes)"
   ]
  },
  {
   "attachments": {},
   "cell_type": "markdown",
   "metadata": {},
   "source": [
    "##### The above code becomes "
   ]
  },
  {
   "cell_type": "code",
   "execution_count": 164,
   "metadata": {},
   "outputs": [
    {
     "name": "stdout",
     "output_type": "stream",
     "text": [
      "[0, 9, 36, 81]\n"
     ]
    }
   ],
   "source": [
    "squared_threes = [x**2 for x in range(10) if x%3==0]\n",
    "\n",
    "print(squared_threes)"
   ]
  },
  {
   "attachments": {},
   "cell_type": "markdown",
   "metadata": {},
   "source": [
    "##### If if/else is used,"
   ]
  },
  {
   "cell_type": "code",
   "execution_count": null,
   "metadata": {},
   "outputs": [],
   "source": [
    "squares_and_cubes = []\n",
    "\n",
    "for x in range(10):\n",
    "    if x%3 == 0:\n",
    "        squares_and_cubes.append(x**3)\n",
    "    else:\n",
    "        squares_and_cubes.append(x**2)\n",
    "\n",
    "print(squares_and_cubes)"
   ]
  },
  {
   "attachments": {},
   "cell_type": "markdown",
   "metadata": {},
   "source": [
    "##### The above code becomes "
   ]
  },
  {
   "cell_type": "code",
   "execution_count": 165,
   "metadata": {},
   "outputs": [
    {
     "name": "stdout",
     "output_type": "stream",
     "text": [
      "[0, 1, 4, 27, 16, 25, 216, 49, 64, 729]\n"
     ]
    }
   ],
   "source": [
    "squares_and_cubes = [x**3 if x%3==0 else x**2 for x in range(10)]\n",
    "\n",
    "print(squares_and_cubes)"
   ]
  },
  {
   "attachments": {},
   "cell_type": "markdown",
   "metadata": {},
   "source": [
    "##### Dictionary comprehensions\n",
    "- In Python, dictionary comprehensions can also be employed to create a new dictionary rapidly and efficiently.\n",
    "- They are utilised as a method to create a new dictionary from another.\n",
    "- The logic is the same as that for list comprehensions; however, the syntax is different because of the structure of dictionaries."
   ]
  },
  {
   "cell_type": "code",
   "execution_count": 166,
   "metadata": {},
   "outputs": [
    {
     "name": "stdout",
     "output_type": "stream",
     "text": [
      "{'First': 4, 'Second': 9, 'Third': 16, 'Fourth': 25, 'Fifth': 36}\n"
     ]
    }
   ],
   "source": [
    "numbers_dict = {\"First\": 2, \"Second\": 3, \"Third\": 4, \"Fourth\": 5, \"Fifth\": 6}\n",
    "\n",
    "for key, value in numbers_dict.items():\n",
    "    numbers_dict[key] = value**2\n",
    "    \n",
    "print(numbers_dict)"
   ]
  },
  {
   "attachments": {},
   "cell_type": "markdown",
   "metadata": {},
   "source": [
    "##### The above code becomes "
   ]
  },
  {
   "cell_type": "code",
   "execution_count": null,
   "metadata": {},
   "outputs": [],
   "source": [
    "numbers_dict = {\"First\": 2, \"Second\": 3, \"Third\": 4, \"Fourth\": 5, \"Fifth\": 6}\n",
    "\n",
    "squared_dict = {key:value**2 for key, value in numbers_dict.items()}\n",
    "print(squared_dict)"
   ]
  },
  {
   "attachments": {},
   "cell_type": "markdown",
   "metadata": {},
   "source": [
    "- Conditionals can also be introduced, as follows:"
   ]
  },
  {
   "cell_type": "code",
   "execution_count": 168,
   "metadata": {},
   "outputs": [
    {
     "name": "stdout",
     "output_type": "stream",
     "text": [
      "{'First': 4, 'Second': 3, 'Third': 16, 'Fourth': 5, 'Fifth': 36}\n"
     ]
    }
   ],
   "source": [
    "numbers_dict = {\"First\": 2, \"Second\": 3, \"Third\": 4, \"Fourth\": 5, \"Fifth\": 6}\n",
    "\n",
    "for key, value in numbers_dict.items():\n",
    "    if numbers_dict[key]%2 == 0:\n",
    "        numbers_dict[key] = value**2\n",
    "\n",
    "print(numbers_dict)"
   ]
  },
  {
   "attachments": {},
   "cell_type": "markdown",
   "metadata": {},
   "source": [
    "##### The above code becomes "
   ]
  },
  {
   "cell_type": "code",
   "execution_count": 167,
   "metadata": {},
   "outputs": [
    {
     "name": "stdout",
     "output_type": "stream",
     "text": [
      "{'First': 4, 'Second': 3, 'Third': 16, 'Fourth': 5, 'Fifth': 36}\n"
     ]
    }
   ],
   "source": [
    "numbers_dict = {\"First\": 2, \"Second\": 3, \"Third\": 4, \"Fourth\": 5, \"Fifth\": 6}\n",
    "\n",
    "squared_dict = {key:value**2 if value%2==0 else value for key,value in numbers_dict.items()}\n",
    "print(squared_dict)"
   ]
  },
  {
   "attachments": {},
   "cell_type": "markdown",
   "metadata": {},
   "source": [
    "##### Moreover, new dictionaries can be built from old dictionaries using conditionals:"
   ]
  },
  {
   "cell_type": "code",
   "execution_count": 169,
   "metadata": {},
   "outputs": [
    {
     "name": "stdout",
     "output_type": "stream",
     "text": [
      "{'First': 16, 'Third': 256, 'Fifth': 1296}\n"
     ]
    }
   ],
   "source": [
    "umbers_dict = {\"First\": 2, \"Second\": 3, \"Third\": 4, \"Fourth\": 5, \"Fifth\": 6}\n",
    "\n",
    "new_squared_dict = {key:value**2 for key,value in numbers_dict.items() if value%2==0}\n",
    "print(new_squared_dict)"
   ]
  },
  {
   "attachments": {},
   "cell_type": "markdown",
   "metadata": {},
   "source": [
    "##### A word of caution\n",
    "- Comprehensions with conditionals can rapidly become overly complicated and unreadable, thereby providing you a false sense of security in your skill as a programmer.\n",
    "- Oftentimes, a For loop statement is cleaner and more readable (for both you and others) than a complicated list comprehension.\n",
    "- Priority should always be accorded to readability, rather than completing as many operations as humanly possible on a line."
   ]
  },
  {
   "attachments": {},
   "cell_type": "markdown",
   "metadata": {},
   "source": [
    "##### Nested For loops\n",
    "- For loops can be nested, i.e. used within other For loops.\n",
    "- The control flow in nested For loops is as follows: the outer loop performs all iterations of the inner loop on its first item before moving to the next iteration and repeating.\n",
    "- There is also a list comprehension equivalent of a nested For loop.\n",
    "- For loop nesting can be applied indefinitely (i.e. several levels deep); however, beyond a single nested structure, it becomes complicated to comprehend.\n",
    "- Nested For loops should be avoided where possible because the deeper the levels, the more inefficient the code.\n",
    "- However, there are some legitimate use cases for them, e.g. iteration over multiple lists."
   ]
  },
  {
   "cell_type": "code",
   "execution_count": 171,
   "metadata": {},
   "outputs": [
    {
     "name": "stdout",
     "output_type": "stream",
     "text": [
      "Outer Loop Operation: 1\n",
      "Inner Loop Operation: 1\n",
      "Inner Loop Operation: 2\n",
      "Inner Loop Operation: 3\n",
      "5\n",
      "Outer Loop Operation: 2\n",
      "Inner Loop Operation: 1\n",
      "Inner Loop Operation: 2\n",
      "Inner Loop Operation: 3\n",
      "5\n",
      "Outer Loop Operation: 3\n",
      "Inner Loop Operation: 1\n",
      "Inner Loop Operation: 2\n",
      "Inner Loop Operation: 3\n",
      "5\n"
     ]
    }
   ],
   "source": [
    "# basic syntax: inner loop operations are performed for each outer loop operation\n",
    "for i in range(1,4):\n",
    "    print(f\"Outer Loop Operation: {i}\")\n",
    "    \n",
    "    for j in range(1,4):\n",
    "        print(f\"Inner Loop Operation: {j}\")\n",
    "    \n",
    "    print() # adds new line"
   ]
  },
  {
   "cell_type": "code",
   "execution_count": 172,
   "metadata": {},
   "outputs": [
    {
     "name": "stdout",
     "output_type": "stream",
     "text": [
      "[2, 4, 8, 3, 9, 27, 4, 16, 64]\n"
     ]
    }
   ],
   "source": [
    "# We perform operations using both counters.\n",
    "mylist = []\n",
    "\n",
    "for x in [2,3,4]:\n",
    "    for y in [1,2,3]:\n",
    "        mylist.append(x**y)\n",
    "\n",
    "print(mylist)"
   ]
  },
  {
   "cell_type": "code",
   "execution_count": 173,
   "metadata": {},
   "outputs": [
    {
     "data": {
      "text/plain": [
       "[2, 4, 8, 3, 9, 27, 4, 16, 64]"
      ]
     },
     "execution_count": 173,
     "metadata": {},
     "output_type": "execute_result"
    }
   ],
   "source": [
    "# list comprehension syntax: operation first, followed by both For statements\n",
    "[x**y for x in [2,3,4] for y in [1,2,3]]"
   ]
  },
  {
   "attachments": {},
   "cell_type": "markdown",
   "metadata": {},
   "source": [
    "##### Conclusion\n",
    "- Admittedly, this was a heavy lesson. Please always refer to this notebook when you require clarification or some forgotten information.\n",
    "- At this point, you should have a fair understanding of :\n",
    "- - the concept of iterations, both definite and indefinite.\n",
    "- - while and for loops.\n",
    "- - the difference between iterating over items and iterating over indices.\n",
    "- - how to use conditionals in a For loop.\n",
    "- - tuple unpacking and its applications.\n",
    "- - the uses of the pass, break and continue keywords.\n",
    "- - how to use the zip() and enumerate() functions.\n",
    "- - how and when to use list comprehensions.\n",
    "##### Further Reading\n",
    "- While statements: https://docs.python.org/3.8/reference/compound_stmts.html#while\n",
    "- Everything you need to know regarding For loops is contained in this notebook. However, you can refer to the book 'Learning Python' by Mark Lutz. Note that it is a reference material with over 1000 - pages and a whole chapter on 'for' loops. A pdf is available here: https://cfm.ehu.es/ricardo/docs/python/Learning_Python.pdf"
   ]
  }
 ],
 "metadata": {
  "kernelspec": {
   "display_name": "secondtest_env",
   "language": "python",
   "name": "python3"
  },
  "language_info": {
   "codemirror_mode": {
    "name": "ipython",
    "version": 3
   },
   "file_extension": ".py",
   "mimetype": "text/x-python",
   "name": "python",
   "nbconvert_exporter": "python",
   "pygments_lexer": "ipython3",
   "version": "3.10.6"
  },
  "orig_nbformat": 4,
  "vscode": {
   "interpreter": {
    "hash": "f7e737508e320864f9730b912236e997794d80e5da8833e77c0e26b9118fc4e5"
   }
  }
 },
 "nbformat": 4,
 "nbformat_minor": 2
}
