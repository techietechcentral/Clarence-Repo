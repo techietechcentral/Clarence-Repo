{
 "cells": [
  {
   "cell_type": "code",
   "execution_count": 7,
   "metadata": {},
   "outputs": [
    {
     "name": "stdout",
     "output_type": "stream",
     "text": [
      "Oops...it seems something went wrong.\n",
      "Ensure the module you are trying to import exists.\n",
      "+++++++++++++++++++++++++++++++++++++++++++++++++++++++++++++++++++++++++++\n",
      "Invalid Username\n"
     ]
    }
   ],
   "source": [
    "\"\"\" The try block lets you test a block of code for errors.\n",
    "The except block lets you handle the error.\n",
    "The else block lets you execute code when there is no error.\n",
    "The finally block lets you execute code, regardless of the result of \n",
    "the try- and except blocks. \"\"\"\n",
    "\n",
    "try:\n",
    "    import decagon\n",
    "    decagon()\n",
    "    x = decagon()\n",
    "    print(x)\n",
    "except:\n",
    "    print(\"Oops...it seems something went wrong.\\nEnsure the module you are trying to import exists.\")\n",
    "\n",
    "print (\"+++++++++++++++++++++++++++++++++++++++++++++++++++++++++++++++++++++++++++\")\n",
    "\n",
    "text = input('Username:')\n",
    "try:\n",
    "    Numb = int(text)\n",
    "    print(Numb)\n",
    "except:\n",
    "    print(\"Invalid Username\")"
   ]
  }
 ],
 "metadata": {
  "kernelspec": {
   "display_name": "Python 3.10.6 ('secondtest_env')",
   "language": "python",
   "name": "python3"
  },
  "language_info": {
   "codemirror_mode": {
    "name": "ipython",
    "version": 3
   },
   "file_extension": ".py",
   "mimetype": "text/x-python",
   "name": "python",
   "nbconvert_exporter": "python",
   "pygments_lexer": "ipython3",
   "version": "3.10.6 | packaged by conda-forge | (main, Oct 24 2022, 16:02:16) [MSC v.1916 64 bit (AMD64)]"
  },
  "orig_nbformat": 4,
  "vscode": {
   "interpreter": {
    "hash": "f7e737508e320864f9730b912236e997794d80e5da8833e77c0e26b9118fc4e5"
   }
  }
 },
 "nbformat": 4,
 "nbformat_minor": 2
}
