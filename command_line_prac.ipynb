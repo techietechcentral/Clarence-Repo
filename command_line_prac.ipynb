{
 "cells": [
  {
   "attachments": {},
   "cell_type": "markdown",
   "metadata": {},
   "source": [
    "#### 3. File Manipulation - Practicals\n",
    "> 1. Checking the Current Working Directory\n",
    "1. You can check the current working directory using the pwd command.\n",
    "2. Open your terminal, type pwd and press enter. What is the current working directory?\n",
    "\n"
   ]
  },
  {
   "attachments": {},
   "cell_type": "markdown",
   "metadata": {},
   "source": [
    "> 2. List All Files\n",
    "1. You can list all the files in the current directory running the command ls\n",
    "2. Run the command ls in your terminal. What files are in your current directory?"
   ]
  },
  {
   "attachments": {},
   "cell_type": "markdown",
   "metadata": {},
   "source": [
    "> 3. Moving a File\n",
    "1. You can create a new file using the touch command.\n",
    "2. Create a file named 'data.csv' in the parent directory of the 'MyProject' directory.\n",
    "3. Use the mv command to move it into the 'MyProject' directory."
   ]
  },
  {
   "attachments": {},
   "cell_type": "markdown",
   "metadata": {},
   "source": [
    "> 4. Creating Directories and Files\n",
    "- In this practical, you will be creating directories and files.\n",
    "\n",
    "1. Navigate to your home directory and create a directory called Test. You can use the cd ~ command to navigate to your home directory.\n",
    "2. Change directory to the newly created Test directory\n",
    "3. Check that you are now in the Test directory\n",
    "4. Inside the Test directory, create another directory called Example\n",
    "5. Create 2 files called myfile.txt and another_file.txt inside the Example directory\n",
    "6. Navigate back to the Test directory\n",
    "7. In the Test directory, create a file called test_file.txt"
   ]
  },
  {
   "attachments": {},
   "cell_type": "markdown",
   "metadata": {},
   "source": [
    "> 5. Moving and Removing Directories and Files\n",
    "1. Move another_file.txt file from the Example directory into the Test directory\n",
    "2. List the items in the Test directory to confirm that the another_file.txt has been moved\n",
    "3. List the items in the Example directory to confirm that the another_file.txt file has been moved out of the directory\n",
    "4. Copy myfile.txt into the Test directory 5 Check both directories to ensure that myfile.txt exists in both\n",
    "\n",
    "5. Remove myfile.txt from Example directory.\n",
    "6. Remove the Test directory including all the files in it. Hint: you will need to add a flag to the command."
   ]
  },
  {
   "attachments": {},
   "cell_type": "markdown",
   "metadata": {},
   "source": [
    "> 6. Copy a Directory\n",
    "1. You can copy a file or directory using the cp command.\n",
    "2. If you want to copy a whole directory, you need to use the -r flag, so that the command will copy the directory and all of its contents.\n",
    "3. Use the mkdir command to create a directory called 'MyProject2'.\n",
    "4. Use the touch command to create a file called 'data.csv' in the 'MyProject2' directory.\n",
    "5. Use the cp command to copy the 'MyProject2' directory into the 'MyProject' directory."
   ]
  },
  {
   "attachments": {},
   "cell_type": "markdown",
   "metadata": {},
   "source": [
    "#### 4. Editing files with nano - Practicals\n",
    "> 1. Editing Text Files with Nano\n",
    "1. Use the touch command to create a new text file called my_file.txt.\n",
    "2. Using the nano command, open the newly created my_file.txt file.\n",
    "3. Add the following text to the file: This is my first file!\n",
    "4. Save the file by pressing Ctrl + O and then Enter.\n",
    "5. Exit the editor by pressing Ctrl + X."
   ]
  },
  {
   "attachments": {},
   "cell_type": "markdown",
   "metadata": {},
   "source": [
    "> 2. Creating and Opening Files\n",
    "\n",
    "1. Using Nano, create and open a new file called my_movie.txt\n",
    "2. Familiarize yourself with the Nano editor interface. Check out the command shortcuts at the bottom of the window\n",
    "3. Type the name of your favorite movies into the editor\n",
    "4. Save the file and exit\n",
    "5. In your terminal, read the content of my_movie.txt using the cat command"
   ]
  },
  {
   "attachments": {},
   "cell_type": "markdown",
   "metadata": {},
   "source": [
    "> 3. Searching Text Files with Nano\n",
    "1. Using nano, open the my_movie.txt file\n",
    "2. You can search for a specific text string using Ctrl + W\n",
    "3. Search for the name of one of your favorite movies\n"
   ]
  }
 ],
 "metadata": {
  "language_info": {
   "name": "python"
  },
  "orig_nbformat": 4
 },
 "nbformat": 4,
 "nbformat_minor": 2
}
