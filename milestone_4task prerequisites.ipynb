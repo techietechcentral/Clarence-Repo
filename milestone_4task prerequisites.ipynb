{
 "cells": [
  {
   "attachments": {},
   "cell_type": "markdown",
   "metadata": {},
   "source": [
    "\n",
    "##### 29. Object Oriented Programming - Practicals\n",
    "\n",
    "> 1. Create a `Cylinder` Class\n",
    "\n",
    "- 1. Define a Cylinder class, its constructor (__init__) should take two arguments:\n",
    "- height\n",
    "- radius, which has a default value of 1\n",
    "- 2. The class has four attributes:\n",
    "- height\n",
    "- radius\n",
    "- surface_area, initialised as None\n",
    "- volume, initialised as None\n",
    "- 3. It should also have two methods:\n",
    "- get_surface_area: This method updates the attribute surface_area, and it returns the value rounded to 2dp.\n",
    "- get_volume: This method updates the attribute volume, and it returns the value rounded to 2dp.\n",
    "- 4. Use Google to find the formulae for surface area and volume of a cylinder. Use the formulae to create method definitions for these.\n",
    "- 5. Now, instead of initialising surface_area and volume to None, initialise them to the value returned by get_surface_area and get_volume respectively.\n",
    "\n"
   ]
  },
  {
   "cell_type": "code",
   "execution_count": null,
   "metadata": {},
   "outputs": [],
   "source": [
    "\n",
    "import math\n",
    "\n",
    "class Cylinder:\n",
    "    def __init__(self, height, radius = 1):\n",
    "        self.height = height\n",
    "        self.radius = radius\n",
    "        self.surface_area = None    # surface_area, initialised as None\n",
    "        self.volume = None          #  volume, initialised as None\n",
    "\n",
    "'''In this task the Cylinder class has two instance variables: height and radius,\n",
    "which are set by the constructor. since no radius value is provided, the default value of 1 \n",
    "is used as instructed. \n",
    "The surface_area and volume attributes are both initialised to None in the constructor \n",
    "as instructed. Note I introduced import Math module that allows me to access a set of \n",
    "mathematical functions and constants that are part of the standard Python library. Once \n",
    "I import the math module, I can use its functions and constants my Python code'''"
   ]
  },
  {
   "cell_type": "code",
   "execution_count": null,
   "metadata": {},
   "outputs": [],
   "source": [
    "'''SURFACE AREA AND VOLUME are calculated by calling the get_surface_area() and get_volume()\n",
    "METHODS respectively.\n",
    "Note that the calculation for the surface area and volume of a cylinder are both dependent \n",
    "on the height and radius values of the cylinder, so these are passed in as parameters to \n",
    "the methods when called.'''\n",
    "\n",
    "import math\n",
    "\n",
    "class Cylinder:\n",
    "    def __init__(self, height, radius = 1):\n",
    "        self.height = height\n",
    "        self.radius = radius\n",
    "        self.surface_area = None    # surface_area, initialised as None\n",
    "        self.volume = None          #  volume, initialised as None\n",
    "        \n",
    "        # 2 x methods defined below\n",
    "\n",
    "    def get_surface_area(self):\n",
    "        self.surface_area = 2 * math.pi * self.radius * (self.radius + self.height)\n",
    "        return round(self.surface_area, 2)\n",
    "    \n",
    "    def get_volume(self):\n",
    "        self.volume = math.pi * self.radius ** 2 * self.height\n",
    "        return round(self.volume, 2)\n",
    "    \n",
    "    \n"
   ]
  },
  {
   "cell_type": "code",
   "execution_count": 2,
   "metadata": {},
   "outputs": [],
   "source": [
    "'''Now, instead of initialising surface_area and volume to None, initialise \n",
    "them to the value returned by get_surface_area and get_volume respectively.\n",
    "\n",
    "In this updated task, the get_surface_area() method calculates the surface area \n",
    "of the cylinder using the current height and radius values, and stores the result \n",
    "in the surface_area attribute. The method then returns the value of surface_area, \n",
    "rounded to 2 decimal places using the round() function.\n",
    "\n",
    "Similarly, the get_volume() method calculates the volume of the cylinder using the \n",
    "current height and radius values, stores the result in the volume attribute, and then \n",
    "returns the value of volume, also rounded to 2 decimal places using the round() function.\n",
    "\n",
    "Note that both methods update the respective attributes before returning the calculated values,\n",
    "so calling either method will also update the surface_area or volume attributes of the Cylinder \n",
    "instance.'''\n",
    "import math\n",
    "\n",
    "class Cylinder:\n",
    "    def __init__(self, height, radius=1):\n",
    "        self.height = height\n",
    "        self.radius = radius\n",
    "        self.surface_area = self.get_surface_area()  # initialised to the value returned by get_surface_area .\n",
    "        self.volume = self.get_volume()              # initialised to the value returned by get_volume.\n",
    "\n",
    "    def get_surface_area(self):\n",
    "        self.surface_area = 2 * math.pi * self.radius * (self.radius + self.height)\n",
    "        return round(self.surface_area, 2)\n",
    "\n",
    "    def get_volume(self):\n",
    "        self.volume = math.pi * self.radius ** 2 * self.height\n",
    "        return round(self.volume, 2)"
   ]
  },
  {
   "cell_type": "code",
   "execution_count": 3,
   "metadata": {},
   "outputs": [
    {
     "name": "stdout",
     "output_type": "stream",
     "text": [
      "445.32\n"
     ]
    }
   ],
   "source": [
    "geometry_1 = Cylinder(7, 4.5)\n",
    "print(geometry_1.get_volume()) # must print the result as many times as requested\n"
   ]
  },
  {
   "cell_type": "code",
   "execution_count": 6,
   "metadata": {},
   "outputs": [
    {
     "name": "stdout",
     "output_type": "stream",
     "text": [
      "445.32\n",
      "445.32\n",
      "445.32\n",
      "445.32\n"
     ]
    }
   ],
   "source": [
    "print(geometry_1.get_volume()) # must print the result as many times as requested (illustrated)\n",
    "print(geometry_1.get_volume())\n",
    "print(geometry_1.get_volume())\n",
    "print(geometry_1.get_volume())"
   ]
  },
  {
   "cell_type": "code",
   "execution_count": 5,
   "metadata": {},
   "outputs": [
    {
     "data": {
      "text/plain": [
       "325.15"
      ]
     },
     "execution_count": 5,
     "metadata": {},
     "output_type": "execute_result"
    }
   ],
   "source": [
    "geometry_1.get_surface_area()\n"
   ]
  },
  {
   "cell_type": "code",
   "execution_count": 8,
   "metadata": {},
   "outputs": [
    {
     "data": {
      "text/plain": [
       "445.32"
      ]
     },
     "execution_count": 8,
     "metadata": {},
     "output_type": "execute_result"
    }
   ],
   "source": [
    "geometry_1.get_volume() # illustration of multiple call requests the returns just one result\n",
    "geometry_1.get_volume()\n",
    "geometry_1.get_volume()\n",
    "geometry_1.get_volume() # calling the function returns the result of the last/bottom code"
   ]
  },
  {
   "cell_type": "code",
   "execution_count": 10,
   "metadata": {},
   "outputs": [
    {
     "data": {
      "text/plain": [
       "325.15"
      ]
     },
     "execution_count": 10,
     "metadata": {},
     "output_type": "execute_result"
    }
   ],
   "source": [
    "geometry_1.get_volume()       # this result will not be returned\n",
    "geometry_1.get_surface_area() # this result will be returned"
   ]
  },
  {
   "cell_type": "code",
   "execution_count": 6,
   "metadata": {},
   "outputs": [
    {
     "name": "stdout",
     "output_type": "stream",
     "text": [
      "325.15\n"
     ]
    }
   ],
   "source": [
    "geometry_1 = Cylinder(7, 4.5)\n",
    "print(geometry_1.get_surface_area())"
   ]
  },
  {
   "attachments": {},
   "cell_type": "markdown",
   "metadata": {},
   "source": [
    "#### Applying input() function to the class"
   ]
  },
  {
   "cell_type": "code",
   "execution_count": 6,
   "metadata": {},
   "outputs": [
    {
     "data": {
      "text/plain": [
       "12.57"
      ]
     },
     "execution_count": 6,
     "metadata": {},
     "output_type": "execute_result"
    }
   ],
   "source": [
    "import math\n",
    "\n",
    "class Cylinder:\n",
    "    def __init__(self, height = float(input(\"Height of Cylinder\")), radius = float(input(\"Radius of Cylinder\"))):\n",
    "        self.height = height\n",
    "        self.radius = radius\n",
    "        self.surface_area = self.get_surface_area()  # initialised to the value returned by get_surface_area .\n",
    "        self.volume = self.get_volume()              # initialised to the value returned by get_volume.\n",
    "\n",
    "    def get_surface_area(self):\n",
    "        self.surface_area = 2 * math.pi * self.radius * (self.radius + self.height)\n",
    "        return round(self.surface_area, 2)\n",
    "\n",
    "    def get_volume(self):\n",
    "        self.volume = math.pi * self.radius ** 2 * self.height\n",
    "        return round(self.volume, 2)\n",
    "\n",
    "geometry_1 = Cylinder()\n",
    "#print(geometry_1.get_surface_area())\n",
    "#print(geometry_1.get_volume())\n",
    "geometry_1.get_surface_area()\n",
    "#geometry_1.get_volume()\n",
    "#print(\"----------------\")     # the print command supercedes return\n",
    "#print(geometry_1.get_volume())\n",
    "#print(geometry_1.get_surface_area())"
   ]
  },
  {
   "attachments": {},
   "cell_type": "markdown",
   "metadata": {},
   "source": [
    "> 2. Create a `Car` Class\n",
    "- 1. Create a Car class\n",
    "- 2. Define the constructor for the class:\n",
    "    - > It takes in two arguments (other than self), and assign their values as attributes of the instance:\n",
    "    - > One called model (e.g. Tesla), which has no default\n",
    "    One called year, which is an integer, which defaults to the current year (just hard code the current year in)\n",
    "- It also defines a new attribute (remember that is not passed as an argument):\n",
    "    - > One called miles_driven, which is set to zero\n",
    "- 3. Create a method called drive\n",
    "    - > It prints \"vroom\" and increment the instance's miles_driven attribute by 1\n",
    "- 4. Create a method called info\n",
    "    - > It prints the number of miles driven, the model name and the year\n",
    "- 5. Initialiase the class\n",
    "- 6. Call all the methods\n"
   ]
  },
  {
   "cell_type": "code",
   "execution_count": null,
   "metadata": {},
   "outputs": [],
   "source": [
    "'''We get the current year by hard coding. Then we define the Car class \n",
    "and its constructor, which takes in two arguments: model and year.\n",
    "\n",
    "The model argument is required but has no default value, so it must be provided when \n",
    "creating an instance of the class. The year argument is optional and has a default value \n",
    "of the current year, which is requestred to be hard coded.\n",
    "\n",
    "Inside the constructor, we assign the model and year arguments as attributes of the \n",
    "instance using the self keyword. These attributes can then be accessed and modified later \n",
    "\n",
    "using dot notation.'''\n",
    "\n",
    "class Car:                                      # Create a `Car` Class\n",
    "    def __init__(self, model, year = int(2023)):# Define the constructor for the class. It takes in two arguments (other than self) \n",
    "        self.model = model                      # Assign their values as attributes of the instance\n",
    "        self.year = year                        # Assign their values as attributes of the instance\n",
    "        \n"
   ]
  },
  {
   "cell_type": "code",
   "execution_count": null,
   "metadata": {},
   "outputs": [],
   "source": [
    "'''Inside the constructor, we also define a new attribute called miles_driven, which is \n",
    "set to zero.'''\n",
    "\n",
    "class Car:\n",
    "    def __init__(self, model, year = int(2023)):\n",
    "        self.model = model\n",
    "        self.year = year\n",
    "        # a new attribute called miles_driven, which is set to zero\n",
    "        self.miles_driven = 0   "
   ]
  },
  {
   "cell_type": "code",
   "execution_count": 2,
   "metadata": {},
   "outputs": [
    {
     "name": "stdout",
     "output_type": "stream",
     "text": [
      "vroom\n",
      "None\n",
      "---------------\n",
      "vroom\n",
      "None\n",
      "++++++++++++++\n",
      "vroom\n",
      "None\n",
      "===============\n",
      "Miles driven: 3\n",
      "Model: Tesla\n",
      "Year: 2023\n",
      "None\n"
     ]
    }
   ],
   "source": [
    "'''We then define two methods: drive() and info(). \n",
    "\n",
    "The drive() method prints \"vroom\" and increments the miles_driven attribute by 1. \n",
    "The info() method prints the number of miles driven, \n",
    "the model name, and the year.\n",
    "\n",
    "Finally, we can create an instance of the Car class, call the drive() method several \n",
    "times to simulate driving the car, and call the info() method to see the car's current \n",
    "information:'''\n",
    "\n",
    "class Car:\n",
    "    def __init__(self, model, year = 2023):\n",
    "        self.model = model\n",
    "        self.year = year\n",
    "        # a new attribute called miles_driven, which is set to zero\n",
    "        self.miles_driven = 0\n",
    "        \n",
    "    def drive(self):            # method called drive created\n",
    "        print(\"vroom\")          # prints \"vroom\"   \n",
    "          # increment the instance's miles_driven attribute by 1\n",
    "        self.miles_driven += 1\n",
    "        #return(self.miles_driven)\n",
    "   \n",
    "    def info(self):             # method called info created\n",
    "        print(f\"Miles driven: {self.miles_driven}\") # prints the number of miles driven\n",
    "        print(f\"Model: {self.model}\")               # prints the model \n",
    "        print(f\"Year: {self.year}\")                 # print the year\n",
    "            \n",
    "# Initialiase the class and Call all the methods using print()function\n",
    "\n",
    "my_car = Car(\"Tesla\")\n",
    "\n",
    "print(my_car.drive())\n",
    "print('---------------')\n",
    "print(my_car.drive())\n",
    "print('++++++++++++++')\n",
    "print(my_car.drive())\n",
    "print('===============')\n",
    "print(my_car.info())            "
   ]
  },
  {
   "cell_type": "code",
   "execution_count": 1,
   "metadata": {},
   "outputs": [
    {
     "name": "stdout",
     "output_type": "stream",
     "text": [
      "vroom\n",
      "---------------\n",
      "vroom\n",
      "++++++++++++++\n",
      "vroom\n",
      "===============\n",
      "Miles driven: 3\n",
      "Model: Tesla\n",
      "Year: 2023\n"
     ]
    }
   ],
   "source": [
    "'''Initialising the class and Calling all the methods using print()function causes \n",
    "some of the output to result to display 'None' type data. Excluding the print() \n",
    "function corrects the problem \n",
    "'''\n",
    "class Car:\n",
    "    def __init__(self, model, year = 2023):\n",
    "        self.model = model\n",
    "        self.year = year\n",
    "        # a new attribute called miles_driven, which is set to zero\n",
    "        self.miles_driven = 0\n",
    "        \n",
    "    def drive(self):            # method called drive created\n",
    "        print(\"vroom\")          # prints \"vroom\"   \n",
    "          # increment the instance's miles_driven attribute by 1\n",
    "        self.miles_driven += 1\n",
    "        return(self.miles_driven)\n",
    "   \n",
    "    def info(self):             # method called info created\n",
    "        print(f\"Miles driven: {self.miles_driven}\") # prints the number of miles driven\n",
    "        print(f\"Model: {self.model}\")               # prints the model \n",
    "        print(f\"Year: {self.year}\")                 # print the year\n",
    "            \n",
    "# Initialiase the class and Call all the methods without using the print()function (Correct Method)\n",
    "\n",
    "my_car = Car(\"Tesla\")\n",
    "my_car.drive()\n",
    "print('---------------')\n",
    "my_car.drive()\n",
    "print('++++++++++++++')\n",
    "my_car.drive()\n",
    "print('===============')\n",
    "my_car.info()            "
   ]
  },
  {
   "cell_type": "code",
   "execution_count": 45,
   "metadata": {},
   "outputs": [
    {
     "name": "stdout",
     "output_type": "stream",
     "text": [
      "vroom\n",
      "vroom\n",
      "vroom\n",
      "Miles driven: 3\n",
      "Model: Ford \n",
      "Year: 2003\n"
     ]
    }
   ],
   "source": [
    "class Car:\n",
    "    def __init__(self, model = input(\"VEHICLE MODEL\").capitalize(), year = input(\"VEHICLE YEAR\")):\n",
    "        self.model = model\n",
    "        self.year = year\n",
    "        # a new attribute called miles_driven, which is set to zero\n",
    "        self.miles_driven = 0\n",
    "        \n",
    "    def drive(self):            # method called drive created\n",
    "        print(\"vroom\")          # prints \"vroom\"   \n",
    "          # increment the instance's miles_driven attribute by 1\n",
    "        self.miles_driven += 1\n",
    "        return(self.miles_driven)\n",
    "   \n",
    "    def info(self):             # method called info created\n",
    "        print(f\"Miles driven: {self.miles_driven}\") # prints the number of miles driven\n",
    "        print(f\"Model: {self.model}\")               # prints the model \n",
    "        print(f\"Year: {self.year}\")                 # print the year\n",
    "            \n",
    "# Initialiase the class and Call all the methods without using the print()function (Correct Method)\n",
    "\n",
    "my_car = Car()      # no need for argument because of the input() function was introduced\n",
    "my_car.drive()\n",
    "my_car.drive()\n",
    "my_car.drive()\n",
    "my_car.info()       "
   ]
  },
  {
   "cell_type": "code",
   "execution_count": 48,
   "metadata": {},
   "outputs": [
    {
     "name": "stdout",
     "output_type": "stream",
     "text": [
      "vroom\n",
      "vroom\n",
      "vroom\n",
      "vroom\n",
      "Miles driven: 4\n",
      "Model: Ford \n",
      "Year: 2023\n"
     ]
    }
   ],
   "source": [
    "import datetime\n",
    "\n",
    "class Car:\n",
    "    def __init__(self, model = input(\"VEHICLE MODEL\").capitalize(), year=datetime.datetime.now().year):\n",
    "        self.model = model\n",
    "        self.year = year\n",
    "        self.miles_driven = 0\n",
    "            \n",
    "    def drive(self):           \n",
    "        print(\"vroom\")       \n",
    "        self.miles_driven += 1 \n",
    "        \n",
    "    def info(self):            \n",
    "        print(f\"Miles driven: {self.miles_driven}\")\n",
    "        print(f\"Model: {self.model}\")               \n",
    "        print(f\"Year: {self.year}\")                \n",
    "       \n",
    "car_1 = Car()\n",
    "car_1.drive()\n",
    "car_1.drive()\n",
    "car_1.drive()\n",
    "car_1.drive()\n",
    "car_1.info()     \n"
   ]
  },
  {
   "attachments": {},
   "cell_type": "markdown",
   "metadata": {},
   "source": [
    "> 3. Make Calls with a `Phone` Class\n",
    "\n",
    "1. Create a Phone class\n",
    "2. The class takes two arguments:\n",
    "    - One called number (e.g. 07777777777), which has no default. This is the phone number of the phone and will be used as an attribute\n",
    "    - One called balance, which is an integer, which defaults to 20. This is the balance of the phone and will be used as an attribute\n",
    "3. Create a method called make_call\n",
    "    - It takes two arguments:\n",
    "        - One called number (e.g. 07777777777), which has no default. This is the phone number of the person being called\n",
    "        - One called duration, which is an integer, which defaults to 1. This is the duration of the call in minutes\n",
    "- Inside the method, check if the balance is greater than or equal to the duration of the call. If it is, then:\n",
    "    - Print \"Calling {number} for {duration} minutes\"\n",
    "    - Subtract the duration from the balance\n",
    "- If the balance is not greater than or equal to the duration of the call, then:\n",
    "    - Print \"Insufficient balance\"\n",
    "4. Create a method called info\n",
    "- It prints the phone number and the balance"
   ]
  },
  {
   "cell_type": "code",
   "execution_count": 3,
   "metadata": {},
   "outputs": [],
   "source": [
    "''' 1. Create a Phone class\n",
    "    2. The class takes two arguments:\n",
    "        - One called number (e.g. 07777777777), which has no default. \n",
    "        This is the phone number of the phone and will be used as an attribute\n",
    "        - One called balance (in minutes), which is an integer, which defaults to 20. \n",
    "        This is the balance of the phone and will be used as an attribute'''\n",
    "        \n",
    "class Phone:\n",
    "    def __init__(self, number, balance=20):\n",
    "        self.number = number\n",
    "        self.balance = balance # Air time minutes\n",
    "        \n",
    "'''In the above code, the Phone class is defined with a constructor that takes \n",
    "in two arguments number and balance. The number argument is assigned to the \n",
    "instance's number attribute and the balance argument is assigned to the instance's \n",
    "balance attribute. If the balance argument is not provided, the default value of 20 \n",
    "is used instead.'''"
   ]
  },
  {
   "cell_type": "code",
   "execution_count": 4,
   "metadata": {},
   "outputs": [],
   "source": [
    "''' \n",
    "3. Create a method called make_call\n",
    "    - It takes two arguments:\n",
    "        - One called number (e.g. 07777777777), which has no default. This is the \n",
    "        phone number of the person being called\n",
    "        - One called duration, which is an integer, which defaults to 1. \n",
    "        This is the duration of the call in minutes\n",
    "- Inside the method, check if the balance is greater than or equal to the \n",
    "duration of the call. If it is, then:\n",
    "    - Print \"Calling {number} for {duration} minutes\"\n",
    "    - Subtract the duration from the balance\n",
    "- If the balance is not greater than or equal to the duration of the call, then:\n",
    "    - Print \"Insufficient balance\" '''\n",
    "    \n",
    "def make_call(self, number, duration=1):\n",
    "    if self.balance >= duration:\n",
    "        print(f\"Calling {number} for {duration} minute(s)\")\n",
    "        self.balance -= duration\n",
    "    else:\n",
    "        print(\"Insufficient balance\")   \n",
    "\n",
    "'''The make_call() method takes in two arguments number and duration. \n",
    "If the balance of the instance is greater than or equal to the duration of \n",
    "the call, the method prints a message indicating that the call is being made \n",
    "for duration minutes and subtracts the duration from the balance. If the \n",
    "balance is not enough to make the call, the method prints \"Insufficient balance\".'''"
   ]
  },
  {
   "cell_type": "code",
   "execution_count": null,
   "metadata": {},
   "outputs": [],
   "source": [
    "'''4. Create a method called info\n",
    "- It prints the phone number and the balance'''\n",
    "\n",
    "def info(self):\n",
    "        print(f\"Phone number: {self.number}\")\n",
    "        print(f\"Balance: {self.balance}\")\n",
    "        \n",
    "'''The info() method simply prints out the phone number and balance of the instance.'''"
   ]
  },
  {
   "cell_type": "code",
   "execution_count": 22,
   "metadata": {},
   "outputs": [],
   "source": [
    "class Phone:\n",
    "    def __init__(self, number, balance=20):\n",
    "        self.number = number\n",
    "        self.balance = balance # Air time minutes\n",
    "\n",
    "    def make_call(self, number, duration=1):\n",
    "    \n",
    "        if self.balance >= duration:\n",
    "            print(f\"Calling {number} for {duration} minute(s)\")\n",
    "            self.balance -= duration\n",
    "        else:\n",
    "            print(\"Insufficient balance\") \n",
    "         \n",
    "    def info(self):\n",
    "        print(f\"Phone number: {self.number}\")\n",
    "        print(f\"Balance: {self.balance}\")"
   ]
  },
  {
   "cell_type": "code",
   "execution_count": 30,
   "metadata": {},
   "outputs": [
    {
     "name": "stdout",
     "output_type": "stream",
     "text": [
      "Phone number: 077777777777\n",
      "Balance: 20\n"
     ]
    }
   ],
   "source": [
    "caller_1 = Phone('077777777777')\n",
    "caller_1.info()"
   ]
  },
  {
   "cell_type": "code",
   "execution_count": 32,
   "metadata": {},
   "outputs": [
    {
     "name": "stdout",
     "output_type": "stream",
     "text": [
      "Phone number: 077098765443\n",
      "Balance: 35\n"
     ]
    }
   ],
   "source": [
    "caller_1 = Phone('077098765443', 35)\n",
    "caller_1.info()"
   ]
  },
  {
   "cell_type": "code",
   "execution_count": 36,
   "metadata": {},
   "outputs": [
    {
     "name": "stdout",
     "output_type": "stream",
     "text": [
      "Calling 07405239781 for 1 minute(s)\n"
     ]
    }
   ],
   "source": [
    "caller_1.make_call('07405239781')\n"
   ]
  },
  {
   "cell_type": "code",
   "execution_count": 37,
   "metadata": {},
   "outputs": [
    {
     "name": "stdout",
     "output_type": "stream",
     "text": [
      "Calling 07405239781 for 24 minute(s)\n"
     ]
    }
   ],
   "source": [
    "caller_1.make_call('07405239781', 24)"
   ]
  },
  {
   "cell_type": "code",
   "execution_count": 40,
   "metadata": {},
   "outputs": [
    {
     "name": "stdout",
     "output_type": "stream",
     "text": [
      "Phone number: 1\n",
      "Balance: 1\n",
      "Insufficient balance\n"
     ]
    }
   ],
   "source": [
    "# input() function introduced to the code\n",
    "\n",
    "class Phone:\n",
    "    def __init__(self, number = input(\"PHONE NUMBER\"), balance = input(\"BALANCE DURATION\")):\n",
    "        self.number = number\n",
    "        self.balance = balance # Air time minutes\n",
    "\n",
    "    def make_call(self, number = input(\"OUTGOING PHONE No\"), duration= input(\"CALL DURATION\")):\n",
    "    \n",
    "        if self.balance >= duration:\n",
    "            print(f\"Calling {number} for {duration} minute(s)\")\n",
    "            self.balance -= duration\n",
    "        else:\n",
    "            print(\"Insufficient balance\") \n",
    "         \n",
    "    def info(self):\n",
    "        print(f\"Phone number: {self.number}\")\n",
    "        print(f\"Balance: {self.balance}\")\n",
    "        \n",
    "caller_1 = Phone()\n",
    "caller_1.info()\n",
    "caller_1.make_call()"
   ]
  },
  {
   "attachments": {},
   "cell_type": "markdown",
   "metadata": {},
   "source": [
    "8. ***DOC STRING -Practicals***\n",
    "> Download the file temperature_example.py from this link\n",
    "- Add docstrings to the class\n",
    "- Add docstrings to the methods"
   ]
  },
  {
   "cell_type": "code",
   "execution_count": null,
   "metadata": {},
   "outputs": [],
   "source": [
    "class Temperature:\n",
    "    def __init__(self, temp_celsius):\n",
    "        self.temp_celsius = temp_celsius\n",
    "\n",
    "    def convert_temp_to_fahrenheit(self):\n",
    "        return (self.temp_celsius * 1.8) + 32\n",
    "\n",
    "    @staticmethod\n",
    "    def convert_fahrenheit_to_cel(temp_fah):\n",
    "        return (temp_fah - 32) * 1.8\n",
    "\n",
    "    @staticmethod\n",
    "    def check_valid_temp(temp):\n",
    "        if -273 <= temp <= 3000:\n",
    "            print(\"This is a valid temperature\")\n",
    "\n",
    "    @classmethod\n",
    "    def create_with_fahrenheit(cls, temperature):\n",
    "        return cls(Temperature.convert_fahrenheit_to_cel(temperature))\n",
    "\n",
    "    @classmethod\n",
    "    def standard(cls):\n",
    "        return cls(0)\n",
    "\n",
    "    def __repr__(self) -> str:\n",
    "        temp = str(self.temp_celsius)\n",
    "        return temp"
   ]
  },
  {
   "cell_type": "code",
   "execution_count": null,
   "metadata": {},
   "outputs": [],
   "source": [
    "class Temperature:\n",
    "    \"\"\"\n",
    "    A class for handling temperature conversion and validation.\n",
    "\n",
    "    Attributes:\n",
    "        temp_celsius (float): The temperature in degrees Celsius.\n",
    "\n",
    "    Methods:\n",
    "        convert_temp_to_fahrenheit(): Converts the temperature from Celsius to Fahrenheit.\n",
    "        convert_fahrenheit_to_cel(temp_fah): Converts the temperature from Fahrenheit to Celsius.\n",
    "        check_valid_temp(temp): Checks if the temperature is within a valid range.\n",
    "        create_with_fahrenheit(cls, temperature): Creates a Temperature object from a temperature in Fahrenheit.\n",
    "        standard(cls): Creates a Temperature object with a temperature of 0 degrees Celsius.\n",
    "        __repr__(): Returns a string representation of the Temperature object.\n",
    "    \"\"\"\n",
    "\n",
    "    def __init__(self, temp_celsius: float):\n",
    "        \"\"\"\n",
    "        Initializes the Temperature object with a temperature in degrees Celsius.\n",
    "\n",
    "        Args:\n",
    "            temp_celsius (float): The temperature in degrees Celsius.\n",
    "        \"\"\"\n",
    "        self.temp_celsius = temp_celsius\n",
    "\n",
    "    def convert_temp_to_fahrenheit(self) -> float:\n",
    "        \"\"\"\n",
    "        Converts the temperature from Celsius to Fahrenheit.\n",
    "\n",
    "        Returns:float: The temperature in degrees Fahrenheit.\n",
    "        \"\"\"\n",
    "        return (self.temp_celsius * 1.8) + 32\n",
    "\n",
    "    @staticmethod\n",
    "    def convert_fahrenheit_to_cel(temp_fah: float) -> float:\n",
    "        \"\"\"\n",
    "        Converts the temperature from Fahrenheit to Celsius.\n",
    "\n",
    "        Args:\n",
    "            temp_fah (float): The temperature in degrees Fahrenheit.\n",
    "\n",
    "        Returns:\n",
    "            float: The temperature in degrees Celsius.\n",
    "        \"\"\"\n",
    "        return (temp_fah - 32) * 1.8\n",
    "\n",
    "    @staticmethod\n",
    "    def check_valid_temp(temp: float) -> None:\n",
    "        \"\"\"\n",
    "        Checks if the temperature is within a valid range.\n",
    "\n",
    "        Args:\n",
    "            temp (float): The temperature to check.\n",
    "\n",
    "        Returns:\n",
    "            None\n",
    "        \"\"\"\n",
    "        if -273 <= temp <= 3000:\n",
    "            print(\"This is a valid temperature\")\n",
    "\n",
    "    @classmethod\n",
    "    def create_with_fahrenheit(cls, temperature: float) -> 'Temperature':\n",
    "        \"\"\"\n",
    "        Creates a Temperature object from a temperature in Fahrenheit.\n",
    "\n",
    "        Args:\n",
    "            temperature (float): The temperature in degrees Fahrenheit.\n",
    "\n",
    "        Returns:\n",
    "            Temperature: A Temperature object with the converted temperature in degrees Celsius.\n",
    "        \"\"\"\n",
    "        return cls(Temperature.convert_fahrenheit_to_cel(temperature))\n",
    "\n",
    "    @classmethod\n",
    "    def standard(cls) -> 'Temperature':\n",
    "        \"\"\"\n",
    "        Creates a Temperature object with a temperature of 0 degrees Celsius.\n",
    "\n",
    "        Returns:\n",
    "            Temperature: A Temperature object with a temperature of 0 degrees Celsius.\n",
    "        \"\"\"\n",
    "        return cls(0)\n",
    "\n",
    "    def __repr__(self) -> str:\n",
    "        \"\"\"\n",
    "        Returns a string representation of the Temperature object.\n",
    "\n",
    "        Returns:\n",
    "            str: A string representation of the Temperature object.\n",
    "        \"\"\"\n",
    "        temp = str(self.temp_celsius)\n",
    "        return temp\n"
   ]
  }
 ],
 "metadata": {
  "kernelspec": {
   "display_name": "secondtest_env",
   "language": "python",
   "name": "python3"
  },
  "language_info": {
   "codemirror_mode": {
    "name": "ipython",
    "version": 3
   },
   "file_extension": ".py",
   "mimetype": "text/x-python",
   "name": "python",
   "nbconvert_exporter": "python",
   "pygments_lexer": "ipython3",
   "version": "3.10.6"
  },
  "orig_nbformat": 4
 },
 "nbformat": 4,
 "nbformat_minor": 2
}
