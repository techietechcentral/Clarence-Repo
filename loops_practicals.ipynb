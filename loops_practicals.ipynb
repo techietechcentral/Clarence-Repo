{
 "cells": [
  {
   "cell_type": "markdown",
   "metadata": {},
   "source": [
    "## LOOPS\n",
    "###### For  loops are used for interating over a sequence or a collection of items e.g. \n",
    "###### List, set, tuple or dictionary. Strings can also be iterated when each chararcter is considered as an item.\n",
    "###### We can also loop through a set of code a specified number of times.\n",
    "###### Looping is a perfect example of the dry principle: meaning don't repeat yourself"
   ]
  },
  {
   "cell_type": "markdown",
   "metadata": {},
   "source": []
  },
  {
   "cell_type": "code",
   "execution_count": 1,
   "metadata": {},
   "outputs": [
    {
     "name": "stdout",
     "output_type": "stream",
     "text": [
      "you need 5 months of experience using python\n",
      "you need 5 months of experience using java\n",
      "you need 5 months of experience using Go\n",
      "you need 5 months of experience using C++\n",
      "you need 5 months of experience using Pascal\n"
     ]
    }
   ],
   "source": [
    "coding_lang = ['python', 'java', 'Go', 'C++', 'Pascal']\n",
    "for lang in coding_lang:\n",
    "    print('you need 5 months of experience using '+ lang)"
   ]
  },
  {
   "cell_type": "code",
   "execution_count": 2,
   "metadata": {},
   "outputs": [
    {
     "name": "stdout",
     "output_type": "stream",
     "text": [
      "python\n",
      "java\n",
      "Go\n",
      "C++\n",
      "Pascal\n"
     ]
    }
   ],
   "source": [
    "dict_lang = {'python':5, 'java':6, 'Go':3, 'C++':10, 'Pascal':15}\n",
    "for lang in dict_lang:\n",
    "    print(lang)"
   ]
  },
  {
   "cell_type": "code",
   "execution_count": 8,
   "metadata": {},
   "outputs": [
    {
     "name": "stdout",
     "output_type": "stream",
     "text": [
      "python 5\n",
      "java 6\n",
      "Go 3\n",
      "C++ 10\n",
      "Pascal 15\n",
      "==================================================\n",
      "you need 5 months of expereience using python\n",
      "you need 6 months of expereience using java\n",
      "you need 3 months of expereience using Go\n",
      "you need 10 months of expereience using C++\n",
      "you need 15 months of expereience using Pascal\n"
     ]
    }
   ],
   "source": [
    "dict_lang = {'python':5, 'java':6, 'Go':3, 'C++':10, 'Pascal':15}\n",
    "for lang in dict_lang:\n",
    "    print(lang, dict_lang[lang])\n",
    "print('==================================================')\n",
    "\n",
    "for key, value in dict_lang.items():\n",
    "    print(f'you need {value} months of expereience using {key}')"
   ]
  },
  {
   "cell_type": "markdown",
   "metadata": {},
   "source": [
    "### Range() : The range type represents an immutable sequence of numbers and is commonly used for looping a specific number of times in for loops.\n",
    "###### class range(stop)\n",
    "###### class range(start, stop[, step])\n",
    "###### range() is a generator that returns an iterable range object (not a list).\n",
    "###### The list(range()) function is employed to generate a list.\n",
    "###### The range() function accepts three arguments: start, stop and step.\n",
    "###### If one argument is specified, e.g. range(3), the range defaults to start = 0 and step = 1 and considers the argument as the ending number+1. Therefore, range(3) contains 0, 1 and 2.\n",
    "###### If two arguments are specified, e.g. range(5,20), the first is the start number, and the second is stop number+1.\n",
    "###### If three arguments are specified, the third is considered the step(increment), e.g. range(5,10,2) contains 5,7 and 9."
   ]
  },
  {
   "cell_type": "code",
   "execution_count": 14,
   "metadata": {},
   "outputs": [
    {
     "name": "stdout",
     "output_type": "stream",
     "text": [
      "range(0, 10)\n",
      "<class 'range'>\n",
      "[0, 1, 2, 3, 4, 5, 6, 7, 8, 9]\n",
      "==================================================\n",
      "[0, 1, 2, 3, 4, 5, 6, 7, 8, 9]\n",
      "[1, 2, 3, 4, 5, 6, 7, 8, 9, 10]\n",
      "[0, 5, 10, 15, 20, 25]\n",
      "[0, 3, 6, 9]\n",
      "[0, -1, -2, -3, -4, -5, -6, -7, -8, -9]\n",
      "[]\n",
      "[]\n"
     ]
    },
    {
     "data": {
      "text/plain": [
       "[]"
      ]
     },
     "execution_count": 14,
     "metadata": {},
     "output_type": "execute_result"
    }
   ],
   "source": [
    "x = range(10)\n",
    "print(x)\n",
    "print(type(x))\n",
    "print(list(x))\n",
    "print('==================================================')\n",
    "\n",
    "# Examples\n",
    "list(range(10))\n",
    "print(list(range(10)))\n",
    "[0, 1, 2, 3, 4, 5, 6, 7, 8, 9]\n",
    "\n",
    "list(range(1, 11))\n",
    "print(list(range(1, 11)))\n",
    "[1, 2, 3, 4, 5, 6, 7, 8, 9, 10]\n",
    "\n",
    "list(range(0, 30, 5))\n",
    "print(list(range(0, 30, 5)))\n",
    "[0, 5, 10, 15, 20, 25]\n",
    "\n",
    "list(range(0, 10, 3))\n",
    "print(list(range(0, 10, 3)))\n",
    "[0, 3, 6, 9]\n",
    "\n",
    "list(range(0, -10, -1))\n",
    "print(list(range(0, -10, -1)))\n",
    "[0, -1, -2, -3, -4, -5, -6, -7, -8, -9]\n",
    "\n",
    "list(range(0))\n",
    "print(list(range(0)))\n",
    "[]\n",
    "\n",
    "list(range(1, 0))\n",
    "print(list(range(1, 0)))\n",
    "[]"
   ]
  },
  {
   "cell_type": "markdown",
   "metadata": {},
   "source": [
    "### for Loop and Range() using the 'Break' Keyword"
   ]
  },
  {
   "cell_type": "code",
   "execution_count": 15,
   "metadata": {},
   "outputs": [
    {
     "name": "stdout",
     "output_type": "stream",
     "text": [
      "0\n",
      "1\n",
      "2\n",
      "3\n",
      "4\n",
      "5\n",
      "6\n",
      "7\n",
      "8\n",
      "9\n",
      "10\n",
      "11\n",
      "12\n",
      "13\n"
     ]
    }
   ],
   "source": [
    "for x in range(20):\n",
    "    print(x)\n",
    "    if x == 13:\n",
    "        break # exists the loop at point where x == 13\n",
    "\n",
    "    "
   ]
  },
  {
   "cell_type": "code",
   "execution_count": 16,
   "metadata": {},
   "outputs": [
    {
     "name": "stdout",
     "output_type": "stream",
     "text": [
      "I am out of the loop\n",
      "______________________________________________\n",
      "before 0\n",
      "before 1\n",
      "after 1\n",
      "before 2\n",
      "before 3\n",
      "after 3\n",
      "before 4\n"
     ]
    }
   ],
   "source": [
    "for x in range (5):\n",
    "    pass\n",
    "#print(x)\n",
    "print('I am out of the loop')\n",
    "\n",
    "print('______________________________________________')\n",
    "for x in range (5):\n",
    "    print('before', x)\n",
    "    if x % 2 == 0:\n",
    "        continue\n",
    "    print('after', x)"
   ]
  },
  {
   "cell_type": "markdown",
   "metadata": {},
   "source": [
    "### Useful built in function: Zip and enumerate\n",
    "the zip function zips to sequences together pairing the  item in each corresponding index and returning a tuple of them.\n",
    "it is usua;;y used when you want to loop through 2 iterable simulteneously, it can also be used to unpack the Tuples in a for loop."
   ]
  },
  {
   "cell_type": "code",
   "execution_count": 17,
   "metadata": {},
   "outputs": [
    {
     "data": {
      "text/plain": [
       "[(5, 'python'), (3, 'java'), (2, 'Go'), (10, 'C++'), (15, 'Pascal')]"
      ]
     },
     "execution_count": 17,
     "metadata": {},
     "output_type": "execute_result"
    }
   ],
   "source": [
    "months = [5,3,2,10,15]\n",
    "coding_lang = ['python', 'java', 'Go', 'C++', 'Pascal']\n",
    "list(zip(months, coding_lang))"
   ]
  },
  {
   "cell_type": "code",
   "execution_count": 18,
   "metadata": {},
   "outputs": [
    {
     "name": "stdout",
     "output_type": "stream",
     "text": [
      "you need 5 months of experience using python\n",
      "you need 3 months of experience using java\n",
      "you need 2 months of experience using Go\n",
      "you need 10 months of experience using C++\n",
      "you need 15 months of experience using Pascal\n"
     ]
    }
   ],
   "source": [
    "for month, lang in zip(months, coding_lang):\n",
    "    print(f'you need {month} months of experience using {lang}')"
   ]
  },
  {
   "cell_type": "code",
   "execution_count": 19,
   "metadata": {},
   "outputs": [
    {
     "data": {
      "text/plain": [
       "<enumerate at 0x24c23966780>"
      ]
     },
     "execution_count": 19,
     "metadata": {},
     "output_type": "execute_result"
    }
   ],
   "source": [
    "enumerate(coding_lang)"
   ]
  },
  {
   "cell_type": "markdown",
   "metadata": {},
   "source": [
    "### How to append items to a list in sequence using List[ and enumerate()]"
   ]
  },
  {
   "cell_type": "code",
   "execution_count": 20,
   "metadata": {},
   "outputs": [
    {
     "data": {
      "text/plain": [
       "[(0, 'python'), (1, 'java'), (2, 'Go'), (3, 'C++'), (4, 'Pascal')]"
      ]
     },
     "execution_count": 20,
     "metadata": {},
     "output_type": "execute_result"
    }
   ],
   "source": [
    "list(enumerate(coding_lang))"
   ]
  },
  {
   "cell_type": "code",
   "execution_count": 21,
   "metadata": {},
   "outputs": [
    {
     "name": "stdout",
     "output_type": "stream",
     "text": [
      "you need 20 months of experience using python\n",
      "you need 21 months of experience using java\n",
      "you need 22 months of experience using Go\n",
      "you need 23 months of experience using C++\n",
      "you need 24 months of experience using Pascal\n"
     ]
    }
   ],
   "source": [
    "for index, lang in enumerate(coding_lang, start=20):\n",
    "    print(f'you need {index} months of experience using {lang}')"
   ]
  },
  {
   "cell_type": "markdown",
   "metadata": {},
   "source": [
    "### List Comphrehension"
   ]
  },
  {
   "cell_type": "code",
   "execution_count": 31,
   "metadata": {},
   "outputs": [
    {
     "name": "stdout",
     "output_type": "stream",
     "text": [
      "[1]\n",
      "[1, 8]\n",
      "[1, 8, 27]\n",
      "[1, 8, 27, 64]\n",
      "[1, 8, 27, 64, 125]\n",
      "[1, 8, 27, 64, 125, 216]\n",
      "[1, 8, 27, 64, 125, 216, 343]\n",
      "[1, 8, 27, 64, 125, 216, 343, 512]\n",
      "[1, 8, 27, 64, 125, 216, 343, 512, 729]\n",
      "[1, 8, 27, 64, 125, 216, 343, 512, 729, 1000]\n",
      "-------------------------------\n",
      "[1, 8, 27, 64, 125, 216, 343, 512, 729, 1000]\n"
     ]
    }
   ],
   "source": [
    "cube =[]\n",
    "for i in range(1,11):\n",
    "    cube.append(i ** 3)\n",
    "    print(cube)\n",
    "print('-------------------------------') # why do I have different output?\n",
    "\n",
    "cube =[]\n",
    "for i in range(1,11):\n",
    "    cube.append(i ** 3)\n",
    "print(cube)\n"
   ]
  },
  {
   "cell_type": "code",
   "execution_count": null,
   "metadata": {},
   "outputs": [],
   "source": [
    "### Using List comprehension to produce better code "
   ]
  },
  {
   "cell_type": "code",
   "execution_count": 34,
   "metadata": {},
   "outputs": [
    {
     "name": "stdout",
     "output_type": "stream",
     "text": [
      "[1, 8, 27, 64, 125, 216, 343, 512, 729, 1000]\n"
     ]
    }
   ],
   "source": [
    "cube = [i ** 3 for i in range(1,11)]\n",
    "print(cube)"
   ]
  },
  {
   "cell_type": "markdown",
   "metadata": {},
   "source": [
    "### Set comprehension"
   ]
  },
  {
   "cell_type": "code",
   "execution_count": 33,
   "metadata": {},
   "outputs": [
    {
     "name": "stdout",
     "output_type": "stream",
     "text": [
      "{64, 1, 512, 8, 1000, 343, 216, 729, 27, 125}\n"
     ]
    }
   ],
   "source": [
    "cube = {i ** 3 for i in range(1,11)}\n",
    "print(cube)"
   ]
  },
  {
   "cell_type": "code",
   "execution_count": null,
   "metadata": {},
   "outputs": [],
   "source": [
    "### dictionary comprehension"
   ]
  },
  {
   "cell_type": "code",
   "execution_count": 35,
   "metadata": {},
   "outputs": [
    {
     "name": "stdout",
     "output_type": "stream",
     "text": [
      "{1: 1, 2: 8, 3: 27, 4: 64, 5: 125, 6: 216, 7: 343, 8: 512, 9: 729, 10: 1000}\n"
     ]
    }
   ],
   "source": [
    "cube_dict = {i:i ** 3 for i in range(1,11)}\n",
    "print(cube_dict)"
   ]
  },
  {
   "cell_type": "code",
   "execution_count": 36,
   "metadata": {},
   "outputs": [
    {
     "name": "stdout",
     "output_type": "stream",
     "text": [
      "x = 0, and y = 0\n",
      "x = 0, and y = 1\n",
      "x = 0, and y = 2\n",
      "x = 1, and y = 0\n",
      "x = 1, and y = 1\n",
      "x = 1, and y = 2\n",
      "x = 2, and y = 0\n",
      "x = 2, and y = 1\n",
      "x = 2, and y = 2\n"
     ]
    }
   ],
   "source": [
    "for x in range(3):\n",
    "    for y in range(3):\n",
    "        print(f'x = {x}, and y = {y}')\n"
   ]
  },
  {
   "cell_type": "markdown",
   "metadata": {},
   "source": [
    "## While Loops \n",
    "###### The syntax comprises the following parts:\n",
    "###### The while keyword: This is the key to the statement; it indicates a while loop and refers to some_condition.\n",
    "###### The condition: The while keyword determines whether the condition is True and executes the dependent block of code if it is.\n",
    "###### do_something: This is the block of code to be executed if the condition is True.\n",
    "###### else statement: This is the block of code to be executed if the condition is False.\n",
    "\n",
    "##### Things to note.\n",
    "\n",
    "###### While the condition is True, the dependent block of code will be executed, and the program will loop to the while statement, revalidate the condition, and execute again if True.This continues indefinitely until the condition is false, hence the 'indefinite iteration'.\n",
    "###### A common mistake is to create an infinite loop, where the condition remains False, and the code continues to execute, thereby expending the memory resources until the computer crashes.Therefore, it is highly recommended to include a way of adjusting the condition inside the loop, either in the do_something statement or using the break keyword (see below)."
   ]
  },
  {
   "cell_type": "code",
   "execution_count": null,
   "metadata": {},
   "outputs": [],
   "source": [
    "## while some_condition:\n",
    "##     do_something\n",
    "## else:\n",
    "###    do_something_else\n",
    "\n",
    "\n",
    "x = 0\n",
    "while x < 5:\n",
    "    print(f\"The current value of x is {x}\")\n",
    "    x += 1\n",
    "else:\n",
    "    print(\"x not less than 5\")\n",
    "\n",
    "\n",
    "x = 0\n",
    "\n",
    "while x < 5:\n",
    "    print(f\"The current value of x is {x}\")\n",
    "    x += 1\n",
    "else:\n",
    "    print(\"x not less than 5\")\n",
    "\n",
    "x = 0\n",
    "while x < 5:\n",
    "    if x == 2:\n",
    "        break\n",
    "    print(x)\n",
    "    x += 1"
   ]
  },
  {
   "cell_type": "markdown",
   "metadata": {},
   "source": [
    "#### For Loop\n",
    "###### For loops perform an operation on each element in an iterable (each character in a string or each item in a list) until no element is left in the iterable.\n",
    "###### This form of iteration is called definite iteration, where the number of iterations is known.\n",
    "###### Further, this is an example of Don't Repeat Yourself (DRY) coding, since a single For loop performs numerous operations in one pass.\n",
    "###### As opposed to the while loop, the for loop is limited by the number of items in the iterable."
   ]
  },
  {
   "cell_type": "code",
   "execution_count": null,
   "metadata": {},
   "outputs": [],
   "source": [
    "# for i in iterable:\n",
    "#     do_something\n",
    "#     do_something_to_i\n",
    "\n",
    "items = [\"hat\", \"boots\", \"jacket\", \"gloves\"]\n",
    "\n",
    "for item in items:\n",
    "    print(f'Hello, I have a: {item}')"
   ]
  },
  {
   "cell_type": "markdown",
   "metadata": {},
   "source": [
    "#### The range() function\n",
    "###### Here, an operation using the range() function is performed, which applies to all the numbers in the given range.\n",
    "###### range() is a generator that returns an iterable range object (not a list).\n",
    "###### The list(range()) function is employed to generate a list.\n",
    "###### The range() function accepts three arguments: start, stop and step.\n",
    "###### If one argument is specified, e.g. range(3), the range defaults to start = 0 and step = 1 and considers the argument as the ending number+1. Therefore, range(3) contains 0, 1 and 2.If two arguments are specified, e.g. range(5,20), the first is the start number, and the second is stop number+1.\n",
    "###### If three arguments are specified, the third is considered the step(increment), e.g. range(5,10,2) contains 5,7 and 9."
   ]
  },
  {
   "cell_type": "code",
   "execution_count": null,
   "metadata": {},
   "outputs": [],
   "source": [
    "# for i in range(start,stop,step):\n",
    "#     do_something\n",
    "#     do_something_to_i\n",
    "\n",
    "\n",
    "list((range(5)))\n",
    "\n",
    "range(0, 10)\n",
    "\n",
    "print(list(range(5)))\n",
    "print(list(range(5, 20)))\n",
    "print(list(range(5, 20, 2)))"
   ]
  },
  {
   "cell_type": "markdown",
   "metadata": {},
   "source": [
    "##### Use of range(len())\n",
    "##### The range(len(iterable)) function"
   ]
  },
  {
   "cell_type": "code",
   "execution_count": 2,
   "metadata": {},
   "outputs": [
    {
     "data": {
      "text/plain": [
       "6"
      ]
     },
     "execution_count": 2,
     "metadata": {},
     "output_type": "execute_result"
    }
   ],
   "source": [
    "ls = [1, 5, 6, 7, 8, 9]\n",
    "ls[2]"
   ]
  },
  {
   "cell_type": "markdown",
   "metadata": {},
   "source": [
    "### counting / matching index using range(len())"
   ]
  },
  {
   "cell_type": "code",
   "execution_count": 3,
   "metadata": {},
   "outputs": [
    {
     "name": "stdout",
     "output_type": "stream",
     "text": [
      "0\n",
      "1\n",
      "2\n",
      "3\n",
      "4\n",
      "5\n"
     ]
    }
   ],
   "source": [
    "for i in range(len(ls)):\n",
    "    print(i)"
   ]
  },
  {
   "cell_type": "markdown",
   "metadata": {},
   "source": [
    "### determination of item range / reverse range argument"
   ]
  },
  {
   "cell_type": "code",
   "execution_count": 2,
   "metadata": {},
   "outputs": [
    {
     "data": {
      "text/plain": [
       "range(0, 6)"
      ]
     },
     "execution_count": 2,
     "metadata": {},
     "output_type": "execute_result"
    }
   ],
   "source": [
    "range(len(ls))"
   ]
  },
  {
   "cell_type": "code",
   "execution_count": 3,
   "metadata": {},
   "outputs": [
    {
     "name": "stdout",
     "output_type": "stream",
     "text": [
      "[0, 1, 2]\n"
     ]
    }
   ],
   "source": [
    "print(list(range(3)))"
   ]
  },
  {
   "cell_type": "code",
   "execution_count": 6,
   "metadata": {},
   "outputs": [
    {
     "name": "stdout",
     "output_type": "stream",
     "text": [
      "[5, 6, 7, 8, 9, 10, 11, 12, 13, 14, 15, 16, 17, 18, 19]\n"
     ]
    }
   ],
   "source": [
    "print(list(range(5,20)))"
   ]
  },
  {
   "cell_type": "code",
   "execution_count": null,
   "metadata": {},
   "outputs": [],
   "source": [
    "print(list(range(5,10,2)))"
   ]
  },
  {
   "cell_type": "code",
   "execution_count": null,
   "metadata": {},
   "outputs": [],
   "source": [
    "items = [\"hat\", \"boots\", \"jacket\", \"gloves\"]\n",
    "\n",
    "counter = 0\n",
    "for i in range(len(items)):\n",
    "    items[i] = items[i].upper()\n",
    "\n",
    "print(items)"
   ]
  },
  {
   "cell_type": "markdown",
   "metadata": {},
   "source": [
    "### Tuple packing and unpacking\n",
    "### Tuple unpacking is one of the most powerful features of tuples.\n",
    "### Using the comma syntax below, Python automatically selects elements from a tuple and assigns them to variables.\n",
    "### This feature can be applied to For loops, particularly when iterating over dictionaries.\n"
   ]
  },
  {
   "cell_type": "code",
   "execution_count": null,
   "metadata": {},
   "outputs": [],
   "source": [
    "a, b = (1, 2)\n",
    "\n",
    "print(a)\n",
    "print(b)"
   ]
  },
  {
   "cell_type": "markdown",
   "metadata": {},
   "source": [
    "## For Loops with Dictionaries\n",
    "### There are two possible approaches for applying the For loop to dictionaries:\n",
    "### by iterating through d.keys(), since it returns a list.\n",
    "### by applying tuple unpacking to iterate through d.items(), since it returns a list of paired tuples.\n",
    "### The second approach enables the operation of both keys and items in a highly readable format.\n",
    "\n"
   ]
  },
  {
   "cell_type": "code",
   "execution_count": 9,
   "metadata": {},
   "outputs": [
    {
     "data": {
      "text/plain": [
       "dict_keys(['tomato', 'sugar', 'sponges', 'juice', 'foil'])"
      ]
     },
     "execution_count": 9,
     "metadata": {},
     "output_type": "execute_result"
    }
   ],
   "source": [
    "# Here, we see that the .keys() method returns a list.\n",
    "prices = {\"tomato\":0.87, \"sugar\":1.09, \"sponges\":0.29, \"juice\":1.89, \"foil\":1.29}\n",
    "\n",
    "prices.keys()"
   ]
  },
  {
   "cell_type": "code",
   "execution_count": 10,
   "metadata": {},
   "outputs": [
    {
     "name": "stdout",
     "output_type": "stream",
     "text": [
      "['tomato', 'sugar', 'sponges', 'juice', 'foil']\n",
      "[0.87, 1.09, 0.29, 1.89, 1.29]\n"
     ]
    }
   ],
   "source": [
    "# Here, the keys and items are selected from a dictionary and added to a list.\n",
    "\n",
    "# initialise the empty lists\n",
    "code_list = []\n",
    "price_list = []\n",
    "\n",
    "for key in prices.keys():\n",
    "\n",
    "    # append the key itself to code_list\n",
    "    code_list.append(key)\n",
    "\n",
    "    # use the key to select the value and append that to price_list\n",
    "    price_list.append(prices[key])\n",
    "\n",
    "print(code_list)\n",
    "print(price_list)"
   ]
  },
  {
   "cell_type": "code",
   "execution_count": null,
   "metadata": {},
   "outputs": [],
   "source": [
    "# Here, we can see that the .items() method returns a list of paired tuples.\n",
    "prices.items()"
   ]
  },
  {
   "cell_type": "code",
   "execution_count": null,
   "metadata": {},
   "outputs": [],
   "source": [
    "# Here, we perform the same operation; however, we apply tuple unpacking on d.keys this time.\n",
    "\n",
    "code_list = []\n",
    "price_list = []\n",
    "key, value = ('tomato', 0.87)\n",
    "\n",
    "key, value = ('sugar', 1.09)\n",
    "\n",
    "for key, value in prices.items():\n",
    "    \n",
    "    # This line is the same as above.\n",
    "    code_list.append(key)\n",
    "    \n",
    "    # Here, we access the value as well and directly append that to price_list.\n",
    "    price_list.append(value)\n",
    "    \n",
    "print(code_list)\n",
    "print(price_list)"
   ]
  },
  {
   "cell_type": "code",
   "execution_count": null,
   "metadata": {},
   "outputs": [],
   "source": [
    "prices = {\"tomato\":0.87, \"sugar\":1.09, \"sponges\":0.29, \"juice\":1.89, \"foil\":1.29}\n",
    "\n",
    "for key, value in prices.items():\n",
    "    print(\"Item Code: {}\\nPrice: £{}\\n\".format(key,value))"
   ]
  },
  {
   "cell_type": "markdown",
   "metadata": {},
   "source": [
    "#### If statements within For loops\n",
    "##### Control flow can be applied within For loops to perform varying operations depending on conditions."
   ]
  },
  {
   "cell_type": "code",
   "execution_count": 4,
   "metadata": {},
   "outputs": [
    {
     "name": "stdout",
     "output_type": "stream",
     "text": [
      "This is the list of BMIs: [25.381468541909282, 25.390218522372525, 30.905885854261584, 23.938989774631512, 32.488628979857054, 18.80920625149619]\n",
      "\n",
      "You're in the overweight range. Your BMI is 25.4.\n",
      "You're in the overweight range. Your BMI is 25.4.\n",
      "You're in the obese range. Your BMI is 30.9.\n",
      "You're in the healthy weight range. Your BMI is 23.9.\n",
      "You're in the obese range. Your BMI is 32.5.\n",
      "You're in the healthy weight range. Your BMI is 18.8.\n"
     ]
    }
   ],
   "source": [
    "# We encode a list of heights and weights as a list of tuples.\n",
    "heights_weights = [(1.83, 85), (1.55, 61), (2.09, 135),\n",
    "                   (1.71, 70), (1.71, 95), (1.71, 55)]\n",
    "\n",
    "\n",
    "# We set bmis as an empty list to append the bmi values.\n",
    "bmis = []\n",
    "\n",
    "\n",
    "# We apply tuple unpacking to add bmi values to bmis.\n",
    "for height, weight in heights_weights:\n",
    "    bmis.append(weight / height ** 2)\n",
    "\n",
    "\n",
    "# we print bmis here to show the intermediate list (ordinarily, we would not do this).\n",
    "print(\"This is the list of BMIs: {}\\n\".format(bmis))\n",
    "\n",
    "\n",
    "# We loop over the bmi list to assign the values to the correct message.\n",
    "for bmi in bmis:\n",
    "    if bmi < 18.5:\n",
    "        print(\n",
    "            \"You're in the underweight range. Your BMI is {:3.1f}.\".format(bmi))\n",
    "    elif bmi <= 24.9:\n",
    "        print(\n",
    "            \"You're in the healthy weight range. Your BMI is {:3.1f}.\".format(bmi))\n",
    "    elif bmi <= 29.9:\n",
    "        print(\n",
    "            \"You're in the overweight range. Your BMI is {:3.1f}.\".format(bmi))\n",
    "    elif bmi <= 39.9:\n",
    "        print(\"You're in the obese range. Your BMI is {:3.1f}.\".format(bmi))"
   ]
  },
  {
   "cell_type": "markdown",
   "metadata": {},
   "source": [
    "### Note that this can also be performed in a single For loop, as shown below:"
   ]
  },
  {
   "cell_type": "code",
   "execution_count": null,
   "metadata": {},
   "outputs": [],
   "source": [
    "heights_weights = [(1.83, 85),(1.55, 61),(2.09, 135),(1.71, 70),(1.71, 95),(1.71, 55)]\n",
    "\n",
    "for height, weight in heights_weights:\n",
    "    \n",
    "    # Here, we calculate bmi within the For loop using the paired tuple values before passing the bmi value\n",
    "    # into the subsequent if statements.\n",
    "    bmi = weight/height**2\n",
    "\n",
    "    if bmi < 18.5:\n",
    "        print(\"You're in the underweight range. Your BMI is {:3.1f}\".format(bmi))\n",
    "    elif bmi <= 24.9:\n",
    "        print(\"You're in the healthy weight range. Your BMI is {:3.1f}\".format(bmi))\n",
    "    elif bmi <= 29.9:\n",
    "        print(\"You're in the overweight range. Your BMI is {:3.1f}\".format(bmi))\n",
    "    elif bmi <= 39.9:\n",
    "        print(\"You're in the obese range. Your BMI is {:3.1f}\".format(bmi))"
   ]
  },
  {
   "cell_type": "markdown",
   "metadata": {},
   "source": [
    "### The pass, break and continue keywords\n",
    "### The pass keyword serves as a placeholder in an empty loop. It means 'do nothing'.\n",
    "### The pass keyword is applied when an empty loop (or function) is present in our code. In other words, the pass keyword ensures that the rest of the code outside the empty loop runs.\n",
    "### The break keyword terminates the loop when triggered.\n",
    "### The continue keyword moves to the top of the nearest enclosing loop and skips onto the next iteration.\n",
    "### Generally, these keywords are used within a conditional to terminate a loop or skip an iteration when a condition is met."
   ]
  },
  {
   "cell_type": "code",
   "execution_count": 2,
   "metadata": {},
   "outputs": [
    {
     "name": "stdout",
     "output_type": "stream",
     "text": [
      "10 5\n",
      "------------------------------------------------------\n",
      "I am not skipped because 1 is not divisible by 5\n",
      "I am not skipped because 2 is not divisible by 5\n",
      "I am not skipped because 4 is not divisible by 5\n",
      "I am not skipped because 5 is not divisible by 5\n",
      "I am not skipped because 7 is not divisible by 5\n",
      "I am not skipped because 8 is not divisible by 5\n",
      "I am not skipped because 10 is not divisible by 5\n",
      "I am not skipped because 11 is not divisible by 5\n",
      "------------------------------------------------------\n",
      "1\n",
      "2\n",
      "3\n",
      "4\n"
     ]
    }
   ],
   "source": [
    "# used for developing code. If left empty, Python throws an error.\n",
    "x, y = 10, 5\n",
    "\n",
    "for i in range(20):\n",
    "    ### To be completed\n",
    "    pass\n",
    "\n",
    "print(x,y)\n",
    "print('------------------------------------------------------')\n",
    "for i in range(12):\n",
    "    if i % 3 == 0:\n",
    "        continue\n",
    "    print(f'I am not skipped because {i} is not divisible by 5')\n",
    "print('------------------------------------------------------')\n",
    "for i in range(1,12):\n",
    "    if i % 5 == 0:\n",
    "        break\n",
    "    else:\n",
    "        print(i)   "
   ]
  },
  {
   "cell_type": "markdown",
   "metadata": {},
   "source": [
    "#### Zip and enumerate\n",
    "##### The zip() function combines iterables into tuples; however, zip is an iterator that returns a zip object, which must then be iterated over or converted into a list to be viewed.\n",
    "##### If the * argument is passed, it can unzip into tuples.\n",
    "##### The enumerate() function returns an iterator of tuples, containing (index, item).\n",
    "##### This is useful for operations on both indices and items, e.g. combining a For loop on an iterable with a For loop on range(len(iterable))."
   ]
  },
  {
   "cell_type": "code",
   "execution_count": 6,
   "metadata": {},
   "outputs": [
    {
     "name": "stdout",
     "output_type": "stream",
     "text": [
      "------------------------------------------------------\n",
      "[('tomato', 0.87), ('sugar', 1.09), ('sponges', 0.29), ('juice', 1.89), ('foil', 1.29)]\n",
      "tomato 0.87\n",
      "sugar 1.09\n",
      "sponges 0.29\n",
      "juice 1.89\n",
      "foil 1.29\n"
     ]
    }
   ],
   "source": [
    "# zip() creates a zip object, which must be iterated or listed to be viewed.\n",
    "\n",
    "items = [\"tomato\", \"sugar\", \"sponges\", \"juice\", \"foil\"]\n",
    "\n",
    "prices = [0.87, 1.09, 0.29, 1.89, 1.29]\n",
    "\n",
    "items_and_prices = zip(items, prices)\n",
    "\n",
    "print('------------------------------------------------------')\n",
    "print(list(items_and_prices))\n",
    "\n",
    "for item, price in zip(items, prices):\n",
    "    print(item, price)"
   ]
  },
  {
   "cell_type": "code",
   "execution_count": 7,
   "metadata": {},
   "outputs": [
    {
     "name": "stdout",
     "output_type": "stream",
     "text": [
      "('tomato', 'sugar', 'sponges', 'juice', 'foil')\n",
      "(0.87, 1.09, 0.29, 1.89, 1.29)\n"
     ]
    }
   ],
   "source": [
    "# We can unzip a zip object into tuples by passing * into the zip call.\n",
    "\n",
    "items_and_prices = zip(items, prices) # creating zip object\n",
    "\n",
    "tuple_of_items, tuple_of_prices = zip(*items_and_prices) # unzipping zip object\n",
    "\n",
    "print(tuple_of_items)\n",
    "print(tuple_of_prices)"
   ]
  },
  {
   "cell_type": "code",
   "execution_count": 8,
   "metadata": {},
   "outputs": [
    {
     "name": "stdout",
     "output_type": "stream",
     "text": [
      "The price of tomato is £0.87\n",
      "The price of sugar is £1.09\n",
      "The price of sponges is £0.29\n",
      "The price of juice is £1.89\n",
      "The price of foil is £1.29\n"
     ]
    }
   ],
   "source": [
    "# can iterate over and perform operations on a zip object\n",
    "\n",
    "for item, price in zip(items, prices):\n",
    "    print(\"The price of {} is £{}\".format(item, price))"
   ]
  },
  {
   "cell_type": "code",
   "execution_count": 1,
   "metadata": {},
   "outputs": [
    {
     "name": "stdout",
     "output_type": "stream",
     "text": [
      "0 hat\n"
     ]
    }
   ],
   "source": [
    "# enumerate() gives both the items and their indices that can be operated on\n",
    "\n",
    "items = [\"hat\", \"scarf\", \"coat\", \"gloves\"]\n",
    "\n",
    "\n",
    "for index, item in enumerate(items):\n",
    "    print(index, item)\n",
    "\n",
    "\n",
    "    "
   ]
  },
  {
   "cell_type": "code",
   "execution_count": 10,
   "metadata": {},
   "outputs": [
    {
     "name": "stdout",
     "output_type": "stream",
     "text": [
      "((0, 'hat'), (1, 'scarf'), (2, 'coat'), (3, 'gloves'))\n"
     ]
    }
   ],
   "source": [
    "# enumerate objects can be shown in lists/tuples as well\n",
    "print(tuple(enumerate(items)))"
   ]
  },
  {
   "cell_type": "markdown",
   "metadata": {},
   "source": [
    "### List comprehension\n",
    "- List comprehension is a significantly more efficient approach for writing a For loop that generates or modifies a list.\n",
    "- It is suitable in cases where .append() is applied to a list inside a For loop or where a list is iterated over to modify each index item; otherwise, a For loop is preferred.\n",
    "- Complex For loops operating on a list, such as the BMI calculator, are not suitable for list comprehensions. They would be overly complex and difficult to read.\n",
    "- List comprehensions are written on a single line, and the syntax is as follows:"
   ]
  },
  {
   "cell_type": "code",
   "execution_count": null,
   "metadata": {},
   "outputs": [],
   "source": [
    "# for item in iterable:\n",
    "#     do_something\n",
    "# [do_something for item in iterable]"
   ]
  }
 ],
 "metadata": {
  "kernelspec": {
   "display_name": "Python 3.10.6 ('secondtest_env')",
   "language": "python",
   "name": "python3"
  },
  "language_info": {
   "codemirror_mode": {
    "name": "ipython",
    "version": 3
   },
   "file_extension": ".py",
   "mimetype": "text/x-python",
   "name": "python",
   "nbconvert_exporter": "python",
   "pygments_lexer": "ipython3",
   "version": "3.10.6"
  },
  "orig_nbformat": 4,
  "vscode": {
   "interpreter": {
    "hash": "f7e737508e320864f9730b912236e997794d80e5da8833e77c0e26b9118fc4e5"
   }
  }
 },
 "nbformat": 4,
 "nbformat_minor": 2
}
