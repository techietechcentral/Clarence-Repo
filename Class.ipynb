{
 "cells": [
  {
   "attachments": {},
   "cell_type": "markdown",
   "metadata": {},
   "source": [
    "> In Python, a ***class*** is a blueprint or a template for creating objects, which are instances of the class. \n",
    "> A class ***defines a set of attributes and methods*** that are common to all of its instances.\n",
    "\n",
    "> The attributes of a class are variables that hold information, and the **methods are functions that can access and modify the attributes**. \n",
    "> The methods of a class can be used to perform actions on the attributes, and to interact with other objects.\n",
    "\n",
    "> For example, suppose we want to create a class called Car that represents a car object. **The attributes** of the **Car class** might include the **make, model, color, and year of the car**. \n",
    "> **The methods** might include **starting the car, stopping the car, and changing the car's color**.\n",
    "\n",
    "Here is an example of a simple Car class in Python:"
   ]
  },
  {
   "cell_type": "code",
   "execution_count": 1,
   "metadata": {},
   "outputs": [],
   "source": [
    "class Car:\n",
    "    def __init__(self, make, model, color, year):\n",
    "        self.make = make\n",
    "        self.model = model\n",
    "        self.color = color\n",
    "        self.year = year\n",
    "        \n",
    "    def start(self):\n",
    "        print(\"The car has started.\")\n",
    "        \n",
    "    def stop(self):\n",
    "        print(\"The car has stopped.\")\n",
    "        \n",
    "    def change_color(self, new_color):\n",
    "        self.color = new_color\n",
    "        print(f\"The car's new color is {self.color}.\")"
   ]
  },
  {
   "attachments": {},
   "cell_type": "markdown",
   "metadata": {},
   "source": [
    "> In this example, we define a Car class with ***4 x attributes*** **(make, model, color, and year)** and *** 3 x methods*** **(start, stop, and change_color)**. The __init__ method is a special method that is called when a new instance of the class is created, and it initializes the attributes with the values provided as arguments.\n",
    "\n",
    "> We can create a new instance of the Car class by calling the class name and passing in the necessary arguments:"
   ]
  },
  {
   "cell_type": "code",
   "execution_count": null,
   "metadata": {},
   "outputs": [],
   "source": [
    "my_car = Car(\"Toyota\", \"Corolla\", \"red\", 2020)"
   ]
  },
  {
   "attachments": {},
   "cell_type": "markdown",
   "metadata": {},
   "source": [
    "> We can then access the attributes and methods of the my_car object by using dot notation:\n",
    "> Classes are a powerful tool in object-oriented programming, as they allow us to create complex data structures with custom methods and behaviors."
   ]
  },
  {
   "cell_type": "code",
   "execution_count": null,
   "metadata": {},
   "outputs": [],
   "source": [
    "print(my_car.make) # output: Toyota\n",
    "my_car.start() # output: The car has started.\n",
    "my_car.change_color(\"blue\") # output: The car's new color is blue."
   ]
  }
 ],
 "metadata": {
  "kernelspec": {
   "display_name": "secondtest_env",
   "language": "python",
   "name": "python3"
  },
  "language_info": {
   "codemirror_mode": {
    "name": "ipython",
    "version": 3
   },
   "file_extension": ".py",
   "mimetype": "text/x-python",
   "name": "python",
   "nbconvert_exporter": "python",
   "pygments_lexer": "ipython3",
   "version": "3.10.6"
  },
  "orig_nbformat": 4
 },
 "nbformat": 4,
 "nbformat_minor": 2
}
