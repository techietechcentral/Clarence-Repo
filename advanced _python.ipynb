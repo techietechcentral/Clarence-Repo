{
 "cells": [
  {
   "cell_type": "code",
   "execution_count": 1,
   "metadata": {},
   "outputs": [
    {
     "name": "stdout",
     "output_type": "stream",
     "text": [
      "I am outside the function but inside the example_mododule file\n"
     ]
    }
   ],
   "source": [
    "import example_module"
   ]
  },
  {
   "attachments": {},
   "cell_type": "markdown",
   "metadata": {},
   "source": [
    "#### Module Prefix"
   ]
  },
  {
   "cell_type": "code",
   "execution_count": 2,
   "metadata": {},
   "outputs": [
    {
     "name": "stdout",
     "output_type": "stream",
     "text": [
      "I am inside the function_example.py in the example example_module\n",
      "I am inside the function_example.py in the example example_module\n",
      "None\n",
      "100\n"
     ]
    },
    {
     "data": {
      "text/plain": [
       "'Sponge_Bob'"
      ]
     },
     "execution_count": 2,
     "metadata": {},
     "output_type": "execute_result"
    }
   ],
   "source": [
    "example_module.function_example() # example_module is the called the module prefix\n",
    "\n",
    "print(example_module.function_example())\n",
    "print(example_module.x)\n",
    "example_module.y"
   ]
  },
  {
   "attachments": {},
   "cell_type": "markdown",
   "metadata": {},
   "source": [
    "##### Module prefix helps differentiate between a Code variable and imported Function variable"
   ]
  },
  {
   "cell_type": "code",
   "execution_count": 9,
   "metadata": {},
   "outputs": [
    {
     "name": "stdout",
     "output_type": "stream",
     "text": [
      "Sponge_Bob\n",
      "566\n"
     ]
    }
   ],
   "source": [
    "y = 566\n",
    "print(example_module.y)\n",
    "print(y)"
   ]
  },
  {
   "attachments": {},
   "cell_type": "markdown",
   "metadata": {},
   "source": [
    "##### We can rename the module with the \"As\" statement and even rename variable contained in the import function using the \"from and as statement."
   ]
  },
  {
   "cell_type": "code",
   "execution_count": 22,
   "metadata": {},
   "outputs": [
    {
     "name": "stdout",
     "output_type": "stream",
     "text": [
      "100\n",
      "100\n"
     ]
    }
   ],
   "source": [
    "import example_module as first_module\n",
    "from example_module import x as new_x\n",
    "print(first_module.x)\n",
    "print(new_x)"
   ]
  },
  {
   "attachments": {},
   "cell_type": "markdown",
   "metadata": {},
   "source": [
    "#### if \\_\\_name\\_\\_ == '\\_\\_main\\_\\_':"
   ]
  },
  {
   "cell_type": "code",
   "execution_count": 1,
   "metadata": {},
   "outputs": [
    {
     "name": "stdout",
     "output_type": "stream",
     "text": [
      "This is executed only if example_module is executed directly\n"
     ]
    }
   ],
   "source": [
    "if __name__ == '__main__':\n",
    "    print(\"This is executed only if example_module is executed directly\")"
   ]
  },
  {
   "attachments": {},
   "cell_type": "markdown",
   "metadata": {},
   "source": [
    "- Importing the .py file that contains the if \\_\\_name\\_\\_ == \"\\_\\_main\\_\\_\" means it is not executed directly, therefore the print statement won't run."
   ]
  },
  {
   "cell_type": "code",
   "execution_count": 33,
   "metadata": {},
   "outputs": [
    {
     "name": "stdout",
     "output_type": "stream",
     "text": [
      "I am inside the function_example.py in the example example_module\n"
     ]
    }
   ],
   "source": [
    "from example_module_2 import function_example_2\n",
    "function_example_2()\n"
   ]
  },
  {
   "attachments": {},
   "cell_type": "markdown",
   "metadata": {},
   "source": [
    "#### Practicals\n",
    "\n",
    "#### Import local modules\n",
    "> Download the following zip  file and extract it to your working directory.\n",
    "\n",
    "Inside the import_local folder, you will find four files and a folder called package_1.\n",
    "1. In main.py, import function_1 from module_1 and call it. Test it works by running python main.py in the terminal. You should see the message \"This is function 1 in module 1\"\n",
    "2. Import function_2 from module_1 and call it. Test it works by running python main.py in the terminal. You should see the message \"This is function 2 in module 1\"\n",
    "3. Now, import function_1 from module_2 and call it. Test it works by running python main.py in the terminal. You should see the message \"This is function 1 in module 2\"\n",
    "- Notice that you imported function_1 twice. Which one got called when you ran python main.py? Why?\n",
    "\n",
    "#### Import modules from packages\n",
    "1. In main.py, import function_package() from package_1.module_1 and call it. Test it works by running python main.py in the terminal. You should see the message \"I am in function_package() in package_1/module_1.py\"\n",
    "- Notice that you can import modules that are inside a package, just like you can import modules that are in the same folder as your main file. This makes it easier to organise your code into different files and folders.\n",
    "\n",
    "#### Import variables from modules\n",
    "\n",
    "- Download the following zip  file and extract it to your working directory.\n",
    "\n",
    "Open module_2.py. Check that there is a variable called x in the file. This variable is not inside a function, so it is a global variable and you can access it from any other file.\n",
    "\n",
    "1. In main.py, import x from module_2 and print it. Test that it works by running python main.py in the terminal. You should see the message 'Hello, I am in module 2'\n",
    "2. Now, in main.py, create another variable called x and assign it the value \"Hello, I am in main.py\". Then, print x. Test that it works by running python main.py in the terminal. You should see the message \"Hello, I am in main.py\"\n",
    "- Notice that the value of x has changed now. This is because you overwrote the value of x when running main.py.\n",
    "\n",
    "#### Making changes to Modules\n",
    "\n",
    "- Download the following zip  file and extract it to your working directory.\n",
    "\n",
    "When you change the code in a module, those changes will be effective in all the files that import that module. However, if you are using a notebook, you will need to restart the kernel to see the changes.\n",
    "\n",
    "1. Open main_notebook.ipynb and from module_1, import function_1 and call it. Test it works by running the cell. You should see the message \"This is function 1 in module 1\"\n",
    "2. Now, open module_1.py and change the message to \"This is function 1 in module 1. I have been changed!\". Then, run the cell in main_notebook.ipynb again. You should see the message \"This is function 1 in module 1\"\n",
    "- The message is the same as before, even though you changed it in module_1.py. This is because you imported function_1 before you made the change. If you want to see the changes, you will need to restart the kernel and run the cell again.\n",
    "\n",
    "3. Go back to main_notebook.ipynb and restart the kernel.\n",
    "4. Run the cell again. You should see the message \"This is function 1 in module 1. I have been changed!\"\n",
    "\n",
    "#### import Third party packages\n",
    "\n",
    "- Create a new file called third_party.py.\n",
    "\n",
    "1. In third_party.py, import pandas\n",
    "2. You might see an error message saying that pandas is not installed. If you do, run pip install pandas in the terminal. If you don't see an error message, skip this step.\n",
    "3. Packages are usually imported with an alias. Import pandas as pd and print the version of pandas that you have installed. You can find the version of pandas by running pd.version in the terminal.\n",
    "\n",
    "#### Giving Aliases to modules\n",
    "- There are many 3rd party packages that share the same name for their modules. For example, datetime has a class called time, and there is another package called time that has a module called time.\n",
    "\n",
    "Create a new file called alias.py\n",
    "In alias.py, import time and call time.time(). You should see the current timestamp printed, something like \"1661958068.7087212\"\n",
    "Now, from datetime, import time and call time.time(). You should see an error like: \"AttributeError: type object 'datetime.time' has no attribute 'time'\"\n",
    "Instead of calling time.time(), call time(). You should see a time printed, in this case \"00:00:00\"\n",
    "This is because both time calls are trying to call different functions with the same name. The first time you were calling time.time(), which is a function that returns the current timestamp. The second time you were calling the time() class, which returns an object with the time you specified. If you want to tell them apart, you can give them aliases.\n"
   ]
  },
  {
   "attachments": {},
   "cell_type": "markdown",
   "metadata": {},
   "source": [
    "#### ***if \\_\\_name\\_\\_ == '\\_\\_main\\_\\_'***"
   ]
  },
  {
   "cell_type": "code",
   "execution_count": 40,
   "metadata": {},
   "outputs": [
    {
     "name": "stdout",
     "output_type": "stream",
     "text": [
      "__main__\n"
     ]
    }
   ],
   "source": [
    "print(__name__)"
   ]
  },
  {
   "cell_type": "code",
   "execution_count": 41,
   "metadata": {},
   "outputs": [
    {
     "name": "stdout",
     "output_type": "stream",
     "text": [
      "__main__\n"
     ]
    }
   ],
   "source": [
    "print(\"__main__\")"
   ]
  },
  {
   "attachments": {},
   "cell_type": "markdown",
   "metadata": {},
   "source": [
    "#### Context Manager\n",
    "- 1. Create a Text File Using Context Managers\n",
    "\n",
    "1. Create a new file called context_manager.py\n",
    "2. In context_manager.py, create a context manager that opens a file called test.txt in write mode and writes the message \"Hello, I am a context manager!\" to the file.\n",
    "3. You should see the message \"Hello, I am a context manager!\" in the file test.txt\n",
    "- If you don't close the file, you might not be able to open it again!\n",
    "\n",
    "You can also read the file using context managers.\n",
    "\n",
    "4. In context_manager.py, create a context manager that opens the file test.txt in read mode and prints the contents of the file\n",
    "5. Test that it works by running python context_manager.py in the terminal.\n",
    "6. You should see the message \"Hello, I am a context manager!\" printed in the terminal"
   ]
  },
  {
   "attachments": {},
   "cell_type": "markdown",
   "metadata": {},
   "source": [
    "#### Creating pickle files\n",
    "- "
   ]
  }
 ],
 "metadata": {
  "kernelspec": {
   "display_name": "secondtest_env",
   "language": "python",
   "name": "python3"
  },
  "language_info": {
   "codemirror_mode": {
    "name": "ipython",
    "version": 3
   },
   "file_extension": ".py",
   "mimetype": "text/x-python",
   "name": "python",
   "nbconvert_exporter": "python",
   "pygments_lexer": "ipython3",
   "version": "3.10.6"
  },
  "orig_nbformat": 4
 },
 "nbformat": 4,
 "nbformat_minor": 2
}
