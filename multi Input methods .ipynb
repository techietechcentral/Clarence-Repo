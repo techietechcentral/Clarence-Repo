{
 "cells": [
  {
   "cell_type": "markdown",
   "metadata": {},
   "source": []
  },
  {
   "attachments": {},
   "cell_type": "markdown",
   "metadata": {},
   "source": [
    "#### 4 methods of taking multiple Input()\n",
    "- 1. Using input() function\n",
    "- 2. Using split() function\n",
    "- 3. Using map() function\n",
    "- 4. Using list comprehension"
   ]
  },
  {
   "cell_type": "code",
   "execution_count": null,
   "metadata": {},
   "outputs": [],
   "source": [
    " # taking sinle input() function\n",
    "variable = input(\"Enter your name: \")"
   ]
  },
  {
   "cell_type": "code",
   "execution_count": null,
   "metadata": {},
   "outputs": [],
   "source": [
    "# 1. Using input() function\n",
    "firstname, lastname = input(\"Enter First name: \"), input(\"Enter Last name: \")\n",
    "#print(firstname, lastname)\n",
    "print(firstname) \n",
    "print(lastname)\n"
   ]
  },
  {
   "cell_type": "code",
   "execution_count": null,
   "metadata": {},
   "outputs": [],
   "source": [
    "# 2.Using split() function\n",
    "firstname , lastname = input(\"Enter Full name: \").split() # splits at the 'SPACE' sepearated inputs\n",
    "print(firstname, lastname)\n",
    "#print(firstname) \n",
    "#print(lastname)\n"
   ]
  },
  {
   "cell_type": "code",
   "execution_count": null,
   "metadata": {},
   "outputs": [],
   "source": [
    "firstname,lastname = input(\"Enter Full name: \").split(\",\") # splits at the 'COMMA' sepearated inputs\n",
    "print(firstname,lastname)"
   ]
  },
  {
   "attachments": {},
   "cell_type": "markdown",
   "metadata": {},
   "source": [
    "##### 3. Using map() function\n",
    "##### map(str, input(\"Enter Names: \")split())\n",
    "- Map( is another function that will help us take mutiple iputs from the user. In general, the sytax for map function is map(fun,iter).Her fun is the function tro which the map function passes each iterable."
   ]
  },
  {
   "cell_type": "code",
   "execution_count": null,
   "metadata": {},
   "outputs": [],
   "source": [
    "# 3. Using map() function\n",
    "firstname,middlename,lastname = map(str, input(\"Enter Full name: \").split()) # splits at the 'COMMA' sepearated inputs\n",
    "print(firstname,middlename,lastname)"
   ]
  },
  {
   "attachments": {},
   "cell_type": "markdown",
   "metadata": {},
   "source": [
    "##### 4. Using list comprehension\n",
    "\n",
    "- The sytax for creating a list and storing the input in it is \n",
    "- x,y = [x for x in input(\"Enter two values : \").split()]\n",
    "- split() means users can enter any multiples names by entering space."
   ]
  },
  {
   "cell_type": "code",
   "execution_count": null,
   "metadata": {},
   "outputs": [],
   "source": [
    "firstname,middlename,lastname = [ x for x in input(\"Enter Full name: \").split()] # splits at the 'COMMA' sepearated inputs\n",
    "print(firstname,middlename,lastname)"
   ]
  },
  {
   "cell_type": "code",
   "execution_count": null,
   "metadata": {},
   "outputs": [],
   "source": [
    "dictn = {'name':'Bob','age':45,'fav_colour':'blue'}\n",
    "for i in dictn:\n",
    "    print(i)\n",
    "    print(i, dictn[i])"
   ]
  }
 ],
 "metadata": {
  "kernelspec": {
   "display_name": "secondtest_env",
   "language": "python",
   "name": "python3"
  },
  "language_info": {
   "codemirror_mode": {
    "name": "ipython",
    "version": 3
   },
   "file_extension": ".py",
   "mimetype": "text/x-python",
   "name": "python",
   "nbconvert_exporter": "python",
   "pygments_lexer": "ipython3",
   "version": "3.10.6"
  },
  "orig_nbformat": 4,
  "vscode": {
   "interpreter": {
    "hash": "f7e737508e320864f9730b912236e997794d80e5da8833e77c0e26b9118fc4e5"
   }
  }
 },
 "nbformat": 4,
 "nbformat_minor": 2
}
