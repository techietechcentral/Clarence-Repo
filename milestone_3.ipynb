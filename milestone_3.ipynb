{
 "cells": [
  {
   "attachments": {},
   "cell_type": "markdown",
   "metadata": {},
   "source": [
    "##### Milestone 3. \n",
    "- Task 1\n",
    "- Write code that will continuously ask the user for a letter and validate it.\n",
    "- Create a new script called milestone_3.py. This file will contain the code for this milestone.\n",
    "\n",
    "- Step 1. Create a while loop and set the condition to True. Setting the condition to True ensures that the code run continuously. In the body of the loop, write the code required for the following steps.\n",
    "\n",
    "- Step 2: Ask the user to guess a letter and assign this to a variable called guess.\n",
    "\n",
    "- Step 3. Check that the guess is a single, alphabetical character.\n",
    "\n",
    "- Step 4. If the guess passes the checks, break out of the loop.\n",
    "\n",
    "Step 5: If the guess does not pass the checks, then print a message saying \"Invalid letter. Please, enter a single alphabetical character.\""
   ]
  },
  {
   "attachments": {},
   "cell_type": "markdown",
   "metadata": {},
   "source": [
    "#### Milestone 3 Task 1"
   ]
  },
  {
   "cell_type": "code",
   "execution_count": null,
   "metadata": {},
   "outputs": [],
   "source": [
    "'''Rev 3.1 - This code continuously ask the user for a letter and validate it.\n",
    "If the guess passes the checks code stops the loop by breaking out of the loop.\n",
    "If the guess does not pass the checks, then print a message saying/printing\n",
    "\"Invalid letter. Please, enter a single alphabetical character.\"'''\n",
    "\n",
    "\n",
    "mylist = [\"blue\", \"car\", 'horse', 'titanium', 'composite']\n",
    "import random\n",
    "random.choice(mylist)\n",
    "word = random.choice(mylist)\n",
    "\n",
    "while True:\n",
    "    guess = input('Please, enter a single alphabetical character :')\n",
    "    if guess.isalpha() == True and len(guess) == 1 and guess != int:\n",
    "        break\n",
    "    else:\n",
    "        print(\"Invalid letter. Please, enter a single alphabetical character.\")"
   ]
  },
  {
   "attachments": {},
   "cell_type": "markdown",
   "metadata": {},
   "source": [
    "### Milestone 3 Task 2"
   ]
  },
  {
   "cell_type": "code",
   "execution_count": null,
   "metadata": {},
   "outputs": [
    {
     "name": "stdout",
     "output_type": "stream",
     "text": [
      "titanium is the radom word in question\n",
      "Sorry, 2 is not in titanium. Try again.\n"
     ]
    }
   ],
   "source": [
    "'''Rev 3.2 - Check whether the letter guessed by the user is in the secret word that was \n",
    "randomly chosen by the computer'''\n",
    "mylist = [\"blue\", \"car\", 'horse', 'titanium', 'composite']\n",
    "import random\n",
    "random.choice(mylist)\n",
    "word = random.choice(mylist)\n",
    "print(f'{word} is the radom word in question')\n",
    "\n",
    "guess = input('Please, enter a single alphabetical character: ')\n",
    "while guess == guess in word:\n",
    "    if len(guess) == 0:\n",
    "        guess = input('Please, enter a single alphabetical character: ')\n",
    "    elif (len(guess) == 1) and guess.isalpha() == True:\n",
    "        print(f'Good guess! {guess} is in {word}.')\n",
    "        break    \n",
    "else:\n",
    "    print(f'Sorry, {guess} is not in {word}. Try again.')\n",
    "    "
   ]
  },
  {
   "attachments": {},
   "cell_type": "markdown",
   "metadata": {},
   "source": [
    "### Milestone 3 Task 3\n",
    "- Create 2 functions, check_guess and ask_for_input functions which contain the code for those two things.The check_guess function will take the guessed letter as an argument and check if the letter is in the word.\n",
    "- Step 1: Define a function called check_guess. pass in the guess as a parameter for the function. Write the code for the following steps in the body of this function.\n",
    "- Step 2: Convert the guess into lower case.\n",
    "- Step 3. Move the code that you wrote to check if the guess is in the word into this function block.\n",
    "\n",
    "##### The ask_for_input.\n",
    "\n",
    "- Step 1. Define a function called ask_for_input.\n",
    "-Step 2. Move the code that you wrote in the Iteratively check if the input is a valid guess task into this function block.\n",
    "- Step 3. Outside the while loop, but within this function, call the check_guess function to check if the guess is in the word. Don't forget to pass in the guess as an argument to the method.\n",
    "- Step 4. Outside the function, call the ask_for_input function to test your code."
   ]
  },
  {
   "cell_type": "code",
   "execution_count": 1,
   "metadata": {},
   "outputs": [
    {
     "name": "stdout",
     "output_type": "stream",
     "text": [
      "blue is the radom word in question\n",
      "Sorry, v is not in blue. Try again.\n"
     ]
    }
   ],
   "source": [
    "'''Rev 3.4 - this function Checks whether the letter guessed by the user is in the secret word that was \n",
    "randomly chosen by the computer (Milestone 3 task 2). \n",
    "Capital Letters have now been introduced as valid inputs in this version'''\n",
    "\n",
    "mylist = [\"blue\", \"car\", 'horse', 'titanium', 'composite']\n",
    "\n",
    "def check_guess(): \n",
    "    import random\n",
    "    random.choice(mylist)\n",
    "    word = random.choice(mylist)\n",
    "    print(f'{word} is the radom word in question')\n",
    "\n",
    "    guess = (input('Please, enter a single alphabetical character: ')).lower()\n",
    "    while guess == guess in word:\n",
    "        if len(guess) == 0:\n",
    "            guess = input('Please, enter a single alphabetical character: ').lower()\n",
    "        elif (len(guess) == 1) and guess.isalpha() == True:\n",
    "            print(f'Good guess! {guess} is in {word}.')\n",
    "            break    # this controls the loop depending on indent\n",
    "    else:\n",
    "        print(f'Sorry, {guess} is not in {word}. Try again.')\n",
    "\n",
    "check_guess()"
   ]
  },
  {
   "cell_type": "code",
   "execution_count": 2,
   "metadata": {},
   "outputs": [
    {
     "name": "stdout",
     "output_type": "stream",
     "text": [
      "composite is the radom word in question\n",
      "Good guess! c is in composite.\n"
     ]
    }
   ],
   "source": [
    "check_guess()"
   ]
  }
 ],
 "metadata": {
  "kernelspec": {
   "display_name": "Python 3.10.6 ('secondtest_env')",
   "language": "python",
   "name": "python3"
  },
  "language_info": {
   "codemirror_mode": {
    "name": "ipython",
    "version": 3
   },
   "file_extension": ".py",
   "mimetype": "text/x-python",
   "name": "python",
   "nbconvert_exporter": "python",
   "pygments_lexer": "ipython3",
   "version": "3.10.6"
  },
  "orig_nbformat": 4,
  "vscode": {
   "interpreter": {
    "hash": "f7e737508e320864f9730b912236e997794d80e5da8833e77c0e26b9118fc4e5"
   }
  }
 },
 "nbformat": 4,
 "nbformat_minor": 2
}
